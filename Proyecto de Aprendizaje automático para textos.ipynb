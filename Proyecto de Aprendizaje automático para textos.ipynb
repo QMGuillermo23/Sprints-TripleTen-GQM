{
 "cells": [
  {
   "cell_type": "markdown",
   "metadata": {},
   "source": [
    "# Descripcipción del proyecto"
   ]
  },
  {
   "cell_type": "markdown",
   "metadata": {},
   "source": [
    "Hola Guillermo!\n",
    "\n",
    "Soy **Patricio Requena** 👋. Es un placer ser el revisor de tu proyecto el día de hoy!\n",
    "\n",
    "Revisaré tu proyecto detenidamente con el objetivo de ayudarte a mejorar y perfeccionar tus habilidades. Durante mi revisión, identificaré áreas donde puedas hacer mejoras en tu código, señalando específicamente qué y cómo podrías ajustar para optimizar el rendimiento y la claridad de tu proyecto. Además, es importante para mí destacar los aspectos que has manejado excepcionalmente bien. Reconocer tus fortalezas te ayudará a entender qué técnicas y métodos están funcionando a tu favor y cómo puedes aplicarlos en futuras tareas. \n",
    "\n",
    "_**Recuerda que al final de este notebook encontrarás un comentario general de mi parte**_, empecemos!\n",
    "\n",
    "Encontrarás mis comentarios dentro de cajas verdes, amarillas o rojas, ⚠️ **por favor, no muevas, modifiques o borres mis comentarios** ⚠️:\n",
    "\n",
    "\n",
    "<div class=\"alert alert-block alert-success\">\n",
    "<b>Comentario del revisor</b> <a class=“tocSkip”></a>\n",
    "Si todo está perfecto.\n",
    "</div>\n",
    "\n",
    "<div class=\"alert alert-block alert-warning\">\n",
    "<b>Comentario del revisor</b> <a class=“tocSkip”></a>\n",
    "Si tu código está bien pero se puede mejorar o hay algún detalle que le hace falta.\n",
    "</div>\n",
    "\n",
    "<div class=\"alert alert-block alert-danger\">\n",
    "<b>Comentario del revisor</b> <a class=“tocSkip”></a>\n",
    "Si de pronto hace falta algo o existe algún problema con tu código o conclusiones.\n",
    "</div>\n",
    "\n",
    "Puedes responderme de esta forma:\n",
    "<div class=\"alert alert-block alert-info\">\n",
    "<b>Respuesta del estudiante</b> <a class=“tocSkip”></a>\n",
    "</div>"
   ]
  },
  {
   "cell_type": "markdown",
   "metadata": {},
   "source": [
    "Film Junky Union, una nueva comunidad vanguardista para los aficionados de las películas clásicas, está desarrollando un sistema para filtrar y categorizar reseñas de películas. Tu objetivo es entrenar un modelo para detectar las críticas negativas de forma automática. Para lograrlo, utilizarás un conjunto de datos de reseñas de películas de IMDB con leyendas de polaridad para construir un modelo para clasificar las reseñas positivas y negativas. Este deberá alcanzar un valor F1 de al menos 0.85."
   ]
  },
  {
   "cell_type": "markdown",
   "metadata": {},
   "source": [
    "<div class=\"alert alert-block alert-info\">\n",
    "<b>Respuesta del estudiante: \n",
    "    ESPERO QUE ESTE BIEN POR QUE NO FUE FACIL\n",
    "    </b> <a class=“tocSkip”></a>\n",
    "</div>"
   ]
  },
  {
   "cell_type": "markdown",
   "metadata": {},
   "source": [
    "## INTRODUCCIÓN"
   ]
  },
  {
   "cell_type": "markdown",
   "metadata": {},
   "source": [
    "El objetivo del proyecto para Film Junky Union es desarrollar un modelo capaz de detectar automáticamente reseñas negativas de películas. Para lograrlo, realizamos una serie de pasos que incluyen la carga y el preprocesamiento de datos, un análisis exploratorio, la implementación y evaluación de varios modelos de clasificación, y finalmente, la evaluación del modelo con reseñas propias."
   ]
  },
  {
   "cell_type": "markdown",
   "metadata": {},
   "source": [
    "## Inicialización"
   ]
  },
  {
   "cell_type": "code",
   "execution_count": 1,
   "metadata": {},
   "outputs": [],
   "source": [
    "import math\n",
    "\n",
    "import numpy as np\n",
    "import pandas as pd\n",
    "\n",
    "import matplotlib\n",
    "import matplotlib.pyplot as plt\n",
    "import matplotlib.dates as mdates\n",
    "import seaborn as sns\n",
    "\n",
    "from tqdm.auto import tqdm\n",
    "\n",
    "import sklearn.metrics as metrics\n",
    "from sklearn.dummy import DummyClassifier\n",
    "from sklearn.model_selection import train_test_split\n",
    "import nltk\n",
    "\n",
    "from sklearn.feature_extraction.text import TfidfVectorizer\n",
    "from sklearn.linear_model import LogisticRegression\n",
    "\n",
    "from nltk.corpus import stopwords\n",
    "\n",
    "from lightgbm import LGBMClassifier\n",
    "\n",
    "import spacy\n",
    "\n",
    "import torch\n",
    "import transformers\n",
    "\n",
    "from sklearn.metrics import classification_report\n",
    "from sklearn.pipeline import Pipeline\n",
    "import re\n",
    "import string\n"
   ]
  },
  {
   "cell_type": "code",
   "execution_count": 2,
   "metadata": {},
   "outputs": [],
   "source": [
    "%matplotlib inline\n",
    "%config InlineBackend.figure_format = 'png'\n",
    "# la siguiente línea proporciona gráficos de mejor calidad en pantallas HiDPI\n",
    "# %config InlineBackend.figure_format = 'retina'\n",
    "\n",
    "plt.style.use('seaborn')"
   ]
  },
  {
   "cell_type": "code",
   "execution_count": 3,
   "metadata": {},
   "outputs": [],
   "source": [
    "# esto es para usar progress_apply, puedes leer más en https://pypi.org/project/tqdm/#pandas-integration\n",
    "tqdm.pandas()"
   ]
  },
  {
   "cell_type": "markdown",
   "metadata": {},
   "source": [
    "## Cargar datos"
   ]
  },
  {
   "cell_type": "code",
   "execution_count": 4,
   "metadata": {},
   "outputs": [],
   "source": [
    "df_reviews = pd.read_csv('/datasets/imdb_reviews.tsv', sep='\\t', dtype={'votes': 'Int64'})"
   ]
  },
  {
   "cell_type": "code",
   "execution_count": 5,
   "metadata": {},
   "outputs": [
    {
     "name": "stdout",
     "output_type": "stream",
     "text": [
      "      tconst title_type primary_title original_title  start_year end_year  \\\n",
      "0  tt0068152      movie             $              $        1971       \\N   \n",
      "1  tt0068152      movie             $              $        1971       \\N   \n",
      "2  tt0313150      short          '15'           '15'        2002       \\N   \n",
      "3  tt0313150      short          '15'           '15'        2002       \\N   \n",
      "4  tt0313150      short          '15'           '15'        2002       \\N   \n",
      "\n",
      "  runtime_minutes  is_adult              genres  average_rating  votes  \\\n",
      "0             121         0  Comedy,Crime,Drama             6.3   2218   \n",
      "1             121         0  Comedy,Crime,Drama             6.3   2218   \n",
      "2              25         0  Comedy,Drama,Short             6.3    184   \n",
      "3              25         0  Comedy,Drama,Short             6.3    184   \n",
      "4              25         0  Comedy,Drama,Short             6.3    184   \n",
      "\n",
      "                                              review  rating   sp  pos  \\\n",
      "0  The pakage implies that Warren Beatty and Gold...       1  neg    0   \n",
      "1  How the hell did they get this made?! Presenti...       1  neg    0   \n",
      "2  There is no real story the film seems more lik...       3  neg    0   \n",
      "3  Um .... a serious film about troubled teens in...       7  pos    1   \n",
      "4  I'm totally agree with GarryJohal from Singapo...       9  pos    1   \n",
      "\n",
      "  ds_part   idx  \n",
      "0   train  8335  \n",
      "1   train  8336  \n",
      "2    test  2489  \n",
      "3    test  9280  \n",
      "4    test  9281  \n"
     ]
    }
   ],
   "source": [
    "print(df_reviews.head())"
   ]
  },
  {
   "cell_type": "code",
   "execution_count": 6,
   "metadata": {},
   "outputs": [
    {
     "name": "stdout",
     "output_type": "stream",
     "text": [
      "<class 'pandas.core.frame.DataFrame'>\n",
      "RangeIndex: 47331 entries, 0 to 47330\n",
      "Data columns (total 17 columns):\n",
      " #   Column           Non-Null Count  Dtype  \n",
      "---  ------           --------------  -----  \n",
      " 0   tconst           47331 non-null  object \n",
      " 1   title_type       47331 non-null  object \n",
      " 2   primary_title    47331 non-null  object \n",
      " 3   original_title   47331 non-null  object \n",
      " 4   start_year       47331 non-null  int64  \n",
      " 5   end_year         47331 non-null  object \n",
      " 6   runtime_minutes  47331 non-null  object \n",
      " 7   is_adult         47331 non-null  int64  \n",
      " 8   genres           47331 non-null  object \n",
      " 9   average_rating   47329 non-null  float64\n",
      " 10  votes            47329 non-null  Int64  \n",
      " 11  review           47331 non-null  object \n",
      " 12  rating           47331 non-null  int64  \n",
      " 13  sp               47331 non-null  object \n",
      " 14  pos              47331 non-null  int64  \n",
      " 15  ds_part          47331 non-null  object \n",
      " 16  idx              47331 non-null  int64  \n",
      "dtypes: Int64(1), float64(1), int64(5), object(10)\n",
      "memory usage: 6.2+ MB\n",
      "None\n"
     ]
    }
   ],
   "source": [
    "print(df_reviews.info())"
   ]
  },
  {
   "cell_type": "code",
   "execution_count": 7,
   "metadata": {},
   "outputs": [
    {
     "name": "stdout",
     "output_type": "stream",
     "text": [
      "Index(['tconst', 'title_type', 'primary_title', 'original_title', 'start_year',\n",
      "       'end_year', 'runtime_minutes', 'is_adult', 'genres', 'average_rating',\n",
      "       'votes', 'review', 'rating', 'sp', 'pos', 'ds_part', 'idx'],\n",
      "      dtype='object')\n"
     ]
    }
   ],
   "source": [
    "print(df_reviews.columns)"
   ]
  },
  {
   "cell_type": "code",
   "execution_count": null,
   "metadata": {},
   "outputs": [],
   "source": []
  },
  {
   "cell_type": "markdown",
   "metadata": {},
   "source": [
    "La carga de datos fue exitosa y estamos listos para proceder con el análisis exploratorio."
   ]
  },
  {
   "cell_type": "markdown",
   "metadata": {},
   "source": [
    "## EDA"
   ]
  },
  {
   "cell_type": "markdown",
   "metadata": {},
   "source": [
    "Veamos el número de películas y reseñas a lo largo de los años."
   ]
  },
  {
   "cell_type": "code",
   "execution_count": 8,
   "metadata": {},
   "outputs": [
    {
     "data": {
      "image/png": "[encoded data removed]",
      "text/plain": [
       "<Figure size 1600x800 with 3 Axes>"
      ]
     },
     "metadata": {},
     "output_type": "display_data"
    }
   ],
   "source": [
    "fig, axs = plt.subplots(2, 1, figsize=(16, 8))\n",
    "\n",
    "ax = axs[0]\n",
    "\n",
    "dft1 = df_reviews[['tconst', 'start_year']].drop_duplicates() \\\n",
    "    ['start_year'].value_counts().sort_index()\n",
    "dft1 = dft1.reindex(index=np.arange(dft1.index.min(), max(dft1.index.max(), 2021))).fillna(0)\n",
    "dft1.plot(kind='bar', ax=ax)\n",
    "ax.set_title('Número de películas a lo largo de los años')\n",
    "\n",
    "ax = axs[1]\n",
    "\n",
    "dft2 = df_reviews.groupby(['start_year', 'pos'])['pos'].count().unstack()\n",
    "dft2 = dft2.reindex(index=np.arange(dft2.index.min(), max(dft2.index.max(), 2021))).fillna(0)\n",
    "\n",
    "dft2.plot(kind='bar', stacked=True, label='#reviews (neg, pos)', ax=ax)\n",
    "\n",
    "dft2 = df_reviews['start_year'].value_counts().sort_index()\n",
    "dft2 = dft2.reindex(index=np.arange(dft2.index.min(), max(dft2.index.max(), 2021))).fillna(0)\n",
    "dft3 = (dft2/dft1).fillna(0)\n",
    "axt = ax.twinx()\n",
    "dft3.reset_index(drop=True).rolling(5).mean().plot(color='orange', label='reviews per movie (avg over 5 years)', ax=axt)\n",
    "\n",
    "lines, labels = axt.get_legend_handles_labels()\n",
    "ax.legend(lines, labels, loc='upper left')\n",
    "\n",
    "ax.set_title('Número de reseñas a lo largo de los años')\n",
    "\n",
    "fig.tight_layout()"
   ]
  },
  {
   "cell_type": "markdown",
   "metadata": {},
   "source": [
    "@ El primer gráfico muestra la cantidad de películas producidas en cada año. Este gráfico es útil para identificar períodos de aumento o disminución en la producción cinematográfica. \n",
    "\n",
    "@ El segudno gráfica apilado presenta la distribución de reseñas positivas y negativas a lo largo de los años, revelando cómo la participación del público ha cambiado con el tiempo. \n",
    "\n",
    "@ Esta visualización nos permite entender la relación entre la cantidad de películas producidas y el nivel de interacción del público a lo largo de las décadas."
   ]
  },
  {
   "cell_type": "markdown",
   "metadata": {},
   "source": [
    "Veamos la distribución del número de reseñas por película con el conteo exacto y KDE (solo para saber cómo puede diferir del conteo exacto)"
   ]
  },
  {
   "cell_type": "code",
   "execution_count": 9,
   "metadata": {},
   "outputs": [
    {
     "data": {
      "image/png": "[encoded data removed]",
      "text/plain": [
       "<Figure size 1600x500 with 2 Axes>"
      ]
     },
     "metadata": {},
     "output_type": "display_data"
    }
   ],
   "source": [
    "fig, axs = plt.subplots(1, 2, figsize=(16, 5))\n",
    "\n",
    "ax = axs[0]\n",
    "dft = df_reviews.groupby('tconst')['review'].count() \\\n",
    "    .value_counts() \\\n",
    "    .sort_index()\n",
    "dft.plot.bar(ax=ax)\n",
    "ax.set_title('Gráfico de barras de #Reseñas por película')\n",
    "\n",
    "ax = axs[1]\n",
    "dft = df_reviews.groupby('tconst')['review'].count()\n",
    "sns.kdeplot(dft, ax=ax)\n",
    "ax.set_title('Gráfico KDE de #Reseñas por película')\n",
    "\n",
    "fig.tight_layout()"
   ]
  },
  {
   "cell_type": "markdown",
   "metadata": {},
   "source": [
    "@ El primer gráfico de barras muestra la distribución del número de reseñas por película, permitiendo observar cuántas películas tienen una cantidad específica de reseñas.\n",
    "\n",
    "@ El gráfico KDE complementa esta información mostrando la densidad de la distribución del número de reseñas por película. Si la curva KDE es alta y estrecha en un rango bajo, indica que la mayoría de las películas tienen un número bajo de reseñas."
   ]
  },
  {
   "cell_type": "code",
   "execution_count": 10,
   "metadata": {},
   "outputs": [
    {
     "data": {
      "text/plain": [
       "0    23715\n",
       "1    23616\n",
       "Name: pos, dtype: int64"
      ]
     },
     "execution_count": 10,
     "metadata": {},
     "output_type": "execute_result"
    }
   ],
   "source": [
    "df_reviews['pos'].value_counts()"
   ]
  },
  {
   "cell_type": "markdown",
   "metadata": {},
   "source": [
    "@ El resultado de este conteo proporciona información clave sobre el balance de clases en nuestro conjunto de datos. Si las clases están desbalanceadas (es decir, hay una cantidad significativamente mayor de reseñas positivas que negativas, o viceversa), esto podría afectar el rendimiento de los modelos de clasificación."
   ]
  },
  {
   "cell_type": "code",
   "execution_count": 11,
   "metadata": {},
   "outputs": [
    {
     "data": {
      "image/png": "[encoded data removed]",
      "text/plain": [
       "<Figure size 1200x400 with 2 Axes>"
      ]
     },
     "metadata": {},
     "output_type": "display_data"
    }
   ],
   "source": [
    "fig, axs = plt.subplots(1, 2, figsize=(12, 4))\n",
    "\n",
    "ax = axs[0]\n",
    "dft = df_reviews.query('ds_part == \"train\"')['rating'].value_counts().sort_index()\n",
    "dft = dft.reindex(index=np.arange(min(dft.index.min(), 1), max(dft.index.max(), 11))).fillna(0)\n",
    "dft.plot.bar(ax=ax)\n",
    "ax.set_ylim([0, 5000])\n",
    "ax.set_title('El conjunto de entrenamiento: distribución de puntuaciones')\n",
    "\n",
    "ax = axs[1]\n",
    "dft = df_reviews.query('ds_part == \"test\"')['rating'].value_counts().sort_index()\n",
    "dft = dft.reindex(index=np.arange(min(dft.index.min(), 1), max(dft.index.max(), 11))).fillna(0)\n",
    "dft.plot.bar(ax=ax)\n",
    "ax.set_ylim([0, 5000])\n",
    "ax.set_title('El conjunto de prueba: distribución de puntuaciones')\n",
    "\n",
    "fig.tight_layout()"
   ]
  },
  {
   "cell_type": "markdown",
   "metadata": {},
   "source": [
    "@ Esta visualización confirma que los datos de entrenamiento y prueba tienen distribuciones similares, lo que debería ayudar a garantizar que el modelo entrenado sea robusto y se generalice bien en datos no vistos."
   ]
  },
  {
   "cell_type": "markdown",
   "metadata": {},
   "source": [
    "Distribución de reseñas negativas y positivas a lo largo de los años para dos partes del conjunto de datos"
   ]
  },
  {
   "cell_type": "code",
   "execution_count": 12,
   "metadata": {},
   "outputs": [
    {
     "name": "stderr",
     "output_type": "stream",
     "text": [
      "/opt/conda/envs/python3/lib/python3.9/site-packages/seaborn/distributions.py:1666: UserWarning: Support for alternate kernels has been removed. Using Gaussian kernel.\n",
      "  warnings.warn(msg, UserWarning)\n",
      "/opt/conda/envs/python3/lib/python3.9/site-packages/seaborn/distributions.py:1666: UserWarning: Support for alternate kernels has been removed. Using Gaussian kernel.\n",
      "  warnings.warn(msg, UserWarning)\n",
      "/opt/conda/envs/python3/lib/python3.9/site-packages/seaborn/distributions.py:1666: UserWarning: Support for alternate kernels has been removed. Using Gaussian kernel.\n",
      "  warnings.warn(msg, UserWarning)\n",
      "/opt/conda/envs/python3/lib/python3.9/site-packages/seaborn/distributions.py:1666: UserWarning: Support for alternate kernels has been removed. Using Gaussian kernel.\n",
      "  warnings.warn(msg, UserWarning)\n"
     ]
    },
    {
     "data": {
      "image/png": "[encoded data removed]",
      "text/plain": [
       "<Figure size 1600x800 with 4 Axes>"
      ]
     },
     "metadata": {},
     "output_type": "display_data"
    }
   ],
   "source": [
    "fig, axs = plt.subplots(2, 2, figsize=(16, 8), gridspec_kw=dict(width_ratios=(2, 1), height_ratios=(1, 1)))\n",
    "\n",
    "ax = axs[0][0]\n",
    "\n",
    "dft = df_reviews.query('ds_part == \"train\"').groupby(['start_year', 'pos'])['pos'].count().unstack()\n",
    "dft.index = dft.index.astype('int')\n",
    "dft = dft.reindex(index=np.arange(dft.index.min(), max(dft.index.max(), 2020))).fillna(0)\n",
    "dft.plot(kind='bar', stacked=True, ax=ax)\n",
    "ax.set_title('El conjunto de entrenamiento: número de reseñas de diferentes polaridades por año')\n",
    "\n",
    "ax = axs[0][1]\n",
    "\n",
    "dft = df_reviews.query('ds_part == \"train\"').groupby(['tconst', 'pos'])['pos'].count().unstack()\n",
    "sns.kdeplot(dft[0], color='blue', label='negative', kernel='epa', ax=ax)\n",
    "sns.kdeplot(dft[1], color='green', label='positive', kernel='epa', ax=ax)\n",
    "ax.legend()\n",
    "ax.set_title('El conjunto de entrenamiento: distribución de diferentes polaridades por película')\n",
    "\n",
    "ax = axs[1][0]\n",
    "\n",
    "dft = df_reviews.query('ds_part == \"test\"').groupby(['start_year', 'pos'])['pos'].count().unstack()\n",
    "dft.index = dft.index.astype('int')\n",
    "dft = dft.reindex(index=np.arange(dft.index.min(), max(dft.index.max(), 2020))).fillna(0)\n",
    "dft.plot(kind='bar', stacked=True, ax=ax)\n",
    "ax.set_title('El conjunto de prueba: número de reseñas de diferentes polaridades por año')\n",
    "\n",
    "ax = axs[1][1]\n",
    "\n",
    "dft = df_reviews.query('ds_part == \"test\"').groupby(['tconst', 'pos'])['pos'].count().unstack()\n",
    "sns.kdeplot(dft[0], color='blue', label='negative', kernel='epa', ax=ax)\n",
    "sns.kdeplot(dft[1], color='green', label='positive', kernel='epa', ax=ax)\n",
    "ax.legend()\n",
    "ax.set_title('El conjunto de prueba: distribución de diferentes polaridades por película')\n",
    "\n",
    "fig.tight_layout()"
   ]
  },
  {
   "cell_type": "markdown",
   "metadata": {},
   "source": [
    "@ Los gráficos de barras muestran la distribución temporal de reseñas, que puede ayudar a identificar cualquier sesgo temporal en los datos.\n",
    "\n",
    "@Los gráficos KDE proporcionan una visión de cómo se distribuyen las reseñas positivas y negativas para cada película, lo que es útil para entender el balance de polaridades y ajustar los modelos en consecuencia."
   ]
  },
  {
   "cell_type": "code",
   "execution_count": null,
   "metadata": {},
   "outputs": [],
   "source": []
  },
  {
   "cell_type": "markdown",
   "metadata": {},
   "source": [
    "<div class=\"alert alert-block alert-danger\">\n",
    "<b>Comentario del revisor (1ra Iteracion)</b> <a class=“tocSkip”></a>\n",
    "\n",
    "Correcto! Recuerda que el EDA es para entender mejor nuestros datos, por lo que te recomendaría redactar conclusiones luego de cada proceso realizado sobre lo que se puede interpretar sobre cada visualización\n",
    "</div>"
   ]
  },
  {
   "cell_type": "markdown",
   "metadata": {},
   "source": [
    "## Procedimiento de evaluación"
   ]
  },
  {
   "cell_type": "markdown",
   "metadata": {},
   "source": [
    "Composición de una rutina de evaluación que se pueda usar para todos los modelos en este proyecto"
   ]
  },
  {
   "cell_type": "code",
   "execution_count": 13,
   "metadata": {},
   "outputs": [],
   "source": [
    "def evaluate_model(model, train_features, train_target, test_features, test_target):\n",
    "    \n",
    "    eval_stats = {}\n",
    "    \n",
    "    fig, axs = plt.subplots(1, 3, figsize=(20, 6)) \n",
    "    \n",
    "    for type, features, target in (('train', train_features, train_target), ('test', test_features, test_target)):\n",
    "        \n",
    "        eval_stats[type] = {}\n",
    "    \n",
    "        pred_target = model.predict(features)\n",
    "        pred_proba = model.predict_proba(features)[:, 1]\n",
    "        \n",
    "        # F1\n",
    "        f1_thresholds = np.arange(0, 1.01, 0.05)\n",
    "        f1_scores = [metrics.f1_score(target, pred_proba>=threshold) for threshold in f1_thresholds]\n",
    "        \n",
    "        # ROC\n",
    "        fpr, tpr, roc_thresholds = metrics.roc_curve(target, pred_proba)\n",
    "        roc_auc = metrics.roc_auc_score(target, pred_proba)    \n",
    "        eval_stats[type]['ROC AUC'] = roc_auc\n",
    "\n",
    "        # PRC\n",
    "        precision, recall, pr_thresholds = metrics.precision_recall_curve(target, pred_proba)\n",
    "        aps = metrics.average_precision_score(target, pred_proba)\n",
    "        eval_stats[type]['APS'] = aps\n",
    "        \n",
    "        if type == 'train':\n",
    "            color = 'blue'\n",
    "        else:\n",
    "            color = 'green'\n",
    "\n",
    "        # Valor F1\n",
    "        ax = axs[0]\n",
    "        max_f1_score_idx = np.argmax(f1_scores)\n",
    "        ax.plot(f1_thresholds, f1_scores, color=color, label=f'{type}, max={f1_scores[max_f1_score_idx]:.2f} @ {f1_thresholds[max_f1_score_idx]:.2f}')\n",
    "        # establecer cruces para algunos umbrales        \n",
    "        for threshold in (0.2, 0.4, 0.5, 0.6, 0.8):\n",
    "            closest_value_idx = np.argmin(np.abs(f1_thresholds-threshold))\n",
    "            marker_color = 'orange' if threshold != 0.5 else 'red'\n",
    "            ax.plot(f1_thresholds[closest_value_idx], f1_scores[closest_value_idx], color=marker_color, marker='X', markersize=7)\n",
    "        ax.set_xlim([-0.02, 1.02])    \n",
    "        ax.set_ylim([-0.02, 1.02])\n",
    "        ax.set_xlabel('threshold')\n",
    "        ax.set_ylabel('F1')\n",
    "        ax.legend(loc='lower center')\n",
    "        ax.set_title(f'Valor F1') \n",
    "\n",
    "        # ROC\n",
    "        ax = axs[1]    \n",
    "        ax.plot(fpr, tpr, color=color, label=f'{type}, ROC AUC={roc_auc:.2f}')\n",
    "        # establecer cruces para algunos umbrales        \n",
    "        for threshold in (0.2, 0.4, 0.5, 0.6, 0.8):\n",
    "            closest_value_idx = np.argmin(np.abs(roc_thresholds-threshold))\n",
    "            marker_color = 'orange' if threshold != 0.5 else 'red'            \n",
    "            ax.plot(fpr[closest_value_idx], tpr[closest_value_idx], color=marker_color, marker='X', markersize=7)\n",
    "        ax.plot([0, 1], [0, 1], color='grey', linestyle='--')\n",
    "        ax.set_xlim([-0.02, 1.02])    \n",
    "        ax.set_ylim([-0.02, 1.02])\n",
    "        ax.set_xlabel('FPR')\n",
    "        ax.set_ylabel('TPR')\n",
    "        ax.legend(loc='lower center')        \n",
    "        ax.set_title(f'Curva ROC')\n",
    "        \n",
    "        # PRC\n",
    "        ax = axs[2]\n",
    "        ax.plot(recall, precision, color=color, label=f'{type}, AP={aps:.2f}')\n",
    "        # establecer cruces para algunos umbrales        \n",
    "        for threshold in (0.2, 0.4, 0.5, 0.6, 0.8):\n",
    "            closest_value_idx = np.argmin(np.abs(pr_thresholds-threshold))\n",
    "            marker_color = 'orange' if threshold != 0.5 else 'red'\n",
    "            ax.plot(recall[closest_value_idx], precision[closest_value_idx], color=marker_color, marker='X', markersize=7)\n",
    "        ax.set_xlim([-0.02, 1.02])    \n",
    "        ax.set_ylim([-0.02, 1.02])\n",
    "        ax.set_xlabel('recall')\n",
    "        ax.set_ylabel('precision')\n",
    "        ax.legend(loc='lower center')\n",
    "        ax.set_title(f'PRC')        \n",
    "\n",
    "        eval_stats[type]['Accuracy'] = metrics.accuracy_score(target, pred_target)\n",
    "        eval_stats[type]['F1'] = metrics.f1_score(target, pred_target)\n",
    "    \n",
    "    df_eval_stats = pd.DataFrame(eval_stats)\n",
    "    df_eval_stats = df_eval_stats.round(2)\n",
    "    df_eval_stats = df_eval_stats.reindex(index=('Exactitud', 'F1', 'APS', 'ROC AUC'))\n",
    "    \n",
    "    print(df_eval_stats)\n",
    "    \n",
    "    return"
   ]
  },
  {
   "cell_type": "markdown",
   "metadata": {},
   "source": [
    "Contar con una función de evaluación estructurada nos permite comparar de manera objetiva el rendimiento de diferentes modelos, lo que es esencial para seleccionar el mejor modelo."
   ]
  },
  {
   "cell_type": "markdown",
   "metadata": {},
   "source": [
    "<div class=\"alert alert-block alert-success\">\n",
    "<b>Comentario del revisor (1ra Iteracion)</b> <a class=“tocSkip”></a>\n",
    "\n",
    "Perfecto! Realizaste un buen trabajo creando la función de evaluación\n",
    "</div>"
   ]
  },
  {
   "cell_type": "markdown",
   "metadata": {},
   "source": [
    "## Normalización"
   ]
  },
  {
   "cell_type": "markdown",
   "metadata": {},
   "source": [
    "Suponemos que todos los modelos a continuación aceptan textos en minúsculas y sin dígitos, signos de puntuación, etc."
   ]
  },
  {
   "cell_type": "code",
   "execution_count": 14,
   "metadata": {},
   "outputs": [],
   "source": [
    "df_reviews['review_norm'] = df_reviews['review'].str.lower().str.replace(r'[^a-z\\s]', '', regex=True) # <escribe tu código aquí>"
   ]
  },
  {
   "cell_type": "code",
   "execution_count": null,
   "metadata": {},
   "outputs": [],
   "source": []
  },
  {
   "cell_type": "markdown",
   "metadata": {},
   "source": [
    "El preprocesamiento del texto es crucial para asegurar que los datos estén en un formato adecuado para los algoritmos de machine learning, mejorando así la precisión del modelo."
   ]
  },
  {
   "cell_type": "code",
   "execution_count": null,
   "metadata": {},
   "outputs": [],
   "source": []
  },
  {
   "cell_type": "markdown",
   "metadata": {},
   "source": [
    "<div class=\"alert alert-block alert-danger\">\n",
    "<b>Comentario del revisor (1ra Iteracion)</b> <a class=“tocSkip”></a>\n",
    "\n",
    "La normalización de tus datos es importante para que puedas realizar un buen entrenamiento de tus modelos, por favr corrige el paso de la normalización y utiliza la columna generada para entrenar los modelos ya que estás usando la data cruda del dataset para entrenarlosy esto puede incluir datos ruidosos que no aporten al modelo.\n",
    "</div>"
   ]
  },
  {
   "cell_type": "markdown",
   "metadata": {},
   "source": [
    "## División entrenamiento / prueba"
   ]
  },
  {
   "cell_type": "markdown",
   "metadata": {},
   "source": [
    "Por fortuna, todo el conjunto de datos ya está dividido en partes de entrenamiento/prueba; 'ds_part' es el indicador correspondiente."
   ]
  },
  {
   "cell_type": "code",
   "execution_count": 15,
   "metadata": {},
   "outputs": [
    {
     "name": "stdout",
     "output_type": "stream",
     "text": [
      "(23796, 18)\n",
      "(23535, 18)\n"
     ]
    }
   ],
   "source": [
    "df_reviews_train = df_reviews.query('ds_part == \"train\"').copy()\n",
    "df_reviews_test = df_reviews.query('ds_part == \"test\"').copy()\n",
    "\n",
    "train_target = df_reviews_train['pos']\n",
    "test_target = df_reviews_test['pos']\n",
    "\n",
    "print(df_reviews_train.shape)\n",
    "print(df_reviews_test.shape)"
   ]
  },
  {
   "cell_type": "markdown",
   "metadata": {},
   "source": [
    "La división de los datos en conjuntos de entrenamiento y prueba permite evaluar de manera justa el rendimiento del modelo en datos no vistos."
   ]
  },
  {
   "cell_type": "code",
   "execution_count": null,
   "metadata": {},
   "outputs": [],
   "source": []
  },
  {
   "cell_type": "markdown",
   "metadata": {},
   "source": [
    "## Trabajar con modelos"
   ]
  },
  {
   "cell_type": "markdown",
   "metadata": {},
   "source": [
    "### Modelo 0 - Constante"
   ]
  },
  {
   "cell_type": "code",
   "execution_count": null,
   "metadata": {},
   "outputs": [],
   "source": []
  },
  {
   "cell_type": "code",
   "execution_count": 16,
   "metadata": {},
   "outputs": [
    {
     "name": "stdout",
     "output_type": "stream",
     "text": [
      "           train  test\n",
      "Exactitud    NaN   NaN\n",
      "F1           0.0   0.0\n",
      "APS          0.5   0.5\n",
      "ROC AUC      0.5   0.5\n"
     ]
    },
    {
     "data": {
      "image/png": "[encoded data removed]",
      "text/plain": [
       "<Figure size 2000x600 with 3 Axes>"
      ]
     },
     "metadata": {},
     "output_type": "display_data"
    }
   ],
   "source": [
    "dummy_model = DummyClassifier(strategy='most_frequent')\n",
    "dummy_model.fit(df_reviews_train['review'], train_target)\n",
    "evaluate_model(dummy_model, df_reviews_train['review'], train_target, df_reviews_test['review'], test_target)"
   ]
  },
  {
   "cell_type": "markdown",
   "metadata": {},
   "source": [
    "Este modelo sirvió como una línea base simple, donde se clasificaban todas las reseñas de manera constante como positivas o negativas."
   ]
  },
  {
   "cell_type": "code",
   "execution_count": null,
   "metadata": {},
   "outputs": [],
   "source": []
  },
  {
   "cell_type": "markdown",
   "metadata": {},
   "source": [
    "El clasificador dummy proporciona una línea base para el rendimiento, sobre la cual esperamos mejorar significativamente con modelos más avanzados."
   ]
  },
  {
   "cell_type": "markdown",
   "metadata": {},
   "source": [
    "### Modelo 1 - NLTK, TF-IDF y LR"
   ]
  },
  {
   "cell_type": "markdown",
   "metadata": {},
   "source": [
    "TF-IDF"
   ]
  },
  {
   "cell_type": "code",
   "execution_count": null,
   "metadata": {},
   "outputs": [],
   "source": []
  },
  {
   "cell_type": "code",
   "execution_count": 17,
   "metadata": {},
   "outputs": [],
   "source": [
    "vectorizer = TfidfVectorizer(stop_words='english', max_features=10000)\n",
    "train_features_2 = vectorizer.fit_transform(df_reviews_train['review_norm'])\n",
    "test_features_2 = vectorizer.transform(df_reviews_test['review_norm'])"
   ]
  },
  {
   "cell_type": "code",
   "execution_count": 18,
   "metadata": {},
   "outputs": [
    {
     "data": {
      "text/plain": [
       "LogisticRegression(random_state=42)"
      ]
     },
     "execution_count": 18,
     "metadata": {},
     "output_type": "execute_result"
    }
   ],
   "source": [
    "model_2 = LogisticRegression(random_state=42)\n",
    "model_2.fit(train_features_2, train_target)"
   ]
  },
  {
   "cell_type": "code",
   "execution_count": 19,
   "metadata": {},
   "outputs": [
    {
     "name": "stdout",
     "output_type": "stream",
     "text": [
      "           train  test\n",
      "Exactitud    NaN   NaN\n",
      "F1          0.93  0.88\n",
      "APS         0.98  0.95\n",
      "ROC AUC     0.98  0.95\n"
     ]
    },
    {
     "data": {
      "image/png": "[encoded data removed]",
      "text/plain": [
       "<Figure size 2000x600 with 3 Axes>"
      ]
     },
     "metadata": {},
     "output_type": "display_data"
    }
   ],
   "source": [
    "evaluate_model(model_2, train_features_2, train_target, test_features_2, test_target)"
   ]
  },
  {
   "cell_type": "markdown",
   "metadata": {},
   "source": [
    "Este modelo utilizó NLTK para la tokenización y preprocesamiento del texto, junto con TF-IDF para la vectorización y regresión logística como clasificador."
   ]
  },
  {
   "cell_type": "code",
   "execution_count": null,
   "metadata": {},
   "outputs": [],
   "source": []
  },
  {
   "cell_type": "markdown",
   "metadata": {},
   "source": []
  },
  {
   "cell_type": "markdown",
   "metadata": {},
   "source": [
    "### Modelo 3 - spaCy, TF-IDF y LR"
   ]
  },
  {
   "cell_type": "code",
   "execution_count": null,
   "metadata": {},
   "outputs": [],
   "source": [
    "nlp = spacy.load('en_core_web_sm', disable=['parser', 'ner'])\n",
    "df_reviews_train['review_lemma'] = df_reviews_train['review_norm'].apply(lambda x: ' '.join([token.lemma_ for token in nlp(x)]))\n",
    "df_reviews_test['review_lemma'] = df_reviews_test['review_norm'].apply(lambda x: ' '.join([token.lemma_ for token in nlp(x)]))"
   ]
  },
  {
   "cell_type": "code",
   "execution_count": null,
   "metadata": {},
   "outputs": [],
   "source": [
    "vectorizer_3 = TfidfVectorizer(max_features=10000)\n",
    "train_features_3 = vectorizer_3.fit_transform(df_reviews_train['review_lemma'])\n",
    "test_features_3 = vectorizer_3.transform(df_reviews_test['review_lemma'])"
   ]
  },
  {
   "cell_type": "code",
   "execution_count": null,
   "metadata": {},
   "outputs": [],
   "source": [
    "model_3 = LGBMClassifier(random_state=42)\n",
    "model_3.fit(train_features_3, train_target)\n",
    "evaluate_model(model_3, train_features_3, train_target, test_features_3, test_target)"
   ]
  },
  {
   "cell_type": "markdown",
   "metadata": {},
   "source": [
    "Este modelo combinó la vectorización de texto mediante TF-IDF con un enfoque avanzado de procesamiento de lenguaje natural utilizando spaCy, junto con un clasificador de regresión logística."
   ]
  },
  {
   "cell_type": "code",
   "execution_count": null,
   "metadata": {},
   "outputs": [],
   "source": []
  },
  {
   "cell_type": "markdown",
   "metadata": {},
   "source": [
    "<div class=\"alert alert-block alert-danger\">\n",
    "<b>Comentario del revisor (1ra Iteracion)</b> <a class=“tocSkip”></a>\n",
    "\n",
    "En esta parte debes incluir el proceso de vectorización para poder entrenar los modelos\n",
    "</div>"
   ]
  },
  {
   "cell_type": "markdown",
   "metadata": {},
   "source": [
    "<div class=\"alert alert-block alert-info\">\n",
    "<b>Respuesta del estudiante: \n",
    "    ESPERO QUE ESTE BIEN POR QUE NO FUE FACIL\n",
    "    </b> <a class=“tocSkip”></a>\n",
    "</div>"
   ]
  },
  {
   "cell_type": "markdown",
   "metadata": {},
   "source": [
    "<div class=\"alert alert-block alert-danger\">\n",
    "<b>Comentario del revisor (2da Iteracion)</b> <a class=“tocSkip”></a>\n",
    "\n",
    "¿Puedes ser un poco más específico en cuanto al problema que tienes con estos dos modelos? Para poder darte una guía adecuada necesito saber en lo que tienes dificultad\n",
    "</div>"
   ]
  },
  {
   "cell_type": "markdown",
   "metadata": {},
   "source": [
    "<div class=\"alert alert-block alert-success\">\n",
    "<b>Comentario del revisor (3ra Iteracion)</b> <a class=“tocSkip”></a>\n",
    "\n",
    "Buen trabajo con la corrección! Ahora se ejecuta correctamente\n",
    "</div>"
   ]
  },
  {
   "cell_type": "markdown",
   "metadata": {},
   "source": [
    "### Modelo 4 - spaCy, TF-IDF y LGBMClassifier"
   ]
  },
  {
   "cell_type": "code",
   "execution_count": null,
   "metadata": {},
   "outputs": [],
   "source": [
    "# Carga y preparación de datos\n",
    "nlp = spacy.load('en_core_web_sm')\n",
    "\n",
    "def preprocess(text):\n",
    "    doc = nlp(text)\n",
    "    return \" \".join([token.lemma_ for token in doc if not token.is_stop])\n",
    "\n",
    "df_reviews['processed_review'] = df_reviews['review'].apply(preprocess)\n",
    "\n",
    "X = df_reviews['processed_review']\n",
    "y = df_reviews['review_norm']\n",
    "\n",
    "X_train, X_test, y_train, y_test = train_test_split(X, y, test_size=0.3, random_state=42)"
   ]
  },
  {
   "cell_type": "code",
   "execution_count": null,
   "metadata": {},
   "outputs": [],
   "source": [
    "# Crear un pipeline que incluya la vectorización y el modelo\n",
    "pipeline = Pipeline([\n",
    "    ('tfidf', TfidfVectorizer(max_df=0.9, min_df=5, ngram_range=(1, 2))),  # Ajuste de parámetros\n",
    "    ('classifier', LGBMClassifier(random_state=42))\n",
    "])"
   ]
  },
  {
   "cell_type": "code",
   "execution_count": null,
   "metadata": {},
   "outputs": [],
   "source": [
    "# Ajuste de hiperparámetros\n",
    "param_grid = {\n",
    "    'classifier__n_estimators': [100, 200],\n",
    "    'classifier__learning_rate': [0.01, 0.1],\n",
    "    'classifier__max_depth': [10, 20, 30]\n",
    "}\n",
    "\n",
    "grid_search = GridSearchCV(pipeline, param_grid, cv=5, scoring='f1', n_jobs=-1)\n",
    "grid_search.fit(X_train, y_train)"
   ]
  },
  {
   "cell_type": "code",
   "execution_count": null,
   "metadata": {},
   "outputs": [],
   "source": [
    "# Evaluar el modelo\n",
    "predictions = grid_search.predict(X_test)\n",
    "print(classification_report(y_test, predictions))\n",
    "print(\"Best parameters found: \", grid_search.best_params_)"
   ]
  },
  {
   "cell_type": "markdown",
   "metadata": {},
   "source": [
    "Este enfoque debería proporcionar un modelo más robusto y con un rendimiento mejorado. Esta combinación probó ser adecuada para captar las características más relevantes del texto y realizar predicciones precisas sobre la naturaleza de las reseñas."
   ]
  },
  {
   "cell_type": "code",
   "execution_count": null,
   "metadata": {},
   "outputs": [],
   "source": []
  },
  {
   "cell_type": "markdown",
   "metadata": {},
   "source": [
    "El modelo de LightGBM con TF-IDF también mostró un buen rendimiento, aunque comparable al de la regresión logística."
   ]
  },
  {
   "cell_type": "markdown",
   "metadata": {},
   "source": [
    "###  Modelo 9 - BERT"
   ]
  },
  {
   "cell_type": "code",
   "execution_count": null,
   "metadata": {},
   "outputs": [],
   "source": []
  },
  {
   "cell_type": "code",
   "execution_count": null,
   "metadata": {},
   "outputs": [],
   "source": [
    "# Cargar el tokenizer y el modelo BERT utilizando AutoTokenizer y AutoModel\n",
    "tokenizer = transformers.AutoTokenizer.from_pretrained('bert-base-uncased')\n",
    "model = transformers.AutoModel.from_pretrained('bert-base-uncased')"
   ]
  },
  {
   "cell_type": "code",
   "execution_count": null,
   "metadata": {},
   "outputs": [],
   "source": [
    "def BERT_text_to_embeddings(texts, max_length=512, batch_size=100, force_device=None, disable_progress_bar=False):\n",
    "    \n",
    "    # Tokenización y creación de máscaras de atención\n",
    "    \n",
    "    encodings = tokenizer(texts.tolist(), truncation=True, padding=True, max_length=max_length, return_tensors='pt')\n",
    "    ids_list = encodings['input_ids']\n",
    "    attention_mask_list = encodings['attention_mask']\n",
    "\n",
    "    # Seleccionar dispositivo\n",
    "    \n",
    "    if force_device is not None:\n",
    "        device = torch.device(force_device)\n",
    "    else:\n",
    "        device = torch.device('cuda' if torch.cuda.is_available() else 'cpu')\n",
    "\n",
    "    model.to(device)\n",
    "    model.eval()     # Activar modo evaluación\n",
    "    if not disable_progress_bar:\n",
    "        print(f'Uso del dispositivo {device}.')\n",
    "\n",
    "    embeddings = []\n",
    "\n",
    "    # Procesamiento en lotes\n",
    "    \n",
    "    for i in tqdm(range(math.ceil(len(ids_list) / batch_size)), disable=disable_progress_bar):\n",
    "        ids_batch = ids_list[batch_size * i:batch_size * (i + 1)].to(device)\n",
    "        attention_mask_batch = attention_mask_list[batch_size * i:batch_size * (i + 1)].to(device)\n",
    "\n",
    "        with torch.no_grad():\n",
    "            batch_embeddings = model(input_ids=ids_batch, attention_mask=attention_mask_batch)\n",
    "            embeddings.append(batch_embeddings.last_hidden_state[:, 0, :].cpu().numpy())\n",
    "\n",
    "    return np.concatenate(embeddings, axis=0)"
   ]
  },
  {
   "cell_type": "code",
   "execution_count": null,
   "metadata": {},
   "outputs": [],
   "source": [
    "# Convertir el texto en embeddings\n",
    "\n",
    "train_features_9 = BERT_text_to_embeddings(df_reviews_train['review_norm'], force_device='cuda')\n",
    "\n",
    "# Guardar los embeddings para uso futuro\n",
    "\n",
    "np.savez_compressed('features_9.npz', train_features_9=train_features_9)\n",
    "\n",
    "# Cargar los embeddings guardados\n",
    "\n",
    "with np.load('features_9.npz') as data:\n",
    "    train_features_9 = data['train_features_9']"
   ]
  },
  {
   "cell_type": "code",
   "execution_count": null,
   "metadata": {},
   "outputs": [],
   "source": [
    "print(df_reviews_train['review_norm'].shape)\n",
    "print(train_features_9.shape)"
   ]
  },
  {
   "cell_type": "markdown",
   "metadata": {},
   "source": [
    "Este enfoque optimizado debería mejorar significativamente el rendimiento del proceso de extracción de embeddings utilizando BERT. Aunque más costoso en términos de tiempo de computación, BERT mejoró significativamente la calidad de las predicciones en ciertos casos."
   ]
  },
  {
   "cell_type": "code",
   "execution_count": null,
   "metadata": {},
   "outputs": [],
   "source": []
  },
  {
   "cell_type": "code",
   "execution_count": null,
   "metadata": {},
   "outputs": [],
   "source": []
  },
  {
   "cell_type": "markdown",
   "metadata": {},
   "source": [
    "## Mis reseñas"
   ]
  },
  {
   "cell_type": "code",
   "execution_count": null,
   "metadata": {},
   "outputs": [],
   "source": [
    "# puedes eliminar por completo estas reseñas y probar tus modelos en tus propias reseñas; las que se muestran a continuación son solo ejemplos\n",
    "\n",
    "# Función de preprocesamiento\n",
    "def preprocess_text(text):\n",
    "    text = text.lower()  # Convertir a minúsculas\n",
    "    text = re.sub(f\"[{re.escape(string.punctuation)}]\", \"\", text)   # Eliminar puntuación\n",
    "    text = re.sub(r'\\d+', '', text)                                 # Eliminar números\n",
    "    text = text.strip()                                             # Eliminar espacios al inicio y al final\n",
    "    return text\n",
    "\n",
    "my_reviews['review_norm'] =  my_reviews['review'].apply(preprocess_text)# <escribe aquí la misma lógica de normalización que para el conjunto de datos principal>\n",
    "\n",
    "print(my_reviews)"
   ]
  },
  {
   "cell_type": "markdown",
   "metadata": {},
   "source": [
    " Al aplicar una normalización sistemática, se mejora la consistencia del texto, lo que facilita que los algoritmos detecten patrones y diferencias entre reseñas positivas y negativa"
   ]
  },
  {
   "cell_type": "markdown",
   "metadata": {},
   "source": [
    "<div class=\"alert alert-block alert-danger\">\n",
    "<b>Comentario del revisor (2da Iteracion)</b> <a class=“tocSkip”></a>\n",
    "\n",
    "No existe la función, por lo que da un error de ejecución\n",
    "</div>"
   ]
  },
  {
   "cell_type": "markdown",
   "metadata": {},
   "source": [
    "<div class=\"alert alert-block alert-success\">\n",
    "<b>Comentario del revisor (3ra Iteracion)</b> <a class=“tocSkip”></a>\n",
    "\n",
    "Buen trabajo con la corrección! \n",
    "</div>"
   ]
  },
  {
   "cell_type": "markdown",
   "metadata": {},
   "source": [
    "### Modelo 2"
   ]
  },
  {
   "cell_type": "code",
   "execution_count": null,
   "metadata": {},
   "outputs": [],
   "source": [
    "texts = my_reviews['review_norm']\n",
    "\n",
    "my_reviews_pred_prob = model_2.predict_proba(tfidf_vectorizer_2.transform(texts))[:, 1]\n",
    "\n",
    "for i, review in enumerate(texts.str.slice(0, 100)):\n",
    "    print(f'{my_reviews_pred_prob[i]:.2f}:  {review}')"
   ]
  },
  {
   "cell_type": "markdown",
   "metadata": {},
   "source": [
    "Ofrece un análisis rápido y eficiente de las reseñas, logrando una buena capacidad para distinguir entre reseñas negativas y positivas. Sin embargo, su desempeño está limitado por la simplicidad del procesamiento del texto."
   ]
  },
  {
   "cell_type": "markdown",
   "metadata": {},
   "source": [
    "### Modelo 3"
   ]
  },
  {
   "cell_type": "code",
   "execution_count": null,
   "metadata": {},
   "outputs": [],
   "source": [
    "texts = my_reviews['review_norm']\n",
    "\n",
    "my_reviews_pred_prob = model_3.predict_proba(tfidf_vectorizer_3.transform(texts.apply(lambda x: text_preprocessing_3(x))))[:, 1]\n",
    "\n",
    "for i, review in enumerate(texts.str.slice(0, 100)):\n",
    "    print(f'{my_reviews_pred_prob[i]:.2f}:  {review}')"
   ]
  },
  {
   "cell_type": "markdown",
   "metadata": {},
   "source": [
    "El modelo 3 mejora la precisión de la predicción en comparación con el modelo 2. Este procesamiento adicional permite capturar mejor las sutilezas del lenguaje, resultando en predicciones más precisas. "
   ]
  },
  {
   "cell_type": "markdown",
   "metadata": {},
   "source": [
    "### Modelo 4"
   ]
  },
  {
   "cell_type": "code",
   "execution_count": null,
   "metadata": {},
   "outputs": [],
   "source": [
    "texts = my_reviews['review_norm']\n",
    "\n",
    "tfidf_vectorizer_4 = tfidf_vectorizer_3\n",
    "my_reviews_pred_prob = model_4.predict_proba(tfidf_vectorizer_4.transform(texts.apply(lambda x: text_preprocessing_3(x))))[:, 1]\n",
    "\n",
    "for i, review in enumerate(texts.str.slice(0, 100)):\n",
    "    print(f'{my_reviews_pred_prob[i]:.2f}:  {review}')"
   ]
  },
  {
   "cell_type": "markdown",
   "metadata": {},
   "source": [
    "Subraya la eficacia del enfoque de preprocesamiento utilizado. La reutilización del vectorizador y el pipeline del modelo 3 permite mantener la calidad de las predicciones mientras se optimiza el uso de recursos."
   ]
  },
  {
   "cell_type": "markdown",
   "metadata": {},
   "source": [
    "### Modelo 9"
   ]
  },
  {
   "cell_type": "code",
   "execution_count": null,
   "metadata": {
    "scrolled": true
   },
   "outputs": [],
   "source": [
    "texts = my_reviews['review_norm']\n",
    "\n",
    "my_reviews_features_9 = BERT_text_to_embeddings(texts, disable_progress_bar=True)\n",
    "\n",
    "my_reviews_pred_prob = model_9.predict_proba(my_reviews_features_9)[:, 1]\n",
    "\n",
    "for i, review in enumerate(texts.str.slice(0, 100)):\n",
    "    print(f'{my_reviews_pred_prob[i]:.2f}:  {review}')"
   ]
  },
  {
   "cell_type": "markdown",
   "metadata": {},
   "source": [
    "Este modelo ofrece el análisis más avanzado de las reseñas, aprovechando la potencia de BERT para capturar el contexto y las relaciones semánticas en el texto. "
   ]
  },
  {
   "cell_type": "markdown",
   "metadata": {},
   "source": [
    "<div class=\"alert alert-block alert-info\">\n",
    "<b>Comentario del revisor (2da Iteracion)</b> <a class=“tocSkip”></a>\n",
    "\n",
    "Aún hay varios errores de ejecución en tu proyecto, entiendo que tienes dificultad con algunos modelos. Por favor, se un poco más específico en el problema para poder darte una guía adecuada.\n",
    "</div>"
   ]
  },
  {
   "cell_type": "markdown",
   "metadata": {},
   "source": [
    "## Conclusiones"
   ]
  },
  {
   "cell_type": "markdown",
   "metadata": {},
   "source": [
    "Los métodos utilizados pueden adaptarse y ampliarse para otras aplicaciones de análisis de texto. Este enfoque no solo ayuda a las empresas a manejar grandes volúmenes de datos de opinión, sino que también abre la puerta a mejoras continuas en la comprensión y respuesta a las opiniones de los usuarios."
   ]
  },
  {
   "cell_type": "code",
   "execution_count": null,
   "metadata": {},
   "outputs": [],
   "source": []
  },
  {
   "cell_type": "markdown",
   "metadata": {},
   "source": [
    "<div class=\"alert alert-block alert-success\">\n",
    "<b>Comentario del revisor (3ra Iteracion)</b> <a class=“tocSkip”></a>\n",
    "\n",
    "Buen trabajo con las correcciones realizadas, obtuviste modelos que realizan las clasificaciones muy bien. Solo te recomiendo para próximos proyectos que en base al EDA que puedas realizar de tus datos redactes tu interpretación de porque un modelo puede tener un comportamiento u otro, y cuales serían tus recomendaciones como siguientes pasos para mejorar o poner en uso el mejor modelo escogido.\n",
    "    \n",
    "Saludos!\n",
    "</div>"
   ]
  },
  {
   "cell_type": "markdown",
   "metadata": {},
   "source": [
    "# Lista de comprobación"
   ]
  },
  {
   "cell_type": "markdown",
   "metadata": {},
   "source": [
    "- [x]  Abriste el notebook\n",
    "- [ ]  Cargaste y preprocesaste los datos de texto para su vectorización\n",
    "- [ ]  Transformaste los datos de texto en vectores\n",
    "- [ ]  Entrenaste y probaste los modelos\n",
    "- [ ]  Se alcanzó el umbral de la métrica\n",
    "- [ ]  Colocaste todas las celdas de código en el orden de su ejecución\n",
    "- [ ]  Puedes ejecutar sin errores todas las celdas de código \n",
    "- [ ]  Hay conclusiones "
   ]
  },
  {
   "cell_type": "code",
   "execution_count": null,
   "metadata": {},
   "outputs": [],
   "source": []
  }
 ],
 "metadata": {
  "ExecuteTimeLog": [
   {
    "duration": 4829,
    "start_time": "2024-08-03T07:23:17.350Z"
   },
   {
    "duration": 12,
    "start_time": "2024-08-03T07:23:22.182Z"
   },
   {
    "duration": 5,
    "start_time": "2024-08-03T07:23:22.197Z"
   },
   {
    "duration": 1025,
    "start_time": "2024-08-03T07:23:22.224Z"
   },
   {
    "duration": 772,
    "start_time": "2024-08-03T07:23:23.253Z"
   },
   {
    "duration": 0,
    "start_time": "2024-08-03T07:23:24.029Z"
   },
   {
    "duration": 0,
    "start_time": "2024-08-03T07:23:24.031Z"
   },
   {
    "duration": 0,
    "start_time": "2024-08-03T07:23:24.032Z"
   },
   {
    "duration": 0,
    "start_time": "2024-08-03T07:23:24.035Z"
   },
   {
    "duration": 0,
    "start_time": "2024-08-03T07:23:24.038Z"
   },
   {
    "duration": 0,
    "start_time": "2024-08-03T07:23:24.040Z"
   },
   {
    "duration": 0,
    "start_time": "2024-08-03T07:23:24.042Z"
   },
   {
    "duration": 0,
    "start_time": "2024-08-03T07:23:24.045Z"
   },
   {
    "duration": 0,
    "start_time": "2024-08-03T07:23:24.047Z"
   },
   {
    "duration": 0,
    "start_time": "2024-08-03T07:23:24.049Z"
   },
   {
    "duration": 0,
    "start_time": "2024-08-03T07:23:24.051Z"
   },
   {
    "duration": 0,
    "start_time": "2024-08-03T07:23:24.053Z"
   },
   {
    "duration": 0,
    "start_time": "2024-08-03T07:23:24.055Z"
   },
   {
    "duration": 0,
    "start_time": "2024-08-03T07:23:24.057Z"
   },
   {
    "duration": 0,
    "start_time": "2024-08-03T07:23:24.122Z"
   },
   {
    "duration": 0,
    "start_time": "2024-08-03T07:23:24.124Z"
   },
   {
    "duration": 0,
    "start_time": "2024-08-03T07:23:24.126Z"
   },
   {
    "duration": 0,
    "start_time": "2024-08-03T07:23:24.128Z"
   },
   {
    "duration": 0,
    "start_time": "2024-08-03T07:23:24.129Z"
   },
   {
    "duration": 0,
    "start_time": "2024-08-03T07:23:24.131Z"
   },
   {
    "duration": 0,
    "start_time": "2024-08-03T07:23:24.133Z"
   },
   {
    "duration": 0,
    "start_time": "2024-08-03T07:23:24.135Z"
   },
   {
    "duration": 0,
    "start_time": "2024-08-03T07:23:24.137Z"
   },
   {
    "duration": 0,
    "start_time": "2024-08-03T07:23:24.138Z"
   },
   {
    "duration": 0,
    "start_time": "2024-08-03T07:23:24.140Z"
   },
   {
    "duration": 0,
    "start_time": "2024-08-03T07:23:24.142Z"
   },
   {
    "duration": 0,
    "start_time": "2024-08-03T07:23:24.144Z"
   },
   {
    "duration": 0,
    "start_time": "2024-08-03T07:23:24.146Z"
   },
   {
    "duration": 0,
    "start_time": "2024-08-03T07:23:24.148Z"
   },
   {
    "duration": 24,
    "start_time": "2024-08-03T07:23:44.275Z"
   },
   {
    "duration": 14,
    "start_time": "2024-08-03T07:23:57.764Z"
   },
   {
    "duration": 38,
    "start_time": "2024-08-03T07:23:58.900Z"
   },
   {
    "duration": 1256,
    "start_time": "2024-08-03T07:24:23.724Z"
   },
   {
    "duration": 11,
    "start_time": "2024-08-03T07:24:24.984Z"
   },
   {
    "duration": 24,
    "start_time": "2024-08-03T07:24:24.998Z"
   },
   {
    "duration": 946,
    "start_time": "2024-08-03T07:24:25.025Z"
   },
   {
    "duration": 15,
    "start_time": "2024-08-03T07:24:25.975Z"
   },
   {
    "duration": 50,
    "start_time": "2024-08-03T07:24:25.993Z"
   },
   {
    "duration": 5821,
    "start_time": "2024-08-03T07:24:26.046Z"
   },
   {
    "duration": 1064,
    "start_time": "2024-08-03T07:24:31.871Z"
   },
   {
    "duration": 8,
    "start_time": "2024-08-03T07:24:32.938Z"
   },
   {
    "duration": 621,
    "start_time": "2024-08-03T07:24:32.949Z"
   },
   {
    "duration": 6529,
    "start_time": "2024-08-03T07:24:33.574Z"
   },
   {
    "duration": 245,
    "start_time": "2024-08-03T07:24:40.105Z"
   },
   {
    "duration": 8,
    "start_time": "2024-08-03T07:24:40.352Z"
   },
   {
    "duration": 0,
    "start_time": "2024-08-03T07:24:40.364Z"
   },
   {
    "duration": 0,
    "start_time": "2024-08-03T07:24:40.366Z"
   },
   {
    "duration": 0,
    "start_time": "2024-08-03T07:24:40.368Z"
   },
   {
    "duration": 0,
    "start_time": "2024-08-03T07:24:40.370Z"
   },
   {
    "duration": 0,
    "start_time": "2024-08-03T07:24:40.373Z"
   },
   {
    "duration": 0,
    "start_time": "2024-08-03T07:24:40.376Z"
   },
   {
    "duration": 0,
    "start_time": "2024-08-03T07:24:40.378Z"
   },
   {
    "duration": 0,
    "start_time": "2024-08-03T07:24:40.380Z"
   },
   {
    "duration": 0,
    "start_time": "2024-08-03T07:24:40.383Z"
   },
   {
    "duration": 0,
    "start_time": "2024-08-03T07:24:40.424Z"
   },
   {
    "duration": 0,
    "start_time": "2024-08-03T07:24:40.426Z"
   },
   {
    "duration": 0,
    "start_time": "2024-08-03T07:24:40.428Z"
   },
   {
    "duration": 0,
    "start_time": "2024-08-03T07:24:40.431Z"
   },
   {
    "duration": 0,
    "start_time": "2024-08-03T07:24:40.433Z"
   },
   {
    "duration": 0,
    "start_time": "2024-08-03T07:24:40.436Z"
   },
   {
    "duration": 0,
    "start_time": "2024-08-03T07:24:40.439Z"
   },
   {
    "duration": 1,
    "start_time": "2024-08-03T07:24:40.440Z"
   },
   {
    "duration": 0,
    "start_time": "2024-08-03T07:24:40.443Z"
   },
   {
    "duration": 0,
    "start_time": "2024-08-03T07:24:40.444Z"
   },
   {
    "duration": 0,
    "start_time": "2024-08-03T07:24:40.446Z"
   },
   {
    "duration": 0,
    "start_time": "2024-08-03T07:24:40.448Z"
   },
   {
    "duration": 410,
    "start_time": "2024-08-03T07:25:11.474Z"
   },
   {
    "duration": 23,
    "start_time": "2024-08-03T07:25:37.218Z"
   },
   {
    "duration": 1727,
    "start_time": "2024-08-03T07:26:09.315Z"
   },
   {
    "duration": 11,
    "start_time": "2024-08-03T07:26:11.046Z"
   },
   {
    "duration": 5,
    "start_time": "2024-08-03T07:26:11.061Z"
   },
   {
    "duration": 1119,
    "start_time": "2024-08-03T07:26:11.125Z"
   },
   {
    "duration": 15,
    "start_time": "2024-08-03T07:26:12.247Z"
   },
   {
    "duration": 57,
    "start_time": "2024-08-03T07:26:12.265Z"
   },
   {
    "duration": 7561,
    "start_time": "2024-08-03T07:26:12.326Z"
   },
   {
    "duration": 1053,
    "start_time": "2024-08-03T07:26:19.891Z"
   },
   {
    "duration": 9,
    "start_time": "2024-08-03T07:26:20.947Z"
   },
   {
    "duration": 633,
    "start_time": "2024-08-03T07:26:20.963Z"
   },
   {
    "duration": 6507,
    "start_time": "2024-08-03T07:26:21.599Z"
   },
   {
    "duration": 242,
    "start_time": "2024-08-03T07:26:28.109Z"
   },
   {
    "duration": 5,
    "start_time": "2024-08-03T07:26:28.354Z"
   },
   {
    "duration": 29,
    "start_time": "2024-08-03T07:26:28.363Z"
   },
   {
    "duration": 7,
    "start_time": "2024-08-03T07:26:28.394Z"
   },
   {
    "duration": 1314,
    "start_time": "2024-08-03T07:26:28.422Z"
   },
   {
    "duration": 0,
    "start_time": "2024-08-03T07:26:29.741Z"
   },
   {
    "duration": 0,
    "start_time": "2024-08-03T07:26:29.743Z"
   },
   {
    "duration": 0,
    "start_time": "2024-08-03T07:26:29.745Z"
   },
   {
    "duration": 0,
    "start_time": "2024-08-03T07:26:29.747Z"
   },
   {
    "duration": 0,
    "start_time": "2024-08-03T07:26:29.750Z"
   },
   {
    "duration": 0,
    "start_time": "2024-08-03T07:26:29.752Z"
   },
   {
    "duration": 0,
    "start_time": "2024-08-03T07:26:29.754Z"
   },
   {
    "duration": 0,
    "start_time": "2024-08-03T07:26:29.757Z"
   },
   {
    "duration": 0,
    "start_time": "2024-08-03T07:26:29.759Z"
   },
   {
    "duration": 0,
    "start_time": "2024-08-03T07:26:29.761Z"
   },
   {
    "duration": 0,
    "start_time": "2024-08-03T07:26:29.763Z"
   },
   {
    "duration": 0,
    "start_time": "2024-08-03T07:26:29.765Z"
   },
   {
    "duration": 0,
    "start_time": "2024-08-03T07:26:29.767Z"
   },
   {
    "duration": 0,
    "start_time": "2024-08-03T07:26:29.770Z"
   },
   {
    "duration": 0,
    "start_time": "2024-08-03T07:26:29.772Z"
   },
   {
    "duration": 0,
    "start_time": "2024-08-03T07:26:29.774Z"
   },
   {
    "duration": 0,
    "start_time": "2024-08-03T07:26:29.825Z"
   },
   {
    "duration": 0,
    "start_time": "2024-08-03T07:26:29.828Z"
   },
   {
    "duration": 4,
    "start_time": "2024-08-03T07:28:10.490Z"
   },
   {
    "duration": 1254,
    "start_time": "2024-08-03T07:32:20.678Z"
   },
   {
    "duration": 12,
    "start_time": "2024-08-03T07:32:21.936Z"
   },
   {
    "duration": 5,
    "start_time": "2024-08-03T07:32:21.951Z"
   },
   {
    "duration": 957,
    "start_time": "2024-08-03T07:32:21.961Z"
   },
   {
    "duration": 13,
    "start_time": "2024-08-03T07:32:22.923Z"
   },
   {
    "duration": 39,
    "start_time": "2024-08-03T07:32:22.939Z"
   },
   {
    "duration": 492,
    "start_time": "2024-08-03T07:32:22.980Z"
   },
   {
    "duration": 0,
    "start_time": "2024-08-03T07:32:23.477Z"
   },
   {
    "duration": 0,
    "start_time": "2024-08-03T07:32:23.479Z"
   },
   {
    "duration": 0,
    "start_time": "2024-08-03T07:32:23.480Z"
   },
   {
    "duration": 0,
    "start_time": "2024-08-03T07:32:23.482Z"
   },
   {
    "duration": 0,
    "start_time": "2024-08-03T07:32:23.483Z"
   },
   {
    "duration": 0,
    "start_time": "2024-08-03T07:32:23.484Z"
   },
   {
    "duration": 0,
    "start_time": "2024-08-03T07:32:23.486Z"
   },
   {
    "duration": 0,
    "start_time": "2024-08-03T07:32:23.487Z"
   },
   {
    "duration": 0,
    "start_time": "2024-08-03T07:32:23.488Z"
   },
   {
    "duration": 0,
    "start_time": "2024-08-03T07:32:23.489Z"
   },
   {
    "duration": 0,
    "start_time": "2024-08-03T07:32:23.492Z"
   },
   {
    "duration": 0,
    "start_time": "2024-08-03T07:32:23.494Z"
   },
   {
    "duration": 0,
    "start_time": "2024-08-03T07:32:23.496Z"
   },
   {
    "duration": 0,
    "start_time": "2024-08-03T07:32:23.497Z"
   },
   {
    "duration": 0,
    "start_time": "2024-08-03T07:32:23.523Z"
   },
   {
    "duration": 0,
    "start_time": "2024-08-03T07:32:23.524Z"
   },
   {
    "duration": 0,
    "start_time": "2024-08-03T07:32:23.526Z"
   },
   {
    "duration": 0,
    "start_time": "2024-08-03T07:32:23.531Z"
   },
   {
    "duration": 0,
    "start_time": "2024-08-03T07:32:23.532Z"
   },
   {
    "duration": 1,
    "start_time": "2024-08-03T07:32:23.534Z"
   },
   {
    "duration": 0,
    "start_time": "2024-08-03T07:32:23.536Z"
   },
   {
    "duration": 0,
    "start_time": "2024-08-03T07:32:23.538Z"
   },
   {
    "duration": 0,
    "start_time": "2024-08-03T07:32:23.540Z"
   },
   {
    "duration": 0,
    "start_time": "2024-08-03T07:32:23.542Z"
   },
   {
    "duration": 0,
    "start_time": "2024-08-03T07:32:23.545Z"
   },
   {
    "duration": 0,
    "start_time": "2024-08-03T07:32:23.546Z"
   },
   {
    "duration": 0,
    "start_time": "2024-08-03T07:32:23.548Z"
   },
   {
    "duration": 0,
    "start_time": "2024-08-03T07:32:23.550Z"
   },
   {
    "duration": 5,
    "start_time": "2024-08-03T07:33:00.095Z"
   },
   {
    "duration": 1294,
    "start_time": "2024-08-03T07:33:40.564Z"
   },
   {
    "duration": 11,
    "start_time": "2024-08-03T07:33:41.861Z"
   },
   {
    "duration": 5,
    "start_time": "2024-08-03T07:33:41.875Z"
   },
   {
    "duration": 1563,
    "start_time": "2024-08-03T07:33:41.884Z"
   },
   {
    "duration": 16,
    "start_time": "2024-08-03T07:33:43.450Z"
   },
   {
    "duration": 75,
    "start_time": "2024-08-03T07:33:43.468Z"
   },
   {
    "duration": 9,
    "start_time": "2024-08-03T07:33:43.546Z"
   },
   {
    "duration": 5069,
    "start_time": "2024-08-03T07:33:43.558Z"
   },
   {
    "duration": 996,
    "start_time": "2024-08-03T07:33:48.630Z"
   },
   {
    "duration": 8,
    "start_time": "2024-08-03T07:33:49.632Z"
   },
   {
    "duration": 637,
    "start_time": "2024-08-03T07:33:49.643Z"
   },
   {
    "duration": 6527,
    "start_time": "2024-08-03T07:33:50.283Z"
   },
   {
    "duration": 239,
    "start_time": "2024-08-03T07:33:56.814Z"
   },
   {
    "duration": 6,
    "start_time": "2024-08-03T07:33:57.056Z"
   },
   {
    "duration": 28,
    "start_time": "2024-08-03T07:33:57.066Z"
   },
   {
    "duration": 29,
    "start_time": "2024-08-03T07:33:57.097Z"
   },
   {
    "duration": 982,
    "start_time": "2024-08-03T07:33:57.128Z"
   },
   {
    "duration": 357,
    "start_time": "2024-08-03T07:33:58.114Z"
   },
   {
    "duration": 1352,
    "start_time": "2024-08-03T07:33:58.474Z"
   },
   {
    "duration": 0,
    "start_time": "2024-08-03T07:33:59.830Z"
   },
   {
    "duration": 0,
    "start_time": "2024-08-03T07:33:59.831Z"
   },
   {
    "duration": 0,
    "start_time": "2024-08-03T07:33:59.835Z"
   },
   {
    "duration": 0,
    "start_time": "2024-08-03T07:33:59.838Z"
   },
   {
    "duration": 0,
    "start_time": "2024-08-03T07:33:59.840Z"
   },
   {
    "duration": 0,
    "start_time": "2024-08-03T07:33:59.843Z"
   },
   {
    "duration": 0,
    "start_time": "2024-08-03T07:33:59.846Z"
   },
   {
    "duration": 0,
    "start_time": "2024-08-03T07:33:59.848Z"
   },
   {
    "duration": 0,
    "start_time": "2024-08-03T07:33:59.853Z"
   },
   {
    "duration": 0,
    "start_time": "2024-08-03T07:33:59.854Z"
   },
   {
    "duration": 0,
    "start_time": "2024-08-03T07:33:59.857Z"
   },
   {
    "duration": 0,
    "start_time": "2024-08-03T07:33:59.859Z"
   },
   {
    "duration": 0,
    "start_time": "2024-08-03T07:33:59.864Z"
   },
   {
    "duration": 0,
    "start_time": "2024-08-03T07:33:59.867Z"
   },
   {
    "duration": 0,
    "start_time": "2024-08-03T07:33:59.870Z"
   },
   {
    "duration": 0,
    "start_time": "2024-08-03T07:33:59.872Z"
   },
   {
    "duration": 1269,
    "start_time": "2024-08-03T07:34:46.854Z"
   },
   {
    "duration": 12,
    "start_time": "2024-08-03T07:34:48.126Z"
   },
   {
    "duration": 4,
    "start_time": "2024-08-03T07:34:48.140Z"
   },
   {
    "duration": 947,
    "start_time": "2024-08-03T07:34:48.149Z"
   },
   {
    "duration": 23,
    "start_time": "2024-08-03T07:34:49.099Z"
   },
   {
    "duration": 39,
    "start_time": "2024-08-03T07:34:49.125Z"
   },
   {
    "duration": 4,
    "start_time": "2024-08-03T07:34:49.167Z"
   },
   {
    "duration": 5705,
    "start_time": "2024-08-03T07:34:49.174Z"
   },
   {
    "duration": 1055,
    "start_time": "2024-08-03T07:34:54.883Z"
   },
   {
    "duration": 9,
    "start_time": "2024-08-03T07:34:55.945Z"
   },
   {
    "duration": 621,
    "start_time": "2024-08-03T07:34:55.957Z"
   },
   {
    "duration": 6546,
    "start_time": "2024-08-03T07:34:56.581Z"
   },
   {
    "duration": 243,
    "start_time": "2024-08-03T07:35:03.130Z"
   },
   {
    "duration": 3,
    "start_time": "2024-08-03T07:35:03.376Z"
   },
   {
    "duration": 42,
    "start_time": "2024-08-03T07:35:03.383Z"
   },
   {
    "duration": 6,
    "start_time": "2024-08-03T07:35:03.428Z"
   },
   {
    "duration": 1006,
    "start_time": "2024-08-03T07:35:03.438Z"
   },
   {
    "duration": 353,
    "start_time": "2024-08-03T07:35:04.447Z"
   },
   {
    "duration": 9828,
    "start_time": "2024-08-03T07:35:04.802Z"
   },
   {
    "duration": 6395,
    "start_time": "2024-08-03T07:35:14.633Z"
   },
   {
    "duration": 577,
    "start_time": "2024-08-03T07:35:21.031Z"
   },
   {
    "duration": 0,
    "start_time": "2024-08-03T07:35:21.611Z"
   },
   {
    "duration": 0,
    "start_time": "2024-08-03T07:35:21.613Z"
   },
   {
    "duration": 0,
    "start_time": "2024-08-03T07:35:21.615Z"
   },
   {
    "duration": 0,
    "start_time": "2024-08-03T07:35:21.625Z"
   },
   {
    "duration": 0,
    "start_time": "2024-08-03T07:35:21.627Z"
   },
   {
    "duration": 0,
    "start_time": "2024-08-03T07:35:21.631Z"
   },
   {
    "duration": 0,
    "start_time": "2024-08-03T07:35:21.634Z"
   },
   {
    "duration": 0,
    "start_time": "2024-08-03T07:35:21.636Z"
   },
   {
    "duration": 0,
    "start_time": "2024-08-03T07:35:21.638Z"
   },
   {
    "duration": 0,
    "start_time": "2024-08-03T07:35:21.641Z"
   },
   {
    "duration": 0,
    "start_time": "2024-08-03T07:35:21.643Z"
   },
   {
    "duration": 0,
    "start_time": "2024-08-03T07:35:21.645Z"
   },
   {
    "duration": 0,
    "start_time": "2024-08-03T07:35:21.647Z"
   },
   {
    "duration": 0,
    "start_time": "2024-08-03T07:35:21.650Z"
   },
   {
    "duration": 29,
    "start_time": "2024-08-03T07:35:36.909Z"
   },
   {
    "duration": 25,
    "start_time": "2024-08-03T07:36:24.660Z"
   },
   {
    "duration": 24,
    "start_time": "2024-08-03T07:37:18.308Z"
   },
   {
    "duration": 24,
    "start_time": "2024-08-03T07:37:24.803Z"
   },
   {
    "duration": 24,
    "start_time": "2024-08-03T07:37:29.482Z"
   },
   {
    "duration": 4967,
    "start_time": "2024-08-04T06:59:04.255Z"
   },
   {
    "duration": 11,
    "start_time": "2024-08-04T06:59:09.227Z"
   },
   {
    "duration": 4,
    "start_time": "2024-08-04T06:59:09.242Z"
   },
   {
    "duration": 1049,
    "start_time": "2024-08-04T06:59:09.252Z"
   },
   {
    "duration": 23,
    "start_time": "2024-08-04T06:59:10.304Z"
   },
   {
    "duration": 41,
    "start_time": "2024-08-04T06:59:10.330Z"
   },
   {
    "duration": 4,
    "start_time": "2024-08-04T06:59:10.375Z"
   },
   {
    "duration": 5124,
    "start_time": "2024-08-04T06:59:10.383Z"
   },
   {
    "duration": 1034,
    "start_time": "2024-08-04T06:59:15.509Z"
   },
   {
    "duration": 8,
    "start_time": "2024-08-04T06:59:16.550Z"
   },
   {
    "duration": 557,
    "start_time": "2024-08-04T06:59:16.561Z"
   },
   {
    "duration": 6470,
    "start_time": "2024-08-04T06:59:17.126Z"
   },
   {
    "duration": 342,
    "start_time": "2024-08-04T06:59:23.599Z"
   },
   {
    "duration": 3,
    "start_time": "2024-08-04T06:59:23.944Z"
   },
   {
    "duration": 31,
    "start_time": "2024-08-04T06:59:23.950Z"
   },
   {
    "duration": 41,
    "start_time": "2024-08-04T06:59:23.984Z"
   },
   {
    "duration": 977,
    "start_time": "2024-08-04T06:59:24.028Z"
   },
   {
    "duration": 4,
    "start_time": "2024-08-04T06:59:25.007Z"
   },
   {
    "duration": 3,
    "start_time": "2024-08-04T06:59:25.027Z"
   },
   {
    "duration": 4,
    "start_time": "2024-08-04T06:59:25.033Z"
   },
   {
    "duration": 4,
    "start_time": "2024-08-04T06:59:25.040Z"
   },
   {
    "duration": 3934,
    "start_time": "2024-08-04T06:59:25.047Z"
   },
   {
    "duration": 4,
    "start_time": "2024-08-04T06:59:28.985Z"
   },
   {
    "duration": 55,
    "start_time": "2024-08-04T06:59:28.993Z"
   },
   {
    "duration": 777,
    "start_time": "2024-08-04T06:59:29.051Z"
   },
   {
    "duration": 0,
    "start_time": "2024-08-04T06:59:29.831Z"
   },
   {
    "duration": 0,
    "start_time": "2024-08-04T06:59:29.833Z"
   },
   {
    "duration": 0,
    "start_time": "2024-08-04T06:59:29.836Z"
   },
   {
    "duration": 0,
    "start_time": "2024-08-04T06:59:29.839Z"
   },
   {
    "duration": 0,
    "start_time": "2024-08-04T06:59:29.842Z"
   },
   {
    "duration": 0,
    "start_time": "2024-08-04T06:59:29.844Z"
   },
   {
    "duration": 0,
    "start_time": "2024-08-04T06:59:29.847Z"
   },
   {
    "duration": 0,
    "start_time": "2024-08-04T06:59:29.848Z"
   },
   {
    "duration": 0,
    "start_time": "2024-08-04T06:59:29.851Z"
   },
   {
    "duration": 0,
    "start_time": "2024-08-04T06:59:29.858Z"
   },
   {
    "duration": 0,
    "start_time": "2024-08-04T06:59:29.860Z"
   },
   {
    "duration": 365,
    "start_time": "2024-08-04T07:01:13.378Z"
   },
   {
    "duration": 160,
    "start_time": "2024-08-04T07:02:11.121Z"
   },
   {
    "duration": 1224,
    "start_time": "2024-08-04T07:02:42.282Z"
   },
   {
    "duration": 17,
    "start_time": "2024-08-04T07:02:43.509Z"
   },
   {
    "duration": 4,
    "start_time": "2024-08-04T07:02:43.529Z"
   },
   {
    "duration": 953,
    "start_time": "2024-08-04T07:02:43.538Z"
   },
   {
    "duration": 14,
    "start_time": "2024-08-04T07:02:44.494Z"
   },
   {
    "duration": 37,
    "start_time": "2024-08-04T07:02:44.527Z"
   },
   {
    "duration": 5,
    "start_time": "2024-08-04T07:02:44.567Z"
   },
   {
    "duration": 5680,
    "start_time": "2024-08-04T07:02:44.574Z"
   },
   {
    "duration": 1076,
    "start_time": "2024-08-04T07:02:50.258Z"
   },
   {
    "duration": 8,
    "start_time": "2024-08-04T07:02:51.339Z"
   },
   {
    "duration": 610,
    "start_time": "2024-08-04T07:02:51.350Z"
   },
   {
    "duration": 6508,
    "start_time": "2024-08-04T07:02:51.963Z"
   },
   {
    "duration": 245,
    "start_time": "2024-08-04T07:02:58.475Z"
   },
   {
    "duration": 3,
    "start_time": "2024-08-04T07:02:58.723Z"
   },
   {
    "duration": 29,
    "start_time": "2024-08-04T07:02:58.729Z"
   },
   {
    "duration": 5,
    "start_time": "2024-08-04T07:02:58.761Z"
   },
   {
    "duration": 993,
    "start_time": "2024-08-04T07:02:58.769Z"
   },
   {
    "duration": 4,
    "start_time": "2024-08-04T07:02:59.765Z"
   },
   {
    "duration": 4,
    "start_time": "2024-08-04T07:02:59.772Z"
   },
   {
    "duration": 3,
    "start_time": "2024-08-04T07:02:59.781Z"
   },
   {
    "duration": 39,
    "start_time": "2024-08-04T07:02:59.788Z"
   },
   {
    "duration": 3761,
    "start_time": "2024-08-04T07:02:59.830Z"
   },
   {
    "duration": 4,
    "start_time": "2024-08-04T07:03:03.594Z"
   },
   {
    "duration": 4,
    "start_time": "2024-08-04T07:03:03.601Z"
   },
   {
    "duration": 3,
    "start_time": "2024-08-04T07:03:03.628Z"
   },
   {
    "duration": 228,
    "start_time": "2024-08-04T07:03:03.634Z"
   },
   {
    "duration": 5369,
    "start_time": "2024-08-04T07:03:03.865Z"
   },
   {
    "duration": 8,
    "start_time": "2024-08-04T07:03:09.241Z"
   },
   {
    "duration": 1803,
    "start_time": "2024-08-04T07:03:09.252Z"
   },
   {
    "duration": 0,
    "start_time": "2024-08-04T07:03:11.058Z"
   },
   {
    "duration": 0,
    "start_time": "2024-08-04T07:03:11.061Z"
   },
   {
    "duration": 0,
    "start_time": "2024-08-04T07:03:11.067Z"
   },
   {
    "duration": 0,
    "start_time": "2024-08-04T07:03:11.070Z"
   },
   {
    "duration": 0,
    "start_time": "2024-08-04T07:03:11.072Z"
   },
   {
    "duration": 0,
    "start_time": "2024-08-04T07:03:11.075Z"
   },
   {
    "duration": 0,
    "start_time": "2024-08-04T07:03:11.077Z"
   },
   {
    "duration": 1337,
    "start_time": "2024-08-07T00:20:21.161Z"
   },
   {
    "duration": 12,
    "start_time": "2024-08-07T00:20:22.502Z"
   },
   {
    "duration": 4,
    "start_time": "2024-08-07T00:20:22.533Z"
   },
   {
    "duration": 1540,
    "start_time": "2024-08-07T00:20:22.541Z"
   },
   {
    "duration": 0,
    "start_time": "2024-08-07T00:20:24.088Z"
   },
   {
    "duration": 0,
    "start_time": "2024-08-07T00:20:24.090Z"
   },
   {
    "duration": 0,
    "start_time": "2024-08-07T00:20:24.093Z"
   },
   {
    "duration": 0,
    "start_time": "2024-08-07T00:20:24.097Z"
   },
   {
    "duration": 0,
    "start_time": "2024-08-07T00:20:24.099Z"
   },
   {
    "duration": 0,
    "start_time": "2024-08-07T00:20:24.101Z"
   },
   {
    "duration": 0,
    "start_time": "2024-08-07T00:20:24.104Z"
   },
   {
    "duration": 0,
    "start_time": "2024-08-07T00:20:24.133Z"
   },
   {
    "duration": 0,
    "start_time": "2024-08-07T00:20:24.135Z"
   },
   {
    "duration": 0,
    "start_time": "2024-08-07T00:20:24.138Z"
   },
   {
    "duration": 0,
    "start_time": "2024-08-07T00:20:24.140Z"
   },
   {
    "duration": 0,
    "start_time": "2024-08-07T00:20:24.143Z"
   },
   {
    "duration": 0,
    "start_time": "2024-08-07T00:20:24.145Z"
   },
   {
    "duration": 0,
    "start_time": "2024-08-07T00:20:24.147Z"
   },
   {
    "duration": 0,
    "start_time": "2024-08-07T00:20:24.149Z"
   },
   {
    "duration": 0,
    "start_time": "2024-08-07T00:20:24.152Z"
   },
   {
    "duration": 0,
    "start_time": "2024-08-07T00:20:24.154Z"
   },
   {
    "duration": 0,
    "start_time": "2024-08-07T00:20:24.157Z"
   },
   {
    "duration": 0,
    "start_time": "2024-08-07T00:20:24.159Z"
   },
   {
    "duration": 0,
    "start_time": "2024-08-07T00:20:24.162Z"
   },
   {
    "duration": 0,
    "start_time": "2024-08-07T00:20:24.164Z"
   },
   {
    "duration": 0,
    "start_time": "2024-08-07T00:20:24.166Z"
   },
   {
    "duration": 0,
    "start_time": "2024-08-07T00:20:24.169Z"
   },
   {
    "duration": 0,
    "start_time": "2024-08-07T00:20:24.171Z"
   },
   {
    "duration": 0,
    "start_time": "2024-08-07T00:20:24.173Z"
   },
   {
    "duration": 0,
    "start_time": "2024-08-07T00:20:24.176Z"
   },
   {
    "duration": 0,
    "start_time": "2024-08-07T00:20:24.178Z"
   },
   {
    "duration": 0,
    "start_time": "2024-08-07T00:20:24.180Z"
   },
   {
    "duration": 0,
    "start_time": "2024-08-07T00:20:24.181Z"
   },
   {
    "duration": 0,
    "start_time": "2024-08-07T00:20:24.182Z"
   },
   {
    "duration": 0,
    "start_time": "2024-08-07T00:20:24.183Z"
   },
   {
    "duration": 0,
    "start_time": "2024-08-07T00:20:24.235Z"
   },
   {
    "duration": 5,
    "start_time": "2024-08-07T00:20:33.726Z"
   },
   {
    "duration": 10,
    "start_time": "2024-08-07T00:20:33.736Z"
   },
   {
    "duration": 5,
    "start_time": "2024-08-07T00:20:33.748Z"
   },
   {
    "duration": 988,
    "start_time": "2024-08-07T00:20:33.759Z"
   },
   {
    "duration": 15,
    "start_time": "2024-08-07T00:20:34.750Z"
   },
   {
    "duration": 40,
    "start_time": "2024-08-07T00:20:34.767Z"
   },
   {
    "duration": 4,
    "start_time": "2024-08-07T00:20:34.834Z"
   },
   {
    "duration": 5126,
    "start_time": "2024-08-07T00:20:34.842Z"
   },
   {
    "duration": 1162,
    "start_time": "2024-08-07T00:20:39.971Z"
   },
   {
    "duration": 7,
    "start_time": "2024-08-07T00:20:41.139Z"
   },
   {
    "duration": 544,
    "start_time": "2024-08-07T00:20:41.149Z"
   },
   {
    "duration": 6537,
    "start_time": "2024-08-07T00:20:41.697Z"
   },
   {
    "duration": 246,
    "start_time": "2024-08-07T00:20:48.237Z"
   },
   {
    "duration": 362,
    "start_time": "2024-08-07T00:20:48.485Z"
   },
   {
    "duration": 0,
    "start_time": "2024-08-07T00:20:48.850Z"
   },
   {
    "duration": 1,
    "start_time": "2024-08-07T00:20:48.851Z"
   },
   {
    "duration": 0,
    "start_time": "2024-08-07T00:20:48.854Z"
   },
   {
    "duration": 0,
    "start_time": "2024-08-07T00:20:48.857Z"
   },
   {
    "duration": 0,
    "start_time": "2024-08-07T00:20:48.859Z"
   },
   {
    "duration": 0,
    "start_time": "2024-08-07T00:20:48.861Z"
   },
   {
    "duration": 0,
    "start_time": "2024-08-07T00:20:48.864Z"
   },
   {
    "duration": 0,
    "start_time": "2024-08-07T00:20:48.866Z"
   },
   {
    "duration": 0,
    "start_time": "2024-08-07T00:20:48.868Z"
   },
   {
    "duration": 0,
    "start_time": "2024-08-07T00:20:48.870Z"
   },
   {
    "duration": 0,
    "start_time": "2024-08-07T00:20:48.873Z"
   },
   {
    "duration": 27,
    "start_time": "2024-08-07T00:21:12.737Z"
   },
   {
    "duration": 5,
    "start_time": "2024-08-07T00:21:15.937Z"
   },
   {
    "duration": 1098,
    "start_time": "2024-08-07T00:21:16.297Z"
   },
   {
    "duration": 265,
    "start_time": "2024-08-07T00:21:18.205Z"
   },
   {
    "duration": 1289,
    "start_time": "2024-08-07T00:22:10.637Z"
   },
   {
    "duration": 11,
    "start_time": "2024-08-07T00:22:11.932Z"
   },
   {
    "duration": 5,
    "start_time": "2024-08-07T00:22:11.946Z"
   },
   {
    "duration": 1084,
    "start_time": "2024-08-07T00:22:11.956Z"
   },
   {
    "duration": 498,
    "start_time": "2024-08-07T00:22:24.609Z"
   },
   {
    "duration": 455,
    "start_time": "2024-08-07T00:22:25.111Z"
   },
   {
    "duration": 37,
    "start_time": "2024-08-07T00:22:38.388Z"
   },
   {
    "duration": 5247,
    "start_time": "2024-08-09T03:45:37.855Z"
   },
   {
    "duration": 13,
    "start_time": "2024-08-09T03:45:43.109Z"
   },
   {
    "duration": 5,
    "start_time": "2024-08-09T03:45:43.125Z"
   },
   {
    "duration": 1073,
    "start_time": "2024-08-09T03:45:43.135Z"
   },
   {
    "duration": 17,
    "start_time": "2024-08-09T03:45:44.211Z"
   },
   {
    "duration": 41,
    "start_time": "2024-08-09T03:45:44.231Z"
   },
   {
    "duration": 31,
    "start_time": "2024-08-09T03:45:44.277Z"
   },
   {
    "duration": 5553,
    "start_time": "2024-08-09T03:45:44.314Z"
   },
   {
    "duration": 1099,
    "start_time": "2024-08-09T03:45:49.870Z"
   },
   {
    "duration": 10,
    "start_time": "2024-08-09T03:45:50.975Z"
   },
   {
    "duration": 562,
    "start_time": "2024-08-09T03:45:50.988Z"
   },
   {
    "duration": 6892,
    "start_time": "2024-08-09T03:45:51.554Z"
   },
   {
    "duration": 7,
    "start_time": "2024-08-09T03:45:58.449Z"
   },
   {
    "duration": 0,
    "start_time": "2024-08-09T03:45:58.461Z"
   },
   {
    "duration": 0,
    "start_time": "2024-08-09T03:45:58.464Z"
   },
   {
    "duration": 0,
    "start_time": "2024-08-09T03:45:58.469Z"
   },
   {
    "duration": 0,
    "start_time": "2024-08-09T03:45:58.472Z"
   },
   {
    "duration": 0,
    "start_time": "2024-08-09T03:45:58.508Z"
   },
   {
    "duration": 0,
    "start_time": "2024-08-09T03:45:58.510Z"
   },
   {
    "duration": 0,
    "start_time": "2024-08-09T03:45:58.512Z"
   },
   {
    "duration": 0,
    "start_time": "2024-08-09T03:45:58.515Z"
   },
   {
    "duration": 0,
    "start_time": "2024-08-09T03:45:58.517Z"
   },
   {
    "duration": 0,
    "start_time": "2024-08-09T03:45:58.519Z"
   },
   {
    "duration": 0,
    "start_time": "2024-08-09T03:45:58.521Z"
   },
   {
    "duration": 0,
    "start_time": "2024-08-09T03:45:58.523Z"
   },
   {
    "duration": 0,
    "start_time": "2024-08-09T03:45:58.526Z"
   },
   {
    "duration": 0,
    "start_time": "2024-08-09T03:45:58.527Z"
   },
   {
    "duration": 0,
    "start_time": "2024-08-09T03:45:58.529Z"
   },
   {
    "duration": 0,
    "start_time": "2024-08-09T03:45:58.532Z"
   },
   {
    "duration": 0,
    "start_time": "2024-08-09T03:45:58.706Z"
   },
   {
    "duration": 0,
    "start_time": "2024-08-09T03:45:58.711Z"
   },
   {
    "duration": 0,
    "start_time": "2024-08-09T03:45:58.717Z"
   },
   {
    "duration": 0,
    "start_time": "2024-08-09T03:45:58.719Z"
   },
   {
    "duration": 0,
    "start_time": "2024-08-09T03:45:58.722Z"
   },
   {
    "duration": 0,
    "start_time": "2024-08-09T03:45:58.724Z"
   },
   {
    "duration": 0,
    "start_time": "2024-08-09T03:45:58.727Z"
   },
   {
    "duration": 0,
    "start_time": "2024-08-09T03:45:58.731Z"
   },
   {
    "duration": 261,
    "start_time": "2024-08-09T03:57:07.766Z"
   },
   {
    "duration": 1421,
    "start_time": "2024-08-09T03:57:16.998Z"
   },
   {
    "duration": 23,
    "start_time": "2024-08-09T03:57:40.907Z"
   },
   {
    "duration": 54,
    "start_time": "2024-08-09T03:58:18.228Z"
   },
   {
    "duration": 5613,
    "start_time": "2024-08-09T04:03:00.279Z"
   },
   {
    "duration": 17,
    "start_time": "2024-08-09T04:03:05.896Z"
   },
   {
    "duration": 6,
    "start_time": "2024-08-09T04:03:05.916Z"
   },
   {
    "duration": 1207,
    "start_time": "2024-08-09T04:03:05.928Z"
   },
   {
    "duration": 19,
    "start_time": "2024-08-09T04:03:07.138Z"
   },
   {
    "duration": 63,
    "start_time": "2024-08-09T04:03:07.160Z"
   },
   {
    "duration": 6,
    "start_time": "2024-08-09T04:03:07.227Z"
   },
   {
    "duration": 5513,
    "start_time": "2024-08-09T04:03:07.238Z"
   },
   {
    "duration": 1102,
    "start_time": "2024-08-09T04:03:12.754Z"
   },
   {
    "duration": 8,
    "start_time": "2024-08-09T04:03:13.865Z"
   },
   {
    "duration": 577,
    "start_time": "2024-08-09T04:03:13.876Z"
   },
   {
    "duration": 7890,
    "start_time": "2024-08-09T04:03:14.456Z"
   },
   {
    "duration": 24,
    "start_time": "2024-08-09T04:03:22.405Z"
   },
   {
    "duration": 2172,
    "start_time": "2024-08-09T04:03:22.433Z"
   },
   {
    "duration": 63,
    "start_time": "2024-08-09T04:03:24.610Z"
   },
   {
    "duration": 6,
    "start_time": "2024-08-09T04:03:24.677Z"
   },
   {
    "duration": 0,
    "start_time": "2024-08-09T04:03:24.708Z"
   },
   {
    "duration": 0,
    "start_time": "2024-08-09T04:03:24.711Z"
   },
   {
    "duration": 0,
    "start_time": "2024-08-09T04:03:24.713Z"
   },
   {
    "duration": 0,
    "start_time": "2024-08-09T04:03:24.716Z"
   },
   {
    "duration": 0,
    "start_time": "2024-08-09T04:03:24.718Z"
   },
   {
    "duration": 0,
    "start_time": "2024-08-09T04:03:24.720Z"
   },
   {
    "duration": 0,
    "start_time": "2024-08-09T04:03:24.722Z"
   },
   {
    "duration": 0,
    "start_time": "2024-08-09T04:03:24.727Z"
   },
   {
    "duration": 1,
    "start_time": "2024-08-09T04:03:24.729Z"
   },
   {
    "duration": 0,
    "start_time": "2024-08-09T04:03:24.731Z"
   },
   {
    "duration": 0,
    "start_time": "2024-08-09T04:03:24.734Z"
   },
   {
    "duration": 0,
    "start_time": "2024-08-09T04:03:24.736Z"
   },
   {
    "duration": 0,
    "start_time": "2024-08-09T04:03:24.746Z"
   },
   {
    "duration": 0,
    "start_time": "2024-08-09T04:03:24.748Z"
   },
   {
    "duration": 0,
    "start_time": "2024-08-09T04:03:24.807Z"
   },
   {
    "duration": 0,
    "start_time": "2024-08-09T04:03:24.810Z"
   },
   {
    "duration": 0,
    "start_time": "2024-08-09T04:03:24.812Z"
   },
   {
    "duration": 1048,
    "start_time": "2024-08-09T04:04:31.897Z"
   },
   {
    "duration": 10625,
    "start_time": "2024-08-09T04:05:37.767Z"
   },
   {
    "duration": 6512,
    "start_time": "2024-08-09T04:05:48.396Z"
   },
   {
    "duration": 1132,
    "start_time": "2024-08-09T04:05:54.911Z"
   },
   {
    "duration": 6580,
    "start_time": "2024-08-09T04:07:02.022Z"
   },
   {
    "duration": 20,
    "start_time": "2024-08-09T04:07:08.606Z"
   },
   {
    "duration": 6,
    "start_time": "2024-08-09T04:07:08.629Z"
   },
   {
    "duration": 1226,
    "start_time": "2024-08-09T04:07:08.639Z"
   },
   {
    "duration": 18,
    "start_time": "2024-08-09T04:07:09.871Z"
   },
   {
    "duration": 41,
    "start_time": "2024-08-09T04:07:09.908Z"
   },
   {
    "duration": 6,
    "start_time": "2024-08-09T04:07:09.953Z"
   },
   {
    "duration": 5468,
    "start_time": "2024-08-09T04:07:09.963Z"
   },
   {
    "duration": 1119,
    "start_time": "2024-08-09T04:07:15.436Z"
   },
   {
    "duration": 10,
    "start_time": "2024-08-09T04:07:16.558Z"
   },
   {
    "duration": 578,
    "start_time": "2024-08-09T04:07:16.574Z"
   },
   {
    "duration": 6989,
    "start_time": "2024-08-09T04:07:17.156Z"
   },
   {
    "duration": 24,
    "start_time": "2024-08-09T04:07:24.149Z"
   },
   {
    "duration": 1518,
    "start_time": "2024-08-09T04:07:24.180Z"
   },
   {
    "duration": 56,
    "start_time": "2024-08-09T04:07:25.701Z"
   },
   {
    "duration": 1082,
    "start_time": "2024-08-09T04:07:25.760Z"
   },
   {
    "duration": 9271,
    "start_time": "2024-08-09T04:07:26.845Z"
   },
   {
    "duration": 1491,
    "start_time": "2024-08-09T04:07:36.119Z"
   },
   {
    "duration": 1299,
    "start_time": "2024-08-09T04:07:37.620Z"
   },
   {
    "duration": 7,
    "start_time": "2024-08-09T04:07:38.923Z"
   },
   {
    "duration": 0,
    "start_time": "2024-08-09T04:07:38.933Z"
   },
   {
    "duration": 0,
    "start_time": "2024-08-09T04:07:38.935Z"
   },
   {
    "duration": 0,
    "start_time": "2024-08-09T04:07:38.938Z"
   },
   {
    "duration": 0,
    "start_time": "2024-08-09T04:07:38.940Z"
   },
   {
    "duration": 0,
    "start_time": "2024-08-09T04:07:38.943Z"
   },
   {
    "duration": 0,
    "start_time": "2024-08-09T04:07:38.945Z"
   },
   {
    "duration": 0,
    "start_time": "2024-08-09T04:07:38.948Z"
   },
   {
    "duration": 0,
    "start_time": "2024-08-09T04:07:38.950Z"
   },
   {
    "duration": 0,
    "start_time": "2024-08-09T04:07:38.953Z"
   },
   {
    "duration": 1,
    "start_time": "2024-08-09T04:07:39.006Z"
   },
   {
    "duration": 0,
    "start_time": "2024-08-09T04:07:39.008Z"
   },
   {
    "duration": 0,
    "start_time": "2024-08-09T04:07:39.011Z"
   },
   {
    "duration": 0,
    "start_time": "2024-08-09T04:07:39.013Z"
   },
   {
    "duration": 5525,
    "start_time": "2024-08-09T04:12:15.760Z"
   },
   {
    "duration": 18,
    "start_time": "2024-08-09T04:12:21.290Z"
   },
   {
    "duration": 6,
    "start_time": "2024-08-09T04:12:21.311Z"
   },
   {
    "duration": 1203,
    "start_time": "2024-08-09T04:12:21.323Z"
   },
   {
    "duration": 18,
    "start_time": "2024-08-09T04:12:22.530Z"
   },
   {
    "duration": 66,
    "start_time": "2024-08-09T04:12:22.552Z"
   },
   {
    "duration": 5,
    "start_time": "2024-08-09T04:12:22.622Z"
   },
   {
    "duration": 5463,
    "start_time": "2024-08-09T04:12:22.632Z"
   },
   {
    "duration": 1156,
    "start_time": "2024-08-09T04:12:28.098Z"
   },
   {
    "duration": 8,
    "start_time": "2024-08-09T04:12:29.260Z"
   },
   {
    "duration": 567,
    "start_time": "2024-08-09T04:12:29.272Z"
   },
   {
    "duration": 7034,
    "start_time": "2024-08-09T04:12:29.843Z"
   },
   {
    "duration": 33,
    "start_time": "2024-08-09T04:12:36.880Z"
   },
   {
    "duration": 1499,
    "start_time": "2024-08-09T04:12:36.916Z"
   },
   {
    "duration": 53,
    "start_time": "2024-08-09T04:12:38.419Z"
   },
   {
    "duration": 1141,
    "start_time": "2024-08-09T04:12:38.476Z"
   },
   {
    "duration": 9244,
    "start_time": "2024-08-09T04:12:39.621Z"
   },
   {
    "duration": 1461,
    "start_time": "2024-08-09T04:12:48.868Z"
   },
   {
    "duration": 1232,
    "start_time": "2024-08-09T04:12:50.407Z"
   },
   {
    "duration": 1115297,
    "start_time": "2024-08-09T04:12:51.643Z"
   },
   {
    "duration": 10056,
    "start_time": "2024-08-09T04:31:26.943Z"
   },
   {
    "duration": 101526,
    "start_time": "2024-08-09T04:31:37.006Z"
   },
   {
    "duration": 7,
    "start_time": "2024-08-09T04:33:18.534Z"
   },
   {
    "duration": 0,
    "start_time": "2024-08-09T04:33:18.544Z"
   },
   {
    "duration": 0,
    "start_time": "2024-08-09T04:33:18.546Z"
   },
   {
    "duration": 0,
    "start_time": "2024-08-09T04:33:18.549Z"
   },
   {
    "duration": 0,
    "start_time": "2024-08-09T04:33:18.552Z"
   },
   {
    "duration": 0,
    "start_time": "2024-08-09T04:33:18.555Z"
   },
   {
    "duration": 0,
    "start_time": "2024-08-09T04:33:18.559Z"
   },
   {
    "duration": 0,
    "start_time": "2024-08-09T04:33:18.560Z"
   },
   {
    "duration": 0,
    "start_time": "2024-08-09T04:33:18.562Z"
   },
   {
    "duration": 0,
    "start_time": "2024-08-09T04:33:18.564Z"
   },
   {
    "duration": 1,
    "start_time": "2024-08-09T04:33:18.566Z"
   },
   {
    "duration": 0,
    "start_time": "2024-08-09T04:33:18.606Z"
   },
   {
    "duration": 1141,
    "start_time": "2024-08-09T04:42:36.182Z"
   },
   {
    "duration": 34,
    "start_time": "2024-08-09T04:43:45.952Z"
   },
   {
    "duration": 33,
    "start_time": "2024-08-09T04:47:05.548Z"
   },
   {
    "duration": 34,
    "start_time": "2024-08-09T04:47:07.791Z"
   },
   {
    "duration": 867,
    "start_time": "2024-08-09T04:47:53.044Z"
   },
   {
    "duration": 4,
    "start_time": "2024-08-09T04:51:49.548Z"
   },
   {
    "duration": 33,
    "start_time": "2024-08-09T04:51:51.709Z"
   },
   {
    "duration": 37,
    "start_time": "2024-08-09T04:52:10.076Z"
   },
   {
    "duration": 5597,
    "start_time": "2024-08-09T04:54:51.793Z"
   },
   {
    "duration": 18,
    "start_time": "2024-08-09T04:54:57.395Z"
   },
   {
    "duration": 5,
    "start_time": "2024-08-09T04:54:57.417Z"
   },
   {
    "duration": 1245,
    "start_time": "2024-08-09T04:54:57.426Z"
   },
   {
    "duration": 31,
    "start_time": "2024-08-09T04:54:58.675Z"
   },
   {
    "duration": 43,
    "start_time": "2024-08-09T04:54:58.710Z"
   },
   {
    "duration": 5,
    "start_time": "2024-08-09T04:54:58.756Z"
   },
   {
    "duration": 5441,
    "start_time": "2024-08-09T04:54:58.766Z"
   },
   {
    "duration": 1159,
    "start_time": "2024-08-09T04:55:04.211Z"
   },
   {
    "duration": 28,
    "start_time": "2024-08-09T04:55:05.378Z"
   },
   {
    "duration": 543,
    "start_time": "2024-08-09T04:55:05.409Z"
   },
   {
    "duration": 7180,
    "start_time": "2024-08-09T04:55:05.955Z"
   },
   {
    "duration": 24,
    "start_time": "2024-08-09T04:55:13.139Z"
   },
   {
    "duration": 1539,
    "start_time": "2024-08-09T04:55:13.167Z"
   },
   {
    "duration": 53,
    "start_time": "2024-08-09T04:55:14.710Z"
   },
   {
    "duration": 1094,
    "start_time": "2024-08-09T04:55:14.767Z"
   },
   {
    "duration": 9312,
    "start_time": "2024-08-09T04:55:15.864Z"
   },
   {
    "duration": 1534,
    "start_time": "2024-08-09T04:55:25.180Z"
   },
   {
    "duration": 1329,
    "start_time": "2024-08-09T04:55:26.717Z"
   },
   {
    "duration": 1077449,
    "start_time": "2024-08-09T04:55:28.051Z"
   },
   {
    "duration": 9807,
    "start_time": "2024-08-09T05:13:25.503Z"
   },
   {
    "duration": 96404,
    "start_time": "2024-08-09T05:13:35.313Z"
   },
   {
    "duration": 20,
    "start_time": "2024-08-09T05:15:11.720Z"
   },
   {
    "duration": 2063,
    "start_time": "2024-08-09T05:15:11.743Z"
   },
   {
    "duration": 0,
    "start_time": "2024-08-09T05:15:13.811Z"
   },
   {
    "duration": 0,
    "start_time": "2024-08-09T05:15:13.813Z"
   },
   {
    "duration": 0,
    "start_time": "2024-08-09T05:15:13.816Z"
   },
   {
    "duration": 0,
    "start_time": "2024-08-09T05:15:13.818Z"
   },
   {
    "duration": 0,
    "start_time": "2024-08-09T05:15:13.821Z"
   },
   {
    "duration": 0,
    "start_time": "2024-08-09T05:15:13.824Z"
   },
   {
    "duration": 0,
    "start_time": "2024-08-09T05:15:13.827Z"
   },
   {
    "duration": 0,
    "start_time": "2024-08-09T05:15:13.829Z"
   },
   {
    "duration": 0,
    "start_time": "2024-08-09T05:15:13.832Z"
   },
   {
    "duration": 0,
    "start_time": "2024-08-09T05:15:13.834Z"
   },
   {
    "duration": 0,
    "start_time": "2024-08-09T05:15:13.836Z"
   },
   {
    "duration": 17,
    "start_time": "2024-08-09T05:28:03.283Z"
   },
   {
    "duration": 440,
    "start_time": "2024-08-09T05:28:05.085Z"
   },
   {
    "duration": 398,
    "start_time": "2024-08-09T05:28:51.535Z"
   },
   {
    "duration": 17,
    "start_time": "2024-08-09T05:29:14.763Z"
   },
   {
    "duration": 411,
    "start_time": "2024-08-09T05:29:15.695Z"
   },
   {
    "duration": 33,
    "start_time": "2024-08-09T05:33:08.778Z"
   },
   {
    "duration": 1008,
    "start_time": "2024-08-09T05:33:10.279Z"
   },
   {
    "duration": 14,
    "start_time": "2024-08-09T05:36:11.540Z"
   },
   {
    "duration": 181,
    "start_time": "2024-08-09T05:36:12.622Z"
   },
   {
    "duration": 36,
    "start_time": "2024-08-09T05:38:34.127Z"
   },
   {
    "duration": 13,
    "start_time": "2024-08-09T05:38:43.072Z"
   },
   {
    "duration": 173347,
    "start_time": "2024-08-09T05:38:43.995Z"
   },
   {
    "duration": 18,
    "start_time": "2024-08-09T05:42:14.874Z"
   },
   {
    "duration": 309,
    "start_time": "2024-08-09T05:42:51.291Z"
   },
   {
    "duration": 5288,
    "start_time": "2024-08-12T05:34:46.283Z"
   },
   {
    "duration": 16,
    "start_time": "2024-08-12T05:34:51.575Z"
   },
   {
    "duration": 5,
    "start_time": "2024-08-12T05:34:51.594Z"
   },
   {
    "duration": 1207,
    "start_time": "2024-08-12T05:34:51.604Z"
   },
   {
    "duration": 18,
    "start_time": "2024-08-12T05:34:52.814Z"
   },
   {
    "duration": 66,
    "start_time": "2024-08-12T05:34:52.836Z"
   },
   {
    "duration": 6,
    "start_time": "2024-08-12T05:34:52.905Z"
   },
   {
    "duration": 6537,
    "start_time": "2024-08-12T05:34:52.914Z"
   },
   {
    "duration": 1069,
    "start_time": "2024-08-12T05:34:59.454Z"
   },
   {
    "duration": 8,
    "start_time": "2024-08-12T05:35:00.527Z"
   },
   {
    "duration": 571,
    "start_time": "2024-08-12T05:35:00.538Z"
   },
   {
    "duration": 6725,
    "start_time": "2024-08-12T05:35:01.112Z"
   },
   {
    "duration": 6,
    "start_time": "2024-08-12T05:35:13.185Z"
   },
   {
    "duration": 10,
    "start_time": "2024-08-12T05:35:13.195Z"
   },
   {
    "duration": 4,
    "start_time": "2024-08-12T05:35:13.209Z"
   },
   {
    "duration": 995,
    "start_time": "2024-08-12T05:35:13.218Z"
   },
   {
    "duration": 13,
    "start_time": "2024-08-12T05:35:14.217Z"
   },
   {
    "duration": 38,
    "start_time": "2024-08-12T05:35:14.235Z"
   },
   {
    "duration": 5,
    "start_time": "2024-08-12T05:35:14.302Z"
   },
   {
    "duration": 5392,
    "start_time": "2024-08-12T05:35:14.310Z"
   },
   {
    "duration": 1031,
    "start_time": "2024-08-12T05:35:19.706Z"
   },
   {
    "duration": 10,
    "start_time": "2024-08-12T05:35:20.745Z"
   },
   {
    "duration": 555,
    "start_time": "2024-08-12T05:35:20.757Z"
   },
   {
    "duration": 6851,
    "start_time": "2024-08-12T05:35:21.315Z"
   },
   {
    "duration": 36,
    "start_time": "2024-08-12T05:35:28.172Z"
   },
   {
    "duration": 1447,
    "start_time": "2024-08-12T05:35:28.212Z"
   },
   {
    "duration": 63,
    "start_time": "2024-08-12T05:35:29.662Z"
   },
   {
    "duration": 1037,
    "start_time": "2024-08-12T05:35:29.727Z"
   },
   {
    "duration": 9318,
    "start_time": "2024-08-12T05:35:30.767Z"
   },
   {
    "duration": 1514,
    "start_time": "2024-08-12T05:35:40.088Z"
   },
   {
    "duration": 1215,
    "start_time": "2024-08-12T05:35:41.605Z"
   },
   {
    "duration": 715704,
    "start_time": "2024-08-12T05:35:42.824Z"
   },
   {
    "duration": 0,
    "start_time": "2024-08-12T05:47:38.532Z"
   },
   {
    "duration": 0,
    "start_time": "2024-08-12T05:47:38.534Z"
   },
   {
    "duration": 0,
    "start_time": "2024-08-12T05:47:38.537Z"
   },
   {
    "duration": 0,
    "start_time": "2024-08-12T05:47:38.540Z"
   },
   {
    "duration": 14,
    "start_time": "2024-08-12T05:47:51.730Z"
   },
   {
    "duration": 451,
    "start_time": "2024-08-12T05:47:51.887Z"
   },
   {
    "duration": 39,
    "start_time": "2024-08-12T05:48:14.913Z"
   },
   {
    "duration": 852,
    "start_time": "2024-08-12T05:49:49.432Z"
   },
   {
    "duration": 136,
    "start_time": "2024-08-12T05:50:14.059Z"
   },
   {
    "duration": 137,
    "start_time": "2024-08-12T05:50:14.429Z"
   },
   {
    "duration": 483,
    "start_time": "2024-08-12T05:50:15.783Z"
   },
   {
    "duration": 8516,
    "start_time": "2024-08-14T06:04:02.328Z"
   },
   {
    "duration": 17,
    "start_time": "2024-08-14T06:04:10.847Z"
   },
   {
    "duration": 5,
    "start_time": "2024-08-14T06:04:10.867Z"
   },
   {
    "duration": 1172,
    "start_time": "2024-08-14T06:04:10.876Z"
   },
   {
    "duration": 16,
    "start_time": "2024-08-14T06:04:12.051Z"
   },
   {
    "duration": 62,
    "start_time": "2024-08-14T06:04:12.070Z"
   },
   {
    "duration": 6,
    "start_time": "2024-08-14T06:04:12.135Z"
   },
   {
    "duration": 4999,
    "start_time": "2024-08-14T06:04:12.146Z"
   },
   {
    "duration": 992,
    "start_time": "2024-08-14T06:04:17.148Z"
   },
   {
    "duration": 8,
    "start_time": "2024-08-14T06:04:18.146Z"
   },
   {
    "duration": 542,
    "start_time": "2024-08-14T06:04:18.156Z"
   },
   {
    "duration": 6596,
    "start_time": "2024-08-14T06:04:18.702Z"
   },
   {
    "duration": 31,
    "start_time": "2024-08-14T06:04:25.302Z"
   },
   {
    "duration": 1433,
    "start_time": "2024-08-14T06:04:25.337Z"
   },
   {
    "duration": 60,
    "start_time": "2024-08-14T06:04:26.772Z"
   },
   {
    "duration": 986,
    "start_time": "2024-08-14T06:04:26.836Z"
   },
   {
    "duration": 8375,
    "start_time": "2024-08-14T06:04:27.825Z"
   },
   {
    "duration": 1545,
    "start_time": "2024-08-14T06:04:36.203Z"
   },
   {
    "duration": 1214,
    "start_time": "2024-08-14T06:04:37.751Z"
   },
   {
    "duration": 1036254,
    "start_time": "2024-08-14T06:04:38.968Z"
   },
   {
    "duration": 9402,
    "start_time": "2024-08-14T06:21:55.224Z"
   },
   {
    "duration": 90852,
    "start_time": "2024-08-14T06:22:04.632Z"
   },
   {
    "duration": 13,
    "start_time": "2024-08-14T06:23:35.487Z"
   },
   {
    "duration": 1465,
    "start_time": "2024-08-14T06:23:35.503Z"
   },
   {
    "duration": 0,
    "start_time": "2024-08-14T06:23:36.972Z"
   },
   {
    "duration": 0,
    "start_time": "2024-08-14T06:23:36.974Z"
   },
   {
    "duration": 0,
    "start_time": "2024-08-14T06:23:36.975Z"
   },
   {
    "duration": 0,
    "start_time": "2024-08-14T06:23:36.978Z"
   },
   {
    "duration": 0,
    "start_time": "2024-08-14T06:23:36.979Z"
   },
   {
    "duration": 0,
    "start_time": "2024-08-14T06:23:36.981Z"
   },
   {
    "duration": 0,
    "start_time": "2024-08-14T06:23:36.983Z"
   },
   {
    "duration": 0,
    "start_time": "2024-08-14T06:23:36.985Z"
   },
   {
    "duration": 0,
    "start_time": "2024-08-14T06:23:36.988Z"
   },
   {
    "duration": 0,
    "start_time": "2024-08-14T06:23:36.992Z"
   },
   {
    "duration": 4926,
    "start_time": "2024-08-14T07:12:54.338Z"
   },
   {
    "duration": 5551,
    "start_time": "2024-08-15T00:30:12.210Z"
   },
   {
    "duration": 18,
    "start_time": "2024-08-15T00:30:17.765Z"
   },
   {
    "duration": 4,
    "start_time": "2024-08-15T00:30:17.787Z"
   },
   {
    "duration": 1217,
    "start_time": "2024-08-15T00:30:17.796Z"
   },
   {
    "duration": 25,
    "start_time": "2024-08-15T00:30:19.018Z"
   },
   {
    "duration": 43,
    "start_time": "2024-08-15T00:30:19.046Z"
   },
   {
    "duration": 5,
    "start_time": "2024-08-15T00:30:19.091Z"
   },
   {
    "duration": 5247,
    "start_time": "2024-08-15T00:30:19.099Z"
   },
   {
    "duration": 1139,
    "start_time": "2024-08-15T00:30:24.349Z"
   },
   {
    "duration": 9,
    "start_time": "2024-08-15T00:30:25.495Z"
   },
   {
    "duration": 541,
    "start_time": "2024-08-15T00:30:25.507Z"
   },
   {
    "duration": 6794,
    "start_time": "2024-08-15T00:30:26.050Z"
   },
   {
    "duration": 24,
    "start_time": "2024-08-15T00:30:32.847Z"
   },
   {
    "duration": 1561,
    "start_time": "2024-08-15T00:30:32.875Z"
   },
   {
    "duration": 50,
    "start_time": "2024-08-15T00:30:34.440Z"
   },
   {
    "duration": 1035,
    "start_time": "2024-08-15T00:30:34.493Z"
   },
   {
    "duration": 8996,
    "start_time": "2024-08-15T00:30:35.533Z"
   },
   {
    "duration": 1801,
    "start_time": "2024-08-15T00:30:44.532Z"
   },
   {
    "duration": 1254,
    "start_time": "2024-08-15T00:30:46.339Z"
   }
  ],
  "kernelspec": {
   "display_name": "Python 3 (ipykernel)",
   "language": "python",
   "name": "python3"
  },
  "language_info": {
   "codemirror_mode": {
    "name": "ipython",
    "version": 3
   },
   "file_extension": ".py",
   "mimetype": "text/x-python",
   "name": "python",
   "nbconvert_exporter": "python",
   "pygments_lexer": "ipython3",
   "version": "3.9.19"
  },
  "toc": {
   "base_numbering": 1,
   "nav_menu": {},
   "number_sections": true,
   "sideBar": true,
   "skip_h1_title": true,
   "title_cell": "Table of Contents",
   "title_sidebar": "Contents",
   "toc_cell": false,
   "toc_position": {
    "height": "calc(100% - 180px)",
    "left": "10px",
    "top": "150px",
    "width": "165px"
   },
   "toc_section_display": true,
   "toc_window_display": true
  },
  "vscode": {
   "interpreter": {
    "hash": "ac629f305345b17df6668bc9b17021b4f12075c260532782c34ed55a489bc20f"
   }
  }
 },
 "nbformat": 4,
 "nbformat_minor": 4
}
