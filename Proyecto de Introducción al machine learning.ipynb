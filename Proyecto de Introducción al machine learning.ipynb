{
 "cells": [
  {
   "cell_type": "markdown",
   "metadata": {},
   "source": [
    "¡Hola Guillermo! Como te va?\n",
    "\n",
    "Mi nombre es Facundo Lozano! Un gusto conocerte, seré tu revisor en este proyecto.\n",
    "\n",
    "A continuación un poco sobre la modalidad de revisión que usaremos:\n",
    "\n",
    "Cuando enccuentro un error por primera vez, simplemente lo señalaré, te dejaré encontrarlo y arreglarlo tú cuenta. Además, a lo largo del texto iré haciendo algunas observaciones sobre mejora en tu código y también haré comentarios sobre tus percepciones sobre el tema. Pero si aún no puedes realizar esta tarea, te daré una pista más precisa en la próxima iteración y también algunos ejemplos prácticos. Estaré abierto a comentarios y discusiones sobre el tema.\n",
    "\n",
    "Encontrará mis comentarios a continuación: **no los mueva, modifique ni elimine**.\n",
    "\n",
    "Puedes encontrar mis comentarios en cuadros verdes, amarillos o rojos como este:\n",
    "\n",
    "<div class=\"alert alert-block alert-success\">\n",
    "<b>Comentario del revisor.</b> <a class=\"tocSkip\"></a>\n",
    "\n",
    "Exito. Todo se ha hecho de forma exitosa.\n",
    "</div>\n",
    "\n",
    "<div class=\"alert alert-block alert-warning\">\n",
    "<b>Comentario del revisor.</b> <a class=\"tocSkip\"></a>\n",
    "\n",
    "Observación. Algunas recomendaciones.\n",
    "</div>\n",
    "\n",
    "<div class=\"alert alert-block alert-danger\">\n",
    "\n",
    "<b>Comentario del revisor.</b> <a class=\"tocSkip\"></a>\n",
    "\n",
    "Necesita arreglos. Este apartado necesita algunas correcciones. El trabajo no puede ser aceptado con comentarios rojos. \n",
    "</div>\n",
    "\n",
    "Puedes responder utilizando esto:\n",
    "\n",
    "<div class=\"alert alert-block alert-info\">\n",
    "<b>Respuesta de estudiante.</b> <a class=\"tocSkip\"></a>\n",
    "</div>"
   ]
  },
  {
   "cell_type": "markdown",
   "metadata": {},
   "source": [
    "# Proyecto Sprint 008"
   ]
  },
  {
   "cell_type": "markdown",
   "metadata": {},
   "source": [
    " <div class=\"alert alert-block alert-success\">\n",
    "<b>Review General. (Iteración 2) </b> <a class=\"tocSkip\"></a>\n",
    "\n",
    "Felicitaciones Guillermo, has implementado los cambios que te he indicado, bien hecho! Hemos alcanzado los objetivos del proyecto por lo que está en condiciones de ser aprobado!\n",
    "    \n",
    "Felicitaciones y éxitos en tu camino dentro del mundo de los datos!\n",
    "    \n",
    "Saludos!"
   ]
  },
  {
   "cell_type": "markdown",
   "metadata": {},
   "source": [
    "<div class=\"alert alert-block alert-success\">\n",
    "<b>Review General. (Iteración 1) </b> <a class=\"tocSkip\"></a>\n",
    "\n",
    "Guillermo, siempre me tomo este tiempo al inicio de tu proyecto para comentarte mis apreciaciones generales de esta iteración de tu entrega. Antes que nada disculpas por la demora, tras una enfermedad espontanea que he tenido se han demorado mis correcciones. Espero ser de ayuda :)\n",
    "\n",
    "Me gusta comenzar dando la bienvenida al mundo de los datos a los estudiantes, te deseo lo mejor y espero que consigas lograr tus objetivos. Personalmente me gusta brindar el siguiente consejo, \"Está bien equivocarse, es normal y es lo mejor que te puede pasar. Aprendemos de los errores y eso te hará mejor programador ya que podrás descubrir cosas a medida que avances y son estas cosas las que te darán esa experiencia para ser un gran Data Scientist\"\n",
    "    \n",
    "Ahora si yendo a esta notebook. Guillermo lo he dicho al final del proyecto y lo recalco aquí, has hecho un trabajo increible y se ha notado tu gran compromiso en todo momento, se nota tu gran capacidad de manejo sobre las herramientas y de comprensión de lo obtenido. Solo nos ha quedado para resolver un tema pero que estoy seguro que te tomara unos minutos, te he dejado un comentario en rojo con el contexto necesario para que puedas resolverlo.\n",
    "\n",
    "Espero con ansias a nuestra próxima iteración Guillermo!\n",
    "    \n",
    "Éxitos y saludos!"
   ]
  },
  {
   "cell_type": "markdown",
   "metadata": {},
   "source": [
    "## .- Introducción"
   ]
  },
  {
   "cell_type": "code",
   "execution_count": null,
   "metadata": {},
   "outputs": [],
   "source": []
  },
  {
   "cell_type": "markdown",
   "metadata": {},
   "source": [
    "La compañía móvil Megaline enfrenta un desafío importante: muchos de sus clientes siguen utilizando planes heredados, lo que puede afectar negativamente su satisfacción y retención. Para abordar este problema, Megaline busca desarrollar un modelo que pueda analizar el comportamiento de los clientes y recomendar uno de sus nuevos planes: Smart o Ultra. "
   ]
  },
  {
   "cell_type": "markdown",
   "metadata": {},
   "source": [
    "Este proyecto se centra en crear un modelo de clasificación que, utilizando los datos de comportamiento de los suscriptores que ya se han cambiado a los nuevos planes, pueda predecir con una exactitud mínima del 75% cuál de los dos nuevos planes (Smart o Ultra) es el más adecuado para cada cliente."
   ]
  },
  {
   "cell_type": "code",
   "execution_count": null,
   "metadata": {},
   "outputs": [],
   "source": []
  },
  {
   "cell_type": "markdown",
   "metadata": {},
   "source": [
    "## .- Importar librerías, cargar datos y su revisión."
   ]
  },
  {
   "cell_type": "code",
   "execution_count": null,
   "metadata": {},
   "outputs": [],
   "source": []
  },
  {
   "cell_type": "markdown",
   "metadata": {},
   "source": [
    "### Importar librerías"
   ]
  },
  {
   "cell_type": "code",
   "execution_count": 1,
   "metadata": {},
   "outputs": [],
   "source": [
    "import pandas as pd\n",
    "from sklearn.model_selection import train_test_split\n",
    "from sklearn.linear_model import LogisticRegression\n",
    "from sklearn.tree import DecisionTreeClassifier\n",
    "from sklearn.ensemble import RandomForestClassifier\n",
    "from sklearn.metrics import accuracy_score\n",
    "from IPython.display import display"
   ]
  },
  {
   "cell_type": "code",
   "execution_count": null,
   "metadata": {},
   "outputs": [],
   "source": []
  },
  {
   "cell_type": "markdown",
   "metadata": {},
   "source": [
    "### Cargar datos"
   ]
  },
  {
   "cell_type": "code",
   "execution_count": 2,
   "metadata": {},
   "outputs": [],
   "source": [
    "df_mega_line = pd.read_csv('/datasets/users_behavior.csv')"
   ]
  },
  {
   "cell_type": "code",
   "execution_count": null,
   "metadata": {},
   "outputs": [],
   "source": []
  },
  {
   "cell_type": "markdown",
   "metadata": {},
   "source": [
    "### Revisar información básica"
   ]
  },
  {
   "cell_type": "markdown",
   "metadata": {},
   "source": [
    "#### Usar .info()"
   ]
  },
  {
   "cell_type": "code",
   "execution_count": 3,
   "metadata": {},
   "outputs": [
    {
     "name": "stdout",
     "output_type": "stream",
     "text": [
      "<class 'pandas.core.frame.DataFrame'>\n",
      "RangeIndex: 3214 entries, 0 to 3213\n",
      "Data columns (total 5 columns):\n",
      " #   Column    Non-Null Count  Dtype  \n",
      "---  ------    --------------  -----  \n",
      " 0   calls     3214 non-null   float64\n",
      " 1   minutes   3214 non-null   float64\n",
      " 2   messages  3214 non-null   float64\n",
      " 3   mb_used   3214 non-null   float64\n",
      " 4   is_ultra  3214 non-null   int64  \n",
      "dtypes: float64(4), int64(1)\n",
      "memory usage: 125.7 KB\n"
     ]
    }
   ],
   "source": [
    "df_mega_line.info()"
   ]
  },
  {
   "cell_type": "markdown",
   "metadata": {},
   "source": [
    "<div class=\"alert alert-block alert-success\">\n",
    "\n",
    "<b>Comentario del revisor. (Iteración 1)\n",
    "    \n",
    "</b> <a class=\"tocSkip\"></a>\n",
    "\n",
    "    \n",
    "Excelente implementación de importaciones y carga de datos. Felicitaciones por mantener los procesos en celdas separadas! A la vez excelente implementación de los métodos para observar la composición de los datos!"
   ]
  },
  {
   "cell_type": "markdown",
   "metadata": {},
   "source": [
    "#### Usar .isnull()"
   ]
  },
  {
   "cell_type": "code",
   "execution_count": null,
   "metadata": {},
   "outputs": [],
   "source": []
  },
  {
   "cell_type": "code",
   "execution_count": 4,
   "metadata": {},
   "outputs": [
    {
     "data": {
      "text/plain": [
       "calls       0\n",
       "minutes     0\n",
       "messages    0\n",
       "mb_used     0\n",
       "is_ultra    0\n",
       "dtype: int64"
      ]
     },
     "execution_count": 4,
     "metadata": {},
     "output_type": "execute_result"
    }
   ],
   "source": [
    "df_mega_line.isnull().sum()"
   ]
  },
  {
   "cell_type": "code",
   "execution_count": 5,
   "metadata": {},
   "outputs": [
    {
     "data": {
      "text/plain": [
       "False"
      ]
     },
     "execution_count": 5,
     "metadata": {},
     "output_type": "execute_result"
    }
   ],
   "source": [
    "df_mega_line.isnull().values.any()"
   ]
  },
  {
   "cell_type": "markdown",
   "metadata": {},
   "source": [
    "Este código devuelve True si hay al menos un valor nulo en el DataFrame, y False si no hay valores nulos."
   ]
  },
  {
   "cell_type": "code",
   "execution_count": null,
   "metadata": {},
   "outputs": [],
   "source": []
  },
  {
   "cell_type": "markdown",
   "metadata": {},
   "source": [
    "#### Usar .duplicated()"
   ]
  },
  {
   "cell_type": "code",
   "execution_count": 6,
   "metadata": {},
   "outputs": [
    {
     "name": "stdout",
     "output_type": "stream",
     "text": [
      "Número de Filas Duplicadas: 0\n"
     ]
    }
   ],
   "source": [
    "sum_dup = df_mega_line.duplicated().sum()\n",
    "print(\"Número de Filas Duplicadas:\" , sum_dup)"
   ]
  },
  {
   "cell_type": "code",
   "execution_count": 7,
   "metadata": {},
   "outputs": [
    {
     "name": "stdout",
     "output_type": "stream",
     "text": [
      "Filas Duplicadas\n",
      "Empty DataFrame\n",
      "Columns: [calls, minutes, messages, mb_used, is_ultra]\n",
      "Index: []\n"
     ]
    }
   ],
   "source": [
    "filas_duplicadas = df_mega_line[df_mega_line.duplicated()]\n",
    "print(\"Filas Duplicadas\")\n",
    "print(filas_duplicadas)"
   ]
  },
  {
   "cell_type": "markdown",
   "metadata": {},
   "source": [
    "Como podemos observar no tenemos datos duplicados"
   ]
  },
  {
   "cell_type": "markdown",
   "metadata": {},
   "source": [
    "<div class=\"alert alert-block alert-success\">\n",
    "\n",
    "<b>Comentario del revisor. (Iteración 1)\n",
    "    \n",
    "</b> <a class=\"tocSkip\"></a>\n",
    "\n",
    "    \n",
    "Excelente decisión la de corroborar los valores nulos Guillermo!"
   ]
  },
  {
   "cell_type": "markdown",
   "metadata": {},
   "source": [
    "<div class=\"alert alert-block alert-warning\">\n",
    "\n",
    "<b>Comentario del revisor. (Iteración 1)\n",
    "    \n",
    "</b> <a class=\"tocSkip\"></a>\n",
    "\n",
    "    \n",
    "Para profundizar podríamos agregar un análisis sobre los duplicados Guillermo!"
   ]
  },
  {
   "cell_type": "markdown",
   "metadata": {},
   "source": [
    "## Preparar Datos"
   ]
  },
  {
   "cell_type": "markdown",
   "metadata": {},
   "source": [
    "### Dividir en conjuntos de entrenamiento, validación y prueba"
   ]
  },
  {
   "cell_type": "code",
   "execution_count": 8,
   "metadata": {},
   "outputs": [
    {
     "name": "stdout",
     "output_type": "stream",
     "text": [
      "\n",
      "Tamaños de conjuntos: Entrenamiento=1928, Validación=643, Prueba=643\n",
      "\n"
     ]
    }
   ],
   "source": [
    "\n",
    "smart_x = df_mega_line[['calls', 'minutes', 'messages', 'mb_used']]\n",
    "ultra_y = df_mega_line['is_ultra']\n",
    "\n",
    "X_train, X_test, y_train, y_test = train_test_split(smart_x, ultra_y, test_size=0.2, random_state=42)\n",
    "X_train, X_val, y_train, y_val = train_test_split(X_train, y_train, test_size=0.25, random_state=42)\n",
    "print()\n",
    "print(f\"Tamaños de conjuntos: Entrenamiento={len(y_train)}, Validación={len(y_val)}, Prueba={len(y_test)}\")\n",
    "print()\n"
   ]
  },
  {
   "cell_type": "markdown",
   "metadata": {},
   "source": [
    "Elegí un tamaño de prueba del 20% y un tamaño de validación del 25% del conjunto de entrenamiento original. Estos tamaños son comunes en problemas de clasificación y permiten tener suficientes datos para entrenar el modelo, validar su rendimiento y evaluar su desempeño final en un conjunto de prueba independiente."
   ]
  },
  {
   "cell_type": "markdown",
   "metadata": {},
   "source": [
    "<div class=\"alert alert-block alert-success\">\n",
    "\n",
    "<b>Comentario del revisor. (Iteración 1)\n",
    "    \n",
    "</b> <a class=\"tocSkip\"></a>\n",
    "\n",
    "    \n",
    "Perfecto Guillermo, aquí hemos realizado la implementación perfecta sobre la división de los datos en los 3 conjuntos, tal como debíamos."
   ]
  },
  {
   "cell_type": "markdown",
   "metadata": {},
   "source": [
    "## Evaluar Modelos"
   ]
  },
  {
   "cell_type": "markdown",
   "metadata": {},
   "source": [
    "### Regresión Logística"
   ]
  },
  {
   "cell_type": "code",
   "execution_count": 9,
   "metadata": {},
   "outputs": [
    {
     "name": "stdout",
     "output_type": "stream",
     "text": [
      "\n",
      "Regresión Logística:\n",
      "\n",
      "Exactitud en validación: 0.7201\n",
      "\n"
     ]
    }
   ],
   "source": [
    "model_lr = LogisticRegression()\n",
    "model_lr.fit(X_train, y_train)\n",
    "print()\n",
    "print(\"Regresión Logística:\")\n",
    "print()\n",
    "print(f\"Exactitud en validación: {model_lr.score(X_val, y_val):.4f}\")\n",
    "print()"
   ]
  },
  {
   "cell_type": "markdown",
   "metadata": {},
   "source": [
    "Evalué la calidad de los modelos utilizando la métrica de exactitud (accuracy) en el conjunto de validación. Esto me permitió comparar el rendimiento de diferentes modelos y seleccionar el mejor."
   ]
  },
  {
   "cell_type": "markdown",
   "metadata": {},
   "source": [
    "<div class=\"alert alert-block alert-success\">\n",
    "\n",
    "<b>Comentario del revisor. (Iteración 1)\n",
    "    \n",
    "</b> <a class=\"tocSkip\"></a>\n",
    "\n",
    "    \n",
    "Excelente llamado y entrenamiento al modelo, a la vez una correcta evaluación utilizando Score."
   ]
  },
  {
   "cell_type": "markdown",
   "metadata": {},
   "source": [
    "### Árbol de Decisión"
   ]
  },
  {
   "cell_type": "code",
   "execution_count": 10,
   "metadata": {},
   "outputs": [
    {
     "name": "stdout",
     "output_type": "stream",
     "text": [
      "\n",
      "\n",
      "Árbol de Decisión:\n",
      "\n",
      "Exactitud en validación: 0.7278\n",
      "\n"
     ]
    }
   ],
   "source": [
    "model_dt = DecisionTreeClassifier()\n",
    "model_dt.fit(X_train, y_train)\n",
    "print()\n",
    "print(\"\\nÁrbol de Decisión:\") \n",
    "print()\n",
    "print(f\"Exactitud en validación: {model_dt.score(X_val, y_val):.4f}\")\n",
    "print()"
   ]
  },
  {
   "cell_type": "markdown",
   "metadata": {},
   "source": [
    "Evalué la calidad de los modelos utilizando la métrica de exactitud (accuracy) en el conjunto de validación. Esto me permitió comparar el rendimiento de diferentes modelos y seleccionar el mejor."
   ]
  },
  {
   "cell_type": "markdown",
   "metadata": {},
   "source": [
    "<div class=\"alert alert-block alert-success\">\n",
    "\n",
    "<b>Comentario del revisor. (Iteración 1)\n",
    "    \n",
    "</b> <a class=\"tocSkip\"></a>\n",
    "\n",
    "    \n",
    "Mismo procedimiento pero diferente modelo, bien hecho!"
   ]
  },
  {
   "cell_type": "markdown",
   "metadata": {},
   "source": [
    "### Random Forest"
   ]
  },
  {
   "cell_type": "code",
   "execution_count": 11,
   "metadata": {},
   "outputs": [
    {
     "name": "stdout",
     "output_type": "stream",
     "text": [
      "\n",
      "\n",
      "Random Forest:\n",
      "\n",
      "Exactitud en validación: 0.7947\n",
      "\n"
     ]
    }
   ],
   "source": [
    "model_rf = RandomForestClassifier(n_estimators=100, random_state=42)\n",
    "model_rf.fit(X_train, y_train)\n",
    "print()\n",
    "print(\"\\nRandom Forest:\")\n",
    "print()\n",
    "print(f\"Exactitud en validación: {model_rf.score(X_val, y_val):.4f}\")\n",
    "print()"
   ]
  },
  {
   "cell_type": "markdown",
   "metadata": {},
   "source": [
    "El modelo de Random Forest obtuvo la mayor exactitud en el conjunto de validación.\n",
    "\n",
    "La exactitud del mejor modelo en el conjunto de prueba fue de aproximadamente 0.80, lo que cumple con el umbral de exactitud requerido del 0.75."
   ]
  },
  {
   "cell_type": "markdown",
   "metadata": {},
   "source": [
    "<div class=\"alert alert-block alert-success\">\n",
    "\n",
    "<b>Comentario del revisor. (Iteración 1)\n",
    "    \n",
    "</b> <a class=\"tocSkip\"></a>\n",
    "\n",
    "    \n",
    "Nuevamente excelente Guillermo! Aquí vemos claramente una mejoría en el modelo, bien hecho!"
   ]
  },
  {
   "cell_type": "markdown",
   "metadata": {},
   "source": [
    "<div class=\"alert alert-block alert-warning\">\n",
    "\n",
    "<b>Comentario del revisor. (Iteración 1)\n",
    "    \n",
    "</b> <a class=\"tocSkip\"></a>\n",
    "\n",
    "    \n",
    "Antes de continuar, aquí deberíamos mejorar una cosa Guillermo. Deberíamos elegir al menos uno de los modelos y probar más de un hiperparametro, por ejemplo podrías implementar un loop que itere sobre diferentes valores de dichos hiperparámetros e ir viendo como evoluaciona la precisión."
   ]
  },
  {
   "cell_type": "markdown",
   "metadata": {},
   "source": [
    "<div class=\"alert alert-block alert-success\">\n",
    "\n",
    "<b>Comentario del revisor. (Iteración 2)\n",
    "    \n",
    "</b> <a class=\"tocSkip\"></a>\n",
    "\n",
    "Excelente implementación de lo solicitado!"
   ]
  },
  {
   "cell_type": "markdown",
   "metadata": {},
   "source": [
    "## Usando los Hiperparametros para RandomForestClassifier (min_samples_split y min_samples_leaf)"
   ]
  },
  {
   "cell_type": "code",
   "execution_count": 12,
   "metadata": {},
   "outputs": [
    {
     "name": "stdout",
     "output_type": "stream",
     "text": [
      "\n",
      "Mejores hiperparámetros: {'min_samples_split': 10, 'min_samples_leaf': 1}\n",
      "\n",
      "Mejor exactitud en validación: 0.7994\n"
     ]
    }
   ],
   "source": [
    "\n",
    "min_samples_split_values = [2, 5, 10]\n",
    "min_samples_leaf_values = [1, 2, 4]\n",
    "\n",
    "\n",
    "best_accuracy = 0\n",
    "best_params = {}\n",
    "\n",
    "\n",
    "for min_samples_split in min_samples_split_values:\n",
    "    for min_samples_leaf in min_samples_leaf_values:\n",
    "        model_rf = RandomForestClassifier(\n",
    "            n_estimators=100,\n",
    "            random_state=42,\n",
    "            min_samples_split=min_samples_split,\n",
    "            min_samples_leaf=min_samples_leaf\n",
    "        )\n",
    "        model_rf.fit(X_train, y_train)\n",
    "        accuracy = model_rf.score(X_val, y_val)\n",
    "         \n",
    "        \n",
    "        if accuracy > best_accuracy:\n",
    "            best_accuracy = accuracy\n",
    "            best_params = {\n",
    "                'min_samples_split': min_samples_split,\n",
    "                'min_samples_leaf': min_samples_leaf\n",
    "            }\n",
    "\n",
    "print(f\"\\nMejores hiperparámetros: {best_params}\")\n",
    "print()\n",
    "print(f\"Mejor exactitud en validación: {best_accuracy:.4f}\")\n"
   ]
  },
  {
   "cell_type": "code",
   "execution_count": null,
   "metadata": {},
   "outputs": [],
   "source": []
  },
  {
   "cell_type": "markdown",
   "metadata": {},
   "source": [
    "## Seleccionar mejor modelo según exactitud en validación"
   ]
  },
  {
   "cell_type": "code",
   "execution_count": 13,
   "metadata": {},
   "outputs": [],
   "source": [
    "best_model = model_rf"
   ]
  },
  {
   "cell_type": "code",
   "execution_count": null,
   "metadata": {},
   "outputs": [],
   "source": []
  },
  {
   "cell_type": "markdown",
   "metadata": {},
   "source": [
    "Como podemos observar el mejor model es 'Random Forest' y lo igualamos con la variable best_model"
   ]
  },
  {
   "cell_type": "markdown",
   "metadata": {},
   "source": [
    "### Evaluar en conjunto de prueba .score()"
   ]
  },
  {
   "cell_type": "code",
   "execution_count": 14,
   "metadata": {},
   "outputs": [
    {
     "name": "stdout",
     "output_type": "stream",
     "text": [
      "\n",
      "Exactitud en prueba: 0.8072\n",
      "\n"
     ]
    }
   ],
   "source": [
    "print(f\"\\nExactitud en prueba: {best_model.score(X_test, y_test):.4f}\")\n",
    "print()"
   ]
  },
  {
   "cell_type": "markdown",
   "metadata": {},
   "source": [
    "La puntuación de exactitud del mejor modelo en el conjunto de prueba fue de aproximadamente 0.81, lo que cumple con el umbral de exactitud requerido del 0.75."
   ]
  },
  {
   "cell_type": "code",
   "execution_count": null,
   "metadata": {},
   "outputs": [],
   "source": []
  },
  {
   "cell_type": "markdown",
   "metadata": {},
   "source": [
    "### Evaluar en conjunto de prueba (min_samples_split y min_samples_leaf)"
   ]
  },
  {
   "cell_type": "code",
   "execution_count": 15,
   "metadata": {},
   "outputs": [
    {
     "data": {
      "text/plain": [
       "RandomForestClassifier(min_samples_split=10, random_state=42)"
      ]
     },
     "execution_count": 15,
     "metadata": {},
     "output_type": "execute_result"
    }
   ],
   "source": [
    "best_model = RandomForestClassifier(n_estimators=100, random_state=42, min_samples_split=10, min_samples_leaf=1)\n",
    "best_model.fit(X_train, y_train)"
   ]
  },
  {
   "cell_type": "code",
   "execution_count": 16,
   "metadata": {},
   "outputs": [
    {
     "name": "stdout",
     "output_type": "stream",
     "text": [
      "\n",
      "Random Forest:\n",
      "\n",
      "Exactitud en validación: 0.7994\n"
     ]
    }
   ],
   "source": [
    "validation_accuracy = best_model.score(X_val, y_val)\n",
    "print(\"\\nRandom Forest:\")\n",
    "print()\n",
    "print(f\"Exactitud en validación: {validation_accuracy:.4f}\")"
   ]
  },
  {
   "cell_type": "markdown",
   "metadata": {},
   "source": [
    "Aqui estamos usando los hiperparametros de min_samples_split y min_samples_leaf que es menor a 0.80"
   ]
  },
  {
   "cell_type": "markdown",
   "metadata": {},
   "source": [
    "<div class=\"alert alert-block alert-success\">\n",
    "\n",
    "<b>Comentario del revisor. (Iteración 1)\n",
    "    \n",
    "</b> <a class=\"tocSkip\"></a>\n",
    "\n",
    "    \n",
    "Aquí excelente Guillermo! Has implementado el mejor modelo sobre el tercer conjunto, bien hecho!"
   ]
  },
  {
   "cell_type": "markdown",
   "metadata": {},
   "source": [
    "## Prueba de Cordura"
   ]
  },
  {
   "cell_type": "code",
   "execution_count": null,
   "metadata": {},
   "outputs": [],
   "source": []
  },
  {
   "cell_type": "markdown",
   "metadata": {},
   "source": [
    "### Evaluación de la Prueba"
   ]
  },
  {
   "cell_type": "code",
   "execution_count": 17,
   "metadata": {},
   "outputs": [],
   "source": [
    "train_predictions = best_model.predict(X_train)\n",
    "train_accuracy = accuracy_score(y_train, train_predictions)"
   ]
  },
  {
   "cell_type": "code",
   "execution_count": 18,
   "metadata": {},
   "outputs": [],
   "source": [
    "test_predictions = best_model.predict(X_test)\n",
    "test_accuracy = accuracy_score(y_test, test_predictions)"
   ]
  },
  {
   "cell_type": "code",
   "execution_count": 19,
   "metadata": {},
   "outputs": [
    {
     "name": "stdout",
     "output_type": "stream",
     "text": [
      "Exactitud:\n",
      "\n",
      "@ Conjunto de entrenamiento: 0.91701244813278\n",
      "\n",
      "@ Conjunto de prueba: 0.8040435458786936\n"
     ]
    }
   ],
   "source": [
    "print('Exactitud:')\n",
    "print()\n",
    "print('@ Conjunto de entrenamiento:', train_accuracy)\n",
    "print()\n",
    "print('@ Conjunto de prueba:', test_accuracy)"
   ]
  },
  {
   "cell_type": "code",
   "execution_count": null,
   "metadata": {},
   "outputs": [],
   "source": []
  },
  {
   "cell_type": "markdown",
   "metadata": {},
   "source": [
    "Este resultado indica que el modelo tiene un rendimiento bastante bueno y es prometedor para su aplicación en la predicción del comportamiento de los usuarios de telefonía móvil en términos de si elegirán o no el plan de servicio \"ultra\"."
   ]
  },
  {
   "cell_type": "code",
   "execution_count": null,
   "metadata": {},
   "outputs": [],
   "source": []
  },
  {
   "cell_type": "markdown",
   "metadata": {},
   "source": [
    "## Conclusión"
   ]
  },
  {
   "cell_type": "markdown",
   "metadata": {},
   "source": [
    "Este proyecto muestra cómo crear un modelo de clasificación para recomendar planes de telefonía móvil basado en el comportamiento de los usuarios. Se divide el dataset en conjuntos de entrenamiento, validación y prueba, se entrenan varios modelos, se selecciona el mejor según exactitud en validación, y finalmente se evalúa en el conjunto de prueba. Además, se realiza una prueba de cordura para verificar el comportamiento del modelo en casos extremos."
   ]
  },
  {
   "cell_type": "markdown",
   "metadata": {},
   "source": [
    "Basándose en los resultados del modelo, se recomienda utilizar el plan Ultra para los clientes que realizan un gran número de llamadas, tienen una duración total de llamadas prolongada, envían un gran número de mensajes de texto y utilizan una gran cantidad de tráfico de Internet. Por otro lado, el plan Smart es más adecuado para aquellos clientes que tienen un comportamiento más moderado en estos aspectos. El modelo desarrollado es capaz de predecir con precisión el plan adecuado para cada cliente, lo que puede ayudar a Megaline a mejorar la satisfacción y retención de sus clientes."
   ]
  },
  {
   "cell_type": "markdown",
   "metadata": {},
   "source": [
    "<div class=\"alert alert-block alert-success\">\n",
    "\n",
    "<b>Comentario del revisor. (Iteración 1)\n",
    "    \n",
    "</b> <a class=\"tocSkip\"></a>\n",
    "\n",
    "Quería felicitarte Guillermo porque has tenido un gran compromiso con tus conclusiones y con tus códigos a lo largo de todo el trabajo, el trabajo en si está excelente más allá de un tema que deberíamos corregir, nuevamente felicitaciones!"
   ]
  },
  {
   "cell_type": "code",
   "execution_count": null,
   "metadata": {},
   "outputs": [],
   "source": []
  }
 ],
 "metadata": {
  "ExecuteTimeLog": [
   {
    "duration": 30,
    "start_time": "2024-05-21T02:49:40.907Z"
   },
   {
    "duration": 4,
    "start_time": "2024-05-21T02:51:14.925Z"
   },
   {
    "duration": 1212,
    "start_time": "2024-05-21T03:03:03.949Z"
   },
   {
    "duration": 17,
    "start_time": "2024-05-21T03:03:05.164Z"
   },
   {
    "duration": 31,
    "start_time": "2024-05-21T03:03:05.183Z"
   },
   {
    "duration": 12,
    "start_time": "2024-05-21T03:03:05.218Z"
   },
   {
    "duration": 10,
    "start_time": "2024-05-21T03:03:05.233Z"
   },
   {
    "duration": 12,
    "start_time": "2024-05-21T03:03:05.246Z"
   },
   {
    "duration": 72,
    "start_time": "2024-05-21T03:03:05.261Z"
   },
   {
    "duration": 24,
    "start_time": "2024-05-21T03:03:05.337Z"
   },
   {
    "duration": 558,
    "start_time": "2024-05-21T03:03:05.365Z"
   },
   {
    "duration": 4,
    "start_time": "2024-05-21T03:03:05.927Z"
   },
   {
    "duration": 28,
    "start_time": "2024-05-21T03:03:05.934Z"
   },
   {
    "duration": 48,
    "start_time": "2024-05-21T03:03:05.965Z"
   },
   {
    "duration": 16,
    "start_time": "2024-05-21T03:03:06.016Z"
   },
   {
    "duration": 14,
    "start_time": "2024-05-21T03:04:33.815Z"
   },
   {
    "duration": 13,
    "start_time": "2024-05-21T03:04:43.715Z"
   },
   {
    "duration": 27,
    "start_time": "2024-05-21T03:04:57.875Z"
   },
   {
    "duration": 26,
    "start_time": "2024-05-21T03:05:45.757Z"
   },
   {
    "duration": 25,
    "start_time": "2024-05-21T03:05:52.702Z"
   },
   {
    "duration": 16,
    "start_time": "2024-05-21T03:06:04.818Z"
   },
   {
    "duration": 13,
    "start_time": "2024-05-21T03:06:35.603Z"
   },
   {
    "duration": 1238,
    "start_time": "2024-05-21T04:03:01.291Z"
   },
   {
    "duration": 12,
    "start_time": "2024-05-21T04:03:02.532Z"
   },
   {
    "duration": 19,
    "start_time": "2024-05-21T04:03:02.547Z"
   },
   {
    "duration": 14,
    "start_time": "2024-05-21T04:03:02.570Z"
   },
   {
    "duration": 32,
    "start_time": "2024-05-21T04:03:02.587Z"
   },
   {
    "duration": 15,
    "start_time": "2024-05-21T04:03:02.622Z"
   },
   {
    "duration": 30,
    "start_time": "2024-05-21T04:03:02.640Z"
   },
   {
    "duration": 23,
    "start_time": "2024-05-21T04:03:02.714Z"
   },
   {
    "duration": 587,
    "start_time": "2024-05-21T04:03:02.740Z"
   },
   {
    "duration": 4,
    "start_time": "2024-05-21T04:03:03.332Z"
   },
   {
    "duration": 31,
    "start_time": "2024-05-21T04:03:03.339Z"
   },
   {
    "duration": 39,
    "start_time": "2024-05-21T04:03:03.377Z"
   },
   {
    "duration": 15,
    "start_time": "2024-05-21T04:03:03.420Z"
   },
   {
    "duration": 1190,
    "start_time": "2024-05-23T23:43:48.205Z"
   },
   {
    "duration": 15,
    "start_time": "2024-05-23T23:43:49.398Z"
   },
   {
    "duration": 14,
    "start_time": "2024-05-23T23:43:50.429Z"
   },
   {
    "duration": 12,
    "start_time": "2024-05-23T23:44:23.672Z"
   },
   {
    "duration": 7,
    "start_time": "2024-05-23T23:44:24.050Z"
   },
   {
    "duration": 15,
    "start_time": "2024-05-23T23:48:14.100Z"
   },
   {
    "duration": 30,
    "start_time": "2024-05-23T23:48:15.798Z"
   },
   {
    "duration": 23,
    "start_time": "2024-05-23T23:48:16.807Z"
   },
   {
    "duration": 553,
    "start_time": "2024-05-23T23:49:04.734Z"
   },
   {
    "duration": 4,
    "start_time": "2024-05-23T23:55:47.594Z"
   },
   {
    "duration": 28,
    "start_time": "2024-05-23T23:55:48.483Z"
   },
   {
    "duration": 20,
    "start_time": "2024-05-23T23:56:30.144Z"
   },
   {
    "duration": 16,
    "start_time": "2024-05-23T23:56:31.162Z"
   },
   {
    "duration": 1222,
    "start_time": "2024-05-24T07:17:20.174Z"
   },
   {
    "duration": 19,
    "start_time": "2024-05-24T07:17:21.400Z"
   },
   {
    "duration": 17,
    "start_time": "2024-05-24T07:17:21.421Z"
   },
   {
    "duration": 13,
    "start_time": "2024-05-24T07:17:21.441Z"
   },
   {
    "duration": 8,
    "start_time": "2024-05-24T07:17:21.461Z"
   },
   {
    "duration": 58,
    "start_time": "2024-05-24T07:17:21.472Z"
   },
   {
    "duration": 29,
    "start_time": "2024-05-24T07:17:21.534Z"
   },
   {
    "duration": 24,
    "start_time": "2024-05-24T07:17:21.566Z"
   },
   {
    "duration": 592,
    "start_time": "2024-05-24T07:17:21.592Z"
   },
   {
    "duration": 4,
    "start_time": "2024-05-24T07:17:22.187Z"
   },
   {
    "duration": 52,
    "start_time": "2024-05-24T07:17:22.194Z"
   },
   {
    "duration": 16,
    "start_time": "2024-05-24T07:17:22.248Z"
   },
   {
    "duration": 17,
    "start_time": "2024-05-24T07:17:22.267Z"
   },
   {
    "duration": 12,
    "start_time": "2024-05-24T07:18:55.803Z"
   },
   {
    "duration": 23,
    "start_time": "2024-05-24T07:19:34.783Z"
   },
   {
    "duration": 8,
    "start_time": "2024-05-24T07:20:15.098Z"
   },
   {
    "duration": 11,
    "start_time": "2024-05-24T07:20:27.298Z"
   },
   {
    "duration": 1267,
    "start_time": "2024-05-24T07:22:51.568Z"
   },
   {
    "duration": 1261,
    "start_time": "2024-05-24T07:23:29.343Z"
   },
   {
    "duration": 29,
    "start_time": "2024-05-24T07:23:30.608Z"
   },
   {
    "duration": 18,
    "start_time": "2024-05-24T07:23:30.640Z"
   },
   {
    "duration": 17,
    "start_time": "2024-05-24T07:23:30.663Z"
   },
   {
    "duration": 41,
    "start_time": "2024-05-24T07:23:30.684Z"
   },
   {
    "duration": 1293,
    "start_time": "2024-05-24T07:23:30.729Z"
   },
   {
    "duration": 0,
    "start_time": "2024-05-24T07:23:32.027Z"
   },
   {
    "duration": 0,
    "start_time": "2024-05-24T07:23:32.030Z"
   },
   {
    "duration": 0,
    "start_time": "2024-05-24T07:23:32.032Z"
   },
   {
    "duration": 0,
    "start_time": "2024-05-24T07:23:32.035Z"
   },
   {
    "duration": 0,
    "start_time": "2024-05-24T07:23:32.037Z"
   },
   {
    "duration": 0,
    "start_time": "2024-05-24T07:23:32.039Z"
   },
   {
    "duration": 0,
    "start_time": "2024-05-24T07:23:32.042Z"
   },
   {
    "duration": 0,
    "start_time": "2024-05-24T07:23:32.044Z"
   },
   {
    "duration": 11,
    "start_time": "2024-05-24T07:24:06.239Z"
   },
   {
    "duration": 12,
    "start_time": "2024-05-24T07:24:44.947Z"
   },
   {
    "duration": 9,
    "start_time": "2024-05-24T07:27:18.128Z"
   },
   {
    "duration": 1274,
    "start_time": "2024-05-24T07:31:06.489Z"
   },
   {
    "duration": 16,
    "start_time": "2024-05-24T07:31:07.767Z"
   },
   {
    "duration": 16,
    "start_time": "2024-05-24T07:31:07.786Z"
   },
   {
    "duration": 30,
    "start_time": "2024-05-24T07:31:07.808Z"
   },
   {
    "duration": 9,
    "start_time": "2024-05-24T07:31:07.842Z"
   },
   {
    "duration": 10,
    "start_time": "2024-05-24T07:31:07.854Z"
   },
   {
    "duration": 17,
    "start_time": "2024-05-24T07:31:07.867Z"
   },
   {
    "duration": 16,
    "start_time": "2024-05-24T07:31:07.928Z"
   },
   {
    "duration": 30,
    "start_time": "2024-05-24T07:31:07.946Z"
   },
   {
    "duration": 52,
    "start_time": "2024-05-24T07:31:07.982Z"
   },
   {
    "duration": 577,
    "start_time": "2024-05-24T07:31:08.038Z"
   },
   {
    "duration": 9,
    "start_time": "2024-05-24T07:31:08.619Z"
   },
   {
    "duration": 29,
    "start_time": "2024-05-24T07:31:08.634Z"
   },
   {
    "duration": 15,
    "start_time": "2024-05-24T07:31:08.670Z"
   },
   {
    "duration": 19,
    "start_time": "2024-05-24T07:31:08.726Z"
   },
   {
    "duration": 4751,
    "start_time": "2024-05-24T07:48:34.153Z"
   },
   {
    "duration": 4881,
    "start_time": "2024-05-24T07:52:11.181Z"
   },
   {
    "duration": 411,
    "start_time": "2024-05-24T07:56:11.547Z"
   },
   {
    "duration": 12,
    "start_time": "2024-05-24T07:56:42.551Z"
   },
   {
    "duration": 1273,
    "start_time": "2024-05-24T08:20:16.836Z"
   },
   {
    "duration": 24,
    "start_time": "2024-05-24T08:20:18.113Z"
   },
   {
    "duration": 18,
    "start_time": "2024-05-24T08:20:18.140Z"
   },
   {
    "duration": 12,
    "start_time": "2024-05-24T08:20:18.165Z"
   },
   {
    "duration": 49,
    "start_time": "2024-05-24T08:20:18.180Z"
   },
   {
    "duration": 8,
    "start_time": "2024-05-24T08:20:18.235Z"
   },
   {
    "duration": 8,
    "start_time": "2024-05-24T08:20:18.246Z"
   },
   {
    "duration": 11,
    "start_time": "2024-05-24T08:20:18.257Z"
   },
   {
    "duration": 61,
    "start_time": "2024-05-24T08:20:18.272Z"
   },
   {
    "duration": 37,
    "start_time": "2024-05-24T08:20:18.339Z"
   },
   {
    "duration": 55,
    "start_time": "2024-05-24T08:20:18.380Z"
   },
   {
    "duration": 571,
    "start_time": "2024-05-24T08:20:18.438Z"
   },
   {
    "duration": 4659,
    "start_time": "2024-05-24T08:20:19.012Z"
   },
   {
    "duration": 5,
    "start_time": "2024-05-24T08:20:23.673Z"
   },
   {
    "duration": 45,
    "start_time": "2024-05-24T08:20:23.681Z"
   },
   {
    "duration": 524,
    "start_time": "2024-05-24T08:20:23.729Z"
   },
   {
    "duration": 427,
    "start_time": "2024-05-24T08:20:24.256Z"
   },
   {
    "duration": 0,
    "start_time": "2024-05-24T08:20:24.687Z"
   },
   {
    "duration": 0,
    "start_time": "2024-05-24T08:20:24.689Z"
   },
   {
    "duration": 0,
    "start_time": "2024-05-24T08:20:24.692Z"
   },
   {
    "duration": 0,
    "start_time": "2024-05-24T08:20:24.694Z"
   },
   {
    "duration": 1232,
    "start_time": "2024-05-24T08:21:13.491Z"
   },
   {
    "duration": 11,
    "start_time": "2024-05-24T08:21:14.727Z"
   },
   {
    "duration": 17,
    "start_time": "2024-05-24T08:21:14.741Z"
   },
   {
    "duration": 12,
    "start_time": "2024-05-24T08:21:14.763Z"
   },
   {
    "duration": 52,
    "start_time": "2024-05-24T08:21:14.779Z"
   },
   {
    "duration": 8,
    "start_time": "2024-05-24T08:21:14.834Z"
   },
   {
    "duration": 9,
    "start_time": "2024-05-24T08:21:14.846Z"
   },
   {
    "duration": 10,
    "start_time": "2024-05-24T08:21:14.858Z"
   },
   {
    "duration": 66,
    "start_time": "2024-05-24T08:21:14.871Z"
   },
   {
    "duration": 31,
    "start_time": "2024-05-24T08:21:14.943Z"
   },
   {
    "duration": 56,
    "start_time": "2024-05-24T08:21:14.977Z"
   },
   {
    "duration": 583,
    "start_time": "2024-05-24T08:21:15.037Z"
   },
   {
    "duration": 4793,
    "start_time": "2024-05-24T08:21:15.622Z"
   },
   {
    "duration": 10,
    "start_time": "2024-05-24T08:21:20.418Z"
   },
   {
    "duration": 24,
    "start_time": "2024-05-24T08:21:20.432Z"
   },
   {
    "duration": 531,
    "start_time": "2024-05-24T08:21:20.460Z"
   },
   {
    "duration": 45,
    "start_time": "2024-05-24T08:21:20.994Z"
   },
   {
    "duration": 30,
    "start_time": "2024-05-24T08:21:21.042Z"
   },
   {
    "duration": 451,
    "start_time": "2024-05-24T08:21:21.076Z"
   },
   {
    "duration": 0,
    "start_time": "2024-05-24T08:21:21.530Z"
   },
   {
    "duration": 0,
    "start_time": "2024-05-24T08:21:21.533Z"
   },
   {
    "duration": 1298,
    "start_time": "2024-05-24T08:22:29.155Z"
   },
   {
    "duration": 13,
    "start_time": "2024-05-24T08:22:30.458Z"
   },
   {
    "duration": 20,
    "start_time": "2024-05-24T08:22:30.473Z"
   },
   {
    "duration": 34,
    "start_time": "2024-05-24T08:22:30.498Z"
   },
   {
    "duration": 13,
    "start_time": "2024-05-24T08:22:30.536Z"
   },
   {
    "duration": 7,
    "start_time": "2024-05-24T08:22:30.552Z"
   },
   {
    "duration": 9,
    "start_time": "2024-05-24T08:22:30.562Z"
   },
   {
    "duration": 59,
    "start_time": "2024-05-24T08:22:30.573Z"
   },
   {
    "duration": 13,
    "start_time": "2024-05-24T08:22:30.635Z"
   },
   {
    "duration": 31,
    "start_time": "2024-05-24T08:22:30.654Z"
   },
   {
    "duration": 26,
    "start_time": "2024-05-24T08:22:30.726Z"
   },
   {
    "duration": 603,
    "start_time": "2024-05-24T08:22:30.756Z"
   },
   {
    "duration": 4940,
    "start_time": "2024-05-24T08:22:31.362Z"
   },
   {
    "duration": 4,
    "start_time": "2024-05-24T08:22:36.307Z"
   },
   {
    "duration": 28,
    "start_time": "2024-05-24T08:22:36.325Z"
   },
   {
    "duration": 600,
    "start_time": "2024-05-24T08:22:36.356Z"
   },
   {
    "duration": 29,
    "start_time": "2024-05-24T08:22:36.959Z"
   },
   {
    "duration": 75,
    "start_time": "2024-05-24T08:22:36.992Z"
   },
   {
    "duration": 28,
    "start_time": "2024-05-24T08:22:37.072Z"
   },
   {
    "duration": 7,
    "start_time": "2024-05-24T08:22:37.103Z"
   },
   {
    "duration": 17,
    "start_time": "2024-05-24T08:22:37.128Z"
   },
   {
    "duration": 14,
    "start_time": "2024-05-24T08:22:37.149Z"
   },
   {
    "duration": 24,
    "start_time": "2024-05-24T08:39:20.579Z"
   },
   {
    "duration": 1300,
    "start_time": "2024-05-24T08:42:50.263Z"
   },
   {
    "duration": 14,
    "start_time": "2024-05-24T08:42:51.568Z"
   },
   {
    "duration": 17,
    "start_time": "2024-05-24T08:42:51.585Z"
   },
   {
    "duration": 33,
    "start_time": "2024-05-24T08:42:51.607Z"
   },
   {
    "duration": 23,
    "start_time": "2024-05-24T08:42:51.645Z"
   },
   {
    "duration": 8,
    "start_time": "2024-05-24T08:42:51.672Z"
   },
   {
    "duration": 44,
    "start_time": "2024-05-24T08:42:51.684Z"
   },
   {
    "duration": 14,
    "start_time": "2024-05-24T08:42:51.731Z"
   },
   {
    "duration": 16,
    "start_time": "2024-05-24T08:42:51.749Z"
   },
   {
    "duration": 86,
    "start_time": "2024-05-24T08:42:51.771Z"
   },
   {
    "duration": 26,
    "start_time": "2024-05-24T08:42:51.863Z"
   },
   {
    "duration": 640,
    "start_time": "2024-05-24T08:42:51.893Z"
   },
   {
    "duration": 4959,
    "start_time": "2024-05-24T08:42:52.536Z"
   },
   {
    "duration": 13,
    "start_time": "2024-05-24T08:42:57.499Z"
   },
   {
    "duration": 40,
    "start_time": "2024-05-24T08:42:57.516Z"
   },
   {
    "duration": 567,
    "start_time": "2024-05-24T08:42:57.559Z"
   },
   {
    "duration": 31,
    "start_time": "2024-05-24T08:42:58.129Z"
   },
   {
    "duration": 477,
    "start_time": "2024-05-24T08:42:58.166Z"
   },
   {
    "duration": 1,
    "start_time": "2024-05-24T08:42:58.647Z"
   },
   {
    "duration": 0,
    "start_time": "2024-05-24T08:42:58.650Z"
   },
   {
    "duration": 0,
    "start_time": "2024-05-24T08:42:58.652Z"
   },
   {
    "duration": 0,
    "start_time": "2024-05-24T08:42:58.655Z"
   },
   {
    "duration": 1278,
    "start_time": "2024-05-24T08:44:30.748Z"
   },
   {
    "duration": 12,
    "start_time": "2024-05-24T08:44:32.029Z"
   },
   {
    "duration": 16,
    "start_time": "2024-05-24T08:44:32.044Z"
   },
   {
    "duration": 11,
    "start_time": "2024-05-24T08:44:32.065Z"
   },
   {
    "duration": 53,
    "start_time": "2024-05-24T08:44:32.079Z"
   },
   {
    "duration": 7,
    "start_time": "2024-05-24T08:44:32.135Z"
   },
   {
    "duration": 8,
    "start_time": "2024-05-24T08:44:32.146Z"
   },
   {
    "duration": 10,
    "start_time": "2024-05-24T08:44:32.157Z"
   },
   {
    "duration": 60,
    "start_time": "2024-05-24T08:44:32.170Z"
   },
   {
    "duration": 30,
    "start_time": "2024-05-24T08:44:32.236Z"
   },
   {
    "duration": 23,
    "start_time": "2024-05-24T08:44:32.269Z"
   },
   {
    "duration": 592,
    "start_time": "2024-05-24T08:44:32.295Z"
   },
   {
    "duration": 4699,
    "start_time": "2024-05-24T08:44:32.890Z"
   },
   {
    "duration": 4,
    "start_time": "2024-05-24T08:44:37.592Z"
   },
   {
    "duration": 49,
    "start_time": "2024-05-24T08:44:37.600Z"
   },
   {
    "duration": 651,
    "start_time": "2024-05-24T08:44:37.652Z"
   },
   {
    "duration": 42,
    "start_time": "2024-05-24T08:44:38.307Z"
   },
   {
    "duration": 19,
    "start_time": "2024-05-24T08:44:38.352Z"
   },
   {
    "duration": 49,
    "start_time": "2024-05-24T08:44:38.376Z"
   },
   {
    "duration": 52,
    "start_time": "2024-05-24T08:44:38.429Z"
   },
   {
    "duration": 56,
    "start_time": "2024-05-24T08:44:38.485Z"
   },
   {
    "duration": 6,
    "start_time": "2024-05-24T08:44:38.547Z"
   },
   {
    "duration": 1231,
    "start_time": "2024-05-24T08:48:07.967Z"
   },
   {
    "duration": 12,
    "start_time": "2024-05-24T08:48:09.203Z"
   },
   {
    "duration": 21,
    "start_time": "2024-05-24T08:48:09.218Z"
   },
   {
    "duration": 11,
    "start_time": "2024-05-24T08:48:09.245Z"
   },
   {
    "duration": 14,
    "start_time": "2024-05-24T08:48:09.259Z"
   },
   {
    "duration": 49,
    "start_time": "2024-05-24T08:48:09.276Z"
   },
   {
    "duration": 15,
    "start_time": "2024-05-24T08:48:09.331Z"
   },
   {
    "duration": 12,
    "start_time": "2024-05-24T08:48:09.348Z"
   },
   {
    "duration": 15,
    "start_time": "2024-05-24T08:48:09.363Z"
   },
   {
    "duration": 65,
    "start_time": "2024-05-24T08:48:09.385Z"
   },
   {
    "duration": 23,
    "start_time": "2024-05-24T08:48:09.453Z"
   },
   {
    "duration": 591,
    "start_time": "2024-05-24T08:48:09.479Z"
   },
   {
    "duration": 4631,
    "start_time": "2024-05-24T08:48:10.074Z"
   },
   {
    "duration": 17,
    "start_time": "2024-05-24T08:48:14.708Z"
   },
   {
    "duration": 25,
    "start_time": "2024-05-24T08:48:14.729Z"
   },
   {
    "duration": 531,
    "start_time": "2024-05-24T08:48:14.758Z"
   },
   {
    "duration": 38,
    "start_time": "2024-05-24T08:48:15.295Z"
   },
   {
    "duration": 19,
    "start_time": "2024-05-24T08:48:15.336Z"
   },
   {
    "duration": 17,
    "start_time": "2024-05-24T08:48:15.360Z"
   },
   {
    "duration": 80,
    "start_time": "2024-05-24T08:48:15.382Z"
   },
   {
    "duration": 27,
    "start_time": "2024-05-24T08:48:15.465Z"
   },
   {
    "duration": 4,
    "start_time": "2024-05-24T08:48:15.495Z"
   },
   {
    "duration": 4753,
    "start_time": "2024-05-24T08:52:05.964Z"
   },
   {
    "duration": 1239,
    "start_time": "2024-05-24T08:56:51.479Z"
   },
   {
    "duration": 14,
    "start_time": "2024-05-24T08:56:52.722Z"
   },
   {
    "duration": 16,
    "start_time": "2024-05-24T08:56:52.739Z"
   },
   {
    "duration": 13,
    "start_time": "2024-05-24T08:56:52.759Z"
   },
   {
    "duration": 54,
    "start_time": "2024-05-24T08:56:52.775Z"
   },
   {
    "duration": 8,
    "start_time": "2024-05-24T08:56:52.832Z"
   },
   {
    "duration": 8,
    "start_time": "2024-05-24T08:56:52.843Z"
   },
   {
    "duration": 12,
    "start_time": "2024-05-24T08:56:52.854Z"
   },
   {
    "duration": 56,
    "start_time": "2024-05-24T08:56:52.870Z"
   },
   {
    "duration": 29,
    "start_time": "2024-05-24T08:56:52.932Z"
   },
   {
    "duration": 24,
    "start_time": "2024-05-24T08:56:52.964Z"
   },
   {
    "duration": 599,
    "start_time": "2024-05-24T08:56:52.991Z"
   },
   {
    "duration": 4751,
    "start_time": "2024-05-24T08:56:53.593Z"
   },
   {
    "duration": 4,
    "start_time": "2024-05-24T08:56:58.348Z"
   },
   {
    "duration": 25,
    "start_time": "2024-05-24T08:56:58.355Z"
   },
   {
    "duration": 554,
    "start_time": "2024-05-24T08:56:58.384Z"
   },
   {
    "duration": 31,
    "start_time": "2024-05-24T08:56:58.942Z"
   },
   {
    "duration": 47,
    "start_time": "2024-05-24T08:56:58.979Z"
   },
   {
    "duration": 17,
    "start_time": "2024-05-24T08:56:59.032Z"
   },
   {
    "duration": 74,
    "start_time": "2024-05-24T08:56:59.053Z"
   },
   {
    "duration": 25,
    "start_time": "2024-05-24T08:56:59.130Z"
   },
   {
    "duration": 6,
    "start_time": "2024-05-24T08:56:59.157Z"
   },
   {
    "duration": 1253,
    "start_time": "2024-05-24T08:59:02.234Z"
   },
   {
    "duration": 12,
    "start_time": "2024-05-24T08:59:03.491Z"
   },
   {
    "duration": 30,
    "start_time": "2024-05-24T08:59:03.505Z"
   },
   {
    "duration": 14,
    "start_time": "2024-05-24T08:59:03.538Z"
   },
   {
    "duration": 13,
    "start_time": "2024-05-24T08:59:03.555Z"
   },
   {
    "duration": 7,
    "start_time": "2024-05-24T08:59:03.572Z"
   },
   {
    "duration": 49,
    "start_time": "2024-05-24T08:59:03.582Z"
   },
   {
    "duration": 10,
    "start_time": "2024-05-24T08:59:03.635Z"
   },
   {
    "duration": 15,
    "start_time": "2024-05-24T08:59:03.648Z"
   },
   {
    "duration": 69,
    "start_time": "2024-05-24T08:59:03.670Z"
   },
   {
    "duration": 23,
    "start_time": "2024-05-24T08:59:03.742Z"
   },
   {
    "duration": 583,
    "start_time": "2024-05-24T08:59:03.769Z"
   },
   {
    "duration": 4708,
    "start_time": "2024-05-24T08:59:04.355Z"
   },
   {
    "duration": 3,
    "start_time": "2024-05-24T08:59:09.067Z"
   },
   {
    "duration": 29,
    "start_time": "2024-05-24T08:59:09.073Z"
   },
   {
    "duration": 545,
    "start_time": "2024-05-24T08:59:09.126Z"
   },
   {
    "duration": 26,
    "start_time": "2024-05-24T08:59:09.675Z"
   },
   {
    "duration": 35,
    "start_time": "2024-05-24T08:59:09.704Z"
   },
   {
    "duration": 18,
    "start_time": "2024-05-24T08:59:09.743Z"
   },
   {
    "duration": 83,
    "start_time": "2024-05-24T08:59:09.765Z"
   },
   {
    "duration": 30,
    "start_time": "2024-05-24T08:59:09.852Z"
   },
   {
    "duration": 6,
    "start_time": "2024-05-24T08:59:09.885Z"
   },
   {
    "duration": 1202,
    "start_time": "2024-05-24T09:04:51.197Z"
   },
   {
    "duration": 12,
    "start_time": "2024-05-24T09:04:52.403Z"
   },
   {
    "duration": 15,
    "start_time": "2024-05-24T09:04:52.426Z"
   },
   {
    "duration": 13,
    "start_time": "2024-05-24T09:04:52.447Z"
   },
   {
    "duration": 8,
    "start_time": "2024-05-24T09:04:52.464Z"
   },
   {
    "duration": 56,
    "start_time": "2024-05-24T09:04:52.475Z"
   },
   {
    "duration": 11,
    "start_time": "2024-05-24T09:04:52.534Z"
   },
   {
    "duration": 13,
    "start_time": "2024-05-24T09:04:52.548Z"
   },
   {
    "duration": 65,
    "start_time": "2024-05-24T09:04:52.563Z"
   },
   {
    "duration": 21,
    "start_time": "2024-05-24T09:04:52.634Z"
   },
   {
    "duration": 571,
    "start_time": "2024-05-24T09:04:52.658Z"
   },
   {
    "duration": 4634,
    "start_time": "2024-05-24T09:04:53.233Z"
   },
   {
    "duration": 7,
    "start_time": "2024-05-24T09:04:57.871Z"
   },
   {
    "duration": 49,
    "start_time": "2024-05-24T09:04:57.880Z"
   },
   {
    "duration": 511,
    "start_time": "2024-05-24T09:04:57.932Z"
   },
   {
    "duration": 27,
    "start_time": "2024-05-24T09:04:58.446Z"
   },
   {
    "duration": 67,
    "start_time": "2024-05-24T09:04:58.478Z"
   },
   {
    "duration": 25,
    "start_time": "2024-05-24T09:04:58.547Z"
   },
   {
    "duration": 5,
    "start_time": "2024-05-24T09:04:58.575Z"
   },
   {
    "duration": 6,
    "start_time": "2024-05-24T09:05:28.155Z"
   },
   {
    "duration": 5,
    "start_time": "2024-05-24T09:05:33.836Z"
   },
   {
    "duration": 6,
    "start_time": "2024-05-24T09:05:38.994Z"
   },
   {
    "duration": 5,
    "start_time": "2024-05-24T09:05:54.184Z"
   },
   {
    "duration": 1235,
    "start_time": "2024-05-24T09:06:10.566Z"
   },
   {
    "duration": 22,
    "start_time": "2024-05-24T09:06:11.804Z"
   },
   {
    "duration": 18,
    "start_time": "2024-05-24T09:06:11.829Z"
   },
   {
    "duration": 13,
    "start_time": "2024-05-24T09:06:11.851Z"
   },
   {
    "duration": 7,
    "start_time": "2024-05-24T09:06:11.867Z"
   },
   {
    "duration": 48,
    "start_time": "2024-05-24T09:06:11.879Z"
   },
   {
    "duration": 13,
    "start_time": "2024-05-24T09:06:11.930Z"
   },
   {
    "duration": 15,
    "start_time": "2024-05-24T09:06:11.950Z"
   },
   {
    "duration": 75,
    "start_time": "2024-05-24T09:06:11.968Z"
   },
   {
    "duration": 23,
    "start_time": "2024-05-24T09:06:12.049Z"
   },
   {
    "duration": 579,
    "start_time": "2024-05-24T09:06:12.074Z"
   },
   {
    "duration": 4729,
    "start_time": "2024-05-24T09:06:12.655Z"
   },
   {
    "duration": 4,
    "start_time": "2024-05-24T09:06:17.387Z"
   },
   {
    "duration": 47,
    "start_time": "2024-05-24T09:06:17.395Z"
   },
   {
    "duration": 570,
    "start_time": "2024-05-24T09:06:17.446Z"
   },
   {
    "duration": 27,
    "start_time": "2024-05-24T09:06:18.026Z"
   },
   {
    "duration": 44,
    "start_time": "2024-05-24T09:06:18.057Z"
   },
   {
    "duration": 27,
    "start_time": "2024-05-24T09:06:18.128Z"
   },
   {
    "duration": 5,
    "start_time": "2024-05-24T09:06:18.158Z"
   },
   {
    "duration": 28,
    "start_time": "2024-05-24T09:06:34.356Z"
   },
   {
    "duration": 4725,
    "start_time": "2024-05-24T09:06:50.056Z"
   },
   {
    "duration": 1301,
    "start_time": "2024-05-24T09:10:10.909Z"
   },
   {
    "duration": 15,
    "start_time": "2024-05-24T09:10:12.214Z"
   },
   {
    "duration": 16,
    "start_time": "2024-05-24T09:10:12.231Z"
   },
   {
    "duration": 13,
    "start_time": "2024-05-24T09:10:12.252Z"
   },
   {
    "duration": 7,
    "start_time": "2024-05-24T09:10:12.269Z"
   },
   {
    "duration": 51,
    "start_time": "2024-05-24T09:10:12.280Z"
   },
   {
    "duration": 11,
    "start_time": "2024-05-24T09:10:12.337Z"
   },
   {
    "duration": 14,
    "start_time": "2024-05-24T09:10:12.352Z"
   },
   {
    "duration": 71,
    "start_time": "2024-05-24T09:10:12.369Z"
   },
   {
    "duration": 24,
    "start_time": "2024-05-24T09:10:12.446Z"
   },
   {
    "duration": 583,
    "start_time": "2024-05-24T09:10:12.473Z"
   },
   {
    "duration": 4766,
    "start_time": "2024-05-24T09:10:13.059Z"
   },
   {
    "duration": 4,
    "start_time": "2024-05-24T09:10:17.829Z"
   },
   {
    "duration": 38,
    "start_time": "2024-05-24T09:10:17.836Z"
   },
   {
    "duration": 550,
    "start_time": "2024-05-24T09:10:17.878Z"
   },
   {
    "duration": 27,
    "start_time": "2024-05-24T09:10:18.431Z"
   },
   {
    "duration": 74,
    "start_time": "2024-05-24T09:10:18.461Z"
   },
   {
    "duration": 33,
    "start_time": "2024-05-24T09:10:18.538Z"
   },
   {
    "duration": 5,
    "start_time": "2024-05-24T09:10:18.574Z"
   },
   {
    "duration": 1248,
    "start_time": "2024-05-24T09:14:04.942Z"
   },
   {
    "duration": 13,
    "start_time": "2024-05-24T09:14:06.194Z"
   },
   {
    "duration": 29,
    "start_time": "2024-05-24T09:14:06.210Z"
   },
   {
    "duration": 12,
    "start_time": "2024-05-24T09:14:06.244Z"
   },
   {
    "duration": 8,
    "start_time": "2024-05-24T09:14:06.260Z"
   },
   {
    "duration": 55,
    "start_time": "2024-05-24T09:14:06.272Z"
   },
   {
    "duration": 11,
    "start_time": "2024-05-24T09:14:06.330Z"
   },
   {
    "duration": 13,
    "start_time": "2024-05-24T09:14:06.344Z"
   },
   {
    "duration": 68,
    "start_time": "2024-05-24T09:14:06.360Z"
   },
   {
    "duration": 23,
    "start_time": "2024-05-24T09:14:06.434Z"
   },
   {
    "duration": 576,
    "start_time": "2024-05-24T09:14:06.460Z"
   },
   {
    "duration": 4655,
    "start_time": "2024-05-24T09:14:07.039Z"
   },
   {
    "duration": 9,
    "start_time": "2024-05-24T09:14:11.697Z"
   },
   {
    "duration": 34,
    "start_time": "2024-05-24T09:14:11.708Z"
   },
   {
    "duration": 523,
    "start_time": "2024-05-24T09:14:11.745Z"
   },
   {
    "duration": 26,
    "start_time": "2024-05-24T09:14:12.272Z"
   },
   {
    "duration": 49,
    "start_time": "2024-05-24T09:14:12.326Z"
   },
   {
    "duration": 25,
    "start_time": "2024-05-24T09:14:12.378Z"
   },
   {
    "duration": 6,
    "start_time": "2024-05-24T09:14:12.425Z"
   },
   {
    "duration": 1282,
    "start_time": "2024-05-26T02:32:20.057Z"
   },
   {
    "duration": 20,
    "start_time": "2024-05-26T02:32:21.343Z"
   },
   {
    "duration": 17,
    "start_time": "2024-05-26T02:32:21.366Z"
   },
   {
    "duration": 13,
    "start_time": "2024-05-26T02:32:21.388Z"
   },
   {
    "duration": 7,
    "start_time": "2024-05-26T02:32:21.428Z"
   },
   {
    "duration": 9,
    "start_time": "2024-05-26T02:32:21.440Z"
   },
   {
    "duration": 11,
    "start_time": "2024-05-26T02:32:21.452Z"
   },
   {
    "duration": 65,
    "start_time": "2024-05-26T02:32:21.467Z"
   },
   {
    "duration": 29,
    "start_time": "2024-05-26T02:32:21.536Z"
   },
   {
    "duration": 56,
    "start_time": "2024-05-26T02:32:21.573Z"
   },
   {
    "duration": 585,
    "start_time": "2024-05-26T02:32:21.632Z"
   },
   {
    "duration": 5131,
    "start_time": "2024-05-26T02:32:22.229Z"
   },
   {
    "duration": 6,
    "start_time": "2024-05-26T02:32:27.364Z"
   },
   {
    "duration": 55,
    "start_time": "2024-05-26T02:32:27.374Z"
   },
   {
    "duration": 613,
    "start_time": "2024-05-26T02:32:27.433Z"
   },
   {
    "duration": 36,
    "start_time": "2024-05-26T02:32:28.050Z"
   },
   {
    "duration": 72,
    "start_time": "2024-05-26T02:32:28.090Z"
   },
   {
    "duration": 25,
    "start_time": "2024-05-26T02:32:28.166Z"
   },
   {
    "duration": 33,
    "start_time": "2024-05-26T02:32:28.195Z"
   }
  ],
  "kernelspec": {
   "display_name": "Python 3 (ipykernel)",
   "language": "python",
   "name": "python3"
  },
  "language_info": {
   "codemirror_mode": {
    "name": "ipython",
    "version": 3
   },
   "file_extension": ".py",
   "mimetype": "text/x-python",
   "name": "python",
   "nbconvert_exporter": "python",
   "pygments_lexer": "ipython3",
   "version": "3.9.19"
  },
  "toc": {
   "base_numbering": 1,
   "nav_menu": {},
   "number_sections": true,
   "sideBar": true,
   "skip_h1_title": true,
   "title_cell": "Table of Contents",
   "title_sidebar": "Contents",
   "toc_cell": false,
   "toc_position": {
    "height": "calc(100% - 180px)",
    "left": "10px",
    "top": "150px",
    "width": "165px"
   },
   "toc_section_display": true,
   "toc_window_display": true
  }
 },
 "nbformat": 4,
 "nbformat_minor": 2
}
