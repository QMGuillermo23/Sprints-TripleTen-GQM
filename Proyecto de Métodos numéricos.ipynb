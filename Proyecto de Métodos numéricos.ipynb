{
 "cells": [
  {
   "cell_type": "markdown",
   "metadata": {},
   "source": [
    "¡Hola!\n",
    "\n",
    "Mi nombre es Tonatiuh Cruz. Me complace revisar tu proyecto hoy.\n",
    "\n",
    "Al identificar cualquier error inicialmente, simplemente los destacaré. Te animo a localizar y abordar los problemas de forma independiente como parte de tu preparación para un rol como data-scientist. En un entorno profesional, tu líder de equipo seguiría un enfoque similar. Si encuentras la tarea desafiante, proporcionaré una pista más específica en la próxima iteración.\n",
    "\n",
    "Encontrarás mis comentarios a continuación - **por favor no los muevas, modifiques o elimines**.\n",
    "\n",
    "Puedes encontrar mis comentarios en cajas verdes, amarillas o rojas como esta:\n",
    "\n",
    "<div class=\"alert alert-block alert-success\">\n",
    "<b>Comentario del revisor</b> <a class=\"tocSkip\"></a>\n",
    "\n",
    "Éxito. Todo está hecho correctamente.\n",
    "</div>\n",
    "\n",
    "<div class=\"alert alert-block alert-warning\">\n",
    "<b>Comentario del revisor</b> <a class=\"tocSkip\"></a>\n",
    "\n",
    "Observaciones. Algunas recomendaciones.\n",
    "</div>\n",
    "\n",
    "<div class=\"alert alert-block alert-danger\">\n",
    "<b>Comentario del revisor</b> <a class=\"tocSkip\"></a>\n",
    "\n",
    "Necesita corrección. El bloque requiere algunas correcciones. El trabajo no puede ser aceptado con comentarios en rojo.\n",
    "</div>\n",
    "\n",
    "Puedes responderme utilizando esto:\n",
    "\n",
    "<div class=\"alert alert-block alert-info\">\n",
    "<b>Respuesta del estudiante.</b> <a class=\"tocSkip\"></a>\n",
    "</div>"
   ]
  },
  {
   "cell_type": "markdown",
   "metadata": {},
   "source": [
    "<div class=\"alert alert-block alert-danger\">\n",
    "<b>Resumen de la revisión 1</b> <a class=\"tocSkip\"></a>\n",
    "\n",
    "Hola, Guillermo! Te dejé comentarios sobre la preparación de los datos y la codificiación óptima para algunos modelos. Implementa los cambios que te sugiero y vuelve a entrenar los modelos. Quedo pendiente.\n",
    "</div>"
   ]
  },
  {
   "cell_type": "markdown",
   "metadata": {},
   "source": [
    "El servicio de venta de autos usados Rusty Bargain está desarrollando una aplicación para atraer nuevos clientes. Gracias a esa app, puedes averiguar rápidamente el valor de mercado de tu coche. Tienes acceso al historial: especificaciones técnicas, versiones de equipamiento y precios. Tienes que crear un modelo que determine el valor de mercado.\n",
    "A Rusty Bargain le interesa:\n",
    "- la calidad de la predicción;\n",
    "- la velocidad de la predicción;\n",
    "- el tiempo requerido para el entrenamiento"
   ]
  },
  {
   "cell_type": "markdown",
   "metadata": {},
   "source": [
    "<div class=\"alert alert-block alert-info\">\n",
    "<b>Respuesta del estudiante: \n",
    "1.-Para terminar más rapido tuve que utilizar mi computadora ya que la plataforma se tarda en ejecutar el algoritmo hasta 20 minutos y con mi computadora flutua de 5 a 8 minutos. \n",
    "    \n",
    "2.-Podrias ser más especifico con la oración \"Actualizar el Código en este Notebook?\".\n",
    "    \n",
    "3.-Espero que pronta respuesta\n",
    "    </b> <a class=\"tocSkip\"></a>\n",
    "</div>"
   ]
  },
  {
   "cell_type": "markdown",
   "metadata": {},
   "source": [
    "<div class=\"alert alert-block alert-danger\">\n",
    "<b>Resumen de la revisión 2</b> <a class=\"tocSkip\"></a>\n",
    "\n",
    "Comprendo que hayas terminado el ejercicio en tu equipo personal, pero podrías actualizar el código en este notebook? Noté que aquí no has actualizado la mayoría de cambios de la preparación de datos y su codificación.\n",
    "</div>"
   ]
  },
  {
   "cell_type": "markdown",
   "metadata": {},
   "source": [
    "## Introducción"
   ]
  },
  {
   "cell_type": "markdown",
   "metadata": {},
   "source": [
    "Rusty Bargain, un servicio de venta de coches de segunda mano, está desarrollando una aplicación para atraer a nuevos clientes mediante la posibilidad de conocer rápidamente el valor de mercado de sus coches. El objetivo de este proyecto es crear un modelo de aprendizaje automático que prediga con precisión el valor de mercado de un coche basado en su historial, especificaciones técnicas, versiones de equipamiento y precios. Para este propósito, se utilizarán varios modelos y técnicas de aprendizaje automático, incluyendo métodos iterativos, descenso de gradiente, regularización de regresión lineal y librerías para potenciación de gradiente como LightGBM, CatBoost y XGBoost."
   ]
  },
  {
   "cell_type": "markdown",
   "metadata": {},
   "source": [
    "La preparación de datos es un paso crucial en cualquier proyecto de machine learning.\\\n",
    "Limpiaremos y transformaremos los datos para que sean adecuados para el entrenamiento de modelos.\\\n",
    "Esto incluye manejar valores nulos, codificar características categóricas y dividir los datos en conjuntos de entrenamiento y prueba."
   ]
  },
  {
   "cell_type": "markdown",
   "metadata": {},
   "source": [
    "## Preparación de datos"
   ]
  },
  {
   "cell_type": "code",
   "execution_count": null,
   "metadata": {},
   "outputs": [],
   "source": [
    "import pandas as pd\n",
    "import numpy as np\n",
    "import lightgbm as lgb\n",
    "import time\n",
    "\n",
    "import xgboost as xgb\n",
    "from sklearn.preprocessing import OneHotEncoder\n",
    "from sklearn.model_selection import train_test_split\n",
    "from sklearn.linear_model import LinearRegression\n",
    "from sklearn.metrics import mean_squared_error\n",
    "from sklearn.tree import DecisionTreeRegressor\n",
    "from sklearn.ensemble import RandomForestRegressor\n",
    "\n",
    "from catboost import CatBoostRegressor\n"
   ]
  },
  {
   "cell_type": "code",
   "execution_count": null,
   "metadata": {},
   "outputs": [],
   "source": [
    "car_data = pd.read_csv('/datasets/car_data.csv')"
   ]
  },
  {
   "cell_type": "code",
   "execution_count": null,
   "metadata": {},
   "outputs": [],
   "source": [
    "# Verificar la estructura del DataFrame\n",
    "print(car_data.info())"
   ]
  },
  {
   "cell_type": "code",
   "execution_count": null,
   "metadata": {},
   "outputs": [],
   "source": [
    "# Examinar las primeras filas del dataset\n",
    "print(car_data.head())"
   ]
  },
  {
   "cell_type": "code",
   "execution_count": null,
   "metadata": {},
   "outputs": [],
   "source": [
    "# Verificar valores nulos\n",
    "print(car_data.isnull().sum())"
   ]
  },
  {
   "cell_type": "code",
   "execution_count": null,
   "metadata": {},
   "outputs": [],
   "source": [
    "# Comprobar si las columnas categóricas existen\n",
    "print(car_data.columns)"
   ]
  },
  {
   "cell_type": "code",
   "execution_count": null,
   "metadata": {},
   "outputs": [],
   "source": []
  },
  {
   "cell_type": "markdown",
   "metadata": {},
   "source": [
    "<div class=\"alert alert-block alert-success\">\n",
    "<b>Comentario del revisor</b> <a class=\"tocSkip\"></a>\n",
    "\n",
    "Buena exploración inicial de los datos! Como puedes ver, existen algunas columnas con un número significativo de valores nulos, por lo que hay que encontrar la mejor forma de darles tratamiento sin perder una gran cantidad de observaciones.\n",
    "</div>"
   ]
  },
  {
   "cell_type": "markdown",
   "metadata": {},
   "source": [
    "### Manejo de valores faltantes o inconsistencias"
   ]
  },
  {
   "cell_type": "code",
   "execution_count": null,
   "metadata": {},
   "outputs": [],
   "source": [
    "# Convertir las fechas a datetime\n",
    "car_data['DateCrawled'] = pd.to_datetime(car_data['DateCrawled'], errors='coerce')\n",
    "car_data['DateCreated'] = pd.to_datetime(car_data['DateCreated'], errors='coerce')\n",
    "car_data['LastSeen'] = pd.to_datetime(car_data['LastSeen'], errors='coerce')"
   ]
  },
  {
   "cell_type": "code",
   "execution_count": null,
   "metadata": {},
   "outputs": [],
   "source": [
    "# Convertir fechas a timestamp\n",
    "car_data['DateCrawled'] = car_data['DateCrawled'].apply(lambda x: x.timestamp() if not pd.isnull(x) else np.nan)\n",
    "car_data['DateCreated'] = car_data['DateCreated'].apply(lambda x: x.timestamp() if not pd.isnull(x) else np.nan)\n",
    "car_data['LastSeen'] = car_data['LastSeen'].apply(lambda x: x.timestamp() if not pd.isnull(x) else np.nan)\n"
   ]
  },
  {
   "cell_type": "code",
   "execution_count": null,
   "metadata": {},
   "outputs": [],
   "source": [
    "# Identificar columnas categóricas y numéricas\n",
    "categorical_columns = ['VehicleType', 'Gearbox', 'Model', 'FuelType', 'Brand', 'NotRepaired']\n",
    "numeric_columns = car_data.select_dtypes(include=[np.number]).columns.tolist()\n"
   ]
  },
  {
   "cell_type": "code",
   "execution_count": null,
   "metadata": {},
   "outputs": [],
   "source": []
  },
  {
   "cell_type": "code",
   "execution_count": null,
   "metadata": {},
   "outputs": [],
   "source": [
    "print(car_data.shape)\n",
    "print(car_data.dropna().shape)"
   ]
  },
  {
   "cell_type": "code",
   "execution_count": null,
   "metadata": {},
   "outputs": [],
   "source": [
    "1-(car_data.dropna().shape[0]/car_data.shape[0])"
   ]
  },
  {
   "cell_type": "code",
   "execution_count": null,
   "metadata": {},
   "outputs": [],
   "source": []
  },
  {
   "cell_type": "code",
   "execution_count": null,
   "metadata": {},
   "outputs": [],
   "source": []
  },
  {
   "cell_type": "code",
   "execution_count": null,
   "metadata": {},
   "outputs": [],
   "source": [
    "# Rellenar valores faltantes en variables categóricas con 'unknown'\n",
    "car_data[categorical_columns] = car_data[categorical_columns].fillna('unknown')\n"
   ]
  },
  {
   "cell_type": "code",
   "execution_count": null,
   "metadata": {},
   "outputs": [],
   "source": [
    "# Rellenar valores faltantes en variables numéricas con la mediana\n",
    "car_data[numeric_columns] = car_data[numeric_columns].fillna(car_data[numeric_columns].median())\n"
   ]
  },
  {
   "cell_type": "code",
   "execution_count": null,
   "metadata": {},
   "outputs": [],
   "source": [
    "print(car_data.shape)\n",
    "print(car_data.dropna().shape)"
   ]
  },
  {
   "cell_type": "code",
   "execution_count": null,
   "metadata": {},
   "outputs": [],
   "source": [
    "1-(car_data.shape[0]/car_data.dropna().shape[0])"
   ]
  },
  {
   "cell_type": "markdown",
   "metadata": {},
   "source": [
    "NO FUE FACIL"
   ]
  },
  {
   "cell_type": "code",
   "execution_count": null,
   "metadata": {},
   "outputs": [],
   "source": [
    "print(car_data.describe())"
   ]
  },
  {
   "cell_type": "markdown",
   "metadata": {},
   "source": [
    "Esta es otra forma de determinar cuales solumnas nos pueden ser utilices para el proyecto"
   ]
  },
  {
   "cell_type": "markdown",
   "metadata": {},
   "source": [
    "### ONE-HOT ENCODING"
   ]
  },
  {
   "cell_type": "code",
   "execution_count": null,
   "metadata": {},
   "outputs": [],
   "source": [
    "# Codificación One-Hot Encoding para variables categóricas\n",
    "encoder = OneHotEncoder(drop='first', sparse=False)\n",
    "encoded_categorical_data = encoder.fit_transform(car_data[categorical_columns])"
   ]
  },
  {
   "cell_type": "code",
   "execution_count": null,
   "metadata": {},
   "outputs": [],
   "source": [
    "# Crear un DataFrame para las variables codificadas\n",
    "encoded_categorical_df = pd.DataFrame(encoded_categorical_data, columns=encoder.get_feature_names_out(categorical_columns))"
   ]
  },
  {
   "cell_type": "code",
   "execution_count": null,
   "metadata": {},
   "outputs": [],
   "source": [
    "# Combinar las variables codificadas con las numéricas\n",
    "car_data_encoded = pd.concat([car_data.drop(columns=categorical_columns), encoded_categorical_df], axis=1)"
   ]
  },
  {
   "cell_type": "markdown",
   "metadata": {},
   "source": [
    "<div class=\"alert alert-block alert-danger\">\n",
    "<b>Comentario del revisor</b> <a class=\"tocSkip\"></a>\n",
    "\n",
    "Entiendo tu punto al eliminar los registros con valores nulos, solo que se están perdiendo demasiadas observaciones (el 30% de todos los datos). Debido a esto hay que encontrar una mejor manera de darles tratamiento en caso de que la información lo permita. Al revisar en cuáles columnas están los NA's se puede identificar que son solo variables categóricas, como vehicletype y model, debido a esto es que podemos crear una nueva categoría para todas las columnas con NA's cuyo valor sea 'desconocido'. De esta forma no se pierde toda la información de los registros y queda explícito que es información que no conocemos.  Nuevamente, ya que todas las variables con valores nulos son categóricas podemos rellenar los NA's con la siguiente línea y no eliminarlos directamente como en tu línea anterior:\n",
    "    \n",
    "        car_data = car_data.fillna('unknown')\n",
    "</div>\n",
    "\n",
    "<div class=\"alert alert-block alert-success\">\n",
    "<b>Comentario del revisor</b> <a class=\"tocSkip\"></a>\n",
    "\n",
    "Comentario atendido correctamente.\n",
    "</div>\n",
    "\n"
   ]
  },
  {
   "cell_type": "code",
   "execution_count": null,
   "metadata": {},
   "outputs": [],
   "source": []
  },
  {
   "cell_type": "markdown",
   "metadata": {},
   "source": [
    "<div class=\"alert alert-block alert-danger\">\n",
    "<b>Comentario del revisor</b> <a class=\"tocSkip\"></a>\n",
    "\n",
    "Ya que estas columnas de fechas no tienen relación con el precio de los autos podrías remover los bloques de código en los que las manipulas y eliminarlas de tu  tabla. Te aconsejo también identificar qué otras variables no tienen relación con el precio y las elimines ya que al incluirlas solo podrían causar ruido y reducir el rendmiento del modelo.\n",
    "</div>"
   ]
  },
  {
   "cell_type": "markdown",
   "metadata": {},
   "source": [
    "<div class=\"alert alert-block alert-warning\">\n",
    "<b>Comentario del revisor</b> <a class=\"tocSkip\"></a>\n",
    "\n",
    "Además de eliminar las variables sin relación con la variable target recomendaría que hicieras una exploración de algunas columnas que podrían tener valores inválidos, tales como la de power y año de registro. Sabemos que power no puede ser 0 ya que es la potencia de un auto, además de que el año no podría ser mayor a 2024 por ejemplo, ya que es el año del registro del auto. Identificar estos valores inválidos y eliminarlos es un paso importante para reducir sesgos en el modelo.\n",
    "</div>"
   ]
  },
  {
   "cell_type": "code",
   "execution_count": null,
   "metadata": {},
   "outputs": [],
   "source": [
    "# Verificar el resultado de la codificación\n",
    "print(car_data.head())\n",
    "print('------------------------------------------------------------------')\n",
    "print(car_data.info())\n"
   ]
  },
  {
   "cell_type": "code",
   "execution_count": null,
   "metadata": {
    "scrolled": true
   },
   "outputs": [],
   "source": []
  },
  {
   "cell_type": "markdown",
   "metadata": {},
   "source": [
    "<div class=\"alert alert-block alert-danger\">\n",
    "<b>Comentario del revisor</b> <a class=\"tocSkip\"></a>\n",
    "\n",
    "Buen trabajo aplicando OHE a tus variables categóricas; sin embargo es necesario hacer algunos ajustes. Por ejemplo, la variable Brand también es categórica y la estás excluyendo en la transformación, es necesario codificarla. Por otro lado, la variable model hay que eliminarla del conjunto de datos con OHE, esto debido a que al tener demasiadas categorías aumenta considerablemente el tiempo de entrenamiento de los modelos. Aquí hay un punto importante, model es muy importante para la predicción del precio de un auto, pero con OHE la estamos eliminando. Para poder utilizar model es necesario realizarle a los datos Ordinal Encoding, de esta forma podríamos tomarla en cuenta sin aumentar demasiado las dimensiones de los datos. Te dejo una propuesta de cómo podría quedar tu código para realizar la codificación:\n",
    "    \n",
    "    # Aplicar OHE sobre las columnas categóricas y guardar en un nuevo dataframe\n",
    "    categorical_columns_ohe = ['VehicleType', 'Gearbox', 'Brand' ,'FuelType', 'NotRepaired']\n",
    "    \n",
    "    data_ohe = car_data\n",
    "    data_ohe = pd.get_dummies(data_ohe, columns=categorical_columns_ohe, drop_first=True)            \n",
    "    data_ohe.drop(['Model'], axis=1, inplace=True)\n",
    "    \n",
    "    # Aplicar Ordinal Encoding sobre las columnas categóricas y guardar en un nuevo dataframe\n",
    "    from sklearn.preprocessing import OrdinalEncoder\n",
    "    # Aquí sí incluimos la variable model \n",
    "    categorical_columns = ['VehicleType', 'Gearbox', 'Model', 'Brand', 'FuelType', 'NotRepaired']\n",
    "    \n",
    "    data_ordinal_encoding = car_data\n",
    "    data_ordinal_encoding[categorical_columns] = OrdinalEncoder().fit_transform(data_ordinal_encoding[categorical_columns])\n",
    "\n",
    "Para implementarlo correctamente deberás comentar o eliminar el bloque de código donde actualmente estás haciendo la codificación\n",
    "    \n",
    "</div>"
   ]
  },
  {
   "cell_type": "markdown",
   "metadata": {},
   "source": [
    "### División de Datos"
   ]
  },
  {
   "cell_type": "code",
   "execution_count": null,
   "metadata": {},
   "outputs": [],
   "source": [
    "#Dividir los Datos\n",
    "X = car_data_encoded.drop(columns=['Price'])\n",
    "y = car_data_encoded['Price']\n",
    "\n",
    "\n",
    "# Dividir en conjuntos de entrenamiento y prueba\n",
    "X_train, X_test, y_train, y_test = train_test_split(X, y, test_size=0.2, random_state=42)\n"
   ]
  },
  {
   "cell_type": "markdown",
   "metadata": {},
   "source": [
    "<div class=\"alert alert-block alert-warning\">\n",
    "<b>Comentario del revisor</b> <a class=\"tocSkip\"></a>\n",
    "\n",
    "Ahora cuentas con dos conjuntos de datos con diferentes codificaciones. La forma de separarlos en conjuntos de entrenamiento y prueba es de forma similar, solo asegúrate de guardar los features y el target con nombres intuitivos, por ejemplo:\n",
    "    \n",
    "    x_ohe = data_ohe.drop('Price', axis=1)\n",
    "    y_ohe = data_ohe['Price']\n",
    "    \n",
    "Además hay que tener en cuenta ciertas consideraciones sobre cuál conjunto de datos usar en cada modelo. OHE es ideal para regresión lineal y logística, pero no se recomienda ni para random forest, árbol de decisión. Y con Ordinal Encoding es al revés, usarlo en regresión lineal y logística da resultados con muchos supuestos falsos, por lo que se debe evitar, pero es muy buena codificación para usar en árbol de decisión y random forest.\n",
    "</div>"
   ]
  },
  {
   "cell_type": "code",
   "execution_count": null,
   "metadata": {},
   "outputs": [],
   "source": []
  },
  {
   "cell_type": "markdown",
   "metadata": {},
   "source": [
    "## Entrenamiento del modelo "
   ]
  },
  {
   "cell_type": "code",
   "execution_count": null,
   "metadata": {},
   "outputs": [],
   "source": []
  },
  {
   "cell_type": "markdown",
   "metadata": {},
   "source": [
    "### Regresión Lineal"
   ]
  },
  {
   "cell_type": "code",
   "execution_count": null,
   "metadata": {},
   "outputs": [],
   "source": [
    "# Entrenar y evaluar Regresión Lineal\n",
    "start_time_lr = time.time()\n",
    "lr_model = LinearRegression()\n",
    "lr_model.fit(X_train, y_train)\n",
    "end_time_lr = time.time()\n",
    "y_pred_lr = lr_model.predict(X_test)"
   ]
  },
  {
   "cell_type": "code",
   "execution_count": null,
   "metadata": {},
   "outputs": [],
   "source": [
    "\n",
    "rmse_lr = np.sqrt(mean_squared_error(y_test, y_pred_lr))\n",
    "time_lr = end_time_lr - start_time_lr"
   ]
  },
  {
   "cell_type": "code",
   "execution_count": null,
   "metadata": {},
   "outputs": [],
   "source": [
    "# Imprimir resultados\n",
    "print(f'Tiempo de entrenamiento - Regresión Lineal: {time_lr:.2f} s')\n",
    "print('------------------------------------------------------------------')\n",
    "print(f'RMSE - Regresión Lineal: {rmse_lr:.2f}')"
   ]
  },
  {
   "cell_type": "markdown",
   "metadata": {},
   "source": [
    "Aunque no es adecuada para el ajuste de hiperparámetros, sirve como una prueba de cordura. Si los modelos más complejos no superan a la regresión lineal, es una señal de que algo está mal."
   ]
  },
  {
   "cell_type": "code",
   "execution_count": null,
   "metadata": {},
   "outputs": [],
   "source": []
  },
  {
   "cell_type": "markdown",
   "metadata": {},
   "source": [
    "### Árbol de Decisión"
   ]
  },
  {
   "cell_type": "code",
   "execution_count": null,
   "metadata": {},
   "outputs": [],
   "source": [
    "# Entrenar el modelo de árbol de decisión\n",
    "start_time_dt = time.time()\n",
    "dt_model = DecisionTreeRegressor(random_state=42)\n",
    "dt_model.fit(X_train, y_train)\n",
    "end_time_dt = time.time()\n",
    "y_pred_dt = dt_model.predict(X_test)"
   ]
  },
  {
   "cell_type": "code",
   "execution_count": null,
   "metadata": {},
   "outputs": [],
   "source": [
    "rmse_dt = np.sqrt(mean_squared_error(y_test, y_pred_dt))\n",
    "time_dt = end_time_dt - start_time_dt\n"
   ]
  },
  {
   "cell_type": "code",
   "execution_count": null,
   "metadata": {},
   "outputs": [],
   "source": [
    "# Imprimir resultados\n",
    "print(f'Tiempo de entrenamiento - Árbol de Decisión: {time_dt:.2f} s')\n",
    "print('------------------------------------------------------------------')\n",
    "print(f'RMSE - Árbol de Decisión: {rmse_dt:.2f}')"
   ]
  },
  {
   "cell_type": "markdown",
   "metadata": {},
   "source": [
    "Basados en árboles son más interpretables y a menudo proporcionan buenos resultados iniciales, pero pueden ser propensos al sobreajuste."
   ]
  },
  {
   "cell_type": "code",
   "execution_count": null,
   "metadata": {},
   "outputs": [],
   "source": []
  },
  {
   "cell_type": "code",
   "execution_count": null,
   "metadata": {},
   "outputs": [],
   "source": []
  },
  {
   "cell_type": "markdown",
   "metadata": {},
   "source": [
    "### Bosque Aleatorio"
   ]
  },
  {
   "cell_type": "code",
   "execution_count": null,
   "metadata": {},
   "outputs": [],
   "source": [
    "# Entrenar el modelo de bosque aleatorio\n",
    "start_time_rf = time.time()\n",
    "rf_model = RandomForestRegressor(random_state=42)\n",
    "rf_model.fit(X_train, y_train)\n",
    "end_time_rf = time.time()\n",
    "y_pred_rf = rf_model.predict(X_test)"
   ]
  },
  {
   "cell_type": "code",
   "execution_count": null,
   "metadata": {},
   "outputs": [],
   "source": [
    "rmse_rf = np.sqrt(mean_squared_error(y_test, y_pred_rf))\n",
    "time_rf = end_time_rf - start_time_rf\n"
   ]
  },
  {
   "cell_type": "code",
   "execution_count": null,
   "metadata": {},
   "outputs": [],
   "source": [
    "# Imprimir resultados\n",
    "print(f'Tiempo de entrenamiento - Bosque Aleatorio: {time_rf:.2f} s')\n",
    "print('------------------------------------------------------------------')\n",
    "print(f'RMSE - Bosque Aleatorio: {rmse_rf:.2f}')"
   ]
  },
  {
   "cell_type": "markdown",
   "metadata": {},
   "source": [
    "Basados en árboles son más interpretables y a menudo proporcionan buenos resultados iniciales, pero pueden ser propensos al sobreajuste."
   ]
  },
  {
   "cell_type": "code",
   "execution_count": null,
   "metadata": {},
   "outputs": [],
   "source": []
  },
  {
   "cell_type": "markdown",
   "metadata": {},
   "source": [
    "### Dataset para LightGBM"
   ]
  },
  {
   "cell_type": "code",
   "execution_count": null,
   "metadata": {},
   "outputs": [],
   "source": [
    "# Configuración y entrenamiento del modelo LightGBM\n",
    "lgb_train = lgb.Dataset(X_train, y_train)\n",
    "lgb_eval = lgb.Dataset(X_test, y_test, reference=lgb_train)\n",
    "params = {\n",
    "    'objective': 'regression',\n",
    "    'metric': 'rmse',\n",
    "    'boosting_type': 'gbdt',\n",
    "    'num_leaves': 31,\n",
    "    'learning_rate': 0.05,\n",
    "    'feature_fraction': 0.9\n",
    "}\n",
    "start_time_lgb = time.time()\n",
    "gbm = lgb.train(params, lgb_train, num_boost_round=100, valid_sets=lgb_eval)\n",
    "end_time_lgb = time.time()\n",
    "y_pred_lgb = gbm.predict(X_test, num_iteration=gbm.best_iteration)"
   ]
  },
  {
   "cell_type": "code",
   "execution_count": null,
   "metadata": {},
   "outputs": [],
   "source": [
    "# Hacer predicciones y calcular el RECM\n",
    "rmse_lgb = np.sqrt(mean_squared_error(y_test, y_pred_lgb))\n",
    "time_lgb = end_time_lgb - start_time_lgb"
   ]
  },
  {
   "cell_type": "code",
   "execution_count": null,
   "metadata": {},
   "outputs": [],
   "source": [
    "# Imprimir resultados\n",
    "print(f'Tiempo de entrenamiento - LightGBM: {time_lgb:.2f} s')\n",
    "print('------------------------------------------------------------------')\n",
    "print(f'RMSE - LightGBM: {rmse_lgb:.2f}')"
   ]
  },
  {
   "cell_type": "markdown",
   "metadata": {},
   "source": [
    "## Análisis del modelo"
   ]
  },
  {
   "cell_type": "markdown",
   "metadata": {},
   "source": [
    "### Entrenar el Modelo XGBoost"
   ]
  },
  {
   "cell_type": "code",
   "execution_count": null,
   "metadata": {},
   "outputs": [],
   "source": [
    "# Entrenar y evaluar XGBoost\n",
    "start_time_xgb = time.time()\n",
    "xgb_model = xgb.XGBRegressor(objective='reg:squarederror', n_estimators=100, learning_rate=0.05)\n",
    "xgb_model.fit(X_train, y_train)\n",
    "end_time_xgb = time.time()\n",
    "y_pred_xgb = xgb_model.predict(X_test)"
   ]
  },
  {
   "cell_type": "code",
   "execution_count": null,
   "metadata": {},
   "outputs": [],
   "source": [
    "rmse_xgb = np.sqrt(mean_squared_error(y_test, y_pred_xgb))\n",
    "time_xgb = end_time_xgb - start_time_xgb"
   ]
  },
  {
   "cell_type": "code",
   "execution_count": null,
   "metadata": {},
   "outputs": [],
   "source": [
    "# Imprimir resultados\n",
    "print(f'Tiempo de entrenamiento - XGBoost: {time_xgb:.2f} s')\n",
    "print('------------------------------------------------------------------')\n",
    "print(f'RMSE - XGBoost: {rmse_xgb:.2f}')"
   ]
  },
  {
   "cell_type": "markdown",
   "metadata": {},
   "source": [
    "### Entrenar el Modelo CatBoost"
   ]
  },
  {
   "cell_type": "code",
   "execution_count": null,
   "metadata": {},
   "outputs": [],
   "source": [
    "# Entrenar y evaluar CatBoost\n",
    "start_time_cb = time.time()\n",
    "cb_model = CatBoostRegressor(loss_function='RMSE', iterations=100, learning_rate=0.05, verbose=0)\n",
    "cb_model.fit(X_train, y_train)\n",
    "end_time_cb = time.time()\n",
    "y_pred_cb = cb_model.predict(X_test)"
   ]
  },
  {
   "cell_type": "code",
   "execution_count": null,
   "metadata": {},
   "outputs": [],
   "source": [
    "rmse_cb = np.sqrt(mean_squared_error(y_test, y_pred_cb))\n",
    "time_cb = end_time_cb - start_time_cb"
   ]
  },
  {
   "cell_type": "code",
   "execution_count": null,
   "metadata": {},
   "outputs": [],
   "source": [
    "# Imprimir resultados\n",
    "print(f'Tiempo de entrenamiento - CatBoost: {time_cb:.2f} s')\n",
    "print('------------------------------------------------------------------')\n",
    "print(f'RMSE - CatBoost: {rmse_cb:.2f}')"
   ]
  },
  {
   "cell_type": "markdown",
   "metadata": {},
   "source": [
    "Conclusión sobre los algoritmos LightGBM, XGBoost y CatBoost: con ellos se potencia un gradiente son más avanzados y a menudo proporcionan mejores resultados en términos de precisión, aunque pueden requerir más tiempo de entrenamiento y ajuste de hiperparámetros. LightGBM y CatBoost tienen la ventaja de manejar datos categóricos de manera eficiente sin necesidad de codificación adicional."
   ]
  },
  {
   "cell_type": "markdown",
   "metadata": {},
   "source": [
    "# Conclusión del Proyecto"
   ]
  },
  {
   "cell_type": "markdown",
   "metadata": {},
   "source": [
    "El proyecto ha demostrado que los modelos de potenciación de gradiente como LightGBM, XGBoost y CatBoost tienden a ofrecer mejores resultados en términos de precisión en comparación con la regresión lineal y los métodos basados en árboles como el árbol de decisión y el bosque aleatorio. Sin embargo, el tiempo de entrenamiento y la complejidad computacional son factores a considerar."
   ]
  },
  {
   "cell_type": "markdown",
   "metadata": {},
   "source": [
    "# Lista de control"
   ]
  },
  {
   "cell_type": "markdown",
   "metadata": {},
   "source": [
    "Escribe 'x' para verificar. Luego presiona Shift+Enter"
   ]
  },
  {
   "cell_type": "markdown",
   "metadata": {},
   "source": [
    "- [x]  Jupyter Notebook está abierto\n",
    "- [x]  El código no tiene errores- [x]  Las celdas con el código han sido colocadas en orden de ejecución- [x]  Los datos han sido descargados y preparados- [x]  Los modelos han sido entrenados\n",
    "- [x]  Se realizó el análisis de velocidad y calidad de los modelos"
   ]
  },
  {
   "cell_type": "code",
   "execution_count": null,
   "metadata": {},
   "outputs": [],
   "source": []
  }
 ],
 "metadata": {
  "ExecuteTimeLog": [
   {
    "duration": 1517,
    "start_time": "2024-07-16T04:21:55.004Z"
   },
   {
    "duration": 1059,
    "start_time": "2024-07-16T04:21:56.525Z"
   },
   {
    "duration": 14,
    "start_time": "2024-07-16T04:21:57.588Z"
   },
   {
    "duration": 202,
    "start_time": "2024-07-16T04:21:57.615Z"
   },
   {
    "duration": 289,
    "start_time": "2024-07-16T04:21:57.823Z"
   },
   {
    "duration": 1421,
    "start_time": "2024-07-16T04:22:34.568Z"
   },
   {
    "duration": 1066,
    "start_time": "2024-07-16T04:22:35.993Z"
   },
   {
    "duration": 14,
    "start_time": "2024-07-16T04:22:37.062Z"
   },
   {
    "duration": 206,
    "start_time": "2024-07-16T04:22:37.080Z"
   },
   {
    "duration": 281,
    "start_time": "2024-07-16T04:22:37.289Z"
   },
   {
    "duration": 1522,
    "start_time": "2024-07-16T04:24:05.420Z"
   },
   {
    "duration": 1004,
    "start_time": "2024-07-16T04:24:06.945Z"
   },
   {
    "duration": 16,
    "start_time": "2024-07-16T04:24:07.953Z"
   },
   {
    "duration": 212,
    "start_time": "2024-07-16T04:24:07.979Z"
   },
   {
    "duration": 266,
    "start_time": "2024-07-16T04:24:08.194Z"
   },
   {
    "duration": 533,
    "start_time": "2024-07-16T04:24:08.464Z"
   },
   {
    "duration": 1729,
    "start_time": "2024-07-16T04:29:12.238Z"
   },
   {
    "duration": 1343,
    "start_time": "2024-07-16T04:29:13.981Z"
   },
   {
    "duration": 22,
    "start_time": "2024-07-16T04:29:15.335Z"
   },
   {
    "duration": 261,
    "start_time": "2024-07-16T04:29:15.369Z"
   },
   {
    "duration": 308,
    "start_time": "2024-07-16T04:29:15.633Z"
   },
   {
    "duration": 6,
    "start_time": "2024-07-16T04:29:15.946Z"
   },
   {
    "duration": 469,
    "start_time": "2024-07-16T04:31:21.195Z"
   },
   {
    "duration": 55,
    "start_time": "2024-07-16T04:31:31.460Z"
   },
   {
    "duration": 181,
    "start_time": "2024-07-16T04:31:37.787Z"
   },
   {
    "duration": 1324,
    "start_time": "2024-07-16T04:36:04.989Z"
   },
   {
    "duration": 811,
    "start_time": "2024-07-16T04:36:06.323Z"
   },
   {
    "duration": 16,
    "start_time": "2024-07-16T04:36:07.138Z"
   },
   {
    "duration": 179,
    "start_time": "2024-07-16T04:36:07.159Z"
   },
   {
    "duration": 227,
    "start_time": "2024-07-16T04:36:07.341Z"
   },
   {
    "duration": 3,
    "start_time": "2024-07-16T04:36:07.571Z"
   },
   {
    "duration": 166,
    "start_time": "2024-07-16T04:36:07.577Z"
   },
   {
    "duration": 401,
    "start_time": "2024-07-16T04:36:07.747Z"
   },
   {
    "duration": 0,
    "start_time": "2024-07-16T04:36:08.152Z"
   },
   {
    "duration": 0,
    "start_time": "2024-07-16T04:36:08.154Z"
   },
   {
    "duration": 0,
    "start_time": "2024-07-16T04:36:08.156Z"
   },
   {
    "duration": 0,
    "start_time": "2024-07-16T04:36:08.158Z"
   },
   {
    "duration": 0,
    "start_time": "2024-07-16T04:36:08.160Z"
   },
   {
    "duration": 0,
    "start_time": "2024-07-16T04:36:08.161Z"
   },
   {
    "duration": 0,
    "start_time": "2024-07-16T04:36:08.163Z"
   },
   {
    "duration": 0,
    "start_time": "2024-07-16T04:36:08.167Z"
   },
   {
    "duration": 0,
    "start_time": "2024-07-16T04:36:08.170Z"
   },
   {
    "duration": 1319,
    "start_time": "2024-07-21T05:44:09.944Z"
   },
   {
    "duration": 817,
    "start_time": "2024-07-21T05:44:11.267Z"
   },
   {
    "duration": 13,
    "start_time": "2024-07-21T05:44:12.086Z"
   },
   {
    "duration": 147,
    "start_time": "2024-07-21T05:44:12.114Z"
   },
   {
    "duration": 212,
    "start_time": "2024-07-21T05:44:12.264Z"
   },
   {
    "duration": 410,
    "start_time": "2024-07-21T05:44:12.479Z"
   },
   {
    "duration": 0,
    "start_time": "2024-07-21T05:44:12.892Z"
   },
   {
    "duration": 0,
    "start_time": "2024-07-21T05:44:12.894Z"
   },
   {
    "duration": 0,
    "start_time": "2024-07-21T05:44:12.897Z"
   },
   {
    "duration": 0,
    "start_time": "2024-07-21T05:44:12.913Z"
   },
   {
    "duration": 0,
    "start_time": "2024-07-21T05:44:12.915Z"
   },
   {
    "duration": 1,
    "start_time": "2024-07-21T05:44:12.917Z"
   },
   {
    "duration": 0,
    "start_time": "2024-07-21T05:44:12.919Z"
   },
   {
    "duration": 0,
    "start_time": "2024-07-21T05:44:12.921Z"
   },
   {
    "duration": 0,
    "start_time": "2024-07-21T05:44:12.924Z"
   },
   {
    "duration": 0,
    "start_time": "2024-07-21T05:44:12.926Z"
   },
   {
    "duration": 0,
    "start_time": "2024-07-21T05:44:12.927Z"
   },
   {
    "duration": 0,
    "start_time": "2024-07-21T05:44:12.929Z"
   },
   {
    "duration": 198,
    "start_time": "2024-07-21T05:44:34.224Z"
   },
   {
    "duration": 71,
    "start_time": "2024-07-21T05:45:51.218Z"
   },
   {
    "duration": 71,
    "start_time": "2024-07-21T05:49:10.017Z"
   },
   {
    "duration": 90,
    "start_time": "2024-07-21T05:53:08.528Z"
   },
   {
    "duration": 1277,
    "start_time": "2024-07-21T05:53:17.430Z"
   },
   {
    "duration": 724,
    "start_time": "2024-07-21T05:53:18.712Z"
   },
   {
    "duration": 13,
    "start_time": "2024-07-21T05:53:19.438Z"
   },
   {
    "duration": 158,
    "start_time": "2024-07-21T05:53:19.454Z"
   },
   {
    "duration": 4,
    "start_time": "2024-07-21T05:53:19.616Z"
   },
   {
    "duration": 216,
    "start_time": "2024-07-21T05:53:19.624Z"
   },
   {
    "duration": 585,
    "start_time": "2024-07-21T05:53:19.842Z"
   },
   {
    "duration": 0,
    "start_time": "2024-07-21T05:53:20.430Z"
   },
   {
    "duration": 0,
    "start_time": "2024-07-21T05:53:20.432Z"
   },
   {
    "duration": 0,
    "start_time": "2024-07-21T05:53:20.434Z"
   },
   {
    "duration": 0,
    "start_time": "2024-07-21T05:53:20.435Z"
   },
   {
    "duration": 0,
    "start_time": "2024-07-21T05:53:20.437Z"
   },
   {
    "duration": 0,
    "start_time": "2024-07-21T05:53:20.439Z"
   },
   {
    "duration": 0,
    "start_time": "2024-07-21T05:53:20.442Z"
   },
   {
    "duration": 0,
    "start_time": "2024-07-21T05:53:20.445Z"
   },
   {
    "duration": 0,
    "start_time": "2024-07-21T05:53:20.447Z"
   },
   {
    "duration": 0,
    "start_time": "2024-07-21T05:53:20.449Z"
   },
   {
    "duration": 0,
    "start_time": "2024-07-21T05:53:20.450Z"
   },
   {
    "duration": 0,
    "start_time": "2024-07-21T05:53:20.453Z"
   },
   {
    "duration": 72,
    "start_time": "2024-07-21T05:54:27.385Z"
   },
   {
    "duration": 70,
    "start_time": "2024-07-21T05:55:19.416Z"
   },
   {
    "duration": 23,
    "start_time": "2024-07-21T05:58:04.118Z"
   },
   {
    "duration": 1296,
    "start_time": "2024-07-21T05:58:44.698Z"
   },
   {
    "duration": 733,
    "start_time": "2024-07-21T05:58:45.998Z"
   },
   {
    "duration": 13,
    "start_time": "2024-07-21T05:58:46.734Z"
   },
   {
    "duration": 160,
    "start_time": "2024-07-21T05:58:46.752Z"
   },
   {
    "duration": 5,
    "start_time": "2024-07-21T05:58:46.915Z"
   },
   {
    "duration": 214,
    "start_time": "2024-07-21T05:58:46.924Z"
   },
   {
    "duration": 486,
    "start_time": "2024-07-21T05:58:47.140Z"
   },
   {
    "duration": 706,
    "start_time": "2024-07-21T05:58:47.629Z"
   },
   {
    "duration": 7,
    "start_time": "2024-07-21T05:58:48.338Z"
   },
   {
    "duration": 0,
    "start_time": "2024-07-21T05:58:48.348Z"
   },
   {
    "duration": 0,
    "start_time": "2024-07-21T05:58:48.350Z"
   },
   {
    "duration": 0,
    "start_time": "2024-07-21T05:58:48.353Z"
   },
   {
    "duration": 0,
    "start_time": "2024-07-21T05:58:48.356Z"
   },
   {
    "duration": 0,
    "start_time": "2024-07-21T05:58:48.358Z"
   },
   {
    "duration": 0,
    "start_time": "2024-07-21T05:58:48.360Z"
   },
   {
    "duration": 0,
    "start_time": "2024-07-21T05:58:48.362Z"
   },
   {
    "duration": 0,
    "start_time": "2024-07-21T05:58:48.364Z"
   },
   {
    "duration": 0,
    "start_time": "2024-07-21T05:58:48.367Z"
   },
   {
    "duration": 0,
    "start_time": "2024-07-21T05:58:48.369Z"
   },
   {
    "duration": 1269,
    "start_time": "2024-07-21T05:59:26.887Z"
   },
   {
    "duration": 724,
    "start_time": "2024-07-21T05:59:28.160Z"
   },
   {
    "duration": 27,
    "start_time": "2024-07-21T05:59:28.886Z"
   },
   {
    "duration": 145,
    "start_time": "2024-07-21T05:59:28.919Z"
   },
   {
    "duration": 6,
    "start_time": "2024-07-21T05:59:29.067Z"
   },
   {
    "duration": 211,
    "start_time": "2024-07-21T05:59:29.076Z"
   },
   {
    "duration": 473,
    "start_time": "2024-07-21T05:59:29.290Z"
   },
   {
    "duration": 708,
    "start_time": "2024-07-21T05:59:29.768Z"
   },
   {
    "duration": 1771,
    "start_time": "2024-07-21T05:59:30.479Z"
   },
   {
    "duration": 0,
    "start_time": "2024-07-21T05:59:32.255Z"
   },
   {
    "duration": 0,
    "start_time": "2024-07-21T05:59:32.257Z"
   },
   {
    "duration": 0,
    "start_time": "2024-07-21T05:59:32.259Z"
   },
   {
    "duration": 0,
    "start_time": "2024-07-21T05:59:32.262Z"
   },
   {
    "duration": 0,
    "start_time": "2024-07-21T05:59:32.264Z"
   },
   {
    "duration": 0,
    "start_time": "2024-07-21T05:59:32.267Z"
   },
   {
    "duration": 0,
    "start_time": "2024-07-21T05:59:32.269Z"
   },
   {
    "duration": 0,
    "start_time": "2024-07-21T05:59:32.271Z"
   },
   {
    "duration": 0,
    "start_time": "2024-07-21T05:59:32.273Z"
   },
   {
    "duration": 1355,
    "start_time": "2024-07-21T06:05:27.039Z"
   },
   {
    "duration": 748,
    "start_time": "2024-07-21T06:05:28.405Z"
   },
   {
    "duration": 13,
    "start_time": "2024-07-21T06:05:29.156Z"
   },
   {
    "duration": 155,
    "start_time": "2024-07-21T06:05:29.172Z"
   },
   {
    "duration": 4,
    "start_time": "2024-07-21T06:05:29.332Z"
   },
   {
    "duration": 219,
    "start_time": "2024-07-21T06:05:29.339Z"
   },
   {
    "duration": 2010,
    "start_time": "2024-07-21T06:05:29.560Z"
   },
   {
    "duration": 56,
    "start_time": "2024-07-21T06:05:31.573Z"
   },
   {
    "duration": 83,
    "start_time": "2024-07-21T06:05:31.632Z"
   },
   {
    "duration": 37,
    "start_time": "2024-07-21T06:05:31.719Z"
   },
   {
    "duration": 429,
    "start_time": "2024-07-21T06:05:31.758Z"
   },
   {
    "duration": 697,
    "start_time": "2024-07-21T06:05:32.190Z"
   },
   {
    "duration": 2008,
    "start_time": "2024-07-21T06:05:32.889Z"
   },
   {
    "duration": 0,
    "start_time": "2024-07-21T06:05:34.901Z"
   },
   {
    "duration": 0,
    "start_time": "2024-07-21T06:05:34.912Z"
   },
   {
    "duration": 0,
    "start_time": "2024-07-21T06:05:34.914Z"
   },
   {
    "duration": 0,
    "start_time": "2024-07-21T06:05:34.916Z"
   },
   {
    "duration": 0,
    "start_time": "2024-07-21T06:05:34.918Z"
   },
   {
    "duration": 0,
    "start_time": "2024-07-21T06:05:34.920Z"
   },
   {
    "duration": 0,
    "start_time": "2024-07-21T06:05:34.922Z"
   },
   {
    "duration": 0,
    "start_time": "2024-07-21T06:05:34.925Z"
   },
   {
    "duration": 0,
    "start_time": "2024-07-21T06:05:34.927Z"
   },
   {
    "duration": 1293,
    "start_time": "2024-07-21T06:09:28.541Z"
   },
   {
    "duration": 735,
    "start_time": "2024-07-21T06:09:29.839Z"
   },
   {
    "duration": 12,
    "start_time": "2024-07-21T06:09:30.577Z"
   },
   {
    "duration": 137,
    "start_time": "2024-07-21T06:09:30.613Z"
   },
   {
    "duration": 6,
    "start_time": "2024-07-21T06:09:30.753Z"
   },
   {
    "duration": 207,
    "start_time": "2024-07-21T06:09:30.762Z"
   },
   {
    "duration": 1944,
    "start_time": "2024-07-21T06:09:30.972Z"
   },
   {
    "duration": 42,
    "start_time": "2024-07-21T06:09:32.919Z"
   },
   {
    "duration": 96,
    "start_time": "2024-07-21T06:09:32.964Z"
   },
   {
    "duration": 46,
    "start_time": "2024-07-21T06:09:33.066Z"
   },
   {
    "duration": 451,
    "start_time": "2024-07-21T06:09:33.116Z"
   },
   {
    "duration": 50,
    "start_time": "2024-07-21T06:09:33.569Z"
   },
   {
    "duration": 696,
    "start_time": "2024-07-21T06:09:33.625Z"
   },
   {
    "duration": 1826,
    "start_time": "2024-07-21T06:09:34.324Z"
   },
   {
    "duration": 0,
    "start_time": "2024-07-21T06:09:36.153Z"
   },
   {
    "duration": 0,
    "start_time": "2024-07-21T06:09:36.156Z"
   },
   {
    "duration": 0,
    "start_time": "2024-07-21T06:09:36.158Z"
   },
   {
    "duration": 0,
    "start_time": "2024-07-21T06:09:36.160Z"
   },
   {
    "duration": 0,
    "start_time": "2024-07-21T06:09:36.162Z"
   },
   {
    "duration": 0,
    "start_time": "2024-07-21T06:09:36.163Z"
   },
   {
    "duration": 0,
    "start_time": "2024-07-21T06:09:36.165Z"
   },
   {
    "duration": 0,
    "start_time": "2024-07-21T06:09:36.167Z"
   },
   {
    "duration": 0,
    "start_time": "2024-07-21T06:09:36.169Z"
   },
   {
    "duration": 1297,
    "start_time": "2024-07-21T06:11:57.549Z"
   },
   {
    "duration": 744,
    "start_time": "2024-07-21T06:11:58.850Z"
   },
   {
    "duration": 22,
    "start_time": "2024-07-21T06:11:59.597Z"
   },
   {
    "duration": 136,
    "start_time": "2024-07-21T06:11:59.624Z"
   },
   {
    "duration": 5,
    "start_time": "2024-07-21T06:11:59.764Z"
   },
   {
    "duration": 212,
    "start_time": "2024-07-21T06:11:59.772Z"
   },
   {
    "duration": 1955,
    "start_time": "2024-07-21T06:11:59.987Z"
   },
   {
    "duration": 42,
    "start_time": "2024-07-21T06:12:01.945Z"
   },
   {
    "duration": 88,
    "start_time": "2024-07-21T06:12:01.990Z"
   },
   {
    "duration": 52,
    "start_time": "2024-07-21T06:12:02.083Z"
   },
   {
    "duration": 428,
    "start_time": "2024-07-21T06:12:02.138Z"
   },
   {
    "duration": 44,
    "start_time": "2024-07-21T06:12:02.569Z"
   },
   {
    "duration": 675,
    "start_time": "2024-07-21T06:12:02.616Z"
   },
   {
    "duration": 1840,
    "start_time": "2024-07-21T06:12:03.294Z"
   },
   {
    "duration": 1,
    "start_time": "2024-07-21T06:12:05.137Z"
   },
   {
    "duration": 0,
    "start_time": "2024-07-21T06:12:05.139Z"
   },
   {
    "duration": 0,
    "start_time": "2024-07-21T06:12:05.142Z"
   },
   {
    "duration": 0,
    "start_time": "2024-07-21T06:12:05.144Z"
   },
   {
    "duration": 0,
    "start_time": "2024-07-21T06:12:05.145Z"
   },
   {
    "duration": 0,
    "start_time": "2024-07-21T06:12:05.148Z"
   },
   {
    "duration": 0,
    "start_time": "2024-07-21T06:12:05.150Z"
   },
   {
    "duration": 0,
    "start_time": "2024-07-21T06:12:05.152Z"
   },
   {
    "duration": 0,
    "start_time": "2024-07-21T06:12:05.153Z"
   },
   {
    "duration": 0,
    "start_time": "2024-07-21T06:12:05.156Z"
   },
   {
    "duration": 0,
    "start_time": "2024-07-21T06:12:05.158Z"
   },
   {
    "duration": 1302,
    "start_time": "2024-07-21T06:13:52.205Z"
   },
   {
    "duration": 753,
    "start_time": "2024-07-21T06:13:53.511Z"
   },
   {
    "duration": 14,
    "start_time": "2024-07-21T06:13:54.266Z"
   },
   {
    "duration": 151,
    "start_time": "2024-07-21T06:13:54.284Z"
   },
   {
    "duration": 5,
    "start_time": "2024-07-21T06:13:54.438Z"
   },
   {
    "duration": 222,
    "start_time": "2024-07-21T06:13:54.446Z"
   },
   {
    "duration": 1984,
    "start_time": "2024-07-21T06:13:54.671Z"
   },
   {
    "duration": 55,
    "start_time": "2024-07-21T06:13:56.658Z"
   },
   {
    "duration": 75,
    "start_time": "2024-07-21T06:13:56.716Z"
   },
   {
    "duration": 52,
    "start_time": "2024-07-21T06:13:56.798Z"
   },
   {
    "duration": 437,
    "start_time": "2024-07-21T06:13:56.853Z"
   },
   {
    "duration": 43,
    "start_time": "2024-07-21T06:13:57.294Z"
   },
   {
    "duration": 679,
    "start_time": "2024-07-21T06:13:57.340Z"
   },
   {
    "duration": 4,
    "start_time": "2024-07-21T06:13:58.022Z"
   },
   {
    "duration": 4,
    "start_time": "2024-07-21T06:13:58.030Z"
   },
   {
    "duration": 4,
    "start_time": "2024-07-21T06:13:58.038Z"
   },
   {
    "duration": 4,
    "start_time": "2024-07-21T06:13:58.048Z"
   },
   {
    "duration": 1835,
    "start_time": "2024-07-21T06:13:58.056Z"
   },
   {
    "duration": 0,
    "start_time": "2024-07-21T06:13:59.894Z"
   },
   {
    "duration": 0,
    "start_time": "2024-07-21T06:13:59.897Z"
   },
   {
    "duration": 0,
    "start_time": "2024-07-21T06:13:59.899Z"
   },
   {
    "duration": 0,
    "start_time": "2024-07-21T06:13:59.912Z"
   },
   {
    "duration": 0,
    "start_time": "2024-07-21T06:13:59.915Z"
   },
   {
    "duration": 0,
    "start_time": "2024-07-21T06:13:59.917Z"
   },
   {
    "duration": 0,
    "start_time": "2024-07-21T06:13:59.920Z"
   },
   {
    "duration": 1315,
    "start_time": "2024-07-21T06:16:34.122Z"
   },
   {
    "duration": 730,
    "start_time": "2024-07-21T06:16:35.441Z"
   },
   {
    "duration": 12,
    "start_time": "2024-07-21T06:16:36.174Z"
   },
   {
    "duration": 155,
    "start_time": "2024-07-21T06:16:36.193Z"
   },
   {
    "duration": 6,
    "start_time": "2024-07-21T06:16:36.351Z"
   },
   {
    "duration": 217,
    "start_time": "2024-07-21T06:16:36.359Z"
   },
   {
    "duration": 1938,
    "start_time": "2024-07-21T06:16:36.579Z"
   },
   {
    "duration": 41,
    "start_time": "2024-07-21T06:16:38.520Z"
   },
   {
    "duration": 96,
    "start_time": "2024-07-21T06:16:38.565Z"
   },
   {
    "duration": 52,
    "start_time": "2024-07-21T06:16:38.667Z"
   },
   {
    "duration": 419,
    "start_time": "2024-07-21T06:16:38.722Z"
   },
   {
    "duration": 37,
    "start_time": "2024-07-21T06:16:39.144Z"
   },
   {
    "duration": 692,
    "start_time": "2024-07-21T06:16:39.184Z"
   },
   {
    "duration": 1906,
    "start_time": "2024-07-21T06:16:39.879Z"
   },
   {
    "duration": 0,
    "start_time": "2024-07-21T06:16:41.788Z"
   },
   {
    "duration": 0,
    "start_time": "2024-07-21T06:16:41.790Z"
   },
   {
    "duration": 0,
    "start_time": "2024-07-21T06:16:41.791Z"
   },
   {
    "duration": 0,
    "start_time": "2024-07-21T06:16:41.793Z"
   },
   {
    "duration": 0,
    "start_time": "2024-07-21T06:16:41.796Z"
   },
   {
    "duration": 0,
    "start_time": "2024-07-21T06:16:41.812Z"
   },
   {
    "duration": 0,
    "start_time": "2024-07-21T06:16:41.814Z"
   },
   {
    "duration": 0,
    "start_time": "2024-07-21T06:16:41.816Z"
   },
   {
    "duration": 0,
    "start_time": "2024-07-21T06:16:41.818Z"
   },
   {
    "duration": 0,
    "start_time": "2024-07-21T06:16:41.820Z"
   },
   {
    "duration": 0,
    "start_time": "2024-07-21T06:16:41.821Z"
   },
   {
    "duration": 25,
    "start_time": "2024-07-21T06:17:35.198Z"
   },
   {
    "duration": 1276,
    "start_time": "2024-07-21T06:17:42.869Z"
   },
   {
    "duration": 744,
    "start_time": "2024-07-21T06:17:44.149Z"
   },
   {
    "duration": 163,
    "start_time": "2024-07-21T06:17:44.896Z"
   },
   {
    "duration": 14,
    "start_time": "2024-07-21T06:17:45.064Z"
   },
   {
    "duration": 139,
    "start_time": "2024-07-21T06:17:45.111Z"
   },
   {
    "duration": 5,
    "start_time": "2024-07-21T06:17:45.253Z"
   },
   {
    "duration": 217,
    "start_time": "2024-07-21T06:17:45.262Z"
   },
   {
    "duration": 1925,
    "start_time": "2024-07-21T06:17:45.481Z"
   },
   {
    "duration": 43,
    "start_time": "2024-07-21T06:17:47.409Z"
   },
   {
    "duration": 94,
    "start_time": "2024-07-21T06:17:47.460Z"
   },
   {
    "duration": 43,
    "start_time": "2024-07-21T06:17:47.557Z"
   },
   {
    "duration": 418,
    "start_time": "2024-07-21T06:17:47.613Z"
   },
   {
    "duration": 35,
    "start_time": "2024-07-21T06:17:48.035Z"
   },
   {
    "duration": 681,
    "start_time": "2024-07-21T06:17:48.073Z"
   },
   {
    "duration": 1837,
    "start_time": "2024-07-21T06:17:48.757Z"
   },
   {
    "duration": 0,
    "start_time": "2024-07-21T06:17:50.597Z"
   },
   {
    "duration": 0,
    "start_time": "2024-07-21T06:17:50.611Z"
   },
   {
    "duration": 0,
    "start_time": "2024-07-21T06:17:50.614Z"
   },
   {
    "duration": 0,
    "start_time": "2024-07-21T06:17:50.617Z"
   },
   {
    "duration": 0,
    "start_time": "2024-07-21T06:17:50.618Z"
   },
   {
    "duration": 0,
    "start_time": "2024-07-21T06:17:50.621Z"
   },
   {
    "duration": 0,
    "start_time": "2024-07-21T06:17:50.623Z"
   },
   {
    "duration": 0,
    "start_time": "2024-07-21T06:17:50.625Z"
   },
   {
    "duration": 0,
    "start_time": "2024-07-21T06:17:50.627Z"
   },
   {
    "duration": 0,
    "start_time": "2024-07-21T06:17:50.629Z"
   },
   {
    "duration": 0,
    "start_time": "2024-07-21T06:17:50.631Z"
   },
   {
    "duration": 630,
    "start_time": "2024-07-21T06:19:32.220Z"
   },
   {
    "duration": 1650,
    "start_time": "2024-07-21T06:19:50.662Z"
   },
   {
    "duration": 1274,
    "start_time": "2024-07-21T06:20:21.670Z"
   },
   {
    "duration": 806,
    "start_time": "2024-07-21T06:20:22.947Z"
   },
   {
    "duration": 152,
    "start_time": "2024-07-21T06:20:23.756Z"
   },
   {
    "duration": 13,
    "start_time": "2024-07-21T06:20:23.917Z"
   },
   {
    "duration": 151,
    "start_time": "2024-07-21T06:20:23.933Z"
   },
   {
    "duration": 5,
    "start_time": "2024-07-21T06:20:24.088Z"
   },
   {
    "duration": 199,
    "start_time": "2024-07-21T06:20:24.113Z"
   },
   {
    "duration": 1969,
    "start_time": "2024-07-21T06:20:24.314Z"
   },
   {
    "duration": 47,
    "start_time": "2024-07-21T06:20:26.286Z"
   },
   {
    "duration": 91,
    "start_time": "2024-07-21T06:20:26.339Z"
   },
   {
    "duration": 40,
    "start_time": "2024-07-21T06:20:26.432Z"
   },
   {
    "duration": 428,
    "start_time": "2024-07-21T06:20:26.475Z"
   },
   {
    "duration": 39,
    "start_time": "2024-07-21T06:20:26.905Z"
   },
   {
    "duration": 692,
    "start_time": "2024-07-21T06:20:26.946Z"
   },
   {
    "duration": 1844,
    "start_time": "2024-07-21T06:20:27.642Z"
   },
   {
    "duration": 0,
    "start_time": "2024-07-21T06:20:29.490Z"
   },
   {
    "duration": 0,
    "start_time": "2024-07-21T06:20:29.493Z"
   },
   {
    "duration": 0,
    "start_time": "2024-07-21T06:20:29.495Z"
   },
   {
    "duration": 0,
    "start_time": "2024-07-21T06:20:29.497Z"
   },
   {
    "duration": 0,
    "start_time": "2024-07-21T06:20:29.512Z"
   },
   {
    "duration": 0,
    "start_time": "2024-07-21T06:20:29.513Z"
   },
   {
    "duration": 0,
    "start_time": "2024-07-21T06:20:29.515Z"
   },
   {
    "duration": 0,
    "start_time": "2024-07-21T06:20:29.517Z"
   },
   {
    "duration": 0,
    "start_time": "2024-07-21T06:20:29.520Z"
   },
   {
    "duration": 0,
    "start_time": "2024-07-21T06:20:29.522Z"
   },
   {
    "duration": 0,
    "start_time": "2024-07-21T06:20:29.524Z"
   },
   {
    "duration": 1454,
    "start_time": "2024-07-23T19:36:49.339Z"
   },
   {
    "duration": 780,
    "start_time": "2024-07-23T19:36:50.806Z"
   },
   {
    "duration": 155,
    "start_time": "2024-07-23T19:36:52.887Z"
   },
   {
    "duration": 14,
    "start_time": "2024-07-23T19:36:54.139Z"
   },
   {
    "duration": 141,
    "start_time": "2024-07-23T19:36:54.933Z"
   },
   {
    "duration": 4,
    "start_time": "2024-07-23T19:36:55.771Z"
   },
   {
    "duration": 14,
    "start_time": "2024-07-23T19:37:15.032Z"
   },
   {
    "duration": 226,
    "start_time": "2024-07-23T19:37:17.591Z"
   },
   {
    "duration": 6,
    "start_time": "2024-07-23T19:37:23.393Z"
   },
   {
    "duration": 1462,
    "start_time": "2024-07-23T19:40:01.311Z"
   },
   {
    "duration": 728,
    "start_time": "2024-07-23T19:40:02.777Z"
   },
   {
    "duration": 158,
    "start_time": "2024-07-23T19:40:03.507Z"
   },
   {
    "duration": 13,
    "start_time": "2024-07-23T19:40:03.668Z"
   },
   {
    "duration": 168,
    "start_time": "2024-07-23T19:40:03.685Z"
   },
   {
    "duration": 8,
    "start_time": "2024-07-23T19:40:03.855Z"
   },
   {
    "duration": 195,
    "start_time": "2024-07-23T19:40:37.209Z"
   },
   {
    "duration": 8,
    "start_time": "2024-07-23T19:40:54.951Z"
   },
   {
    "duration": 1428,
    "start_time": "2024-07-23T19:46:48.257Z"
   },
   {
    "duration": 723,
    "start_time": "2024-07-23T19:46:49.689Z"
   },
   {
    "duration": 167,
    "start_time": "2024-07-23T19:46:50.415Z"
   },
   {
    "duration": 11,
    "start_time": "2024-07-23T19:46:50.588Z"
   },
   {
    "duration": 165,
    "start_time": "2024-07-23T19:46:50.603Z"
   },
   {
    "duration": 5,
    "start_time": "2024-07-23T19:46:50.771Z"
   },
   {
    "duration": 10,
    "start_time": "2024-07-23T19:46:50.778Z"
   },
   {
    "duration": 250,
    "start_time": "2024-07-23T19:46:50.791Z"
   },
   {
    "duration": 212,
    "start_time": "2024-07-23T19:46:51.043Z"
   },
   {
    "duration": 2027,
    "start_time": "2024-07-23T19:46:51.260Z"
   },
   {
    "duration": 119,
    "start_time": "2024-07-23T19:46:53.290Z"
   },
   {
    "duration": 80,
    "start_time": "2024-07-23T19:46:53.411Z"
   },
   {
    "duration": 52,
    "start_time": "2024-07-23T19:46:53.494Z"
   },
   {
    "duration": 426,
    "start_time": "2024-07-23T19:48:52.207Z"
   },
   {
    "duration": 50,
    "start_time": "2024-07-23T19:48:55.413Z"
   },
   {
    "duration": 1531,
    "start_time": "2024-07-23T19:57:35.793Z"
   },
   {
    "duration": 752,
    "start_time": "2024-07-23T19:57:37.330Z"
   },
   {
    "duration": 203,
    "start_time": "2024-07-23T19:57:38.084Z"
   },
   {
    "duration": 14,
    "start_time": "2024-07-23T19:57:38.291Z"
   },
   {
    "duration": 223,
    "start_time": "2024-07-23T19:57:38.307Z"
   },
   {
    "duration": 6,
    "start_time": "2024-07-23T19:57:38.532Z"
   },
   {
    "duration": 11,
    "start_time": "2024-07-23T19:57:38.541Z"
   },
   {
    "duration": 244,
    "start_time": "2024-07-23T19:57:38.554Z"
   },
   {
    "duration": 246,
    "start_time": "2024-07-23T19:57:38.801Z"
   },
   {
    "duration": 2079,
    "start_time": "2024-07-23T19:57:39.052Z"
   },
   {
    "duration": 117,
    "start_time": "2024-07-23T19:57:41.134Z"
   },
   {
    "duration": 85,
    "start_time": "2024-07-23T19:57:41.254Z"
   },
   {
    "duration": 45,
    "start_time": "2024-07-23T19:57:41.343Z"
   },
   {
    "duration": 581,
    "start_time": "2024-07-23T19:59:42.810Z"
   },
   {
    "duration": 1393,
    "start_time": "2024-07-23T20:00:19.272Z"
   },
   {
    "duration": 720,
    "start_time": "2024-07-23T20:00:20.669Z"
   },
   {
    "duration": 155,
    "start_time": "2024-07-23T20:00:21.391Z"
   },
   {
    "duration": 12,
    "start_time": "2024-07-23T20:00:21.549Z"
   },
   {
    "duration": 157,
    "start_time": "2024-07-23T20:00:21.566Z"
   },
   {
    "duration": 6,
    "start_time": "2024-07-23T20:00:21.730Z"
   },
   {
    "duration": 9,
    "start_time": "2024-07-23T20:00:21.739Z"
   },
   {
    "duration": 230,
    "start_time": "2024-07-23T20:00:21.751Z"
   },
   {
    "duration": 210,
    "start_time": "2024-07-23T20:00:21.986Z"
   },
   {
    "duration": 1967,
    "start_time": "2024-07-23T20:00:22.199Z"
   },
   {
    "duration": 112,
    "start_time": "2024-07-23T20:00:24.169Z"
   },
   {
    "duration": 90,
    "start_time": "2024-07-23T20:00:24.284Z"
   },
   {
    "duration": 53,
    "start_time": "2024-07-23T20:00:24.377Z"
   },
   {
    "duration": 1032,
    "start_time": "2024-07-23T20:00:32.158Z"
   },
   {
    "duration": 73,
    "start_time": "2024-07-23T20:00:37.615Z"
   },
   {
    "duration": 27,
    "start_time": "2024-07-23T20:01:15.750Z"
   },
   {
    "duration": 43,
    "start_time": "2024-07-23T20:01:20.585Z"
   },
   {
    "duration": 38,
    "start_time": "2024-07-23T20:01:35.348Z"
   },
   {
    "duration": 1567,
    "start_time": "2024-07-23T20:01:51.974Z"
   },
   {
    "duration": 782,
    "start_time": "2024-07-23T20:01:53.546Z"
   },
   {
    "duration": 220,
    "start_time": "2024-07-23T20:01:54.331Z"
   },
   {
    "duration": 13,
    "start_time": "2024-07-23T20:01:54.557Z"
   },
   {
    "duration": 172,
    "start_time": "2024-07-23T20:01:54.574Z"
   },
   {
    "duration": 5,
    "start_time": "2024-07-23T20:01:54.750Z"
   },
   {
    "duration": 12,
    "start_time": "2024-07-23T20:01:54.758Z"
   },
   {
    "duration": 225,
    "start_time": "2024-07-23T20:01:54.773Z"
   },
   {
    "duration": 205,
    "start_time": "2024-07-23T20:01:55.001Z"
   },
   {
    "duration": 2083,
    "start_time": "2024-07-23T20:01:55.212Z"
   },
   {
    "duration": 148,
    "start_time": "2024-07-23T20:01:57.298Z"
   },
   {
    "duration": 93,
    "start_time": "2024-07-23T20:01:57.460Z"
   },
   {
    "duration": 41,
    "start_time": "2024-07-23T20:01:57.561Z"
   },
   {
    "duration": 30,
    "start_time": "2024-07-23T20:02:01.359Z"
   },
   {
    "duration": 1502,
    "start_time": "2024-07-24T08:21:14.907Z"
   },
   {
    "duration": 802,
    "start_time": "2024-07-24T08:21:16.413Z"
   },
   {
    "duration": 190,
    "start_time": "2024-07-24T08:21:17.218Z"
   },
   {
    "duration": 15,
    "start_time": "2024-07-24T08:21:17.412Z"
   },
   {
    "duration": 164,
    "start_time": "2024-07-24T08:21:17.431Z"
   },
   {
    "duration": 13,
    "start_time": "2024-07-24T08:21:17.598Z"
   },
   {
    "duration": 12,
    "start_time": "2024-07-24T08:21:17.615Z"
   },
   {
    "duration": 220,
    "start_time": "2024-07-24T08:21:17.630Z"
   },
   {
    "duration": 204,
    "start_time": "2024-07-24T08:21:17.853Z"
   },
   {
    "duration": 128,
    "start_time": "2024-07-24T08:21:18.060Z"
   },
   {
    "duration": 182,
    "start_time": "2024-07-24T08:21:18.191Z"
   },
   {
    "duration": 6,
    "start_time": "2024-07-24T08:21:18.377Z"
   },
   {
    "duration": 2014,
    "start_time": "2024-07-24T08:21:18.386Z"
   },
   {
    "duration": 75,
    "start_time": "2024-07-24T08:21:20.408Z"
   },
   {
    "duration": 51,
    "start_time": "2024-07-24T08:21:20.489Z"
   },
   {
    "duration": 438,
    "start_time": "2024-07-24T08:21:20.543Z"
   },
   {
    "duration": 49,
    "start_time": "2024-07-24T08:21:20.984Z"
   },
   {
    "duration": 678,
    "start_time": "2024-07-24T08:21:21.036Z"
   },
   {
    "duration": 1859,
    "start_time": "2024-07-24T08:21:21.717Z"
   },
   {
    "duration": 0,
    "start_time": "2024-07-24T08:21:23.580Z"
   },
   {
    "duration": 0,
    "start_time": "2024-07-24T08:21:23.585Z"
   },
   {
    "duration": 0,
    "start_time": "2024-07-24T08:21:23.587Z"
   },
   {
    "duration": 0,
    "start_time": "2024-07-24T08:21:23.589Z"
   },
   {
    "duration": 0,
    "start_time": "2024-07-24T08:21:23.609Z"
   },
   {
    "duration": 0,
    "start_time": "2024-07-24T08:21:23.611Z"
   },
   {
    "duration": 0,
    "start_time": "2024-07-24T08:21:23.614Z"
   },
   {
    "duration": 0,
    "start_time": "2024-07-24T08:21:23.616Z"
   },
   {
    "duration": 0,
    "start_time": "2024-07-24T08:21:23.618Z"
   },
   {
    "duration": 0,
    "start_time": "2024-07-24T08:21:23.621Z"
   },
   {
    "duration": 0,
    "start_time": "2024-07-24T08:21:23.623Z"
   },
   {
    "duration": 0,
    "start_time": "2024-07-24T08:21:23.626Z"
   },
   {
    "duration": 0,
    "start_time": "2024-07-24T08:21:23.628Z"
   },
   {
    "duration": 0,
    "start_time": "2024-07-24T08:21:23.631Z"
   },
   {
    "duration": 0,
    "start_time": "2024-07-24T08:21:23.633Z"
   },
   {
    "duration": 6,
    "start_time": "2024-07-24T08:22:39.315Z"
   },
   {
    "duration": 1439,
    "start_time": "2024-07-24T08:24:37.636Z"
   },
   {
    "duration": 705,
    "start_time": "2024-07-24T08:24:39.079Z"
   },
   {
    "duration": 146,
    "start_time": "2024-07-24T08:24:39.786Z"
   },
   {
    "duration": 12,
    "start_time": "2024-07-24T08:24:39.935Z"
   },
   {
    "duration": 160,
    "start_time": "2024-07-24T08:24:39.952Z"
   },
   {
    "duration": 4,
    "start_time": "2024-07-24T08:24:40.115Z"
   },
   {
    "duration": 10,
    "start_time": "2024-07-24T08:24:40.123Z"
   },
   {
    "duration": 226,
    "start_time": "2024-07-24T08:24:40.135Z"
   },
   {
    "duration": 202,
    "start_time": "2024-07-24T08:24:40.364Z"
   },
   {
    "duration": 126,
    "start_time": "2024-07-24T08:24:40.569Z"
   },
   {
    "duration": 177,
    "start_time": "2024-07-24T08:24:40.698Z"
   },
   {
    "duration": 7,
    "start_time": "2024-07-24T08:24:40.878Z"
   },
   {
    "duration": 23,
    "start_time": "2024-07-24T08:24:40.888Z"
   },
   {
    "duration": 0,
    "start_time": "2024-07-24T08:24:40.915Z"
   },
   {
    "duration": 0,
    "start_time": "2024-07-24T08:24:40.917Z"
   },
   {
    "duration": 0,
    "start_time": "2024-07-24T08:24:40.918Z"
   },
   {
    "duration": 0,
    "start_time": "2024-07-24T08:24:40.920Z"
   },
   {
    "duration": 0,
    "start_time": "2024-07-24T08:24:40.923Z"
   },
   {
    "duration": 0,
    "start_time": "2024-07-24T08:24:40.924Z"
   },
   {
    "duration": 0,
    "start_time": "2024-07-24T08:24:40.927Z"
   },
   {
    "duration": 0,
    "start_time": "2024-07-24T08:24:40.928Z"
   },
   {
    "duration": 0,
    "start_time": "2024-07-24T08:24:40.930Z"
   },
   {
    "duration": 0,
    "start_time": "2024-07-24T08:24:40.934Z"
   },
   {
    "duration": 0,
    "start_time": "2024-07-24T08:24:40.936Z"
   },
   {
    "duration": 0,
    "start_time": "2024-07-24T08:24:40.938Z"
   },
   {
    "duration": 0,
    "start_time": "2024-07-24T08:24:40.941Z"
   },
   {
    "duration": 0,
    "start_time": "2024-07-24T08:24:40.944Z"
   },
   {
    "duration": 0,
    "start_time": "2024-07-24T08:24:40.946Z"
   },
   {
    "duration": 0,
    "start_time": "2024-07-24T08:24:40.948Z"
   },
   {
    "duration": 0,
    "start_time": "2024-07-24T08:24:40.950Z"
   },
   {
    "duration": 0,
    "start_time": "2024-07-24T08:24:40.952Z"
   },
   {
    "duration": 0,
    "start_time": "2024-07-24T08:24:41.010Z"
   },
   {
    "duration": 0,
    "start_time": "2024-07-24T08:24:41.013Z"
   },
   {
    "duration": 0,
    "start_time": "2024-07-24T08:24:41.014Z"
   },
   {
    "duration": 0,
    "start_time": "2024-07-24T08:24:41.016Z"
   },
   {
    "duration": 1409,
    "start_time": "2024-07-24T08:26:09.052Z"
   },
   {
    "duration": 706,
    "start_time": "2024-07-24T08:26:10.465Z"
   },
   {
    "duration": 156,
    "start_time": "2024-07-24T08:26:11.174Z"
   },
   {
    "duration": 12,
    "start_time": "2024-07-24T08:26:11.333Z"
   },
   {
    "duration": 147,
    "start_time": "2024-07-24T08:26:11.349Z"
   },
   {
    "duration": 13,
    "start_time": "2024-07-24T08:26:11.498Z"
   },
   {
    "duration": 9,
    "start_time": "2024-07-24T08:26:11.514Z"
   },
   {
    "duration": 215,
    "start_time": "2024-07-24T08:26:11.527Z"
   },
   {
    "duration": 191,
    "start_time": "2024-07-24T08:26:11.745Z"
   },
   {
    "duration": 127,
    "start_time": "2024-07-24T08:26:11.939Z"
   },
   {
    "duration": 175,
    "start_time": "2024-07-24T08:26:12.069Z"
   },
   {
    "duration": 5,
    "start_time": "2024-07-24T08:26:12.247Z"
   },
   {
    "duration": 3,
    "start_time": "2024-07-24T08:26:12.255Z"
   },
   {
    "duration": 1961,
    "start_time": "2024-07-24T08:26:12.266Z"
   },
   {
    "duration": 82,
    "start_time": "2024-07-24T08:26:14.232Z"
   },
   {
    "duration": 35,
    "start_time": "2024-07-24T08:26:14.317Z"
   },
   {
    "duration": 448,
    "start_time": "2024-07-24T08:26:14.354Z"
   },
   {
    "duration": 39,
    "start_time": "2024-07-24T08:26:14.805Z"
   },
   {
    "duration": 694,
    "start_time": "2024-07-24T08:26:14.847Z"
   },
   {
    "duration": 1850,
    "start_time": "2024-07-24T08:26:15.544Z"
   },
   {
    "duration": 0,
    "start_time": "2024-07-24T08:26:17.397Z"
   },
   {
    "duration": 0,
    "start_time": "2024-07-24T08:26:17.400Z"
   },
   {
    "duration": 0,
    "start_time": "2024-07-24T08:26:17.408Z"
   },
   {
    "duration": 0,
    "start_time": "2024-07-24T08:26:17.410Z"
   },
   {
    "duration": 0,
    "start_time": "2024-07-24T08:26:17.412Z"
   },
   {
    "duration": 0,
    "start_time": "2024-07-24T08:26:17.415Z"
   },
   {
    "duration": 0,
    "start_time": "2024-07-24T08:26:17.418Z"
   },
   {
    "duration": 0,
    "start_time": "2024-07-24T08:26:17.421Z"
   },
   {
    "duration": 0,
    "start_time": "2024-07-24T08:26:17.424Z"
   },
   {
    "duration": 0,
    "start_time": "2024-07-24T08:26:17.427Z"
   },
   {
    "duration": 0,
    "start_time": "2024-07-24T08:26:17.429Z"
   },
   {
    "duration": 0,
    "start_time": "2024-07-24T08:26:17.433Z"
   },
   {
    "duration": 0,
    "start_time": "2024-07-24T08:26:17.436Z"
   },
   {
    "duration": 1,
    "start_time": "2024-07-24T08:26:17.437Z"
   },
   {
    "duration": 0,
    "start_time": "2024-07-24T08:26:17.440Z"
   },
   {
    "duration": 1457,
    "start_time": "2024-07-24T08:28:03.898Z"
   },
   {
    "duration": 718,
    "start_time": "2024-07-24T08:28:05.359Z"
   },
   {
    "duration": 151,
    "start_time": "2024-07-24T08:28:06.080Z"
   },
   {
    "duration": 11,
    "start_time": "2024-07-24T08:28:06.235Z"
   },
   {
    "duration": 164,
    "start_time": "2024-07-24T08:28:06.251Z"
   },
   {
    "duration": 6,
    "start_time": "2024-07-24T08:28:06.418Z"
   },
   {
    "duration": 9,
    "start_time": "2024-07-24T08:28:06.427Z"
   },
   {
    "duration": 224,
    "start_time": "2024-07-24T08:28:06.439Z"
   },
   {
    "duration": 197,
    "start_time": "2024-07-24T08:28:06.666Z"
   },
   {
    "duration": 131,
    "start_time": "2024-07-24T08:28:06.865Z"
   },
   {
    "duration": 178,
    "start_time": "2024-07-24T08:28:07.000Z"
   },
   {
    "duration": 6,
    "start_time": "2024-07-24T08:28:07.180Z"
   },
   {
    "duration": 509,
    "start_time": "2024-07-24T08:28:07.189Z"
   },
   {
    "duration": 0,
    "start_time": "2024-07-24T08:28:07.709Z"
   },
   {
    "duration": 0,
    "start_time": "2024-07-24T08:28:07.710Z"
   },
   {
    "duration": 0,
    "start_time": "2024-07-24T08:28:07.713Z"
   },
   {
    "duration": 0,
    "start_time": "2024-07-24T08:28:07.715Z"
   },
   {
    "duration": 0,
    "start_time": "2024-07-24T08:28:07.718Z"
   },
   {
    "duration": 1,
    "start_time": "2024-07-24T08:28:07.720Z"
   },
   {
    "duration": 0,
    "start_time": "2024-07-24T08:28:07.723Z"
   },
   {
    "duration": 0,
    "start_time": "2024-07-24T08:28:07.725Z"
   },
   {
    "duration": 0,
    "start_time": "2024-07-24T08:28:07.727Z"
   },
   {
    "duration": 0,
    "start_time": "2024-07-24T08:28:07.730Z"
   },
   {
    "duration": 0,
    "start_time": "2024-07-24T08:28:07.732Z"
   },
   {
    "duration": 0,
    "start_time": "2024-07-24T08:28:07.734Z"
   },
   {
    "duration": 0,
    "start_time": "2024-07-24T08:28:07.736Z"
   },
   {
    "duration": 0,
    "start_time": "2024-07-24T08:28:07.739Z"
   },
   {
    "duration": 0,
    "start_time": "2024-07-24T08:28:07.741Z"
   },
   {
    "duration": 0,
    "start_time": "2024-07-24T08:28:07.744Z"
   },
   {
    "duration": 0,
    "start_time": "2024-07-24T08:28:07.746Z"
   },
   {
    "duration": 0,
    "start_time": "2024-07-24T08:28:07.748Z"
   },
   {
    "duration": 0,
    "start_time": "2024-07-24T08:28:07.750Z"
   },
   {
    "duration": 0,
    "start_time": "2024-07-24T08:28:07.809Z"
   },
   {
    "duration": 0,
    "start_time": "2024-07-24T08:28:07.812Z"
   },
   {
    "duration": 0,
    "start_time": "2024-07-24T08:28:07.814Z"
   },
   {
    "duration": 1436,
    "start_time": "2024-07-24T08:28:42.041Z"
   },
   {
    "duration": 757,
    "start_time": "2024-07-24T08:28:43.481Z"
   },
   {
    "duration": 150,
    "start_time": "2024-07-24T08:28:44.241Z"
   },
   {
    "duration": 23,
    "start_time": "2024-07-24T08:28:44.395Z"
   },
   {
    "duration": 146,
    "start_time": "2024-07-24T08:28:44.421Z"
   },
   {
    "duration": 6,
    "start_time": "2024-07-24T08:28:44.571Z"
   },
   {
    "duration": 30,
    "start_time": "2024-07-24T08:28:44.580Z"
   },
   {
    "duration": 218,
    "start_time": "2024-07-24T08:28:44.614Z"
   },
   {
    "duration": 209,
    "start_time": "2024-07-24T08:28:44.834Z"
   },
   {
    "duration": 131,
    "start_time": "2024-07-24T08:28:45.048Z"
   },
   {
    "duration": 192,
    "start_time": "2024-07-24T08:28:45.182Z"
   },
   {
    "duration": 6,
    "start_time": "2024-07-24T08:28:45.377Z"
   },
   {
    "duration": 1447,
    "start_time": "2024-07-26T06:47:34.664Z"
   },
   {
    "duration": 867,
    "start_time": "2024-07-26T06:47:36.115Z"
   },
   {
    "duration": 149,
    "start_time": "2024-07-26T06:47:36.985Z"
   },
   {
    "duration": 11,
    "start_time": "2024-07-26T06:47:37.140Z"
   },
   {
    "duration": 156,
    "start_time": "2024-07-26T06:47:37.154Z"
   },
   {
    "duration": 12,
    "start_time": "2024-07-26T06:47:37.314Z"
   },
   {
    "duration": 9,
    "start_time": "2024-07-26T06:47:37.330Z"
   },
   {
    "duration": 228,
    "start_time": "2024-07-26T06:47:37.342Z"
   },
   {
    "duration": 225,
    "start_time": "2024-07-26T06:47:37.574Z"
   },
   {
    "duration": 137,
    "start_time": "2024-07-26T06:47:37.804Z"
   },
   {
    "duration": 176,
    "start_time": "2024-07-26T06:47:37.945Z"
   },
   {
    "duration": 12,
    "start_time": "2024-07-26T06:47:38.126Z"
   },
   {
    "duration": 224,
    "start_time": "2024-07-26T06:47:38.141Z"
   },
   {
    "duration": 0,
    "start_time": "2024-07-26T06:47:38.368Z"
   },
   {
    "duration": 0,
    "start_time": "2024-07-26T06:47:38.370Z"
   },
   {
    "duration": 0,
    "start_time": "2024-07-26T06:47:38.372Z"
   },
   {
    "duration": 0,
    "start_time": "2024-07-26T06:47:38.374Z"
   },
   {
    "duration": 0,
    "start_time": "2024-07-26T06:47:38.375Z"
   },
   {
    "duration": 0,
    "start_time": "2024-07-26T06:47:38.376Z"
   },
   {
    "duration": 0,
    "start_time": "2024-07-26T06:47:38.378Z"
   },
   {
    "duration": 0,
    "start_time": "2024-07-26T06:47:38.380Z"
   },
   {
    "duration": 0,
    "start_time": "2024-07-26T06:47:38.382Z"
   },
   {
    "duration": 0,
    "start_time": "2024-07-26T06:47:38.386Z"
   },
   {
    "duration": 0,
    "start_time": "2024-07-26T06:47:38.388Z"
   },
   {
    "duration": 0,
    "start_time": "2024-07-26T06:47:38.390Z"
   },
   {
    "duration": 0,
    "start_time": "2024-07-26T06:47:38.392Z"
   },
   {
    "duration": 0,
    "start_time": "2024-07-26T06:47:38.433Z"
   },
   {
    "duration": 0,
    "start_time": "2024-07-26T06:47:38.434Z"
   },
   {
    "duration": 0,
    "start_time": "2024-07-26T06:47:38.435Z"
   },
   {
    "duration": 0,
    "start_time": "2024-07-26T06:47:38.437Z"
   },
   {
    "duration": 0,
    "start_time": "2024-07-26T06:47:38.438Z"
   },
   {
    "duration": 0,
    "start_time": "2024-07-26T06:47:38.439Z"
   },
   {
    "duration": 0,
    "start_time": "2024-07-26T06:47:38.440Z"
   },
   {
    "duration": 0,
    "start_time": "2024-07-26T06:47:38.442Z"
   },
   {
    "duration": 0,
    "start_time": "2024-07-26T06:47:38.443Z"
   },
   {
    "duration": 0,
    "start_time": "2024-07-26T06:47:38.445Z"
   },
   {
    "duration": 0,
    "start_time": "2024-07-26T06:47:38.449Z"
   },
   {
    "duration": 25,
    "start_time": "2024-07-26T06:47:46.615Z"
   },
   {
    "duration": 91,
    "start_time": "2024-07-26T06:47:55.485Z"
   },
   {
    "duration": 1499,
    "start_time": "2024-07-26T06:48:08.819Z"
   },
   {
    "duration": 744,
    "start_time": "2024-07-26T06:48:10.322Z"
   },
   {
    "duration": 157,
    "start_time": "2024-07-26T06:48:11.069Z"
   },
   {
    "duration": 13,
    "start_time": "2024-07-26T06:48:11.232Z"
   },
   {
    "duration": 161,
    "start_time": "2024-07-26T06:48:11.249Z"
   },
   {
    "duration": 4,
    "start_time": "2024-07-26T06:48:11.425Z"
   },
   {
    "duration": 11,
    "start_time": "2024-07-26T06:48:11.432Z"
   },
   {
    "duration": 228,
    "start_time": "2024-07-26T06:48:11.447Z"
   },
   {
    "duration": 198,
    "start_time": "2024-07-26T06:48:11.677Z"
   },
   {
    "duration": 150,
    "start_time": "2024-07-26T06:48:11.881Z"
   },
   {
    "duration": 179,
    "start_time": "2024-07-26T06:48:12.034Z"
   },
   {
    "duration": 12,
    "start_time": "2024-07-26T06:48:12.216Z"
   },
   {
    "duration": 95,
    "start_time": "2024-07-26T06:48:12.232Z"
   },
   {
    "duration": 4,
    "start_time": "2024-07-26T06:48:12.330Z"
   },
   {
    "duration": 7,
    "start_time": "2024-07-26T06:48:12.337Z"
   },
   {
    "duration": 0,
    "start_time": "2024-07-26T06:48:12.349Z"
   },
   {
    "duration": 0,
    "start_time": "2024-07-26T06:48:12.351Z"
   },
   {
    "duration": 0,
    "start_time": "2024-07-26T06:48:12.354Z"
   },
   {
    "duration": 0,
    "start_time": "2024-07-26T06:48:12.356Z"
   },
   {
    "duration": 0,
    "start_time": "2024-07-26T06:48:12.358Z"
   },
   {
    "duration": 1,
    "start_time": "2024-07-26T06:48:12.360Z"
   },
   {
    "duration": 0,
    "start_time": "2024-07-26T06:48:12.363Z"
   },
   {
    "duration": 0,
    "start_time": "2024-07-26T06:48:12.365Z"
   },
   {
    "duration": 0,
    "start_time": "2024-07-26T06:48:12.367Z"
   },
   {
    "duration": 0,
    "start_time": "2024-07-26T06:48:12.369Z"
   },
   {
    "duration": 0,
    "start_time": "2024-07-26T06:48:12.372Z"
   },
   {
    "duration": 0,
    "start_time": "2024-07-26T06:48:12.426Z"
   },
   {
    "duration": 0,
    "start_time": "2024-07-26T06:48:12.429Z"
   },
   {
    "duration": 0,
    "start_time": "2024-07-26T06:48:12.430Z"
   },
   {
    "duration": 0,
    "start_time": "2024-07-26T06:48:12.433Z"
   },
   {
    "duration": 0,
    "start_time": "2024-07-26T06:48:12.435Z"
   },
   {
    "duration": 0,
    "start_time": "2024-07-26T06:48:12.438Z"
   },
   {
    "duration": 0,
    "start_time": "2024-07-26T06:48:12.440Z"
   },
   {
    "duration": 0,
    "start_time": "2024-07-26T06:48:12.442Z"
   },
   {
    "duration": 0,
    "start_time": "2024-07-26T06:48:12.444Z"
   },
   {
    "duration": 0,
    "start_time": "2024-07-26T06:48:12.446Z"
   },
   {
    "duration": 0,
    "start_time": "2024-07-26T06:48:12.447Z"
   },
   {
    "duration": 1439,
    "start_time": "2024-07-26T06:52:53.237Z"
   },
   {
    "duration": 736,
    "start_time": "2024-07-26T06:52:54.680Z"
   },
   {
    "duration": 147,
    "start_time": "2024-07-26T06:52:55.419Z"
   },
   {
    "duration": 12,
    "start_time": "2024-07-26T06:52:55.570Z"
   },
   {
    "duration": 158,
    "start_time": "2024-07-26T06:52:55.587Z"
   },
   {
    "duration": 6,
    "start_time": "2024-07-26T06:52:55.748Z"
   },
   {
    "duration": 10,
    "start_time": "2024-07-26T06:52:55.757Z"
   },
   {
    "duration": 220,
    "start_time": "2024-07-26T06:52:55.770Z"
   },
   {
    "duration": 206,
    "start_time": "2024-07-26T06:52:55.994Z"
   },
   {
    "duration": 151,
    "start_time": "2024-07-26T06:52:56.206Z"
   },
   {
    "duration": 187,
    "start_time": "2024-07-26T06:52:56.360Z"
   },
   {
    "duration": 5,
    "start_time": "2024-07-26T06:52:56.552Z"
   },
   {
    "duration": 100,
    "start_time": "2024-07-26T06:52:56.560Z"
   },
   {
    "duration": 4,
    "start_time": "2024-07-26T06:52:56.663Z"
   },
   {
    "duration": 74,
    "start_time": "2024-07-26T06:52:56.671Z"
   },
   {
    "duration": 530,
    "start_time": "2024-07-26T06:52:56.749Z"
   },
   {
    "duration": 6,
    "start_time": "2024-07-26T06:52:57.282Z"
   },
   {
    "duration": 0,
    "start_time": "2024-07-26T06:52:57.292Z"
   },
   {
    "duration": 0,
    "start_time": "2024-07-26T06:52:57.294Z"
   },
   {
    "duration": 0,
    "start_time": "2024-07-26T06:52:57.297Z"
   },
   {
    "duration": 0,
    "start_time": "2024-07-26T06:52:57.299Z"
   },
   {
    "duration": 0,
    "start_time": "2024-07-26T06:52:57.301Z"
   },
   {
    "duration": 0,
    "start_time": "2024-07-26T06:52:57.302Z"
   },
   {
    "duration": 0,
    "start_time": "2024-07-26T06:52:57.303Z"
   },
   {
    "duration": 0,
    "start_time": "2024-07-26T06:52:57.304Z"
   },
   {
    "duration": 0,
    "start_time": "2024-07-26T06:52:57.327Z"
   },
   {
    "duration": 0,
    "start_time": "2024-07-26T06:52:57.329Z"
   },
   {
    "duration": 0,
    "start_time": "2024-07-26T06:52:57.331Z"
   },
   {
    "duration": 0,
    "start_time": "2024-07-26T06:52:57.333Z"
   },
   {
    "duration": 0,
    "start_time": "2024-07-26T06:52:57.334Z"
   },
   {
    "duration": 0,
    "start_time": "2024-07-26T06:52:57.337Z"
   },
   {
    "duration": 0,
    "start_time": "2024-07-26T06:52:57.339Z"
   },
   {
    "duration": 0,
    "start_time": "2024-07-26T06:52:57.341Z"
   },
   {
    "duration": 0,
    "start_time": "2024-07-26T06:52:57.343Z"
   },
   {
    "duration": 0,
    "start_time": "2024-07-26T06:52:57.345Z"
   },
   {
    "duration": 0,
    "start_time": "2024-07-26T06:52:57.347Z"
   },
   {
    "duration": 1412,
    "start_time": "2024-07-26T06:53:49.567Z"
   },
   {
    "duration": 734,
    "start_time": "2024-07-26T06:53:50.983Z"
   },
   {
    "duration": 153,
    "start_time": "2024-07-26T06:53:51.720Z"
   },
   {
    "duration": 13,
    "start_time": "2024-07-26T06:53:51.878Z"
   },
   {
    "duration": 162,
    "start_time": "2024-07-26T06:53:51.894Z"
   },
   {
    "duration": 5,
    "start_time": "2024-07-26T06:53:52.060Z"
   },
   {
    "duration": 10,
    "start_time": "2024-07-26T06:53:52.069Z"
   },
   {
    "duration": 233,
    "start_time": "2024-07-26T06:53:52.082Z"
   },
   {
    "duration": 212,
    "start_time": "2024-07-26T06:53:52.317Z"
   },
   {
    "duration": 140,
    "start_time": "2024-07-26T06:53:52.535Z"
   },
   {
    "duration": 189,
    "start_time": "2024-07-26T06:53:52.678Z"
   },
   {
    "duration": 6,
    "start_time": "2024-07-26T06:53:52.871Z"
   },
   {
    "duration": 104,
    "start_time": "2024-07-26T06:53:52.880Z"
   },
   {
    "duration": 2,
    "start_time": "2024-07-26T06:53:52.987Z"
   },
   {
    "duration": 64,
    "start_time": "2024-07-26T06:53:52.992Z"
   },
   {
    "duration": 519,
    "start_time": "2024-07-26T06:53:53.059Z"
   },
   {
    "duration": 51,
    "start_time": "2024-07-26T06:53:53.581Z"
   },
   {
    "duration": 8,
    "start_time": "2024-07-26T06:53:53.636Z"
   },
   {
    "duration": 0,
    "start_time": "2024-07-26T06:53:53.648Z"
   },
   {
    "duration": 0,
    "start_time": "2024-07-26T06:53:53.651Z"
   },
   {
    "duration": 0,
    "start_time": "2024-07-26T06:53:53.653Z"
   },
   {
    "duration": 0,
    "start_time": "2024-07-26T06:53:53.656Z"
   },
   {
    "duration": 0,
    "start_time": "2024-07-26T06:53:53.659Z"
   },
   {
    "duration": 0,
    "start_time": "2024-07-26T06:53:53.661Z"
   },
   {
    "duration": 0,
    "start_time": "2024-07-26T06:53:53.664Z"
   },
   {
    "duration": 0,
    "start_time": "2024-07-26T06:53:53.666Z"
   },
   {
    "duration": 0,
    "start_time": "2024-07-26T06:53:53.669Z"
   },
   {
    "duration": 0,
    "start_time": "2024-07-26T06:53:53.671Z"
   },
   {
    "duration": 0,
    "start_time": "2024-07-26T06:53:53.674Z"
   },
   {
    "duration": 0,
    "start_time": "2024-07-26T06:53:53.676Z"
   },
   {
    "duration": 0,
    "start_time": "2024-07-26T06:53:53.728Z"
   },
   {
    "duration": 0,
    "start_time": "2024-07-26T06:53:53.730Z"
   },
   {
    "duration": 0,
    "start_time": "2024-07-26T06:53:53.733Z"
   },
   {
    "duration": 0,
    "start_time": "2024-07-26T06:53:53.736Z"
   },
   {
    "duration": 0,
    "start_time": "2024-07-26T06:53:53.738Z"
   },
   {
    "duration": 1482,
    "start_time": "2024-07-26T06:55:05.127Z"
   },
   {
    "duration": 721,
    "start_time": "2024-07-26T06:55:06.612Z"
   },
   {
    "duration": 154,
    "start_time": "2024-07-26T06:55:07.335Z"
   },
   {
    "duration": 29,
    "start_time": "2024-07-26T06:55:07.496Z"
   },
   {
    "duration": 154,
    "start_time": "2024-07-26T06:55:07.532Z"
   },
   {
    "duration": 6,
    "start_time": "2024-07-26T06:55:07.689Z"
   },
   {
    "duration": 28,
    "start_time": "2024-07-26T06:55:07.698Z"
   },
   {
    "duration": 212,
    "start_time": "2024-07-26T06:55:07.729Z"
   },
   {
    "duration": 197,
    "start_time": "2024-07-26T06:55:07.944Z"
   },
   {
    "duration": 135,
    "start_time": "2024-07-26T06:55:08.148Z"
   },
   {
    "duration": 181,
    "start_time": "2024-07-26T06:55:08.286Z"
   },
   {
    "duration": 7,
    "start_time": "2024-07-26T06:55:08.470Z"
   },
   {
    "duration": 104,
    "start_time": "2024-07-26T06:55:08.481Z"
   },
   {
    "duration": 4,
    "start_time": "2024-07-26T06:55:08.588Z"
   },
   {
    "duration": 61,
    "start_time": "2024-07-26T06:55:08.594Z"
   },
   {
    "duration": 529,
    "start_time": "2024-07-26T06:55:08.658Z"
   },
   {
    "duration": 50,
    "start_time": "2024-07-26T06:55:09.189Z"
   },
   {
    "duration": 806,
    "start_time": "2024-07-26T06:55:09.242Z"
   },
   {
    "duration": 1981,
    "start_time": "2024-07-26T06:55:10.051Z"
   },
   {
    "duration": 0,
    "start_time": "2024-07-26T06:55:12.035Z"
   },
   {
    "duration": 0,
    "start_time": "2024-07-26T06:55:12.037Z"
   },
   {
    "duration": 0,
    "start_time": "2024-07-26T06:55:12.038Z"
   },
   {
    "duration": 0,
    "start_time": "2024-07-26T06:55:12.041Z"
   },
   {
    "duration": 0,
    "start_time": "2024-07-26T06:55:12.043Z"
   },
   {
    "duration": 0,
    "start_time": "2024-07-26T06:55:12.045Z"
   },
   {
    "duration": 0,
    "start_time": "2024-07-26T06:55:12.047Z"
   },
   {
    "duration": 0,
    "start_time": "2024-07-26T06:55:12.049Z"
   },
   {
    "duration": 0,
    "start_time": "2024-07-26T06:55:12.050Z"
   },
   {
    "duration": 0,
    "start_time": "2024-07-26T06:55:12.052Z"
   },
   {
    "duration": 0,
    "start_time": "2024-07-26T06:55:12.054Z"
   },
   {
    "duration": 0,
    "start_time": "2024-07-26T06:55:12.056Z"
   },
   {
    "duration": 0,
    "start_time": "2024-07-26T06:55:12.058Z"
   },
   {
    "duration": 0,
    "start_time": "2024-07-26T06:55:12.060Z"
   },
   {
    "duration": 0,
    "start_time": "2024-07-26T06:55:12.062Z"
   },
   {
    "duration": 0,
    "start_time": "2024-07-26T06:55:12.068Z"
   },
   {
    "duration": 1828,
    "start_time": "2024-07-26T06:58:56.702Z"
   },
   {
    "duration": 1412,
    "start_time": "2024-07-26T07:01:13.309Z"
   },
   {
    "duration": 716,
    "start_time": "2024-07-26T07:01:14.724Z"
   },
   {
    "duration": 161,
    "start_time": "2024-07-26T07:01:15.443Z"
   },
   {
    "duration": 24,
    "start_time": "2024-07-26T07:01:15.608Z"
   },
   {
    "duration": 144,
    "start_time": "2024-07-26T07:01:15.638Z"
   },
   {
    "duration": 4,
    "start_time": "2024-07-26T07:01:15.786Z"
   },
   {
    "duration": 11,
    "start_time": "2024-07-26T07:01:15.793Z"
   },
   {
    "duration": 217,
    "start_time": "2024-07-26T07:01:15.827Z"
   },
   {
    "duration": 206,
    "start_time": "2024-07-26T07:01:16.047Z"
   },
   {
    "duration": 127,
    "start_time": "2024-07-26T07:01:16.259Z"
   },
   {
    "duration": 185,
    "start_time": "2024-07-26T07:01:16.389Z"
   },
   {
    "duration": 6,
    "start_time": "2024-07-26T07:01:16.577Z"
   },
   {
    "duration": 100,
    "start_time": "2024-07-26T07:01:16.586Z"
   },
   {
    "duration": 4,
    "start_time": "2024-07-26T07:01:16.690Z"
   },
   {
    "duration": 60,
    "start_time": "2024-07-26T07:01:16.700Z"
   },
   {
    "duration": 525,
    "start_time": "2024-07-26T07:01:16.763Z"
   },
   {
    "duration": 53797,
    "start_time": "2024-07-26T07:01:17.290Z"
   },
   {
    "duration": 4940,
    "start_time": "2024-07-26T07:02:11.090Z"
   },
   {
    "duration": 685,
    "start_time": "2024-07-26T07:02:16.033Z"
   },
   {
    "duration": 29,
    "start_time": "2024-07-26T07:02:16.720Z"
   },
   {
    "duration": 720,
    "start_time": "2024-07-26T07:02:16.752Z"
   },
   {
    "duration": 15262,
    "start_time": "2024-07-26T07:02:17.475Z"
   },
   {
    "duration": 513,
    "start_time": "2024-07-26T07:02:32.739Z"
   },
   {
    "duration": 0,
    "start_time": "2024-07-26T07:02:33.256Z"
   },
   {
    "duration": 0,
    "start_time": "2024-07-26T07:02:33.258Z"
   },
   {
    "duration": 0,
    "start_time": "2024-07-26T07:02:33.260Z"
   },
   {
    "duration": 0,
    "start_time": "2024-07-26T07:02:33.262Z"
   },
   {
    "duration": 0,
    "start_time": "2024-07-26T07:02:33.264Z"
   },
   {
    "duration": 0,
    "start_time": "2024-07-26T07:02:33.267Z"
   },
   {
    "duration": 0,
    "start_time": "2024-07-26T07:02:33.269Z"
   },
   {
    "duration": 0,
    "start_time": "2024-07-26T07:02:33.271Z"
   },
   {
    "duration": 0,
    "start_time": "2024-07-26T07:02:33.273Z"
   },
   {
    "duration": 0,
    "start_time": "2024-07-26T07:02:33.275Z"
   },
   {
    "duration": 0,
    "start_time": "2024-07-26T07:02:33.277Z"
   },
   {
    "duration": 0,
    "start_time": "2024-07-26T07:02:33.279Z"
   },
   {
    "duration": 0,
    "start_time": "2024-07-26T07:02:33.281Z"
   },
   {
    "duration": 0,
    "start_time": "2024-07-26T07:02:33.283Z"
   },
   {
    "duration": 0,
    "start_time": "2024-07-26T07:02:33.326Z"
   },
   {
    "duration": 46,
    "start_time": "2024-07-26T07:03:05.056Z"
   },
   {
    "duration": 4,
    "start_time": "2024-07-26T07:03:08.166Z"
   },
   {
    "duration": 22,
    "start_time": "2024-07-26T07:03:42.388Z"
   },
   {
    "duration": 100,
    "start_time": "2024-07-26T07:03:51.536Z"
   },
   {
    "duration": 15699,
    "start_time": "2024-07-26T07:04:09.738Z"
   },
   {
    "duration": 46,
    "start_time": "2024-07-26T07:04:40.368Z"
   },
   {
    "duration": 5,
    "start_time": "2024-07-26T07:04:44.448Z"
   },
   {
    "duration": 24,
    "start_time": "2024-07-26T07:05:17.680Z"
   },
   {
    "duration": 24,
    "start_time": "2024-07-26T07:05:47.391Z"
   },
   {
    "duration": 5,
    "start_time": "2024-07-26T07:06:15.644Z"
   },
   {
    "duration": 71,
    "start_time": "2024-07-26T07:06:17.473Z"
   },
   {
    "duration": 1419,
    "start_time": "2024-07-26T07:06:25.907Z"
   },
   {
    "duration": 760,
    "start_time": "2024-07-26T07:06:27.330Z"
   },
   {
    "duration": 155,
    "start_time": "2024-07-26T07:06:28.095Z"
   },
   {
    "duration": 12,
    "start_time": "2024-07-26T07:06:28.254Z"
   },
   {
    "duration": 156,
    "start_time": "2024-07-26T07:06:28.270Z"
   },
   {
    "duration": 6,
    "start_time": "2024-07-26T07:06:28.429Z"
   },
   {
    "duration": 10,
    "start_time": "2024-07-26T07:06:28.439Z"
   },
   {
    "duration": 225,
    "start_time": "2024-07-26T07:06:28.453Z"
   },
   {
    "duration": 205,
    "start_time": "2024-07-26T07:06:28.680Z"
   },
   {
    "duration": 125,
    "start_time": "2024-07-26T07:06:28.891Z"
   },
   {
    "duration": 177,
    "start_time": "2024-07-26T07:06:29.018Z"
   },
   {
    "duration": 6,
    "start_time": "2024-07-26T07:06:29.198Z"
   },
   {
    "duration": 92,
    "start_time": "2024-07-26T07:06:29.207Z"
   },
   {
    "duration": 3,
    "start_time": "2024-07-26T07:06:29.302Z"
   },
   {
    "duration": 43,
    "start_time": "2024-07-26T07:06:29.327Z"
   },
   {
    "duration": 539,
    "start_time": "2024-07-26T07:06:29.373Z"
   },
   {
    "duration": 53550,
    "start_time": "2024-07-26T07:06:29.915Z"
   },
   {
    "duration": 4944,
    "start_time": "2024-07-26T07:07:23.468Z"
   },
   {
    "duration": 679,
    "start_time": "2024-07-26T07:07:28.415Z"
   },
   {
    "duration": 32,
    "start_time": "2024-07-26T07:07:29.097Z"
   },
   {
    "duration": 723,
    "start_time": "2024-07-26T07:07:29.132Z"
   },
   {
    "duration": 15381,
    "start_time": "2024-07-26T07:07:29.858Z"
   },
   {
    "duration": 123,
    "start_time": "2024-07-26T07:07:45.242Z"
   },
   {
    "duration": 4,
    "start_time": "2024-07-26T07:07:45.427Z"
   },
   {
    "duration": 495,
    "start_time": "2024-07-26T07:07:45.435Z"
   },
   {
    "duration": 0,
    "start_time": "2024-07-26T07:07:45.933Z"
   },
   {
    "duration": 0,
    "start_time": "2024-07-26T07:07:45.935Z"
   },
   {
    "duration": 0,
    "start_time": "2024-07-26T07:07:45.938Z"
   },
   {
    "duration": 0,
    "start_time": "2024-07-26T07:07:45.941Z"
   },
   {
    "duration": 0,
    "start_time": "2024-07-26T07:07:45.943Z"
   },
   {
    "duration": 0,
    "start_time": "2024-07-26T07:07:45.945Z"
   },
   {
    "duration": 0,
    "start_time": "2024-07-26T07:07:45.947Z"
   },
   {
    "duration": 1,
    "start_time": "2024-07-26T07:07:45.949Z"
   },
   {
    "duration": 0,
    "start_time": "2024-07-26T07:07:45.952Z"
   },
   {
    "duration": 0,
    "start_time": "2024-07-26T07:07:45.954Z"
   },
   {
    "duration": 0,
    "start_time": "2024-07-26T07:07:45.957Z"
   },
   {
    "duration": 0,
    "start_time": "2024-07-26T07:07:45.960Z"
   },
   {
    "duration": 0,
    "start_time": "2024-07-26T07:07:45.963Z"
   },
   {
    "duration": 48,
    "start_time": "2024-07-26T07:08:27.666Z"
   },
   {
    "duration": 9035,
    "start_time": "2024-07-26T07:09:47.409Z"
   },
   {
    "duration": 111,
    "start_time": "2024-07-26T07:09:56.449Z"
   },
   {
    "duration": 5,
    "start_time": "2024-07-26T07:09:56.562Z"
   },
   {
    "duration": 5,
    "start_time": "2024-07-26T07:10:08.864Z"
   },
   {
    "duration": 46,
    "start_time": "2024-07-26T07:12:07.005Z"
   },
   {
    "duration": 4,
    "start_time": "2024-07-26T07:12:17.780Z"
   },
   {
    "duration": 1427,
    "start_time": "2024-07-26T07:20:28.705Z"
   },
   {
    "duration": 723,
    "start_time": "2024-07-26T07:20:30.135Z"
   },
   {
    "duration": 145,
    "start_time": "2024-07-26T07:20:30.861Z"
   },
   {
    "duration": 24,
    "start_time": "2024-07-26T07:20:31.011Z"
   },
   {
    "duration": 149,
    "start_time": "2024-07-26T07:20:31.039Z"
   },
   {
    "duration": 4,
    "start_time": "2024-07-26T07:20:31.191Z"
   },
   {
    "duration": 29,
    "start_time": "2024-07-26T07:20:31.198Z"
   },
   {
    "duration": 212,
    "start_time": "2024-07-26T07:20:31.230Z"
   },
   {
    "duration": 198,
    "start_time": "2024-07-26T07:20:31.445Z"
   },
   {
    "duration": 125,
    "start_time": "2024-07-26T07:20:31.649Z"
   },
   {
    "duration": 184,
    "start_time": "2024-07-26T07:20:31.777Z"
   },
   {
    "duration": 6,
    "start_time": "2024-07-26T07:20:31.964Z"
   },
   {
    "duration": 101,
    "start_time": "2024-07-26T07:20:31.973Z"
   },
   {
    "duration": 5,
    "start_time": "2024-07-26T07:20:32.077Z"
   },
   {
    "duration": 64,
    "start_time": "2024-07-26T07:20:32.085Z"
   },
   {
    "duration": 523,
    "start_time": "2024-07-26T07:20:32.152Z"
   },
   {
    "duration": 54297,
    "start_time": "2024-07-26T07:20:32.678Z"
   },
   {
    "duration": 4989,
    "start_time": "2024-07-26T07:21:26.978Z"
   },
   {
    "duration": 681,
    "start_time": "2024-07-26T07:21:31.969Z"
   },
   {
    "duration": 26,
    "start_time": "2024-07-26T07:21:32.652Z"
   },
   {
    "duration": 719,
    "start_time": "2024-07-26T07:21:32.681Z"
   },
   {
    "duration": 15525,
    "start_time": "2024-07-26T07:21:33.402Z"
   },
   {
    "duration": 123,
    "start_time": "2024-07-26T07:21:48.933Z"
   },
   {
    "duration": 67,
    "start_time": "2024-07-26T07:21:49.065Z"
   },
   {
    "duration": 122,
    "start_time": "2024-07-26T07:21:49.140Z"
   },
   {
    "duration": 9225,
    "start_time": "2024-07-26T07:21:49.268Z"
   },
   {
    "duration": 111,
    "start_time": "2024-07-26T07:21:58.496Z"
   },
   {
    "duration": 11,
    "start_time": "2024-07-26T07:21:58.615Z"
   },
   {
    "duration": 1491,
    "start_time": "2024-07-28T00:10:23.320Z"
   },
   {
    "duration": 826,
    "start_time": "2024-07-28T00:10:24.815Z"
   },
   {
    "duration": 147,
    "start_time": "2024-07-28T00:10:25.644Z"
   },
   {
    "duration": 26,
    "start_time": "2024-07-28T00:10:25.795Z"
   },
   {
    "duration": 143,
    "start_time": "2024-07-28T00:10:25.825Z"
   },
   {
    "duration": 4,
    "start_time": "2024-07-28T00:10:25.971Z"
   },
   {
    "duration": 10,
    "start_time": "2024-07-28T00:10:25.978Z"
   },
   {
    "duration": 201,
    "start_time": "2024-07-28T00:10:26.014Z"
   },
   {
    "duration": 194,
    "start_time": "2024-07-28T00:10:26.218Z"
   },
   {
    "duration": 127,
    "start_time": "2024-07-28T00:10:26.417Z"
   },
   {
    "duration": 183,
    "start_time": "2024-07-28T00:10:26.546Z"
   },
   {
    "duration": 8,
    "start_time": "2024-07-28T00:10:26.732Z"
   },
   {
    "duration": 107,
    "start_time": "2024-07-28T00:10:26.743Z"
   },
   {
    "duration": 59,
    "start_time": "2024-07-28T00:10:26.853Z"
   },
   {
    "duration": 574,
    "start_time": "2024-07-28T00:10:26.915Z"
   },
   {
    "duration": 53689,
    "start_time": "2024-07-28T00:10:27.492Z"
   },
   {
    "duration": 4919,
    "start_time": "2024-07-28T00:11:21.184Z"
   },
   {
    "duration": 690,
    "start_time": "2024-07-28T00:11:26.105Z"
   },
   {
    "duration": 31,
    "start_time": "2024-07-28T00:11:26.798Z"
   },
   {
    "duration": 704,
    "start_time": "2024-07-28T00:11:26.831Z"
   },
   {
    "duration": 15692,
    "start_time": "2024-07-28T00:11:27.537Z"
   },
   {
    "duration": 175,
    "start_time": "2024-07-28T00:11:43.239Z"
   },
   {
    "duration": 4,
    "start_time": "2024-07-28T00:11:43.417Z"
   },
   {
    "duration": 9130,
    "start_time": "2024-07-28T00:11:43.425Z"
   },
   {
    "duration": 116,
    "start_time": "2024-07-28T00:11:52.558Z"
   },
   {
    "duration": 5,
    "start_time": "2024-07-28T00:11:52.677Z"
   },
   {
    "duration": 1471,
    "start_time": "2024-07-28T02:03:52.148Z"
   },
   {
    "duration": 811,
    "start_time": "2024-07-28T02:03:53.623Z"
   },
   {
    "duration": 157,
    "start_time": "2024-07-28T02:03:54.437Z"
   },
   {
    "duration": 23,
    "start_time": "2024-07-28T02:03:54.598Z"
   },
   {
    "duration": 151,
    "start_time": "2024-07-28T02:03:54.624Z"
   },
   {
    "duration": 5,
    "start_time": "2024-07-28T02:03:54.778Z"
   },
   {
    "duration": 78406,
    "start_time": "2024-07-28T02:03:54.786Z"
   },
   {
    "duration": 7046,
    "start_time": "2024-07-28T02:05:13.195Z"
   },
   {
    "duration": 16,
    "start_time": "2024-07-28T02:05:20.243Z"
   },
   {
    "duration": 150,
    "start_time": "2024-07-28T02:05:20.265Z"
   },
   {
    "duration": 133,
    "start_time": "2024-07-28T02:05:20.417Z"
   },
   {
    "duration": 146,
    "start_time": "2024-07-28T02:05:20.553Z"
   },
   {
    "duration": 111,
    "start_time": "2024-07-28T02:05:20.702Z"
   },
   {
    "duration": 148,
    "start_time": "2024-07-28T02:05:20.815Z"
   },
   {
    "duration": 145,
    "start_time": "2024-07-28T02:05:20.967Z"
   },
   {
    "duration": 161,
    "start_time": "2024-07-28T02:05:21.116Z"
   },
   {
    "duration": 1265,
    "start_time": "2024-07-28T02:05:21.280Z"
   },
   {
    "duration": 416,
    "start_time": "2024-07-28T02:05:22.549Z"
   },
   {
    "duration": 0,
    "start_time": "2024-07-28T02:05:22.969Z"
   },
   {
    "duration": 0,
    "start_time": "2024-07-28T02:05:22.971Z"
   },
   {
    "duration": 0,
    "start_time": "2024-07-28T02:05:22.973Z"
   },
   {
    "duration": 0,
    "start_time": "2024-07-28T02:05:22.976Z"
   },
   {
    "duration": 1,
    "start_time": "2024-07-28T02:05:22.977Z"
   },
   {
    "duration": 0,
    "start_time": "2024-07-28T02:05:22.979Z"
   },
   {
    "duration": 0,
    "start_time": "2024-07-28T02:05:22.981Z"
   },
   {
    "duration": 0,
    "start_time": "2024-07-28T02:05:22.983Z"
   },
   {
    "duration": 0,
    "start_time": "2024-07-28T02:05:22.984Z"
   },
   {
    "duration": 0,
    "start_time": "2024-07-28T02:05:22.986Z"
   },
   {
    "duration": 0,
    "start_time": "2024-07-28T02:05:23.012Z"
   },
   {
    "duration": 0,
    "start_time": "2024-07-28T02:05:23.014Z"
   },
   {
    "duration": 0,
    "start_time": "2024-07-28T02:05:23.015Z"
   },
   {
    "duration": 0,
    "start_time": "2024-07-28T02:05:23.018Z"
   },
   {
    "duration": 0,
    "start_time": "2024-07-28T02:05:23.021Z"
   },
   {
    "duration": 0,
    "start_time": "2024-07-28T02:05:23.024Z"
   },
   {
    "duration": 0,
    "start_time": "2024-07-28T02:05:23.026Z"
   },
   {
    "duration": 0,
    "start_time": "2024-07-28T02:05:23.028Z"
   },
   {
    "duration": 0,
    "start_time": "2024-07-28T02:05:23.031Z"
   },
   {
    "duration": 0,
    "start_time": "2024-07-28T02:05:23.034Z"
   },
   {
    "duration": 0,
    "start_time": "2024-07-28T02:05:23.036Z"
   },
   {
    "duration": 981,
    "start_time": "2024-09-04T02:56:35.095Z"
   },
   {
    "duration": 537,
    "start_time": "2024-09-04T02:56:36.078Z"
   },
   {
    "duration": 121,
    "start_time": "2024-09-04T02:56:36.617Z"
   },
   {
    "duration": 10,
    "start_time": "2024-09-04T02:56:36.743Z"
   },
   {
    "duration": 100,
    "start_time": "2024-09-04T02:56:36.756Z"
   },
   {
    "duration": 3,
    "start_time": "2024-09-04T02:56:36.858Z"
   },
   {
    "duration": 43012,
    "start_time": "2024-09-04T02:56:36.863Z"
   },
   {
    "duration": 4100,
    "start_time": "2024-09-04T02:57:19.877Z"
   },
   {
    "duration": 11,
    "start_time": "2024-09-04T02:57:23.979Z"
   },
   {
    "duration": 94,
    "start_time": "2024-09-04T02:57:23.993Z"
   },
   {
    "duration": 99,
    "start_time": "2024-09-04T02:57:24.089Z"
   },
   {
    "duration": 104,
    "start_time": "2024-09-04T02:57:24.190Z"
   },
   {
    "duration": 73,
    "start_time": "2024-09-04T02:57:24.295Z"
   },
   {
    "duration": 101,
    "start_time": "2024-09-04T02:57:24.369Z"
   },
   {
    "duration": 98,
    "start_time": "2024-09-04T02:57:24.472Z"
   },
   {
    "duration": 105,
    "start_time": "2024-09-04T02:57:24.572Z"
   },
   {
    "duration": 936,
    "start_time": "2024-09-04T02:57:24.679Z"
   },
   {
    "duration": 274,
    "start_time": "2024-09-04T02:57:25.616Z"
   },
   {
    "duration": 0,
    "start_time": "2024-09-04T02:57:25.892Z"
   },
   {
    "duration": 0,
    "start_time": "2024-09-04T02:57:25.893Z"
   },
   {
    "duration": 0,
    "start_time": "2024-09-04T02:57:25.894Z"
   },
   {
    "duration": 0,
    "start_time": "2024-09-04T02:57:25.895Z"
   },
   {
    "duration": 0,
    "start_time": "2024-09-04T02:57:25.896Z"
   },
   {
    "duration": 0,
    "start_time": "2024-09-04T02:57:25.897Z"
   },
   {
    "duration": 0,
    "start_time": "2024-09-04T02:57:25.898Z"
   },
   {
    "duration": 0,
    "start_time": "2024-09-04T02:57:25.899Z"
   },
   {
    "duration": 0,
    "start_time": "2024-09-04T02:57:25.900Z"
   },
   {
    "duration": 0,
    "start_time": "2024-09-04T02:57:25.901Z"
   },
   {
    "duration": 0,
    "start_time": "2024-09-04T02:57:25.902Z"
   },
   {
    "duration": 0,
    "start_time": "2024-09-04T02:57:25.926Z"
   },
   {
    "duration": 0,
    "start_time": "2024-09-04T02:57:25.927Z"
   },
   {
    "duration": 0,
    "start_time": "2024-09-04T02:57:25.928Z"
   },
   {
    "duration": 0,
    "start_time": "2024-09-04T02:57:25.929Z"
   },
   {
    "duration": 0,
    "start_time": "2024-09-04T02:57:25.931Z"
   },
   {
    "duration": 0,
    "start_time": "2024-09-04T02:57:25.936Z"
   },
   {
    "duration": 0,
    "start_time": "2024-09-04T02:57:25.937Z"
   },
   {
    "duration": 1,
    "start_time": "2024-09-04T02:57:25.938Z"
   },
   {
    "duration": 0,
    "start_time": "2024-09-04T02:57:25.940Z"
   },
   {
    "duration": 0,
    "start_time": "2024-09-04T02:57:25.941Z"
   }
  ],
  "kernelspec": {
   "display_name": "Python 3 (ipykernel)",
   "language": "python",
   "name": "python3"
  },
  "language_info": {
   "codemirror_mode": {
    "name": "ipython",
    "version": 3
   },
   "file_extension": ".py",
   "mimetype": "text/x-python",
   "name": "python",
   "nbconvert_exporter": "python",
   "pygments_lexer": "ipython3",
   "version": "3.9.19"
  },
  "toc": {
   "base_numbering": 1,
   "nav_menu": {},
   "number_sections": true,
   "sideBar": true,
   "skip_h1_title": true,
   "title_cell": "Table of Contents",
   "title_sidebar": "Contents",
   "toc_cell": false,
   "toc_position": {},
   "toc_section_display": true,
   "toc_window_display": false
  }
 },
 "nbformat": 4,
 "nbformat_minor": 2
}
