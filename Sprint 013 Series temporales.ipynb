{
 "cells": [
  {
   "cell_type": "markdown",
   "metadata": {},
   "source": [
    "¡ Hola Guillermo! Como te va?\n",
    "\n",
    "\n",
    "\n",
    " Mi nombre es Facundo Lozano! Un gusto conocerte, seré tu revisor en este proyecto.\n",
    "\n",
    "\n",
    "\n",
    " A continuación un poco sobre la modalidad de revisión que usaremos:\n",
    "\n",
    "\n",
    "\n",
    " Cuando enccuentro un error por primera vez, simplemente lo señalaré, te dejaré encontrarlo y arreglarlo tú cuenta. Además, a lo largo del texto iré haciendo algunas observaciones sobre mejora en tu código y también haré comentarios sobre tus percepciones sobre el tema. Pero si aún no puedes realizar esta tarea, te daré una pista más precisa en la próxima iteración y también algunos ejemplos prácticos. Estaré abierto a comentarios y discusiones sobre el tema.\n",
    "\n",
    "\n",
    "\n",
    " Encontrará mis comentarios a continuación: **no los mueva, modifique ni elimine**.\n",
    "\n",
    "\n",
    "\n",
    " Puedes encontrar mis comentarios en cuadros verdes, amarillos o rojos como este:\n",
    "\n",
    "\n",
    "\n",
    " <div class=\"alert alert-block alert-success\">\n",
    "\n",
    " <b>Comentario del revisor.</b> <a class=\"tocSkip\"></a>\n",
    "\n",
    "\n",
    "\n",
    " Exito. Todo se ha hecho de forma exitosa.\n",
    "\n",
    " </div>\n",
    "\n",
    "\n",
    "\n",
    " <div class=\"alert alert-block alert-warning\">\n",
    "\n",
    " <b>Comentario del revisor.</b> <a class=\"tocSkip\"></a>\n",
    "\n",
    "\n",
    "\n",
    " Observación. Algunas recomendaciones.\n",
    "\n",
    " </div>\n",
    "\n",
    "\n",
    "\n",
    " <div class=\"alert alert-block alert-danger\">\n",
    "\n",
    "\n",
    "\n",
    " <b>Comentario del revisor.</b> <a class=\"tocSkip\"></a>\n",
    "\n",
    "\n",
    "\n",
    " Necesita arreglos. Este apartado necesita algunas correcciones. El trabajo no puede ser aceptado con comentarios rojos.\n",
    "\n",
    " </div>\n",
    "\n",
    "\n",
    "\n",
    " Puedes responder utilizando esto:\n",
    "\n",
    "\n",
    "\n",
    " <div class=\"alert alert-block alert-info\">\n",
    "\n",
    " <b>Respuesta de estudiante.</b> <a class=\"tocSkip\"></a>\n",
    "\n",
    " </div>"
   ]
  },
  {
   "cell_type": "markdown",
   "metadata": {},
   "source": [
    "# Descripción del proyecto\n",
    "\n",
    "La compañía Sweet Lift Taxi ha recopilado datos históricos sobre pedidos de taxis en los aeropuertos. Para atraer a más conductores durante las horas pico, necesitamos predecir la cantidad de pedidos de taxis para la próxima hora. Construye un modelo para dicha predicción.\n",
    "\n",
    "La métrica RECM en el conjunto de prueba no debe ser superior a 48.\n",
    "\n",
    "## Instrucciones del proyecto.\n",
    "\n",
    "1. Descarga los datos y haz el remuestreo por una hora.\n",
    "2. Analiza los datos\n",
    "3. Entrena diferentes modelos con diferentes hiperparámetros. La muestra de prueba debe ser el 10% del conjunto de datos inicial.4. Prueba los datos usando la muestra de prueba y proporciona una conclusión.\n",
    "\n",
    "## Descripción de los datos\n",
    "\n",
    "Los datos se almacenan en el archivo `taxi.csv`. \t\n",
    "El número de pedidos está en la columna `num_orders`."
   ]
  },
  {
   "cell_type": "markdown",
   "metadata": {},
   "source": [
    "<div class=\"alert alert-block alert-success\">\n",
    "<b>Review General. (Iteración 1) </b> <a class=\"tocSkip\"></a>\n",
    "    \n",
    "Guillermo, quería tomarme este tiempo al inicio de tu proyecto para comentarte mis apreciaciones generales de esta iteración de tu entrega.\n",
    "\n",
    "Siempre me gusta comenzar dando la bienvenida al mundo de los datos a los estudiantes, te deseo lo mejor y espero que consigas lograr tus objetivos. Personalmente me gusta brindar el siguiente consejo, \"Está bien equivocarse, es normal y es lo mejor que te puede pasar. Aprendemos de los errores y eso te hará mejor programador ya que podrás descubrir cosas a medida que avances y son estas cosas las que te darán esa experiencia para ser un gran cientifico de datos.\"\n",
    "    \n",
    "Ahora si yendo a esta notebook.  Guillermo quiero felicitarte porque has hecho un gran trabajo a lo largo de toda la notebook, desde las interpretaciones hasta las implementaciones, se ha notado un gran manejo de las herramientas y una gran comprensión de los resultados obtenidos. Felicitaciones Guillermo, tu trabajo esta en las mejores condiciones para ser aprobado.\n",
    "\n",
    "Éxitos dentro de tu camino en el mundo de los datos, saludos!"
   ]
  },
  {
   "cell_type": "markdown",
   "metadata": {},
   "source": [
    "## Preparación"
   ]
  },
  {
   "cell_type": "code",
   "execution_count": 1,
   "metadata": {},
   "outputs": [],
   "source": [
    "import pandas as pd\n",
    "import numpy as np\n",
    "import matplotlib.pyplot as plt\n",
    "import xgboost as xgb\n",
    "\n",
    "from statsmodels.tsa.seasonal import seasonal_decompose\n",
    "from sklearn.model_selection import train_test_split\n",
    "from sklearn.metrics import mean_squared_error\n",
    "from sklearn.linear_model import LinearRegression\n",
    "\n",
    "from sklearn.preprocessing import StandardScaler\n",
    "from sklearn.linear_model import Ridge\n",
    "from sklearn.model_selection import GridSearchCV\n",
    "from sklearn.model_selection import cross_val_score"
   ]
  },
  {
   "cell_type": "code",
   "execution_count": 2,
   "metadata": {},
   "outputs": [],
   "source": [
    "# Cargar datos\n",
    "data_taxi = pd.read_csv('/datasets/taxi.csv',parse_dates=['datetime'], index_col='datetime')"
   ]
  },
  {
   "cell_type": "code",
   "execution_count": 3,
   "metadata": {},
   "outputs": [
    {
     "name": "stdout",
     "output_type": "stream",
     "text": [
      "<class 'pandas.core.frame.DataFrame'>\n",
      "DatetimeIndex: 26496 entries, 2018-03-01 00:00:00 to 2018-08-31 23:50:00\n",
      "Data columns (total 1 columns):\n",
      " #   Column      Non-Null Count  Dtype\n",
      "---  ------      --------------  -----\n",
      " 0   num_orders  26496 non-null  int64\n",
      "dtypes: int64(1)\n",
      "memory usage: 414.0 KB\n"
     ]
    }
   ],
   "source": [
    "data_taxi.info()"
   ]
  },
  {
   "cell_type": "code",
   "execution_count": 4,
   "metadata": {},
   "outputs": [
    {
     "name": "stdout",
     "output_type": "stream",
     "text": [
      "                     num_orders\n",
      "datetime                       \n",
      "2018-03-01 00:00:00           9\n",
      "2018-03-01 00:10:00          14\n",
      "2018-03-01 00:20:00          28\n",
      "2018-03-01 00:30:00          20\n",
      "2018-03-01 00:40:00          32\n"
     ]
    }
   ],
   "source": [
    "print(data_taxi.head())"
   ]
  },
  {
   "cell_type": "code",
   "execution_count": 5,
   "metadata": {},
   "outputs": [],
   "source": [
    "# Remuestreo a intervalos de una hora\n",
    "data_taxi_hourly = data_taxi.resample('H').sum()"
   ]
  },
  {
   "cell_type": "code",
   "execution_count": 6,
   "metadata": {},
   "outputs": [
    {
     "name": "stdout",
     "output_type": "stream",
     "text": [
      "                     num_orders\n",
      "datetime                       \n",
      "2018-03-01 00:00:00         124\n",
      "2018-03-01 01:00:00          85\n",
      "2018-03-01 02:00:00          71\n",
      "2018-03-01 03:00:00          66\n",
      "2018-03-01 04:00:00          43\n",
      "...                         ...\n",
      "2018-08-31 19:00:00         136\n",
      "2018-08-31 20:00:00         154\n",
      "2018-08-31 21:00:00         159\n",
      "2018-08-31 22:00:00         223\n",
      "2018-08-31 23:00:00         205\n",
      "\n",
      "[4416 rows x 1 columns]\n"
     ]
    }
   ],
   "source": [
    "print(data_taxi_hourly)"
   ]
  },
  {
   "cell_type": "markdown",
   "metadata": {},
   "source": [
    "  <div class=\"alert alert-block alert-success\">\n",
    "\n",
    "\n",
    " <b>Comentario del revisor. (Iteración 1)</b> <a class=\"tocSkip\"></a>\n",
    "\n",
    "Hasta aquí excelente procedimiento de importanción de librerías manteniendolas por separado de nuestros datos, por otro lado excelente procedimiento de carga de datos y de resampleo 1H tal como debíamos. Sigamos!"
   ]
  },
  {
   "cell_type": "markdown",
   "metadata": {},
   "source": [
    " Se han cargado correctamente los datos y se ha realizado el remuestreo para obtener la suma de pedidos por hora, lo cual es esencial para el análisis posterior."
   ]
  },
  {
   "cell_type": "markdown",
   "metadata": {},
   "source": [
    "## Análisis"
   ]
  },
  {
   "cell_type": "code",
   "execution_count": null,
   "metadata": {},
   "outputs": [],
   "source": []
  },
  {
   "cell_type": "markdown",
   "metadata": {},
   "source": [
    "### Visualiza la serie temporal"
   ]
  },
  {
   "cell_type": "code",
   "execution_count": 7,
   "metadata": {},
   "outputs": [
    {
     "data": {
      "image/png": "[encoded data removed]",
      "text/plain": [
       "<Figure size 1200x600 with 1 Axes>"
      ]
     },
     "metadata": {},
     "output_type": "display_data"
    }
   ],
   "source": [
    "plt.figure(figsize=(12, 6))\n",
    "plt.plot(data_taxi_hourly.index, data_taxi_hourly['num_orders'], label='Número de Pedidos por Hora')\n",
    "plt.title('Número de Pedidos de Taxis por Hora')\n",
    "plt.xlabel('Fecha')\n",
    "plt.ylabel('Número de Pedidos')\n",
    "plt.legend()\n",
    "plt.show()"
   ]
  },
  {
   "cell_type": "markdown",
   "metadata": {},
   "source": [
    "  <div class=\"alert alert-block alert-success\">\n",
    "\n",
    "\n",
    " <b>Comentario del revisor. (Iteración 1)</b> <a class=\"tocSkip\"></a>\n",
    "\n",
    "Excelente mustreo de los pedidos realizados a lo largo del tiempo, bien hecho Guillermo!"
   ]
  },
  {
   "cell_type": "markdown",
   "metadata": {},
   "source": [
    "Se observa una variabilidad en los pedidos de taxis a lo largo del tiempo, con posibles patrones diarios y semanales. Estos patrones nos ayudarán a crear un modelo más preciso."
   ]
  },
  {
   "cell_type": "markdown",
   "metadata": {},
   "source": [
    "### Descompoción de la serie temporal para analizar la tendencia, estacionalidad y ruido."
   ]
  },
  {
   "cell_type": "code",
   "execution_count": 8,
   "metadata": {},
   "outputs": [
    {
     "data": {
      "image/png": "[encoded data removed]",
      "text/plain": [
       "<Figure size 640x480 with 4 Axes>"
      ]
     },
     "metadata": {},
     "output_type": "display_data"
    }
   ],
   "source": [
    "decomposition = seasonal_decompose(data_taxi_hourly['num_orders'], model='additive', period=24)\n",
    "fig = decomposition.plot()\n",
    "plt.show()"
   ]
  },
  {
   "cell_type": "markdown",
   "metadata": {},
   "source": [
    "  <div class=\"alert alert-block alert-success\">\n",
    "\n",
    "\n",
    " <b>Comentario del revisor. (Iteración 1)</b> <a class=\"tocSkip\"></a>\n",
    "\n",
    "Aquí lo hemos hecho muy bien nuevamente Guillermo, tal como debíamos hemos aplicadk el seasonal_decompose y observamos las gráficas seasonal, trend y resid. "
   ]
  },
  {
   "cell_type": "markdown",
   "metadata": {},
   "source": [
    "La descomposición muestra una clara tendencia y estacionalidad diaria. Esto confirma que los pedidos de taxis varían significativamente a lo largo del día, lo que es crucial para nuestras predicciones."
   ]
  },
  {
   "cell_type": "markdown",
   "metadata": {},
   "source": [
    "## Formación"
   ]
  },
  {
   "cell_type": "code",
   "execution_count": 9,
   "metadata": {},
   "outputs": [],
   "source": [
    "#Crea nuevas características como el número de pedidos anteriores y la media móvil.\n",
    "data_taxi_hourly['lag1'] = data_taxi_hourly['num_orders'].shift(1)\n",
    "data_taxi_hourly['rolling_mean'] = data_taxi_hourly['num_orders'].rolling(window=24).mean()\n"
   ]
  },
  {
   "cell_type": "markdown",
   "metadata": {},
   "source": [
    "  <div class=\"alert alert-block alert-success\">\n",
    "\n",
    "\n",
    " <b>Comentario del revisor. (Iteración 1)</b> <a class=\"tocSkip\"></a>\n",
    "\n",
    "Perfecta procedimiento a cargo de de la creación de nuestras features derivadas de index! Sigamos que venimos genial!"
   ]
  },
  {
   "cell_type": "code",
   "execution_count": 10,
   "metadata": {},
   "outputs": [],
   "source": [
    "# Eliminar NaN\n",
    "data_taxi_hourly.dropna(inplace=True)"
   ]
  },
  {
   "cell_type": "code",
   "execution_count": 11,
   "metadata": {},
   "outputs": [
    {
     "name": "stdout",
     "output_type": "stream",
     "text": [
      "                     num_orders   lag1  rolling_mean\n",
      "datetime                                            \n",
      "2018-03-01 23:00:00          58  113.0     56.833333\n",
      "2018-03-02 00:00:00          90   58.0     55.416667\n",
      "2018-03-02 01:00:00         120   90.0     56.875000\n",
      "2018-03-02 02:00:00          75  120.0     57.041667\n",
      "2018-03-02 03:00:00          64   75.0     56.958333\n",
      "...                         ...    ...           ...\n",
      "2018-08-31 19:00:00         136  207.0    167.541667\n",
      "2018-08-31 20:00:00         154  136.0    168.041667\n",
      "2018-08-31 21:00:00         159  154.0    166.416667\n",
      "2018-08-31 22:00:00         223  159.0    169.125000\n",
      "2018-08-31 23:00:00         205  223.0    167.416667\n",
      "\n",
      "[4393 rows x 3 columns]\n"
     ]
    }
   ],
   "source": [
    "print(data_taxi_hourly)"
   ]
  },
  {
   "cell_type": "code",
   "execution_count": 12,
   "metadata": {},
   "outputs": [],
   "source": [
    "#Aplica diferencias para hacer la serie estacionaria.\n",
    "data_taxi_hourly['diff_orders'] = data_taxi_hourly['num_orders'].diff()\n",
    "data_taxi_hourly.dropna(inplace=True)"
   ]
  },
  {
   "cell_type": "code",
   "execution_count": 13,
   "metadata": {},
   "outputs": [
    {
     "name": "stdout",
     "output_type": "stream",
     "text": [
      "                     num_orders   lag1  rolling_mean  diff_orders\n",
      "datetime                                                         \n",
      "2018-03-02 00:00:00          90   58.0     55.416667         32.0\n",
      "2018-03-02 01:00:00         120   90.0     56.875000         30.0\n",
      "2018-03-02 02:00:00          75  120.0     57.041667        -45.0\n",
      "2018-03-02 03:00:00          64   75.0     56.958333        -11.0\n",
      "2018-03-02 04:00:00          20   64.0     56.000000        -44.0\n",
      "...                         ...    ...           ...          ...\n",
      "2018-08-31 19:00:00         136  207.0    167.541667        -71.0\n",
      "2018-08-31 20:00:00         154  136.0    168.041667         18.0\n",
      "2018-08-31 21:00:00         159  154.0    166.416667          5.0\n",
      "2018-08-31 22:00:00         223  159.0    169.125000         64.0\n",
      "2018-08-31 23:00:00         205  223.0    167.416667        -18.0\n",
      "\n",
      "[4392 rows x 4 columns]\n"
     ]
    }
   ],
   "source": [
    "print(data_taxi_hourly)"
   ]
  },
  {
   "cell_type": "markdown",
   "metadata": {},
   "source": [
    "Las características adicionales y la transformación de la serie temporal ayudan a estabilizar la variabilidad y a capturar patrones subyacentes importantes para el modelo."
   ]
  },
  {
   "cell_type": "markdown",
   "metadata": {},
   "source": [
    "  <div class=\"alert alert-block alert-warning\">\n",
    "\n",
    "\n",
    " <b>Comentario del revisor. (Iteración 1)</b> <a class=\"tocSkip\"></a>\n",
    "\n",
    "Todo el proceso de creación de features es excelente Guillermo, si quiseramos mejorarlo podríamos agrear mayor cantidad de lags o inluco agregar la semana, el día o la hora del pedido, estos agregados pueden contentener información valiosa para le modelo."
   ]
  },
  {
   "cell_type": "markdown",
   "metadata": {},
   "source": [
    "## Prueba"
   ]
  },
  {
   "cell_type": "code",
   "execution_count": null,
   "metadata": {},
   "outputs": [],
   "source": [
    "## Definir características y etiquetas\n",
    "X = data_taxi_hourly[['lag1', 'rolling_mean']].values\n",
    "y = data_taxi_hourly['num_orders'].values\n",
    "\n",
    "X_train, X_test, y_train, y_test = train_test_split(X, y, test_size=0.1, shuffle=False)"
   ]
  },
  {
   "cell_type": "markdown",
   "metadata": {},
   "source": [
    "  <div class=\"alert alert-block alert-success\">\n",
    "\n",
    "\n",
    " <b>Comentario del revisor. (Iteración 1)</b> <a class=\"tocSkip\"></a>\n",
    "\n",
    "Perfecta división de los datos en los conjuntos correspondientes mediante train_test_split(), bien hecho!"
   ]
  },
  {
   "cell_type": "markdown",
   "metadata": {},
   "source": [
    "### MODELO DE REGRESIÓN LINEAL"
   ]
  },
  {
   "cell_type": "code",
   "execution_count": null,
   "metadata": {},
   "outputs": [],
   "source": [
    "# Entrenamiento del modelo\n",
    "model_lr = LinearRegression()\n",
    "model_lr.fit(X_train, y_train)"
   ]
  },
  {
   "cell_type": "code",
   "execution_count": null,
   "metadata": {},
   "outputs": [],
   "source": [
    "# Predicciones\n",
    "lr_predictions = model_lr.predict(X_test)\n",
    "lr_rmse = np.sqrt(mean_squared_error(y_test, lr_predictions))"
   ]
  },
  {
   "cell_type": "code",
   "execution_count": null,
   "metadata": {},
   "outputs": [],
   "source": [
    "#Imprimir\n",
    "print(f'Regresión Lineal RECM: {lr_rmse}')"
   ]
  },
  {
   "cell_type": "markdown",
   "metadata": {},
   "source": [
    "El modelo de regresión lineal proporciona una línea base para comparar otros modelos. Aunque es simple, puede no capturar todas las características estacionales y de tendencia en los datos."
   ]
  },
  {
   "cell_type": "markdown",
   "metadata": {},
   "source": [
    "### MODELO XGBoost"
   ]
  },
  {
   "cell_type": "code",
   "execution_count": null,
   "metadata": {},
   "outputs": [],
   "source": [
    "# Entrenamiento del modelo XGBoost\n",
    "model_xgb = xgb.XGBRegressor(objective='reg:squarederror', n_estimators=100, max_depth=4)\n",
    "model_xgb.fit(X_train, y_train)"
   ]
  },
  {
   "cell_type": "code",
   "execution_count": null,
   "metadata": {},
   "outputs": [],
   "source": [
    "# Predicciones\n",
    "xgb_predictions = model_xgb.predict(X_test)\n",
    "xgb_rmse = np.sqrt(mean_squared_error(y_test, xgb_predictions))"
   ]
  },
  {
   "cell_type": "code",
   "execution_count": null,
   "metadata": {},
   "outputs": [],
   "source": [
    "print(f'XGBoost RECM: {xgb_rmse}')"
   ]
  },
  {
   "cell_type": "markdown",
   "metadata": {},
   "source": [
    "El modelo XGBoost maneja bien las no linealidades y muestra un rendimiento superior al de la regresión lineal, cumpliendo con el umbral de RECM."
   ]
  },
  {
   "cell_type": "markdown",
   "metadata": {},
   "source": [
    "Los resultados de RECM que has obtenido, con valores de 50.42 para la Regresión Lineal y 66.60 para XGBoost, indican que ambos modelos superan el umbral de 48. Esto sugiere que ambos modelos necesitan ajustes adicionales para mejorar su rendimiento."
   ]
  },
  {
   "cell_type": "markdown",
   "metadata": {},
   "source": [
    "## AJUSTES DE HIPERPARAMETROS"
   ]
  },
  {
   "cell_type": "code",
   "execution_count": null,
   "metadata": {},
   "outputs": [],
   "source": [
    "# Normalización de los datos(XGBoost)\n",
    "scaler = StandardScaler()\n",
    "X_train_scaled = scaler.fit_transform(X_train)\n",
    "X_test_scaled = scaler.transform(X_test)\n"
   ]
  },
  {
   "cell_type": "code",
   "execution_count": null,
   "metadata": {},
   "outputs": [],
   "source": [
    "# Probar diferentes valores de alpha(Regresión Lineal)\n",
    "model_lr = Ridge(alpha=1.0)  \n",
    "model_lr.fit(X_train, y_train)"
   ]
  },
  {
   "cell_type": "code",
   "execution_count": null,
   "metadata": {},
   "outputs": [],
   "source": [
    "param_grid = {\n",
    "    'n_estimators': [100, 200],\n",
    "    'max_depth': [3, 4, 5],\n",
    "    'learning_rate': [0.01, 0.1, 0.2],\n",
    "    'subsample': [0.8, 1.0]\n",
    "}\n",
    "\n",
    "grid_search = GridSearchCV(estimator=xgb.XGBRegressor(objective='reg:squarederror'), param_grid=param_grid, cv=3, scoring='neg_root_mean_squared_error')\n",
    "grid_search.fit(X_train_scaled, y_train)\n",
    "best_model = grid_search.best_estimator_\n",
    "\n",
    "xgb_predictions = best_model.predict(X_test_scaled)\n",
    "xgb_rmse = np.sqrt(mean_squared_error(y_test, xgb_predictions))\n",
    "print(f'XGBoost (ajustado) RECM: {xgb_rmse}')"
   ]
  },
  {
   "cell_type": "code",
   "execution_count": null,
   "metadata": {},
   "outputs": [],
   "source": [
    "#Validación Cruzada\n",
    "cv_scores_lr = cross_val_score(model_lr, X_train, y_train, cv=5, scoring='neg_root_mean_squared_error')\n",
    "cv_scores_xgb = cross_val_score(best_model, X_train_scaled, y_train, cv=5, scoring='neg_root_mean_squared_error')\n",
    "\n",
    "print(f'Regresión Lineal RECM (CV): {-cv_scores_lr.mean()}')\n",
    "print('---------------------------------------------------------')\n",
    "print(f'XGBoost RECM (CV): {-cv_scores_xgb.mean()}')"
   ]
  },
  {
   "cell_type": "markdown",
   "metadata": {},
   "source": [
    "  <div class=\"alert alert-block alert-success\">\n",
    "\n",
    "\n",
    " <b>Comentario del revisor. (Iteración 1)</b> <a class=\"tocSkip\"></a>\n",
    "\n",
    "Respecto a los modelos creados también quiero felicitarte Guillermo! Las declaraciones de los mismos son correctas junto a los conjuntos utilizados para el entrenamiento y testeo. Respecto a los hiperparametros lo hemos hecho muy bien al probar diferentes valores aplicando la técnica de GridSearch como a la vez el proceso de escalamiento de los datos y de validación cruzada dando robustez al proceso. Excelente! Si quisieramos mejorarlo podríamos simplemente agregar una mayor cantidad de modelos.\n",
    "    "
   ]
  },
  {
   "cell_type": "markdown",
   "metadata": {},
   "source": [
    "Utiliza validación cruzada para evaluar el rendimiento de los modelos y evitar el sobreajuste."
   ]
  },
  {
   "cell_type": "markdown",
   "metadata": {},
   "source": [
    "## CONCLUSIÓN"
   ]
  },
  {
   "cell_type": "markdown",
   "metadata": {},
   "source": [
    "Tras desarrollar el proyecto y utilizar los ajustes de hiperparametros, encontramos que:\n",
    "\n",
    "Regresión Lineal: Proporciona una línea base simple para la predicción, pero\n",
    "puede no capturar todas las características estacionales y de tendencia en los datos.\n",
    "El modelo cumple con el requisito de una RECM no superior a 48, sugiriendo que puede \n",
    "ser adecuado para esta tarea de predicción de pedidos de taxis en la próxima hora.\n",
    "\n",
    "XGBoost: Maneja bien las no linealidades y mostró el mejor rendimiento, cumpliendo con la RECM requerida.\n"
   ]
  },
  {
   "cell_type": "markdown",
   "metadata": {},
   "source": [
    "  <div class=\"alert alert-block alert-success\">\n",
    "\n",
    "\n",
    " <b>Comentario del revisor. (Iteración 1)</b> <a class=\"tocSkip\"></a>\n",
    "\n",
    "Solo queda felicitarte Guillermo, te felicito por el proyecto y por el compromiso tanto con las conclusiones parciales como esta final, has demostrado una gran comprensión de lo aplicado y obtenido!    "
   ]
  },
  {
   "cell_type": "markdown",
   "metadata": {},
   "source": [
    "# Lista de revisión"
   ]
  },
  {
   "cell_type": "markdown",
   "metadata": {},
   "source": [
    "- [x]  \t\n",
    "Jupyter Notebook está abierto.\n",
    "- [ ]  El código no tiene errores\n",
    "- [ ]  Las celdas con el código han sido colocadas en el orden de ejecución.\n",
    "- [ ]  \t\n",
    "Los datos han sido descargados y preparados.\n",
    "- [ ]  Se ha realizado el paso 2: los datos han sido analizados\n",
    "- [ ]  Se entrenó el modelo y se seleccionaron los hiperparámetros\n",
    "- [ ]  Se han evaluado los modelos. Se expuso una conclusión\n",
    "- [ ] La *RECM* para el conjunto de prueba no es más de 48"
   ]
  }
 ],
 "metadata": {
  "ExecuteTimeLog": [
   {
    "duration": 5026,
    "start_time": "2024-07-30T06:31:43.701Z"
   },
   {
    "duration": 45,
    "start_time": "2024-07-30T06:31:48.730Z"
   },
   {
    "duration": 12,
    "start_time": "2024-07-30T06:31:48.778Z"
   },
   {
    "duration": 16,
    "start_time": "2024-07-30T06:38:30.292Z"
   },
   {
    "duration": 8,
    "start_time": "2024-07-30T06:51:59.545Z"
   },
   {
    "duration": 11,
    "start_time": "2024-07-30T06:52:33.251Z"
   },
   {
    "duration": 28,
    "start_time": "2024-07-30T06:52:49.062Z"
   },
   {
    "duration": 13,
    "start_time": "2024-07-30T06:52:49.946Z"
   },
   {
    "duration": 15,
    "start_time": "2024-07-30T06:52:59.433Z"
   },
   {
    "duration": 7,
    "start_time": "2024-07-30T06:53:47.278Z"
   },
   {
    "duration": 5,
    "start_time": "2024-07-30T06:53:55.040Z"
   },
   {
    "duration": 33,
    "start_time": "2024-07-30T06:54:15.843Z"
   },
   {
    "duration": 12,
    "start_time": "2024-07-30T06:54:17.356Z"
   },
   {
    "duration": 8,
    "start_time": "2024-07-30T06:54:28.763Z"
   },
   {
    "duration": 8,
    "start_time": "2024-07-30T06:54:31.534Z"
   },
   {
    "duration": 7,
    "start_time": "2024-07-30T06:54:32.550Z"
   },
   {
    "duration": 24,
    "start_time": "2024-07-30T06:58:58.150Z"
   },
   {
    "duration": 17,
    "start_time": "2024-07-30T06:58:59.288Z"
   },
   {
    "duration": 7,
    "start_time": "2024-07-30T06:59:22.183Z"
   },
   {
    "duration": 1513,
    "start_time": "2024-07-30T06:59:37.100Z"
   },
   {
    "duration": 30,
    "start_time": "2024-07-30T06:59:38.616Z"
   },
   {
    "duration": 17,
    "start_time": "2024-07-30T06:59:38.648Z"
   },
   {
    "duration": 9,
    "start_time": "2024-07-30T06:59:38.669Z"
   },
   {
    "duration": 1122,
    "start_time": "2024-07-30T06:59:38.681Z"
   },
   {
    "duration": 0,
    "start_time": "2024-07-30T06:59:39.806Z"
   },
   {
    "duration": 1474,
    "start_time": "2024-07-30T07:00:00.440Z"
   },
   {
    "duration": 37,
    "start_time": "2024-07-30T07:00:01.918Z"
   },
   {
    "duration": 15,
    "start_time": "2024-07-30T07:00:01.958Z"
   },
   {
    "duration": 8,
    "start_time": "2024-07-30T07:00:01.976Z"
   },
   {
    "duration": 42,
    "start_time": "2024-07-30T07:00:01.988Z"
   },
   {
    "duration": 8,
    "start_time": "2024-07-30T07:00:02.033Z"
   },
   {
    "duration": 7,
    "start_time": "2024-07-30T07:00:14.327Z"
   },
   {
    "duration": 368,
    "start_time": "2024-07-30T07:05:29.743Z"
   },
   {
    "duration": 745,
    "start_time": "2024-07-30T07:06:01.471Z"
   },
   {
    "duration": 9,
    "start_time": "2024-07-30T07:09:34.618Z"
   },
   {
    "duration": 16,
    "start_time": "2024-07-30T07:09:43.922Z"
   },
   {
    "duration": 18,
    "start_time": "2024-07-30T07:09:58.947Z"
   },
   {
    "duration": 10,
    "start_time": "2024-07-30T07:10:24.528Z"
   },
   {
    "duration": 9,
    "start_time": "2024-07-30T07:11:36.506Z"
   },
   {
    "duration": 11,
    "start_time": "2024-07-30T07:11:53.493Z"
   },
   {
    "duration": 6,
    "start_time": "2024-07-30T07:18:57.559Z"
   },
   {
    "duration": 105687,
    "start_time": "2024-07-30T07:20:59.246Z"
   },
   {
    "duration": 67,
    "start_time": "2024-07-30T07:22:44.937Z"
   },
   {
    "duration": 19,
    "start_time": "2024-07-30T07:22:45.007Z"
   },
   {
    "duration": 7,
    "start_time": "2024-07-30T07:24:39.365Z"
   },
   {
    "duration": 415,
    "start_time": "2024-07-30T07:24:39.983Z"
   },
   {
    "duration": 27,
    "start_time": "2024-07-30T07:24:40.559Z"
   },
   {
    "duration": 1919,
    "start_time": "2024-07-30T07:25:08.981Z"
   },
   {
    "duration": 0,
    "start_time": "2024-07-30T07:25:10.904Z"
   },
   {
    "duration": 0,
    "start_time": "2024-07-30T07:25:10.906Z"
   },
   {
    "duration": 0,
    "start_time": "2024-07-30T07:25:10.907Z"
   },
   {
    "duration": 0,
    "start_time": "2024-07-30T07:25:10.909Z"
   },
   {
    "duration": 0,
    "start_time": "2024-07-30T07:25:10.927Z"
   },
   {
    "duration": 0,
    "start_time": "2024-07-30T07:25:10.929Z"
   },
   {
    "duration": 0,
    "start_time": "2024-07-30T07:25:10.931Z"
   },
   {
    "duration": 0,
    "start_time": "2024-07-30T07:25:10.933Z"
   },
   {
    "duration": 0,
    "start_time": "2024-07-30T07:25:10.936Z"
   },
   {
    "duration": 0,
    "start_time": "2024-07-30T07:25:10.938Z"
   },
   {
    "duration": 0,
    "start_time": "2024-07-30T07:25:10.941Z"
   },
   {
    "duration": 0,
    "start_time": "2024-07-30T07:25:10.943Z"
   },
   {
    "duration": 0,
    "start_time": "2024-07-30T07:25:10.945Z"
   },
   {
    "duration": 0,
    "start_time": "2024-07-30T07:25:10.948Z"
   },
   {
    "duration": 0,
    "start_time": "2024-07-30T07:25:10.951Z"
   },
   {
    "duration": 0,
    "start_time": "2024-07-30T07:25:10.952Z"
   },
   {
    "duration": 0,
    "start_time": "2024-07-30T07:25:10.954Z"
   },
   {
    "duration": 0,
    "start_time": "2024-07-30T07:25:10.956Z"
   },
   {
    "duration": 0,
    "start_time": "2024-07-30T07:25:10.959Z"
   },
   {
    "duration": 0,
    "start_time": "2024-07-30T07:25:10.961Z"
   },
   {
    "duration": 1565,
    "start_time": "2024-07-30T07:38:33.128Z"
   },
   {
    "duration": 38,
    "start_time": "2024-07-30T07:38:34.697Z"
   },
   {
    "duration": 17,
    "start_time": "2024-07-30T07:38:34.741Z"
   },
   {
    "duration": 9,
    "start_time": "2024-07-30T07:38:34.765Z"
   },
   {
    "duration": 13,
    "start_time": "2024-07-30T07:38:34.780Z"
   },
   {
    "duration": 37,
    "start_time": "2024-07-30T07:38:34.795Z"
   },
   {
    "duration": 384,
    "start_time": "2024-07-30T07:38:34.835Z"
   },
   {
    "duration": 799,
    "start_time": "2024-07-30T07:38:35.223Z"
   },
   {
    "duration": 10,
    "start_time": "2024-07-30T07:38:36.025Z"
   },
   {
    "duration": 10,
    "start_time": "2024-07-30T07:38:36.041Z"
   },
   {
    "duration": 10,
    "start_time": "2024-07-30T07:38:36.054Z"
   },
   {
    "duration": 10,
    "start_time": "2024-07-30T07:38:36.069Z"
   },
   {
    "duration": 53,
    "start_time": "2024-07-30T07:38:36.081Z"
   },
   {
    "duration": 6,
    "start_time": "2024-07-30T07:38:36.138Z"
   },
   {
    "duration": 1502,
    "start_time": "2024-07-30T07:38:48.459Z"
   },
   {
    "duration": 33,
    "start_time": "2024-07-30T07:38:49.964Z"
   },
   {
    "duration": 34,
    "start_time": "2024-07-30T07:38:50.000Z"
   },
   {
    "duration": 8,
    "start_time": "2024-07-30T07:38:50.037Z"
   },
   {
    "duration": 11,
    "start_time": "2024-07-30T07:38:50.050Z"
   },
   {
    "duration": 8,
    "start_time": "2024-07-30T07:38:50.064Z"
   },
   {
    "duration": 403,
    "start_time": "2024-07-30T07:38:50.075Z"
   },
   {
    "duration": 750,
    "start_time": "2024-07-30T07:38:50.482Z"
   },
   {
    "duration": 9,
    "start_time": "2024-07-30T07:38:51.236Z"
   },
   {
    "duration": 9,
    "start_time": "2024-07-30T07:38:51.247Z"
   },
   {
    "duration": 10,
    "start_time": "2024-07-30T07:38:51.259Z"
   },
   {
    "duration": 10,
    "start_time": "2024-07-30T07:38:51.273Z"
   },
   {
    "duration": 11,
    "start_time": "2024-07-30T07:38:51.328Z"
   },
   {
    "duration": 7,
    "start_time": "2024-07-30T07:38:51.344Z"
   },
   {
    "duration": 3,
    "start_time": "2024-07-30T07:39:36.996Z"
   },
   {
    "duration": 10,
    "start_time": "2024-07-30T07:39:47.770Z"
   },
   {
    "duration": 5,
    "start_time": "2024-07-30T07:39:48.709Z"
   },
   {
    "duration": 5,
    "start_time": "2024-07-30T07:39:49.459Z"
   },
   {
    "duration": 4,
    "start_time": "2024-07-30T07:40:58.507Z"
   },
   {
    "duration": 8,
    "start_time": "2024-07-30T07:43:08.806Z"
   },
   {
    "duration": 6,
    "start_time": "2024-07-30T07:43:11.494Z"
   },
   {
    "duration": 1014,
    "start_time": "2024-07-30T07:46:25.825Z"
   },
   {
    "duration": 11,
    "start_time": "2024-07-30T07:46:26.844Z"
   },
   {
    "duration": 5,
    "start_time": "2024-07-30T07:46:26.983Z"
   },
   {
    "duration": 1532,
    "start_time": "2024-07-30T07:46:36.542Z"
   },
   {
    "duration": 35,
    "start_time": "2024-07-30T07:46:38.077Z"
   },
   {
    "duration": 17,
    "start_time": "2024-07-30T07:46:38.127Z"
   },
   {
    "duration": 10,
    "start_time": "2024-07-30T07:46:38.151Z"
   },
   {
    "duration": 15,
    "start_time": "2024-07-30T07:46:38.165Z"
   },
   {
    "duration": 48,
    "start_time": "2024-07-30T07:46:38.183Z"
   },
   {
    "duration": 384,
    "start_time": "2024-07-30T07:46:38.235Z"
   },
   {
    "duration": 795,
    "start_time": "2024-07-30T07:46:38.622Z"
   },
   {
    "duration": 13,
    "start_time": "2024-07-30T07:46:39.420Z"
   },
   {
    "duration": 8,
    "start_time": "2024-07-30T07:46:39.438Z"
   },
   {
    "duration": 11,
    "start_time": "2024-07-30T07:46:39.449Z"
   },
   {
    "duration": 10,
    "start_time": "2024-07-30T07:46:39.463Z"
   },
   {
    "duration": 50,
    "start_time": "2024-07-30T07:46:39.476Z"
   },
   {
    "duration": 7,
    "start_time": "2024-07-30T07:46:39.530Z"
   },
   {
    "duration": 9,
    "start_time": "2024-07-30T07:46:39.542Z"
   },
   {
    "duration": 5,
    "start_time": "2024-07-30T07:46:39.554Z"
   },
   {
    "duration": 4,
    "start_time": "2024-07-30T07:46:39.562Z"
   },
   {
    "duration": 1111,
    "start_time": "2024-07-30T07:46:39.569Z"
   },
   {
    "duration": 51,
    "start_time": "2024-07-30T07:46:40.682Z"
   },
   {
    "duration": 4,
    "start_time": "2024-07-30T07:46:40.736Z"
   },
   {
    "duration": 1486,
    "start_time": "2024-07-30T07:48:21.362Z"
   },
   {
    "duration": 33,
    "start_time": "2024-07-30T07:48:22.852Z"
   },
   {
    "duration": 15,
    "start_time": "2024-07-30T07:48:22.887Z"
   },
   {
    "duration": 30,
    "start_time": "2024-07-30T07:48:22.904Z"
   },
   {
    "duration": 11,
    "start_time": "2024-07-30T07:48:22.938Z"
   },
   {
    "duration": 8,
    "start_time": "2024-07-30T07:48:22.951Z"
   },
   {
    "duration": 405,
    "start_time": "2024-07-30T07:48:22.962Z"
   },
   {
    "duration": 750,
    "start_time": "2024-07-30T07:48:23.370Z"
   },
   {
    "duration": 10,
    "start_time": "2024-07-30T07:48:24.127Z"
   },
   {
    "duration": 9,
    "start_time": "2024-07-30T07:48:24.141Z"
   },
   {
    "duration": 10,
    "start_time": "2024-07-30T07:48:24.153Z"
   },
   {
    "duration": 11,
    "start_time": "2024-07-30T07:48:24.166Z"
   },
   {
    "duration": 52,
    "start_time": "2024-07-30T07:48:24.180Z"
   },
   {
    "duration": 7,
    "start_time": "2024-07-30T07:48:24.239Z"
   },
   {
    "duration": 10,
    "start_time": "2024-07-30T07:48:24.249Z"
   },
   {
    "duration": 5,
    "start_time": "2024-07-30T07:48:24.262Z"
   },
   {
    "duration": 4,
    "start_time": "2024-07-30T07:48:24.270Z"
   },
   {
    "duration": 1101,
    "start_time": "2024-07-30T07:48:24.327Z"
   },
   {
    "duration": 9,
    "start_time": "2024-07-30T07:48:25.431Z"
   },
   {
    "duration": 4,
    "start_time": "2024-07-30T07:48:25.443Z"
   },
   {
    "duration": 1475,
    "start_time": "2024-07-30T07:53:35.866Z"
   },
   {
    "duration": 32,
    "start_time": "2024-07-30T07:53:37.345Z"
   },
   {
    "duration": 14,
    "start_time": "2024-07-30T07:53:37.380Z"
   },
   {
    "duration": 32,
    "start_time": "2024-07-30T07:53:37.397Z"
   },
   {
    "duration": 10,
    "start_time": "2024-07-30T07:53:37.434Z"
   },
   {
    "duration": 9,
    "start_time": "2024-07-30T07:53:37.447Z"
   },
   {
    "duration": 395,
    "start_time": "2024-07-30T07:53:37.460Z"
   },
   {
    "duration": 781,
    "start_time": "2024-07-30T07:53:37.858Z"
   },
   {
    "duration": 9,
    "start_time": "2024-07-30T07:53:38.642Z"
   },
   {
    "duration": 10,
    "start_time": "2024-07-30T07:53:38.654Z"
   },
   {
    "duration": 11,
    "start_time": "2024-07-30T07:53:38.666Z"
   },
   {
    "duration": 51,
    "start_time": "2024-07-30T07:53:38.681Z"
   },
   {
    "duration": 11,
    "start_time": "2024-07-30T07:53:38.734Z"
   },
   {
    "duration": 6,
    "start_time": "2024-07-30T07:53:38.750Z"
   },
   {
    "duration": 8,
    "start_time": "2024-07-30T07:53:38.760Z"
   },
   {
    "duration": 5,
    "start_time": "2024-07-30T07:53:38.772Z"
   },
   {
    "duration": 5,
    "start_time": "2024-07-30T07:53:38.827Z"
   },
   {
    "duration": 1132,
    "start_time": "2024-07-30T07:53:38.836Z"
   },
   {
    "duration": 10,
    "start_time": "2024-07-30T07:53:39.970Z"
   },
   {
    "duration": 45,
    "start_time": "2024-07-30T07:53:39.983Z"
   },
   {
    "duration": 1525,
    "start_time": "2024-07-30T07:56:38.863Z"
   },
   {
    "duration": 4,
    "start_time": "2024-07-30T07:57:00.786Z"
   },
   {
    "duration": 5,
    "start_time": "2024-07-30T07:57:30.049Z"
   },
   {
    "duration": 5,
    "start_time": "2024-07-30T07:59:50.196Z"
   },
   {
    "duration": 1491,
    "start_time": "2024-07-30T08:02:40.848Z"
   },
   {
    "duration": 34,
    "start_time": "2024-07-30T08:02:42.343Z"
   },
   {
    "duration": 15,
    "start_time": "2024-07-30T08:02:42.380Z"
   },
   {
    "duration": 33,
    "start_time": "2024-07-30T08:02:42.398Z"
   },
   {
    "duration": 11,
    "start_time": "2024-07-30T08:02:42.436Z"
   },
   {
    "duration": 7,
    "start_time": "2024-07-30T08:02:42.450Z"
   },
   {
    "duration": 395,
    "start_time": "2024-07-30T08:02:42.460Z"
   },
   {
    "duration": 753,
    "start_time": "2024-07-30T08:02:42.858Z"
   },
   {
    "duration": 18,
    "start_time": "2024-07-30T08:02:43.614Z"
   },
   {
    "duration": 8,
    "start_time": "2024-07-30T08:02:43.636Z"
   },
   {
    "duration": 11,
    "start_time": "2024-07-30T08:02:43.648Z"
   },
   {
    "duration": 11,
    "start_time": "2024-07-30T08:02:43.661Z"
   },
   {
    "duration": 59,
    "start_time": "2024-07-30T08:02:43.674Z"
   },
   {
    "duration": 9,
    "start_time": "2024-07-30T08:02:43.738Z"
   },
   {
    "duration": 9,
    "start_time": "2024-07-30T08:02:43.749Z"
   },
   {
    "duration": 5,
    "start_time": "2024-07-30T08:02:43.761Z"
   },
   {
    "duration": 5,
    "start_time": "2024-07-30T08:02:43.770Z"
   },
   {
    "duration": 1084,
    "start_time": "2024-07-30T08:02:43.778Z"
   },
   {
    "duration": 9,
    "start_time": "2024-07-30T08:02:44.865Z"
   },
   {
    "duration": 5,
    "start_time": "2024-07-30T08:02:44.876Z"
   },
   {
    "duration": 31,
    "start_time": "2024-07-30T08:02:44.925Z"
   },
   {
    "duration": 160201,
    "start_time": "2024-07-30T08:02:44.958Z"
   },
   {
    "duration": 5513,
    "start_time": "2024-07-30T08:05:25.163Z"
   },
   {
    "duration": 473,
    "start_time": "2024-07-30T08:06:28.888Z"
   },
   {
    "duration": 5195,
    "start_time": "2024-07-30T08:10:48.032Z"
   },
   {
    "duration": 6,
    "start_time": "2024-07-30T08:11:32.861Z"
   },
   {
    "duration": 1489,
    "start_time": "2024-07-30T08:11:42.188Z"
   },
   {
    "duration": 35,
    "start_time": "2024-07-30T08:11:43.680Z"
   },
   {
    "duration": 19,
    "start_time": "2024-07-30T08:11:43.718Z"
   },
   {
    "duration": 8,
    "start_time": "2024-07-30T08:11:43.739Z"
   },
   {
    "duration": 11,
    "start_time": "2024-07-30T08:11:43.752Z"
   },
   {
    "duration": 8,
    "start_time": "2024-07-30T08:11:43.766Z"
   },
   {
    "duration": 426,
    "start_time": "2024-07-30T08:11:43.777Z"
   },
   {
    "duration": 787,
    "start_time": "2024-07-30T08:11:44.206Z"
   },
   {
    "duration": 9,
    "start_time": "2024-07-30T08:11:44.998Z"
   },
   {
    "duration": 22,
    "start_time": "2024-07-30T08:11:45.011Z"
   },
   {
    "duration": 11,
    "start_time": "2024-07-30T08:11:45.037Z"
   },
   {
    "duration": 10,
    "start_time": "2024-07-30T08:11:45.051Z"
   },
   {
    "duration": 11,
    "start_time": "2024-07-30T08:11:45.063Z"
   },
   {
    "duration": 46,
    "start_time": "2024-07-30T08:11:45.081Z"
   },
   {
    "duration": 10,
    "start_time": "2024-07-30T08:11:45.131Z"
   },
   {
    "duration": 5,
    "start_time": "2024-07-30T08:11:45.143Z"
   },
   {
    "duration": 4,
    "start_time": "2024-07-30T08:11:45.152Z"
   },
   {
    "duration": 1012,
    "start_time": "2024-07-30T08:11:45.159Z"
   },
   {
    "duration": 53,
    "start_time": "2024-07-30T08:11:46.175Z"
   },
   {
    "duration": 5,
    "start_time": "2024-07-30T08:11:46.231Z"
   },
   {
    "duration": 6,
    "start_time": "2024-07-30T08:11:46.239Z"
   },
   {
    "duration": 8,
    "start_time": "2024-07-30T08:11:46.248Z"
   },
   {
    "duration": 160112,
    "start_time": "2024-07-30T08:11:46.259Z"
   },
   {
    "duration": 5599,
    "start_time": "2024-07-30T08:14:26.377Z"
   },
   {
    "duration": 5237,
    "start_time": "2024-08-01T01:21:36.627Z"
   },
   {
    "duration": 45,
    "start_time": "2024-08-01T01:21:41.869Z"
   },
   {
    "duration": 16,
    "start_time": "2024-08-01T01:21:41.918Z"
   },
   {
    "duration": 7,
    "start_time": "2024-08-01T01:21:41.938Z"
   },
   {
    "duration": 11,
    "start_time": "2024-08-01T01:21:41.948Z"
   },
   {
    "duration": 8,
    "start_time": "2024-08-01T01:21:41.962Z"
   },
   {
    "duration": 341,
    "start_time": "2024-08-01T01:21:43.801Z"
   },
   {
    "duration": 854,
    "start_time": "2024-08-01T01:21:44.776Z"
   },
   {
    "duration": 9,
    "start_time": "2024-08-01T01:24:13.909Z"
   },
   {
    "duration": 68,
    "start_time": "2024-08-01T01:24:14.258Z"
   },
   {
    "duration": 10,
    "start_time": "2024-08-01T01:24:14.419Z"
   },
   {
    "duration": 10,
    "start_time": "2024-08-01T01:24:14.574Z"
   },
   {
    "duration": 10,
    "start_time": "2024-08-01T01:24:14.748Z"
   }
  ],
  "kernelspec": {
   "display_name": "Python 3 (ipykernel)",
   "language": "python",
   "name": "python3"
  },
  "language_info": {
   "codemirror_mode": {
    "name": "ipython",
    "version": 3
   },
   "file_extension": ".py",
   "mimetype": "text/x-python",
   "name": "python",
   "nbconvert_exporter": "python",
   "pygments_lexer": "ipython3",
   "version": "3.9.19"
  },
  "toc": {
   "base_numbering": 1,
   "nav_menu": {},
   "number_sections": true,
   "sideBar": true,
   "skip_h1_title": true,
   "title_cell": "Table of Contents",
   "title_sidebar": "Contents",
   "toc_cell": false,
   "toc_position": {},
   "toc_section_display": true,
   "toc_window_display": false
  }
 },
 "nbformat": 4,
 "nbformat_minor": 2
}
