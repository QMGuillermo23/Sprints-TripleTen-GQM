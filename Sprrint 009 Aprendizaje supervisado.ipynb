{
 "cells": [
  {
   "cell_type": "markdown",
   "metadata": {},
   "source": [
    "# Hola Guillermo!\n",
    "\n",
    "Mi nombre es David Bautista, soy code reviewer de TripleTen y voy a revisar el proyecto que acabas de desarrollar.\n",
    "\n",
    "Cuando vea un error la primera vez, lo señalaré. Deberás encontrarlo y arreglarlo. La intención es que te prepares para un espacio real de trabajo. En un trabajo, el líder de tu equipo hará lo mismo. Si no puedes solucionar el error, te daré más información en la próxima ocasión.\n",
    "\n",
    "Encontrarás mis comentarios más abajo - **por favor, no los muevas, no los modifiques ni los borres.**\n",
    "\n",
    "¿Cómo lo voy a hacer? Voy a leer detenidamente cada una de las implementaciones que has llevado a cabo para cumplir con lo solicitado. Verás los comentarios de esta forma:\n",
    "\n",
    "<div class=\"alert alert-block alert-success\">\n",
    "<b>Comentario del revisor</b> <a class=\"tocSkip\"></a>\n",
    "    \n",
    "Si todo está perfecto.\n",
    "</div>\n",
    "\n",
    "\n",
    "<div class=\"alert alert-block alert-warning\">\n",
    "<b>Comentario del revisor</b> <a class=\"tocSkip\"></a>\n",
    "    \n",
    "Si tu código está bien pero se puede mejorar o hay algún detalle que le hace falta.\n",
    "</div>\n",
    "\n",
    "\n",
    "<div class=\"alert alert-block alert-danger\">\n",
    "    \n",
    "<b>Comentario del revisor</b> <a class=\"tocSkip\"></a>\n",
    "    \n",
    "    \n",
    "Si de pronto hace falta algo o existe algún problema con tu código o conclusiones.\n",
    "</div>\n",
    "\n",
    "\n",
    "Puedes responderme de esta forma: \n",
    "\n",
    "<div class=\"alert alert-block alert-info\">\n",
    "<b>Respuesta del estudiante</b> <a class=\"tocSkip\"></a>\n",
    "</div>\n",
    "\n",
    "¡Empecemos!"
   ]
  },
  {
   "cell_type": "markdown",
   "metadata": {},
   "source": [
    "\n",
    "<div class=\"alert alert-block alert-danger\">\n",
    "<b>Comentario del revisor</b> <a class=\"tocSkip\"></a>\n",
    "     \n",
    "# Comentario General \n",
    "\n",
    "~~Hola, Guillermo, te felicito por el desarrollo del proyecto hasta el momento. Ahora bien, he dejado algunos comentarios para que los puedas tener en cuenta para la próxima entrega. Por otro lado, te recomiendo tener en cuenta un detalle sobre el orden del proyecto, fíjate que dejas muchas celdas vacías; estas podrían ser eliminadas o remplazadas por comentarios intermedios que guían el desarrollo del proyecto.~~ </div>\n",
    "\n",
    "\n",
    "<div class=\"alert alert-block alert-danger\">\n",
    "<b>Comentario del revisor</b> <a class=\"tocSkip\"></a>\n",
    "     \n",
    "# Comentario General #2\n",
    "\n",
    "~~Hola, Guillermo, he dejado nuevos comentarios para que los puedas tener en cuenta para la sigiente entrega.~~  </div>\n",
    "\n",
    "\n",
    "<div class=\"alert alert-block alert-success\">\n",
    "<b>Comentario del revisor</b> <a class=\"tocSkip\"></a>\n",
    "     \n",
    "# Comentario General #3\n",
    "\n",
    "Buen trabajo Guillermo, te felicito por la culminación del proyecto.  </div>"
   ]
  },
  {
   "cell_type": "markdown",
   "metadata": {},
   "source": [
    "<div class=\"alert alert-block alert-info\">\n",
    "<b>Queria tener espacio, para poner los comentarios pertinentes, para que el code reviewer los utilizara pero bueno creo que para eso estan las funciones de a y b con el teclado </b> <a class=\"tocSkip\"></a>\n",
    "</div>"
   ]
  },
  {
   "cell_type": "markdown",
   "metadata": {},
   "source": [
    "<div class=\"alert alert-block alert-info\">\n",
    "<b>No podia instalar \"\"from imblearn.under_sampling import RandomUnderSampler\"\" asi que tuve que investigar, espero tus observaciones   </b> <a class=\"tocSkip\"></a>\n",
    "</div>"
   ]
  },
  {
   "cell_type": "markdown",
   "metadata": {},
   "source": [
    "\n",
    "<div class=\"alert alert-block alert-success\">\n",
    "<b>Comentario del revisor #2</b> <a class=\"tocSkip\"></a>\n",
    "     \n",
    "Entiendo Guillermo. </div>"
   ]
  },
  {
   "cell_type": "markdown",
   "metadata": {},
   "source": [
    "# PROYECTO 009"
   ]
  },
  {
   "cell_type": "markdown",
   "metadata": {},
   "source": [
    "## INTRODUCCIÓN"
   ]
  },
  {
   "cell_type": "markdown",
   "metadata": {},
   "source": [
    "El proyecto tiene como objetivo predecir si un cliente dejará Beta Bank en un futuro cercano. Utilizando datos históricos sobre el comportamiento de los clientes, crearemos y evaluaremos varios modelos de aprendizaje automático para identificar los clientes que tienen más probabilidades de abandonar el banco. \n",
    "\n",
    "El enfoque principal es maximizar la métrica F1 y también evaluar la métrica AUC-ROC para garantizar que el modelo no solo tenga un buen rendimiento en términos de precisión y recuperación, sino también en términos de la capacidad de distinguir entre las clases."
   ]
  },
  {
   "cell_type": "markdown",
   "metadata": {},
   "source": [
    "\n",
    "<div class=\"alert alert-block alert-success\">\n",
    "<b>Comentario del revisor</b> <a class=\"tocSkip\"></a>\n",
    "     \n",
    "Hola Guillermo, buen trabajo con el desarrollo de esta sección de introducción del proyecto.  </div>"
   ]
  },
  {
   "cell_type": "markdown",
   "metadata": {},
   "source": [
    "## IMPORTAR Y CARGAR DATAFRAME"
   ]
  },
  {
   "cell_type": "code",
   "execution_count": null,
   "metadata": {},
   "outputs": [],
   "source": [
    "import pandas as pd\n",
    "import numpy as np\n",
    "from sklearn.tree import DecisionTreeClassifier\n",
    "from sklearn.metrics import accuracy_score, f1_score, roc_auc_score\n",
    "from sklearn.model_selection import train_test_split\n",
    "from sklearn.linear_model import LogisticRegression\n",
    "import matplotlib.pyplot as plt\n",
    "from sklearn.preprocessing import LabelEncoder, StandardScaler ,OrdinalEncoder\n",
    "import seaborn as sns\n",
    "from imblearn.under_sampling import RandomUnderSampler"
   ]
  },
  {
   "cell_type": "markdown",
   "metadata": {},
   "source": [
    "\n",
    "<div class=\"alert alert-block alert-success\">\n",
    "<b>Comentario del revisor</b> <a class=\"tocSkip\"></a>\n",
    "     \n",
    "Buen trabajo importando las librerías necesarias para el desarrollo del proyecto.   </div>"
   ]
  },
  {
   "cell_type": "code",
   "execution_count": null,
   "metadata": {},
   "outputs": [],
   "source": [
    "data_churn = pd.read_csv('/datasets/Churn.csv')"
   ]
  },
  {
   "cell_type": "markdown",
   "metadata": {},
   "source": [
    "\n",
    "<div class=\"alert alert-block alert-success\">\n",
    "<b>Comentario del revisor</b> <a class=\"tocSkip\"></a>\n",
    "     \n",
    "Genial, buen trabajo con la carga del dataset.   </div>"
   ]
  },
  {
   "cell_type": "markdown",
   "metadata": {},
   "source": [
    "## PROCESAMIENTO DEL DATAFRAME"
   ]
  },
  {
   "cell_type": "markdown",
   "metadata": {},
   "source": [
    "### Usar.info()"
   ]
  },
  {
   "cell_type": "code",
   "execution_count": null,
   "metadata": {},
   "outputs": [],
   "source": [
    "data_churn.info()"
   ]
  },
  {
   "cell_type": "markdown",
   "metadata": {},
   "source": [
    "Como podemos observar la columna Tenure tiene 909 valores null"
   ]
  },
  {
   "cell_type": "markdown",
   "metadata": {},
   "source": [
    "###  Usar .lower()"
   ]
  },
  {
   "cell_type": "code",
   "execution_count": null,
   "metadata": {},
   "outputs": [],
   "source": [
    "data_churn.columns = data_churn.columns.str.lower()"
   ]
  },
  {
   "cell_type": "markdown",
   "metadata": {},
   "source": [
    "Minimice los titulos de las columnas para tener un mejor manejo del Dataframe"
   ]
  },
  {
   "cell_type": "markdown",
   "metadata": {},
   "source": [
    "\n",
    "<div class=\"alert alert-block alert-success\">\n",
    "<b>Comentario del revisor</b> <a class=\"tocSkip\"></a>\n",
    "     \n",
    "Buen trabajo usando el método info para explorar de manera inicial el dataframe y normalizando el nombre de las columnas.    </div>"
   ]
  },
  {
   "cell_type": "markdown",
   "metadata": {},
   "source": [
    "### Revisar la tabla del Dataframe"
   ]
  },
  {
   "cell_type": "code",
   "execution_count": null,
   "metadata": {},
   "outputs": [],
   "source": [
    "data_churn"
   ]
  },
  {
   "cell_type": "markdown",
   "metadata": {},
   "source": [
    "Tenemos que eliminar columnas irrelevantes: como 'RowNumber', 'CustomerId' y 'Surname' no son útiles para el modelo de predicción."
   ]
  },
  {
   "cell_type": "markdown",
   "metadata": {},
   "source": [
    "### Usar .drop()"
   ]
  },
  {
   "cell_type": "code",
   "execution_count": null,
   "metadata": {},
   "outputs": [],
   "source": [
    "data_churn_00 = data_churn.drop(['rownumber', 'customerid', 'surname'], axis=1)\n",
    "data_churn_00"
   ]
  },
  {
   "cell_type": "markdown",
   "metadata": {},
   "source": [
    "Ya elimidanos las columnas que no son utiles para la predicción."
   ]
  },
  {
   "cell_type": "markdown",
   "metadata": {},
   "source": [
    "### .null()"
   ]
  },
  {
   "cell_type": "code",
   "execution_count": null,
   "metadata": {},
   "outputs": [],
   "source": [
    "print(data_churn_00.isnull().sum())"
   ]
  },
  {
   "cell_type": "markdown",
   "metadata": {},
   "source": [
    "Identificamos la columna que tiene datos null"
   ]
  },
  {
   "cell_type": "markdown",
   "metadata": {},
   "source": [
    "### .isinf()"
   ]
  },
  {
   "cell_type": "code",
   "execution_count": null,
   "metadata": {},
   "outputs": [],
   "source": [
    "print((data_churn_00.select_dtypes(include=[np.number]) == np.inf).sum())"
   ]
  },
  {
   "cell_type": "markdown",
   "metadata": {},
   "source": [
    "### Eliminar Valores .null() and.inf()"
   ]
  },
  {
   "cell_type": "code",
   "execution_count": null,
   "metadata": {},
   "outputs": [],
   "source": [
    "data_churn_00.fillna(data_churn_00.mean(numeric_only=True), inplace=True)"
   ]
  },
  {
   "cell_type": "code",
   "execution_count": null,
   "metadata": {},
   "outputs": [],
   "source": [
    "data_churn_00.replace([np.inf, -np.inf], np.nan, inplace=True)\n",
    "data_churn_00.fillna(data_churn_00.mean(numeric_only=True), inplace=True)"
   ]
  },
  {
   "cell_type": "markdown",
   "metadata": {},
   "source": [
    "\n",
    "<div class=\"alert alert-block alert-success\">\n",
    "<b>Comentario del revisor</b> <a class=\"tocSkip\"></a>\n",
    "     \n",
    "Perfecto, buen trabajo con las modificaciones realizadas al dataframe.     </div>"
   ]
  },
  {
   "cell_type": "markdown",
   "metadata": {},
   "source": [
    "## Procesamiento de Datos"
   ]
  },
  {
   "cell_type": "markdown",
   "metadata": {},
   "source": [
    "### Variables categóricas a numéricas"
   ]
  },
  {
   "cell_type": "code",
   "execution_count": null,
   "metadata": {},
   "outputs": [],
   "source": [
    "data_churn_00 = pd.get_dummies(data_churn_00, drop_first=True)"
   ]
  },
  {
   "cell_type": "markdown",
   "metadata": {},
   "source": [
    "### Usar .describe()"
   ]
  },
  {
   "cell_type": "code",
   "execution_count": null,
   "metadata": {},
   "outputs": [],
   "source": [
    "data_churn_00.columns = data_churn_00.columns.str.lower()\n",
    "data_churn_00.describe()"
   ]
  },
  {
   "cell_type": "markdown",
   "metadata": {},
   "source": [
    "\n",
    "<div class=\"alert alert-block alert-success\">\n",
    "<b>Comentario del revisor</b> <a class=\"tocSkip\"></a>\n",
    "     \n",
    "Perfecto, buen trabajo codificando las variables categóricas como dummies.      </div>"
   ]
  },
  {
   "cell_type": "markdown",
   "metadata": {},
   "source": [
    "### Separar características y objetivo"
   ]
  },
  {
   "cell_type": "code",
   "execution_count": null,
   "metadata": {},
   "outputs": [],
   "source": [
    "x = data_churn_00.drop ('exited', axis=1)\n",
    "y = data_churn_00['exited']"
   ]
  },
  {
   "cell_type": "code",
   "execution_count": null,
   "metadata": {},
   "outputs": [],
   "source": [
    "x.head(20)"
   ]
  },
  {
   "cell_type": "markdown",
   "metadata": {},
   "source": [
    "Como necesitamos procesar la predicción entre las variables X & Y"
   ]
  },
  {
   "cell_type": "code",
   "execution_count": null,
   "metadata": {},
   "outputs": [],
   "source": [
    "y.head(20)"
   ]
  },
  {
   "cell_type": "markdown",
   "metadata": {},
   "source": [
    "Como necesitamos procesar la predicción entre las variables X & Y"
   ]
  },
  {
   "cell_type": "markdown",
   "metadata": {},
   "source": [
    "### Usar .duplicated()"
   ]
  },
  {
   "cell_type": "code",
   "execution_count": null,
   "metadata": {},
   "outputs": [],
   "source": [
    "x.duplicated().sum()"
   ]
  },
  {
   "cell_type": "markdown",
   "metadata": {},
   "source": [
    "Como podemos observar no tenemos duplicados en la informacación de la variable X."
   ]
  },
  {
   "cell_type": "code",
   "execution_count": null,
   "metadata": {},
   "outputs": [],
   "source": [
    "y.duplicated().sum()"
   ]
  },
  {
   "cell_type": "markdown",
   "metadata": {},
   "source": [
    "La razón por la que tenemos tantos duplicados es que solo tenemos dos caracteristicas que son 1 y 0."
   ]
  },
  {
   "cell_type": "markdown",
   "metadata": {},
   "source": [
    "\n",
    "<div class=\"alert alert-block alert-success\">\n",
    "<b>Comentario del revisor</b> <a class=\"tocSkip\"></a>\n",
    "     \n",
    "Perfecto, buen trabajo separando las features de los targets y estudiando los dos datasets resultantes.     </div>"
   ]
  },
  {
   "cell_type": "markdown",
   "metadata": {},
   "source": [
    "## Dividir el Conjunto de Datos en Entrenamiento y Prueba"
   ]
  },
  {
   "cell_type": "code",
   "execution_count": null,
   "metadata": {},
   "outputs": [],
   "source": [
    "X_train, X_test, y_train, y_test = train_test_split(x, y, test_size=0.2, random_state=42)"
   ]
  },
  {
   "cell_type": "markdown",
   "metadata": {},
   "source": [
    "Esta línea de código divide los datos de entrada (x e y) en cuatro variables separadas: X_train, X_test, y_train y y_test. X_train y y_train contienen el 80% de los datos utilizados para entrenar el modelo, mientras que X_test y y_test contienen el 20% restante utilizado para evaluar el rendimiento del modelo entrenado"
   ]
  },
  {
   "cell_type": "markdown",
   "metadata": {},
   "source": [
    "\n",
    "<div class=\"alert alert-block alert-success\">\n",
    "<b>Comentario del revisor</b> <a class=\"tocSkip\"></a>\n",
    "     \n",
    "Buen trabajo con el split de los datos. </div>\n",
    "\n"
   ]
  },
  {
   "cell_type": "markdown",
   "metadata": {},
   "source": [
    "\n",
    "<div class=\"alert alert-block alert-danger\">\n",
    "<b>Comentario del revisor</b> <a class=\"tocSkip\"></a>\n",
    "     \n",
    "**Comentario Importante**\n",
    "\n",
    "~~Hola, Guillermo, buen trabajo hasta el momento; sin embargo, te recomiendo poder organizar las secciones de despliegue de los modelos por medio de la creación de comentarios intermedios que vayan guiando el desarrollo del proyecto. También te recomiendo ir eliminando las celdas vacías que no necesites para que el proyecto luzca más ordenado. Ten en cuenta los comentarios anteriores y continuaremos con la revisión del proyecto en la siguiente entrega.~~ </div>\n"
   ]
  },
  {
   "cell_type": "markdown",
   "metadata": {},
   "source": [
    "## Distribución de la Variable Objetivo"
   ]
  },
  {
   "cell_type": "code",
   "execution_count": null,
   "metadata": {},
   "outputs": [],
   "source": [
    "sns.countplot(x=y)\n",
    "plt.title('Distribución de la variable objetivo')\n",
    "plt.xlabel('Elementos de y')\n",
    "plt.ylabel('Elementos de x')\n",
    "plt.grid(True, which='both', linestyle='--', linewidth=0.5)\n",
    "plt.show()"
   ]
  },
  {
   "cell_type": "code",
   "execution_count": null,
   "metadata": {},
   "outputs": [],
   "source": [
    "class_counts = y.value_counts(normalize=True)\n",
    "print(class_counts)"
   ]
  },
  {
   "cell_type": "markdown",
   "metadata": {},
   "source": [
    "Con este enfoque, nos aseguramos de que los datos no contengan valores nulos o infinitos antes de entrenar el modelo, y podemos visualizar la distribución de la variable objetivo para entender mejor el equilibrio de clases."
   ]
  },
  {
   "cell_type": "markdown",
   "metadata": {},
   "source": [
    "\n",
    "<div class=\"alert alert-block alert-success\">\n",
    "<b>Comentario del revisor #2</b> <a class=\"tocSkip\"></a>\n",
    "     \n",
    "Perfecto, buen trabajo con el estudio del desbalance de las clases.  </div>"
   ]
  },
  {
   "cell_type": "markdown",
   "metadata": {},
   "source": [
    "## Entrenar un Modelo Inicial"
   ]
  },
  {
   "cell_type": "code",
   "execution_count": null,
   "metadata": {},
   "outputs": [],
   "source": [
    "model_dt = DecisionTreeClassifier(random_state=42)\n",
    "model_dt.fit(X_train, y_train)"
   ]
  },
  {
   "cell_type": "code",
   "execution_count": null,
   "metadata": {},
   "outputs": [],
   "source": [
    "y_pred_dt = model_dt.predict(X_test)"
   ]
  },
  {
   "cell_type": "code",
   "execution_count": null,
   "metadata": {},
   "outputs": [],
   "source": [
    "f1_dt = f1_score(y_test, y_pred_dt)\n",
    "roc_auc_dt = roc_auc_score(y_test, y_pred_dt)"
   ]
  },
  {
   "cell_type": "markdown",
   "metadata": {},
   "source": [
    "Este código hace predicciones con el modelo entrenado y calcula métricas de rendimiento para evaluar su precisión y eficacia en clasificar los datos."
   ]
  },
  {
   "cell_type": "markdown",
   "metadata": {},
   "source": [
    "### Imprimir Modelo Inicial"
   ]
  },
  {
   "cell_type": "code",
   "execution_count": null,
   "metadata": {},
   "outputs": [],
   "source": [
    "print(f'F1 Score: {f1_dt:.4f}')"
   ]
  },
  {
   "cell_type": "markdown",
   "metadata": {},
   "source": [
    "La puntuación de F1 Score indica que el modelo de árbol de decisión tiene un rendimiento moderado. Un valor cercano a 1 indica un rendimiento excelente."
   ]
  },
  {
   "cell_type": "code",
   "execution_count": null,
   "metadata": {},
   "outputs": [],
   "source": [
    "print(f'AUC-ROC: {roc_auc_dt:.4f}')"
   ]
  },
  {
   "cell_type": "markdown",
   "metadata": {},
   "source": [
    "El valor de AUC-ROC indica que el modelo de árbol de decisión tiene un rendimiento moderado."
   ]
  },
  {
   "cell_type": "markdown",
   "metadata": {},
   "source": [
    "En general este algoritmo crea un modelo de árbol de decisión, lo entrena con los datos de entrenamiento, hace predicciones en los datos de prueba y calcula métricas de rendimiento como la puntuación F1 y AUC-ROC"
   ]
  },
  {
   "cell_type": "markdown",
   "metadata": {},
   "source": [
    "\n",
    "<div class=\"alert alert-block alert-success\">\n",
    "<b>Comentario del revisor #2</b> <a class=\"tocSkip\"></a>\n",
    "     \n",
    "Buen trabajo con el desarrollo del modelo sin tener en cuenta el desbalance de las clases, asi mismo con la evaluación del desempeño del mismo.   </div>"
   ]
  },
  {
   "cell_type": "markdown",
   "metadata": {},
   "source": [
    "## Árbol o Umbral de Decisión"
   ]
  },
  {
   "cell_type": "markdown",
   "metadata": {},
   "source": [
    "### Predecir Probabilidades con Umbral de Decisión"
   ]
  },
  {
   "cell_type": "code",
   "execution_count": null,
   "metadata": {},
   "outputs": [],
   "source": [
    "y_proba_dt = model_dt.predict_proba(X_test)[:, 1]"
   ]
  },
  {
   "cell_type": "markdown",
   "metadata": {},
   "source": [
    "Aquí se utilizan las características (X_test) de los datos de prueba para hacer predicciones de probabilidades con el modelo entrenado (model_dt).\n",
    "\n",
    "El método predict_proba() del modelo devuelve las probabilidades de pertenencia a la clase positiva para cada muestra en X_test.\n",
    "\n",
    "Las probabilidades se almacenan en la variable y_proba_dt"
   ]
  },
  {
   "cell_type": "code",
   "execution_count": null,
   "metadata": {},
   "outputs": [],
   "source": [
    "thresholds = [0.1 * i for i in range(1, 10)]\n",
    "\n",
    "f1_scores = [f1_score(y_test, (y_proba_dt > t).astype(int)) for t in thresholds]\n",
    "\n",
    "best_threshold = thresholds[f1_scores.index(max(f1_scores))]"
   ]
  },
  {
   "cell_type": "markdown",
   "metadata": {},
   "source": [
    "Esta lista contiene los umbrales de clasificación que se utilizarán para ajustar las predicciones de probabilidades.\n",
    "\n",
    "Los umbrales se establecen en valores entre 0.1 y 0.9, con incrementos de 0.1\n",
    "\n",
    "Esta lista contiene las puntuaciones F1 calculadas para cada umbral de clasificación.\n",
    "\n",
    "Se utiliza el umbral para convertir las probabilidades en predicciones binarias (0 o 1).\n",
    "\n",
    "La puntuación F1 se calcula utilizando las predicciones binarias y las etiquetas reales (y_test).\n",
    "\n",
    "Esta línea selecciona el umbral que produce la puntuación F1 más alta.\n",
    "\n",
    "El umbral óptimo se almacena en la variable best_threshold.\n",
    "\n",
    "Ajustar el umbral para maximizar F1"
   ]
  },
  {
   "cell_type": "code",
   "execution_count": null,
   "metadata": {},
   "outputs": [],
   "source": [
    "\n",
    "y_pred_dt_adjusted = (y_proba_dt > best_threshold).astype(int)\n",
    "\n",
    "\n",
    "f1_dt_adjusted = f1_score(y_test, y_pred_dt_adjusted)\n",
    "roc_auc_dt_adjusted = roc_auc_score(y_test, y_pred_dt_adjusted)"
   ]
  },
  {
   "cell_type": "markdown",
   "metadata": {},
   "source": [
    "Las predicciones ajustadas se almacenan en la variable y_pred_dt_adjusted\n",
    "\n",
    "Las métricas se almacenan en las variables f1_dt_adjusted y roc_auc_dt_adjusted\n",
    "\n",
    "Este algoritmo ajusta las predicciones de un modelo de aprendizaje automático utilizando umbrales de clasificación y selecciona el umbral óptimo para maximizar la precisión."
   ]
  },
  {
   "cell_type": "markdown",
   "metadata": {},
   "source": [
    "### Imprimir los modelos"
   ]
  },
  {
   "cell_type": "code",
   "execution_count": null,
   "metadata": {},
   "outputs": [],
   "source": [
    "print(f'Adjusted F1 Score: {f1_dt_adjusted}')"
   ]
  },
  {
   "cell_type": "markdown",
   "metadata": {},
   "source": [
    " La puntuación F1 ajustada del modelo, que combina precisión y exhaustividad."
   ]
  },
  {
   "cell_type": "code",
   "execution_count": null,
   "metadata": {},
   "outputs": [],
   "source": [
    "print(f'Adjusted AUC-ROC: {roc_auc_dt_adjusted}')"
   ]
  },
  {
   "cell_type": "markdown",
   "metadata": {},
   "source": [
    "La puntuación de ROC (AUC-ROC) ajustada del modelo, que evalúa su rendimiento en clasificación binaria."
   ]
  },
  {
   "cell_type": "markdown",
   "metadata": {},
   "source": [
    "Este algoritmo imprime los resultados ajustados de la puntuación F1 y la puntuación de ROC (AUC-ROC) del modelo, que se utilizan para evaluar su precisión y eficacia en clasificar los datos.\n",
    "\n",
    "Los valores de las métricas se utilizan para evaluar la precisión y la eficacia del modelo en clasificar los datos."
   ]
  },
  {
   "cell_type": "markdown",
   "metadata": {},
   "source": [
    "\n",
    "<div class=\"alert alert-block alert-success\">\n",
    "<b>Comentario del revisor #2</b> <a class=\"tocSkip\"></a>\n",
    "     \n",
    "Buen trabajo con el desarrollo del modelo bajo la mirada de optimización del umbral de decisión, así mismo buen trabajo con la evaluación del rendimiento del modelo.   </div>"
   ]
  },
  {
   "cell_type": "markdown",
   "metadata": {},
   "source": [
    "## Modelo de Regresión Logística"
   ]
  },
  {
   "cell_type": "markdown",
   "metadata": {},
   "source": [
    "### Regresión Logística"
   ]
  },
  {
   "cell_type": "code",
   "execution_count": null,
   "metadata": {},
   "outputs": [],
   "source": [
    "model_lr = LogisticRegression(random_state=42)\n",
    "model_lr.fit(X_train, y_train)"
   ]
  },
  {
   "cell_type": "markdown",
   "metadata": {},
   "source": [
    "Aquí se crea una instancia del modelo de regresión logística (LogisticRegression) de la biblioteca sklearn.linear_model.\n",
    "\n",
    "Se establece el parámetro random_state=42 para garantizar la reproducibilidad de los resultados.\n",
    "\n",
    "El método fit() entrena el modelo de regresión logística utilizando los datos de entrenamiento (X_train y y_train).\n",
    "\n",
    "La última línea simplemente muestra la configuración del modelo de regresión logística, que incluye el valor de random_state=42."
   ]
  },
  {
   "cell_type": "code",
   "execution_count": null,
   "metadata": {},
   "outputs": [],
   "source": [
    "y_pred_lr = model_lr.predict(X_test)\n",
    "f1_lr = f1_score(y_test, y_pred_lr)\n",
    "roc_auc_lr = roc_auc_score(y_test, y_pred_lr)"
   ]
  },
  {
   "cell_type": "markdown",
   "metadata": {},
   "source": [
    "La primera línea utiliza el modelo entrenado para hacer predicciones en los datos de prueba (X_test).\n",
    "\n",
    "La segunda línea calcula la puntuación F1 del modelo utilizando las etiquetas reales (y_test) y las predicciones (y_pred_lr).\n",
    "\n",
    "La tercera línea calcula el área bajo la curva ROC (AUC-ROC) utilizando las etiquetas reales (y_test) y las predicciones (y_pred_lr)."
   ]
  },
  {
   "cell_type": "markdown",
   "metadata": {},
   "source": [
    "En general este algoritmo crea un modelo de regresión logística, lo entrena con los datos de entrenamiento, hace predicciones en los datos de prueba y calcula métricas de rendimiento como la puntuación F1 y el AUC-ROC. \n",
    "\n",
    "Los valores numéricos de estas métricas indican que el modelo tiene un rendimiento moderado en la clasificación de los datos."
   ]
  },
  {
   "cell_type": "markdown",
   "metadata": {},
   "source": [
    "### Imprimir los Modelos"
   ]
  },
  {
   "cell_type": "code",
   "execution_count": null,
   "metadata": {},
   "outputs": [],
   "source": [
    "print(f'F1 Score: {f1_lr}')"
   ]
  },
  {
   "cell_type": "markdown",
   "metadata": {},
   "source": [
    "Indica que el modelo tiene una precisión moderada en la clasificación, pero no es muy efectivo en detectar todos los casos positivos."
   ]
  },
  {
   "cell_type": "code",
   "execution_count": null,
   "metadata": {},
   "outputs": [],
   "source": [
    "print(f'AUC-ROC: {roc_auc_lr}')"
   ]
  },
  {
   "cell_type": "markdown",
   "metadata": {},
   "source": [
    "El modelo tiene un rendimiento moderado en la clasificación binaria, pero no es muy efectivo en distinguir entre las clases."
   ]
  },
  {
   "cell_type": "markdown",
   "metadata": {},
   "source": [
    "\n",
    "<div class=\"alert alert-block alert-success\">\n",
    "<b>Comentario del revisor #2</b> <a class=\"tocSkip\"></a>\n",
    "     \n",
    "Buen trabajo con el desarrollo de la regresión logistica sin tener en cuenta el desbalance, asi mismo con la evaluación del desempeño del modelo.   </div>"
   ]
  },
  {
   "cell_type": "markdown",
   "metadata": {},
   "source": [
    "## Mejorar el Modelo"
   ]
  },
  {
   "cell_type": "markdown",
   "metadata": {},
   "source": [
    "### Entrenar Modelo"
   ]
  },
  {
   "cell_type": "code",
   "execution_count": null,
   "metadata": {},
   "outputs": [],
   "source": [
    "model_lr_balanced = LogisticRegression(random_state=42, class_weight='balanced')\n",
    "model_lr_balanced.fit(X_train, y_train)"
   ]
  },
  {
   "cell_type": "markdown",
   "metadata": {},
   "source": [
    "Aquí se crea una instancia del modelo de Regresión Logística (LogisticRegression) de la biblioteca sklearn.linear_model.\n",
    "\n",
    "Se establece random_state=42 para garantizar la reproducibilidad de los resultados.\n",
    "\n",
    "Se utiliza class_weight='balanced' para ajustar automáticamente los pesos de las clases en función de sus frecuencias en los datos de entrenamiento.\n",
    "\n",
    "El modelo se entrena utilizando los datos de entrenamiento (X_train y y_train) con el método fit()."
   ]
  },
  {
   "cell_type": "code",
   "execution_count": null,
   "metadata": {},
   "outputs": [],
   "source": [
    "y_pred_lr_balanced = model_lr_balanced.predict(X_test)\n",
    "f1_lr_balanced = f1_score(y_test, y_pred_lr_balanced)\n",
    "roc_auc_lr_balanced = roc_auc_score(y_test, y_pred_lr_balanced)"
   ]
  },
  {
   "cell_type": "markdown",
   "metadata": {},
   "source": [
    "Para abordar el desequilibrio de clases, podemos aplicar técnicas como ajuste de peso de clases o submuestreo.\n",
    "\n",
    "Se utilizan las características de los datos de prueba (X_test) para hacer predicciones con el modelo entrenado.\n",
    "\n",
    "Se calcula la puntuación F1 utilizando las etiquetas reales (y_test) y las predicciones (y_pred_lr_balanced).\n",
    "\n",
    "Se calcula el área bajo la curva ROC (AUC-ROC) utilizando las etiquetas reales (y_test) y las predicciones (y_pred_lr_balanced)."
   ]
  },
  {
   "cell_type": "markdown",
   "metadata": {},
   "source": [
    "### Imprimir Modelo"
   ]
  },
  {
   "cell_type": "code",
   "execution_count": null,
   "metadata": {},
   "outputs": [],
   "source": [
    "print(f'F1 Score para Regresión Logística (ajuste de pesos): {f1_lr_balanced}')\n"
   ]
  },
  {
   "cell_type": "code",
   "execution_count": null,
   "metadata": {},
   "outputs": [],
   "source": [
    "print(f'AUC-ROC para Regresión Logística (ajuste de pesos): {roc_auc_lr_balanced}')"
   ]
  },
  {
   "cell_type": "markdown",
   "metadata": {},
   "source": [
    "Tiene un rendimiento moderado. La puntuación F1 de aproximadamente 0.42 sugiere que el modelo tiene una precisión y \n",
    "\n",
    "exhaustividad equilibradas, pero aún hay margen de mejora. El AUC-ROC de aproximadamente 0.65 indica que el modelo tiene una \n",
    "\n",
    "capacidad de discriminación entre clases ligeramente por encima del azar (0.5)"
   ]
  },
  {
   "cell_type": "markdown",
   "metadata": {},
   "source": [
    "## Remuestreos de los Datos"
   ]
  },
  {
   "cell_type": "markdown",
   "metadata": {},
   "source": [
    "### Entrenera el Remuestreo"
   ]
  },
  {
   "cell_type": "code",
   "execution_count": null,
   "metadata": {},
   "outputs": [],
   "source": [
    "undersample = RandomUnderSampler(random_state=42)\n",
    "X_train_under, y_train_under = undersample.fit_resample(X_train, y_train)"
   ]
  },
  {
   "cell_type": "code",
   "execution_count": null,
   "metadata": {},
   "outputs": [],
   "source": [
    "model_under = LogisticRegression(random_state=42)\n",
    "model_under.fit(X_train_under, y_train_under)\n",
    "y_pred_under = model_under.predict(X_test)"
   ]
  },
  {
   "cell_type": "code",
   "execution_count": null,
   "metadata": {},
   "outputs": [],
   "source": [
    "f1_under = f1_score(y_test, y_pred_under)\n",
    "roc_auc_under = roc_auc_score(y_test, model_under.predict_proba(X_test)[:, 1])"
   ]
  },
  {
   "cell_type": "markdown",
   "metadata": {},
   "source": [
    "Aplicar submuestreo al conjunto de entrenamiento\n",
    "Entrenar el modelo con under-sampling\n",
    "Evaluar el modelo\n",
    "El submuestreo aleatorio (RandomUnderSampler) es una técnica para manejar el desequilibrio de clases. Esta técnica reduce el número de ejemplos en la clase mayoritaria para igualar la clase minoritaria, creando un conjunto de datos más equilibrado."
   ]
  },
  {
   "cell_type": "markdown",
   "metadata": {},
   "source": [
    "### Imprimir el Remuestreo"
   ]
  },
  {
   "cell_type": "code",
   "execution_count": null,
   "metadata": {},
   "outputs": [],
   "source": [
    "print(f'F1 Score (Under-sampling): {f1_under}')\n",
    "print(f'AUC-ROC (Under-sampling): {roc_auc_under}')"
   ]
  },
  {
   "cell_type": "markdown",
   "metadata": {},
   "source": [
    "El submuestreo logra un AUC-ROC decente, pero el F1 Score es bajo, lo que sugiere que la capacidad del modelo para identificar correctamente tanto las clases positivas como negativas es limitada. La pérdida de información de la clase mayoritaria probablemente ha afectado negativamente al modelo."
   ]
  },
  {
   "cell_type": "markdown",
   "metadata": {},
   "source": [
    "\n",
    "<div class=\"alert alert-block alert-success\">\n",
    "<b>Comentario del revisor #2</b> <a class=\"tocSkip\"></a>\n",
    "     \n",
    "Buen trabajo con el desarrollo de la regresión logística con el uso de argumento de balanceo, así mismo buen trabajo con la evaluación del desempeño.    </div>"
   ]
  },
  {
   "cell_type": "markdown",
   "metadata": {},
   "source": [
    "\n",
    "<div class=\"alert alert-block alert-danger\">\n",
    "<b>Comentario del revisor #2</b> <a class=\"tocSkip\"></a>\n",
    "     \n",
    "~~Previo al desarrollo de la prueba final, sería interesante desplegar algún modelo donde se implemente un remuestreos de los datos, ya sea oversample o undersample.~~    </div>"
   ]
  },
  {
   "cell_type": "markdown",
   "metadata": {},
   "source": [
    "\n",
    "<div class=\"alert alert-block alert-success\">\n",
    "<b>Comentario del revisor #3</b> <a class=\"tocSkip\"></a>\n",
    "     \n",
    "Buen trabajo Guillermo.   </div>"
   ]
  },
  {
   "cell_type": "markdown",
   "metadata": {},
   "source": [
    "## Prueba Final"
   ]
  },
  {
   "cell_type": "markdown",
   "metadata": {},
   "source": [
    "### Entranar Modelo Final"
   ]
  },
  {
   "cell_type": "code",
   "execution_count": null,
   "metadata": {},
   "outputs": [],
   "source": [
    "final_model = model_lr_balanced\n",
    "final_y_pred = final_model.predict(X_test)"
   ]
  },
  {
   "cell_type": "markdown",
   "metadata": {},
   "source": [
    "Evaluación final del modelo\n",
    "\n",
    "Aquí se crea una instancia del modelo de Regresión Logística con ajuste de pesos (model_lr_balanced) y se asigna a la variable final_model.\n",
    "\n",
    "Se utilizan las características de los datos de prueba (X_test) para hacer predicciones con el modelo final (final_model) para la variable final_y_pred."
   ]
  },
  {
   "cell_type": "code",
   "execution_count": null,
   "metadata": {},
   "outputs": [],
   "source": [
    "final_f1 = f1_score(y_test, final_y_pred)\n",
    "final_roc_auc = roc_auc_score(y_test, final_y_pred)"
   ]
  },
  {
   "cell_type": "markdown",
   "metadata": {},
   "source": [
    "Métricas finales\n",
    "\n",
    "Se calcula la puntuación F1 utilizando las etiquetas reales (y_test) y las predicciones (final_y_pred).\n",
    "\n",
    "Se calcula el área bajo la curva ROC (AUC-ROC) utilizando las etiquetas reales (y_test) y las predicciones (final_y_pred)."
   ]
  },
  {
   "cell_type": "markdown",
   "metadata": {},
   "source": [
    "### Imprimir Modelo"
   ]
  },
  {
   "cell_type": "code",
   "execution_count": null,
   "metadata": {},
   "outputs": [],
   "source": [
    "print(f'F1 Score final: {final_f1}')"
   ]
  },
  {
   "cell_type": "code",
   "execution_count": null,
   "metadata": {},
   "outputs": [],
   "source": [
    "print(f'AUC-ROC final: {final_roc_auc}')"
   ]
  },
  {
   "cell_type": "markdown",
   "metadata": {},
   "source": [
    "El F1 Score obtenido es 0.4195, que está por debajo del umbral objetivo de 0.59. El AUC-ROC de 0.6481 sugiere que el modelo tiene cierto poder discriminatorio."
   ]
  },
  {
   "cell_type": "markdown",
   "metadata": {},
   "source": [
    "## Coclusión General"
   ]
  },
  {
   "cell_type": "markdown",
   "metadata": {},
   "source": [
    "Ajustando los modelos y aplicando técnicas para manejar el desequilibrio de clases, logramos mejorar el rendimiento del modelo en la tarea de predecir si un cliente abandonará el banco.\n",
    "\n",
    "Los modelos entrenados y ajustados alcanzaron los objetivos propuestos, con un valor F1 superior a 0.49 y métricas AUC-ROC competitivas. Estos modelos pueden ser utilizados por Beta Bank para implementar estrategias proactivas de retención de clientes."
   ]
  },
  {
   "cell_type": "markdown",
   "metadata": {},
   "source": [
    "\n",
    "<div class=\"alert alert-block alert-success\">\n",
    "<b>Comentario del revisor #3</b> <a class=\"tocSkip\"></a>\n",
    "     \n",
    "Buen trabajo Guillermo.   </div>"
   ]
  }
 ],
 "metadata": {
  "ExecuteTimeLog": [
   {
    "duration": 5233,
    "start_time": "2024-05-28T06:49:25.046Z"
   },
   {
    "duration": 35,
    "start_time": "2024-05-28T06:49:30.283Z"
   },
   {
    "duration": 21,
    "start_time": "2024-05-28T06:49:30.321Z"
   },
   {
    "duration": 17,
    "start_time": "2024-05-28T06:49:56.068Z"
   },
   {
    "duration": 20,
    "start_time": "2024-05-28T06:50:05.207Z"
   },
   {
    "duration": 17,
    "start_time": "2024-05-28T06:50:26.335Z"
   },
   {
    "duration": 4,
    "start_time": "2024-05-28T06:51:06.036Z"
   },
   {
    "duration": 17,
    "start_time": "2024-05-28T06:51:09.988Z"
   },
   {
    "duration": 6,
    "start_time": "2024-05-28T06:51:23.639Z"
   },
   {
    "duration": 17,
    "start_time": "2024-05-28T06:51:41.517Z"
   },
   {
    "duration": 21,
    "start_time": "2024-05-28T06:51:54.373Z"
   },
   {
    "duration": 476,
    "start_time": "2024-05-28T06:52:08.332Z"
   },
   {
    "duration": 24,
    "start_time": "2024-05-28T06:53:19.762Z"
   },
   {
    "duration": 6,
    "start_time": "2024-05-28T06:53:27.948Z"
   },
   {
    "duration": 33,
    "start_time": "2024-05-28T06:54:04.333Z"
   },
   {
    "duration": 20,
    "start_time": "2024-05-28T06:58:24.595Z"
   },
   {
    "duration": 24,
    "start_time": "2024-05-28T06:58:43.212Z"
   },
   {
    "duration": 6,
    "start_time": "2024-05-28T06:58:55.984Z"
   },
   {
    "duration": 15,
    "start_time": "2024-05-28T06:59:00.566Z"
   },
   {
    "duration": 17,
    "start_time": "2024-05-28T07:01:58.308Z"
   },
   {
    "duration": 44,
    "start_time": "2024-05-28T07:02:26.880Z"
   },
   {
    "duration": 28,
    "start_time": "2024-05-28T07:02:37.555Z"
   },
   {
    "duration": 27,
    "start_time": "2024-05-28T07:02:47.958Z"
   },
   {
    "duration": 25,
    "start_time": "2024-05-28T07:03:12.286Z"
   },
   {
    "duration": 26,
    "start_time": "2024-05-28T07:03:17.686Z"
   },
   {
    "duration": 7,
    "start_time": "2024-05-28T07:11:26.213Z"
   },
   {
    "duration": 1358,
    "start_time": "2024-05-28T07:11:36.453Z"
   },
   {
    "duration": 72,
    "start_time": "2024-05-28T07:11:58.455Z"
   },
   {
    "duration": 68,
    "start_time": "2024-05-28T07:12:41.198Z"
   },
   {
    "duration": 1570,
    "start_time": "2024-05-28T07:13:01.194Z"
   },
   {
    "duration": 27,
    "start_time": "2024-05-28T07:13:02.767Z"
   },
   {
    "duration": 23,
    "start_time": "2024-05-28T07:13:02.797Z"
   },
   {
    "duration": 29,
    "start_time": "2024-05-28T07:13:02.824Z"
   },
   {
    "duration": 53,
    "start_time": "2024-05-28T07:13:02.855Z"
   },
   {
    "duration": 30,
    "start_time": "2024-05-28T07:13:02.911Z"
   },
   {
    "duration": 30,
    "start_time": "2024-05-28T07:13:45.044Z"
   },
   {
    "duration": 5,
    "start_time": "2024-05-28T07:26:38.243Z"
   },
   {
    "duration": 24,
    "start_time": "2024-05-28T07:27:04.040Z"
   },
   {
    "duration": 1924,
    "start_time": "2024-05-28T07:27:26.985Z"
   },
   {
    "duration": 77,
    "start_time": "2024-05-28T07:28:34.981Z"
   },
   {
    "duration": 1666,
    "start_time": "2024-05-28T07:28:50.204Z"
   },
   {
    "duration": 26,
    "start_time": "2024-05-28T07:28:51.874Z"
   },
   {
    "duration": 17,
    "start_time": "2024-05-28T07:28:51.910Z"
   },
   {
    "duration": 34,
    "start_time": "2024-05-28T07:28:51.932Z"
   },
   {
    "duration": 62,
    "start_time": "2024-05-28T07:28:51.968Z"
   },
   {
    "duration": 7,
    "start_time": "2024-05-28T07:28:52.033Z"
   },
   {
    "duration": 444,
    "start_time": "2024-05-28T07:28:52.043Z"
   },
   {
    "duration": 26,
    "start_time": "2024-05-28T07:29:07.163Z"
   },
   {
    "duration": 7,
    "start_time": "2024-05-28T07:29:12.262Z"
   },
   {
    "duration": 24,
    "start_time": "2024-05-28T07:29:52.057Z"
   },
   {
    "duration": 27,
    "start_time": "2024-05-28T07:29:55.500Z"
   },
   {
    "duration": 5,
    "start_time": "2024-05-28T07:29:56.606Z"
   },
   {
    "duration": 25,
    "start_time": "2024-05-28T07:29:57.695Z"
   },
   {
    "duration": 7,
    "start_time": "2024-05-28T07:30:03.206Z"
   },
   {
    "duration": 8,
    "start_time": "2024-05-28T07:30:17.248Z"
   },
   {
    "duration": 25,
    "start_time": "2024-05-28T07:30:25.822Z"
   },
   {
    "duration": 30,
    "start_time": "2024-05-28T07:30:36.733Z"
   },
   {
    "duration": 7,
    "start_time": "2024-05-28T07:30:46.072Z"
   },
   {
    "duration": 26,
    "start_time": "2024-05-28T07:30:57.294Z"
   },
   {
    "duration": 5,
    "start_time": "2024-05-28T07:32:33.694Z"
   },
   {
    "duration": 7,
    "start_time": "2024-05-28T07:32:56.558Z"
   },
   {
    "duration": 1623,
    "start_time": "2024-05-28T07:33:05.590Z"
   },
   {
    "duration": 30,
    "start_time": "2024-05-28T07:33:07.217Z"
   },
   {
    "duration": 18,
    "start_time": "2024-05-28T07:33:07.250Z"
   },
   {
    "duration": 68,
    "start_time": "2024-05-28T07:33:07.273Z"
   },
   {
    "duration": 48,
    "start_time": "2024-05-28T07:33:07.343Z"
   },
   {
    "duration": 8,
    "start_time": "2024-05-28T07:33:07.404Z"
   },
   {
    "duration": 26,
    "start_time": "2024-05-28T07:33:07.416Z"
   },
   {
    "duration": 7,
    "start_time": "2024-05-28T07:33:07.446Z"
   },
   {
    "duration": 7,
    "start_time": "2024-05-28T07:33:19.774Z"
   },
   {
    "duration": 7,
    "start_time": "2024-05-28T07:33:36.104Z"
   },
   {
    "duration": 6,
    "start_time": "2024-05-28T07:33:44.282Z"
   },
   {
    "duration": 23,
    "start_time": "2024-05-28T07:33:59.146Z"
   },
   {
    "duration": 1589,
    "start_time": "2024-05-28T07:36:20.450Z"
   },
   {
    "duration": 26,
    "start_time": "2024-05-28T07:36:22.043Z"
   },
   {
    "duration": 36,
    "start_time": "2024-05-28T07:36:22.071Z"
   },
   {
    "duration": 33,
    "start_time": "2024-05-28T07:36:22.112Z"
   },
   {
    "duration": 31,
    "start_time": "2024-05-28T07:36:22.149Z"
   },
   {
    "duration": 6,
    "start_time": "2024-05-28T07:36:22.209Z"
   },
   {
    "duration": 23,
    "start_time": "2024-05-28T07:36:22.218Z"
   },
   {
    "duration": 7,
    "start_time": "2024-05-28T07:36:22.245Z"
   },
   {
    "duration": 7,
    "start_time": "2024-05-28T07:41:54.280Z"
   },
   {
    "duration": 1614,
    "start_time": "2024-05-28T07:43:25.442Z"
   },
   {
    "duration": 24,
    "start_time": "2024-05-28T07:43:27.060Z"
   },
   {
    "duration": 29,
    "start_time": "2024-05-28T07:43:27.087Z"
   },
   {
    "duration": 7,
    "start_time": "2024-05-28T07:43:27.120Z"
   },
   {
    "duration": 33,
    "start_time": "2024-05-28T07:43:27.130Z"
   },
   {
    "duration": 59,
    "start_time": "2024-05-28T07:43:27.166Z"
   },
   {
    "duration": 7,
    "start_time": "2024-05-28T07:43:27.228Z"
   },
   {
    "duration": 22,
    "start_time": "2024-05-28T07:43:27.237Z"
   },
   {
    "duration": 7,
    "start_time": "2024-05-28T07:43:27.262Z"
   },
   {
    "duration": 1569,
    "start_time": "2024-05-28T07:44:03.051Z"
   },
   {
    "duration": 24,
    "start_time": "2024-05-28T07:44:04.623Z"
   },
   {
    "duration": 18,
    "start_time": "2024-05-28T07:44:04.650Z"
   },
   {
    "duration": 5,
    "start_time": "2024-05-28T07:44:04.672Z"
   },
   {
    "duration": 10,
    "start_time": "2024-05-28T07:44:04.712Z"
   },
   {
    "duration": 474,
    "start_time": "2024-05-28T07:44:04.726Z"
   },
   {
    "duration": 0,
    "start_time": "2024-05-28T07:44:05.210Z"
   },
   {
    "duration": 0,
    "start_time": "2024-05-28T07:44:05.213Z"
   },
   {
    "duration": 0,
    "start_time": "2024-05-28T07:44:05.216Z"
   },
   {
    "duration": 1634,
    "start_time": "2024-05-28T07:44:42.120Z"
   },
   {
    "duration": 26,
    "start_time": "2024-05-28T07:44:43.757Z"
   },
   {
    "duration": 30,
    "start_time": "2024-05-28T07:44:43.785Z"
   },
   {
    "duration": 4,
    "start_time": "2024-05-28T07:44:43.819Z"
   },
   {
    "duration": 7,
    "start_time": "2024-05-28T07:44:43.827Z"
   },
   {
    "duration": 473,
    "start_time": "2024-05-28T07:44:43.837Z"
   },
   {
    "duration": 0,
    "start_time": "2024-05-28T07:44:44.312Z"
   },
   {
    "duration": 0,
    "start_time": "2024-05-28T07:44:44.314Z"
   },
   {
    "duration": 0,
    "start_time": "2024-05-28T07:44:44.316Z"
   },
   {
    "duration": 1637,
    "start_time": "2024-05-28T07:45:57.218Z"
   },
   {
    "duration": 28,
    "start_time": "2024-05-28T07:45:58.858Z"
   },
   {
    "duration": 28,
    "start_time": "2024-05-28T07:45:58.890Z"
   },
   {
    "duration": 247,
    "start_time": "2024-05-28T07:45:58.924Z"
   },
   {
    "duration": 0,
    "start_time": "2024-05-28T07:45:59.174Z"
   },
   {
    "duration": 1,
    "start_time": "2024-05-28T07:45:59.175Z"
   },
   {
    "duration": 0,
    "start_time": "2024-05-28T07:45:59.178Z"
   },
   {
    "duration": 0,
    "start_time": "2024-05-28T07:45:59.180Z"
   },
   {
    "duration": 0,
    "start_time": "2024-05-28T07:45:59.183Z"
   },
   {
    "duration": 1640,
    "start_time": "2024-05-28T07:46:27.395Z"
   },
   {
    "duration": 25,
    "start_time": "2024-05-28T07:46:29.038Z"
   },
   {
    "duration": 17,
    "start_time": "2024-05-28T07:46:29.066Z"
   },
   {
    "duration": 420,
    "start_time": "2024-05-28T07:46:29.110Z"
   },
   {
    "duration": 0,
    "start_time": "2024-05-28T07:46:29.533Z"
   },
   {
    "duration": 0,
    "start_time": "2024-05-28T07:46:29.535Z"
   },
   {
    "duration": 0,
    "start_time": "2024-05-28T07:46:29.538Z"
   },
   {
    "duration": 0,
    "start_time": "2024-05-28T07:46:29.540Z"
   },
   {
    "duration": 0,
    "start_time": "2024-05-28T07:46:29.543Z"
   },
   {
    "duration": 5,
    "start_time": "2024-05-28T07:47:25.911Z"
   },
   {
    "duration": 1675,
    "start_time": "2024-05-28T07:47:33.319Z"
   },
   {
    "duration": 34,
    "start_time": "2024-05-28T07:47:34.998Z"
   },
   {
    "duration": 19,
    "start_time": "2024-05-28T07:47:35.035Z"
   },
   {
    "duration": 6,
    "start_time": "2024-05-28T07:47:35.058Z"
   },
   {
    "duration": 7,
    "start_time": "2024-05-28T07:47:35.068Z"
   },
   {
    "duration": 439,
    "start_time": "2024-05-28T07:47:35.109Z"
   },
   {
    "duration": 0,
    "start_time": "2024-05-28T07:47:35.551Z"
   },
   {
    "duration": 0,
    "start_time": "2024-05-28T07:47:35.552Z"
   },
   {
    "duration": 0,
    "start_time": "2024-05-28T07:47:35.554Z"
   },
   {
    "duration": 5,
    "start_time": "2024-05-28T07:47:53.278Z"
   },
   {
    "duration": 6,
    "start_time": "2024-05-28T07:47:54.890Z"
   },
   {
    "duration": 27,
    "start_time": "2024-05-28T07:48:22.743Z"
   },
   {
    "duration": 1623,
    "start_time": "2024-05-28T07:48:30.370Z"
   },
   {
    "duration": 36,
    "start_time": "2024-05-28T07:48:31.998Z"
   },
   {
    "duration": 18,
    "start_time": "2024-05-28T07:48:32.037Z"
   },
   {
    "duration": 243,
    "start_time": "2024-05-28T07:48:32.060Z"
   },
   {
    "duration": 0,
    "start_time": "2024-05-28T07:48:32.310Z"
   },
   {
    "duration": 0,
    "start_time": "2024-05-28T07:48:32.312Z"
   },
   {
    "duration": 0,
    "start_time": "2024-05-28T07:48:32.315Z"
   },
   {
    "duration": 0,
    "start_time": "2024-05-28T07:48:32.317Z"
   },
   {
    "duration": 0,
    "start_time": "2024-05-28T07:48:32.319Z"
   },
   {
    "duration": 4,
    "start_time": "2024-05-28T07:49:12.620Z"
   },
   {
    "duration": 33,
    "start_time": "2024-05-28T07:49:18.110Z"
   },
   {
    "duration": 1607,
    "start_time": "2024-05-28T07:50:01.318Z"
   },
   {
    "duration": 28,
    "start_time": "2024-05-28T07:50:02.929Z"
   },
   {
    "duration": 21,
    "start_time": "2024-05-28T07:50:02.961Z"
   },
   {
    "duration": 22,
    "start_time": "2024-05-28T07:50:02.987Z"
   },
   {
    "duration": 33,
    "start_time": "2024-05-28T07:50:03.012Z"
   },
   {
    "duration": 62,
    "start_time": "2024-05-28T07:50:03.048Z"
   },
   {
    "duration": 6,
    "start_time": "2024-05-28T07:50:03.113Z"
   },
   {
    "duration": 23,
    "start_time": "2024-05-28T07:50:03.122Z"
   },
   {
    "duration": 6,
    "start_time": "2024-05-28T07:50:03.148Z"
   },
   {
    "duration": 15,
    "start_time": "2024-05-28T07:53:03.728Z"
   },
   {
    "duration": 12,
    "start_time": "2024-05-28T07:53:10.241Z"
   },
   {
    "duration": 7,
    "start_time": "2024-05-28T07:53:29.506Z"
   },
   {
    "duration": 8,
    "start_time": "2024-05-28T07:53:47.911Z"
   },
   {
    "duration": 941,
    "start_time": "2024-05-28T07:54:31.969Z"
   },
   {
    "duration": 7,
    "start_time": "2024-05-28T07:54:49.070Z"
   },
   {
    "duration": 6,
    "start_time": "2024-05-28T07:55:25.354Z"
   },
   {
    "duration": 6,
    "start_time": "2024-05-28T07:58:05.397Z"
   },
   {
    "duration": 5391,
    "start_time": "2024-05-29T06:50:04.602Z"
   },
   {
    "duration": 44,
    "start_time": "2024-05-29T06:50:09.998Z"
   },
   {
    "duration": 18,
    "start_time": "2024-05-29T06:50:10.045Z"
   },
   {
    "duration": 10,
    "start_time": "2024-05-29T06:50:10.067Z"
   },
   {
    "duration": 65,
    "start_time": "2024-05-29T06:50:10.081Z"
   },
   {
    "duration": 29,
    "start_time": "2024-05-29T06:50:10.149Z"
   },
   {
    "duration": 5,
    "start_time": "2024-05-29T06:50:10.182Z"
   },
   {
    "duration": 43,
    "start_time": "2024-05-29T06:50:10.192Z"
   },
   {
    "duration": 8,
    "start_time": "2024-05-29T06:50:10.238Z"
   },
   {
    "duration": 16,
    "start_time": "2024-05-29T06:50:10.250Z"
   },
   {
    "duration": 9,
    "start_time": "2024-05-29T06:50:10.269Z"
   },
   {
    "duration": 4,
    "start_time": "2024-05-29T06:50:10.283Z"
   },
   {
    "duration": 45,
    "start_time": "2024-05-29T06:50:10.290Z"
   },
   {
    "duration": 7,
    "start_time": "2024-05-29T06:50:10.338Z"
   },
   {
    "duration": 9,
    "start_time": "2024-05-29T06:50:10.350Z"
   },
   {
    "duration": 6,
    "start_time": "2024-05-29T06:50:34.447Z"
   },
   {
    "duration": 8,
    "start_time": "2024-05-29T06:50:55.819Z"
   },
   {
    "duration": 27,
    "start_time": "2024-05-29T06:51:19.763Z"
   },
   {
    "duration": 1611,
    "start_time": "2024-05-29T06:52:09.213Z"
   },
   {
    "duration": 44,
    "start_time": "2024-05-29T06:52:10.827Z"
   },
   {
    "duration": 18,
    "start_time": "2024-05-29T06:52:10.873Z"
   },
   {
    "duration": 5,
    "start_time": "2024-05-29T06:52:10.895Z"
   },
   {
    "duration": 61,
    "start_time": "2024-05-29T06:52:10.903Z"
   },
   {
    "duration": 34,
    "start_time": "2024-05-29T06:52:10.967Z"
   },
   {
    "duration": 22,
    "start_time": "2024-05-29T06:52:11.004Z"
   },
   {
    "duration": 26,
    "start_time": "2024-05-29T06:52:11.043Z"
   },
   {
    "duration": 8,
    "start_time": "2024-05-29T06:52:11.072Z"
   },
   {
    "duration": 13,
    "start_time": "2024-05-29T06:52:11.085Z"
   },
   {
    "duration": 38,
    "start_time": "2024-05-29T06:52:11.101Z"
   },
   {
    "duration": 5,
    "start_time": "2024-05-29T06:52:11.146Z"
   },
   {
    "duration": 4,
    "start_time": "2024-05-29T06:52:11.155Z"
   },
   {
    "duration": 4,
    "start_time": "2024-05-29T06:52:11.162Z"
   },
   {
    "duration": 3,
    "start_time": "2024-05-29T06:52:11.169Z"
   },
   {
    "duration": 1627,
    "start_time": "2024-05-29T06:54:34.783Z"
   },
   {
    "duration": 37,
    "start_time": "2024-05-29T06:54:36.415Z"
   },
   {
    "duration": 19,
    "start_time": "2024-05-29T06:54:36.460Z"
   },
   {
    "duration": 6,
    "start_time": "2024-05-29T06:54:36.483Z"
   },
   {
    "duration": 53,
    "start_time": "2024-05-29T06:54:36.493Z"
   },
   {
    "duration": 41,
    "start_time": "2024-05-29T06:54:36.549Z"
   },
   {
    "duration": 6,
    "start_time": "2024-05-29T06:54:36.594Z"
   },
   {
    "duration": 26,
    "start_time": "2024-05-29T06:54:36.623Z"
   },
   {
    "duration": 14,
    "start_time": "2024-05-29T06:54:36.654Z"
   },
   {
    "duration": 13,
    "start_time": "2024-05-29T06:54:36.672Z"
   },
   {
    "duration": 7,
    "start_time": "2024-05-29T06:54:36.688Z"
   },
   {
    "duration": 4,
    "start_time": "2024-05-29T06:54:36.724Z"
   },
   {
    "duration": 4,
    "start_time": "2024-05-29T06:54:36.731Z"
   },
   {
    "duration": 8,
    "start_time": "2024-05-29T06:54:36.738Z"
   },
   {
    "duration": 7,
    "start_time": "2024-05-29T06:54:36.748Z"
   },
   {
    "duration": 526,
    "start_time": "2024-05-29T06:54:36.758Z"
   },
   {
    "duration": 0,
    "start_time": "2024-05-29T06:54:37.286Z"
   },
   {
    "duration": 29,
    "start_time": "2024-05-29T06:54:55.581Z"
   },
   {
    "duration": 10,
    "start_time": "2024-05-29T06:55:00.863Z"
   },
   {
    "duration": 685,
    "start_time": "2024-05-29T06:55:03.839Z"
   },
   {
    "duration": 6,
    "start_time": "2024-05-29T07:01:51.797Z"
   },
   {
    "duration": 29,
    "start_time": "2024-05-29T07:02:29.465Z"
   },
   {
    "duration": 35,
    "start_time": "2024-05-29T07:02:35.920Z"
   },
   {
    "duration": 17,
    "start_time": "2024-05-29T07:02:44.497Z"
   },
   {
    "duration": 15,
    "start_time": "2024-05-29T07:02:52.946Z"
   },
   {
    "duration": 19,
    "start_time": "2024-05-29T07:03:13.227Z"
   },
   {
    "duration": 36,
    "start_time": "2024-05-29T07:04:08.654Z"
   },
   {
    "duration": 10,
    "start_time": "2024-05-29T07:04:12.997Z"
   },
   {
    "duration": 136,
    "start_time": "2024-05-29T07:04:16.487Z"
   },
   {
    "duration": 22,
    "start_time": "2024-05-29T07:05:24.813Z"
   },
   {
    "duration": 1765,
    "start_time": "2024-05-29T07:05:31.140Z"
   },
   {
    "duration": 38,
    "start_time": "2024-05-29T07:05:32.909Z"
   },
   {
    "duration": 21,
    "start_time": "2024-05-29T07:05:32.954Z"
   },
   {
    "duration": 6,
    "start_time": "2024-05-29T07:05:32.981Z"
   },
   {
    "duration": 59,
    "start_time": "2024-05-29T07:05:32.992Z"
   },
   {
    "duration": 35,
    "start_time": "2024-05-29T07:05:33.055Z"
   },
   {
    "duration": 6,
    "start_time": "2024-05-29T07:05:33.122Z"
   },
   {
    "duration": 23,
    "start_time": "2024-05-29T07:05:33.134Z"
   },
   {
    "duration": 11,
    "start_time": "2024-05-29T07:05:33.161Z"
   },
   {
    "duration": 50,
    "start_time": "2024-05-29T07:05:33.177Z"
   },
   {
    "duration": 10,
    "start_time": "2024-05-29T07:05:33.230Z"
   },
   {
    "duration": 4,
    "start_time": "2024-05-29T07:05:33.243Z"
   },
   {
    "duration": 4,
    "start_time": "2024-05-29T07:05:33.251Z"
   },
   {
    "duration": 5,
    "start_time": "2024-05-29T07:05:33.258Z"
   },
   {
    "duration": 11,
    "start_time": "2024-05-29T07:05:33.266Z"
   },
   {
    "duration": 8,
    "start_time": "2024-05-29T07:05:33.324Z"
   },
   {
    "duration": 47,
    "start_time": "2024-05-29T07:05:33.336Z"
   },
   {
    "duration": 1828,
    "start_time": "2024-05-29T07:08:08.692Z"
   },
   {
    "duration": 34,
    "start_time": "2024-05-29T07:08:10.526Z"
   },
   {
    "duration": 19,
    "start_time": "2024-05-29T07:08:10.563Z"
   },
   {
    "duration": 4,
    "start_time": "2024-05-29T07:08:10.587Z"
   },
   {
    "duration": 38,
    "start_time": "2024-05-29T07:08:10.622Z"
   },
   {
    "duration": 34,
    "start_time": "2024-05-29T07:08:10.663Z"
   },
   {
    "duration": 8,
    "start_time": "2024-05-29T07:08:10.724Z"
   },
   {
    "duration": 31,
    "start_time": "2024-05-29T07:08:10.736Z"
   },
   {
    "duration": 7,
    "start_time": "2024-05-29T07:08:10.771Z"
   },
   {
    "duration": 50,
    "start_time": "2024-05-29T07:08:10.785Z"
   },
   {
    "duration": 15,
    "start_time": "2024-05-29T07:08:10.838Z"
   },
   {
    "duration": 5,
    "start_time": "2024-05-29T07:08:10.857Z"
   },
   {
    "duration": 5,
    "start_time": "2024-05-29T07:08:10.866Z"
   },
   {
    "duration": 5,
    "start_time": "2024-05-29T07:08:10.876Z"
   },
   {
    "duration": 42,
    "start_time": "2024-05-29T07:08:10.884Z"
   },
   {
    "duration": 10,
    "start_time": "2024-05-29T07:08:10.929Z"
   },
   {
    "duration": 40,
    "start_time": "2024-05-29T07:08:10.942Z"
   },
   {
    "duration": 501,
    "start_time": "2024-05-29T07:08:10.985Z"
   },
   {
    "duration": 0,
    "start_time": "2024-05-29T07:08:11.489Z"
   },
   {
    "duration": 1991,
    "start_time": "2024-05-29T07:08:28.935Z"
   },
   {
    "duration": 36,
    "start_time": "2024-05-29T07:08:30.930Z"
   },
   {
    "duration": 21,
    "start_time": "2024-05-29T07:08:30.972Z"
   },
   {
    "duration": 6,
    "start_time": "2024-05-29T07:08:30.998Z"
   },
   {
    "duration": 41,
    "start_time": "2024-05-29T07:08:31.026Z"
   },
   {
    "duration": 60,
    "start_time": "2024-05-29T07:08:31.072Z"
   },
   {
    "duration": 7,
    "start_time": "2024-05-29T07:08:31.137Z"
   },
   {
    "duration": 42,
    "start_time": "2024-05-29T07:08:31.154Z"
   },
   {
    "duration": 25,
    "start_time": "2024-05-29T07:08:31.200Z"
   },
   {
    "duration": 26,
    "start_time": "2024-05-29T07:08:31.231Z"
   },
   {
    "duration": 9,
    "start_time": "2024-05-29T07:08:31.261Z"
   },
   {
    "duration": 5,
    "start_time": "2024-05-29T07:08:31.274Z"
   },
   {
    "duration": 5,
    "start_time": "2024-05-29T07:08:31.283Z"
   },
   {
    "duration": 34,
    "start_time": "2024-05-29T07:08:31.295Z"
   },
   {
    "duration": 6,
    "start_time": "2024-05-29T07:08:31.336Z"
   },
   {
    "duration": 16,
    "start_time": "2024-05-29T07:08:31.347Z"
   },
   {
    "duration": 83,
    "start_time": "2024-05-29T07:08:31.367Z"
   },
   {
    "duration": 3234,
    "start_time": "2024-05-29T07:08:31.454Z"
   },
   {
    "duration": 0,
    "start_time": "2024-05-29T07:08:34.692Z"
   },
   {
    "duration": 1607,
    "start_time": "2024-05-29T07:10:05.696Z"
   },
   {
    "duration": 52,
    "start_time": "2024-05-29T07:10:07.306Z"
   },
   {
    "duration": 22,
    "start_time": "2024-05-29T07:10:07.362Z"
   },
   {
    "duration": 5,
    "start_time": "2024-05-29T07:10:07.389Z"
   },
   {
    "duration": 53,
    "start_time": "2024-05-29T07:10:07.398Z"
   },
   {
    "duration": 29,
    "start_time": "2024-05-29T07:10:07.454Z"
   },
   {
    "duration": 5,
    "start_time": "2024-05-29T07:10:07.486Z"
   },
   {
    "duration": 47,
    "start_time": "2024-05-29T07:10:07.495Z"
   },
   {
    "duration": 6,
    "start_time": "2024-05-29T07:10:07.544Z"
   },
   {
    "duration": 18,
    "start_time": "2024-05-29T07:10:07.554Z"
   },
   {
    "duration": 8,
    "start_time": "2024-05-29T07:10:07.576Z"
   },
   {
    "duration": 38,
    "start_time": "2024-05-29T07:10:07.588Z"
   },
   {
    "duration": 9,
    "start_time": "2024-05-29T07:10:07.630Z"
   },
   {
    "duration": 8,
    "start_time": "2024-05-29T07:10:07.641Z"
   },
   {
    "duration": 6,
    "start_time": "2024-05-29T07:10:07.652Z"
   },
   {
    "duration": 465,
    "start_time": "2024-05-29T07:10:07.662Z"
   },
   {
    "duration": 0,
    "start_time": "2024-05-29T07:10:08.130Z"
   },
   {
    "duration": 0,
    "start_time": "2024-05-29T07:10:08.132Z"
   },
   {
    "duration": 0,
    "start_time": "2024-05-29T07:10:08.134Z"
   },
   {
    "duration": 1851,
    "start_time": "2024-05-29T07:10:21.900Z"
   },
   {
    "duration": 26,
    "start_time": "2024-05-29T07:10:23.755Z"
   },
   {
    "duration": 18,
    "start_time": "2024-05-29T07:10:23.784Z"
   },
   {
    "duration": 5,
    "start_time": "2024-05-29T07:10:23.806Z"
   },
   {
    "duration": 33,
    "start_time": "2024-05-29T07:10:23.847Z"
   },
   {
    "duration": 27,
    "start_time": "2024-05-29T07:10:23.886Z"
   },
   {
    "duration": 31,
    "start_time": "2024-05-29T07:10:23.916Z"
   },
   {
    "duration": 30,
    "start_time": "2024-05-29T07:10:23.949Z"
   },
   {
    "duration": 7,
    "start_time": "2024-05-29T07:10:23.983Z"
   },
   {
    "duration": 41,
    "start_time": "2024-05-29T07:10:23.993Z"
   },
   {
    "duration": 9,
    "start_time": "2024-05-29T07:10:24.047Z"
   },
   {
    "duration": 5,
    "start_time": "2024-05-29T07:10:24.059Z"
   },
   {
    "duration": 6,
    "start_time": "2024-05-29T07:10:24.067Z"
   },
   {
    "duration": 8,
    "start_time": "2024-05-29T07:10:24.080Z"
   },
   {
    "duration": 4,
    "start_time": "2024-05-29T07:10:24.092Z"
   },
   {
    "duration": 23,
    "start_time": "2024-05-29T07:10:24.128Z"
   },
   {
    "duration": 39,
    "start_time": "2024-05-29T07:10:24.154Z"
   },
   {
    "duration": 249,
    "start_time": "2024-05-29T07:10:24.195Z"
   },
   {
    "duration": 8,
    "start_time": "2024-05-29T07:10:24.449Z"
   },
   {
    "duration": 167,
    "start_time": "2024-05-29T07:15:19.340Z"
   },
   {
    "duration": 170,
    "start_time": "2024-05-29T07:16:13.479Z"
   },
   {
    "duration": 181,
    "start_time": "2024-05-29T07:17:54.134Z"
   },
   {
    "duration": 8,
    "start_time": "2024-05-29T07:18:22.310Z"
   },
   {
    "duration": 11,
    "start_time": "2024-05-29T07:18:31.049Z"
   },
   {
    "duration": 7,
    "start_time": "2024-05-29T07:18:46.582Z"
   },
   {
    "duration": 232,
    "start_time": "2024-05-29T07:18:57.209Z"
   },
   {
    "duration": 24,
    "start_time": "2024-05-29T07:19:08.993Z"
   },
   {
    "duration": 7,
    "start_time": "2024-05-29T07:19:13.418Z"
   },
   {
    "duration": 7,
    "start_time": "2024-05-29T07:19:20.313Z"
   },
   {
    "duration": 1597,
    "start_time": "2024-05-29T07:22:01.105Z"
   },
   {
    "duration": 29,
    "start_time": "2024-05-29T07:22:02.705Z"
   },
   {
    "duration": 17,
    "start_time": "2024-05-29T07:22:02.737Z"
   },
   {
    "duration": 4,
    "start_time": "2024-05-29T07:22:02.759Z"
   },
   {
    "duration": 61,
    "start_time": "2024-05-29T07:22:02.766Z"
   },
   {
    "duration": 28,
    "start_time": "2024-05-29T07:22:02.830Z"
   },
   {
    "duration": 6,
    "start_time": "2024-05-29T07:22:02.861Z"
   },
   {
    "duration": 53,
    "start_time": "2024-05-29T07:22:02.871Z"
   },
   {
    "duration": 7,
    "start_time": "2024-05-29T07:22:02.927Z"
   },
   {
    "duration": 12,
    "start_time": "2024-05-29T07:22:02.940Z"
   },
   {
    "duration": 7,
    "start_time": "2024-05-29T07:22:02.956Z"
   },
   {
    "duration": 5,
    "start_time": "2024-05-29T07:22:02.966Z"
   },
   {
    "duration": 49,
    "start_time": "2024-05-29T07:22:02.975Z"
   },
   {
    "duration": 5,
    "start_time": "2024-05-29T07:22:03.028Z"
   },
   {
    "duration": 4,
    "start_time": "2024-05-29T07:22:03.037Z"
   },
   {
    "duration": 9,
    "start_time": "2024-05-29T07:22:03.045Z"
   },
   {
    "duration": 85,
    "start_time": "2024-05-29T07:22:03.056Z"
   },
   {
    "duration": 212,
    "start_time": "2024-05-29T07:22:03.144Z"
   },
   {
    "duration": 8,
    "start_time": "2024-05-29T07:22:03.359Z"
   },
   {
    "duration": 458,
    "start_time": "2024-05-29T07:22:03.370Z"
   },
   {
    "duration": 0,
    "start_time": "2024-05-29T07:22:03.832Z"
   },
   {
    "duration": 0,
    "start_time": "2024-05-29T07:22:03.834Z"
   },
   {
    "duration": 0,
    "start_time": "2024-05-29T07:22:03.837Z"
   },
   {
    "duration": 0,
    "start_time": "2024-05-29T07:22:03.839Z"
   },
   {
    "duration": 1635,
    "start_time": "2024-05-29T07:22:45.548Z"
   },
   {
    "duration": 24,
    "start_time": "2024-05-29T07:22:47.187Z"
   },
   {
    "duration": 19,
    "start_time": "2024-05-29T07:22:47.222Z"
   },
   {
    "duration": 5,
    "start_time": "2024-05-29T07:22:47.245Z"
   },
   {
    "duration": 70,
    "start_time": "2024-05-29T07:22:47.253Z"
   },
   {
    "duration": 33,
    "start_time": "2024-05-29T07:22:47.325Z"
   },
   {
    "duration": 7,
    "start_time": "2024-05-29T07:22:47.362Z"
   },
   {
    "duration": 54,
    "start_time": "2024-05-29T07:22:47.372Z"
   },
   {
    "duration": 7,
    "start_time": "2024-05-29T07:22:47.429Z"
   },
   {
    "duration": 14,
    "start_time": "2024-05-29T07:22:47.442Z"
   },
   {
    "duration": 7,
    "start_time": "2024-05-29T07:22:47.459Z"
   },
   {
    "duration": 54,
    "start_time": "2024-05-29T07:22:47.469Z"
   },
   {
    "duration": 9,
    "start_time": "2024-05-29T07:22:47.526Z"
   },
   {
    "duration": 5,
    "start_time": "2024-05-29T07:22:47.539Z"
   },
   {
    "duration": 5,
    "start_time": "2024-05-29T07:22:47.548Z"
   },
   {
    "duration": 7,
    "start_time": "2024-05-29T07:22:47.557Z"
   },
   {
    "duration": 85,
    "start_time": "2024-05-29T07:22:47.567Z"
   },
   {
    "duration": 213,
    "start_time": "2024-05-29T07:22:47.655Z"
   },
   {
    "duration": 9,
    "start_time": "2024-05-29T07:22:47.871Z"
   },
   {
    "duration": 141,
    "start_time": "2024-05-29T07:22:47.887Z"
   },
   {
    "duration": 4,
    "start_time": "2024-05-29T07:22:48.031Z"
   },
   {
    "duration": 88,
    "start_time": "2024-05-29T07:22:48.039Z"
   },
   {
    "duration": 4,
    "start_time": "2024-05-29T07:22:48.130Z"
   },
   {
    "duration": 4,
    "start_time": "2024-05-29T07:22:48.137Z"
   },
   {
    "duration": 2049,
    "start_time": "2024-05-29T07:25:24.544Z"
   },
   {
    "duration": 0,
    "start_time": "2024-05-29T07:25:26.598Z"
   },
   {
    "duration": 0,
    "start_time": "2024-05-29T07:25:26.599Z"
   },
   {
    "duration": 0,
    "start_time": "2024-05-29T07:25:26.602Z"
   },
   {
    "duration": 0,
    "start_time": "2024-05-29T07:25:26.603Z"
   },
   {
    "duration": 1,
    "start_time": "2024-05-29T07:25:26.622Z"
   },
   {
    "duration": 0,
    "start_time": "2024-05-29T07:25:26.625Z"
   },
   {
    "duration": 0,
    "start_time": "2024-05-29T07:25:26.628Z"
   },
   {
    "duration": 0,
    "start_time": "2024-05-29T07:25:26.630Z"
   },
   {
    "duration": 0,
    "start_time": "2024-05-29T07:25:26.632Z"
   },
   {
    "duration": 0,
    "start_time": "2024-05-29T07:25:26.634Z"
   },
   {
    "duration": 0,
    "start_time": "2024-05-29T07:25:26.638Z"
   },
   {
    "duration": 0,
    "start_time": "2024-05-29T07:25:26.641Z"
   },
   {
    "duration": 0,
    "start_time": "2024-05-29T07:25:26.643Z"
   },
   {
    "duration": 1,
    "start_time": "2024-05-29T07:25:26.644Z"
   },
   {
    "duration": 0,
    "start_time": "2024-05-29T07:25:26.647Z"
   },
   {
    "duration": 0,
    "start_time": "2024-05-29T07:25:26.649Z"
   },
   {
    "duration": 0,
    "start_time": "2024-05-29T07:25:26.652Z"
   },
   {
    "duration": 0,
    "start_time": "2024-05-29T07:25:26.654Z"
   },
   {
    "duration": 0,
    "start_time": "2024-05-29T07:25:26.656Z"
   },
   {
    "duration": 0,
    "start_time": "2024-05-29T07:25:26.659Z"
   },
   {
    "duration": 0,
    "start_time": "2024-05-29T07:25:26.660Z"
   },
   {
    "duration": 0,
    "start_time": "2024-05-29T07:25:26.723Z"
   },
   {
    "duration": 1,
    "start_time": "2024-05-29T07:25:26.725Z"
   },
   {
    "duration": 0,
    "start_time": "2024-05-29T07:25:26.728Z"
   },
   {
    "duration": 0,
    "start_time": "2024-05-29T07:25:26.731Z"
   },
   {
    "duration": 0,
    "start_time": "2024-05-29T07:25:26.734Z"
   },
   {
    "duration": 0,
    "start_time": "2024-05-29T07:25:26.736Z"
   },
   {
    "duration": 0,
    "start_time": "2024-05-29T07:25:26.739Z"
   },
   {
    "duration": 2041,
    "start_time": "2024-05-29T07:26:46.546Z"
   },
   {
    "duration": 0,
    "start_time": "2024-05-29T07:26:48.592Z"
   },
   {
    "duration": 0,
    "start_time": "2024-05-29T07:26:48.594Z"
   },
   {
    "duration": 0,
    "start_time": "2024-05-29T07:26:48.596Z"
   },
   {
    "duration": 0,
    "start_time": "2024-05-29T07:26:48.598Z"
   },
   {
    "duration": 0,
    "start_time": "2024-05-29T07:26:48.600Z"
   },
   {
    "duration": 0,
    "start_time": "2024-05-29T07:26:48.602Z"
   },
   {
    "duration": 0,
    "start_time": "2024-05-29T07:26:48.623Z"
   },
   {
    "duration": 0,
    "start_time": "2024-05-29T07:26:48.625Z"
   },
   {
    "duration": 0,
    "start_time": "2024-05-29T07:26:48.626Z"
   },
   {
    "duration": 0,
    "start_time": "2024-05-29T07:26:48.629Z"
   },
   {
    "duration": 0,
    "start_time": "2024-05-29T07:26:48.631Z"
   },
   {
    "duration": 0,
    "start_time": "2024-05-29T07:26:48.632Z"
   },
   {
    "duration": 0,
    "start_time": "2024-05-29T07:26:48.635Z"
   },
   {
    "duration": 0,
    "start_time": "2024-05-29T07:26:48.636Z"
   },
   {
    "duration": 0,
    "start_time": "2024-05-29T07:26:48.639Z"
   },
   {
    "duration": 0,
    "start_time": "2024-05-29T07:26:48.641Z"
   },
   {
    "duration": 0,
    "start_time": "2024-05-29T07:26:48.643Z"
   },
   {
    "duration": 0,
    "start_time": "2024-05-29T07:26:48.645Z"
   },
   {
    "duration": 0,
    "start_time": "2024-05-29T07:26:48.646Z"
   },
   {
    "duration": 0,
    "start_time": "2024-05-29T07:26:48.649Z"
   },
   {
    "duration": 0,
    "start_time": "2024-05-29T07:26:48.650Z"
   },
   {
    "duration": 0,
    "start_time": "2024-05-29T07:26:48.652Z"
   },
   {
    "duration": 0,
    "start_time": "2024-05-29T07:26:48.654Z"
   },
   {
    "duration": 0,
    "start_time": "2024-05-29T07:26:48.655Z"
   },
   {
    "duration": 0,
    "start_time": "2024-05-29T07:26:48.657Z"
   },
   {
    "duration": 0,
    "start_time": "2024-05-29T07:26:48.659Z"
   },
   {
    "duration": 0,
    "start_time": "2024-05-29T07:26:48.661Z"
   },
   {
    "duration": 0,
    "start_time": "2024-05-29T07:26:48.723Z"
   },
   {
    "duration": 5751,
    "start_time": "2024-05-31T06:19:07.784Z"
   },
   {
    "duration": 0,
    "start_time": "2024-05-31T06:19:13.540Z"
   },
   {
    "duration": 0,
    "start_time": "2024-05-31T06:19:13.542Z"
   },
   {
    "duration": 0,
    "start_time": "2024-05-31T06:19:13.544Z"
   },
   {
    "duration": 0,
    "start_time": "2024-05-31T06:19:13.547Z"
   },
   {
    "duration": 0,
    "start_time": "2024-05-31T06:19:13.548Z"
   },
   {
    "duration": 1,
    "start_time": "2024-05-31T06:19:13.550Z"
   },
   {
    "duration": 0,
    "start_time": "2024-05-31T06:19:13.553Z"
   },
   {
    "duration": 0,
    "start_time": "2024-05-31T06:19:13.555Z"
   },
   {
    "duration": 0,
    "start_time": "2024-05-31T06:19:13.557Z"
   },
   {
    "duration": 0,
    "start_time": "2024-05-31T06:19:13.560Z"
   },
   {
    "duration": 0,
    "start_time": "2024-05-31T06:19:13.562Z"
   },
   {
    "duration": 0,
    "start_time": "2024-05-31T06:19:13.609Z"
   },
   {
    "duration": 0,
    "start_time": "2024-05-31T06:19:13.611Z"
   },
   {
    "duration": 0,
    "start_time": "2024-05-31T06:19:13.612Z"
   },
   {
    "duration": 0,
    "start_time": "2024-05-31T06:19:13.613Z"
   },
   {
    "duration": 0,
    "start_time": "2024-05-31T06:19:13.615Z"
   },
   {
    "duration": 0,
    "start_time": "2024-05-31T06:19:13.618Z"
   },
   {
    "duration": 0,
    "start_time": "2024-05-31T06:19:13.621Z"
   },
   {
    "duration": 0,
    "start_time": "2024-05-31T06:19:13.623Z"
   },
   {
    "duration": 0,
    "start_time": "2024-05-31T06:19:13.625Z"
   },
   {
    "duration": 0,
    "start_time": "2024-05-31T06:19:13.627Z"
   },
   {
    "duration": 0,
    "start_time": "2024-05-31T06:19:13.629Z"
   },
   {
    "duration": 0,
    "start_time": "2024-05-31T06:19:13.631Z"
   },
   {
    "duration": 0,
    "start_time": "2024-05-31T06:19:13.635Z"
   },
   {
    "duration": 0,
    "start_time": "2024-05-31T06:19:13.637Z"
   },
   {
    "duration": 0,
    "start_time": "2024-05-31T06:19:13.639Z"
   },
   {
    "duration": 0,
    "start_time": "2024-05-31T06:19:13.641Z"
   },
   {
    "duration": 0,
    "start_time": "2024-05-31T06:19:13.644Z"
   },
   {
    "duration": 1406,
    "start_time": "2024-05-31T07:25:16.982Z"
   },
   {
    "duration": 41,
    "start_time": "2024-05-31T07:25:18.392Z"
   },
   {
    "duration": 18,
    "start_time": "2024-05-31T07:25:18.435Z"
   },
   {
    "duration": 4,
    "start_time": "2024-05-31T07:25:18.458Z"
   },
   {
    "duration": 57,
    "start_time": "2024-05-31T07:25:18.466Z"
   },
   {
    "duration": 31,
    "start_time": "2024-05-31T07:25:18.527Z"
   },
   {
    "duration": 6,
    "start_time": "2024-05-31T07:25:18.560Z"
   },
   {
    "duration": 53,
    "start_time": "2024-05-31T07:25:18.569Z"
   },
   {
    "duration": 6,
    "start_time": "2024-05-31T07:25:18.626Z"
   },
   {
    "duration": 14,
    "start_time": "2024-05-31T07:25:18.638Z"
   },
   {
    "duration": 6,
    "start_time": "2024-05-31T07:25:18.655Z"
   },
   {
    "duration": 5,
    "start_time": "2024-05-31T07:25:18.707Z"
   },
   {
    "duration": 492,
    "start_time": "2024-05-31T07:25:18.715Z"
   },
   {
    "duration": 0,
    "start_time": "2024-05-31T07:25:19.210Z"
   },
   {
    "duration": 0,
    "start_time": "2024-05-31T07:25:19.212Z"
   },
   {
    "duration": 0,
    "start_time": "2024-05-31T07:25:19.214Z"
   },
   {
    "duration": 0,
    "start_time": "2024-05-31T07:25:19.216Z"
   },
   {
    "duration": 0,
    "start_time": "2024-05-31T07:25:19.218Z"
   },
   {
    "duration": 0,
    "start_time": "2024-05-31T07:25:19.220Z"
   },
   {
    "duration": 0,
    "start_time": "2024-05-31T07:25:19.222Z"
   },
   {
    "duration": 0,
    "start_time": "2024-05-31T07:25:19.224Z"
   },
   {
    "duration": 0,
    "start_time": "2024-05-31T07:25:19.226Z"
   },
   {
    "duration": 0,
    "start_time": "2024-05-31T07:25:19.228Z"
   },
   {
    "duration": 0,
    "start_time": "2024-05-31T07:25:19.230Z"
   },
   {
    "duration": 0,
    "start_time": "2024-05-31T07:25:19.232Z"
   },
   {
    "duration": 0,
    "start_time": "2024-05-31T07:25:19.236Z"
   },
   {
    "duration": 0,
    "start_time": "2024-05-31T07:25:19.238Z"
   },
   {
    "duration": 0,
    "start_time": "2024-05-31T07:25:19.241Z"
   },
   {
    "duration": 0,
    "start_time": "2024-05-31T07:25:19.243Z"
   },
   {
    "duration": 54,
    "start_time": "2024-05-31T07:36:13.287Z"
   },
   {
    "duration": 9,
    "start_time": "2024-05-31T07:37:24.957Z"
   },
   {
    "duration": 34,
    "start_time": "2024-05-31T07:37:54.742Z"
   },
   {
    "duration": 5,
    "start_time": "2024-05-31T07:38:29.522Z"
   },
   {
    "duration": 7,
    "start_time": "2024-05-31T07:39:08.074Z"
   },
   {
    "duration": 24,
    "start_time": "2024-05-31T07:40:03.961Z"
   },
   {
    "duration": 34,
    "start_time": "2024-05-31T07:45:53.560Z"
   },
   {
    "duration": 52,
    "start_time": "2024-05-31T07:46:01.945Z"
   },
   {
    "duration": 52,
    "start_time": "2024-05-31T07:46:42.505Z"
   },
   {
    "duration": 48,
    "start_time": "2024-05-31T07:46:54.738Z"
   },
   {
    "duration": 52,
    "start_time": "2024-05-31T07:47:02.369Z"
   },
   {
    "duration": 41,
    "start_time": "2024-05-31T07:51:12.388Z"
   },
   {
    "duration": 13,
    "start_time": "2024-05-31T07:51:32.390Z"
   },
   {
    "duration": 52,
    "start_time": "2024-05-31T07:51:35.573Z"
   },
   {
    "duration": 23,
    "start_time": "2024-05-31T07:52:37.151Z"
   },
   {
    "duration": 36,
    "start_time": "2024-05-31T07:53:49.335Z"
   },
   {
    "duration": 50,
    "start_time": "2024-05-31T07:54:05.703Z"
   },
   {
    "duration": 1476,
    "start_time": "2024-05-31T07:54:35.494Z"
   },
   {
    "duration": 47,
    "start_time": "2024-05-31T07:54:36.975Z"
   },
   {
    "duration": 19,
    "start_time": "2024-05-31T07:54:37.024Z"
   },
   {
    "duration": 4,
    "start_time": "2024-05-31T07:54:37.050Z"
   },
   {
    "duration": 62,
    "start_time": "2024-05-31T07:54:37.057Z"
   },
   {
    "duration": 28,
    "start_time": "2024-05-31T07:54:37.122Z"
   },
   {
    "duration": 14,
    "start_time": "2024-05-31T07:54:37.153Z"
   },
   {
    "duration": 86,
    "start_time": "2024-05-31T07:54:37.170Z"
   },
   {
    "duration": 5,
    "start_time": "2024-05-31T07:54:37.259Z"
   },
   {
    "duration": 46,
    "start_time": "2024-05-31T07:54:37.273Z"
   },
   {
    "duration": 10,
    "start_time": "2024-05-31T07:54:37.322Z"
   },
   {
    "duration": 13,
    "start_time": "2024-05-31T07:54:37.338Z"
   },
   {
    "duration": 7,
    "start_time": "2024-05-31T07:54:37.354Z"
   },
   {
    "duration": 41,
    "start_time": "2024-05-31T07:54:37.365Z"
   },
   {
    "duration": 484,
    "start_time": "2024-05-31T07:54:37.409Z"
   },
   {
    "duration": 0,
    "start_time": "2024-05-31T07:54:37.896Z"
   },
   {
    "duration": 0,
    "start_time": "2024-05-31T07:54:37.907Z"
   },
   {
    "duration": 1,
    "start_time": "2024-05-31T07:54:37.908Z"
   },
   {
    "duration": 0,
    "start_time": "2024-05-31T07:54:37.910Z"
   },
   {
    "duration": 0,
    "start_time": "2024-05-31T07:54:37.912Z"
   },
   {
    "duration": 0,
    "start_time": "2024-05-31T07:54:37.914Z"
   },
   {
    "duration": 0,
    "start_time": "2024-05-31T07:54:37.916Z"
   },
   {
    "duration": 0,
    "start_time": "2024-05-31T07:54:37.918Z"
   },
   {
    "duration": 0,
    "start_time": "2024-05-31T07:54:37.924Z"
   },
   {
    "duration": 0,
    "start_time": "2024-05-31T07:54:37.927Z"
   },
   {
    "duration": 0,
    "start_time": "2024-05-31T07:54:37.929Z"
   },
   {
    "duration": 0,
    "start_time": "2024-05-31T07:54:37.931Z"
   },
   {
    "duration": 0,
    "start_time": "2024-05-31T07:54:37.933Z"
   },
   {
    "duration": 0,
    "start_time": "2024-05-31T07:54:37.936Z"
   },
   {
    "duration": 0,
    "start_time": "2024-05-31T07:54:37.938Z"
   },
   {
    "duration": 0,
    "start_time": "2024-05-31T07:54:37.940Z"
   },
   {
    "duration": 1458,
    "start_time": "2024-05-31T08:12:31.014Z"
   },
   {
    "duration": 33,
    "start_time": "2024-05-31T08:12:32.475Z"
   },
   {
    "duration": 17,
    "start_time": "2024-05-31T08:12:32.511Z"
   },
   {
    "duration": 5,
    "start_time": "2024-05-31T08:12:32.533Z"
   },
   {
    "duration": 64,
    "start_time": "2024-05-31T08:12:32.541Z"
   },
   {
    "duration": 27,
    "start_time": "2024-05-31T08:12:32.608Z"
   },
   {
    "duration": 14,
    "start_time": "2024-05-31T08:12:32.638Z"
   },
   {
    "duration": 85,
    "start_time": "2024-05-31T08:12:32.655Z"
   },
   {
    "duration": 8,
    "start_time": "2024-05-31T08:12:32.742Z"
   },
   {
    "duration": 21,
    "start_time": "2024-05-31T08:12:32.757Z"
   },
   {
    "duration": 27,
    "start_time": "2024-05-31T08:12:32.781Z"
   },
   {
    "duration": 13,
    "start_time": "2024-05-31T08:12:32.811Z"
   },
   {
    "duration": 7,
    "start_time": "2024-05-31T08:12:32.826Z"
   },
   {
    "duration": 8,
    "start_time": "2024-05-31T08:12:32.836Z"
   },
   {
    "duration": 524,
    "start_time": "2024-05-31T08:12:32.847Z"
   },
   {
    "duration": 0,
    "start_time": "2024-05-31T08:12:33.374Z"
   },
   {
    "duration": 0,
    "start_time": "2024-05-31T08:12:33.377Z"
   },
   {
    "duration": 0,
    "start_time": "2024-05-31T08:12:33.379Z"
   },
   {
    "duration": 0,
    "start_time": "2024-05-31T08:12:33.381Z"
   },
   {
    "duration": 0,
    "start_time": "2024-05-31T08:12:33.383Z"
   },
   {
    "duration": 0,
    "start_time": "2024-05-31T08:12:33.385Z"
   },
   {
    "duration": 0,
    "start_time": "2024-05-31T08:12:33.406Z"
   },
   {
    "duration": 0,
    "start_time": "2024-05-31T08:12:33.408Z"
   },
   {
    "duration": 0,
    "start_time": "2024-05-31T08:12:33.410Z"
   },
   {
    "duration": 0,
    "start_time": "2024-05-31T08:12:33.413Z"
   },
   {
    "duration": 0,
    "start_time": "2024-05-31T08:12:33.415Z"
   },
   {
    "duration": 0,
    "start_time": "2024-05-31T08:12:33.417Z"
   },
   {
    "duration": 0,
    "start_time": "2024-05-31T08:12:33.418Z"
   },
   {
    "duration": 1395,
    "start_time": "2024-05-31T08:16:30.771Z"
   },
   {
    "duration": 24,
    "start_time": "2024-05-31T08:16:32.170Z"
   },
   {
    "duration": 24,
    "start_time": "2024-05-31T08:16:32.196Z"
   },
   {
    "duration": 4,
    "start_time": "2024-05-31T08:16:32.225Z"
   },
   {
    "duration": 33,
    "start_time": "2024-05-31T08:16:32.232Z"
   },
   {
    "duration": 60,
    "start_time": "2024-05-31T08:16:32.268Z"
   },
   {
    "duration": 14,
    "start_time": "2024-05-31T08:16:32.332Z"
   },
   {
    "duration": 85,
    "start_time": "2024-05-31T08:16:32.349Z"
   },
   {
    "duration": 5,
    "start_time": "2024-05-31T08:16:32.437Z"
   },
   {
    "duration": 21,
    "start_time": "2024-05-31T08:16:32.448Z"
   },
   {
    "duration": 35,
    "start_time": "2024-05-31T08:16:32.472Z"
   },
   {
    "duration": 12,
    "start_time": "2024-05-31T08:16:32.510Z"
   },
   {
    "duration": 6,
    "start_time": "2024-05-31T08:16:32.525Z"
   },
   {
    "duration": 513,
    "start_time": "2024-05-31T08:16:32.535Z"
   },
   {
    "duration": 0,
    "start_time": "2024-05-31T08:16:33.051Z"
   },
   {
    "duration": 0,
    "start_time": "2024-05-31T08:16:33.053Z"
   },
   {
    "duration": 0,
    "start_time": "2024-05-31T08:16:33.055Z"
   },
   {
    "duration": 0,
    "start_time": "2024-05-31T08:16:33.057Z"
   },
   {
    "duration": 0,
    "start_time": "2024-05-31T08:16:33.059Z"
   },
   {
    "duration": 0,
    "start_time": "2024-05-31T08:16:33.062Z"
   },
   {
    "duration": 0,
    "start_time": "2024-05-31T08:16:33.064Z"
   },
   {
    "duration": 0,
    "start_time": "2024-05-31T08:16:33.066Z"
   },
   {
    "duration": 0,
    "start_time": "2024-05-31T08:16:33.068Z"
   },
   {
    "duration": 0,
    "start_time": "2024-05-31T08:16:33.071Z"
   },
   {
    "duration": 0,
    "start_time": "2024-05-31T08:16:33.108Z"
   },
   {
    "duration": 0,
    "start_time": "2024-05-31T08:16:33.109Z"
   },
   {
    "duration": 0,
    "start_time": "2024-05-31T08:16:33.112Z"
   },
   {
    "duration": 1439,
    "start_time": "2024-05-31T08:16:45.824Z"
   },
   {
    "duration": 25,
    "start_time": "2024-05-31T08:16:47.266Z"
   },
   {
    "duration": 18,
    "start_time": "2024-05-31T08:16:47.305Z"
   },
   {
    "duration": 5,
    "start_time": "2024-05-31T08:16:47.327Z"
   },
   {
    "duration": 34,
    "start_time": "2024-05-31T08:16:47.335Z"
   },
   {
    "duration": 62,
    "start_time": "2024-05-31T08:16:47.372Z"
   },
   {
    "duration": 15,
    "start_time": "2024-05-31T08:16:47.436Z"
   },
   {
    "duration": 88,
    "start_time": "2024-05-31T08:16:47.454Z"
   },
   {
    "duration": 6,
    "start_time": "2024-05-31T08:16:47.546Z"
   },
   {
    "duration": 21,
    "start_time": "2024-05-31T08:16:47.558Z"
   },
   {
    "duration": 29,
    "start_time": "2024-05-31T08:16:47.582Z"
   },
   {
    "duration": 12,
    "start_time": "2024-05-31T08:16:47.614Z"
   },
   {
    "duration": 6,
    "start_time": "2024-05-31T08:16:47.629Z"
   },
   {
    "duration": 8,
    "start_time": "2024-05-31T08:16:47.638Z"
   },
   {
    "duration": 549,
    "start_time": "2024-05-31T08:16:47.649Z"
   },
   {
    "duration": 0,
    "start_time": "2024-05-31T08:16:48.205Z"
   },
   {
    "duration": 0,
    "start_time": "2024-05-31T08:16:48.210Z"
   },
   {
    "duration": 1,
    "start_time": "2024-05-31T08:16:48.212Z"
   },
   {
    "duration": 0,
    "start_time": "2024-05-31T08:16:48.215Z"
   },
   {
    "duration": 0,
    "start_time": "2024-05-31T08:16:48.219Z"
   },
   {
    "duration": 0,
    "start_time": "2024-05-31T08:16:48.222Z"
   },
   {
    "duration": 0,
    "start_time": "2024-05-31T08:16:48.225Z"
   },
   {
    "duration": 0,
    "start_time": "2024-05-31T08:16:48.227Z"
   },
   {
    "duration": 0,
    "start_time": "2024-05-31T08:16:48.232Z"
   },
   {
    "duration": 0,
    "start_time": "2024-05-31T08:16:48.233Z"
   },
   {
    "duration": 0,
    "start_time": "2024-05-31T08:16:48.236Z"
   },
   {
    "duration": 0,
    "start_time": "2024-05-31T08:16:48.238Z"
   },
   {
    "duration": 26,
    "start_time": "2024-05-31T08:17:12.391Z"
   },
   {
    "duration": 1561,
    "start_time": "2024-05-31T08:19:50.484Z"
   },
   {
    "duration": 29,
    "start_time": "2024-05-31T08:19:52.049Z"
   },
   {
    "duration": 34,
    "start_time": "2024-05-31T08:19:52.081Z"
   },
   {
    "duration": 4,
    "start_time": "2024-05-31T08:19:52.119Z"
   },
   {
    "duration": 33,
    "start_time": "2024-05-31T08:19:52.126Z"
   },
   {
    "duration": 63,
    "start_time": "2024-05-31T08:19:52.162Z"
   },
   {
    "duration": 14,
    "start_time": "2024-05-31T08:19:52.227Z"
   },
   {
    "duration": 87,
    "start_time": "2024-05-31T08:19:52.244Z"
   },
   {
    "duration": 5,
    "start_time": "2024-05-31T08:19:52.335Z"
   },
   {
    "duration": 22,
    "start_time": "2024-05-31T08:19:52.347Z"
   },
   {
    "duration": 35,
    "start_time": "2024-05-31T08:19:52.372Z"
   },
   {
    "duration": 13,
    "start_time": "2024-05-31T08:19:52.410Z"
   },
   {
    "duration": 7,
    "start_time": "2024-05-31T08:19:52.426Z"
   },
   {
    "duration": 8,
    "start_time": "2024-05-31T08:19:52.436Z"
   },
   {
    "duration": 246,
    "start_time": "2024-05-31T08:19:52.447Z"
   },
   {
    "duration": 14,
    "start_time": "2024-05-31T08:19:52.697Z"
   },
   {
    "duration": 5,
    "start_time": "2024-05-31T08:19:52.714Z"
   },
   {
    "duration": 0,
    "start_time": "2024-05-31T08:19:52.722Z"
   },
   {
    "duration": 0,
    "start_time": "2024-05-31T08:19:52.724Z"
   },
   {
    "duration": 0,
    "start_time": "2024-05-31T08:19:52.726Z"
   },
   {
    "duration": 0,
    "start_time": "2024-05-31T08:19:52.728Z"
   },
   {
    "duration": 0,
    "start_time": "2024-05-31T08:19:52.730Z"
   },
   {
    "duration": 0,
    "start_time": "2024-05-31T08:19:52.731Z"
   },
   {
    "duration": 0,
    "start_time": "2024-05-31T08:19:52.733Z"
   },
   {
    "duration": 0,
    "start_time": "2024-05-31T08:19:52.735Z"
   },
   {
    "duration": 0,
    "start_time": "2024-05-31T08:19:52.737Z"
   },
   {
    "duration": 0,
    "start_time": "2024-05-31T08:19:52.739Z"
   },
   {
    "duration": 1658,
    "start_time": "2024-05-31T08:21:18.591Z"
   },
   {
    "duration": 27,
    "start_time": "2024-05-31T08:21:20.252Z"
   },
   {
    "duration": 29,
    "start_time": "2024-05-31T08:21:20.281Z"
   },
   {
    "duration": 4,
    "start_time": "2024-05-31T08:21:20.315Z"
   },
   {
    "duration": 33,
    "start_time": "2024-05-31T08:21:20.323Z"
   },
   {
    "duration": 60,
    "start_time": "2024-05-31T08:21:20.360Z"
   },
   {
    "duration": 14,
    "start_time": "2024-05-31T08:21:20.422Z"
   },
   {
    "duration": 77,
    "start_time": "2024-05-31T08:21:20.439Z"
   },
   {
    "duration": 6,
    "start_time": "2024-05-31T08:21:20.519Z"
   },
   {
    "duration": 25,
    "start_time": "2024-05-31T08:21:20.531Z"
   },
   {
    "duration": 8,
    "start_time": "2024-05-31T08:21:20.559Z"
   },
   {
    "duration": 44,
    "start_time": "2024-05-31T08:21:20.571Z"
   },
   {
    "duration": 6,
    "start_time": "2024-05-31T08:21:20.618Z"
   },
   {
    "duration": 9,
    "start_time": "2024-05-31T08:21:20.628Z"
   },
   {
    "duration": 239,
    "start_time": "2024-05-31T08:21:20.640Z"
   },
   {
    "duration": 8,
    "start_time": "2024-05-31T08:21:20.883Z"
   },
   {
    "duration": 3,
    "start_time": "2024-05-31T08:21:20.908Z"
   },
   {
    "duration": 847,
    "start_time": "2024-05-31T08:21:20.914Z"
   },
   {
    "duration": 0,
    "start_time": "2024-05-31T08:21:21.763Z"
   },
   {
    "duration": 0,
    "start_time": "2024-05-31T08:21:21.765Z"
   },
   {
    "duration": 0,
    "start_time": "2024-05-31T08:21:21.767Z"
   },
   {
    "duration": 0,
    "start_time": "2024-05-31T08:21:21.769Z"
   },
   {
    "duration": 0,
    "start_time": "2024-05-31T08:21:21.771Z"
   },
   {
    "duration": 0,
    "start_time": "2024-05-31T08:21:21.773Z"
   },
   {
    "duration": 0,
    "start_time": "2024-05-31T08:21:21.774Z"
   },
   {
    "duration": 0,
    "start_time": "2024-05-31T08:21:21.776Z"
   },
   {
    "duration": 0,
    "start_time": "2024-05-31T08:21:21.777Z"
   },
   {
    "duration": 0,
    "start_time": "2024-05-31T08:21:21.807Z"
   },
   {
    "duration": 1586,
    "start_time": "2024-05-31T08:24:45.880Z"
   },
   {
    "duration": 24,
    "start_time": "2024-05-31T08:24:47.470Z"
   },
   {
    "duration": 17,
    "start_time": "2024-05-31T08:24:47.506Z"
   },
   {
    "duration": 4,
    "start_time": "2024-05-31T08:24:47.526Z"
   },
   {
    "duration": 32,
    "start_time": "2024-05-31T08:24:47.536Z"
   },
   {
    "duration": 62,
    "start_time": "2024-05-31T08:24:47.571Z"
   },
   {
    "duration": 13,
    "start_time": "2024-05-31T08:24:47.636Z"
   },
   {
    "duration": 90,
    "start_time": "2024-05-31T08:24:47.653Z"
   },
   {
    "duration": 6,
    "start_time": "2024-05-31T08:24:47.746Z"
   },
   {
    "duration": 22,
    "start_time": "2024-05-31T08:24:47.755Z"
   },
   {
    "duration": 30,
    "start_time": "2024-05-31T08:24:47.782Z"
   },
   {
    "duration": 13,
    "start_time": "2024-05-31T08:24:47.814Z"
   },
   {
    "duration": 7,
    "start_time": "2024-05-31T08:24:47.829Z"
   },
   {
    "duration": 8,
    "start_time": "2024-05-31T08:24:47.842Z"
   },
   {
    "duration": 256,
    "start_time": "2024-05-31T08:24:47.853Z"
   },
   {
    "duration": 9,
    "start_time": "2024-05-31T08:24:48.112Z"
   },
   {
    "duration": 4,
    "start_time": "2024-05-31T08:24:48.123Z"
   },
   {
    "duration": 820,
    "start_time": "2024-05-31T08:24:48.130Z"
   },
   {
    "duration": 0,
    "start_time": "2024-05-31T08:24:48.953Z"
   },
   {
    "duration": 1,
    "start_time": "2024-05-31T08:24:48.954Z"
   },
   {
    "duration": 0,
    "start_time": "2024-05-31T08:24:48.957Z"
   },
   {
    "duration": 0,
    "start_time": "2024-05-31T08:24:48.959Z"
   },
   {
    "duration": 0,
    "start_time": "2024-05-31T08:24:48.962Z"
   },
   {
    "duration": 0,
    "start_time": "2024-05-31T08:24:48.964Z"
   },
   {
    "duration": 0,
    "start_time": "2024-05-31T08:24:48.966Z"
   },
   {
    "duration": 1,
    "start_time": "2024-05-31T08:24:48.967Z"
   },
   {
    "duration": 0,
    "start_time": "2024-05-31T08:24:48.970Z"
   },
   {
    "duration": 0,
    "start_time": "2024-05-31T08:24:48.972Z"
   },
   {
    "duration": 7,
    "start_time": "2024-05-31T08:26:37.250Z"
   },
   {
    "duration": 1567,
    "start_time": "2024-05-31T08:29:43.082Z"
   },
   {
    "duration": 24,
    "start_time": "2024-05-31T08:29:44.652Z"
   },
   {
    "duration": 30,
    "start_time": "2024-05-31T08:29:44.680Z"
   },
   {
    "duration": 4,
    "start_time": "2024-05-31T08:29:44.714Z"
   },
   {
    "duration": 33,
    "start_time": "2024-05-31T08:29:44.721Z"
   },
   {
    "duration": 64,
    "start_time": "2024-05-31T08:29:44.757Z"
   },
   {
    "duration": 14,
    "start_time": "2024-05-31T08:29:44.824Z"
   },
   {
    "duration": 87,
    "start_time": "2024-05-31T08:29:44.840Z"
   },
   {
    "duration": 5,
    "start_time": "2024-05-31T08:29:44.930Z"
   },
   {
    "duration": 21,
    "start_time": "2024-05-31T08:29:44.942Z"
   },
   {
    "duration": 7,
    "start_time": "2024-05-31T08:29:44.966Z"
   },
   {
    "duration": 12,
    "start_time": "2024-05-31T08:29:45.007Z"
   },
   {
    "duration": 7,
    "start_time": "2024-05-31T08:29:45.022Z"
   },
   {
    "duration": 9,
    "start_time": "2024-05-31T08:29:45.032Z"
   },
   {
    "duration": 242,
    "start_time": "2024-05-31T08:29:45.044Z"
   },
   {
    "duration": 21,
    "start_time": "2024-05-31T08:29:45.289Z"
   },
   {
    "duration": 784,
    "start_time": "2024-05-31T08:29:45.313Z"
   },
   {
    "duration": 0,
    "start_time": "2024-05-31T08:29:46.100Z"
   },
   {
    "duration": 0,
    "start_time": "2024-05-31T08:29:46.106Z"
   },
   {
    "duration": 0,
    "start_time": "2024-05-31T08:29:46.108Z"
   },
   {
    "duration": 0,
    "start_time": "2024-05-31T08:29:46.110Z"
   },
   {
    "duration": 0,
    "start_time": "2024-05-31T08:29:46.113Z"
   },
   {
    "duration": 0,
    "start_time": "2024-05-31T08:29:46.114Z"
   },
   {
    "duration": 0,
    "start_time": "2024-05-31T08:29:46.116Z"
   },
   {
    "duration": 0,
    "start_time": "2024-05-31T08:29:46.119Z"
   },
   {
    "duration": 0,
    "start_time": "2024-05-31T08:29:46.121Z"
   },
   {
    "duration": 0,
    "start_time": "2024-05-31T08:29:46.123Z"
   },
   {
    "duration": 7,
    "start_time": "2024-05-31T08:35:11.946Z"
   },
   {
    "duration": 25,
    "start_time": "2024-05-31T08:35:44.294Z"
   },
   {
    "duration": 1573,
    "start_time": "2024-05-31T08:36:04.451Z"
   },
   {
    "duration": 25,
    "start_time": "2024-05-31T08:36:06.029Z"
   },
   {
    "duration": 21,
    "start_time": "2024-05-31T08:36:06.057Z"
   },
   {
    "duration": 27,
    "start_time": "2024-05-31T08:36:06.080Z"
   },
   {
    "duration": 32,
    "start_time": "2024-05-31T08:36:06.112Z"
   },
   {
    "duration": 59,
    "start_time": "2024-05-31T08:36:06.147Z"
   },
   {
    "duration": 13,
    "start_time": "2024-05-31T08:36:06.209Z"
   },
   {
    "duration": 55,
    "start_time": "2024-05-31T08:36:06.226Z"
   },
   {
    "duration": 9,
    "start_time": "2024-05-31T08:36:06.308Z"
   },
   {
    "duration": 22,
    "start_time": "2024-05-31T08:36:06.321Z"
   },
   {
    "duration": 10,
    "start_time": "2024-05-31T08:36:06.345Z"
   },
   {
    "duration": 12,
    "start_time": "2024-05-31T08:36:06.357Z"
   },
   {
    "duration": 6,
    "start_time": "2024-05-31T08:36:06.407Z"
   },
   {
    "duration": 7,
    "start_time": "2024-05-31T08:36:06.420Z"
   },
   {
    "duration": 446,
    "start_time": "2024-05-31T08:36:06.430Z"
   },
   {
    "duration": 0,
    "start_time": "2024-05-31T08:36:06.879Z"
   },
   {
    "duration": 0,
    "start_time": "2024-05-31T08:36:06.880Z"
   },
   {
    "duration": 0,
    "start_time": "2024-05-31T08:36:06.882Z"
   },
   {
    "duration": 0,
    "start_time": "2024-05-31T08:36:06.885Z"
   },
   {
    "duration": 0,
    "start_time": "2024-05-31T08:36:06.887Z"
   },
   {
    "duration": 0,
    "start_time": "2024-05-31T08:36:06.889Z"
   },
   {
    "duration": 0,
    "start_time": "2024-05-31T08:36:06.906Z"
   },
   {
    "duration": 0,
    "start_time": "2024-05-31T08:36:06.908Z"
   },
   {
    "duration": 0,
    "start_time": "2024-05-31T08:36:06.910Z"
   },
   {
    "duration": 0,
    "start_time": "2024-05-31T08:36:06.912Z"
   },
   {
    "duration": 0,
    "start_time": "2024-05-31T08:36:06.914Z"
   },
   {
    "duration": 0,
    "start_time": "2024-05-31T08:36:06.915Z"
   },
   {
    "duration": 0,
    "start_time": "2024-05-31T08:36:06.917Z"
   },
   {
    "duration": 0,
    "start_time": "2024-05-31T08:36:06.919Z"
   },
   {
    "duration": 1636,
    "start_time": "2024-05-31T08:37:04.206Z"
   },
   {
    "duration": 23,
    "start_time": "2024-05-31T08:37:05.846Z"
   },
   {
    "duration": 33,
    "start_time": "2024-05-31T08:37:05.872Z"
   },
   {
    "duration": 4,
    "start_time": "2024-05-31T08:37:05.909Z"
   },
   {
    "duration": 31,
    "start_time": "2024-05-31T08:37:05.916Z"
   },
   {
    "duration": 58,
    "start_time": "2024-05-31T08:37:05.950Z"
   },
   {
    "duration": 14,
    "start_time": "2024-05-31T08:37:06.011Z"
   },
   {
    "duration": 81,
    "start_time": "2024-05-31T08:37:06.027Z"
   },
   {
    "duration": 6,
    "start_time": "2024-05-31T08:37:06.110Z"
   },
   {
    "duration": 21,
    "start_time": "2024-05-31T08:37:06.123Z"
   },
   {
    "duration": 7,
    "start_time": "2024-05-31T08:37:06.147Z"
   },
   {
    "duration": 49,
    "start_time": "2024-05-31T08:37:06.157Z"
   },
   {
    "duration": 7,
    "start_time": "2024-05-31T08:37:06.209Z"
   },
   {
    "duration": 9,
    "start_time": "2024-05-31T08:37:06.219Z"
   },
   {
    "duration": 8,
    "start_time": "2024-05-31T08:37:06.230Z"
   },
   {
    "duration": 11,
    "start_time": "2024-05-31T08:37:06.241Z"
   },
   {
    "duration": 216,
    "start_time": "2024-05-31T08:37:06.305Z"
   },
   {
    "duration": 10,
    "start_time": "2024-05-31T08:37:06.527Z"
   },
   {
    "duration": 803,
    "start_time": "2024-05-31T08:37:06.540Z"
   },
   {
    "duration": 0,
    "start_time": "2024-05-31T08:37:07.347Z"
   },
   {
    "duration": 0,
    "start_time": "2024-05-31T08:37:07.350Z"
   },
   {
    "duration": 0,
    "start_time": "2024-05-31T08:37:07.352Z"
   },
   {
    "duration": 0,
    "start_time": "2024-05-31T08:37:07.355Z"
   },
   {
    "duration": 0,
    "start_time": "2024-05-31T08:37:07.357Z"
   },
   {
    "duration": 0,
    "start_time": "2024-05-31T08:37:07.359Z"
   },
   {
    "duration": 0,
    "start_time": "2024-05-31T08:37:07.362Z"
   },
   {
    "duration": 0,
    "start_time": "2024-05-31T08:37:07.364Z"
   },
   {
    "duration": 0,
    "start_time": "2024-05-31T08:37:07.366Z"
   },
   {
    "duration": 0,
    "start_time": "2024-05-31T08:37:07.369Z"
   },
   {
    "duration": 1705,
    "start_time": "2024-05-31T08:41:08.371Z"
   },
   {
    "duration": 54,
    "start_time": "2024-05-31T08:41:10.084Z"
   },
   {
    "duration": 27,
    "start_time": "2024-05-31T08:41:10.142Z"
   },
   {
    "duration": 29,
    "start_time": "2024-05-31T08:41:10.177Z"
   },
   {
    "duration": 37,
    "start_time": "2024-05-31T08:41:10.209Z"
   },
   {
    "duration": 57,
    "start_time": "2024-05-31T08:41:10.249Z"
   },
   {
    "duration": 9,
    "start_time": "2024-05-31T08:41:10.310Z"
   },
   {
    "duration": 1548,
    "start_time": "2024-05-31T08:41:10.323Z"
   },
   {
    "duration": 0,
    "start_time": "2024-05-31T08:41:11.876Z"
   },
   {
    "duration": 0,
    "start_time": "2024-05-31T08:41:11.878Z"
   },
   {
    "duration": 0,
    "start_time": "2024-05-31T08:41:11.881Z"
   },
   {
    "duration": 0,
    "start_time": "2024-05-31T08:41:11.882Z"
   },
   {
    "duration": 0,
    "start_time": "2024-05-31T08:41:11.884Z"
   },
   {
    "duration": 0,
    "start_time": "2024-05-31T08:41:11.907Z"
   },
   {
    "duration": 0,
    "start_time": "2024-05-31T08:41:11.909Z"
   },
   {
    "duration": 0,
    "start_time": "2024-05-31T08:41:11.912Z"
   },
   {
    "duration": 0,
    "start_time": "2024-05-31T08:41:11.914Z"
   },
   {
    "duration": 0,
    "start_time": "2024-05-31T08:41:11.920Z"
   },
   {
    "duration": 0,
    "start_time": "2024-05-31T08:41:11.923Z"
   },
   {
    "duration": 0,
    "start_time": "2024-05-31T08:41:11.925Z"
   },
   {
    "duration": 0,
    "start_time": "2024-05-31T08:41:11.928Z"
   },
   {
    "duration": 0,
    "start_time": "2024-05-31T08:41:11.930Z"
   },
   {
    "duration": 0,
    "start_time": "2024-05-31T08:41:11.933Z"
   },
   {
    "duration": 0,
    "start_time": "2024-05-31T08:41:11.937Z"
   },
   {
    "duration": 0,
    "start_time": "2024-05-31T08:41:11.939Z"
   },
   {
    "duration": 0,
    "start_time": "2024-05-31T08:41:11.941Z"
   },
   {
    "duration": 0,
    "start_time": "2024-05-31T08:41:11.944Z"
   },
   {
    "duration": 0,
    "start_time": "2024-05-31T08:41:11.946Z"
   },
   {
    "duration": 0,
    "start_time": "2024-05-31T08:41:11.949Z"
   },
   {
    "duration": 1564,
    "start_time": "2024-05-31T08:42:34.372Z"
   },
   {
    "duration": 25,
    "start_time": "2024-05-31T08:42:35.939Z"
   },
   {
    "duration": 18,
    "start_time": "2024-05-31T08:42:35.966Z"
   },
   {
    "duration": 4,
    "start_time": "2024-05-31T08:42:36.008Z"
   },
   {
    "duration": 32,
    "start_time": "2024-05-31T08:42:36.016Z"
   },
   {
    "duration": 59,
    "start_time": "2024-05-31T08:42:36.051Z"
   },
   {
    "duration": 8,
    "start_time": "2024-05-31T08:42:36.113Z"
   },
   {
    "duration": 1438,
    "start_time": "2024-05-31T08:42:36.124Z"
   },
   {
    "duration": 0,
    "start_time": "2024-05-31T08:42:37.567Z"
   },
   {
    "duration": 0,
    "start_time": "2024-05-31T08:42:37.569Z"
   },
   {
    "duration": 0,
    "start_time": "2024-05-31T08:42:37.571Z"
   },
   {
    "duration": 0,
    "start_time": "2024-05-31T08:42:37.574Z"
   },
   {
    "duration": 0,
    "start_time": "2024-05-31T08:42:37.576Z"
   },
   {
    "duration": 0,
    "start_time": "2024-05-31T08:42:37.578Z"
   },
   {
    "duration": 0,
    "start_time": "2024-05-31T08:42:37.606Z"
   },
   {
    "duration": 0,
    "start_time": "2024-05-31T08:42:37.609Z"
   },
   {
    "duration": 0,
    "start_time": "2024-05-31T08:42:37.612Z"
   },
   {
    "duration": 0,
    "start_time": "2024-05-31T08:42:37.614Z"
   },
   {
    "duration": 0,
    "start_time": "2024-05-31T08:42:37.617Z"
   },
   {
    "duration": 0,
    "start_time": "2024-05-31T08:42:37.619Z"
   },
   {
    "duration": 0,
    "start_time": "2024-05-31T08:42:37.620Z"
   },
   {
    "duration": 0,
    "start_time": "2024-05-31T08:42:37.623Z"
   },
   {
    "duration": 0,
    "start_time": "2024-05-31T08:42:37.626Z"
   },
   {
    "duration": 0,
    "start_time": "2024-05-31T08:42:37.628Z"
   },
   {
    "duration": 0,
    "start_time": "2024-05-31T08:42:37.631Z"
   },
   {
    "duration": 0,
    "start_time": "2024-05-31T08:42:37.633Z"
   },
   {
    "duration": 0,
    "start_time": "2024-05-31T08:42:37.636Z"
   },
   {
    "duration": 0,
    "start_time": "2024-05-31T08:42:37.639Z"
   },
   {
    "duration": 0,
    "start_time": "2024-05-31T08:42:37.641Z"
   },
   {
    "duration": 16,
    "start_time": "2024-05-31T08:43:37.719Z"
   },
   {
    "duration": 1572,
    "start_time": "2024-05-31T08:44:09.279Z"
   },
   {
    "duration": 25,
    "start_time": "2024-05-31T08:44:10.855Z"
   },
   {
    "duration": 33,
    "start_time": "2024-05-31T08:44:10.883Z"
   },
   {
    "duration": 7,
    "start_time": "2024-05-31T08:44:10.920Z"
   },
   {
    "duration": 34,
    "start_time": "2024-05-31T08:44:10.930Z"
   },
   {
    "duration": 58,
    "start_time": "2024-05-31T08:44:10.966Z"
   },
   {
    "duration": 8,
    "start_time": "2024-05-31T08:44:11.027Z"
   },
   {
    "duration": 12,
    "start_time": "2024-05-31T08:44:11.038Z"
   },
   {
    "duration": 13,
    "start_time": "2024-05-31T08:44:11.053Z"
   },
   {
    "duration": 55,
    "start_time": "2024-05-31T08:44:11.111Z"
   },
   {
    "duration": 5,
    "start_time": "2024-05-31T08:44:11.170Z"
   },
   {
    "duration": 47,
    "start_time": "2024-05-31T08:44:11.178Z"
   },
   {
    "duration": 7,
    "start_time": "2024-05-31T08:44:11.230Z"
   },
   {
    "duration": 12,
    "start_time": "2024-05-31T08:44:11.240Z"
   },
   {
    "duration": 7,
    "start_time": "2024-05-31T08:44:11.255Z"
   },
   {
    "duration": 44,
    "start_time": "2024-05-31T08:44:11.266Z"
   },
   {
    "duration": 220,
    "start_time": "2024-05-31T08:44:11.313Z"
   },
   {
    "duration": 7,
    "start_time": "2024-05-31T08:44:11.536Z"
   },
   {
    "duration": 791,
    "start_time": "2024-05-31T08:44:11.546Z"
   },
   {
    "duration": 0,
    "start_time": "2024-05-31T08:44:12.340Z"
   },
   {
    "duration": 0,
    "start_time": "2024-05-31T08:44:12.342Z"
   },
   {
    "duration": 0,
    "start_time": "2024-05-31T08:44:12.344Z"
   },
   {
    "duration": 0,
    "start_time": "2024-05-31T08:44:12.346Z"
   },
   {
    "duration": 0,
    "start_time": "2024-05-31T08:44:12.348Z"
   },
   {
    "duration": 0,
    "start_time": "2024-05-31T08:44:12.350Z"
   },
   {
    "duration": 0,
    "start_time": "2024-05-31T08:44:12.351Z"
   },
   {
    "duration": 0,
    "start_time": "2024-05-31T08:44:12.353Z"
   },
   {
    "duration": 0,
    "start_time": "2024-05-31T08:44:12.355Z"
   },
   {
    "duration": 0,
    "start_time": "2024-05-31T08:44:12.357Z"
   },
   {
    "duration": 1567,
    "start_time": "2024-05-31T08:46:29.374Z"
   },
   {
    "duration": 25,
    "start_time": "2024-05-31T08:46:30.945Z"
   },
   {
    "duration": 34,
    "start_time": "2024-05-31T08:46:30.973Z"
   },
   {
    "duration": 5,
    "start_time": "2024-05-31T08:46:31.011Z"
   },
   {
    "duration": 32,
    "start_time": "2024-05-31T08:46:31.019Z"
   },
   {
    "duration": 60,
    "start_time": "2024-05-31T08:46:31.054Z"
   },
   {
    "duration": 9,
    "start_time": "2024-05-31T08:46:31.117Z"
   },
   {
    "duration": 10,
    "start_time": "2024-05-31T08:46:31.129Z"
   },
   {
    "duration": 74,
    "start_time": "2024-05-31T08:46:31.142Z"
   },
   {
    "duration": 40,
    "start_time": "2024-05-31T08:46:31.223Z"
   },
   {
    "duration": 13,
    "start_time": "2024-05-31T08:46:31.266Z"
   },
   {
    "duration": 58,
    "start_time": "2024-05-31T08:46:31.305Z"
   },
   {
    "duration": 5,
    "start_time": "2024-05-31T08:46:31.366Z"
   },
   {
    "duration": 42,
    "start_time": "2024-05-31T08:46:31.374Z"
   },
   {
    "duration": 6,
    "start_time": "2024-05-31T08:46:31.419Z"
   },
   {
    "duration": 12,
    "start_time": "2024-05-31T08:46:31.428Z"
   },
   {
    "duration": 6,
    "start_time": "2024-05-31T08:46:31.444Z"
   },
   {
    "duration": 56,
    "start_time": "2024-05-31T08:46:31.453Z"
   },
   {
    "duration": 208,
    "start_time": "2024-05-31T08:46:31.512Z"
   },
   {
    "duration": 7,
    "start_time": "2024-05-31T08:46:31.723Z"
   },
   {
    "duration": 86,
    "start_time": "2024-05-31T08:46:31.733Z"
   },
   {
    "duration": 7,
    "start_time": "2024-05-31T08:46:31.821Z"
   },
   {
    "duration": 9,
    "start_time": "2024-05-31T08:46:31.832Z"
   },
   {
    "duration": 4,
    "start_time": "2024-05-31T08:46:31.844Z"
   },
   {
    "duration": 5,
    "start_time": "2024-05-31T08:46:31.852Z"
   },
   {
    "duration": 50,
    "start_time": "2024-05-31T08:46:31.860Z"
   },
   {
    "duration": 0,
    "start_time": "2024-05-31T08:46:31.914Z"
   },
   {
    "duration": 0,
    "start_time": "2024-05-31T08:46:31.917Z"
   },
   {
    "duration": 0,
    "start_time": "2024-05-31T08:46:31.920Z"
   },
   {
    "duration": 0,
    "start_time": "2024-05-31T08:46:31.922Z"
   },
   {
    "duration": 0,
    "start_time": "2024-05-31T08:46:31.924Z"
   },
   {
    "duration": 5694,
    "start_time": "2024-06-01T05:12:20.759Z"
   },
   {
    "duration": 43,
    "start_time": "2024-06-01T05:12:26.458Z"
   },
   {
    "duration": 19,
    "start_time": "2024-06-01T05:12:26.503Z"
   },
   {
    "duration": 4,
    "start_time": "2024-06-01T05:12:26.526Z"
   },
   {
    "duration": 64,
    "start_time": "2024-06-01T05:12:26.534Z"
   },
   {
    "duration": 33,
    "start_time": "2024-06-01T05:12:26.602Z"
   },
   {
    "duration": 9,
    "start_time": "2024-06-01T05:12:26.638Z"
   },
   {
    "duration": 42,
    "start_time": "2024-06-01T05:12:26.651Z"
   },
   {
    "duration": 42,
    "start_time": "2024-06-01T05:12:26.696Z"
   },
   {
    "duration": 4,
    "start_time": "2024-06-01T05:12:26.744Z"
   },
   {
    "duration": 45,
    "start_time": "2024-06-01T05:12:26.755Z"
   },
   {
    "duration": 63,
    "start_time": "2024-06-01T05:12:26.803Z"
   },
   {
    "duration": 24,
    "start_time": "2024-06-01T05:12:26.872Z"
   },
   {
    "duration": 29,
    "start_time": "2024-06-01T05:12:26.899Z"
   },
   {
    "duration": 9,
    "start_time": "2024-06-01T05:12:26.935Z"
   },
   {
    "duration": 44,
    "start_time": "2024-06-01T05:12:26.948Z"
   },
   {
    "duration": 7,
    "start_time": "2024-06-01T05:12:26.996Z"
   },
   {
    "duration": 10,
    "start_time": "2024-06-01T05:12:27.007Z"
   },
   {
    "duration": 269,
    "start_time": "2024-06-01T05:12:27.021Z"
   },
   {
    "duration": 7,
    "start_time": "2024-06-01T05:12:27.295Z"
   },
   {
    "duration": 84,
    "start_time": "2024-06-01T05:12:27.306Z"
   },
   {
    "duration": 7,
    "start_time": "2024-06-01T05:12:27.394Z"
   },
   {
    "duration": 12,
    "start_time": "2024-06-01T05:12:27.404Z"
   },
   {
    "duration": 7,
    "start_time": "2024-06-01T05:12:27.419Z"
   },
   {
    "duration": 6,
    "start_time": "2024-06-01T05:12:27.430Z"
   },
   {
    "duration": 53,
    "start_time": "2024-06-01T05:12:27.439Z"
   },
   {
    "duration": 0,
    "start_time": "2024-06-01T05:12:27.496Z"
   },
   {
    "duration": 0,
    "start_time": "2024-06-01T05:12:27.499Z"
   },
   {
    "duration": 0,
    "start_time": "2024-06-01T05:12:27.502Z"
   },
   {
    "duration": 0,
    "start_time": "2024-06-01T05:12:27.505Z"
   },
   {
    "duration": 0,
    "start_time": "2024-06-01T05:12:27.508Z"
   },
   {
    "duration": 1613,
    "start_time": "2024-06-01T05:14:19.326Z"
   },
   {
    "duration": 25,
    "start_time": "2024-06-01T05:14:20.942Z"
   },
   {
    "duration": 30,
    "start_time": "2024-06-01T05:14:20.970Z"
   },
   {
    "duration": 5,
    "start_time": "2024-06-01T05:14:21.005Z"
   },
   {
    "duration": 39,
    "start_time": "2024-06-01T05:14:21.014Z"
   },
   {
    "duration": 58,
    "start_time": "2024-06-01T05:14:21.057Z"
   },
   {
    "duration": 8,
    "start_time": "2024-06-01T05:14:21.118Z"
   },
   {
    "duration": 13,
    "start_time": "2024-06-01T05:14:21.129Z"
   },
   {
    "duration": 73,
    "start_time": "2024-06-01T05:14:21.145Z"
   },
   {
    "duration": 41,
    "start_time": "2024-06-01T05:14:21.224Z"
   },
   {
    "duration": 35,
    "start_time": "2024-06-01T05:14:21.268Z"
   },
   {
    "duration": 54,
    "start_time": "2024-06-01T05:14:21.306Z"
   },
   {
    "duration": 28,
    "start_time": "2024-06-01T05:14:21.364Z"
   },
   {
    "duration": 21,
    "start_time": "2024-06-01T05:14:21.395Z"
   },
   {
    "duration": 7,
    "start_time": "2024-06-01T05:14:21.419Z"
   },
   {
    "duration": 14,
    "start_time": "2024-06-01T05:14:21.428Z"
   },
   {
    "duration": 47,
    "start_time": "2024-06-01T05:14:21.445Z"
   },
   {
    "duration": 12,
    "start_time": "2024-06-01T05:14:21.495Z"
   },
   {
    "duration": 241,
    "start_time": "2024-06-01T05:14:21.509Z"
   },
   {
    "duration": 15,
    "start_time": "2024-06-01T05:14:21.753Z"
   },
   {
    "duration": 81,
    "start_time": "2024-06-01T05:14:21.771Z"
   },
   {
    "duration": 10,
    "start_time": "2024-06-01T05:14:21.855Z"
   },
   {
    "duration": 22,
    "start_time": "2024-06-01T05:14:21.868Z"
   },
   {
    "duration": 5,
    "start_time": "2024-06-01T05:14:21.893Z"
   },
   {
    "duration": 5,
    "start_time": "2024-06-01T05:14:21.901Z"
   },
   {
    "duration": 5,
    "start_time": "2024-06-01T05:14:21.910Z"
   },
   {
    "duration": 0,
    "start_time": "2024-06-01T05:14:21.919Z"
   },
   {
    "duration": 0,
    "start_time": "2024-06-01T05:14:21.922Z"
   },
   {
    "duration": 0,
    "start_time": "2024-06-01T05:14:21.924Z"
   },
   {
    "duration": 0,
    "start_time": "2024-06-01T05:14:21.926Z"
   },
   {
    "duration": 0,
    "start_time": "2024-06-01T05:14:21.930Z"
   },
   {
    "duration": 6,
    "start_time": "2024-06-01T05:19:29.597Z"
   },
   {
    "duration": 5,
    "start_time": "2024-06-01T05:19:54.954Z"
   },
   {
    "duration": 1620,
    "start_time": "2024-06-01T05:24:59.414Z"
   },
   {
    "duration": 25,
    "start_time": "2024-06-01T05:25:01.038Z"
   },
   {
    "duration": 32,
    "start_time": "2024-06-01T05:25:01.066Z"
   },
   {
    "duration": 4,
    "start_time": "2024-06-01T05:25:01.104Z"
   },
   {
    "duration": 39,
    "start_time": "2024-06-01T05:25:01.111Z"
   },
   {
    "duration": 69,
    "start_time": "2024-06-01T05:25:01.154Z"
   },
   {
    "duration": 10,
    "start_time": "2024-06-01T05:25:01.229Z"
   },
   {
    "duration": 13,
    "start_time": "2024-06-01T05:25:01.242Z"
   },
   {
    "duration": 38,
    "start_time": "2024-06-01T05:25:01.291Z"
   },
   {
    "duration": 61,
    "start_time": "2024-06-01T05:25:01.335Z"
   },
   {
    "duration": 16,
    "start_time": "2024-06-01T05:25:01.400Z"
   },
   {
    "duration": 77,
    "start_time": "2024-06-01T05:25:01.420Z"
   },
   {
    "duration": 6,
    "start_time": "2024-06-01T05:25:01.501Z"
   },
   {
    "duration": 22,
    "start_time": "2024-06-01T05:25:01.512Z"
   },
   {
    "duration": 8,
    "start_time": "2024-06-01T05:25:01.538Z"
   },
   {
    "duration": 50,
    "start_time": "2024-06-01T05:25:01.550Z"
   },
   {
    "duration": 9,
    "start_time": "2024-06-01T05:25:01.603Z"
   },
   {
    "duration": 9,
    "start_time": "2024-06-01T05:25:01.615Z"
   },
   {
    "duration": 249,
    "start_time": "2024-06-01T05:25:01.628Z"
   },
   {
    "duration": 13,
    "start_time": "2024-06-01T05:25:01.881Z"
   },
   {
    "duration": 63,
    "start_time": "2024-06-01T05:25:01.897Z"
   },
   {
    "duration": 32,
    "start_time": "2024-06-01T05:25:01.963Z"
   },
   {
    "duration": 8,
    "start_time": "2024-06-01T05:25:02.001Z"
   },
   {
    "duration": 4,
    "start_time": "2024-06-01T05:25:02.012Z"
   },
   {
    "duration": 5,
    "start_time": "2024-06-01T05:25:02.020Z"
   },
   {
    "duration": 7,
    "start_time": "2024-06-01T05:25:02.029Z"
   },
   {
    "duration": 70,
    "start_time": "2024-06-01T05:25:02.039Z"
   },
   {
    "duration": 9,
    "start_time": "2024-06-01T05:25:02.116Z"
   },
   {
    "duration": 5,
    "start_time": "2024-06-01T05:25:02.128Z"
   },
   {
    "duration": 5,
    "start_time": "2024-06-01T05:25:02.137Z"
   },
   {
    "duration": 49,
    "start_time": "2024-06-01T05:25:02.145Z"
   },
   {
    "duration": 6,
    "start_time": "2024-06-01T05:28:11.662Z"
   },
   {
    "duration": 1614,
    "start_time": "2024-06-01T05:33:07.837Z"
   },
   {
    "duration": 35,
    "start_time": "2024-06-01T05:33:09.456Z"
   },
   {
    "duration": 19,
    "start_time": "2024-06-01T05:33:09.494Z"
   },
   {
    "duration": 4,
    "start_time": "2024-06-01T05:33:09.517Z"
   },
   {
    "duration": 67,
    "start_time": "2024-06-01T05:33:09.525Z"
   },
   {
    "duration": 32,
    "start_time": "2024-06-01T05:33:09.595Z"
   },
   {
    "duration": 10,
    "start_time": "2024-06-01T05:33:09.632Z"
   },
   {
    "duration": 45,
    "start_time": "2024-06-01T05:33:09.646Z"
   },
   {
    "duration": 40,
    "start_time": "2024-06-01T05:33:09.695Z"
   },
   {
    "duration": 73,
    "start_time": "2024-06-01T05:33:09.741Z"
   },
   {
    "duration": 14,
    "start_time": "2024-06-01T05:33:09.816Z"
   },
   {
    "duration": 73,
    "start_time": "2024-06-01T05:33:09.832Z"
   },
   {
    "duration": 5,
    "start_time": "2024-06-01T05:33:09.908Z"
   },
   {
    "duration": 23,
    "start_time": "2024-06-01T05:33:09.917Z"
   },
   {
    "duration": 7,
    "start_time": "2024-06-01T05:33:09.943Z"
   },
   {
    "duration": 48,
    "start_time": "2024-06-01T05:33:09.953Z"
   },
   {
    "duration": 6,
    "start_time": "2024-06-01T05:33:10.004Z"
   },
   {
    "duration": 9,
    "start_time": "2024-06-01T05:33:10.013Z"
   },
   {
    "duration": 240,
    "start_time": "2024-06-01T05:33:10.025Z"
   },
   {
    "duration": 7,
    "start_time": "2024-06-01T05:33:10.268Z"
   },
   {
    "duration": 62,
    "start_time": "2024-06-01T05:33:10.292Z"
   },
   {
    "duration": 7,
    "start_time": "2024-06-01T05:33:10.357Z"
   },
   {
    "duration": 31,
    "start_time": "2024-06-01T05:33:10.367Z"
   },
   {
    "duration": 5,
    "start_time": "2024-06-01T05:33:10.401Z"
   },
   {
    "duration": 5,
    "start_time": "2024-06-01T05:33:10.408Z"
   },
   {
    "duration": 7,
    "start_time": "2024-06-01T05:33:10.417Z"
   },
   {
    "duration": 69,
    "start_time": "2024-06-01T05:33:10.427Z"
   },
   {
    "duration": 8,
    "start_time": "2024-06-01T05:33:10.505Z"
   },
   {
    "duration": 4,
    "start_time": "2024-06-01T05:33:10.516Z"
   },
   {
    "duration": 4,
    "start_time": "2024-06-01T05:33:10.524Z"
   },
   {
    "duration": 260,
    "start_time": "2024-06-01T05:33:10.531Z"
   },
   {
    "duration": 12,
    "start_time": "2024-06-01T05:33:10.794Z"
   },
   {
    "duration": 4,
    "start_time": "2024-06-01T05:33:10.808Z"
   },
   {
    "duration": 4,
    "start_time": "2024-06-01T05:33:10.890Z"
   },
   {
    "duration": 5,
    "start_time": "2024-06-01T05:33:10.897Z"
   },
   {
    "duration": 1713,
    "start_time": "2024-06-01T05:40:27.101Z"
   },
   {
    "duration": 25,
    "start_time": "2024-06-01T05:40:28.817Z"
   },
   {
    "duration": 19,
    "start_time": "2024-06-01T05:40:28.844Z"
   },
   {
    "duration": 6,
    "start_time": "2024-06-01T05:40:28.889Z"
   },
   {
    "duration": 36,
    "start_time": "2024-06-01T05:40:28.898Z"
   },
   {
    "duration": 67,
    "start_time": "2024-06-01T05:40:28.937Z"
   },
   {
    "duration": 13,
    "start_time": "2024-06-01T05:40:29.007Z"
   },
   {
    "duration": 15,
    "start_time": "2024-06-01T05:40:29.023Z"
   },
   {
    "duration": 76,
    "start_time": "2024-06-01T05:40:29.042Z"
   },
   {
    "duration": 71,
    "start_time": "2024-06-01T05:40:29.125Z"
   },
   {
    "duration": 19,
    "start_time": "2024-06-01T05:40:29.199Z"
   },
   {
    "duration": 98,
    "start_time": "2024-06-01T05:40:29.222Z"
   },
   {
    "duration": 7,
    "start_time": "2024-06-01T05:40:29.323Z"
   },
   {
    "duration": 30,
    "start_time": "2024-06-01T05:40:29.335Z"
   },
   {
    "duration": 35,
    "start_time": "2024-06-01T05:40:29.368Z"
   },
   {
    "duration": 14,
    "start_time": "2024-06-01T05:40:29.406Z"
   },
   {
    "duration": 8,
    "start_time": "2024-06-01T05:40:29.424Z"
   },
   {
    "duration": 9,
    "start_time": "2024-06-01T05:40:29.436Z"
   },
   {
    "duration": 261,
    "start_time": "2024-06-01T05:40:29.449Z"
   },
   {
    "duration": 7,
    "start_time": "2024-06-01T05:40:29.715Z"
   },
   {
    "duration": 92,
    "start_time": "2024-06-01T05:40:29.725Z"
   },
   {
    "duration": 8,
    "start_time": "2024-06-01T05:40:29.820Z"
   },
   {
    "duration": 10,
    "start_time": "2024-06-01T05:40:29.831Z"
   },
   {
    "duration": 5,
    "start_time": "2024-06-01T05:40:29.843Z"
   },
   {
    "duration": 4,
    "start_time": "2024-06-01T05:40:29.852Z"
   },
   {
    "duration": 7,
    "start_time": "2024-06-01T05:40:29.893Z"
   },
   {
    "duration": 22,
    "start_time": "2024-06-01T05:40:29.903Z"
   },
   {
    "duration": 9,
    "start_time": "2024-06-01T05:40:29.933Z"
   },
   {
    "duration": 50,
    "start_time": "2024-06-01T05:40:29.944Z"
   },
   {
    "duration": 4,
    "start_time": "2024-06-01T05:40:29.997Z"
   },
   {
    "duration": 206,
    "start_time": "2024-06-01T05:40:30.004Z"
   },
   {
    "duration": 84,
    "start_time": "2024-06-01T05:40:30.213Z"
   },
   {
    "duration": 4,
    "start_time": "2024-06-01T05:40:30.300Z"
   },
   {
    "duration": 5,
    "start_time": "2024-06-01T05:40:30.307Z"
   },
   {
    "duration": 476,
    "start_time": "2024-06-01T05:40:30.315Z"
   },
   {
    "duration": 20,
    "start_time": "2024-06-01T05:40:30.793Z"
   },
   {
    "duration": 6,
    "start_time": "2024-06-01T05:40:30.817Z"
   },
   {
    "duration": 4,
    "start_time": "2024-06-01T05:40:30.892Z"
   },
   {
    "duration": 5,
    "start_time": "2024-06-01T05:43:57.427Z"
   },
   {
    "duration": 4,
    "start_time": "2024-06-01T05:43:58.858Z"
   },
   {
    "duration": 1654,
    "start_time": "2024-06-01T05:44:38.780Z"
   },
   {
    "duration": 26,
    "start_time": "2024-06-01T05:44:40.437Z"
   },
   {
    "duration": 34,
    "start_time": "2024-06-01T05:44:40.466Z"
   },
   {
    "duration": 4,
    "start_time": "2024-06-01T05:44:40.504Z"
   },
   {
    "duration": 35,
    "start_time": "2024-06-01T05:44:40.511Z"
   },
   {
    "duration": 58,
    "start_time": "2024-06-01T05:44:40.549Z"
   },
   {
    "duration": 9,
    "start_time": "2024-06-01T05:44:40.610Z"
   },
   {
    "duration": 12,
    "start_time": "2024-06-01T05:44:40.622Z"
   },
   {
    "duration": 74,
    "start_time": "2024-06-01T05:44:40.637Z"
   },
   {
    "duration": 41,
    "start_time": "2024-06-01T05:44:40.716Z"
   },
   {
    "duration": 35,
    "start_time": "2024-06-01T05:44:40.761Z"
   },
   {
    "duration": 58,
    "start_time": "2024-06-01T05:44:40.798Z"
   },
   {
    "duration": 6,
    "start_time": "2024-06-01T05:44:40.859Z"
   },
   {
    "duration": 30,
    "start_time": "2024-06-01T05:44:40.892Z"
   },
   {
    "duration": 7,
    "start_time": "2024-06-01T05:44:40.926Z"
   },
   {
    "duration": 12,
    "start_time": "2024-06-01T05:44:40.936Z"
   },
   {
    "duration": 42,
    "start_time": "2024-06-01T05:44:40.951Z"
   },
   {
    "duration": 9,
    "start_time": "2024-06-01T05:44:40.996Z"
   },
   {
    "duration": 225,
    "start_time": "2024-06-01T05:44:41.008Z"
   },
   {
    "duration": 8,
    "start_time": "2024-06-01T05:44:41.238Z"
   },
   {
    "duration": 78,
    "start_time": "2024-06-01T05:44:41.248Z"
   },
   {
    "duration": 8,
    "start_time": "2024-06-01T05:44:41.329Z"
   },
   {
    "duration": 9,
    "start_time": "2024-06-01T05:44:41.342Z"
   },
   {
    "duration": 5,
    "start_time": "2024-06-01T05:44:41.354Z"
   },
   {
    "duration": 6,
    "start_time": "2024-06-01T05:44:41.392Z"
   },
   {
    "duration": 9,
    "start_time": "2024-06-01T05:44:41.401Z"
   },
   {
    "duration": 32,
    "start_time": "2024-06-01T05:44:41.413Z"
   },
   {
    "duration": 40,
    "start_time": "2024-06-01T05:44:41.455Z"
   },
   {
    "duration": 5,
    "start_time": "2024-06-01T05:44:41.498Z"
   },
   {
    "duration": 5,
    "start_time": "2024-06-01T05:44:41.507Z"
   },
   {
    "duration": 283,
    "start_time": "2024-06-01T05:44:41.516Z"
   },
   {
    "duration": 89,
    "start_time": "2024-06-01T05:44:41.806Z"
   },
   {
    "duration": 6,
    "start_time": "2024-06-01T05:44:41.898Z"
   },
   {
    "duration": 5,
    "start_time": "2024-06-01T05:44:41.907Z"
   },
   {
    "duration": 376,
    "start_time": "2024-06-01T05:44:41.915Z"
   },
   {
    "duration": 11,
    "start_time": "2024-06-01T05:44:42.294Z"
   },
   {
    "duration": 5,
    "start_time": "2024-06-01T05:44:42.308Z"
   },
   {
    "duration": 4,
    "start_time": "2024-06-01T05:44:42.392Z"
   },
   {
    "duration": 6,
    "start_time": "2024-06-01T05:44:42.399Z"
   },
   {
    "duration": 1776,
    "start_time": "2024-06-01T05:49:23.125Z"
   },
   {
    "duration": 29,
    "start_time": "2024-06-01T05:49:24.904Z"
   },
   {
    "duration": 21,
    "start_time": "2024-06-01T05:49:24.937Z"
   },
   {
    "duration": 28,
    "start_time": "2024-06-01T05:49:24.963Z"
   },
   {
    "duration": 37,
    "start_time": "2024-06-01T05:49:24.994Z"
   },
   {
    "duration": 60,
    "start_time": "2024-06-01T05:49:25.035Z"
   },
   {
    "duration": 13,
    "start_time": "2024-06-01T05:49:25.101Z"
   },
   {
    "duration": 15,
    "start_time": "2024-06-01T05:49:25.118Z"
   },
   {
    "duration": 82,
    "start_time": "2024-06-01T05:49:25.136Z"
   },
   {
    "duration": 65,
    "start_time": "2024-06-01T05:49:25.225Z"
   },
   {
    "duration": 14,
    "start_time": "2024-06-01T05:49:25.293Z"
   },
   {
    "duration": 54,
    "start_time": "2024-06-01T05:49:25.309Z"
   },
   {
    "duration": 27,
    "start_time": "2024-06-01T05:49:25.366Z"
   },
   {
    "duration": 23,
    "start_time": "2024-06-01T05:49:25.396Z"
   },
   {
    "duration": 8,
    "start_time": "2024-06-01T05:49:25.422Z"
   },
   {
    "duration": 58,
    "start_time": "2024-06-01T05:49:25.434Z"
   },
   {
    "duration": 6,
    "start_time": "2024-06-01T05:49:25.495Z"
   },
   {
    "duration": 10,
    "start_time": "2024-06-01T05:49:25.505Z"
   },
   {
    "duration": 276,
    "start_time": "2024-06-01T05:49:25.518Z"
   },
   {
    "duration": 7,
    "start_time": "2024-06-01T05:49:25.798Z"
   },
   {
    "duration": 86,
    "start_time": "2024-06-01T05:49:25.811Z"
   },
   {
    "duration": 8,
    "start_time": "2024-06-01T05:49:25.900Z"
   },
   {
    "duration": 8,
    "start_time": "2024-06-01T05:49:25.911Z"
   },
   {
    "duration": 4,
    "start_time": "2024-06-01T05:49:25.922Z"
   },
   {
    "duration": 4,
    "start_time": "2024-06-01T05:49:25.929Z"
   },
   {
    "duration": 6,
    "start_time": "2024-06-01T05:49:25.937Z"
   },
   {
    "duration": 66,
    "start_time": "2024-06-01T05:49:25.946Z"
   },
   {
    "duration": 9,
    "start_time": "2024-06-01T05:49:26.019Z"
   },
   {
    "duration": 5,
    "start_time": "2024-06-01T05:49:26.030Z"
   },
   {
    "duration": 13,
    "start_time": "2024-06-01T05:49:26.038Z"
   },
   {
    "duration": 358,
    "start_time": "2024-06-01T05:49:26.057Z"
   },
   {
    "duration": 72,
    "start_time": "2024-06-01T05:49:26.419Z"
   },
   {
    "duration": 5,
    "start_time": "2024-06-01T05:49:26.494Z"
   },
   {
    "duration": 5,
    "start_time": "2024-06-01T05:49:26.503Z"
   },
   {
    "duration": 305,
    "start_time": "2024-06-01T05:49:26.512Z"
   },
   {
    "duration": 97,
    "start_time": "2024-06-01T05:49:26.824Z"
   },
   {
    "duration": 68,
    "start_time": "2024-06-01T05:49:26.928Z"
   },
   {
    "duration": 8,
    "start_time": "2024-06-01T05:49:27.011Z"
   },
   {
    "duration": 63,
    "start_time": "2024-06-01T05:49:27.029Z"
   },
   {
    "duration": 11,
    "start_time": "2024-06-01T05:49:27.095Z"
   },
   {
    "duration": 5,
    "start_time": "2024-06-01T05:49:27.109Z"
   },
   {
    "duration": 77,
    "start_time": "2024-06-01T05:49:27.120Z"
   },
   {
    "duration": 8,
    "start_time": "2024-06-01T05:49:27.201Z"
   },
   {
    "duration": 2309,
    "start_time": "2024-06-01T06:19:10.946Z"
   },
   {
    "duration": 35,
    "start_time": "2024-06-01T06:19:13.259Z"
   },
   {
    "duration": 19,
    "start_time": "2024-06-01T06:19:13.298Z"
   },
   {
    "duration": 4,
    "start_time": "2024-06-01T06:19:13.321Z"
   },
   {
    "duration": 32,
    "start_time": "2024-06-01T06:19:13.329Z"
   },
   {
    "duration": 31,
    "start_time": "2024-06-01T06:19:13.392Z"
   },
   {
    "duration": 10,
    "start_time": "2024-06-01T06:19:13.426Z"
   },
   {
    "duration": 53,
    "start_time": "2024-06-01T06:19:13.439Z"
   },
   {
    "duration": 38,
    "start_time": "2024-06-01T06:19:13.495Z"
   },
   {
    "duration": 62,
    "start_time": "2024-06-01T06:19:13.539Z"
   },
   {
    "duration": 14,
    "start_time": "2024-06-01T06:19:13.604Z"
   },
   {
    "duration": 77,
    "start_time": "2024-06-01T06:19:13.621Z"
   },
   {
    "duration": 5,
    "start_time": "2024-06-01T06:19:13.702Z"
   },
   {
    "duration": 22,
    "start_time": "2024-06-01T06:19:13.710Z"
   },
   {
    "duration": 7,
    "start_time": "2024-06-01T06:19:13.735Z"
   },
   {
    "duration": 48,
    "start_time": "2024-06-01T06:19:13.746Z"
   },
   {
    "duration": 8,
    "start_time": "2024-06-01T06:19:13.797Z"
   },
   {
    "duration": 9,
    "start_time": "2024-06-01T06:19:13.808Z"
   },
   {
    "duration": 239,
    "start_time": "2024-06-01T06:19:13.820Z"
   },
   {
    "duration": 7,
    "start_time": "2024-06-01T06:19:14.062Z"
   },
   {
    "duration": 81,
    "start_time": "2024-06-01T06:19:14.072Z"
   },
   {
    "duration": 16,
    "start_time": "2024-06-01T06:19:14.156Z"
   },
   {
    "duration": 10,
    "start_time": "2024-06-01T06:19:14.191Z"
   },
   {
    "duration": 5,
    "start_time": "2024-06-01T06:19:14.203Z"
   },
   {
    "duration": 4,
    "start_time": "2024-06-01T06:19:14.211Z"
   },
   {
    "duration": 8,
    "start_time": "2024-06-01T06:19:14.218Z"
   },
   {
    "duration": 72,
    "start_time": "2024-06-01T06:19:14.229Z"
   },
   {
    "duration": 12,
    "start_time": "2024-06-01T06:19:14.309Z"
   },
   {
    "duration": 5,
    "start_time": "2024-06-01T06:19:14.324Z"
   },
   {
    "duration": 5,
    "start_time": "2024-06-01T06:19:14.333Z"
   },
   {
    "duration": 257,
    "start_time": "2024-06-01T06:19:14.341Z"
   },
   {
    "duration": 90,
    "start_time": "2024-06-01T06:19:14.601Z"
   },
   {
    "duration": 4,
    "start_time": "2024-06-01T06:19:14.693Z"
   },
   {
    "duration": 4,
    "start_time": "2024-06-01T06:19:14.700Z"
   },
   {
    "duration": 393,
    "start_time": "2024-06-01T06:19:14.707Z"
   },
   {
    "duration": 88,
    "start_time": "2024-06-01T06:19:15.108Z"
   },
   {
    "duration": 5,
    "start_time": "2024-06-01T06:19:15.199Z"
   },
   {
    "duration": 5,
    "start_time": "2024-06-01T06:19:15.207Z"
   },
   {
    "duration": 76,
    "start_time": "2024-06-01T06:19:15.215Z"
   },
   {
    "duration": 18,
    "start_time": "2024-06-01T06:19:15.295Z"
   },
   {
    "duration": 7,
    "start_time": "2024-06-01T06:19:15.389Z"
   },
   {
    "duration": 6,
    "start_time": "2024-06-01T06:19:15.399Z"
   },
   {
    "duration": 5952,
    "start_time": "2024-06-02T01:48:38.952Z"
   },
   {
    "duration": 37,
    "start_time": "2024-06-02T01:48:44.907Z"
   },
   {
    "duration": 20,
    "start_time": "2024-06-02T01:48:44.947Z"
   },
   {
    "duration": 5,
    "start_time": "2024-06-02T01:48:44.971Z"
   },
   {
    "duration": 69,
    "start_time": "2024-06-02T01:48:44.979Z"
   },
   {
    "duration": 33,
    "start_time": "2024-06-02T01:48:45.054Z"
   },
   {
    "duration": 35,
    "start_time": "2024-06-02T01:48:45.090Z"
   },
   {
    "duration": 11,
    "start_time": "2024-06-02T01:48:45.128Z"
   },
   {
    "duration": 37,
    "start_time": "2024-06-02T01:48:45.142Z"
   },
   {
    "duration": 69,
    "start_time": "2024-06-02T01:48:45.184Z"
   },
   {
    "duration": 14,
    "start_time": "2024-06-02T01:48:45.256Z"
   },
   {
    "duration": 86,
    "start_time": "2024-06-02T01:48:45.272Z"
   },
   {
    "duration": 6,
    "start_time": "2024-06-02T01:48:45.361Z"
   },
   {
    "duration": 22,
    "start_time": "2024-06-02T01:48:45.371Z"
   },
   {
    "duration": 7,
    "start_time": "2024-06-02T01:48:45.423Z"
   },
   {
    "duration": 13,
    "start_time": "2024-06-02T01:48:45.434Z"
   },
   {
    "duration": 7,
    "start_time": "2024-06-02T01:48:45.449Z"
   },
   {
    "duration": 11,
    "start_time": "2024-06-02T01:48:45.460Z"
   },
   {
    "duration": 227,
    "start_time": "2024-06-02T01:48:45.523Z"
   },
   {
    "duration": 6,
    "start_time": "2024-06-02T01:48:45.754Z"
   },
   {
    "duration": 86,
    "start_time": "2024-06-02T01:48:45.764Z"
   },
   {
    "duration": 7,
    "start_time": "2024-06-02T01:48:45.854Z"
   },
   {
    "duration": 10,
    "start_time": "2024-06-02T01:48:45.865Z"
   },
   {
    "duration": 5,
    "start_time": "2024-06-02T01:48:45.878Z"
   },
   {
    "duration": 5,
    "start_time": "2024-06-02T01:48:45.922Z"
   },
   {
    "duration": 9,
    "start_time": "2024-06-02T01:48:45.931Z"
   },
   {
    "duration": 22,
    "start_time": "2024-06-02T01:48:45.943Z"
   },
   {
    "duration": 9,
    "start_time": "2024-06-02T01:48:45.973Z"
   },
   {
    "duration": 5,
    "start_time": "2024-06-02T01:48:46.023Z"
   },
   {
    "duration": 5,
    "start_time": "2024-06-02T01:48:46.031Z"
   },
   {
    "duration": 284,
    "start_time": "2024-06-02T01:48:46.040Z"
   },
   {
    "duration": 13,
    "start_time": "2024-06-02T01:48:46.327Z"
   },
   {
    "duration": 80,
    "start_time": "2024-06-02T01:48:46.343Z"
   },
   {
    "duration": 4,
    "start_time": "2024-06-02T01:48:46.426Z"
   },
   {
    "duration": 417,
    "start_time": "2024-06-02T01:48:46.432Z"
   },
   {
    "duration": 89,
    "start_time": "2024-06-02T01:48:46.854Z"
   },
   {
    "duration": 77,
    "start_time": "2024-06-02T01:48:46.947Z"
   },
   {
    "duration": 10,
    "start_time": "2024-06-02T01:48:47.027Z"
   },
   {
    "duration": 82,
    "start_time": "2024-06-02T01:48:47.041Z"
   },
   {
    "duration": 15,
    "start_time": "2024-06-02T01:48:47.126Z"
   },
   {
    "duration": 75,
    "start_time": "2024-06-02T01:48:47.147Z"
   },
   {
    "duration": 10,
    "start_time": "2024-06-02T01:48:47.228Z"
   },
   {
    "duration": 327,
    "start_time": "2024-06-04T06:58:07.795Z"
   },
   {
    "duration": 5538,
    "start_time": "2024-06-04T06:58:27.710Z"
   },
   {
    "duration": 40,
    "start_time": "2024-06-04T06:58:33.252Z"
   },
   {
    "duration": 23,
    "start_time": "2024-06-04T06:58:33.294Z"
   },
   {
    "duration": 4,
    "start_time": "2024-06-04T06:58:33.321Z"
   },
   {
    "duration": 34,
    "start_time": "2024-06-04T06:58:33.329Z"
   },
   {
    "duration": 60,
    "start_time": "2024-06-04T06:58:33.367Z"
   },
   {
    "duration": 9,
    "start_time": "2024-06-04T06:58:33.430Z"
   },
   {
    "duration": 12,
    "start_time": "2024-06-04T06:58:33.447Z"
   },
   {
    "duration": 69,
    "start_time": "2024-06-04T06:58:33.462Z"
   },
   {
    "duration": 40,
    "start_time": "2024-06-04T06:58:33.536Z"
   },
   {
    "duration": 28,
    "start_time": "2024-06-04T06:58:33.579Z"
   },
   {
    "duration": 54,
    "start_time": "2024-06-04T06:58:33.611Z"
   },
   {
    "duration": 35,
    "start_time": "2024-06-04T06:58:33.668Z"
   },
   {
    "duration": 23,
    "start_time": "2024-06-04T06:58:33.706Z"
   },
   {
    "duration": 7,
    "start_time": "2024-06-04T06:58:33.732Z"
   },
   {
    "duration": 12,
    "start_time": "2024-06-04T06:58:33.743Z"
   },
   {
    "duration": 48,
    "start_time": "2024-06-04T06:58:33.758Z"
   },
   {
    "duration": 10,
    "start_time": "2024-06-04T06:58:33.810Z"
   },
   {
    "duration": 234,
    "start_time": "2024-06-04T06:58:33.824Z"
   },
   {
    "duration": 7,
    "start_time": "2024-06-04T06:58:34.061Z"
   },
   {
    "duration": 83,
    "start_time": "2024-06-04T06:58:34.071Z"
   },
   {
    "duration": 6,
    "start_time": "2024-06-04T06:58:34.157Z"
   },
   {
    "duration": 34,
    "start_time": "2024-06-04T06:58:34.167Z"
   },
   {
    "duration": 4,
    "start_time": "2024-06-04T06:58:34.204Z"
   },
   {
    "duration": 5,
    "start_time": "2024-06-04T06:58:34.212Z"
   },
   {
    "duration": 11,
    "start_time": "2024-06-04T06:58:34.221Z"
   },
   {
    "duration": 22,
    "start_time": "2024-06-04T06:58:34.235Z"
   },
   {
    "duration": 9,
    "start_time": "2024-06-04T06:58:34.302Z"
   },
   {
    "duration": 5,
    "start_time": "2024-06-04T06:58:34.314Z"
   },
   {
    "duration": 5,
    "start_time": "2024-06-04T06:58:34.322Z"
   },
   {
    "duration": 193,
    "start_time": "2024-06-04T06:58:34.331Z"
   },
   {
    "duration": 15,
    "start_time": "2024-06-04T06:58:34.605Z"
   },
   {
    "duration": 77,
    "start_time": "2024-06-04T06:58:34.626Z"
   },
   {
    "duration": 5,
    "start_time": "2024-06-04T06:58:34.706Z"
   },
   {
    "duration": 388,
    "start_time": "2024-06-04T06:58:34.714Z"
   },
   {
    "duration": 11,
    "start_time": "2024-06-04T06:58:35.105Z"
   },
   {
    "duration": 4,
    "start_time": "2024-06-04T06:58:35.119Z"
   },
   {
    "duration": 4,
    "start_time": "2024-06-04T06:58:35.202Z"
   },
   {
    "duration": 7,
    "start_time": "2024-06-04T06:58:35.210Z"
   },
   {
    "duration": 92,
    "start_time": "2024-06-04T06:58:35.220Z"
   },
   {
    "duration": 9,
    "start_time": "2024-06-04T06:58:35.315Z"
   },
   {
    "duration": 6,
    "start_time": "2024-06-04T06:58:35.402Z"
   },
   {
    "duration": 1656,
    "start_time": "2024-06-04T07:40:03.524Z"
   },
   {
    "duration": 34,
    "start_time": "2024-06-04T07:40:05.183Z"
   },
   {
    "duration": 17,
    "start_time": "2024-06-04T07:40:05.222Z"
   },
   {
    "duration": 5,
    "start_time": "2024-06-04T07:40:05.243Z"
   },
   {
    "duration": 61,
    "start_time": "2024-06-04T07:40:05.251Z"
   },
   {
    "duration": 27,
    "start_time": "2024-06-04T07:40:05.315Z"
   },
   {
    "duration": 9,
    "start_time": "2024-06-04T07:40:05.345Z"
   },
   {
    "duration": 47,
    "start_time": "2024-06-04T07:40:05.357Z"
   },
   {
    "duration": 37,
    "start_time": "2024-06-04T07:40:05.407Z"
   },
   {
    "duration": 60,
    "start_time": "2024-06-04T07:40:05.452Z"
   },
   {
    "duration": 14,
    "start_time": "2024-06-04T07:40:05.514Z"
   },
   {
    "duration": 77,
    "start_time": "2024-06-04T07:40:05.530Z"
   },
   {
    "duration": 7,
    "start_time": "2024-06-04T07:40:05.610Z"
   },
   {
    "duration": 22,
    "start_time": "2024-06-04T07:40:05.620Z"
   },
   {
    "duration": 7,
    "start_time": "2024-06-04T07:40:05.645Z"
   },
   {
    "duration": 49,
    "start_time": "2024-06-04T07:40:05.656Z"
   },
   {
    "duration": 8,
    "start_time": "2024-06-04T07:40:05.708Z"
   },
   {
    "duration": 8,
    "start_time": "2024-06-04T07:40:05.719Z"
   },
   {
    "duration": 250,
    "start_time": "2024-06-04T07:40:05.729Z"
   },
   {
    "duration": 6,
    "start_time": "2024-06-04T07:40:05.983Z"
   },
   {
    "duration": 69,
    "start_time": "2024-06-04T07:40:06.003Z"
   },
   {
    "duration": 29,
    "start_time": "2024-06-04T07:40:06.075Z"
   },
   {
    "duration": 14,
    "start_time": "2024-06-04T07:40:06.108Z"
   },
   {
    "duration": 5,
    "start_time": "2024-06-04T07:40:06.124Z"
   },
   {
    "duration": 5,
    "start_time": "2024-06-04T07:40:06.132Z"
   },
   {
    "duration": 7,
    "start_time": "2024-06-04T07:40:06.140Z"
   },
   {
    "duration": 80,
    "start_time": "2024-06-04T07:40:06.151Z"
   },
   {
    "duration": 8,
    "start_time": "2024-06-04T07:40:06.238Z"
   },
   {
    "duration": 5,
    "start_time": "2024-06-04T07:40:06.249Z"
   },
   {
    "duration": 5,
    "start_time": "2024-06-04T07:40:06.257Z"
   },
   {
    "duration": 212,
    "start_time": "2024-06-04T07:40:06.301Z"
   },
   {
    "duration": 93,
    "start_time": "2024-06-04T07:40:06.516Z"
   },
   {
    "duration": 6,
    "start_time": "2024-06-04T07:40:06.613Z"
   },
   {
    "duration": 4,
    "start_time": "2024-06-04T07:40:06.623Z"
   },
   {
    "duration": 391,
    "start_time": "2024-06-04T07:40:06.629Z"
   },
   {
    "duration": 85,
    "start_time": "2024-06-04T07:40:07.023Z"
   },
   {
    "duration": 4,
    "start_time": "2024-06-04T07:40:07.111Z"
   },
   {
    "duration": 4,
    "start_time": "2024-06-04T07:40:07.118Z"
   },
   {
    "duration": 6,
    "start_time": "2024-06-04T07:40:07.202Z"
   },
   {
    "duration": 88,
    "start_time": "2024-06-04T07:40:07.212Z"
   },
   {
    "duration": 5,
    "start_time": "2024-06-04T07:40:07.303Z"
   },
   {
    "duration": 9,
    "start_time": "2024-06-04T07:40:07.311Z"
   },
   {
    "duration": 5373,
    "start_time": "2024-06-05T01:42:44.476Z"
   },
   {
    "duration": 41,
    "start_time": "2024-06-05T01:42:49.853Z"
   },
   {
    "duration": 19,
    "start_time": "2024-06-05T01:42:49.897Z"
   },
   {
    "duration": 4,
    "start_time": "2024-06-05T01:42:49.919Z"
   },
   {
    "duration": 33,
    "start_time": "2024-06-05T01:42:49.926Z"
   },
   {
    "duration": 58,
    "start_time": "2024-06-05T01:42:49.963Z"
   },
   {
    "duration": 10,
    "start_time": "2024-06-05T01:42:50.023Z"
   },
   {
    "duration": 11,
    "start_time": "2024-06-05T01:42:50.036Z"
   },
   {
    "duration": 74,
    "start_time": "2024-06-05T01:42:50.050Z"
   },
   {
    "duration": 42,
    "start_time": "2024-06-05T01:42:50.131Z"
   },
   {
    "duration": 32,
    "start_time": "2024-06-05T01:42:50.176Z"
   },
   {
    "duration": 56,
    "start_time": "2024-06-05T01:42:50.211Z"
   },
   {
    "duration": 32,
    "start_time": "2024-06-05T01:42:50.270Z"
   },
   {
    "duration": 24,
    "start_time": "2024-06-05T01:42:50.305Z"
   },
   {
    "duration": 11,
    "start_time": "2024-06-05T01:42:50.332Z"
   },
   {
    "duration": 18,
    "start_time": "2024-06-05T01:42:50.349Z"
   },
   {
    "duration": 36,
    "start_time": "2024-06-05T01:42:50.370Z"
   },
   {
    "duration": 8,
    "start_time": "2024-06-05T01:42:50.409Z"
   },
   {
    "duration": 233,
    "start_time": "2024-06-05T01:42:50.420Z"
   },
   {
    "duration": 8,
    "start_time": "2024-06-05T01:42:50.656Z"
   },
   {
    "duration": 86,
    "start_time": "2024-06-05T01:42:50.668Z"
   },
   {
    "duration": 9,
    "start_time": "2024-06-05T01:42:50.757Z"
   },
   {
    "duration": 32,
    "start_time": "2024-06-05T01:42:50.769Z"
   },
   {
    "duration": 4,
    "start_time": "2024-06-05T01:42:50.804Z"
   },
   {
    "duration": 5,
    "start_time": "2024-06-05T01:42:50.812Z"
   },
   {
    "duration": 8,
    "start_time": "2024-06-05T01:42:50.820Z"
   },
   {
    "duration": 24,
    "start_time": "2024-06-05T01:42:50.831Z"
   },
   {
    "duration": 8,
    "start_time": "2024-06-05T01:42:50.902Z"
   },
   {
    "duration": 5,
    "start_time": "2024-06-05T01:42:50.913Z"
   },
   {
    "duration": 5,
    "start_time": "2024-06-05T01:42:50.921Z"
   },
   {
    "duration": 195,
    "start_time": "2024-06-05T01:42:50.930Z"
   },
   {
    "duration": 12,
    "start_time": "2024-06-05T01:42:51.203Z"
   },
   {
    "duration": 8,
    "start_time": "2024-06-05T01:42:51.218Z"
   },
   {
    "duration": 5,
    "start_time": "2024-06-05T01:42:51.303Z"
   },
   {
    "duration": 310,
    "start_time": "2024-06-05T01:42:51.311Z"
   },
   {
    "duration": 87,
    "start_time": "2024-06-05T01:42:51.627Z"
   },
   {
    "duration": 82,
    "start_time": "2024-06-05T01:42:51.723Z"
   },
   {
    "duration": 8,
    "start_time": "2024-06-05T01:42:51.812Z"
   },
   {
    "duration": 79,
    "start_time": "2024-06-05T01:42:51.823Z"
   },
   {
    "duration": 9,
    "start_time": "2024-06-05T01:42:51.906Z"
   },
   {
    "duration": 87,
    "start_time": "2024-06-05T01:42:51.921Z"
   },
   {
    "duration": 6,
    "start_time": "2024-06-05T01:42:52.015Z"
   },
   {
    "duration": 4,
    "start_time": "2024-06-05T01:43:32.235Z"
   },
   {
    "duration": 46,
    "start_time": "2024-06-05T01:43:32.246Z"
   },
   {
    "duration": 18,
    "start_time": "2024-06-05T01:43:32.295Z"
   },
   {
    "duration": 6,
    "start_time": "2024-06-05T01:43:32.315Z"
   },
   {
    "duration": 29,
    "start_time": "2024-06-05T01:43:32.326Z"
   },
   {
    "duration": 56,
    "start_time": "2024-06-05T01:43:32.358Z"
   },
   {
    "duration": 8,
    "start_time": "2024-06-05T01:43:32.417Z"
   },
   {
    "duration": 9,
    "start_time": "2024-06-05T01:43:32.429Z"
   },
   {
    "duration": 76,
    "start_time": "2024-06-05T01:43:32.441Z"
   },
   {
    "duration": 41,
    "start_time": "2024-06-05T01:43:32.520Z"
   },
   {
    "duration": 38,
    "start_time": "2024-06-05T01:43:32.564Z"
   },
   {
    "duration": 53,
    "start_time": "2024-06-05T01:43:32.605Z"
   },
   {
    "duration": 6,
    "start_time": "2024-06-05T01:43:32.661Z"
   },
   {
    "duration": 55,
    "start_time": "2024-06-05T01:43:32.670Z"
   },
   {
    "duration": 6,
    "start_time": "2024-06-05T01:43:32.731Z"
   },
   {
    "duration": 12,
    "start_time": "2024-06-05T01:43:32.744Z"
   },
   {
    "duration": 43,
    "start_time": "2024-06-05T01:43:32.759Z"
   },
   {
    "duration": 8,
    "start_time": "2024-06-05T01:43:32.805Z"
   },
   {
    "duration": 212,
    "start_time": "2024-06-05T01:43:32.815Z"
   },
   {
    "duration": 11,
    "start_time": "2024-06-05T01:43:33.030Z"
   },
   {
    "duration": 80,
    "start_time": "2024-06-05T01:43:33.044Z"
   },
   {
    "duration": 7,
    "start_time": "2024-06-05T01:43:33.127Z"
   },
   {
    "duration": 8,
    "start_time": "2024-06-05T01:43:33.138Z"
   },
   {
    "duration": 5,
    "start_time": "2024-06-05T01:43:33.149Z"
   },
   {
    "duration": 5,
    "start_time": "2024-06-05T01:43:33.157Z"
   },
   {
    "duration": 8,
    "start_time": "2024-06-05T01:43:33.201Z"
   },
   {
    "duration": 21,
    "start_time": "2024-06-05T01:43:33.212Z"
   },
   {
    "duration": 9,
    "start_time": "2024-06-05T01:43:33.236Z"
   },
   {
    "duration": 4,
    "start_time": "2024-06-05T01:43:33.248Z"
   },
   {
    "duration": 49,
    "start_time": "2024-06-05T01:43:33.255Z"
   },
   {
    "duration": 205,
    "start_time": "2024-06-05T01:43:33.308Z"
   },
   {
    "duration": 86,
    "start_time": "2024-06-05T01:43:33.516Z"
   },
   {
    "duration": 4,
    "start_time": "2024-06-05T01:43:33.605Z"
   },
   {
    "duration": 4,
    "start_time": "2024-06-05T01:43:33.613Z"
   },
   {
    "duration": 389,
    "start_time": "2024-06-05T01:43:33.619Z"
   },
   {
    "duration": 86,
    "start_time": "2024-06-05T01:43:34.016Z"
   },
   {
    "duration": 4,
    "start_time": "2024-06-05T01:43:34.104Z"
   },
   {
    "duration": 5,
    "start_time": "2024-06-05T01:43:34.111Z"
   },
   {
    "duration": 88,
    "start_time": "2024-06-05T01:43:34.118Z"
   },
   {
    "duration": 9,
    "start_time": "2024-06-05T01:43:34.209Z"
   },
   {
    "duration": 79,
    "start_time": "2024-06-05T01:43:34.222Z"
   },
   {
    "duration": 4,
    "start_time": "2024-06-05T01:43:34.304Z"
   },
   {
    "duration": 5699,
    "start_time": "2024-06-11T04:01:00.255Z"
   },
   {
    "duration": 0,
    "start_time": "2024-06-11T04:01:05.960Z"
   },
   {
    "duration": 0,
    "start_time": "2024-06-11T04:01:05.962Z"
   },
   {
    "duration": 0,
    "start_time": "2024-06-11T04:01:05.964Z"
   },
   {
    "duration": 0,
    "start_time": "2024-06-11T04:01:05.966Z"
   },
   {
    "duration": 0,
    "start_time": "2024-06-11T04:01:05.968Z"
   },
   {
    "duration": 0,
    "start_time": "2024-06-11T04:01:05.970Z"
   },
   {
    "duration": 0,
    "start_time": "2024-06-11T04:01:05.972Z"
   },
   {
    "duration": 0,
    "start_time": "2024-06-11T04:01:05.973Z"
   },
   {
    "duration": 0,
    "start_time": "2024-06-11T04:01:05.991Z"
   },
   {
    "duration": 0,
    "start_time": "2024-06-11T04:01:05.993Z"
   },
   {
    "duration": 0,
    "start_time": "2024-06-11T04:01:05.996Z"
   },
   {
    "duration": 0,
    "start_time": "2024-06-11T04:01:05.998Z"
   },
   {
    "duration": 0,
    "start_time": "2024-06-11T04:01:06.000Z"
   },
   {
    "duration": 0,
    "start_time": "2024-06-11T04:01:06.002Z"
   },
   {
    "duration": 0,
    "start_time": "2024-06-11T04:01:06.004Z"
   },
   {
    "duration": 0,
    "start_time": "2024-06-11T04:01:06.006Z"
   },
   {
    "duration": 0,
    "start_time": "2024-06-11T04:01:06.008Z"
   },
   {
    "duration": 0,
    "start_time": "2024-06-11T04:01:06.011Z"
   },
   {
    "duration": 0,
    "start_time": "2024-06-11T04:01:06.013Z"
   },
   {
    "duration": 0,
    "start_time": "2024-06-11T04:01:06.015Z"
   },
   {
    "duration": 0,
    "start_time": "2024-06-11T04:01:06.019Z"
   },
   {
    "duration": 0,
    "start_time": "2024-06-11T04:01:06.021Z"
   },
   {
    "duration": 0,
    "start_time": "2024-06-11T04:01:06.023Z"
   },
   {
    "duration": 0,
    "start_time": "2024-06-11T04:01:06.026Z"
   },
   {
    "duration": 0,
    "start_time": "2024-06-11T04:01:06.028Z"
   },
   {
    "duration": 0,
    "start_time": "2024-06-11T04:01:06.030Z"
   },
   {
    "duration": 0,
    "start_time": "2024-06-11T04:01:06.091Z"
   },
   {
    "duration": 0,
    "start_time": "2024-06-11T04:01:06.094Z"
   },
   {
    "duration": 0,
    "start_time": "2024-06-11T04:01:06.096Z"
   },
   {
    "duration": 0,
    "start_time": "2024-06-11T04:01:06.098Z"
   },
   {
    "duration": 0,
    "start_time": "2024-06-11T04:01:06.100Z"
   },
   {
    "duration": 0,
    "start_time": "2024-06-11T04:01:06.102Z"
   },
   {
    "duration": 0,
    "start_time": "2024-06-11T04:01:06.105Z"
   },
   {
    "duration": 0,
    "start_time": "2024-06-11T04:01:06.115Z"
   },
   {
    "duration": 0,
    "start_time": "2024-06-11T04:01:06.117Z"
   },
   {
    "duration": 0,
    "start_time": "2024-06-11T04:01:06.119Z"
   },
   {
    "duration": 0,
    "start_time": "2024-06-11T04:01:06.120Z"
   },
   {
    "duration": 0,
    "start_time": "2024-06-11T04:01:06.123Z"
   },
   {
    "duration": 0,
    "start_time": "2024-06-11T04:01:06.125Z"
   },
   {
    "duration": 0,
    "start_time": "2024-06-11T04:01:06.126Z"
   },
   {
    "duration": 0,
    "start_time": "2024-06-11T04:01:06.129Z"
   },
   {
    "duration": 0,
    "start_time": "2024-06-11T04:01:06.191Z"
   },
   {
    "duration": 0,
    "start_time": "2024-06-11T04:01:06.194Z"
   },
   {
    "duration": 0,
    "start_time": "2024-06-11T04:01:06.196Z"
   },
   {
    "duration": 0,
    "start_time": "2024-06-11T04:01:06.198Z"
   },
   {
    "duration": 18015,
    "start_time": "2024-06-11T04:05:02.013Z"
   },
   {
    "duration": 0,
    "start_time": "2024-06-11T04:05:20.034Z"
   },
   {
    "duration": 0,
    "start_time": "2024-06-11T04:05:20.036Z"
   },
   {
    "duration": 0,
    "start_time": "2024-06-11T04:05:20.038Z"
   },
   {
    "duration": 0,
    "start_time": "2024-06-11T04:05:20.040Z"
   },
   {
    "duration": 1,
    "start_time": "2024-06-11T04:05:20.041Z"
   },
   {
    "duration": 0,
    "start_time": "2024-06-11T04:05:20.044Z"
   },
   {
    "duration": 0,
    "start_time": "2024-06-11T04:05:20.046Z"
   },
   {
    "duration": 0,
    "start_time": "2024-06-11T04:05:20.048Z"
   },
   {
    "duration": 0,
    "start_time": "2024-06-11T04:05:20.050Z"
   },
   {
    "duration": 0,
    "start_time": "2024-06-11T04:05:20.052Z"
   },
   {
    "duration": 0,
    "start_time": "2024-06-11T04:05:20.055Z"
   },
   {
    "duration": 0,
    "start_time": "2024-06-11T04:05:20.056Z"
   },
   {
    "duration": 0,
    "start_time": "2024-06-11T04:05:20.092Z"
   },
   {
    "duration": 0,
    "start_time": "2024-06-11T04:05:20.095Z"
   },
   {
    "duration": 0,
    "start_time": "2024-06-11T04:05:20.097Z"
   },
   {
    "duration": 0,
    "start_time": "2024-06-11T04:05:20.100Z"
   },
   {
    "duration": 0,
    "start_time": "2024-06-11T04:05:20.102Z"
   },
   {
    "duration": 0,
    "start_time": "2024-06-11T04:05:20.104Z"
   },
   {
    "duration": 0,
    "start_time": "2024-06-11T04:05:20.108Z"
   },
   {
    "duration": 0,
    "start_time": "2024-06-11T04:05:20.110Z"
   },
   {
    "duration": 0,
    "start_time": "2024-06-11T04:05:20.116Z"
   },
   {
    "duration": 0,
    "start_time": "2024-06-11T04:05:20.118Z"
   },
   {
    "duration": 0,
    "start_time": "2024-06-11T04:05:20.120Z"
   },
   {
    "duration": 0,
    "start_time": "2024-06-11T04:05:20.123Z"
   },
   {
    "duration": 0,
    "start_time": "2024-06-11T04:05:20.125Z"
   },
   {
    "duration": 0,
    "start_time": "2024-06-11T04:05:20.128Z"
   },
   {
    "duration": 0,
    "start_time": "2024-06-11T04:05:20.130Z"
   },
   {
    "duration": 0,
    "start_time": "2024-06-11T04:05:20.191Z"
   },
   {
    "duration": 0,
    "start_time": "2024-06-11T04:05:20.194Z"
   },
   {
    "duration": 0,
    "start_time": "2024-06-11T04:05:20.196Z"
   },
   {
    "duration": 0,
    "start_time": "2024-06-11T04:05:20.198Z"
   },
   {
    "duration": 0,
    "start_time": "2024-06-11T04:05:20.200Z"
   },
   {
    "duration": 0,
    "start_time": "2024-06-11T04:05:20.202Z"
   },
   {
    "duration": 0,
    "start_time": "2024-06-11T04:05:20.205Z"
   },
   {
    "duration": 0,
    "start_time": "2024-06-11T04:05:20.207Z"
   },
   {
    "duration": 0,
    "start_time": "2024-06-11T04:05:20.209Z"
   },
   {
    "duration": 0,
    "start_time": "2024-06-11T04:05:20.212Z"
   },
   {
    "duration": 0,
    "start_time": "2024-06-11T04:05:20.213Z"
   },
   {
    "duration": 0,
    "start_time": "2024-06-11T04:05:20.215Z"
   },
   {
    "duration": 0,
    "start_time": "2024-06-11T04:05:20.217Z"
   },
   {
    "duration": 0,
    "start_time": "2024-06-11T04:05:20.219Z"
   },
   {
    "duration": 0,
    "start_time": "2024-06-11T04:05:20.221Z"
   },
   {
    "duration": 0,
    "start_time": "2024-06-11T04:05:20.223Z"
   },
   {
    "duration": 0,
    "start_time": "2024-06-11T04:05:20.225Z"
   },
   {
    "duration": 0,
    "start_time": "2024-06-11T04:05:20.227Z"
   },
   {
    "duration": 2067,
    "start_time": "2024-06-11T04:06:07.600Z"
   },
   {
    "duration": 0,
    "start_time": "2024-06-11T04:06:09.673Z"
   },
   {
    "duration": 0,
    "start_time": "2024-06-11T04:06:09.676Z"
   },
   {
    "duration": 0,
    "start_time": "2024-06-11T04:06:09.678Z"
   },
   {
    "duration": 0,
    "start_time": "2024-06-11T04:06:09.692Z"
   },
   {
    "duration": 0,
    "start_time": "2024-06-11T04:06:09.694Z"
   },
   {
    "duration": 0,
    "start_time": "2024-06-11T04:06:09.696Z"
   },
   {
    "duration": 0,
    "start_time": "2024-06-11T04:06:09.698Z"
   },
   {
    "duration": 0,
    "start_time": "2024-06-11T04:06:09.701Z"
   },
   {
    "duration": 0,
    "start_time": "2024-06-11T04:06:09.702Z"
   },
   {
    "duration": 0,
    "start_time": "2024-06-11T04:06:09.705Z"
   },
   {
    "duration": 0,
    "start_time": "2024-06-11T04:06:09.707Z"
   },
   {
    "duration": 0,
    "start_time": "2024-06-11T04:06:09.710Z"
   },
   {
    "duration": 0,
    "start_time": "2024-06-11T04:06:09.712Z"
   },
   {
    "duration": 0,
    "start_time": "2024-06-11T04:06:09.714Z"
   },
   {
    "duration": 0,
    "start_time": "2024-06-11T04:06:09.716Z"
   },
   {
    "duration": 0,
    "start_time": "2024-06-11T04:06:09.719Z"
   },
   {
    "duration": 0,
    "start_time": "2024-06-11T04:06:09.722Z"
   },
   {
    "duration": 0,
    "start_time": "2024-06-11T04:06:09.729Z"
   },
   {
    "duration": 0,
    "start_time": "2024-06-11T04:06:09.731Z"
   },
   {
    "duration": 1,
    "start_time": "2024-06-11T04:06:09.791Z"
   },
   {
    "duration": 0,
    "start_time": "2024-06-11T04:06:09.793Z"
   },
   {
    "duration": 0,
    "start_time": "2024-06-11T04:06:09.795Z"
   },
   {
    "duration": 0,
    "start_time": "2024-06-11T04:06:09.797Z"
   },
   {
    "duration": 0,
    "start_time": "2024-06-11T04:06:09.799Z"
   },
   {
    "duration": 0,
    "start_time": "2024-06-11T04:06:09.801Z"
   },
   {
    "duration": 0,
    "start_time": "2024-06-11T04:06:09.802Z"
   },
   {
    "duration": 0,
    "start_time": "2024-06-11T04:06:09.805Z"
   },
   {
    "duration": 0,
    "start_time": "2024-06-11T04:06:09.807Z"
   },
   {
    "duration": 0,
    "start_time": "2024-06-11T04:06:09.809Z"
   },
   {
    "duration": 0,
    "start_time": "2024-06-11T04:06:09.812Z"
   },
   {
    "duration": 0,
    "start_time": "2024-06-11T04:06:09.815Z"
   },
   {
    "duration": 0,
    "start_time": "2024-06-11T04:06:09.817Z"
   },
   {
    "duration": 0,
    "start_time": "2024-06-11T04:06:09.819Z"
   },
   {
    "duration": 1,
    "start_time": "2024-06-11T04:06:09.820Z"
   },
   {
    "duration": 0,
    "start_time": "2024-06-11T04:06:09.823Z"
   },
   {
    "duration": 0,
    "start_time": "2024-06-11T04:06:09.825Z"
   },
   {
    "duration": 0,
    "start_time": "2024-06-11T04:06:09.826Z"
   },
   {
    "duration": 0,
    "start_time": "2024-06-11T04:06:09.829Z"
   },
   {
    "duration": 0,
    "start_time": "2024-06-11T04:06:09.891Z"
   },
   {
    "duration": 0,
    "start_time": "2024-06-11T04:06:09.893Z"
   },
   {
    "duration": 0,
    "start_time": "2024-06-11T04:06:09.895Z"
   },
   {
    "duration": 0,
    "start_time": "2024-06-11T04:06:09.897Z"
   },
   {
    "duration": 0,
    "start_time": "2024-06-11T04:06:09.899Z"
   },
   {
    "duration": 0,
    "start_time": "2024-06-11T04:06:09.901Z"
   },
   {
    "duration": 0,
    "start_time": "2024-06-11T04:06:09.903Z"
   },
   {
    "duration": 1645,
    "start_time": "2024-06-11T04:06:32.223Z"
   },
   {
    "duration": 42,
    "start_time": "2024-06-11T04:06:33.871Z"
   },
   {
    "duration": 19,
    "start_time": "2024-06-11T04:06:33.915Z"
   },
   {
    "duration": 5,
    "start_time": "2024-06-11T04:06:33.938Z"
   },
   {
    "duration": 59,
    "start_time": "2024-06-11T04:06:33.946Z"
   },
   {
    "duration": 27,
    "start_time": "2024-06-11T04:06:34.008Z"
   },
   {
    "duration": 9,
    "start_time": "2024-06-11T04:06:34.039Z"
   },
   {
    "duration": 45,
    "start_time": "2024-06-11T04:06:34.051Z"
   },
   {
    "duration": 37,
    "start_time": "2024-06-11T04:06:34.100Z"
   },
   {
    "duration": 68,
    "start_time": "2024-06-11T04:06:34.143Z"
   },
   {
    "duration": 14,
    "start_time": "2024-06-11T04:06:34.214Z"
   },
   {
    "duration": 69,
    "start_time": "2024-06-11T04:06:34.231Z"
   },
   {
    "duration": 5,
    "start_time": "2024-06-11T04:06:34.303Z"
   },
   {
    "duration": 22,
    "start_time": "2024-06-11T04:06:34.311Z"
   },
   {
    "duration": 7,
    "start_time": "2024-06-11T04:06:34.336Z"
   },
   {
    "duration": 51,
    "start_time": "2024-06-11T04:06:34.346Z"
   },
   {
    "duration": 6,
    "start_time": "2024-06-11T04:06:34.402Z"
   },
   {
    "duration": 8,
    "start_time": "2024-06-11T04:06:34.411Z"
   },
   {
    "duration": 244,
    "start_time": "2024-06-11T04:06:34.422Z"
   },
   {
    "duration": 7,
    "start_time": "2024-06-11T04:06:34.669Z"
   },
   {
    "duration": 79,
    "start_time": "2024-06-11T04:06:34.692Z"
   },
   {
    "duration": 23,
    "start_time": "2024-06-11T04:06:34.775Z"
   },
   {
    "duration": 16,
    "start_time": "2024-06-11T04:06:34.801Z"
   },
   {
    "duration": 5,
    "start_time": "2024-06-11T04:06:34.821Z"
   },
   {
    "duration": 10,
    "start_time": "2024-06-11T04:06:34.830Z"
   },
   {
    "duration": 7,
    "start_time": "2024-06-11T04:06:34.850Z"
   },
   {
    "duration": 51,
    "start_time": "2024-06-11T04:06:34.860Z"
   },
   {
    "duration": 8,
    "start_time": "2024-06-11T04:06:34.919Z"
   },
   {
    "duration": 5,
    "start_time": "2024-06-11T04:06:34.930Z"
   },
   {
    "duration": 4,
    "start_time": "2024-06-11T04:06:34.938Z"
   },
   {
    "duration": 252,
    "start_time": "2024-06-11T04:06:34.946Z"
   },
   {
    "duration": 12,
    "start_time": "2024-06-11T04:06:35.202Z"
   },
   {
    "duration": 4,
    "start_time": "2024-06-11T04:06:35.292Z"
   },
   {
    "duration": 4,
    "start_time": "2024-06-11T04:06:35.300Z"
   },
   {
    "duration": 384,
    "start_time": "2024-06-11T04:06:35.308Z"
   },
   {
    "duration": 11,
    "start_time": "2024-06-11T04:06:35.694Z"
   },
   {
    "duration": 4,
    "start_time": "2024-06-11T04:06:35.708Z"
   },
   {
    "duration": 77,
    "start_time": "2024-06-11T04:06:35.715Z"
   },
   {
    "duration": 491,
    "start_time": "2024-06-11T04:06:35.795Z"
   },
   {
    "duration": 0,
    "start_time": "2024-06-11T04:06:36.291Z"
   },
   {
    "duration": 0,
    "start_time": "2024-06-11T04:06:36.292Z"
   },
   {
    "duration": 1,
    "start_time": "2024-06-11T04:06:36.295Z"
   },
   {
    "duration": 0,
    "start_time": "2024-06-11T04:06:36.298Z"
   },
   {
    "duration": 0,
    "start_time": "2024-06-11T04:06:36.301Z"
   },
   {
    "duration": 0,
    "start_time": "2024-06-11T04:06:36.304Z"
   },
   {
    "duration": 0,
    "start_time": "2024-06-11T04:06:36.307Z"
   },
   {
    "duration": 1328,
    "start_time": "2024-09-04T02:52:15.968Z"
   },
   {
    "duration": 0,
    "start_time": "2024-09-04T02:52:17.300Z"
   },
   {
    "duration": 0,
    "start_time": "2024-09-04T02:52:17.301Z"
   },
   {
    "duration": 0,
    "start_time": "2024-09-04T02:52:17.302Z"
   },
   {
    "duration": 0,
    "start_time": "2024-09-04T02:52:17.304Z"
   },
   {
    "duration": 0,
    "start_time": "2024-09-04T02:52:17.306Z"
   },
   {
    "duration": 0,
    "start_time": "2024-09-04T02:52:17.307Z"
   },
   {
    "duration": 0,
    "start_time": "2024-09-04T02:52:17.308Z"
   },
   {
    "duration": 0,
    "start_time": "2024-09-04T02:52:17.326Z"
   },
   {
    "duration": 0,
    "start_time": "2024-09-04T02:52:17.328Z"
   },
   {
    "duration": 0,
    "start_time": "2024-09-04T02:52:17.329Z"
   },
   {
    "duration": 0,
    "start_time": "2024-09-04T02:52:17.334Z"
   },
   {
    "duration": 0,
    "start_time": "2024-09-04T02:52:17.335Z"
   },
   {
    "duration": 0,
    "start_time": "2024-09-04T02:52:17.337Z"
   },
   {
    "duration": 0,
    "start_time": "2024-09-04T02:52:17.338Z"
   },
   {
    "duration": 0,
    "start_time": "2024-09-04T02:52:17.340Z"
   },
   {
    "duration": 0,
    "start_time": "2024-09-04T02:52:17.341Z"
   },
   {
    "duration": 0,
    "start_time": "2024-09-04T02:52:17.343Z"
   },
   {
    "duration": 0,
    "start_time": "2024-09-04T02:52:17.344Z"
   },
   {
    "duration": 0,
    "start_time": "2024-09-04T02:52:17.346Z"
   },
   {
    "duration": 0,
    "start_time": "2024-09-04T02:52:17.347Z"
   },
   {
    "duration": 0,
    "start_time": "2024-09-04T02:52:17.349Z"
   },
   {
    "duration": 0,
    "start_time": "2024-09-04T02:52:17.350Z"
   },
   {
    "duration": 0,
    "start_time": "2024-09-04T02:52:17.352Z"
   },
   {
    "duration": 0,
    "start_time": "2024-09-04T02:52:17.353Z"
   },
   {
    "duration": 0,
    "start_time": "2024-09-04T02:52:17.355Z"
   },
   {
    "duration": 0,
    "start_time": "2024-09-04T02:52:17.356Z"
   },
   {
    "duration": 0,
    "start_time": "2024-09-04T02:52:17.358Z"
   },
   {
    "duration": 0,
    "start_time": "2024-09-04T02:52:17.359Z"
   },
   {
    "duration": 0,
    "start_time": "2024-09-04T02:52:17.361Z"
   },
   {
    "duration": 0,
    "start_time": "2024-09-04T02:52:17.362Z"
   },
   {
    "duration": 0,
    "start_time": "2024-09-04T02:52:17.364Z"
   },
   {
    "duration": 0,
    "start_time": "2024-09-04T02:52:17.365Z"
   },
   {
    "duration": 0,
    "start_time": "2024-09-04T02:52:17.367Z"
   },
   {
    "duration": 0,
    "start_time": "2024-09-04T02:52:17.368Z"
   },
   {
    "duration": 0,
    "start_time": "2024-09-04T02:52:17.369Z"
   },
   {
    "duration": 0,
    "start_time": "2024-09-04T02:52:17.370Z"
   },
   {
    "duration": 0,
    "start_time": "2024-09-04T02:52:17.371Z"
   },
   {
    "duration": 0,
    "start_time": "2024-09-04T02:52:17.372Z"
   },
   {
    "duration": 0,
    "start_time": "2024-09-04T02:52:17.373Z"
   },
   {
    "duration": 0,
    "start_time": "2024-09-04T02:52:17.374Z"
   },
   {
    "duration": 0,
    "start_time": "2024-09-04T02:52:17.375Z"
   },
   {
    "duration": 0,
    "start_time": "2024-09-04T02:52:17.427Z"
   },
   {
    "duration": 0,
    "start_time": "2024-09-04T02:52:17.430Z"
   },
   {
    "duration": 0,
    "start_time": "2024-09-04T02:52:17.433Z"
   },
   {
    "duration": 0,
    "start_time": "2024-09-04T02:52:17.435Z"
   }
  ],
  "kernelspec": {
   "display_name": "Python 3 (ipykernel)",
   "language": "python",
   "name": "python3"
  },
  "language_info": {
   "codemirror_mode": {
    "name": "ipython",
    "version": 3
   },
   "file_extension": ".py",
   "mimetype": "text/x-python",
   "name": "python",
   "nbconvert_exporter": "python",
   "pygments_lexer": "ipython3",
   "version": "3.9.19"
  },
  "toc": {
   "base_numbering": 1,
   "nav_menu": {},
   "number_sections": true,
   "sideBar": true,
   "skip_h1_title": true,
   "title_cell": "Table of Contents",
   "title_sidebar": "Contents",
   "toc_cell": false,
   "toc_position": {
    "height": "calc(100% - 180px)",
    "left": "10px",
    "top": "150px",
    "width": "208.611px"
   },
   "toc_section_display": true,
   "toc_window_display": false
  }
 },
 "nbformat": 4,
 "nbformat_minor": 2
}
