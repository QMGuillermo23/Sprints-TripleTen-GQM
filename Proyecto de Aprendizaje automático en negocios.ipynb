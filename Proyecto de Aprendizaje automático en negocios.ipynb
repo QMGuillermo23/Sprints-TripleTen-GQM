{
 "cells": [
  {
   "cell_type": "markdown",
   "metadata": {},
   "source": [
    "¡Hola!\n",
    "\n",
    "Mi nombre es Marcos Torres y tengo el gusto de revisar tu código el día de hoy.\n",
    "\n",
    "Cuando vea algo notable o algún asunto en el notebook, te dejaré un comentario o un hint. Se que encontraras la mejor respuesta para resolver todos los comentarios, de no ser así, no te preocupes en futuras iteraciones dejaré comentarios y pistas más específicos.\n",
    "\n",
    "Este proceso es muy parecido al que se recibe de un gerente o de un Senior Data Scientist en un trabajo real, por lo que te estarás preparando para la experiencia en la vida real.\n",
    "\n",
    "Encontrarás comentarios en verde, amarillo o rojo como los siguientes:\n",
    "\n",
    "<div class=\"alert alert-block alert-success\">\n",
    "<b>Comentario del revisor</b> <a class=\"tocSkip\"></a>\n",
    "\n",
    "Buen trabajo. ¡Lo hiciste muy bien!\n",
    "</div>\n",
    "\n",
    "<div class=\"alert alert-block alert-warning\">\n",
    "<b>Comentario del revisor</b> <a class=\"tocSkip\"></a>\n",
    "\n",
    "Nota. Se puede mejorar.\n",
    "</div>\n",
    "\n",
    "<div class=\"alert alert-block alert-danger\">\n",
    "<b>Comentario del revisor</b> <a class=\"tocSkip\"></a>\n",
    "\n",
    "Necesitas corregirlo. Este bloque indica que se requiere una correción. El trabajo no se acepta si tiene estos bloques.\n",
    "</div>\n",
    "\n",
    "Puedes responder a mis comentarios usando estos bloques:\n",
    "\n",
    "<div class=\"alert alert-block alert-info\">\n",
    "<b>Respuesta del estudiante.</b> <a class=\"tocSkip\"></a>\n",
    "</div>"
   ]
  },
  {
   "cell_type": "markdown",
   "metadata": {},
   "source": [
    "# PROYECTO SPRINT 010"
   ]
  },
  {
   "cell_type": "markdown",
   "metadata": {},
   "source": [
    "## INTRODUCCIÓN"
   ]
  },
  {
   "cell_type": "markdown",
   "metadata": {},
   "source": [
    "La compañía de extracción de petróleo OilyGiant busca identificar las mejores ubicaciones para abrir 200 nuevos pozos petrolíferos. El objetivo es maximizar los beneficios y minimizar los riesgos utilizando datos de tres regiones diferentes.\n",
    "\n",
    "Este proyecto se estructura en varias fases clave que incluyen la preparación de datos, el entrenamiento de modelos predictivos, la evaluación de resultados, y la toma de decisiones basadas en análisis de riesgo y beneficio."
   ]
  },
  {
   "cell_type": "markdown",
   "metadata": {},
   "source": [
    "## IMPORTACION Y CARGA DEL DATAFRAME"
   ]
  },
  {
   "cell_type": "code",
   "execution_count": 1,
   "metadata": {},
   "outputs": [],
   "source": [
    "import pandas as pd\n",
    "import numpy as np\n",
    "from sklearn.model_selection import train_test_split\n",
    "from sklearn.linear_model import LinearRegression\n",
    "from sklearn.metrics import mean_squared_error"
   ]
  },
  {
   "cell_type": "markdown",
   "metadata": {},
   "source": [
    "### Descarga del Dataframe"
   ]
  },
  {
   "cell_type": "code",
   "execution_count": 2,
   "metadata": {},
   "outputs": [],
   "source": [
    "geo_data_0 = pd.read_csv('/datasets/geo_data_0.csv')\n",
    "geo_data_1 = pd.read_csv('/datasets/geo_data_1.csv')\n",
    "geo_data_2 = pd.read_csv('/datasets/geo_data_2.csv')"
   ]
  },
  {
   "cell_type": "markdown",
   "metadata": {},
   "source": [
    "<div class=\"alert alert-block alert-success\">\n",
    "<b>Comentario del revisor</b> <a class=\"tocSkip\"></a>\n",
    "\n",
    "Bien, usaste una celda independiente para importar las librerías y otra para leer los datos.\n",
    "</div>"
   ]
  },
  {
   "cell_type": "markdown",
   "metadata": {},
   "source": [
    "Importación del Dataframe"
   ]
  },
  {
   "cell_type": "markdown",
   "metadata": {},
   "source": [
    "## PROCESAMIENTO DEL DATAFRAME"
   ]
  },
  {
   "cell_type": "markdown",
   "metadata": {},
   "source": [
    "### Usar .info()"
   ]
  },
  {
   "cell_type": "code",
   "execution_count": 3,
   "metadata": {},
   "outputs": [
    {
     "name": "stdout",
     "output_type": "stream",
     "text": [
      "<class 'pandas.core.frame.DataFrame'>\n",
      "RangeIndex: 100000 entries, 0 to 99999\n",
      "Data columns (total 5 columns):\n",
      " #   Column   Non-Null Count   Dtype  \n",
      "---  ------   --------------   -----  \n",
      " 0   id       100000 non-null  object \n",
      " 1   f0       100000 non-null  float64\n",
      " 2   f1       100000 non-null  float64\n",
      " 3   f2       100000 non-null  float64\n",
      " 4   product  100000 non-null  float64\n",
      "dtypes: float64(4), object(1)\n",
      "memory usage: 3.8+ MB\n"
     ]
    }
   ],
   "source": [
    "geo_data_0.info()"
   ]
  },
  {
   "cell_type": "code",
   "execution_count": 4,
   "metadata": {},
   "outputs": [
    {
     "name": "stdout",
     "output_type": "stream",
     "text": [
      "<class 'pandas.core.frame.DataFrame'>\n",
      "RangeIndex: 100000 entries, 0 to 99999\n",
      "Data columns (total 5 columns):\n",
      " #   Column   Non-Null Count   Dtype  \n",
      "---  ------   --------------   -----  \n",
      " 0   id       100000 non-null  object \n",
      " 1   f0       100000 non-null  float64\n",
      " 2   f1       100000 non-null  float64\n",
      " 3   f2       100000 non-null  float64\n",
      " 4   product  100000 non-null  float64\n",
      "dtypes: float64(4), object(1)\n",
      "memory usage: 3.8+ MB\n"
     ]
    }
   ],
   "source": [
    "geo_data_1.info()"
   ]
  },
  {
   "cell_type": "code",
   "execution_count": 5,
   "metadata": {},
   "outputs": [
    {
     "name": "stdout",
     "output_type": "stream",
     "text": [
      "<class 'pandas.core.frame.DataFrame'>\n",
      "RangeIndex: 100000 entries, 0 to 99999\n",
      "Data columns (total 5 columns):\n",
      " #   Column   Non-Null Count   Dtype  \n",
      "---  ------   --------------   -----  \n",
      " 0   id       100000 non-null  object \n",
      " 1   f0       100000 non-null  float64\n",
      " 2   f1       100000 non-null  float64\n",
      " 3   f2       100000 non-null  float64\n",
      " 4   product  100000 non-null  float64\n",
      "dtypes: float64(4), object(1)\n",
      "memory usage: 3.8+ MB\n"
     ]
    }
   ],
   "source": [
    "geo_data_2.info()"
   ]
  },
  {
   "cell_type": "markdown",
   "metadata": {},
   "source": [
    "NO TENEMOS DATOS null"
   ]
  },
  {
   "cell_type": "markdown",
   "metadata": {},
   "source": [
    "### Usar .isnull()"
   ]
  },
  {
   "cell_type": "code",
   "execution_count": 6,
   "metadata": {},
   "outputs": [
    {
     "data": {
      "text/plain": [
       "id         0\n",
       "f0         0\n",
       "f1         0\n",
       "f2         0\n",
       "product    0\n",
       "dtype: int64"
      ]
     },
     "execution_count": 6,
     "metadata": {},
     "output_type": "execute_result"
    }
   ],
   "source": [
    "geo_data_0.isnull().sum()"
   ]
  },
  {
   "cell_type": "code",
   "execution_count": 7,
   "metadata": {},
   "outputs": [
    {
     "data": {
      "text/plain": [
       "id         0\n",
       "f0         0\n",
       "f1         0\n",
       "f2         0\n",
       "product    0\n",
       "dtype: int64"
      ]
     },
     "execution_count": 7,
     "metadata": {},
     "output_type": "execute_result"
    }
   ],
   "source": [
    "geo_data_1.isnull().sum()"
   ]
  },
  {
   "cell_type": "code",
   "execution_count": 8,
   "metadata": {},
   "outputs": [
    {
     "data": {
      "text/plain": [
       "id         0\n",
       "f0         0\n",
       "f1         0\n",
       "f2         0\n",
       "product    0\n",
       "dtype: int64"
      ]
     },
     "execution_count": 8,
     "metadata": {},
     "output_type": "execute_result"
    }
   ],
   "source": [
    "geo_data_2.isnull().sum()"
   ]
  },
  {
   "cell_type": "markdown",
   "metadata": {},
   "source": [
    "NO TENEMOS DATOS null"
   ]
  },
  {
   "cell_type": "markdown",
   "metadata": {},
   "source": [
    "### Usar .head()"
   ]
  },
  {
   "cell_type": "code",
   "execution_count": 9,
   "metadata": {},
   "outputs": [
    {
     "name": "stdout",
     "output_type": "stream",
     "text": [
      "      id        f0        f1        f2     product\n",
      "0  txEyH  0.705745 -0.497823  1.221170  105.280062\n",
      "1  2acmU  1.334711 -0.340164  4.365080   73.037750\n",
      "2  409Wp  1.022732  0.151990  1.419926   85.265647\n",
      "3  iJLyR -0.032172  0.139033  2.978566  168.620776\n",
      "4  Xdl7t  1.988431  0.155413  4.751769  154.036647\n"
     ]
    }
   ],
   "source": [
    "print(geo_data_0.head())"
   ]
  },
  {
   "cell_type": "code",
   "execution_count": 10,
   "metadata": {},
   "outputs": [
    {
     "name": "stdout",
     "output_type": "stream",
     "text": [
      "      id         f0         f1        f2     product\n",
      "0  kBEdx -15.001348  -8.276000 -0.005876    3.179103\n",
      "1  62mP7  14.272088  -3.475083  0.999183   26.953261\n",
      "2  vyE1P   6.263187  -5.948386  5.001160  134.766305\n",
      "3  KcrkZ -13.081196 -11.506057  4.999415  137.945408\n",
      "4  AHL4O  12.702195  -8.147433  5.004363  134.766305\n"
     ]
    }
   ],
   "source": [
    "print(geo_data_1.head())"
   ]
  },
  {
   "cell_type": "code",
   "execution_count": 11,
   "metadata": {},
   "outputs": [
    {
     "name": "stdout",
     "output_type": "stream",
     "text": [
      "      id        f0        f1        f2     product\n",
      "0  fwXo0 -1.146987  0.963328 -0.828965   27.758673\n",
      "1  WJtFt  0.262778  0.269839 -2.530187   56.069697\n",
      "2  ovLUW  0.194587  0.289035 -5.586433   62.871910\n",
      "3  q6cA6  2.236060 -0.553760  0.930038  114.572842\n",
      "4  WPMUX -0.515993  1.716266  5.899011  149.600746\n"
     ]
    }
   ],
   "source": [
    "print(geo_data_2.head())"
   ]
  },
  {
   "cell_type": "markdown",
   "metadata": {},
   "source": [
    "Imprimir con Head"
   ]
  },
  {
   "cell_type": "markdown",
   "metadata": {},
   "source": [
    "### Revisar con .drop_duplicates()"
   ]
  },
  {
   "cell_type": "code",
   "execution_count": 12,
   "metadata": {},
   "outputs": [
    {
     "name": "stdout",
     "output_type": "stream",
     "text": [
      "id         100000\n",
      "f0         100000\n",
      "f1         100000\n",
      "f2         100000\n",
      "product    100000\n",
      "dtype: int64\n"
     ]
    }
   ],
   "source": [
    "print(geo_data_0.drop_duplicates().count())"
   ]
  },
  {
   "cell_type": "code",
   "execution_count": 13,
   "metadata": {},
   "outputs": [
    {
     "name": "stdout",
     "output_type": "stream",
     "text": [
      "id         100000\n",
      "f0         100000\n",
      "f1         100000\n",
      "f2         100000\n",
      "product    100000\n",
      "dtype: int64\n"
     ]
    }
   ],
   "source": [
    "print(geo_data_1.drop_duplicates().count())"
   ]
  },
  {
   "cell_type": "code",
   "execution_count": 14,
   "metadata": {},
   "outputs": [
    {
     "name": "stdout",
     "output_type": "stream",
     "text": [
      "id         100000\n",
      "f0         100000\n",
      "f1         100000\n",
      "f2         100000\n",
      "product    100000\n",
      "dtype: int64\n"
     ]
    }
   ],
   "source": [
    "print(geo_data_2.drop_duplicates().count())"
   ]
  },
  {
   "cell_type": "markdown",
   "metadata": {},
   "source": [
    "COMO PODEMOS OBSERVAR NO TENEMOS DUPLICADOS & SE ELIMINA DE FORMA INMEDIATA"
   ]
  },
  {
   "cell_type": "markdown",
   "metadata": {},
   "source": [
    "<div class=\"alert alert-block alert-success\">\n",
    "<b>Comentario del revisor</b> <a class=\"tocSkip\"></a>\n",
    "\n",
    "Buen uso de los métodos de pandas para explorar los datos.\n",
    "</div>"
   ]
  },
  {
   "cell_type": "markdown",
   "metadata": {},
   "source": [
    "### Usar .duplicated().sum()"
   ]
  },
  {
   "cell_type": "code",
   "execution_count": 15,
   "metadata": {},
   "outputs": [
    {
     "name": "stdout",
     "output_type": "stream",
     "text": [
      "Número de Filas Duplicadas: 0\n"
     ]
    }
   ],
   "source": [
    "sum_gd00 = geo_data_0.duplicated().sum()\n",
    "print(\"Número de Filas Duplicadas:\" , sum_gd00)"
   ]
  },
  {
   "cell_type": "code",
   "execution_count": 16,
   "metadata": {},
   "outputs": [
    {
     "name": "stdout",
     "output_type": "stream",
     "text": [
      "Número de Filas Duplicadas: 0\n"
     ]
    }
   ],
   "source": [
    "sum_gd01 = geo_data_1.duplicated().sum()\n",
    "print(\"Número de Filas Duplicadas:\" , sum_gd01)"
   ]
  },
  {
   "cell_type": "code",
   "execution_count": 17,
   "metadata": {},
   "outputs": [
    {
     "name": "stdout",
     "output_type": "stream",
     "text": [
      "Número de Filas Duplicadas: 0\n"
     ]
    }
   ],
   "source": [
    "sum_gd02 = geo_data_2.duplicated().sum()\n",
    "print(\"Número de Filas Duplicadas:\" , sum_gd02)"
   ]
  },
  {
   "cell_type": "markdown",
   "metadata": {},
   "source": [
    "### Usar .dtypes()"
   ]
  },
  {
   "cell_type": "code",
   "execution_count": 18,
   "metadata": {},
   "outputs": [
    {
     "name": "stdout",
     "output_type": "stream",
     "text": [
      "id          object\n",
      "f0         float64\n",
      "f1         float64\n",
      "f2         float64\n",
      "product    float64\n",
      "dtype: object\n",
      "-------------------------------------------------\n",
      "id          object\n",
      "f0         float64\n",
      "f1         float64\n",
      "f2         float64\n",
      "product    float64\n",
      "dtype: object\n",
      "-------------------------------------------------\n",
      "id          object\n",
      "f0         float64\n",
      "f1         float64\n",
      "f2         float64\n",
      "product    float64\n",
      "dtype: object\n"
     ]
    }
   ],
   "source": [
    "print(geo_data_0.dtypes)\n",
    "print('-------------------------------------------------')\n",
    "print(geo_data_1.dtypes)\n",
    "print('-------------------------------------------------')\n",
    "print(geo_data_2.dtypes)"
   ]
  },
  {
   "cell_type": "markdown",
   "metadata": {},
   "source": [
    "### Usar .corr()"
   ]
  },
  {
   "cell_type": "code",
   "execution_count": 19,
   "metadata": {},
   "outputs": [
    {
     "name": "stdout",
     "output_type": "stream",
     "text": [
      "               f0        f1        f2   product\n",
      "f0       1.000000 -0.440723 -0.003153  0.143536\n",
      "f1      -0.440723  1.000000  0.001724 -0.192356\n",
      "f2      -0.003153  0.001724  1.000000  0.483663\n",
      "product  0.143536 -0.192356  0.483663  1.000000\n",
      "--------------------------------------------------------\n",
      "               f0        f1        f2   product\n",
      "f0       1.000000  0.182287 -0.001777 -0.030491\n",
      "f1       0.182287  1.000000 -0.002595 -0.010155\n",
      "f2      -0.001777 -0.002595  1.000000  0.999397\n",
      "product -0.030491 -0.010155  0.999397  1.000000\n",
      "--------------------------------------------------------\n",
      "               f0        f1        f2   product\n",
      "f0       1.000000  0.000528 -0.000448 -0.001987\n",
      "f1       0.000528  1.000000  0.000779 -0.001012\n",
      "f2      -0.000448  0.000779  1.000000  0.445871\n",
      "product -0.001987 -0.001012  0.445871  1.000000\n"
     ]
    }
   ],
   "source": [
    "print(geo_data_0.corr())\n",
    "print('--------------------------------------------------------')\n",
    "print(geo_data_1.corr())\n",
    "print('--------------------------------------------------------')\n",
    "print(geo_data_2.corr())"
   ]
  },
  {
   "cell_type": "markdown",
   "metadata": {},
   "source": [
    "Calcula una matriz de correlación entre las columnas con lo cual podemos observar que no tiene los mismos datos"
   ]
  },
  {
   "cell_type": "markdown",
   "metadata": {},
   "source": [
    "### Usar .nunique()"
   ]
  },
  {
   "cell_type": "code",
   "execution_count": 20,
   "metadata": {},
   "outputs": [
    {
     "name": "stdout",
     "output_type": "stream",
     "text": [
      "id          99990\n",
      "f0         100000\n",
      "f1         100000\n",
      "f2         100000\n",
      "product    100000\n",
      "dtype: int64\n",
      "---------------------------\n",
      "id          99996\n",
      "f0         100000\n",
      "f1         100000\n",
      "f2         100000\n",
      "product        12\n",
      "dtype: int64\n",
      "---------------------------\n",
      "id          99996\n",
      "f0         100000\n",
      "f1         100000\n",
      "f2         100000\n",
      "product    100000\n",
      "dtype: int64\n"
     ]
    }
   ],
   "source": [
    "print(geo_data_0.nunique())\n",
    "print('---------------------------')\n",
    "print(geo_data_1.nunique())\n",
    "print('---------------------------')\n",
    "print(geo_data_2.nunique())"
   ]
  },
  {
   "cell_type": "markdown",
   "metadata": {},
   "source": [
    "Cuenta el número de valores únicos en cada columna"
   ]
  },
  {
   "cell_type": "markdown",
   "metadata": {},
   "source": [
    "### Usar .describe()"
   ]
  },
  {
   "cell_type": "code",
   "execution_count": 21,
   "metadata": {},
   "outputs": [
    {
     "name": "stdout",
     "output_type": "stream",
     "text": [
      "DataFrame geo_data_0:                  f0             f1             f2        product\n",
      "count  100000.000000  100000.000000  100000.000000  100000.000000\n",
      "mean        0.500419       0.250143       2.502647      92.500000\n",
      "std         0.871832       0.504433       3.248248      44.288691\n",
      "min        -1.408605      -0.848218     -12.088328       0.000000\n",
      "25%        -0.072580      -0.200881       0.287748      56.497507\n",
      "50%         0.502360       0.250252       2.515969      91.849972\n",
      "75%         1.073581       0.700646       4.715088     128.564089\n",
      "max         2.362331       1.343769      16.003790     185.364347\n",
      "----------------------------------------------------------------------------------------\n",
      "DataFrame geo_data_1:                  f0             f1             f2        product\n",
      "count  100000.000000  100000.000000  100000.000000  100000.000000\n",
      "mean        1.141296      -4.796579       2.494541      68.825000\n",
      "std         8.965932       5.119872       1.703572      45.944423\n",
      "min       -31.609576     -26.358598      -0.018144       0.000000\n",
      "25%        -6.298551      -8.267985       1.000021      26.953261\n",
      "50%         1.153055      -4.813172       2.011479      57.085625\n",
      "75%         8.621015      -1.332816       3.999904     107.813044\n",
      "max        29.421755      18.734063       5.019721     137.945408\n",
      "----------------------------------------------------------------------------------------\n",
      "DataFrame geo_data_2:                  f0             f1             f2        product\n",
      "count  100000.000000  100000.000000  100000.000000  100000.000000\n",
      "mean        0.002023      -0.002081       2.495128      95.000000\n",
      "std         1.732045       1.730417       3.473445      44.749921\n",
      "min        -8.760004      -7.084020     -11.970335       0.000000\n",
      "25%        -1.162288      -1.174820       0.130359      59.450441\n",
      "50%         0.009424      -0.009482       2.484236      94.925613\n",
      "75%         1.158535       1.163678       4.858794     130.595027\n",
      "max         7.238262       7.844801      16.739402     190.029838\n"
     ]
    }
   ],
   "source": [
    "print(f'DataFrame geo_data_0:{geo_data_0.describe()}')\n",
    "print('----------------------------------------------------------------------------------------')\n",
    "print(f'DataFrame geo_data_1:{geo_data_1.describe()}')\n",
    "print('----------------------------------------------------------------------------------------')\n",
    "print(f'DataFrame geo_data_2:{geo_data_2.describe()}')"
   ]
  },
  {
   "cell_type": "markdown",
   "metadata": {},
   "source": [
    "Proporciona estadísticas descriptivas que incluyen las medidas de tendencia central, dispersión y forma de la distribución de un conjunto de datos, excluyendo los valores NaN."
   ]
  },
  {
   "cell_type": "markdown",
   "metadata": {},
   "source": [
    "<div class=\"alert alert-block alert-warning\">\n",
    "<b>Comentario del revisor</b> <a class=\"tocSkip\"></a>\n",
    "\n",
    "Muy bien, exploraste correctamente con duplicated, isnull, entre otros. A todos los data frames les diste el mismo tratamiento por lo que para reducir líneas de código pudiste definir una función que realice estre proceso y aplicarlo sobre cada uno de los dataframes a estudiar.\n",
    "</div>"
   ]
  },
  {
   "cell_type": "markdown",
   "metadata": {},
   "source": [
    "<div class=\"alert alert-block alert-info\">\n",
    "<b>En los analisis de los Dataframe no se cual mas podria ejecutar para su revisión</b> <a class=\"tocSkip\"></a>\n",
    "</div>"
   ]
  },
  {
   "cell_type": "markdown",
   "metadata": {},
   "source": [
    "## Entrenamiento y Prueba del Modelo"
   ]
  },
  {
   "cell_type": "markdown",
   "metadata": {},
   "source": [
    "### Entrenamiento"
   ]
  },
  {
   "cell_type": "code",
   "execution_count": 22,
   "metadata": {},
   "outputs": [],
   "source": [
    "def entrenar_y_validar(data):\n",
    "# Separar las características y el objetivo\n",
    "    X = data.drop(['id', 'product'], axis=1)\n",
    "    y = data['product']\n",
    "    \n",
    "# Dividir en conjunto de entrenamiento y validación\n",
    "    X_train, X_val, y_train, y_val = train_test_split(X, y, test_size=0.25, random_state=42)\n",
    "    \n",
    "# Entrenar el modelo\n",
    "    model = LinearRegression()\n",
    "    model.fit(X_train, y_train)\n",
    "    \n",
    "# Hacer predicciones\n",
    "    predictions = model.predict(X_val)\n",
    "    \n",
    "# Calcular el RMSE\n",
    "    rmse = np.sqrt(mean_squared_error(y_val, predictions))\n",
    "    \n",
    "# Calcular el volumen medio de reservas predicho\n",
    "    volumen_medio_predicho = predictions.mean()\n",
    "    \n",
    "# Crear un DataFrame con las predicciones y los valores reales\n",
    "    df_pozos = pd.DataFrame({'prediction': predictions, 'real': y_val})\n",
    "    \n",
    "    return df_pozos, volumen_medio_predicho, rmse"
   ]
  },
  {
   "cell_type": "markdown",
   "metadata": {},
   "source": [
    "Para cada región, entrenaremos un modelo de regresión lineal, haremos predicciones para el conjunto de validación así como crear el dataframe (pozos) para la predicción y los valores reales.\\\n",
    "Un modelo bien entrenado proporciona predicciones precisas que son esenciales para la toma de decisiones sobre la apertura de nuevos pozos."
   ]
  },
  {
   "cell_type": "markdown",
   "metadata": {},
   "source": [
    "<div class=\"alert alert-block alert-success\">\n",
    "<b>Comentario del revisor</b> <a class=\"tocSkip\"></a>\n",
    "\n",
    "Bien, la función para aplicar la regresión lineal es correcta.\n",
    "</div>"
   ]
  },
  {
   "cell_type": "markdown",
   "metadata": {},
   "source": [
    "### Prueba del Modelo"
   ]
  },
  {
   "cell_type": "code",
   "execution_count": 23,
   "metadata": {},
   "outputs": [],
   "source": [
    "df_pozos_0, volumen_medio_predicho_0, rmse_0 = entrenar_y_validar(geo_data_0)\n",
    "df_pozos_1, volumen_medio_predicho_1, rmse_1 = entrenar_y_validar(geo_data_1)\n",
    "df_pozos_2, volumen_medio_predicho_2, rmse_2 = entrenar_y_validar(geo_data_2)"
   ]
  },
  {
   "cell_type": "code",
   "execution_count": 24,
   "metadata": {},
   "outputs": [
    {
     "name": "stdout",
     "output_type": "stream",
     "text": [
      "Región 0 - Volumen Medio Predicho: 92.3988, RMSE: 37.7566\n"
     ]
    }
   ],
   "source": [
    "print(f'Región 0 - Volumen Medio Predicho: {volumen_medio_predicho_0:.4f}, RMSE: {rmse_0:.4f}')"
   ]
  },
  {
   "cell_type": "markdown",
   "metadata": {},
   "source": [
    "Un RMSE más alto indica que el modelo tiene un error de predicción relativamente alto en esta región."
   ]
  },
  {
   "cell_type": "code",
   "execution_count": 25,
   "metadata": {},
   "outputs": [
    {
     "name": "stdout",
     "output_type": "stream",
     "text": [
      "Región 1 - Volumen Medio Predicho: 68.7129, RMSE: 0.8903\n"
     ]
    }
   ],
   "source": [
    "print(f'Región 1 - Volumen Medio Predicho: {volumen_medio_predicho_1:.4f}, RMSE: {rmse_1:.4f}')"
   ]
  },
  {
   "cell_type": "markdown",
   "metadata": {},
   "source": [
    "Un RMSE muy bajo indica que el modelo predice con mucha precisión en esta región."
   ]
  },
  {
   "cell_type": "code",
   "execution_count": 26,
   "metadata": {},
   "outputs": [
    {
     "name": "stdout",
     "output_type": "stream",
     "text": [
      "Región 2 - Volumen Medio Predicho: 94.7710, RMSE: 40.1459\n"
     ]
    }
   ],
   "source": [
    "print(f'Región 2 - Volumen Medio Predicho: {volumen_medio_predicho_2:.4f}, RMSE: {rmse_2:.4f}')"
   ]
  },
  {
   "cell_type": "markdown",
   "metadata": {},
   "source": [
    "Similar a la Región 2, el RMSE es bastante alto, indicando un error de predicción considerable."
   ]
  },
  {
   "cell_type": "markdown",
   "metadata": {},
   "source": [
    "Región 1 tiene el RMSE más bajo, lo que indica que las predicciones son más precisas en comparación con las otras regiones.\\\n",
    "Sin embargo, el volumen medio predicho es más alto en las Regiones 0 y 2."
   ]
  },
  {
   "cell_type": "markdown",
   "metadata": {},
   "source": [
    "### Información del los Pozos"
   ]
  },
  {
   "cell_type": "code",
   "execution_count": 27,
   "metadata": {},
   "outputs": [
    {
     "name": "stdout",
     "output_type": "stream",
     "text": [
      "Región 0 :<bound method DataFrame.info of        prediction        real\n",
      "75721  101.901017  122.073350\n",
      "80184   78.217774   48.738540\n",
      "19864  115.266901  131.338088\n",
      "76699  105.618618   88.327757\n",
      "92991   97.980185   36.959266\n",
      "...           ...         ...\n",
      "21271  105.076959  148.821520\n",
      "34014   74.768176  123.454003\n",
      "81355   82.544397   91.945213\n",
      "65720   81.826689  149.295563\n",
      "11627   93.121062   57.244039\n",
      "\n",
      "[25000 rows x 2 columns]>\n"
     ]
    }
   ],
   "source": [
    "print(f'Región 0 :{df_pozos_0.info}')"
   ]
  },
  {
   "cell_type": "code",
   "execution_count": 28,
   "metadata": {},
   "outputs": [
    {
     "name": "stdout",
     "output_type": "stream",
     "text": [
      "Región 1 :<bound method DataFrame.info of        prediction        real\n",
      "75721    0.844738    0.000000\n",
      "80184   52.921612   53.906522\n",
      "19864  135.110385  134.766305\n",
      "76699  109.494863  107.813044\n",
      "92991   -0.047292    0.000000\n",
      "...           ...         ...\n",
      "21271  108.351600  107.813044\n",
      "34014   53.604049   53.906522\n",
      "81355   26.708734   26.953261\n",
      "65720  109.823087  110.992147\n",
      "11627  135.448780  134.766305\n",
      "\n",
      "[25000 rows x 2 columns]>\n"
     ]
    }
   ],
   "source": [
    "print (f'Región 1 :{df_pozos_1.info}')\n"
   ]
  },
  {
   "cell_type": "code",
   "execution_count": 29,
   "metadata": {},
   "outputs": [
    {
     "name": "stdout",
     "output_type": "stream",
     "text": [
      "Región 2 :<bound method DataFrame.info of        prediction        real\n",
      "75721   98.301916  117.441301\n",
      "80184  101.592461   47.841249\n",
      "19864   52.449099   45.883483\n",
      "76699  109.922127  139.014608\n",
      "92991   72.411847   84.004276\n",
      "...           ...         ...\n",
      "21271  102.764169   40.797226\n",
      "34014   93.431823   87.144239\n",
      "81355   64.098390   52.039812\n",
      "65720   83.764135  136.961454\n",
      "11627   86.558644  109.173206\n",
      "\n",
      "[25000 rows x 2 columns]>\n"
     ]
    }
   ],
   "source": [
    "print (f'Región 2 :{df_pozos_2.info}')"
   ]
  },
  {
   "cell_type": "markdown",
   "metadata": {},
   "source": [
    "<div class=\"alert alert-block alert-success\">\n",
    "<b>Comentario del revisor</b> <a class=\"tocSkip\"></a>\n",
    "\n",
    "Muy bien, se obtuvieron correctamente las predicciones.\n",
    "</div>"
   ]
  },
  {
   "cell_type": "markdown",
   "metadata": {},
   "source": [
    "\n",
    "<div class=\"alert alert-block alert-info\">\n",
    "<b>En este punto lo corregi de nuevo ya que era más facil hacerlo en conjunto los datos de los pozos, el volumen promedio y el RMSE en una iteración que separarlos .</b> <a class=\"tocSkip\"></a>\n",
    "</div>"
   ]
  },
  {
   "cell_type": "markdown",
   "metadata": {},
   "source": [
    "## Preparación para el Cálculo de Ganancias"
   ]
  },
  {
   "cell_type": "markdown",
   "metadata": {},
   "source": [
    "### Calculo de Inversión"
   ]
  },
  {
   "cell_type": "code",
   "execution_count": 30,
   "metadata": {},
   "outputs": [],
   "source": [
    "inversion_total = 100_000_000\n",
    "\n",
    "num_pozos = 200\n",
    "\n",
    "ingreso_por_unidad = 4_500\n",
    "\n",
    "min_reservas_necesarias = inversion_total / (num_pozos * ingreso_por_unidad)\n",
    "\n"
   ]
  },
  {
   "cell_type": "markdown",
   "metadata": {},
   "source": [
    "Inversión total.\\\n",
    "Número de pozos.\\\n",
    "Ingreso por unidad de producto (en miles de barriles).\\\n",
    "Cantidad mínima de reservas necesarias para evitar pérdidas.\\\n",
    "Calculamos la cantidad mínima de reservas necesarias para evitar pérdidas."
   ]
  },
  {
   "cell_type": "markdown",
   "metadata": {},
   "source": [
    "### Imprimir Resultado"
   ]
  },
  {
   "cell_type": "code",
   "execution_count": 31,
   "metadata": {},
   "outputs": [
    {
     "name": "stdout",
     "output_type": "stream",
     "text": [
      "Cantidad mínima de reservas necesarias: 111.1111 miles de barriles\n"
     ]
    }
   ],
   "source": [
    "print(f'Cantidad mínima de reservas necesarias: {(min_reservas_necesarias):.4f} miles de barriles')"
   ]
  },
  {
   "cell_type": "markdown",
   "metadata": {},
   "source": [
    "Solo las regiones que superan este umbral son consideradas para el análisis de ganancias, optimizando el uso del presupuesto y recursos."
   ]
  },
  {
   "cell_type": "markdown",
   "metadata": {},
   "source": [
    "## Función para Calcular la Ganancia"
   ]
  },
  {
   "cell_type": "code",
   "execution_count": 32,
   "metadata": {},
   "outputs": [],
   "source": [
    "def calcular_ganancia(data_frame_pozo, umbral=200):\n",
    "# Ordenar el DataFrame por predicciones en orden descendente\n",
    "    df_ordenado_predicciones = data_frame_pozo.sort_values(by='prediction', ascending=False)\n",
    "    \n",
    "# Seleccionar los 200 pozos con las predicciones más altas y usar los valores reales para calcular la ganancia\n",
    "    mejores_pozos = df_ordenado_predicciones.head(umbral)['real'].sum()\n",
    "    \n",
    "# Calcular la ganancia\n",
    "    ganancia = (mejores_pozos * ingreso_por_unidad) - inversion_total\n",
    "    return ganancia\n",
    "\n",
    "# Calcular la ganancia para cada región\n",
    "ganancia_0 = calcular_ganancia(df_pozos_0)\n",
    "ganancia_1 = calcular_ganancia(df_pozos_1)\n",
    "ganancia_2 = calcular_ganancia(df_pozos_2)"
   ]
  },
  {
   "cell_type": "markdown",
   "metadata": {},
   "source": [
    "Definimos una función para calcular la ganancia de un conjunto de pozos seleccionados."
   ]
  },
  {
   "cell_type": "code",
   "execution_count": 33,
   "metadata": {},
   "outputs": [
    {
     "name": "stdout",
     "output_type": "stream",
     "text": [
      "Ganancia Región 0: 33,591,411.1446\n"
     ]
    }
   ],
   "source": [
    "print(f'Ganancia Región 0: {ganancia_0:,.4f}')"
   ]
  },
  {
   "cell_type": "code",
   "execution_count": 34,
   "metadata": {},
   "outputs": [
    {
     "name": "stdout",
     "output_type": "stream",
     "text": [
      "Ganancia Región 1: 24,150,866.9668\n"
     ]
    }
   ],
   "source": [
    "print(f'Ganancia Región 1: {ganancia_1:,.4f}')"
   ]
  },
  {
   "cell_type": "code",
   "execution_count": 35,
   "metadata": {},
   "outputs": [
    {
     "name": "stdout",
     "output_type": "stream",
     "text": [
      "Ganancia Región 2: 25,985,717.5937\n"
     ]
    }
   ],
   "source": [
    "print(f'Ganancia Región 2: {ganancia_2:,.4f}')"
   ]
  },
  {
   "cell_type": "markdown",
   "metadata": {},
   "source": [
    "Este análisis cuantitativo proporciona una base sólida para decidir en qué región invertir los recursos para el desarrollo de nuevos pozos."
   ]
  },
  {
   "cell_type": "markdown",
   "metadata": {},
   "source": [
    "## Cálculo de Riesgos y Ganancias con Bootstrapping"
   ]
  },
  {
   "cell_type": "markdown",
   "metadata": {},
   "source": [
    "### Cálculo de Riesgo y Ganancias"
   ]
  },
  {
   "cell_type": "code",
   "execution_count": 36,
   "metadata": {},
   "outputs": [],
   "source": [
    "def bootstrapping(df_pozos, num_iteraciones=1000, tamano_muestra=500):\n",
    "    np.random.seed(42)\n",
    "    ganancias = []\n",
    "\n",
    "    for _ in range(num_iteraciones):\n",
    "# Tomar una muestra aleatoria de 500 pozos\n",
    "        muestra = df_pozos.sample(n=tamano_muestra, replace=True)\n",
    "# Seleccionar los 200 pozos con las mejores predicciones y usar los valores reales para calcular la ganancia\n",
    "        muestra_top_200 = muestra.sort_values(by='prediction', ascending=False).head(200)\n",
    "        ganancia = (muestra_top_200['real'].sum() * ingreso_por_unidad) - inversion_total\n",
    "        ganancias.append(ganancia)\n",
    "\n",
    "    ganancias = np.array(ganancias)\n",
    "    ganancia_promedio = ganancias.mean()\n",
    "    intervalo_confianza = np.percentile(ganancias, [2.5, 97.5])\n",
    "    riesgo_perdidas = (ganancias < 0).mean()\n",
    "\n",
    "    return ganancia_promedio, intervalo_confianza, riesgo_perdidas\n",
    "\n",
    "# Analizar riesgos y ganancias para cada región\n",
    "ganancia_promedio_0, intervalo_confianza_0, riesgo_perdidas_0 = bootstrapping(df_pozos_0)\n",
    "ganancia_promedio_1, intervalo_confianza_1, riesgo_perdidas_1 = bootstrapping(df_pozos_1)\n",
    "ganancia_promedio_2, intervalo_confianza_2, riesgo_perdidas_2 = bootstrapping(df_pozos_2)"
   ]
  },
  {
   "cell_type": "markdown",
   "metadata": {},
   "source": [
    "El análisis de riesgo mediante la técnica de bootstrapping permite evaluar la incertidumbre y la estabilidad de las ganancias predichas."
   ]
  },
  {
   "cell_type": "markdown",
   "metadata": {},
   "source": [
    "<div class=\"alert alert-block alert-danger\">\n",
    "<b>Comentario del revisor, Parte 2</b> <a class=\"tocSkip\"></a>\n",
    "\n",
    "Muy bien, ya realizaste la corrección y ahora se realiza un remuestreo de 500 pozos de todos los pozos, solo hay un detalle a corregir. En la línea:\n",
    "    \n",
    "```\n",
    "muestra = df_pozos.sample(n=tamano_muestra, replace=True, random_state=1)    \n",
    "```\n",
    "    \n",
    "Esta el argumento random_state = 1, lo que hace que siempre se tome la misma muestra, por lo que no hay aleatoriedad. Eliminando este argumento en el remuestreo se generan varias muestras de verdad aleatorias. Prueba a corregir eso, notaras que finalmente se está realizando el bootstrap cuando los intervalos de confianza no sean solo un valor y cuando el porcentaje de probabilidad de pérdidas sea diferente a 1 y 0, deben ser valores como 0.15 o 0.8\n",
    "                                          \n",
    "</div>"
   ]
  },
  {
   "cell_type": "markdown",
   "metadata": {},
   "source": [
    "<div class=\"alert alert-block alert-info\">\n",
    "<b>Me tarde un poco pero bueno lo importante es que ciertamente se ve el cambio. Por lo mismo voy a usar los tres valores 2.5%, 15% y 80%.</b> <a class=\"tocSkip\"></a>\n",
    "</div>"
   ]
  },
  {
   "cell_type": "markdown",
   "metadata": {},
   "source": [
    "### Imprimir Resultados"
   ]
  },
  {
   "cell_type": "markdown",
   "metadata": {},
   "source": [
    "#### Bootstrapping de los Pozos"
   ]
  },
  {
   "cell_type": "code",
   "execution_count": 37,
   "metadata": {},
   "outputs": [
    {
     "name": "stdout",
     "output_type": "stream",
     "text": [
      "bootstrapping(df_pozos_0):(3995754.780542297, array([-1104678.95331971,  8974603.27717879]), 0.06)\n",
      "bootstrapping(df_pozos_1):(4520488.909064583, array([ 616844.79654227, 8453401.77507385]), 0.015)\n",
      "bootstrapping(df_pozos_2):(3750099.0291532897, array([-1447667.27304893,  8883904.03534222]), 0.08)\n"
     ]
    }
   ],
   "source": [
    "print(f'bootstrapping(df_pozos_0):{bootstrapping(df_pozos_0)}')\n",
    "print(f'bootstrapping(df_pozos_1):{bootstrapping(df_pozos_1)}')\n",
    "print(f'bootstrapping(df_pozos_2):{bootstrapping(df_pozos_2)}')"
   ]
  },
  {
   "cell_type": "markdown",
   "metadata": {},
   "source": [
    "<div class=\"alert alert-block alert-warning\">\n",
    "<b>Comentario del revisor</b> <a class=\"tocSkip\"></a>\n",
    "\n",
    "Los valores 0.06, 0.015 y 0.08 en realidad son 6%, 1.5% y 8%. Por lo que la región con menor probabilidad de riesgo es la región 1.\n",
    "</div>"
   ]
  },
  {
   "cell_type": "markdown",
   "metadata": {},
   "source": [
    "#### Ganancia, Confianza y Perdidas de los Pozos"
   ]
  },
  {
   "cell_type": "code",
   "execution_count": 38,
   "metadata": {},
   "outputs": [
    {
     "name": "stdout",
     "output_type": "stream",
     "text": [
      "Región 0 - Ganancia Promedio: 3,995,754.7805\n",
      "Región 0 - Intervalo de Confianza: [-1,104,678.9533 \\ 8,974,603.2772]\n",
      "Región 0 - Riesgo de Pérdidas: 0.0600\n"
     ]
    }
   ],
   "source": [
    "print(f'Región 0 - Ganancia Promedio: {ganancia_promedio_0:,.4f}')\n",
    "print(f'Región 0 - Intervalo de Confianza: [{intervalo_confianza_0[0]:,.4f} \\ {intervalo_confianza_0[1]:,.4f}]')\n",
    "print(f'Región 0 - Riesgo de Pérdidas: {riesgo_perdidas_0:.4f}')"
   ]
  },
  {
   "cell_type": "code",
   "execution_count": 39,
   "metadata": {},
   "outputs": [
    {
     "name": "stdout",
     "output_type": "stream",
     "text": [
      "Región 1 - Ganancia Promedio: 4,520,488.9091\n",
      "Región 1 - Intervalo de Confianza: [616,844.7965 \\ 8,453,401.7751]\n",
      "Región 1 - Riesgo de Pérdidas: 0.0150\n"
     ]
    }
   ],
   "source": [
    "print(f'Región 1 - Ganancia Promedio: {ganancia_promedio_1:,.4f}')\n",
    "print(f'Región 1 - Intervalo de Confianza: [{intervalo_confianza_1[0]:,.4f} \\ {intervalo_confianza_1[1]:,.4f}]')\n",
    "print(f'Región 1 - Riesgo de Pérdidas: {riesgo_perdidas_1:,.4f}')"
   ]
  },
  {
   "cell_type": "code",
   "execution_count": 40,
   "metadata": {},
   "outputs": [
    {
     "name": "stdout",
     "output_type": "stream",
     "text": [
      "Región 2 - Ganancia Promedio: 3,750,099.0292\n",
      "Región 2 - Intervalo de Confianza: [-1,447,667.2730 \\ 8,883,904.0353]\n",
      "Región 2 - Riesgo de Pérdidas: 0.0800\n"
     ]
    }
   ],
   "source": [
    "print(f'Región 2 - Ganancia Promedio: {ganancia_promedio_2:,.4f}')\n",
    "print(f'Región 2 - Intervalo de Confianza: [{intervalo_confianza_2[0]:,.4f} \\ {intervalo_confianza_2[1]:,.4f}]')\n",
    "print(f'Región 2 - Riesgo de Pérdidas: {riesgo_perdidas_2:,.4f}')"
   ]
  },
  {
   "cell_type": "markdown",
   "metadata": {},
   "source": [
    "Basado en los resultados obtenidos, se puede concluir lo siguiente:\n",
    "\n",
    "Región 1 es la mejor opción para la inversión en pozos petrolíferos, ya que presenta la mayor ganancia promedio (aproximadamente 4.52 millones) y un riesgo de pérdidas del 0.015%.\\\n",
    "Región 0 también es una opción viable y segura con una ganancia promedio positiva (aproximadamente 3.99 millones) y un riesgo de pérdidas del 0.06%.\\\n",
    "Región 2 también es una opción viable y segura con una ganancia promedio positiva (aproximadamente 3.75 millones) y un riesgo de pérdidas del 0.08%.\n"
   ]
  },
  {
   "cell_type": "markdown",
   "metadata": {},
   "source": [
    "## CONCLUSIÓN GENERAL"
   ]
  },
  {
   "cell_type": "code",
   "execution_count": 41,
   "metadata": {},
   "outputs": [
    {
     "name": "stdout",
     "output_type": "stream",
     "text": [
      "\n",
      "Seleccionamos Región 1 para el desarrollo de pozos petrolíferos con una ganancia promedio de 4,520,488.91 y un riesgo de pérdidas de 0.0150 con Pérdidas Inferiores a 2.5%\n"
     ]
    }
   ],
   "source": [
    "# Filtrar regiones con riesgo de pérdidas inferior al 2.5%\n",
    "regiones_validas = [\n",
    "    (ganancia_promedio_0, intervalo_confianza_0, riesgo_perdidas_0, 'Región 0'),\n",
    "    (ganancia_promedio_1, intervalo_confianza_1, riesgo_perdidas_1, 'Región 1'),\n",
    "    (ganancia_promedio_2, intervalo_confianza_2, riesgo_perdidas_2, 'Región 2')\n",
    "]\n",
    "\n",
    "regiones_validas = [r for r in regiones_validas if r[2] < 0.025]\n",
    "\n",
    "# Seleccionar la región con la mayor ganancia promedio\n",
    "mejor_region = max(regiones_validas, key=lambda x: x[0])\n",
    "print()\n",
    "print(f'Seleccionamos {mejor_region[3]} para el desarrollo de pozos petrolíferos con una ganancia promedio de {mejor_region[0]:,.2f} y un riesgo de pérdidas de {mejor_region[2]:,.4f} con Pérdidas Inferiores a 2.5%')\n"
   ]
  },
  {
   "cell_type": "code",
   "execution_count": 42,
   "metadata": {},
   "outputs": [
    {
     "name": "stdout",
     "output_type": "stream",
     "text": [
      "\n",
      "Seleccionamos Región 1 para el desarrollo de pozos petrolíferos con una ganancia promedio de 4,520,488.91 y un riesgo de pérdidas de 0.0150 con Pérdidas Inferiores a 15%\n"
     ]
    }
   ],
   "source": [
    "# Filtrar regiones con riesgo de pérdidas inferior al 1.5%\n",
    "regiones_validas = [\n",
    "    (ganancia_promedio_0, intervalo_confianza_0, riesgo_perdidas_0, 'Región 0'),\n",
    "    (ganancia_promedio_1, intervalo_confianza_1, riesgo_perdidas_1, 'Región 1'),\n",
    "    (ganancia_promedio_2, intervalo_confianza_2, riesgo_perdidas_2, 'Región 2')\n",
    "]\n",
    "\n",
    "regiones_validas = [r for r in regiones_validas if r[2] < 0.06]\n",
    "\n",
    "# Seleccionar la región con la mayor ganancia promedio\n",
    "mejor_region = max(regiones_validas, key=lambda x: x[0])\n",
    "print()\n",
    "print(f'Seleccionamos {mejor_region[3]} para el desarrollo de pozos petrolíferos con una ganancia promedio de {mejor_region[0]:,.2f} y un riesgo de pérdidas de {mejor_region[2]:,.4f} con Pérdidas Inferiores a 15%')\n"
   ]
  },
  {
   "cell_type": "code",
   "execution_count": 43,
   "metadata": {},
   "outputs": [
    {
     "name": "stdout",
     "output_type": "stream",
     "text": [
      "\n",
      "Seleccionamos Región 1 para el desarrollo de pozos petrolíferos con una ganancia promedio de 4,520,488.91 y un riesgo de pérdidas de 0.0150 con Pérdidas Inferiores a 80%\n"
     ]
    }
   ],
   "source": [
    "# Filtrar regiones con riesgo de pérdidas inferior al 8%\n",
    "regiones_validas = [\n",
    "    (ganancia_promedio_0, intervalo_confianza_0, riesgo_perdidas_0, 'Región 0'),\n",
    "    (ganancia_promedio_1, intervalo_confianza_1, riesgo_perdidas_1, 'Región 1'),\n",
    "    (ganancia_promedio_2, intervalo_confianza_2, riesgo_perdidas_2, 'Región 2')\n",
    "]\n",
    "\n",
    "regiones_validas = [r for r in regiones_validas if r[2] < 0.08]\n",
    "\n",
    "# Seleccionar la región con la mayor ganancia promedio\n",
    "mejor_region = max(regiones_validas, key=lambda x: x[0])\n",
    "print()\n",
    "print(f'Seleccionamos {mejor_region[3]} para el desarrollo de pozos petrolíferos con una ganancia promedio de {mejor_region[0]:,.2f} y un riesgo de pérdidas de {mejor_region[2]:,.4f} con Pérdidas Inferiores a 80%')\n"
   ]
  },
  {
   "cell_type": "markdown",
   "metadata": {},
   "source": [
    "Después de un análisis exhaustivo que incluye la preparación de datos, entrenamiento de modelos, cálculo de ganancias y evaluación de riesgos, la región seleccionada para el desarrollo de nuevos pozos petrolíferos es la que presenta el mayor beneficio promedio y el menor riesgo de pérdidas.\\\n",
    "Este enfoque sistemático y basado en datos asegura que OilyGiant maximice sus beneficios mientras minimiza los riesgos, optimizando así la inversión y los recursos disponibles."
   ]
  },
  {
   "cell_type": "markdown",
   "metadata": {},
   "source": [
    "<div class=\"alert alert-block alert-warning\">\n",
    "<b>Comentario del revisor</b> <a class=\"tocSkip\"></a>\n",
    "\n",
    "Muy bien, ahora el bootstrap muestra correctamente los valores del riesgo de invertir en cada región. Solo recuerda que el valor que obtuviste en la línea `riesgo_perdidas = (ganancias < 0).mean()` es la proporción de datos con ganancias menores a 1, esto significa que se deben multiplicar por 100 para obtener el porcentaje.\n",
    "\n",
    "Por lo tanto los valores 0.06, 0.015 y 0.08 en realidad son 6%, 1.5% y 8%.\n",
    "\n",
    "</div>"
   ]
  },
  {
   "cell_type": "markdown",
   "metadata": {},
   "source": [
    "<div class=\"alert alert-block alert-success\">\n",
    "<b>Comentario del revisor</b> <a class=\"tocSkip\"></a>\n",
    "\n",
    "Gracias por atender a los comentarios, ahora puedo aprobar tu proyecto.\n",
    "\n",
    "</div>"
   ]
  },
  {
   "cell_type": "code",
   "execution_count": null,
   "metadata": {},
   "outputs": [],
   "source": []
  }
 ],
 "metadata": {
  "ExecuteTimeLog": [
   {
    "duration": 1238,
    "start_time": "2024-06-12T03:35:12.434Z"
   },
   {
    "duration": 1162,
    "start_time": "2024-06-12T03:36:18.241Z"
   },
   {
    "duration": 1164,
    "start_time": "2024-06-12T03:36:19.407Z"
   },
   {
    "duration": 0,
    "start_time": "2024-06-12T03:36:20.575Z"
   },
   {
    "duration": 0,
    "start_time": "2024-06-12T03:36:20.576Z"
   },
   {
    "duration": 0,
    "start_time": "2024-06-12T03:36:20.578Z"
   },
   {
    "duration": 126,
    "start_time": "2024-06-12T03:36:52.823Z"
   },
   {
    "duration": 126,
    "start_time": "2024-06-12T03:37:20.812Z"
   },
   {
    "duration": 485,
    "start_time": "2024-06-12T03:38:11.360Z"
   },
   {
    "duration": 12,
    "start_time": "2024-06-12T03:38:16.950Z"
   },
   {
    "duration": 15,
    "start_time": "2024-06-12T03:38:17.813Z"
   },
   {
    "duration": 14,
    "start_time": "2024-06-12T03:38:18.658Z"
   },
   {
    "duration": 1175,
    "start_time": "2024-06-12T03:40:25.585Z"
   },
   {
    "duration": 382,
    "start_time": "2024-06-12T03:40:26.764Z"
   },
   {
    "duration": 20,
    "start_time": "2024-06-12T03:40:27.149Z"
   },
   {
    "duration": 14,
    "start_time": "2024-06-12T03:40:27.173Z"
   },
   {
    "duration": 8,
    "start_time": "2024-06-12T03:40:27.192Z"
   },
   {
    "duration": 19,
    "start_time": "2024-06-12T03:42:43.291Z"
   },
   {
    "duration": 18,
    "start_time": "2024-06-12T03:42:51.919Z"
   },
   {
    "duration": 1180,
    "start_time": "2024-06-12T03:43:21.287Z"
   },
   {
    "duration": 366,
    "start_time": "2024-06-12T03:43:22.470Z"
   },
   {
    "duration": 33,
    "start_time": "2024-06-12T03:43:22.839Z"
   },
   {
    "duration": 20,
    "start_time": "2024-06-12T03:43:22.876Z"
   },
   {
    "duration": 18,
    "start_time": "2024-06-12T03:43:22.900Z"
   },
   {
    "duration": 46,
    "start_time": "2024-06-12T03:43:22.922Z"
   },
   {
    "duration": 8,
    "start_time": "2024-06-12T03:43:22.970Z"
   },
   {
    "duration": 8,
    "start_time": "2024-06-12T03:43:22.982Z"
   },
   {
    "duration": 93,
    "start_time": "2024-06-12T03:56:50.317Z"
   },
   {
    "duration": 1206,
    "start_time": "2024-06-12T03:57:00.739Z"
   },
   {
    "duration": 80,
    "start_time": "2024-06-12T03:57:18.396Z"
   },
   {
    "duration": 205,
    "start_time": "2024-06-12T03:57:48.021Z"
   },
   {
    "duration": 75,
    "start_time": "2024-06-12T03:58:09.881Z"
   },
   {
    "duration": 199,
    "start_time": "2024-06-12T03:58:36.050Z"
   },
   {
    "duration": 193,
    "start_time": "2024-06-12T03:59:02.065Z"
   },
   {
    "duration": 1367,
    "start_time": "2024-06-12T04:00:02.210Z"
   },
   {
    "duration": 204,
    "start_time": "2024-06-12T04:00:19.365Z"
   },
   {
    "duration": 76,
    "start_time": "2024-06-12T04:03:18.224Z"
   },
   {
    "duration": 64,
    "start_time": "2024-06-12T04:03:19.801Z"
   },
   {
    "duration": 75,
    "start_time": "2024-06-12T04:03:21.004Z"
   },
   {
    "duration": 1159,
    "start_time": "2024-06-12T04:07:36.589Z"
   },
   {
    "duration": 407,
    "start_time": "2024-06-12T04:07:37.752Z"
   },
   {
    "duration": 28,
    "start_time": "2024-06-12T04:07:38.162Z"
   },
   {
    "duration": 18,
    "start_time": "2024-06-12T04:07:38.193Z"
   },
   {
    "duration": 17,
    "start_time": "2024-06-12T04:07:38.216Z"
   },
   {
    "duration": 58,
    "start_time": "2024-06-12T04:07:38.236Z"
   },
   {
    "duration": 21,
    "start_time": "2024-06-12T04:07:38.297Z"
   },
   {
    "duration": 57,
    "start_time": "2024-06-12T04:07:38.321Z"
   },
   {
    "duration": 9,
    "start_time": "2024-06-12T04:07:38.383Z"
   },
   {
    "duration": 8,
    "start_time": "2024-06-12T04:07:38.395Z"
   },
   {
    "duration": 8,
    "start_time": "2024-06-12T04:07:38.406Z"
   },
   {
    "duration": 113,
    "start_time": "2024-06-12T04:07:38.418Z"
   },
   {
    "duration": 86,
    "start_time": "2024-06-12T04:07:38.534Z"
   },
   {
    "duration": 91,
    "start_time": "2024-06-12T04:07:38.626Z"
   },
   {
    "duration": 12,
    "start_time": "2024-06-12T04:07:56.544Z"
   },
   {
    "duration": 12,
    "start_time": "2024-06-12T04:08:13.631Z"
   },
   {
    "duration": 1171,
    "start_time": "2024-06-12T04:08:24.378Z"
   },
   {
    "duration": 366,
    "start_time": "2024-06-12T04:08:25.553Z"
   },
   {
    "duration": 20,
    "start_time": "2024-06-12T04:08:25.922Z"
   },
   {
    "duration": 35,
    "start_time": "2024-06-12T04:08:25.945Z"
   },
   {
    "duration": 18,
    "start_time": "2024-06-12T04:08:25.985Z"
   },
   {
    "duration": 19,
    "start_time": "2024-06-12T04:08:26.005Z"
   },
   {
    "duration": 50,
    "start_time": "2024-06-12T04:08:26.027Z"
   },
   {
    "duration": 13,
    "start_time": "2024-06-12T04:08:26.080Z"
   },
   {
    "duration": 10,
    "start_time": "2024-06-12T04:08:26.096Z"
   },
   {
    "duration": 8,
    "start_time": "2024-06-12T04:08:26.109Z"
   },
   {
    "duration": 54,
    "start_time": "2024-06-12T04:08:26.120Z"
   },
   {
    "duration": 71,
    "start_time": "2024-06-12T04:08:26.177Z"
   },
   {
    "duration": 66,
    "start_time": "2024-06-12T04:08:26.269Z"
   },
   {
    "duration": 85,
    "start_time": "2024-06-12T04:08:26.340Z"
   },
   {
    "duration": 449,
    "start_time": "2024-06-12T04:11:24.942Z"
   },
   {
    "duration": 59,
    "start_time": "2024-06-12T04:11:33.288Z"
   },
   {
    "duration": 1157,
    "start_time": "2024-06-12T04:13:22.692Z"
   },
   {
    "duration": 384,
    "start_time": "2024-06-12T04:13:23.852Z"
   },
   {
    "duration": 38,
    "start_time": "2024-06-12T04:13:24.240Z"
   },
   {
    "duration": 18,
    "start_time": "2024-06-12T04:13:31.873Z"
   },
   {
    "duration": 19,
    "start_time": "2024-06-12T04:13:31.894Z"
   },
   {
    "duration": 16,
    "start_time": "2024-06-12T04:13:31.916Z"
   },
   {
    "duration": 14,
    "start_time": "2024-06-12T04:13:31.980Z"
   },
   {
    "duration": 13,
    "start_time": "2024-06-12T04:13:31.997Z"
   },
   {
    "duration": 9,
    "start_time": "2024-06-12T04:13:32.013Z"
   },
   {
    "duration": 8,
    "start_time": "2024-06-12T04:13:32.025Z"
   },
   {
    "duration": 8,
    "start_time": "2024-06-12T04:13:32.070Z"
   },
   {
    "duration": 95,
    "start_time": "2024-06-12T04:13:32.081Z"
   },
   {
    "duration": 92,
    "start_time": "2024-06-12T04:13:32.180Z"
   },
   {
    "duration": 74,
    "start_time": "2024-06-12T04:13:32.275Z"
   },
   {
    "duration": 85,
    "start_time": "2024-06-12T04:13:32.352Z"
   },
   {
    "duration": 82,
    "start_time": "2024-06-12T04:13:32.440Z"
   },
   {
    "duration": 87,
    "start_time": "2024-06-12T04:13:32.525Z"
   },
   {
    "duration": 1164,
    "start_time": "2024-06-12T04:19:18.552Z"
   },
   {
    "duration": 374,
    "start_time": "2024-06-12T04:19:19.720Z"
   },
   {
    "duration": 19,
    "start_time": "2024-06-12T04:19:20.097Z"
   },
   {
    "duration": 18,
    "start_time": "2024-06-12T04:19:20.120Z"
   },
   {
    "duration": 19,
    "start_time": "2024-06-12T04:19:20.170Z"
   },
   {
    "duration": 16,
    "start_time": "2024-06-12T04:19:20.192Z"
   },
   {
    "duration": 12,
    "start_time": "2024-06-12T04:19:20.211Z"
   },
   {
    "duration": 49,
    "start_time": "2024-06-12T04:19:20.226Z"
   },
   {
    "duration": 10,
    "start_time": "2024-06-12T04:19:20.278Z"
   },
   {
    "duration": 8,
    "start_time": "2024-06-12T04:19:20.291Z"
   },
   {
    "duration": 8,
    "start_time": "2024-06-12T04:19:20.302Z"
   },
   {
    "duration": 114,
    "start_time": "2024-06-12T04:19:20.314Z"
   },
   {
    "duration": 82,
    "start_time": "2024-06-12T04:19:20.431Z"
   },
   {
    "duration": 86,
    "start_time": "2024-06-12T04:19:20.519Z"
   },
   {
    "duration": 77,
    "start_time": "2024-06-12T04:19:20.608Z"
   },
   {
    "duration": 56,
    "start_time": "2024-06-12T04:19:20.689Z"
   },
   {
    "duration": 58,
    "start_time": "2024-06-12T04:19:20.767Z"
   },
   {
    "duration": 6,
    "start_time": "2024-06-12T04:19:20.828Z"
   },
   {
    "duration": 153,
    "start_time": "2024-06-12T04:19:20.837Z"
   },
   {
    "duration": 5,
    "start_time": "2024-06-12T04:19:21.068Z"
   },
   {
    "duration": 4,
    "start_time": "2024-06-12T04:19:21.076Z"
   },
   {
    "duration": 6,
    "start_time": "2024-06-12T04:19:21.083Z"
   },
   {
    "duration": 1242,
    "start_time": "2024-06-12T04:33:48.966Z"
   },
   {
    "duration": 397,
    "start_time": "2024-06-12T04:33:50.211Z"
   },
   {
    "duration": 29,
    "start_time": "2024-06-12T04:33:50.615Z"
   },
   {
    "duration": 35,
    "start_time": "2024-06-12T04:33:50.650Z"
   },
   {
    "duration": 19,
    "start_time": "2024-06-12T04:33:50.688Z"
   },
   {
    "duration": 17,
    "start_time": "2024-06-12T04:33:50.710Z"
   },
   {
    "duration": 15,
    "start_time": "2024-06-12T04:33:50.767Z"
   },
   {
    "duration": 15,
    "start_time": "2024-06-12T04:33:50.785Z"
   },
   {
    "duration": 12,
    "start_time": "2024-06-12T04:33:50.804Z"
   },
   {
    "duration": 55,
    "start_time": "2024-06-12T04:33:50.822Z"
   },
   {
    "duration": 10,
    "start_time": "2024-06-12T04:33:50.880Z"
   },
   {
    "duration": 119,
    "start_time": "2024-06-12T04:33:50.896Z"
   },
   {
    "duration": 91,
    "start_time": "2024-06-12T04:33:51.020Z"
   },
   {
    "duration": 101,
    "start_time": "2024-06-12T04:33:51.114Z"
   },
   {
    "duration": 86,
    "start_time": "2024-06-12T04:33:51.219Z"
   },
   {
    "duration": 70,
    "start_time": "2024-06-12T04:33:51.308Z"
   },
   {
    "duration": 70,
    "start_time": "2024-06-12T04:33:51.382Z"
   },
   {
    "duration": 7,
    "start_time": "2024-06-12T04:33:51.473Z"
   },
   {
    "duration": 313,
    "start_time": "2024-06-12T04:33:51.484Z"
   },
   {
    "duration": 77,
    "start_time": "2024-06-12T04:33:51.799Z"
   },
   {
    "duration": 5,
    "start_time": "2024-06-12T04:33:51.880Z"
   },
   {
    "duration": 5,
    "start_time": "2024-06-12T04:33:51.888Z"
   },
   {
    "duration": 71,
    "start_time": "2024-06-12T04:33:51.897Z"
   },
   {
    "duration": 4,
    "start_time": "2024-06-12T04:33:51.973Z"
   },
   {
    "duration": 4,
    "start_time": "2024-06-12T04:36:09.823Z"
   },
   {
    "duration": 1253,
    "start_time": "2024-06-12T04:38:30.161Z"
   },
   {
    "duration": 394,
    "start_time": "2024-06-12T04:38:31.418Z"
   },
   {
    "duration": 23,
    "start_time": "2024-06-12T04:38:31.816Z"
   },
   {
    "duration": 39,
    "start_time": "2024-06-12T04:38:31.842Z"
   },
   {
    "duration": 20,
    "start_time": "2024-06-12T04:38:31.887Z"
   },
   {
    "duration": 16,
    "start_time": "2024-06-12T04:38:31.911Z"
   },
   {
    "duration": 48,
    "start_time": "2024-06-12T04:38:31.930Z"
   },
   {
    "duration": 13,
    "start_time": "2024-06-12T04:38:31.981Z"
   },
   {
    "duration": 9,
    "start_time": "2024-06-12T04:38:31.998Z"
   },
   {
    "duration": 8,
    "start_time": "2024-06-12T04:38:32.010Z"
   },
   {
    "duration": 53,
    "start_time": "2024-06-12T04:38:32.021Z"
   },
   {
    "duration": 95,
    "start_time": "2024-06-12T04:38:32.077Z"
   },
   {
    "duration": 77,
    "start_time": "2024-06-12T04:38:32.176Z"
   },
   {
    "duration": 73,
    "start_time": "2024-06-12T04:38:32.273Z"
   },
   {
    "duration": 74,
    "start_time": "2024-06-12T04:38:32.349Z"
   },
   {
    "duration": 75,
    "start_time": "2024-06-12T04:38:32.427Z"
   },
   {
    "duration": 74,
    "start_time": "2024-06-12T04:38:32.506Z"
   },
   {
    "duration": 9,
    "start_time": "2024-06-12T04:38:32.583Z"
   },
   {
    "duration": 193,
    "start_time": "2024-06-12T04:38:32.594Z"
   },
   {
    "duration": 5,
    "start_time": "2024-06-12T04:38:32.867Z"
   },
   {
    "duration": 5,
    "start_time": "2024-06-12T04:38:32.875Z"
   },
   {
    "duration": 4,
    "start_time": "2024-06-12T04:38:32.883Z"
   },
   {
    "duration": 81,
    "start_time": "2024-06-12T04:38:32.890Z"
   },
   {
    "duration": 5,
    "start_time": "2024-06-12T04:38:32.975Z"
   },
   {
    "duration": 12,
    "start_time": "2024-06-12T04:38:32.983Z"
   },
   {
    "duration": 5,
    "start_time": "2024-06-12T04:38:32.998Z"
   },
   {
    "duration": 4,
    "start_time": "2024-06-12T04:38:33.007Z"
   },
   {
    "duration": 55,
    "start_time": "2024-06-12T04:38:33.015Z"
   },
   {
    "duration": 3,
    "start_time": "2024-06-12T04:39:14.742Z"
   },
   {
    "duration": 4,
    "start_time": "2024-06-12T04:39:15.931Z"
   },
   {
    "duration": 5,
    "start_time": "2024-06-12T04:39:16.993Z"
   },
   {
    "duration": 5,
    "start_time": "2024-06-12T04:41:32.062Z"
   },
   {
    "duration": 4,
    "start_time": "2024-06-12T04:41:48.518Z"
   },
   {
    "duration": 5,
    "start_time": "2024-06-12T04:41:49.632Z"
   },
   {
    "duration": 4,
    "start_time": "2024-06-12T04:42:47.722Z"
   },
   {
    "duration": 1149,
    "start_time": "2024-06-12T04:43:25.891Z"
   },
   {
    "duration": 367,
    "start_time": "2024-06-12T04:43:27.043Z"
   },
   {
    "duration": 21,
    "start_time": "2024-06-12T04:43:27.413Z"
   },
   {
    "duration": 35,
    "start_time": "2024-06-12T04:43:27.438Z"
   },
   {
    "duration": 19,
    "start_time": "2024-06-12T04:43:27.477Z"
   },
   {
    "duration": 16,
    "start_time": "2024-06-12T04:43:27.500Z"
   },
   {
    "duration": 50,
    "start_time": "2024-06-12T04:43:27.519Z"
   },
   {
    "duration": 14,
    "start_time": "2024-06-12T04:43:27.571Z"
   },
   {
    "duration": 9,
    "start_time": "2024-06-12T04:43:27.588Z"
   },
   {
    "duration": 7,
    "start_time": "2024-06-12T04:43:27.604Z"
   },
   {
    "duration": 53,
    "start_time": "2024-06-12T04:43:27.615Z"
   },
   {
    "duration": 71,
    "start_time": "2024-06-12T04:43:27.670Z"
   },
   {
    "duration": 89,
    "start_time": "2024-06-12T04:43:27.744Z"
   },
   {
    "duration": 95,
    "start_time": "2024-06-12T04:43:27.836Z"
   },
   {
    "duration": 71,
    "start_time": "2024-06-12T04:43:27.934Z"
   },
   {
    "duration": 76,
    "start_time": "2024-06-12T04:43:28.008Z"
   },
   {
    "duration": 62,
    "start_time": "2024-06-12T04:43:28.087Z"
   },
   {
    "duration": 7,
    "start_time": "2024-06-12T04:43:28.173Z"
   },
   {
    "duration": 285,
    "start_time": "2024-06-12T04:43:28.184Z"
   },
   {
    "duration": 6,
    "start_time": "2024-06-12T04:43:28.471Z"
   },
   {
    "duration": 8,
    "start_time": "2024-06-12T04:43:28.485Z"
   },
   {
    "duration": 4,
    "start_time": "2024-06-12T04:43:28.569Z"
   },
   {
    "duration": 4,
    "start_time": "2024-06-12T04:43:28.577Z"
   },
   {
    "duration": 5,
    "start_time": "2024-06-12T04:43:28.587Z"
   },
   {
    "duration": 12,
    "start_time": "2024-06-12T04:43:28.596Z"
   },
   {
    "duration": 61,
    "start_time": "2024-06-12T04:43:28.611Z"
   },
   {
    "duration": 5,
    "start_time": "2024-06-12T04:43:28.676Z"
   },
   {
    "duration": 4,
    "start_time": "2024-06-12T04:43:28.687Z"
   },
   {
    "duration": 404,
    "start_time": "2024-06-12T04:55:11.092Z"
   },
   {
    "duration": 29,
    "start_time": "2024-06-12T04:55:28.577Z"
   },
   {
    "duration": 1182,
    "start_time": "2024-06-12T04:55:43.731Z"
   },
   {
    "duration": 392,
    "start_time": "2024-06-12T04:55:44.917Z"
   },
   {
    "duration": 21,
    "start_time": "2024-06-12T04:55:45.311Z"
   },
   {
    "duration": 33,
    "start_time": "2024-06-12T04:55:45.336Z"
   },
   {
    "duration": 18,
    "start_time": "2024-06-12T04:55:45.372Z"
   },
   {
    "duration": 15,
    "start_time": "2024-06-12T04:55:45.396Z"
   },
   {
    "duration": 13,
    "start_time": "2024-06-12T04:55:45.415Z"
   },
   {
    "duration": 52,
    "start_time": "2024-06-12T04:55:45.430Z"
   },
   {
    "duration": 10,
    "start_time": "2024-06-12T04:55:45.486Z"
   },
   {
    "duration": 8,
    "start_time": "2024-06-12T04:55:45.503Z"
   },
   {
    "duration": 53,
    "start_time": "2024-06-12T04:55:45.515Z"
   },
   {
    "duration": 69,
    "start_time": "2024-06-12T04:55:45.571Z"
   },
   {
    "duration": 86,
    "start_time": "2024-06-12T04:55:45.643Z"
   },
   {
    "duration": 96,
    "start_time": "2024-06-12T04:55:45.732Z"
   },
   {
    "duration": 70,
    "start_time": "2024-06-12T04:55:45.831Z"
   },
   {
    "duration": 70,
    "start_time": "2024-06-12T04:55:45.904Z"
   },
   {
    "duration": 59,
    "start_time": "2024-06-12T04:55:45.977Z"
   },
   {
    "duration": 31,
    "start_time": "2024-06-12T04:55:46.040Z"
   },
   {
    "duration": 195,
    "start_time": "2024-06-12T04:55:46.074Z"
   },
   {
    "duration": 5,
    "start_time": "2024-06-12T04:55:46.271Z"
   },
   {
    "duration": 4,
    "start_time": "2024-06-12T04:55:46.279Z"
   },
   {
    "duration": 4,
    "start_time": "2024-06-12T04:55:46.286Z"
   },
   {
    "duration": 78,
    "start_time": "2024-06-12T04:55:46.292Z"
   },
   {
    "duration": 4,
    "start_time": "2024-06-12T04:55:46.373Z"
   },
   {
    "duration": 13,
    "start_time": "2024-06-12T04:55:46.380Z"
   },
   {
    "duration": 74,
    "start_time": "2024-06-12T04:55:46.396Z"
   },
   {
    "duration": 5,
    "start_time": "2024-06-12T04:55:46.474Z"
   },
   {
    "duration": 4,
    "start_time": "2024-06-12T04:55:46.486Z"
   },
   {
    "duration": 238,
    "start_time": "2024-06-12T04:55:46.493Z"
   },
   {
    "duration": 5,
    "start_time": "2024-06-12T04:55:46.734Z"
   },
   {
    "duration": 6,
    "start_time": "2024-06-12T04:55:46.767Z"
   },
   {
    "duration": 6,
    "start_time": "2024-06-12T04:55:46.776Z"
   },
   {
    "duration": 411,
    "start_time": "2024-06-12T04:57:02.409Z"
   },
   {
    "duration": 27,
    "start_time": "2024-06-12T04:57:50.092Z"
   },
   {
    "duration": 28,
    "start_time": "2024-06-12T04:58:18.293Z"
   },
   {
    "duration": 5,
    "start_time": "2024-06-12T04:58:45.483Z"
   },
   {
    "duration": 5,
    "start_time": "2024-06-12T04:59:09.791Z"
   },
   {
    "duration": 27,
    "start_time": "2024-06-12T04:59:37.875Z"
   },
   {
    "duration": 6,
    "start_time": "2024-06-12T05:00:01.278Z"
   },
   {
    "duration": 5,
    "start_time": "2024-06-12T05:00:35.344Z"
   },
   {
    "duration": 6,
    "start_time": "2024-06-12T05:00:53.265Z"
   },
   {
    "duration": 9,
    "start_time": "2024-06-12T05:01:30.297Z"
   },
   {
    "duration": 6,
    "start_time": "2024-06-12T05:01:46.467Z"
   },
   {
    "duration": 4,
    "start_time": "2024-06-12T05:02:26.365Z"
   },
   {
    "duration": 24,
    "start_time": "2024-06-12T05:02:49.758Z"
   },
   {
    "duration": 6,
    "start_time": "2024-06-12T05:03:31.886Z"
   },
   {
    "duration": 1192,
    "start_time": "2024-06-12T05:26:43.725Z"
   },
   {
    "duration": 374,
    "start_time": "2024-06-12T05:26:44.921Z"
   },
   {
    "duration": 22,
    "start_time": "2024-06-12T05:26:45.297Z"
   },
   {
    "duration": 18,
    "start_time": "2024-06-12T05:26:45.323Z"
   },
   {
    "duration": 39,
    "start_time": "2024-06-12T05:26:45.343Z"
   },
   {
    "duration": 16,
    "start_time": "2024-06-12T05:26:51.257Z"
   },
   {
    "duration": 13,
    "start_time": "2024-06-12T05:26:51.277Z"
   },
   {
    "duration": 14,
    "start_time": "2024-06-12T05:26:51.293Z"
   },
   {
    "duration": 59,
    "start_time": "2024-06-12T05:26:51.310Z"
   },
   {
    "duration": 8,
    "start_time": "2024-06-12T05:26:51.374Z"
   },
   {
    "duration": 10,
    "start_time": "2024-06-12T05:26:51.386Z"
   },
   {
    "duration": 126,
    "start_time": "2024-06-12T05:26:51.400Z"
   },
   {
    "duration": 79,
    "start_time": "2024-06-12T05:26:51.529Z"
   },
   {
    "duration": 100,
    "start_time": "2024-06-12T05:26:51.611Z"
   },
   {
    "duration": 78,
    "start_time": "2024-06-12T05:26:51.714Z"
   },
   {
    "duration": 83,
    "start_time": "2024-06-12T05:26:51.795Z"
   },
   {
    "duration": 87,
    "start_time": "2024-06-12T05:26:51.882Z"
   },
   {
    "duration": 7,
    "start_time": "2024-06-12T05:26:51.972Z"
   },
   {
    "duration": 202,
    "start_time": "2024-06-12T05:26:51.987Z"
   },
   {
    "duration": 5,
    "start_time": "2024-06-12T05:26:52.269Z"
   },
   {
    "duration": 5,
    "start_time": "2024-06-12T05:26:52.278Z"
   },
   {
    "duration": 4,
    "start_time": "2024-06-12T05:26:52.287Z"
   },
   {
    "duration": 77,
    "start_time": "2024-06-12T05:26:52.293Z"
   },
   {
    "duration": 4,
    "start_time": "2024-06-12T05:26:52.374Z"
   },
   {
    "duration": 16,
    "start_time": "2024-06-12T05:26:52.384Z"
   },
   {
    "duration": 5,
    "start_time": "2024-06-12T05:26:52.402Z"
   },
   {
    "duration": 5,
    "start_time": "2024-06-12T05:26:52.410Z"
   },
   {
    "duration": 5,
    "start_time": "2024-06-12T05:26:52.470Z"
   },
   {
    "duration": 210,
    "start_time": "2024-06-12T05:26:52.478Z"
   },
   {
    "duration": 5,
    "start_time": "2024-06-12T05:26:52.691Z"
   },
   {
    "duration": 10,
    "start_time": "2024-06-12T05:26:52.699Z"
   },
   {
    "duration": 6,
    "start_time": "2024-06-12T05:26:52.712Z"
   },
   {
    "duration": 355,
    "start_time": "2024-06-14T06:43:33.580Z"
   },
   {
    "duration": 1197,
    "start_time": "2024-06-14T06:43:44.195Z"
   },
   {
    "duration": 483,
    "start_time": "2024-06-14T06:43:45.396Z"
   },
   {
    "duration": 20,
    "start_time": "2024-06-14T06:43:45.881Z"
   },
   {
    "duration": 31,
    "start_time": "2024-06-14T06:43:45.906Z"
   },
   {
    "duration": 17,
    "start_time": "2024-06-14T06:43:45.940Z"
   },
   {
    "duration": 17,
    "start_time": "2024-06-14T06:43:45.960Z"
   },
   {
    "duration": 46,
    "start_time": "2024-06-14T06:43:45.979Z"
   },
   {
    "duration": 16,
    "start_time": "2024-06-14T06:43:46.028Z"
   },
   {
    "duration": 11,
    "start_time": "2024-06-14T06:43:46.047Z"
   },
   {
    "duration": 8,
    "start_time": "2024-06-14T06:43:46.066Z"
   },
   {
    "duration": 7,
    "start_time": "2024-06-14T06:43:46.124Z"
   },
   {
    "duration": 92,
    "start_time": "2024-06-14T06:43:46.135Z"
   },
   {
    "duration": 72,
    "start_time": "2024-06-14T06:43:46.230Z"
   },
   {
    "duration": 74,
    "start_time": "2024-06-14T06:43:46.323Z"
   },
   {
    "duration": 78,
    "start_time": "2024-06-14T06:43:46.400Z"
   },
   {
    "duration": 70,
    "start_time": "2024-06-14T06:43:46.482Z"
   },
   {
    "duration": 73,
    "start_time": "2024-06-14T06:43:46.555Z"
   },
   {
    "duration": 8,
    "start_time": "2024-06-14T06:43:46.632Z"
   },
   {
    "duration": 281,
    "start_time": "2024-06-14T06:43:46.643Z"
   },
   {
    "duration": 4,
    "start_time": "2024-06-14T06:43:46.926Z"
   },
   {
    "duration": 4,
    "start_time": "2024-06-14T06:43:46.933Z"
   },
   {
    "duration": 81,
    "start_time": "2024-06-14T06:43:46.942Z"
   },
   {
    "duration": 5,
    "start_time": "2024-06-14T06:43:47.026Z"
   },
   {
    "duration": 6,
    "start_time": "2024-06-14T06:43:47.034Z"
   },
   {
    "duration": 11,
    "start_time": "2024-06-14T06:43:47.043Z"
   },
   {
    "duration": 6,
    "start_time": "2024-06-14T06:43:47.057Z"
   },
   {
    "duration": 5,
    "start_time": "2024-06-14T06:43:47.066Z"
   },
   {
    "duration": 5,
    "start_time": "2024-06-14T06:43:47.128Z"
   },
   {
    "duration": 255,
    "start_time": "2024-06-14T06:43:47.136Z"
   },
   {
    "duration": 4,
    "start_time": "2024-06-14T06:43:47.395Z"
   },
   {
    "duration": 24,
    "start_time": "2024-06-14T06:43:47.402Z"
   },
   {
    "duration": 5,
    "start_time": "2024-06-14T06:43:47.429Z"
   },
   {
    "duration": 1240,
    "start_time": "2024-06-14T06:46:25.650Z"
   },
   {
    "duration": 397,
    "start_time": "2024-06-14T06:46:26.894Z"
   },
   {
    "duration": 31,
    "start_time": "2024-06-14T06:46:27.294Z"
   },
   {
    "duration": 22,
    "start_time": "2024-06-14T06:46:27.330Z"
   },
   {
    "duration": 25,
    "start_time": "2024-06-14T06:46:27.359Z"
   },
   {
    "duration": 52,
    "start_time": "2024-06-14T06:46:27.387Z"
   },
   {
    "duration": 20,
    "start_time": "2024-06-14T06:46:27.442Z"
   },
   {
    "duration": 20,
    "start_time": "2024-06-14T06:46:27.466Z"
   },
   {
    "duration": 40,
    "start_time": "2024-06-14T06:46:27.489Z"
   },
   {
    "duration": 11,
    "start_time": "2024-06-14T06:46:27.537Z"
   },
   {
    "duration": 7,
    "start_time": "2024-06-14T06:46:27.556Z"
   },
   {
    "duration": 122,
    "start_time": "2024-06-14T06:46:27.566Z"
   },
   {
    "duration": 90,
    "start_time": "2024-06-14T06:46:27.691Z"
   },
   {
    "duration": 90,
    "start_time": "2024-06-14T06:46:27.784Z"
   },
   {
    "duration": 68,
    "start_time": "2024-06-14T06:46:27.881Z"
   },
   {
    "duration": 71,
    "start_time": "2024-06-14T06:46:27.953Z"
   },
   {
    "duration": 67,
    "start_time": "2024-06-14T06:46:28.027Z"
   },
   {
    "duration": 26,
    "start_time": "2024-06-14T06:46:28.099Z"
   },
   {
    "duration": 394,
    "start_time": "2024-06-14T06:46:28.129Z"
   },
   {
    "duration": 9,
    "start_time": "2024-06-14T06:46:28.526Z"
   },
   {
    "duration": 80,
    "start_time": "2024-06-14T06:46:28.543Z"
   },
   {
    "duration": 4,
    "start_time": "2024-06-14T06:46:28.626Z"
   },
   {
    "duration": 5,
    "start_time": "2024-06-14T06:46:28.634Z"
   },
   {
    "duration": 5,
    "start_time": "2024-06-14T06:46:28.642Z"
   },
   {
    "duration": 14,
    "start_time": "2024-06-14T06:46:28.649Z"
   },
   {
    "duration": 5,
    "start_time": "2024-06-14T06:46:28.666Z"
   },
   {
    "duration": 4,
    "start_time": "2024-06-14T06:46:28.724Z"
   },
   {
    "duration": 5,
    "start_time": "2024-06-14T06:46:28.736Z"
   },
   {
    "duration": 246,
    "start_time": "2024-06-14T06:46:28.743Z"
   },
   {
    "duration": 6,
    "start_time": "2024-06-14T06:46:28.991Z"
   },
   {
    "duration": 5,
    "start_time": "2024-06-14T06:46:29.023Z"
   },
   {
    "duration": 5,
    "start_time": "2024-06-14T06:46:29.031Z"
   },
   {
    "duration": 1191,
    "start_time": "2024-06-14T06:48:19.168Z"
   },
   {
    "duration": 391,
    "start_time": "2024-06-14T06:48:20.362Z"
   },
   {
    "duration": 21,
    "start_time": "2024-06-14T06:48:20.756Z"
   },
   {
    "duration": 43,
    "start_time": "2024-06-14T06:48:20.781Z"
   },
   {
    "duration": 22,
    "start_time": "2024-06-14T06:48:20.827Z"
   },
   {
    "duration": 16,
    "start_time": "2024-06-14T06:48:20.853Z"
   },
   {
    "duration": 52,
    "start_time": "2024-06-14T06:48:20.872Z"
   },
   {
    "duration": 13,
    "start_time": "2024-06-14T06:48:20.928Z"
   },
   {
    "duration": 10,
    "start_time": "2024-06-14T06:48:20.944Z"
   },
   {
    "duration": 7,
    "start_time": "2024-06-14T06:48:20.961Z"
   },
   {
    "duration": 52,
    "start_time": "2024-06-14T06:48:20.971Z"
   },
   {
    "duration": 77,
    "start_time": "2024-06-14T06:48:21.026Z"
   },
   {
    "duration": 74,
    "start_time": "2024-06-14T06:48:21.124Z"
   },
   {
    "duration": 89,
    "start_time": "2024-06-14T06:48:21.201Z"
   },
   {
    "duration": 75,
    "start_time": "2024-06-14T06:48:21.293Z"
   },
   {
    "duration": 72,
    "start_time": "2024-06-14T06:48:21.370Z"
   },
   {
    "duration": 79,
    "start_time": "2024-06-14T06:48:21.446Z"
   },
   {
    "duration": 6,
    "start_time": "2024-06-14T06:48:21.528Z"
   },
   {
    "duration": 210,
    "start_time": "2024-06-14T06:48:21.538Z"
   },
   {
    "duration": 5,
    "start_time": "2024-06-14T06:48:21.824Z"
   },
   {
    "duration": 5,
    "start_time": "2024-06-14T06:48:21.833Z"
   },
   {
    "duration": 82,
    "start_time": "2024-06-14T06:48:21.841Z"
   },
   {
    "duration": 4,
    "start_time": "2024-06-14T06:48:21.927Z"
   },
   {
    "duration": 5,
    "start_time": "2024-06-14T06:48:21.935Z"
   },
   {
    "duration": 12,
    "start_time": "2024-06-14T06:48:21.945Z"
   },
   {
    "duration": 5,
    "start_time": "2024-06-14T06:48:21.961Z"
   },
   {
    "duration": 4,
    "start_time": "2024-06-14T06:48:22.023Z"
   },
   {
    "duration": 4,
    "start_time": "2024-06-14T06:48:22.035Z"
   },
   {
    "duration": 243,
    "start_time": "2024-06-14T06:48:22.043Z"
   },
   {
    "duration": 6,
    "start_time": "2024-06-14T06:48:22.289Z"
   },
   {
    "duration": 25,
    "start_time": "2024-06-14T06:48:22.298Z"
   },
   {
    "duration": 5,
    "start_time": "2024-06-14T06:48:22.327Z"
   },
   {
    "duration": 1169,
    "start_time": "2024-06-15T03:40:52.109Z"
   },
   {
    "duration": 609,
    "start_time": "2024-06-15T03:40:54.079Z"
   },
   {
    "duration": 20,
    "start_time": "2024-06-15T03:40:56.084Z"
   },
   {
    "duration": 23,
    "start_time": "2024-06-15T03:40:56.418Z"
   },
   {
    "duration": 18,
    "start_time": "2024-06-15T03:40:56.901Z"
   },
   {
    "duration": 25,
    "start_time": "2024-06-15T03:40:57.998Z"
   },
   {
    "duration": 16,
    "start_time": "2024-06-15T03:40:58.579Z"
   },
   {
    "duration": 17,
    "start_time": "2024-06-15T03:40:58.760Z"
   },
   {
    "duration": 11,
    "start_time": "2024-06-15T03:40:59.962Z"
   },
   {
    "duration": 10,
    "start_time": "2024-06-15T03:41:00.340Z"
   },
   {
    "duration": 12,
    "start_time": "2024-06-15T03:41:00.835Z"
   },
   {
    "duration": 74,
    "start_time": "2024-06-15T03:41:01.908Z"
   },
   {
    "duration": 88,
    "start_time": "2024-06-15T03:41:02.320Z"
   },
   {
    "duration": 73,
    "start_time": "2024-06-15T03:41:02.536Z"
   },
   {
    "duration": 67,
    "start_time": "2024-06-15T03:41:03.964Z"
   },
   {
    "duration": 73,
    "start_time": "2024-06-15T03:41:04.532Z"
   },
   {
    "duration": 64,
    "start_time": "2024-06-15T03:41:04.887Z"
   },
   {
    "duration": 6,
    "start_time": "2024-06-15T03:41:05.988Z"
   },
   {
    "duration": 122,
    "start_time": "2024-06-15T03:41:07.941Z"
   },
   {
    "duration": 6,
    "start_time": "2024-06-15T03:41:08.643Z"
   },
   {
    "duration": 5,
    "start_time": "2024-06-15T03:41:09.360Z"
   },
   {
    "duration": 4,
    "start_time": "2024-06-15T03:41:10.175Z"
   },
   {
    "duration": 9,
    "start_time": "2024-06-15T03:41:14.649Z"
   },
   {
    "duration": 4,
    "start_time": "2024-06-15T03:41:18.513Z"
   },
   {
    "duration": 20,
    "start_time": "2024-06-15T03:41:21.006Z"
   },
   {
    "duration": 8,
    "start_time": "2024-06-15T03:41:21.867Z"
   },
   {
    "duration": 5,
    "start_time": "2024-06-15T03:41:22.202Z"
   },
   {
    "duration": 4,
    "start_time": "2024-06-15T03:41:22.466Z"
   },
   {
    "duration": 263,
    "start_time": "2024-06-15T03:41:37.015Z"
   },
   {
    "duration": 6,
    "start_time": "2024-06-15T03:41:39.211Z"
   },
   {
    "duration": 12,
    "start_time": "2024-06-15T03:41:39.787Z"
   },
   {
    "duration": 6,
    "start_time": "2024-06-15T03:41:40.715Z"
   },
   {
    "duration": 19,
    "start_time": "2024-06-15T03:43:53.598Z"
   },
   {
    "duration": 13,
    "start_time": "2024-06-15T03:44:05.791Z"
   },
   {
    "duration": 8,
    "start_time": "2024-06-15T03:44:25.259Z"
   },
   {
    "duration": 15,
    "start_time": "2024-06-15T03:44:35.555Z"
   },
   {
    "duration": 5,
    "start_time": "2024-06-15T03:46:32.040Z"
   },
   {
    "duration": 15,
    "start_time": "2024-06-15T03:46:38.758Z"
   },
   {
    "duration": 17,
    "start_time": "2024-06-15T03:47:02.784Z"
   },
   {
    "duration": 17,
    "start_time": "2024-06-15T03:47:16.885Z"
   },
   {
    "duration": 347,
    "start_time": "2024-06-15T13:40:22.171Z"
   },
   {
    "duration": 1302,
    "start_time": "2024-06-15T13:40:27.924Z"
   },
   {
    "duration": 570,
    "start_time": "2024-06-15T13:40:29.230Z"
   },
   {
    "duration": 23,
    "start_time": "2024-06-15T13:40:29.802Z"
   },
   {
    "duration": 21,
    "start_time": "2024-06-15T13:40:29.830Z"
   },
   {
    "duration": 56,
    "start_time": "2024-06-15T13:40:29.854Z"
   },
   {
    "duration": 21,
    "start_time": "2024-06-15T13:40:29.915Z"
   },
   {
    "duration": 17,
    "start_time": "2024-06-15T13:40:29.941Z"
   },
   {
    "duration": 47,
    "start_time": "2024-06-15T13:40:29.962Z"
   },
   {
    "duration": 11,
    "start_time": "2024-06-15T13:40:30.012Z"
   },
   {
    "duration": 9,
    "start_time": "2024-06-15T13:40:30.029Z"
   },
   {
    "duration": 8,
    "start_time": "2024-06-15T13:40:30.042Z"
   },
   {
    "duration": 157,
    "start_time": "2024-06-15T13:40:30.053Z"
   },
   {
    "duration": 91,
    "start_time": "2024-06-15T13:40:30.213Z"
   },
   {
    "duration": 95,
    "start_time": "2024-06-15T13:40:30.308Z"
   },
   {
    "duration": 100,
    "start_time": "2024-06-15T13:40:30.406Z"
   },
   {
    "duration": 62,
    "start_time": "2024-06-15T13:40:30.509Z"
   },
   {
    "duration": 87,
    "start_time": "2024-06-15T13:40:30.575Z"
   },
   {
    "duration": 6,
    "start_time": "2024-06-15T13:40:30.670Z"
   },
   {
    "duration": 146,
    "start_time": "2024-06-15T13:40:30.768Z"
   },
   {
    "duration": 4,
    "start_time": "2024-06-15T13:40:30.918Z"
   },
   {
    "duration": 7,
    "start_time": "2024-06-15T13:40:30.926Z"
   },
   {
    "duration": 5,
    "start_time": "2024-06-15T13:40:31.008Z"
   },
   {
    "duration": 5,
    "start_time": "2024-06-15T13:40:32.212Z"
   },
   {
    "duration": 5,
    "start_time": "2024-06-15T13:40:32.717Z"
   },
   {
    "duration": 17,
    "start_time": "2024-06-15T13:40:33.289Z"
   },
   {
    "duration": 5,
    "start_time": "2024-06-15T13:40:35.873Z"
   },
   {
    "duration": 5,
    "start_time": "2024-06-15T13:40:36.222Z"
   },
   {
    "duration": 6,
    "start_time": "2024-06-15T13:40:36.449Z"
   },
   {
    "duration": 174,
    "start_time": "2024-06-15T13:40:38.697Z"
   },
   {
    "duration": 6,
    "start_time": "2024-06-15T13:40:39.816Z"
   },
   {
    "duration": 6,
    "start_time": "2024-06-15T13:41:39.556Z"
   },
   {
    "duration": 111,
    "start_time": "2024-06-15T13:47:30.909Z"
   },
   {
    "duration": 10,
    "start_time": "2024-06-15T13:47:57.673Z"
   },
   {
    "duration": 33,
    "start_time": "2024-06-15T13:48:03.583Z"
   },
   {
    "duration": 16,
    "start_time": "2024-06-15T13:52:41.870Z"
   },
   {
    "duration": 18,
    "start_time": "2024-06-15T13:52:48.202Z"
   },
   {
    "duration": 60,
    "start_time": "2024-06-15T13:57:09.340Z"
   },
   {
    "duration": 1124,
    "start_time": "2024-06-15T13:58:08.611Z"
   },
   {
    "duration": 1112,
    "start_time": "2024-06-15T13:58:46.567Z"
   },
   {
    "duration": 5,
    "start_time": "2024-06-15T13:59:15.265Z"
   },
   {
    "duration": 17,
    "start_time": "2024-06-15T13:59:24.713Z"
   },
   {
    "duration": 10,
    "start_time": "2024-06-15T13:59:56.295Z"
   },
   {
    "duration": 25,
    "start_time": "2024-06-15T14:00:31.373Z"
   },
   {
    "duration": 10,
    "start_time": "2024-06-15T14:00:37.370Z"
   },
   {
    "duration": 6,
    "start_time": "2024-06-15T14:00:49.410Z"
   },
   {
    "duration": 1092,
    "start_time": "2024-06-15T14:01:31.091Z"
   },
   {
    "duration": 7,
    "start_time": "2024-06-15T14:01:42.767Z"
   },
   {
    "duration": 5,
    "start_time": "2024-06-15T14:01:47.960Z"
   },
   {
    "duration": 11,
    "start_time": "2024-06-15T14:02:11.621Z"
   },
   {
    "duration": 825,
    "start_time": "2024-06-15T14:17:47.042Z"
   },
   {
    "duration": 854,
    "start_time": "2024-06-15T14:17:48.648Z"
   },
   {
    "duration": 10,
    "start_time": "2024-06-15T14:17:49.957Z"
   },
   {
    "duration": 13,
    "start_time": "2024-06-15T14:18:23.620Z"
   },
   {
    "duration": 6,
    "start_time": "2024-06-15T14:18:47.026Z"
   },
   {
    "duration": 191,
    "start_time": "2024-06-15T14:19:00.914Z"
   },
   {
    "duration": 4,
    "start_time": "2024-06-15T14:19:01.623Z"
   },
   {
    "duration": 5,
    "start_time": "2024-06-15T14:19:03.006Z"
   },
   {
    "duration": 3,
    "start_time": "2024-06-15T14:19:05.726Z"
   },
   {
    "duration": 5,
    "start_time": "2024-06-15T14:19:08.266Z"
   },
   {
    "duration": 5,
    "start_time": "2024-06-15T14:19:14.572Z"
   },
   {
    "duration": 13,
    "start_time": "2024-06-15T14:19:16.494Z"
   },
   {
    "duration": 4,
    "start_time": "2024-06-15T14:19:17.991Z"
   },
   {
    "duration": 4,
    "start_time": "2024-06-15T14:19:18.590Z"
   },
   {
    "duration": 4,
    "start_time": "2024-06-15T14:19:18.870Z"
   },
   {
    "duration": 819,
    "start_time": "2024-06-15T14:19:42.926Z"
   },
   {
    "duration": 820,
    "start_time": "2024-06-15T14:19:44.872Z"
   },
   {
    "duration": 15,
    "start_time": "2024-06-15T14:19:46.229Z"
   },
   {
    "duration": 6,
    "start_time": "2024-06-15T14:19:47.224Z"
   },
   {
    "duration": 5,
    "start_time": "2024-06-15T14:19:47.681Z"
   },
   {
    "duration": 12,
    "start_time": "2024-06-15T14:19:48.653Z"
   },
   {
    "duration": 12,
    "start_time": "2024-06-15T14:20:19.795Z"
   },
   {
    "duration": 7,
    "start_time": "2024-06-15T14:20:20.385Z"
   },
   {
    "duration": 5,
    "start_time": "2024-06-15T14:20:20.676Z"
   },
   {
    "duration": 11,
    "start_time": "2024-06-15T14:20:21.263Z"
   },
   {
    "duration": 13,
    "start_time": "2024-06-15T14:20:38.226Z"
   },
   {
    "duration": 16,
    "start_time": "2024-06-15T14:20:47.544Z"
   },
   {
    "duration": 12,
    "start_time": "2024-06-15T14:20:57.258Z"
   },
   {
    "duration": 17,
    "start_time": "2024-06-15T14:21:04.900Z"
   },
   {
    "duration": 14,
    "start_time": "2024-06-15T14:21:15.345Z"
   },
   {
    "duration": 12,
    "start_time": "2024-06-15T14:21:32.837Z"
   },
   {
    "duration": 12,
    "start_time": "2024-06-15T14:21:37.687Z"
   },
   {
    "duration": 12,
    "start_time": "2024-06-15T14:21:42.873Z"
   },
   {
    "duration": 17,
    "start_time": "2024-06-15T14:21:52.734Z"
   },
   {
    "duration": 16,
    "start_time": "2024-06-15T14:22:15.502Z"
   },
   {
    "duration": 824,
    "start_time": "2024-06-15T14:22:54.726Z"
   },
   {
    "duration": 843,
    "start_time": "2024-06-15T14:22:56.697Z"
   },
   {
    "duration": 14,
    "start_time": "2024-06-15T14:22:57.543Z"
   },
   {
    "duration": 16,
    "start_time": "2024-06-15T14:23:08.168Z"
   },
   {
    "duration": 6,
    "start_time": "2024-06-15T14:23:09.438Z"
   },
   {
    "duration": 5,
    "start_time": "2024-06-15T14:23:09.864Z"
   },
   {
    "duration": 1261,
    "start_time": "2024-06-15T22:44:05.494Z"
   },
   {
    "duration": 506,
    "start_time": "2024-06-15T22:44:06.758Z"
   },
   {
    "duration": 21,
    "start_time": "2024-06-15T22:44:07.267Z"
   },
   {
    "duration": 18,
    "start_time": "2024-06-15T22:44:07.303Z"
   },
   {
    "duration": 19,
    "start_time": "2024-06-15T22:44:07.323Z"
   },
   {
    "duration": 17,
    "start_time": "2024-06-15T22:44:07.345Z"
   },
   {
    "duration": 14,
    "start_time": "2024-06-15T22:44:07.403Z"
   },
   {
    "duration": 14,
    "start_time": "2024-06-15T22:44:07.420Z"
   },
   {
    "duration": 11,
    "start_time": "2024-06-15T22:44:07.437Z"
   },
   {
    "duration": 50,
    "start_time": "2024-06-15T22:44:07.453Z"
   },
   {
    "duration": 10,
    "start_time": "2024-06-15T22:44:07.507Z"
   },
   {
    "duration": 107,
    "start_time": "2024-06-15T22:44:07.519Z"
   },
   {
    "duration": 82,
    "start_time": "2024-06-15T22:44:07.628Z"
   },
   {
    "duration": 72,
    "start_time": "2024-06-15T22:44:07.712Z"
   },
   {
    "duration": 59,
    "start_time": "2024-06-15T22:44:07.803Z"
   },
   {
    "duration": 75,
    "start_time": "2024-06-15T22:44:07.865Z"
   },
   {
    "duration": 78,
    "start_time": "2024-06-15T22:44:07.943Z"
   },
   {
    "duration": 5,
    "start_time": "2024-06-15T22:44:08.023Z"
   },
   {
    "duration": 3,
    "start_time": "2024-06-15T22:44:08.032Z"
   },
   {
    "duration": 4,
    "start_time": "2024-06-15T22:44:08.038Z"
   },
   {
    "duration": 4,
    "start_time": "2024-06-15T22:44:08.045Z"
   },
   {
    "duration": 3,
    "start_time": "2024-06-15T22:44:08.053Z"
   },
   {
    "duration": 6,
    "start_time": "2024-06-15T22:44:08.103Z"
   },
   {
    "duration": 197,
    "start_time": "2024-06-15T22:44:08.112Z"
   },
   {
    "duration": 6,
    "start_time": "2024-06-15T22:44:08.311Z"
   },
   {
    "duration": 81,
    "start_time": "2024-06-15T22:44:08.321Z"
   },
   {
    "duration": 12,
    "start_time": "2024-06-15T22:44:08.405Z"
   },
   {
    "duration": 12,
    "start_time": "2024-06-15T22:44:08.501Z"
   },
   {
    "duration": 4,
    "start_time": "2024-06-15T22:44:08.516Z"
   },
   {
    "duration": 5,
    "start_time": "2024-06-15T22:44:08.523Z"
   },
   {
    "duration": 4,
    "start_time": "2024-06-15T22:44:08.531Z"
   },
   {
    "duration": 237,
    "start_time": "2024-06-15T22:44:08.539Z"
   },
   {
    "duration": 26,
    "start_time": "2024-06-15T22:44:08.778Z"
   },
   {
    "duration": 6,
    "start_time": "2024-06-15T22:44:08.807Z"
   },
   {
    "duration": 5,
    "start_time": "2024-06-15T22:44:08.816Z"
   },
   {
    "duration": 1160,
    "start_time": "2024-06-15T23:00:16.877Z"
   },
   {
    "duration": 412,
    "start_time": "2024-06-15T23:00:18.041Z"
   },
   {
    "duration": 21,
    "start_time": "2024-06-15T23:00:18.456Z"
   },
   {
    "duration": 29,
    "start_time": "2024-06-15T23:00:18.481Z"
   },
   {
    "duration": 18,
    "start_time": "2024-06-15T23:00:18.513Z"
   },
   {
    "duration": 18,
    "start_time": "2024-06-15T23:00:18.534Z"
   },
   {
    "duration": 50,
    "start_time": "2024-06-15T23:00:18.555Z"
   },
   {
    "duration": 13,
    "start_time": "2024-06-15T23:00:18.608Z"
   },
   {
    "duration": 9,
    "start_time": "2024-06-15T23:00:18.624Z"
   },
   {
    "duration": 9,
    "start_time": "2024-06-15T23:00:18.639Z"
   },
   {
    "duration": 52,
    "start_time": "2024-06-15T23:00:18.651Z"
   },
   {
    "duration": 103,
    "start_time": "2024-06-15T23:00:18.707Z"
   },
   {
    "duration": 67,
    "start_time": "2024-06-15T23:00:18.813Z"
   },
   {
    "duration": 71,
    "start_time": "2024-06-15T23:00:18.903Z"
   },
   {
    "duration": 68,
    "start_time": "2024-06-15T23:00:18.977Z"
   },
   {
    "duration": 78,
    "start_time": "2024-06-15T23:00:19.048Z"
   },
   {
    "duration": 73,
    "start_time": "2024-06-15T23:00:19.129Z"
   },
   {
    "duration": 4,
    "start_time": "2024-06-15T23:00:19.206Z"
   },
   {
    "duration": 4,
    "start_time": "2024-06-15T23:00:19.213Z"
   },
   {
    "duration": 4,
    "start_time": "2024-06-15T23:00:19.220Z"
   },
   {
    "duration": 3,
    "start_time": "2024-06-15T23:00:19.228Z"
   },
   {
    "duration": 4,
    "start_time": "2024-06-15T23:00:19.240Z"
   },
   {
    "duration": 55,
    "start_time": "2024-06-15T23:00:19.247Z"
   },
   {
    "duration": 203,
    "start_time": "2024-06-15T23:00:19.305Z"
   },
   {
    "duration": 5,
    "start_time": "2024-06-15T23:00:19.511Z"
   },
   {
    "duration": 93,
    "start_time": "2024-06-15T23:00:19.519Z"
   },
   {
    "duration": 80,
    "start_time": "2024-06-15T23:00:19.621Z"
   },
   {
    "duration": 5,
    "start_time": "2024-06-15T23:00:19.709Z"
   },
   {
    "duration": 408,
    "start_time": "2024-06-15T23:00:19.717Z"
   },
   {
    "duration": 0,
    "start_time": "2024-06-15T23:00:20.129Z"
   },
   {
    "duration": 0,
    "start_time": "2024-06-15T23:00:20.131Z"
   },
   {
    "duration": 0,
    "start_time": "2024-06-15T23:00:20.133Z"
   },
   {
    "duration": 0,
    "start_time": "2024-06-15T23:00:20.134Z"
   },
   {
    "duration": 0,
    "start_time": "2024-06-15T23:00:20.136Z"
   },
   {
    "duration": 0,
    "start_time": "2024-06-15T23:00:20.138Z"
   },
   {
    "duration": 0,
    "start_time": "2024-06-15T23:00:20.139Z"
   },
   {
    "duration": 1222,
    "start_time": "2024-06-15T23:02:08.707Z"
   },
   {
    "duration": 395,
    "start_time": "2024-06-15T23:02:09.933Z"
   },
   {
    "duration": 20,
    "start_time": "2024-06-15T23:02:10.334Z"
   },
   {
    "duration": 19,
    "start_time": "2024-06-15T23:02:10.358Z"
   },
   {
    "duration": 18,
    "start_time": "2024-06-15T23:02:10.403Z"
   },
   {
    "duration": 17,
    "start_time": "2024-06-15T23:02:10.424Z"
   },
   {
    "duration": 68,
    "start_time": "2024-06-15T23:02:10.444Z"
   },
   {
    "duration": 13,
    "start_time": "2024-06-15T23:02:10.515Z"
   },
   {
    "duration": 9,
    "start_time": "2024-06-15T23:02:10.530Z"
   },
   {
    "duration": 9,
    "start_time": "2024-06-15T23:02:10.601Z"
   },
   {
    "duration": 11,
    "start_time": "2024-06-15T23:02:10.613Z"
   },
   {
    "duration": 175,
    "start_time": "2024-06-15T23:02:10.627Z"
   },
   {
    "duration": 117,
    "start_time": "2024-06-15T23:02:10.805Z"
   },
   {
    "duration": 181,
    "start_time": "2024-06-15T23:02:10.925Z"
   },
   {
    "duration": 117,
    "start_time": "2024-06-15T23:02:11.109Z"
   },
   {
    "duration": 170,
    "start_time": "2024-06-15T23:02:11.230Z"
   },
   {
    "duration": 115,
    "start_time": "2024-06-15T23:02:11.404Z"
   },
   {
    "duration": 4,
    "start_time": "2024-06-15T23:02:11.522Z"
   },
   {
    "duration": 4,
    "start_time": "2024-06-15T23:02:11.529Z"
   },
   {
    "duration": 3,
    "start_time": "2024-06-15T23:02:11.537Z"
   },
   {
    "duration": 57,
    "start_time": "2024-06-15T23:02:11.544Z"
   },
   {
    "duration": 3,
    "start_time": "2024-06-15T23:02:11.605Z"
   },
   {
    "duration": 7,
    "start_time": "2024-06-15T23:02:11.611Z"
   },
   {
    "duration": 282,
    "start_time": "2024-06-15T23:02:11.621Z"
   },
   {
    "duration": 5,
    "start_time": "2024-06-15T23:02:11.906Z"
   },
   {
    "duration": 91,
    "start_time": "2024-06-15T23:02:11.914Z"
   },
   {
    "duration": 6,
    "start_time": "2024-06-15T23:02:12.008Z"
   },
   {
    "duration": 5,
    "start_time": "2024-06-15T23:02:12.025Z"
   },
   {
    "duration": 680,
    "start_time": "2024-06-15T23:02:12.034Z"
   },
   {
    "duration": 0,
    "start_time": "2024-06-15T23:02:12.717Z"
   },
   {
    "duration": 0,
    "start_time": "2024-06-15T23:02:12.719Z"
   },
   {
    "duration": 0,
    "start_time": "2024-06-15T23:02:12.721Z"
   },
   {
    "duration": 0,
    "start_time": "2024-06-15T23:02:12.723Z"
   },
   {
    "duration": 0,
    "start_time": "2024-06-15T23:02:12.726Z"
   },
   {
    "duration": 0,
    "start_time": "2024-06-15T23:02:12.728Z"
   },
   {
    "duration": 0,
    "start_time": "2024-06-15T23:02:12.730Z"
   },
   {
    "duration": 7,
    "start_time": "2024-06-15T23:02:25.459Z"
   },
   {
    "duration": 5,
    "start_time": "2024-06-15T23:02:36.637Z"
   },
   {
    "duration": 4,
    "start_time": "2024-06-15T23:02:51.663Z"
   },
   {
    "duration": 17,
    "start_time": "2024-06-15T23:03:43.263Z"
   },
   {
    "duration": 12,
    "start_time": "2024-06-15T23:03:54.194Z"
   },
   {
    "duration": 13,
    "start_time": "2024-06-15T23:04:03.400Z"
   },
   {
    "duration": 14,
    "start_time": "2024-06-15T23:04:06.795Z"
   },
   {
    "duration": 16,
    "start_time": "2024-06-15T23:04:43.527Z"
   },
   {
    "duration": 16,
    "start_time": "2024-06-15T23:05:14.432Z"
   },
   {
    "duration": 22,
    "start_time": "2024-06-15T23:05:34.673Z"
   },
   {
    "duration": 27,
    "start_time": "2024-06-15T23:05:58.479Z"
   },
   {
    "duration": 18,
    "start_time": "2024-06-15T23:06:08.537Z"
   },
   {
    "duration": 1220,
    "start_time": "2024-06-15T23:10:42.000Z"
   },
   {
    "duration": 377,
    "start_time": "2024-06-15T23:10:43.223Z"
   },
   {
    "duration": 21,
    "start_time": "2024-06-15T23:10:43.603Z"
   },
   {
    "duration": 19,
    "start_time": "2024-06-15T23:10:43.628Z"
   },
   {
    "duration": 56,
    "start_time": "2024-06-15T23:10:43.650Z"
   },
   {
    "duration": 18,
    "start_time": "2024-06-15T23:10:43.710Z"
   },
   {
    "duration": 14,
    "start_time": "2024-06-15T23:10:43.732Z"
   },
   {
    "duration": 53,
    "start_time": "2024-06-15T23:10:43.750Z"
   },
   {
    "duration": 11,
    "start_time": "2024-06-15T23:10:43.806Z"
   },
   {
    "duration": 8,
    "start_time": "2024-06-15T23:10:43.823Z"
   },
   {
    "duration": 12,
    "start_time": "2024-06-15T23:10:43.834Z"
   },
   {
    "duration": 111,
    "start_time": "2024-06-15T23:10:43.849Z"
   },
   {
    "duration": 91,
    "start_time": "2024-06-15T23:10:43.963Z"
   },
   {
    "duration": 85,
    "start_time": "2024-06-15T23:10:44.056Z"
   },
   {
    "duration": 75,
    "start_time": "2024-06-15T23:10:44.145Z"
   },
   {
    "duration": 60,
    "start_time": "2024-06-15T23:10:44.224Z"
   },
   {
    "duration": 63,
    "start_time": "2024-06-15T23:10:44.303Z"
   },
   {
    "duration": 8,
    "start_time": "2024-06-15T23:10:44.371Z"
   },
   {
    "duration": 230,
    "start_time": "2024-06-15T23:10:44.381Z"
   },
   {
    "duration": 5,
    "start_time": "2024-06-15T23:10:44.615Z"
   },
   {
    "duration": 78,
    "start_time": "2024-06-15T23:10:44.624Z"
   },
   {
    "duration": 5,
    "start_time": "2024-06-15T23:10:44.705Z"
   },
   {
    "duration": 6,
    "start_time": "2024-06-15T23:10:44.713Z"
   },
   {
    "duration": 0,
    "start_time": "2024-06-15T23:10:44.724Z"
   },
   {
    "duration": 1,
    "start_time": "2024-06-15T23:10:44.800Z"
   },
   {
    "duration": 0,
    "start_time": "2024-06-15T23:10:44.803Z"
   },
   {
    "duration": 0,
    "start_time": "2024-06-15T23:10:44.805Z"
   },
   {
    "duration": 0,
    "start_time": "2024-06-15T23:10:44.808Z"
   },
   {
    "duration": 0,
    "start_time": "2024-06-15T23:10:44.810Z"
   },
   {
    "duration": 0,
    "start_time": "2024-06-15T23:10:44.812Z"
   },
   {
    "duration": 0,
    "start_time": "2024-06-15T23:10:44.815Z"
   },
   {
    "duration": 0,
    "start_time": "2024-06-15T23:10:44.819Z"
   },
   {
    "duration": 0,
    "start_time": "2024-06-15T23:10:44.821Z"
   },
   {
    "duration": 0,
    "start_time": "2024-06-15T23:10:44.822Z"
   },
   {
    "duration": 0,
    "start_time": "2024-06-15T23:10:44.825Z"
   },
   {
    "duration": 13,
    "start_time": "2024-06-15T23:11:10.415Z"
   },
   {
    "duration": 13,
    "start_time": "2024-06-15T23:11:49.295Z"
   },
   {
    "duration": 13,
    "start_time": "2024-06-15T23:11:50.836Z"
   },
   {
    "duration": 7,
    "start_time": "2024-06-15T23:12:25.105Z"
   },
   {
    "duration": 9,
    "start_time": "2024-06-15T23:12:41.071Z"
   },
   {
    "duration": 9,
    "start_time": "2024-06-15T23:12:56.761Z"
   },
   {
    "duration": 9,
    "start_time": "2024-06-15T23:13:01.169Z"
   },
   {
    "duration": 8,
    "start_time": "2024-06-15T23:13:09.869Z"
   },
   {
    "duration": 7,
    "start_time": "2024-06-15T23:13:15.470Z"
   },
   {
    "duration": 8,
    "start_time": "2024-06-15T23:13:30.943Z"
   },
   {
    "duration": 1146,
    "start_time": "2024-06-15T23:14:59.577Z"
   },
   {
    "duration": 386,
    "start_time": "2024-06-15T23:15:00.725Z"
   },
   {
    "duration": 21,
    "start_time": "2024-06-15T23:15:01.113Z"
   },
   {
    "duration": 18,
    "start_time": "2024-06-15T23:15:01.138Z"
   },
   {
    "duration": 50,
    "start_time": "2024-06-15T23:15:01.159Z"
   },
   {
    "duration": 17,
    "start_time": "2024-06-15T23:15:01.212Z"
   },
   {
    "duration": 12,
    "start_time": "2024-06-15T23:15:01.232Z"
   },
   {
    "duration": 13,
    "start_time": "2024-06-15T23:15:01.247Z"
   },
   {
    "duration": 10,
    "start_time": "2024-06-15T23:15:01.303Z"
   },
   {
    "duration": 7,
    "start_time": "2024-06-15T23:15:01.320Z"
   },
   {
    "duration": 9,
    "start_time": "2024-06-15T23:15:01.331Z"
   },
   {
    "duration": 116,
    "start_time": "2024-06-15T23:15:01.343Z"
   },
   {
    "duration": 83,
    "start_time": "2024-06-15T23:15:01.462Z"
   },
   {
    "duration": 91,
    "start_time": "2024-06-15T23:15:01.548Z"
   },
   {
    "duration": 77,
    "start_time": "2024-06-15T23:15:01.642Z"
   },
   {
    "duration": 57,
    "start_time": "2024-06-15T23:15:01.722Z"
   },
   {
    "duration": 74,
    "start_time": "2024-06-15T23:15:01.781Z"
   },
   {
    "duration": 7,
    "start_time": "2024-06-15T23:15:01.858Z"
   },
   {
    "duration": 157,
    "start_time": "2024-06-15T23:15:01.868Z"
   },
   {
    "duration": 4,
    "start_time": "2024-06-15T23:15:02.103Z"
   },
   {
    "duration": 4,
    "start_time": "2024-06-15T23:15:02.110Z"
   },
   {
    "duration": 6,
    "start_time": "2024-06-15T23:15:02.118Z"
   },
   {
    "duration": 81,
    "start_time": "2024-06-15T23:15:02.126Z"
   },
   {
    "duration": 8,
    "start_time": "2024-06-15T23:15:02.211Z"
   },
   {
    "duration": 9,
    "start_time": "2024-06-15T23:15:02.222Z"
   },
   {
    "duration": 4,
    "start_time": "2024-06-15T23:15:02.234Z"
   },
   {
    "duration": 6,
    "start_time": "2024-06-15T23:15:02.241Z"
   },
   {
    "duration": 19,
    "start_time": "2024-06-15T23:15:02.308Z"
   },
   {
    "duration": 4,
    "start_time": "2024-06-15T23:15:02.330Z"
   },
   {
    "duration": 4,
    "start_time": "2024-06-15T23:15:02.338Z"
   },
   {
    "duration": 4,
    "start_time": "2024-06-15T23:15:02.346Z"
   },
   {
    "duration": 449,
    "start_time": "2024-06-15T23:15:02.354Z"
   },
   {
    "duration": 0,
    "start_time": "2024-06-15T23:15:02.806Z"
   },
   {
    "duration": 0,
    "start_time": "2024-06-15T23:15:02.807Z"
   },
   {
    "duration": 0,
    "start_time": "2024-06-15T23:15:02.809Z"
   },
   {
    "duration": 1175,
    "start_time": "2024-06-15T23:16:20.959Z"
   },
   {
    "duration": 367,
    "start_time": "2024-06-15T23:16:22.138Z"
   },
   {
    "duration": 21,
    "start_time": "2024-06-15T23:16:22.508Z"
   },
   {
    "duration": 19,
    "start_time": "2024-06-15T23:16:22.534Z"
   },
   {
    "duration": 51,
    "start_time": "2024-06-15T23:16:22.556Z"
   },
   {
    "duration": 16,
    "start_time": "2024-06-15T23:16:22.610Z"
   },
   {
    "duration": 14,
    "start_time": "2024-06-15T23:16:22.628Z"
   },
   {
    "duration": 12,
    "start_time": "2024-06-15T23:16:22.645Z"
   },
   {
    "duration": 48,
    "start_time": "2024-06-15T23:16:22.660Z"
   },
   {
    "duration": 7,
    "start_time": "2024-06-15T23:16:22.714Z"
   },
   {
    "duration": 8,
    "start_time": "2024-06-15T23:16:22.724Z"
   },
   {
    "duration": 107,
    "start_time": "2024-06-15T23:16:22.734Z"
   },
   {
    "duration": 83,
    "start_time": "2024-06-15T23:16:22.844Z"
   },
   {
    "duration": 83,
    "start_time": "2024-06-15T23:16:22.929Z"
   },
   {
    "duration": 57,
    "start_time": "2024-06-15T23:16:23.014Z"
   },
   {
    "duration": 79,
    "start_time": "2024-06-15T23:16:23.074Z"
   },
   {
    "duration": 85,
    "start_time": "2024-06-15T23:16:23.158Z"
   },
   {
    "duration": 7,
    "start_time": "2024-06-15T23:16:23.246Z"
   },
   {
    "duration": 169,
    "start_time": "2024-06-15T23:16:23.256Z"
   },
   {
    "duration": 4,
    "start_time": "2024-06-15T23:16:23.503Z"
   },
   {
    "duration": 5,
    "start_time": "2024-06-15T23:16:23.510Z"
   },
   {
    "duration": 4,
    "start_time": "2024-06-15T23:16:23.518Z"
   },
   {
    "duration": 83,
    "start_time": "2024-06-15T23:16:23.525Z"
   },
   {
    "duration": 9,
    "start_time": "2024-06-15T23:16:23.611Z"
   },
   {
    "duration": 8,
    "start_time": "2024-06-15T23:16:23.623Z"
   },
   {
    "duration": 4,
    "start_time": "2024-06-15T23:16:23.634Z"
   },
   {
    "duration": 4,
    "start_time": "2024-06-15T23:16:23.642Z"
   },
   {
    "duration": 19,
    "start_time": "2024-06-15T23:16:23.705Z"
   },
   {
    "duration": 5,
    "start_time": "2024-06-15T23:16:23.727Z"
   },
   {
    "duration": 5,
    "start_time": "2024-06-15T23:16:23.735Z"
   },
   {
    "duration": 4,
    "start_time": "2024-06-15T23:16:23.743Z"
   },
   {
    "duration": 3251,
    "start_time": "2024-06-15T23:16:23.751Z"
   },
   {
    "duration": 7,
    "start_time": "2024-06-15T23:16:27.005Z"
   },
   {
    "duration": 6,
    "start_time": "2024-06-15T23:16:27.015Z"
   },
   {
    "duration": 5,
    "start_time": "2024-06-15T23:16:27.024Z"
   },
   {
    "duration": 401,
    "start_time": "2024-06-15T23:17:42.662Z"
   },
   {
    "duration": 26,
    "start_time": "2024-06-15T23:18:04.294Z"
   },
   {
    "duration": 5,
    "start_time": "2024-06-15T23:18:10.263Z"
   },
   {
    "duration": 5,
    "start_time": "2024-06-15T23:18:22.559Z"
   },
   {
    "duration": 5,
    "start_time": "2024-06-15T23:18:47.480Z"
   },
   {
    "duration": 7,
    "start_time": "2024-06-15T23:18:56.798Z"
   },
   {
    "duration": 26,
    "start_time": "2024-06-15T23:19:02.734Z"
   },
   {
    "duration": 5,
    "start_time": "2024-06-15T23:19:06.544Z"
   },
   {
    "duration": 5,
    "start_time": "2024-06-15T23:19:17.560Z"
   },
   {
    "duration": 4,
    "start_time": "2024-06-15T23:19:29.648Z"
   },
   {
    "duration": 5,
    "start_time": "2024-06-15T23:20:21.885Z"
   },
   {
    "duration": 4,
    "start_time": "2024-06-15T23:20:43.609Z"
   },
   {
    "duration": 6,
    "start_time": "2024-06-15T23:22:55.132Z"
   },
   {
    "duration": 7,
    "start_time": "2024-06-15T23:23:31.078Z"
   },
   {
    "duration": 7,
    "start_time": "2024-06-15T23:23:56.003Z"
   },
   {
    "duration": 25,
    "start_time": "2024-06-15T23:41:06.311Z"
   },
   {
    "duration": 25,
    "start_time": "2024-06-15T23:42:00.177Z"
   },
   {
    "duration": 5,
    "start_time": "2024-06-15T23:42:58.679Z"
   },
   {
    "duration": 5,
    "start_time": "2024-06-15T23:43:08.919Z"
   },
   {
    "duration": 4,
    "start_time": "2024-06-15T23:43:47.391Z"
   },
   {
    "duration": 5,
    "start_time": "2024-06-15T23:43:55.363Z"
   },
   {
    "duration": 26,
    "start_time": "2024-06-15T23:43:58.360Z"
   },
   {
    "duration": 5,
    "start_time": "2024-06-15T23:44:02.187Z"
   },
   {
    "duration": 4,
    "start_time": "2024-06-15T23:44:29.612Z"
   },
   {
    "duration": 1222,
    "start_time": "2024-06-15T23:44:39.410Z"
   },
   {
    "duration": 371,
    "start_time": "2024-06-15T23:44:40.636Z"
   },
   {
    "duration": 20,
    "start_time": "2024-06-15T23:44:41.010Z"
   },
   {
    "duration": 19,
    "start_time": "2024-06-15T23:44:41.034Z"
   },
   {
    "duration": 55,
    "start_time": "2024-06-15T23:44:41.059Z"
   },
   {
    "duration": 17,
    "start_time": "2024-06-15T23:44:41.117Z"
   },
   {
    "duration": 13,
    "start_time": "2024-06-15T23:44:41.137Z"
   },
   {
    "duration": 50,
    "start_time": "2024-06-15T23:44:41.153Z"
   },
   {
    "duration": 10,
    "start_time": "2024-06-15T23:44:41.206Z"
   },
   {
    "duration": 8,
    "start_time": "2024-06-15T23:44:41.219Z"
   },
   {
    "duration": 9,
    "start_time": "2024-06-15T23:44:41.230Z"
   },
   {
    "duration": 117,
    "start_time": "2024-06-15T23:44:41.243Z"
   },
   {
    "duration": 83,
    "start_time": "2024-06-15T23:44:41.363Z"
   },
   {
    "duration": 84,
    "start_time": "2024-06-15T23:44:41.455Z"
   },
   {
    "duration": 76,
    "start_time": "2024-06-15T23:44:41.545Z"
   },
   {
    "duration": 58,
    "start_time": "2024-06-15T23:44:41.623Z"
   },
   {
    "duration": 77,
    "start_time": "2024-06-15T23:44:41.683Z"
   },
   {
    "duration": 7,
    "start_time": "2024-06-15T23:44:41.763Z"
   },
   {
    "duration": 229,
    "start_time": "2024-06-15T23:44:41.773Z"
   },
   {
    "duration": 4,
    "start_time": "2024-06-15T23:44:42.008Z"
   },
   {
    "duration": 4,
    "start_time": "2024-06-15T23:44:42.016Z"
   },
   {
    "duration": 78,
    "start_time": "2024-06-15T23:44:42.024Z"
   },
   {
    "duration": 9,
    "start_time": "2024-06-15T23:44:42.106Z"
   },
   {
    "duration": 10,
    "start_time": "2024-06-15T23:44:42.120Z"
   },
   {
    "duration": 10,
    "start_time": "2024-06-15T23:44:42.133Z"
   },
   {
    "duration": 4,
    "start_time": "2024-06-15T23:44:42.147Z"
   },
   {
    "duration": 5,
    "start_time": "2024-06-15T23:44:42.202Z"
   },
   {
    "duration": 19,
    "start_time": "2024-06-15T23:44:42.211Z"
   },
   {
    "duration": 5,
    "start_time": "2024-06-15T23:44:42.232Z"
   },
   {
    "duration": 5,
    "start_time": "2024-06-15T23:44:42.240Z"
   },
   {
    "duration": 4,
    "start_time": "2024-06-15T23:44:42.249Z"
   },
   {
    "duration": 3271,
    "start_time": "2024-06-15T23:44:42.303Z"
   },
   {
    "duration": 5,
    "start_time": "2024-06-15T23:44:45.578Z"
   },
   {
    "duration": 14,
    "start_time": "2024-06-15T23:44:45.590Z"
   },
   {
    "duration": 6,
    "start_time": "2024-06-15T23:44:45.607Z"
   },
   {
    "duration": 7,
    "start_time": "2024-06-15T23:44:45.616Z"
   },
   {
    "duration": 384,
    "start_time": "2024-06-15T23:45:30.159Z"
   },
   {
    "duration": 28,
    "start_time": "2024-06-15T23:45:37.573Z"
   },
   {
    "duration": 23,
    "start_time": "2024-06-15T23:45:43.224Z"
   },
   {
    "duration": 1102,
    "start_time": "2024-06-15T23:46:28.489Z"
   },
   {
    "duration": 1101,
    "start_time": "2024-06-15T23:46:38.214Z"
   },
   {
    "duration": 3196,
    "start_time": "2024-06-15T23:47:20.297Z"
   },
   {
    "duration": 3262,
    "start_time": "2024-06-15T23:49:12.775Z"
   },
   {
    "duration": 6,
    "start_time": "2024-06-15T23:50:29.540Z"
   },
   {
    "duration": 6,
    "start_time": "2024-06-15T23:50:41.146Z"
   },
   {
    "duration": 1109,
    "start_time": "2024-06-15T23:50:46.992Z"
   },
   {
    "duration": 1101,
    "start_time": "2024-06-15T23:51:16.410Z"
   },
   {
    "duration": 1162,
    "start_time": "2024-06-15T23:52:05.593Z"
   },
   {
    "duration": 3205,
    "start_time": "2024-06-15T23:52:18.214Z"
   },
   {
    "duration": 6,
    "start_time": "2024-06-15T23:52:59.001Z"
   },
   {
    "duration": 5,
    "start_time": "2024-06-15T23:53:22.173Z"
   },
   {
    "duration": 7,
    "start_time": "2024-06-15T23:53:36.827Z"
   },
   {
    "duration": 3213,
    "start_time": "2024-06-15T23:53:49.710Z"
   },
   {
    "duration": 7,
    "start_time": "2024-06-15T23:54:25.997Z"
   },
   {
    "duration": 6,
    "start_time": "2024-06-15T23:54:39.533Z"
   },
   {
    "duration": 7,
    "start_time": "2024-06-15T23:54:46.534Z"
   },
   {
    "duration": 9,
    "start_time": "2024-06-15T23:55:14.915Z"
   },
   {
    "duration": 6,
    "start_time": "2024-06-15T23:55:30.501Z"
   },
   {
    "duration": 8,
    "start_time": "2024-06-15T23:55:40.693Z"
   },
   {
    "duration": 7,
    "start_time": "2024-06-15T23:55:50.253Z"
   },
   {
    "duration": 5,
    "start_time": "2024-06-15T23:56:11.923Z"
   },
   {
    "duration": 6,
    "start_time": "2024-06-15T23:56:22.996Z"
   },
   {
    "duration": 1372,
    "start_time": "2024-06-15T23:57:25.616Z"
   },
   {
    "duration": 592,
    "start_time": "2024-06-15T23:57:26.993Z"
   },
   {
    "duration": 32,
    "start_time": "2024-06-15T23:57:27.588Z"
   },
   {
    "duration": 25,
    "start_time": "2024-06-15T23:57:27.626Z"
   },
   {
    "duration": 50,
    "start_time": "2024-06-15T23:57:27.658Z"
   },
   {
    "duration": 21,
    "start_time": "2024-06-15T23:57:27.712Z"
   },
   {
    "duration": 18,
    "start_time": "2024-06-15T23:57:27.737Z"
   },
   {
    "duration": 44,
    "start_time": "2024-06-15T23:57:27.761Z"
   },
   {
    "duration": 12,
    "start_time": "2024-06-15T23:57:27.809Z"
   },
   {
    "duration": 9,
    "start_time": "2024-06-15T23:57:27.829Z"
   },
   {
    "duration": 10,
    "start_time": "2024-06-15T23:57:27.842Z"
   },
   {
    "duration": 116,
    "start_time": "2024-06-15T23:57:27.855Z"
   },
   {
    "duration": 89,
    "start_time": "2024-06-15T23:57:27.975Z"
   },
   {
    "duration": 112,
    "start_time": "2024-06-15T23:57:28.067Z"
   },
   {
    "duration": 90,
    "start_time": "2024-06-15T23:57:28.182Z"
   },
   {
    "duration": 84,
    "start_time": "2024-06-15T23:57:28.278Z"
   },
   {
    "duration": 105,
    "start_time": "2024-06-15T23:57:28.368Z"
   },
   {
    "duration": 18,
    "start_time": "2024-06-15T23:57:28.476Z"
   },
   {
    "duration": 214,
    "start_time": "2024-06-15T23:57:28.497Z"
   },
   {
    "duration": 5,
    "start_time": "2024-06-15T23:57:28.714Z"
   },
   {
    "duration": 4,
    "start_time": "2024-06-15T23:57:28.722Z"
   },
   {
    "duration": 8,
    "start_time": "2024-06-15T23:57:28.729Z"
   },
   {
    "duration": 9,
    "start_time": "2024-06-15T23:57:28.739Z"
   },
   {
    "duration": 9,
    "start_time": "2024-06-15T23:57:28.804Z"
   },
   {
    "duration": 10,
    "start_time": "2024-06-15T23:57:28.816Z"
   },
   {
    "duration": 4,
    "start_time": "2024-06-15T23:57:28.830Z"
   },
   {
    "duration": 5,
    "start_time": "2024-06-15T23:57:28.838Z"
   },
   {
    "duration": 24,
    "start_time": "2024-06-15T23:57:28.902Z"
   },
   {
    "duration": 4,
    "start_time": "2024-06-15T23:57:28.930Z"
   },
   {
    "duration": 5,
    "start_time": "2024-06-15T23:57:28.938Z"
   },
   {
    "duration": 6,
    "start_time": "2024-06-15T23:57:28.948Z"
   },
   {
    "duration": 3709,
    "start_time": "2024-06-15T23:57:29.004Z"
   },
   {
    "duration": 3671,
    "start_time": "2024-06-15T23:57:32.716Z"
   },
   {
    "duration": 14,
    "start_time": "2024-06-15T23:57:36.390Z"
   },
   {
    "duration": 5,
    "start_time": "2024-06-15T23:57:36.407Z"
   },
   {
    "duration": 5,
    "start_time": "2024-06-15T23:57:36.417Z"
   },
   {
    "duration": 6,
    "start_time": "2024-06-15T23:57:36.425Z"
   },
   {
    "duration": 1226,
    "start_time": "2024-06-16T00:02:43.405Z"
   },
   {
    "duration": 382,
    "start_time": "2024-06-16T00:02:44.634Z"
   },
   {
    "duration": 20,
    "start_time": "2024-06-16T00:02:45.019Z"
   },
   {
    "duration": 18,
    "start_time": "2024-06-16T00:02:45.044Z"
   },
   {
    "duration": 46,
    "start_time": "2024-06-16T00:02:45.065Z"
   },
   {
    "duration": 16,
    "start_time": "2024-06-16T00:02:45.114Z"
   },
   {
    "duration": 14,
    "start_time": "2024-06-16T00:02:45.133Z"
   },
   {
    "duration": 55,
    "start_time": "2024-06-16T00:02:45.151Z"
   },
   {
    "duration": 9,
    "start_time": "2024-06-16T00:02:45.209Z"
   },
   {
    "duration": 7,
    "start_time": "2024-06-16T00:02:45.224Z"
   },
   {
    "duration": 9,
    "start_time": "2024-06-16T00:02:45.235Z"
   },
   {
    "duration": 115,
    "start_time": "2024-06-16T00:02:45.247Z"
   },
   {
    "duration": 84,
    "start_time": "2024-06-16T00:02:45.367Z"
   },
   {
    "duration": 100,
    "start_time": "2024-06-16T00:02:45.455Z"
   },
   {
    "duration": 70,
    "start_time": "2024-06-16T00:02:45.559Z"
   },
   {
    "duration": 69,
    "start_time": "2024-06-16T00:02:45.632Z"
   },
   {
    "duration": 62,
    "start_time": "2024-06-16T00:02:45.705Z"
   },
   {
    "duration": 8,
    "start_time": "2024-06-16T00:02:45.770Z"
   },
   {
    "duration": 203,
    "start_time": "2024-06-16T00:02:45.801Z"
   },
   {
    "duration": 5,
    "start_time": "2024-06-16T00:02:46.006Z"
   },
   {
    "duration": 9,
    "start_time": "2024-06-16T00:02:46.016Z"
   },
   {
    "duration": 12,
    "start_time": "2024-06-16T00:02:46.101Z"
   },
   {
    "duration": 8,
    "start_time": "2024-06-16T00:02:46.116Z"
   },
   {
    "duration": 7,
    "start_time": "2024-06-16T00:02:46.127Z"
   },
   {
    "duration": 8,
    "start_time": "2024-06-16T00:02:46.204Z"
   },
   {
    "duration": 5,
    "start_time": "2024-06-16T00:02:46.215Z"
   },
   {
    "duration": 4,
    "start_time": "2024-06-16T00:02:46.224Z"
   },
   {
    "duration": 19,
    "start_time": "2024-06-16T00:02:46.236Z"
   },
   {
    "duration": 45,
    "start_time": "2024-06-16T00:02:46.258Z"
   },
   {
    "duration": 5,
    "start_time": "2024-06-16T00:02:46.305Z"
   },
   {
    "duration": 5,
    "start_time": "2024-06-16T00:02:46.315Z"
   },
   {
    "duration": 3328,
    "start_time": "2024-06-16T00:02:46.324Z"
   },
   {
    "duration": 3268,
    "start_time": "2024-06-16T00:02:49.655Z"
   },
   {
    "duration": 6,
    "start_time": "2024-06-16T00:02:52.926Z"
   },
   {
    "duration": 6,
    "start_time": "2024-06-16T00:02:52.936Z"
   },
   {
    "duration": 5,
    "start_time": "2024-06-16T00:02:52.945Z"
   },
   {
    "duration": 49,
    "start_time": "2024-06-16T00:02:52.953Z"
   },
   {
    "duration": 1167,
    "start_time": "2024-06-16T00:10:58.153Z"
   },
   {
    "duration": 379,
    "start_time": "2024-06-16T00:10:59.323Z"
   },
   {
    "duration": 20,
    "start_time": "2024-06-16T00:10:59.705Z"
   },
   {
    "duration": 19,
    "start_time": "2024-06-16T00:10:59.730Z"
   },
   {
    "duration": 52,
    "start_time": "2024-06-16T00:10:59.753Z"
   },
   {
    "duration": 17,
    "start_time": "2024-06-16T00:10:59.807Z"
   },
   {
    "duration": 13,
    "start_time": "2024-06-16T00:10:59.830Z"
   },
   {
    "duration": 15,
    "start_time": "2024-06-16T00:10:59.846Z"
   },
   {
    "duration": 47,
    "start_time": "2024-06-16T00:10:59.863Z"
   },
   {
    "duration": 8,
    "start_time": "2024-06-16T00:10:59.920Z"
   },
   {
    "duration": 10,
    "start_time": "2024-06-16T00:10:59.933Z"
   },
   {
    "duration": 114,
    "start_time": "2024-06-16T00:10:59.948Z"
   },
   {
    "duration": 84,
    "start_time": "2024-06-16T00:11:00.065Z"
   },
   {
    "duration": 85,
    "start_time": "2024-06-16T00:11:00.152Z"
   },
   {
    "duration": 73,
    "start_time": "2024-06-16T00:11:00.239Z"
   },
   {
    "duration": 59,
    "start_time": "2024-06-16T00:11:00.315Z"
   },
   {
    "duration": 76,
    "start_time": "2024-06-16T00:11:00.381Z"
   },
   {
    "duration": 43,
    "start_time": "2024-06-16T00:11:00.460Z"
   },
   {
    "duration": 7,
    "start_time": "2024-06-16T00:11:00.506Z"
   },
   {
    "duration": 200,
    "start_time": "2024-06-16T00:11:00.516Z"
   },
   {
    "duration": 3,
    "start_time": "2024-06-16T00:11:00.719Z"
   },
   {
    "duration": 83,
    "start_time": "2024-06-16T00:11:00.725Z"
   },
   {
    "duration": 5,
    "start_time": "2024-06-16T00:11:00.811Z"
   },
   {
    "duration": 86,
    "start_time": "2024-06-16T00:11:00.819Z"
   },
   {
    "duration": 8,
    "start_time": "2024-06-16T00:11:00.909Z"
   },
   {
    "duration": 8,
    "start_time": "2024-06-16T00:11:00.920Z"
   },
   {
    "duration": 4,
    "start_time": "2024-06-16T00:11:00.931Z"
   },
   {
    "duration": 5,
    "start_time": "2024-06-16T00:11:00.942Z"
   },
   {
    "duration": 21,
    "start_time": "2024-06-16T00:11:01.002Z"
   },
   {
    "duration": 5,
    "start_time": "2024-06-16T00:11:01.027Z"
   },
   {
    "duration": 7,
    "start_time": "2024-06-16T00:11:01.034Z"
   },
   {
    "duration": 5,
    "start_time": "2024-06-16T00:11:01.045Z"
   },
   {
    "duration": 3547,
    "start_time": "2024-06-16T00:11:01.054Z"
   },
   {
    "duration": 3763,
    "start_time": "2024-06-16T00:11:04.604Z"
   },
   {
    "duration": 5,
    "start_time": "2024-06-16T00:11:08.371Z"
   },
   {
    "duration": 22,
    "start_time": "2024-06-16T00:11:08.380Z"
   },
   {
    "duration": 5,
    "start_time": "2024-06-16T00:11:08.405Z"
   },
   {
    "duration": 7,
    "start_time": "2024-06-16T00:11:08.414Z"
   },
   {
    "duration": 13,
    "start_time": "2024-06-16T00:11:52.451Z"
   },
   {
    "duration": 12,
    "start_time": "2024-06-16T00:12:09.412Z"
   },
   {
    "duration": 30,
    "start_time": "2024-06-16T00:12:42.054Z"
   },
   {
    "duration": 411,
    "start_time": "2024-06-16T00:12:59.604Z"
   },
   {
    "duration": 27,
    "start_time": "2024-06-16T00:13:11.493Z"
   },
   {
    "duration": 31,
    "start_time": "2024-06-16T00:13:17.939Z"
   },
   {
    "duration": 26,
    "start_time": "2024-06-16T00:13:48.526Z"
   },
   {
    "duration": 25,
    "start_time": "2024-06-16T00:13:57.088Z"
   },
   {
    "duration": 27,
    "start_time": "2024-06-16T00:14:06.881Z"
   },
   {
    "duration": 26,
    "start_time": "2024-06-16T00:14:22.066Z"
   },
   {
    "duration": 29,
    "start_time": "2024-06-16T00:14:38.823Z"
   },
   {
    "duration": 11,
    "start_time": "2024-06-16T00:14:58.369Z"
   },
   {
    "duration": 7,
    "start_time": "2024-06-16T00:15:18.515Z"
   },
   {
    "duration": 44,
    "start_time": "2024-06-16T00:16:26.311Z"
   },
   {
    "duration": 38,
    "start_time": "2024-06-16T00:16:46.052Z"
   },
   {
    "duration": 48,
    "start_time": "2024-06-16T00:20:13.124Z"
   },
   {
    "duration": 152,
    "start_time": "2024-06-16T00:21:45.830Z"
   },
   {
    "duration": 138,
    "start_time": "2024-06-16T00:22:00.231Z"
   },
   {
    "duration": 140,
    "start_time": "2024-06-16T00:22:28.510Z"
   },
   {
    "duration": 1153,
    "start_time": "2024-06-16T00:23:19.878Z"
   },
   {
    "duration": 372,
    "start_time": "2024-06-16T00:23:21.035Z"
   },
   {
    "duration": 20,
    "start_time": "2024-06-16T00:23:21.409Z"
   },
   {
    "duration": 18,
    "start_time": "2024-06-16T00:23:21.433Z"
   },
   {
    "duration": 50,
    "start_time": "2024-06-16T00:23:21.456Z"
   },
   {
    "duration": 16,
    "start_time": "2024-06-16T00:23:21.509Z"
   },
   {
    "duration": 13,
    "start_time": "2024-06-16T00:23:21.528Z"
   },
   {
    "duration": 15,
    "start_time": "2024-06-16T00:23:21.544Z"
   },
   {
    "duration": 9,
    "start_time": "2024-06-16T00:23:21.601Z"
   },
   {
    "duration": 10,
    "start_time": "2024-06-16T00:23:21.617Z"
   },
   {
    "duration": 9,
    "start_time": "2024-06-16T00:23:21.631Z"
   },
   {
    "duration": 114,
    "start_time": "2024-06-16T00:23:21.644Z"
   },
   {
    "duration": 84,
    "start_time": "2024-06-16T00:23:21.761Z"
   },
   {
    "duration": 82,
    "start_time": "2024-06-16T00:23:21.848Z"
   },
   {
    "duration": 74,
    "start_time": "2024-06-16T00:23:21.933Z"
   },
   {
    "duration": 55,
    "start_time": "2024-06-16T00:23:22.010Z"
   },
   {
    "duration": 79,
    "start_time": "2024-06-16T00:23:22.069Z"
   },
   {
    "duration": 8,
    "start_time": "2024-06-16T00:23:22.150Z"
   },
   {
    "duration": 65,
    "start_time": "2024-06-16T00:23:22.161Z"
   },
   {
    "duration": 32,
    "start_time": "2024-06-16T00:23:22.229Z"
   },
   {
    "duration": 176,
    "start_time": "2024-06-16T00:23:22.264Z"
   },
   {
    "duration": 7,
    "start_time": "2024-06-16T00:23:22.442Z"
   },
   {
    "duration": 171,
    "start_time": "2024-06-16T00:23:22.452Z"
   },
   {
    "duration": 8,
    "start_time": "2024-06-16T00:23:22.708Z"
   },
   {
    "duration": 79,
    "start_time": "2024-06-16T00:23:22.724Z"
   },
   {
    "duration": 5,
    "start_time": "2024-06-16T00:23:22.806Z"
   },
   {
    "duration": 9,
    "start_time": "2024-06-16T00:23:22.814Z"
   },
   {
    "duration": 8,
    "start_time": "2024-06-16T00:23:22.830Z"
   },
   {
    "duration": 9,
    "start_time": "2024-06-16T00:23:22.841Z"
   },
   {
    "duration": 4,
    "start_time": "2024-06-16T00:23:22.902Z"
   },
   {
    "duration": 4,
    "start_time": "2024-06-16T00:23:22.910Z"
   },
   {
    "duration": 19,
    "start_time": "2024-06-16T00:23:22.918Z"
   },
   {
    "duration": 4,
    "start_time": "2024-06-16T00:23:22.940Z"
   },
   {
    "duration": 6,
    "start_time": "2024-06-16T00:23:22.947Z"
   },
   {
    "duration": 5,
    "start_time": "2024-06-16T00:23:23.003Z"
   },
   {
    "duration": 3924,
    "start_time": "2024-06-16T00:23:23.011Z"
   },
   {
    "duration": 3353,
    "start_time": "2024-06-16T00:23:26.938Z"
   },
   {
    "duration": 5,
    "start_time": "2024-06-16T00:23:30.301Z"
   },
   {
    "duration": 6,
    "start_time": "2024-06-16T00:23:30.309Z"
   },
   {
    "duration": 6,
    "start_time": "2024-06-16T00:23:30.318Z"
   },
   {
    "duration": 7,
    "start_time": "2024-06-16T00:23:30.327Z"
   },
   {
    "duration": 1158,
    "start_time": "2024-06-16T00:25:03.467Z"
   },
   {
    "duration": 395,
    "start_time": "2024-06-16T00:25:04.628Z"
   },
   {
    "duration": 23,
    "start_time": "2024-06-16T00:25:05.025Z"
   },
   {
    "duration": 18,
    "start_time": "2024-06-16T00:25:05.052Z"
   },
   {
    "duration": 44,
    "start_time": "2024-06-16T00:25:05.073Z"
   },
   {
    "duration": 17,
    "start_time": "2024-06-16T00:25:05.120Z"
   },
   {
    "duration": 14,
    "start_time": "2024-06-16T00:25:05.139Z"
   },
   {
    "duration": 51,
    "start_time": "2024-06-16T00:25:05.156Z"
   },
   {
    "duration": 9,
    "start_time": "2024-06-16T00:25:05.210Z"
   },
   {
    "duration": 7,
    "start_time": "2024-06-16T00:25:05.227Z"
   },
   {
    "duration": 10,
    "start_time": "2024-06-16T00:25:05.237Z"
   },
   {
    "duration": 119,
    "start_time": "2024-06-16T00:25:05.250Z"
   },
   {
    "duration": 80,
    "start_time": "2024-06-16T00:25:05.373Z"
   },
   {
    "duration": 90,
    "start_time": "2024-06-16T00:25:05.457Z"
   },
   {
    "duration": 71,
    "start_time": "2024-06-16T00:25:05.550Z"
   },
   {
    "duration": 55,
    "start_time": "2024-06-16T00:25:05.623Z"
   },
   {
    "duration": 64,
    "start_time": "2024-06-16T00:25:05.701Z"
   },
   {
    "duration": 10,
    "start_time": "2024-06-16T00:25:05.768Z"
   },
   {
    "duration": 54,
    "start_time": "2024-06-16T00:25:05.782Z"
   },
   {
    "duration": 193,
    "start_time": "2024-06-16T00:25:05.839Z"
   },
   {
    "duration": 8,
    "start_time": "2024-06-16T00:25:06.035Z"
   },
   {
    "duration": 173,
    "start_time": "2024-06-16T00:25:06.047Z"
   },
   {
    "duration": 79,
    "start_time": "2024-06-16T00:25:06.223Z"
   },
   {
    "duration": 5,
    "start_time": "2024-06-16T00:25:06.304Z"
   },
   {
    "duration": 5,
    "start_time": "2024-06-16T00:25:06.311Z"
   },
   {
    "duration": 83,
    "start_time": "2024-06-16T00:25:06.319Z"
   },
   {
    "duration": 10,
    "start_time": "2024-06-16T00:25:06.405Z"
   },
   {
    "duration": 8,
    "start_time": "2024-06-16T00:25:06.422Z"
   },
   {
    "duration": 5,
    "start_time": "2024-06-16T00:25:06.432Z"
   },
   {
    "duration": 6,
    "start_time": "2024-06-16T00:25:06.440Z"
   },
   {
    "duration": 72,
    "start_time": "2024-06-16T00:25:06.448Z"
   },
   {
    "duration": 5,
    "start_time": "2024-06-16T00:25:06.523Z"
   },
   {
    "duration": 4,
    "start_time": "2024-06-16T00:25:06.531Z"
   },
   {
    "duration": 5,
    "start_time": "2024-06-16T00:25:06.539Z"
   },
   {
    "duration": 3940,
    "start_time": "2024-06-16T00:25:06.547Z"
   },
   {
    "duration": 3235,
    "start_time": "2024-06-16T00:25:10.491Z"
   },
   {
    "duration": 5,
    "start_time": "2024-06-16T00:25:13.729Z"
   },
   {
    "duration": 6,
    "start_time": "2024-06-16T00:25:13.737Z"
   },
   {
    "duration": 5,
    "start_time": "2024-06-16T00:25:13.746Z"
   },
   {
    "duration": 46,
    "start_time": "2024-06-16T00:25:13.756Z"
   },
   {
    "duration": 36,
    "start_time": "2024-06-16T00:25:35.351Z"
   },
   {
    "duration": 100,
    "start_time": "2024-06-16T00:28:45.123Z"
   },
   {
    "duration": 158,
    "start_time": "2024-06-16T00:29:07.549Z"
   },
   {
    "duration": 120,
    "start_time": "2024-06-16T00:31:11.784Z"
   },
   {
    "duration": 109,
    "start_time": "2024-06-16T00:31:25.678Z"
   },
   {
    "duration": 98,
    "start_time": "2024-06-16T00:31:41.325Z"
   },
   {
    "duration": 431,
    "start_time": "2024-06-16T00:32:04.871Z"
   },
   {
    "duration": 85,
    "start_time": "2024-06-16T00:32:25.326Z"
   },
   {
    "duration": 52,
    "start_time": "2024-06-16T00:32:38.508Z"
   },
   {
    "duration": 104,
    "start_time": "2024-06-16T00:32:50.301Z"
   },
   {
    "duration": 99,
    "start_time": "2024-06-16T00:32:58.073Z"
   },
   {
    "duration": 101,
    "start_time": "2024-06-16T00:33:05.566Z"
   },
   {
    "duration": 100,
    "start_time": "2024-06-16T00:33:21.654Z"
   },
   {
    "duration": 1168,
    "start_time": "2024-06-16T00:33:57.760Z"
   },
   {
    "duration": 379,
    "start_time": "2024-06-16T00:33:58.932Z"
   },
   {
    "duration": 24,
    "start_time": "2024-06-16T00:33:59.314Z"
   },
   {
    "duration": 21,
    "start_time": "2024-06-16T00:33:59.343Z"
   },
   {
    "duration": 18,
    "start_time": "2024-06-16T00:33:59.401Z"
   },
   {
    "duration": 18,
    "start_time": "2024-06-16T00:33:59.422Z"
   },
   {
    "duration": 13,
    "start_time": "2024-06-16T00:33:59.443Z"
   },
   {
    "duration": 54,
    "start_time": "2024-06-16T00:33:59.459Z"
   },
   {
    "duration": 11,
    "start_time": "2024-06-16T00:33:59.515Z"
   },
   {
    "duration": 7,
    "start_time": "2024-06-16T00:33:59.532Z"
   },
   {
    "duration": 9,
    "start_time": "2024-06-16T00:33:59.542Z"
   },
   {
    "duration": 115,
    "start_time": "2024-06-16T00:33:59.554Z"
   },
   {
    "duration": 85,
    "start_time": "2024-06-16T00:33:59.672Z"
   },
   {
    "duration": 88,
    "start_time": "2024-06-16T00:33:59.760Z"
   },
   {
    "duration": 66,
    "start_time": "2024-06-16T00:33:59.852Z"
   },
   {
    "duration": 55,
    "start_time": "2024-06-16T00:33:59.921Z"
   },
   {
    "duration": 78,
    "start_time": "2024-06-16T00:33:59.980Z"
   },
   {
    "duration": 7,
    "start_time": "2024-06-16T00:34:00.061Z"
   },
   {
    "duration": 58,
    "start_time": "2024-06-16T00:34:00.071Z"
   },
   {
    "duration": 162,
    "start_time": "2024-06-16T00:34:00.132Z"
   },
   {
    "duration": 115,
    "start_time": "2024-06-16T00:34:00.302Z"
   },
   {
    "duration": 8,
    "start_time": "2024-06-16T00:34:00.421Z"
   },
   {
    "duration": 178,
    "start_time": "2024-06-16T00:34:00.434Z"
   },
   {
    "duration": 5,
    "start_time": "2024-06-16T00:34:00.615Z"
   },
   {
    "duration": 81,
    "start_time": "2024-06-16T00:34:00.624Z"
   },
   {
    "duration": 7,
    "start_time": "2024-06-16T00:34:00.710Z"
   },
   {
    "duration": 82,
    "start_time": "2024-06-16T00:34:00.721Z"
   },
   {
    "duration": 8,
    "start_time": "2024-06-16T00:34:00.810Z"
   },
   {
    "duration": 8,
    "start_time": "2024-06-16T00:34:00.822Z"
   },
   {
    "duration": 4,
    "start_time": "2024-06-16T00:34:00.833Z"
   },
   {
    "duration": 5,
    "start_time": "2024-06-16T00:34:00.840Z"
   },
   {
    "duration": 69,
    "start_time": "2024-06-16T00:34:00.848Z"
   },
   {
    "duration": 5,
    "start_time": "2024-06-16T00:34:00.920Z"
   },
   {
    "duration": 4,
    "start_time": "2024-06-16T00:34:00.928Z"
   },
   {
    "duration": 5,
    "start_time": "2024-06-16T00:34:00.935Z"
   },
   {
    "duration": 3233,
    "start_time": "2024-06-16T00:34:00.944Z"
   },
   {
    "duration": 3239,
    "start_time": "2024-06-16T00:34:04.180Z"
   },
   {
    "duration": 5,
    "start_time": "2024-06-16T00:34:07.422Z"
   },
   {
    "duration": 5,
    "start_time": "2024-06-16T00:34:07.430Z"
   },
   {
    "duration": 5,
    "start_time": "2024-06-16T00:34:07.439Z"
   },
   {
    "duration": 8,
    "start_time": "2024-06-16T00:34:07.503Z"
   },
   {
    "duration": 100,
    "start_time": "2024-06-16T00:34:57.718Z"
   },
   {
    "duration": 103,
    "start_time": "2024-06-16T00:35:13.898Z"
   },
   {
    "duration": 1265,
    "start_time": "2024-06-16T00:35:25.843Z"
   },
   {
    "duration": 520,
    "start_time": "2024-06-16T00:35:27.113Z"
   },
   {
    "duration": 28,
    "start_time": "2024-06-16T00:35:27.636Z"
   },
   {
    "duration": 37,
    "start_time": "2024-06-16T00:35:27.671Z"
   },
   {
    "duration": 20,
    "start_time": "2024-06-16T00:35:27.710Z"
   },
   {
    "duration": 18,
    "start_time": "2024-06-16T00:35:27.734Z"
   },
   {
    "duration": 55,
    "start_time": "2024-06-16T00:35:27.755Z"
   },
   {
    "duration": 13,
    "start_time": "2024-06-16T00:35:27.815Z"
   },
   {
    "duration": 10,
    "start_time": "2024-06-16T00:35:27.831Z"
   },
   {
    "duration": 11,
    "start_time": "2024-06-16T00:35:27.848Z"
   },
   {
    "duration": 9,
    "start_time": "2024-06-16T00:35:27.903Z"
   },
   {
    "duration": 101,
    "start_time": "2024-06-16T00:35:27.916Z"
   },
   {
    "duration": 85,
    "start_time": "2024-06-16T00:35:28.021Z"
   },
   {
    "duration": 114,
    "start_time": "2024-06-16T00:35:28.110Z"
   },
   {
    "duration": 100,
    "start_time": "2024-06-16T00:35:28.234Z"
   },
   {
    "duration": 70,
    "start_time": "2024-06-16T00:35:28.337Z"
   },
   {
    "duration": 69,
    "start_time": "2024-06-16T00:35:28.410Z"
   },
   {
    "duration": 10,
    "start_time": "2024-06-16T00:35:28.501Z"
   },
   {
    "duration": 40,
    "start_time": "2024-06-16T00:35:28.517Z"
   },
   {
    "duration": 190,
    "start_time": "2024-06-16T00:35:28.561Z"
   },
   {
    "duration": 120,
    "start_time": "2024-06-16T00:35:28.754Z"
   },
   {
    "duration": 8,
    "start_time": "2024-06-16T00:35:28.877Z"
   },
   {
    "duration": 320,
    "start_time": "2024-06-16T00:35:28.903Z"
   },
   {
    "duration": 80,
    "start_time": "2024-06-16T00:35:29.226Z"
   },
   {
    "duration": 5,
    "start_time": "2024-06-16T00:35:29.309Z"
   },
   {
    "duration": 4,
    "start_time": "2024-06-16T00:35:29.317Z"
   },
   {
    "duration": 77,
    "start_time": "2024-06-16T00:35:29.324Z"
   },
   {
    "duration": 10,
    "start_time": "2024-06-16T00:35:29.412Z"
   },
   {
    "duration": 10,
    "start_time": "2024-06-16T00:35:29.426Z"
   },
   {
    "duration": 5,
    "start_time": "2024-06-16T00:35:29.439Z"
   },
   {
    "duration": 53,
    "start_time": "2024-06-16T00:35:29.448Z"
   },
   {
    "duration": 20,
    "start_time": "2024-06-16T00:35:29.505Z"
   },
   {
    "duration": 5,
    "start_time": "2024-06-16T00:35:29.528Z"
   },
   {
    "duration": 5,
    "start_time": "2024-06-16T00:35:29.536Z"
   },
   {
    "duration": 6,
    "start_time": "2024-06-16T00:35:29.544Z"
   },
   {
    "duration": 3350,
    "start_time": "2024-06-16T00:35:29.602Z"
   },
   {
    "duration": 3207,
    "start_time": "2024-06-16T00:35:32.955Z"
   },
   {
    "duration": 6,
    "start_time": "2024-06-16T00:35:36.164Z"
   },
   {
    "duration": 6,
    "start_time": "2024-06-16T00:35:36.173Z"
   },
   {
    "duration": 10,
    "start_time": "2024-06-16T00:35:36.203Z"
   },
   {
    "duration": 6,
    "start_time": "2024-06-16T00:35:36.218Z"
   },
   {
    "duration": 1224,
    "start_time": "2024-06-16T00:37:36.305Z"
   },
   {
    "duration": 383,
    "start_time": "2024-06-16T00:37:37.533Z"
   },
   {
    "duration": 21,
    "start_time": "2024-06-16T00:37:37.919Z"
   },
   {
    "duration": 20,
    "start_time": "2024-06-16T00:37:37.945Z"
   },
   {
    "duration": 48,
    "start_time": "2024-06-16T00:37:37.968Z"
   },
   {
    "duration": 18,
    "start_time": "2024-06-16T00:37:38.018Z"
   },
   {
    "duration": 13,
    "start_time": "2024-06-16T00:37:38.038Z"
   },
   {
    "duration": 49,
    "start_time": "2024-06-16T00:37:38.054Z"
   },
   {
    "duration": 10,
    "start_time": "2024-06-16T00:37:38.107Z"
   },
   {
    "duration": 9,
    "start_time": "2024-06-16T00:37:38.125Z"
   },
   {
    "duration": 8,
    "start_time": "2024-06-16T00:37:38.137Z"
   },
   {
    "duration": 129,
    "start_time": "2024-06-16T00:37:38.153Z"
   },
   {
    "duration": 76,
    "start_time": "2024-06-16T00:37:38.286Z"
   },
   {
    "duration": 88,
    "start_time": "2024-06-16T00:37:38.365Z"
   },
   {
    "duration": 73,
    "start_time": "2024-06-16T00:37:38.456Z"
   },
   {
    "duration": 72,
    "start_time": "2024-06-16T00:37:38.532Z"
   },
   {
    "duration": 59,
    "start_time": "2024-06-16T00:37:38.607Z"
   },
   {
    "duration": 8,
    "start_time": "2024-06-16T00:37:38.669Z"
   },
   {
    "duration": 39,
    "start_time": "2024-06-16T00:37:38.702Z"
   },
   {
    "duration": 176,
    "start_time": "2024-06-16T00:37:38.744Z"
   },
   {
    "duration": 110,
    "start_time": "2024-06-16T00:37:38.923Z"
   },
   {
    "duration": 6,
    "start_time": "2024-06-16T00:37:39.036Z"
   },
   {
    "duration": 170,
    "start_time": "2024-06-16T00:37:39.046Z"
   },
   {
    "duration": 6,
    "start_time": "2024-06-16T00:37:39.218Z"
   },
   {
    "duration": 6,
    "start_time": "2024-06-16T00:37:39.303Z"
   },
   {
    "duration": 5,
    "start_time": "2024-06-16T00:37:39.312Z"
   },
   {
    "duration": 85,
    "start_time": "2024-06-16T00:37:39.319Z"
   },
   {
    "duration": 7,
    "start_time": "2024-06-16T00:37:39.412Z"
   },
   {
    "duration": 8,
    "start_time": "2024-06-16T00:37:39.423Z"
   },
   {
    "duration": 4,
    "start_time": "2024-06-16T00:37:39.434Z"
   },
   {
    "duration": 4,
    "start_time": "2024-06-16T00:37:39.441Z"
   },
   {
    "duration": 67,
    "start_time": "2024-06-16T00:37:39.448Z"
   },
   {
    "duration": 5,
    "start_time": "2024-06-16T00:37:39.518Z"
   },
   {
    "duration": 5,
    "start_time": "2024-06-16T00:37:39.526Z"
   },
   {
    "duration": 6,
    "start_time": "2024-06-16T00:37:39.535Z"
   },
   {
    "duration": 3277,
    "start_time": "2024-06-16T00:37:39.544Z"
   },
   {
    "duration": 3231,
    "start_time": "2024-06-16T00:37:42.824Z"
   },
   {
    "duration": 6,
    "start_time": "2024-06-16T00:37:46.061Z"
   },
   {
    "duration": 5,
    "start_time": "2024-06-16T00:37:46.070Z"
   },
   {
    "duration": 28,
    "start_time": "2024-06-16T00:37:46.078Z"
   },
   {
    "duration": 8,
    "start_time": "2024-06-16T00:37:46.113Z"
   },
   {
    "duration": 159,
    "start_time": "2024-06-16T00:38:28.689Z"
   },
   {
    "duration": 37,
    "start_time": "2024-06-16T00:38:42.433Z"
   },
   {
    "duration": 7,
    "start_time": "2024-06-16T00:38:59.110Z"
   },
   {
    "duration": 1225,
    "start_time": "2024-06-16T00:39:41.781Z"
   },
   {
    "duration": 380,
    "start_time": "2024-06-16T00:39:43.010Z"
   },
   {
    "duration": 25,
    "start_time": "2024-06-16T00:39:43.393Z"
   },
   {
    "duration": 18,
    "start_time": "2024-06-16T00:39:43.422Z"
   },
   {
    "duration": 17,
    "start_time": "2024-06-16T00:39:43.443Z"
   },
   {
    "duration": 52,
    "start_time": "2024-06-16T00:39:43.463Z"
   },
   {
    "duration": 12,
    "start_time": "2024-06-16T00:39:43.519Z"
   },
   {
    "duration": 12,
    "start_time": "2024-06-16T00:39:43.534Z"
   },
   {
    "duration": 10,
    "start_time": "2024-06-16T00:39:43.549Z"
   },
   {
    "duration": 8,
    "start_time": "2024-06-16T00:39:43.606Z"
   },
   {
    "duration": 8,
    "start_time": "2024-06-16T00:39:43.617Z"
   },
   {
    "duration": 104,
    "start_time": "2024-06-16T00:39:43.629Z"
   },
   {
    "duration": 82,
    "start_time": "2024-06-16T00:39:43.736Z"
   },
   {
    "duration": 82,
    "start_time": "2024-06-16T00:39:43.821Z"
   },
   {
    "duration": 59,
    "start_time": "2024-06-16T00:39:43.906Z"
   },
   {
    "duration": 75,
    "start_time": "2024-06-16T00:39:43.967Z"
   },
   {
    "duration": 75,
    "start_time": "2024-06-16T00:39:44.045Z"
   },
   {
    "duration": 8,
    "start_time": "2024-06-16T00:39:44.123Z"
   },
   {
    "duration": 67,
    "start_time": "2024-06-16T00:39:44.135Z"
   },
   {
    "duration": 166,
    "start_time": "2024-06-16T00:39:44.205Z"
   },
   {
    "duration": 111,
    "start_time": "2024-06-16T00:39:44.377Z"
   },
   {
    "duration": 6,
    "start_time": "2024-06-16T00:39:44.501Z"
   },
   {
    "duration": 200,
    "start_time": "2024-06-16T00:39:44.510Z"
   },
   {
    "duration": 4,
    "start_time": "2024-06-16T00:39:44.713Z"
   },
   {
    "duration": 82,
    "start_time": "2024-06-16T00:39:44.720Z"
   },
   {
    "duration": 5,
    "start_time": "2024-06-16T00:39:44.804Z"
   },
   {
    "duration": 13,
    "start_time": "2024-06-16T00:39:44.811Z"
   },
   {
    "duration": 10,
    "start_time": "2024-06-16T00:39:44.909Z"
   },
   {
    "duration": 9,
    "start_time": "2024-06-16T00:39:44.922Z"
   },
   {
    "duration": 4,
    "start_time": "2024-06-16T00:39:44.934Z"
   },
   {
    "duration": 5,
    "start_time": "2024-06-16T00:39:44.941Z"
   },
   {
    "duration": 67,
    "start_time": "2024-06-16T00:39:44.949Z"
   },
   {
    "duration": 5,
    "start_time": "2024-06-16T00:39:45.018Z"
   },
   {
    "duration": 5,
    "start_time": "2024-06-16T00:39:45.026Z"
   },
   {
    "duration": 5,
    "start_time": "2024-06-16T00:39:45.034Z"
   },
   {
    "duration": 3306,
    "start_time": "2024-06-16T00:39:45.042Z"
   },
   {
    "duration": 3178,
    "start_time": "2024-06-16T00:39:48.351Z"
   },
   {
    "duration": 5,
    "start_time": "2024-06-16T00:39:51.532Z"
   },
   {
    "duration": 5,
    "start_time": "2024-06-16T00:39:51.540Z"
   },
   {
    "duration": 6,
    "start_time": "2024-06-16T00:39:51.549Z"
   },
   {
    "duration": 48,
    "start_time": "2024-06-16T00:39:51.558Z"
   },
   {
    "duration": 1187,
    "start_time": "2024-06-19T02:48:57.798Z"
   },
   {
    "duration": 512,
    "start_time": "2024-06-19T02:48:58.989Z"
   },
   {
    "duration": 21,
    "start_time": "2024-06-19T02:48:59.504Z"
   },
   {
    "duration": 22,
    "start_time": "2024-06-19T02:48:59.534Z"
   },
   {
    "duration": 23,
    "start_time": "2024-06-19T02:48:59.559Z"
   },
   {
    "duration": 53,
    "start_time": "2024-06-19T02:48:59.586Z"
   },
   {
    "duration": 15,
    "start_time": "2024-06-19T02:48:59.642Z"
   },
   {
    "duration": 15,
    "start_time": "2024-06-19T02:48:59.660Z"
   },
   {
    "duration": 16,
    "start_time": "2024-06-19T02:49:00.760Z"
   },
   {
    "duration": 9,
    "start_time": "2024-06-19T02:49:00.802Z"
   },
   {
    "duration": 9,
    "start_time": "2024-06-19T02:49:00.865Z"
   },
   {
    "duration": 83,
    "start_time": "2024-06-19T02:49:01.917Z"
   },
   {
    "duration": 88,
    "start_time": "2024-06-19T02:49:02.003Z"
   },
   {
    "duration": 73,
    "start_time": "2024-06-19T02:49:02.685Z"
   },
   {
    "duration": 59,
    "start_time": "2024-06-19T02:49:03.389Z"
   },
   {
    "duration": 56,
    "start_time": "2024-06-19T02:49:03.461Z"
   },
   {
    "duration": 61,
    "start_time": "2024-06-19T02:49:04.847Z"
   },
   {
    "duration": 7,
    "start_time": "2024-06-19T02:49:06.809Z"
   },
   {
    "duration": 37,
    "start_time": "2024-06-19T02:49:07.599Z"
   },
   {
    "duration": 143,
    "start_time": "2024-06-19T02:49:09.079Z"
   },
   {
    "duration": 121,
    "start_time": "2024-06-19T02:49:10.431Z"
   },
   {
    "duration": 18,
    "start_time": "2024-06-19T02:49:12.983Z"
   },
   {
    "duration": 120,
    "start_time": "2024-06-19T02:49:15.734Z"
   },
   {
    "duration": 4,
    "start_time": "2024-06-19T02:49:16.481Z"
   },
   {
    "duration": 5,
    "start_time": "2024-06-19T02:49:18.869Z"
   },
   {
    "duration": 4,
    "start_time": "2024-06-19T02:49:19.517Z"
   },
   {
    "duration": 9,
    "start_time": "2024-06-19T02:49:23.166Z"
   },
   {
    "duration": 10,
    "start_time": "2024-06-19T02:49:24.039Z"
   },
   {
    "duration": 7,
    "start_time": "2024-06-19T02:49:24.312Z"
   },
   {
    "duration": 4,
    "start_time": "2024-06-19T02:49:26.587Z"
   },
   {
    "duration": 7,
    "start_time": "2024-06-19T02:49:28.284Z"
   },
   {
    "duration": 18,
    "start_time": "2024-06-19T02:49:30.763Z"
   },
   {
    "duration": 5,
    "start_time": "2024-06-19T02:50:12.348Z"
   },
   {
    "duration": 4,
    "start_time": "2024-06-19T02:50:12.562Z"
   },
   {
    "duration": 4,
    "start_time": "2024-06-19T02:50:12.697Z"
   },
   {
    "duration": 3384,
    "start_time": "2024-06-19T02:50:39.049Z"
   },
   {
    "duration": 3464,
    "start_time": "2024-06-19T02:50:47.992Z"
   },
   {
    "duration": 2867,
    "start_time": "2024-06-19T02:51:49.553Z"
   },
   {
    "duration": 2891,
    "start_time": "2024-06-19T02:51:54.308Z"
   },
   {
    "duration": 3268,
    "start_time": "2024-06-19T02:55:08.134Z"
   },
   {
    "duration": 3261,
    "start_time": "2024-06-19T02:55:16.514Z"
   },
   {
    "duration": 4,
    "start_time": "2024-06-19T02:55:19.779Z"
   },
   {
    "duration": 5,
    "start_time": "2024-06-19T02:55:19.786Z"
   },
   {
    "duration": 6,
    "start_time": "2024-06-19T02:55:19.796Z"
   },
   {
    "duration": 1234,
    "start_time": "2024-06-19T06:25:33.883Z"
   },
   {
    "duration": 467,
    "start_time": "2024-06-19T06:25:35.121Z"
   },
   {
    "duration": 21,
    "start_time": "2024-06-19T06:25:35.590Z"
   },
   {
    "duration": 19,
    "start_time": "2024-06-19T06:25:35.615Z"
   },
   {
    "duration": 19,
    "start_time": "2024-06-19T06:25:35.637Z"
   },
   {
    "duration": 53,
    "start_time": "2024-06-19T06:25:35.659Z"
   },
   {
    "duration": 12,
    "start_time": "2024-06-19T06:25:35.715Z"
   },
   {
    "duration": 13,
    "start_time": "2024-06-19T06:25:35.730Z"
   },
   {
    "duration": 10,
    "start_time": "2024-06-19T06:25:35.746Z"
   },
   {
    "duration": 45,
    "start_time": "2024-06-19T06:25:35.761Z"
   },
   {
    "duration": 8,
    "start_time": "2024-06-19T06:25:35.809Z"
   },
   {
    "duration": 111,
    "start_time": "2024-06-19T06:25:35.821Z"
   },
   {
    "duration": 92,
    "start_time": "2024-06-19T06:25:35.936Z"
   },
   {
    "duration": 85,
    "start_time": "2024-06-19T06:25:36.031Z"
   },
   {
    "duration": 68,
    "start_time": "2024-06-19T06:25:36.119Z"
   },
   {
    "duration": 61,
    "start_time": "2024-06-19T06:25:36.204Z"
   },
   {
    "duration": 78,
    "start_time": "2024-06-19T06:25:36.269Z"
   },
   {
    "duration": 8,
    "start_time": "2024-06-19T06:25:36.350Z"
   },
   {
    "duration": 68,
    "start_time": "2024-06-19T06:25:36.362Z"
   },
   {
    "duration": 160,
    "start_time": "2024-06-19T06:25:36.433Z"
   },
   {
    "duration": 115,
    "start_time": "2024-06-19T06:25:36.601Z"
   },
   {
    "duration": 6,
    "start_time": "2024-06-19T06:25:36.719Z"
   },
   {
    "duration": 192,
    "start_time": "2024-06-19T06:25:36.729Z"
   },
   {
    "duration": 79,
    "start_time": "2024-06-19T06:25:36.925Z"
   },
   {
    "duration": 5,
    "start_time": "2024-06-19T06:25:37.007Z"
   },
   {
    "duration": 6,
    "start_time": "2024-06-19T06:25:37.015Z"
   },
   {
    "duration": 82,
    "start_time": "2024-06-19T06:25:37.023Z"
   },
   {
    "duration": 7,
    "start_time": "2024-06-19T06:25:37.112Z"
   },
   {
    "duration": 8,
    "start_time": "2024-06-19T06:25:37.123Z"
   },
   {
    "duration": 4,
    "start_time": "2024-06-19T06:25:37.134Z"
   },
   {
    "duration": 6,
    "start_time": "2024-06-19T06:25:37.140Z"
   },
   {
    "duration": 69,
    "start_time": "2024-06-19T06:25:37.149Z"
   },
   {
    "duration": 5,
    "start_time": "2024-06-19T06:25:37.222Z"
   },
   {
    "duration": 6,
    "start_time": "2024-06-19T06:25:37.231Z"
   },
   {
    "duration": 5,
    "start_time": "2024-06-19T06:25:37.241Z"
   },
   {
    "duration": 1046,
    "start_time": "2024-06-19T06:25:37.250Z"
   },
   {
    "duration": 0,
    "start_time": "2024-06-19T06:25:38.303Z"
   },
   {
    "duration": 0,
    "start_time": "2024-06-19T06:25:38.305Z"
   },
   {
    "duration": 0,
    "start_time": "2024-06-19T06:25:38.308Z"
   },
   {
    "duration": 0,
    "start_time": "2024-06-19T06:25:38.310Z"
   },
   {
    "duration": 0,
    "start_time": "2024-06-19T06:25:38.312Z"
   },
   {
    "duration": 1185,
    "start_time": "2024-06-19T06:26:01.627Z"
   },
   {
    "duration": 378,
    "start_time": "2024-06-19T06:26:02.815Z"
   },
   {
    "duration": 21,
    "start_time": "2024-06-19T06:26:03.195Z"
   },
   {
    "duration": 20,
    "start_time": "2024-06-19T06:26:03.219Z"
   },
   {
    "duration": 18,
    "start_time": "2024-06-19T06:26:03.242Z"
   },
   {
    "duration": 54,
    "start_time": "2024-06-19T06:26:03.263Z"
   },
   {
    "duration": 14,
    "start_time": "2024-06-19T06:26:03.324Z"
   },
   {
    "duration": 13,
    "start_time": "2024-06-19T06:26:03.340Z"
   },
   {
    "duration": 46,
    "start_time": "2024-06-19T06:26:03.357Z"
   },
   {
    "duration": 7,
    "start_time": "2024-06-19T06:26:03.409Z"
   },
   {
    "duration": 9,
    "start_time": "2024-06-19T06:26:03.419Z"
   },
   {
    "duration": 107,
    "start_time": "2024-06-19T06:26:03.431Z"
   },
   {
    "duration": 85,
    "start_time": "2024-06-19T06:26:03.541Z"
   },
   {
    "duration": 84,
    "start_time": "2024-06-19T06:26:03.630Z"
   },
   {
    "duration": 60,
    "start_time": "2024-06-19T06:26:03.716Z"
   },
   {
    "duration": 76,
    "start_time": "2024-06-19T06:26:03.778Z"
   },
   {
    "duration": 78,
    "start_time": "2024-06-19T06:26:03.857Z"
   },
   {
    "duration": 8,
    "start_time": "2024-06-19T06:26:03.937Z"
   },
   {
    "duration": 63,
    "start_time": "2024-06-19T06:26:03.949Z"
   },
   {
    "duration": 167,
    "start_time": "2024-06-19T06:26:04.015Z"
   },
   {
    "duration": 121,
    "start_time": "2024-06-19T06:26:04.185Z"
   },
   {
    "duration": 7,
    "start_time": "2024-06-19T06:26:04.310Z"
   },
   {
    "duration": 295,
    "start_time": "2024-06-19T06:26:04.321Z"
   },
   {
    "duration": 12,
    "start_time": "2024-06-19T06:26:04.620Z"
   },
   {
    "duration": 74,
    "start_time": "2024-06-19T06:26:04.638Z"
   },
   {
    "duration": 9,
    "start_time": "2024-06-19T06:26:04.718Z"
   },
   {
    "duration": 72,
    "start_time": "2024-06-19T06:26:04.730Z"
   },
   {
    "duration": 8,
    "start_time": "2024-06-19T06:26:04.809Z"
   },
   {
    "duration": 9,
    "start_time": "2024-06-19T06:26:04.820Z"
   },
   {
    "duration": 4,
    "start_time": "2024-06-19T06:26:04.832Z"
   },
   {
    "duration": 4,
    "start_time": "2024-06-19T06:26:04.841Z"
   },
   {
    "duration": 64,
    "start_time": "2024-06-19T06:26:04.851Z"
   },
   {
    "duration": 6,
    "start_time": "2024-06-19T06:26:04.918Z"
   },
   {
    "duration": 4,
    "start_time": "2024-06-19T06:26:04.928Z"
   },
   {
    "duration": 6,
    "start_time": "2024-06-19T06:26:04.936Z"
   },
   {
    "duration": 3283,
    "start_time": "2024-06-19T06:26:04.945Z"
   },
   {
    "duration": 3169,
    "start_time": "2024-06-19T06:26:08.232Z"
   },
   {
    "duration": 5,
    "start_time": "2024-06-19T06:26:11.405Z"
   },
   {
    "duration": 6,
    "start_time": "2024-06-19T06:26:11.413Z"
   },
   {
    "duration": 5,
    "start_time": "2024-06-19T06:26:11.424Z"
   },
   {
    "duration": 6,
    "start_time": "2024-06-19T06:26:11.433Z"
   },
   {
    "duration": 1199,
    "start_time": "2024-06-19T06:32:08.125Z"
   },
   {
    "duration": 364,
    "start_time": "2024-06-19T06:32:09.327Z"
   },
   {
    "duration": 26,
    "start_time": "2024-06-19T06:32:09.694Z"
   },
   {
    "duration": 19,
    "start_time": "2024-06-19T06:32:09.724Z"
   },
   {
    "duration": 57,
    "start_time": "2024-06-19T06:32:09.746Z"
   },
   {
    "duration": 16,
    "start_time": "2024-06-19T06:32:09.805Z"
   },
   {
    "duration": 13,
    "start_time": "2024-06-19T06:32:09.824Z"
   },
   {
    "duration": 13,
    "start_time": "2024-06-19T06:32:09.840Z"
   },
   {
    "duration": 52,
    "start_time": "2024-06-19T06:32:09.856Z"
   },
   {
    "duration": 8,
    "start_time": "2024-06-19T06:32:09.915Z"
   },
   {
    "duration": 8,
    "start_time": "2024-06-19T06:32:09.926Z"
   },
   {
    "duration": 110,
    "start_time": "2024-06-19T06:32:09.938Z"
   },
   {
    "duration": 84,
    "start_time": "2024-06-19T06:32:10.052Z"
   },
   {
    "duration": 88,
    "start_time": "2024-06-19T06:32:10.139Z"
   },
   {
    "duration": 72,
    "start_time": "2024-06-19T06:32:10.230Z"
   },
   {
    "duration": 54,
    "start_time": "2024-06-19T06:32:10.305Z"
   },
   {
    "duration": 86,
    "start_time": "2024-06-19T06:32:10.362Z"
   },
   {
    "duration": 8,
    "start_time": "2024-06-19T06:32:10.451Z"
   },
   {
    "duration": 66,
    "start_time": "2024-06-19T06:32:10.463Z"
   },
   {
    "duration": 161,
    "start_time": "2024-06-19T06:32:10.532Z"
   },
   {
    "duration": 112,
    "start_time": "2024-06-19T06:32:10.703Z"
   },
   {
    "duration": 10,
    "start_time": "2024-06-19T06:32:10.821Z"
   },
   {
    "duration": 181,
    "start_time": "2024-06-19T06:32:10.838Z"
   },
   {
    "duration": 82,
    "start_time": "2024-06-19T06:32:11.022Z"
   },
   {
    "duration": 8,
    "start_time": "2024-06-19T06:32:11.109Z"
   },
   {
    "duration": 79,
    "start_time": "2024-06-19T06:32:11.124Z"
   },
   {
    "duration": 8,
    "start_time": "2024-06-19T06:32:11.206Z"
   },
   {
    "duration": 8,
    "start_time": "2024-06-19T06:32:11.221Z"
   },
   {
    "duration": 8,
    "start_time": "2024-06-19T06:32:11.231Z"
   },
   {
    "duration": 4,
    "start_time": "2024-06-19T06:32:11.243Z"
   },
   {
    "duration": 53,
    "start_time": "2024-06-19T06:32:11.250Z"
   },
   {
    "duration": 21,
    "start_time": "2024-06-19T06:32:11.305Z"
   },
   {
    "duration": 5,
    "start_time": "2024-06-19T06:32:11.329Z"
   },
   {
    "duration": 5,
    "start_time": "2024-06-19T06:32:11.337Z"
   },
   {
    "duration": 5,
    "start_time": "2024-06-19T06:32:11.344Z"
   },
   {
    "duration": 2446,
    "start_time": "2024-06-19T06:32:11.352Z"
   },
   {
    "duration": 2419,
    "start_time": "2024-06-19T06:32:13.803Z"
   },
   {
    "duration": 5,
    "start_time": "2024-06-19T06:32:16.225Z"
   },
   {
    "duration": 5,
    "start_time": "2024-06-19T06:32:16.233Z"
   },
   {
    "duration": 6,
    "start_time": "2024-06-19T06:32:16.241Z"
   },
   {
    "duration": 8,
    "start_time": "2024-06-19T06:32:16.251Z"
   },
   {
    "duration": 1183,
    "start_time": "2024-06-19T06:38:24.246Z"
   },
   {
    "duration": 382,
    "start_time": "2024-06-19T06:38:25.433Z"
   },
   {
    "duration": 21,
    "start_time": "2024-06-19T06:38:25.821Z"
   },
   {
    "duration": 18,
    "start_time": "2024-06-19T06:38:25.846Z"
   },
   {
    "duration": 41,
    "start_time": "2024-06-19T06:38:25.867Z"
   },
   {
    "duration": 18,
    "start_time": "2024-06-19T06:38:25.911Z"
   },
   {
    "duration": 17,
    "start_time": "2024-06-19T06:38:25.932Z"
   },
   {
    "duration": 54,
    "start_time": "2024-06-19T06:38:25.952Z"
   },
   {
    "duration": 10,
    "start_time": "2024-06-19T06:38:26.010Z"
   },
   {
    "duration": 7,
    "start_time": "2024-06-19T06:38:26.026Z"
   },
   {
    "duration": 9,
    "start_time": "2024-06-19T06:38:26.036Z"
   },
   {
    "duration": 122,
    "start_time": "2024-06-19T06:38:26.048Z"
   },
   {
    "duration": 82,
    "start_time": "2024-06-19T06:38:26.174Z"
   },
   {
    "duration": 101,
    "start_time": "2024-06-19T06:38:26.259Z"
   },
   {
    "duration": 72,
    "start_time": "2024-06-19T06:38:26.363Z"
   },
   {
    "duration": 69,
    "start_time": "2024-06-19T06:38:26.438Z"
   },
   {
    "duration": 61,
    "start_time": "2024-06-19T06:38:26.511Z"
   },
   {
    "duration": 27,
    "start_time": "2024-06-19T06:38:26.575Z"
   },
   {
    "duration": 39,
    "start_time": "2024-06-19T06:38:26.606Z"
   },
   {
    "duration": 187,
    "start_time": "2024-06-19T06:38:26.649Z"
   },
   {
    "duration": 110,
    "start_time": "2024-06-19T06:38:26.839Z"
   },
   {
    "duration": 10,
    "start_time": "2024-06-19T06:38:26.952Z"
   },
   {
    "duration": 160,
    "start_time": "2024-06-19T06:38:26.964Z"
   },
   {
    "duration": 5,
    "start_time": "2024-06-19T06:38:27.202Z"
   },
   {
    "duration": 4,
    "start_time": "2024-06-19T06:38:27.210Z"
   },
   {
    "duration": 5,
    "start_time": "2024-06-19T06:38:27.218Z"
   },
   {
    "duration": 83,
    "start_time": "2024-06-19T06:38:27.225Z"
   },
   {
    "duration": 7,
    "start_time": "2024-06-19T06:38:27.316Z"
   },
   {
    "duration": 8,
    "start_time": "2024-06-19T06:38:27.327Z"
   },
   {
    "duration": 4,
    "start_time": "2024-06-19T06:38:27.338Z"
   },
   {
    "duration": 6,
    "start_time": "2024-06-19T06:38:27.345Z"
   },
   {
    "duration": 19,
    "start_time": "2024-06-19T06:38:27.402Z"
   },
   {
    "duration": 4,
    "start_time": "2024-06-19T06:38:27.424Z"
   },
   {
    "duration": 5,
    "start_time": "2024-06-19T06:38:27.432Z"
   },
   {
    "duration": 6,
    "start_time": "2024-06-19T06:38:27.440Z"
   },
   {
    "duration": 2476,
    "start_time": "2024-06-19T06:38:27.449Z"
   },
   {
    "duration": 2399,
    "start_time": "2024-06-19T06:38:29.928Z"
   },
   {
    "duration": 5,
    "start_time": "2024-06-19T06:38:32.330Z"
   },
   {
    "duration": 6,
    "start_time": "2024-06-19T06:38:32.338Z"
   },
   {
    "duration": 6,
    "start_time": "2024-06-19T06:38:32.347Z"
   },
   {
    "duration": 48,
    "start_time": "2024-06-19T06:38:32.356Z"
   },
   {
    "duration": 7,
    "start_time": "2024-06-19T06:38:32.407Z"
   },
   {
    "duration": 7,
    "start_time": "2024-06-19T06:38:32.418Z"
   },
   {
    "duration": 1210,
    "start_time": "2024-06-19T06:40:19.001Z"
   },
   {
    "duration": 374,
    "start_time": "2024-06-19T06:40:20.214Z"
   },
   {
    "duration": 26,
    "start_time": "2024-06-19T06:40:20.590Z"
   },
   {
    "duration": 18,
    "start_time": "2024-06-19T06:40:20.620Z"
   },
   {
    "duration": 18,
    "start_time": "2024-06-19T06:40:20.641Z"
   },
   {
    "duration": 48,
    "start_time": "2024-06-19T06:40:20.662Z"
   },
   {
    "duration": 13,
    "start_time": "2024-06-19T06:40:20.714Z"
   },
   {
    "duration": 14,
    "start_time": "2024-06-19T06:40:20.730Z"
   },
   {
    "duration": 10,
    "start_time": "2024-06-19T06:40:20.747Z"
   },
   {
    "duration": 8,
    "start_time": "2024-06-19T06:40:20.808Z"
   },
   {
    "duration": 21,
    "start_time": "2024-06-19T06:40:20.819Z"
   },
   {
    "duration": 98,
    "start_time": "2024-06-19T06:40:20.843Z"
   },
   {
    "duration": 80,
    "start_time": "2024-06-19T06:40:20.945Z"
   },
   {
    "duration": 83,
    "start_time": "2024-06-19T06:40:21.028Z"
   },
   {
    "duration": 59,
    "start_time": "2024-06-19T06:40:21.114Z"
   },
   {
    "duration": 75,
    "start_time": "2024-06-19T06:40:21.176Z"
   },
   {
    "duration": 79,
    "start_time": "2024-06-19T06:40:21.255Z"
   },
   {
    "duration": 8,
    "start_time": "2024-06-19T06:40:21.337Z"
   },
   {
    "duration": 59,
    "start_time": "2024-06-19T06:40:21.349Z"
   },
   {
    "duration": 157,
    "start_time": "2024-06-19T06:40:21.411Z"
   },
   {
    "duration": 117,
    "start_time": "2024-06-19T06:40:21.571Z"
   },
   {
    "duration": 7,
    "start_time": "2024-06-19T06:40:21.703Z"
   },
   {
    "duration": 192,
    "start_time": "2024-06-19T06:40:21.713Z"
   },
   {
    "duration": 4,
    "start_time": "2024-06-19T06:40:21.908Z"
   },
   {
    "duration": 4,
    "start_time": "2024-06-19T06:40:21.915Z"
   },
   {
    "duration": 80,
    "start_time": "2024-06-19T06:40:21.922Z"
   },
   {
    "duration": 8,
    "start_time": "2024-06-19T06:40:22.005Z"
   },
   {
    "duration": 82,
    "start_time": "2024-06-19T06:40:22.020Z"
   },
   {
    "duration": 9,
    "start_time": "2024-06-19T06:40:22.104Z"
   },
   {
    "duration": 4,
    "start_time": "2024-06-19T06:40:22.116Z"
   },
   {
    "duration": 5,
    "start_time": "2024-06-19T06:40:22.123Z"
   },
   {
    "duration": 18,
    "start_time": "2024-06-19T06:40:22.131Z"
   },
   {
    "duration": 47,
    "start_time": "2024-06-19T06:40:22.153Z"
   },
   {
    "duration": 5,
    "start_time": "2024-06-19T06:40:22.204Z"
   },
   {
    "duration": 5,
    "start_time": "2024-06-19T06:40:22.212Z"
   },
   {
    "duration": 2354,
    "start_time": "2024-06-19T06:40:22.221Z"
   },
   {
    "duration": 2409,
    "start_time": "2024-06-19T06:40:24.577Z"
   },
   {
    "duration": 5,
    "start_time": "2024-06-19T06:40:26.989Z"
   },
   {
    "duration": 5,
    "start_time": "2024-06-19T06:40:27.004Z"
   },
   {
    "duration": 6,
    "start_time": "2024-06-19T06:40:27.013Z"
   },
   {
    "duration": 7,
    "start_time": "2024-06-19T06:40:27.023Z"
   },
   {
    "duration": 7,
    "start_time": "2024-06-19T06:40:27.033Z"
   },
   {
    "duration": 59,
    "start_time": "2024-06-19T06:40:27.043Z"
   },
   {
    "duration": 1231,
    "start_time": "2024-06-19T06:41:27.102Z"
   },
   {
    "duration": 387,
    "start_time": "2024-06-19T06:41:28.336Z"
   },
   {
    "duration": 20,
    "start_time": "2024-06-19T06:41:28.726Z"
   },
   {
    "duration": 19,
    "start_time": "2024-06-19T06:41:28.750Z"
   },
   {
    "duration": 17,
    "start_time": "2024-06-19T06:41:28.801Z"
   },
   {
    "duration": 16,
    "start_time": "2024-06-19T06:41:28.822Z"
   },
   {
    "duration": 13,
    "start_time": "2024-06-19T06:41:28.841Z"
   },
   {
    "duration": 49,
    "start_time": "2024-06-19T06:41:28.857Z"
   },
   {
    "duration": 9,
    "start_time": "2024-06-19T06:41:28.909Z"
   },
   {
    "duration": 8,
    "start_time": "2024-06-19T06:41:28.926Z"
   },
   {
    "duration": 10,
    "start_time": "2024-06-19T06:41:28.937Z"
   },
   {
    "duration": 121,
    "start_time": "2024-06-19T06:41:28.950Z"
   },
   {
    "duration": 79,
    "start_time": "2024-06-19T06:41:29.074Z"
   },
   {
    "duration": 90,
    "start_time": "2024-06-19T06:41:29.157Z"
   },
   {
    "duration": 77,
    "start_time": "2024-06-19T06:41:29.251Z"
   },
   {
    "duration": 56,
    "start_time": "2024-06-19T06:41:29.331Z"
   },
   {
    "duration": 61,
    "start_time": "2024-06-19T06:41:29.403Z"
   },
   {
    "duration": 9,
    "start_time": "2024-06-19T06:41:29.467Z"
   },
   {
    "duration": 39,
    "start_time": "2024-06-19T06:41:29.503Z"
   },
   {
    "duration": 176,
    "start_time": "2024-06-19T06:41:29.545Z"
   },
   {
    "duration": 114,
    "start_time": "2024-06-19T06:41:29.725Z"
   },
   {
    "duration": 7,
    "start_time": "2024-06-19T06:41:29.842Z"
   },
   {
    "duration": 175,
    "start_time": "2024-06-19T06:41:29.851Z"
   },
   {
    "duration": 7,
    "start_time": "2024-06-19T06:41:30.108Z"
   },
   {
    "duration": 80,
    "start_time": "2024-06-19T06:41:30.123Z"
   },
   {
    "duration": 4,
    "start_time": "2024-06-19T06:41:30.206Z"
   },
   {
    "duration": 8,
    "start_time": "2024-06-19T06:41:30.214Z"
   },
   {
    "duration": 7,
    "start_time": "2024-06-19T06:41:30.229Z"
   },
   {
    "duration": 8,
    "start_time": "2024-06-19T06:41:30.239Z"
   },
   {
    "duration": 4,
    "start_time": "2024-06-19T06:41:30.301Z"
   },
   {
    "duration": 6,
    "start_time": "2024-06-19T06:41:30.308Z"
   },
   {
    "duration": 18,
    "start_time": "2024-06-19T06:41:30.317Z"
   },
   {
    "duration": 4,
    "start_time": "2024-06-19T06:41:30.339Z"
   },
   {
    "duration": 5,
    "start_time": "2024-06-19T06:41:30.347Z"
   },
   {
    "duration": 49,
    "start_time": "2024-06-19T06:41:30.356Z"
   },
   {
    "duration": 2392,
    "start_time": "2024-06-19T06:41:30.409Z"
   },
   {
    "duration": 2390,
    "start_time": "2024-06-19T06:41:32.804Z"
   },
   {
    "duration": 6,
    "start_time": "2024-06-19T06:41:35.200Z"
   },
   {
    "duration": 5,
    "start_time": "2024-06-19T06:41:35.209Z"
   },
   {
    "duration": 5,
    "start_time": "2024-06-19T06:41:35.217Z"
   },
   {
    "duration": 7,
    "start_time": "2024-06-19T06:41:35.225Z"
   },
   {
    "duration": 7,
    "start_time": "2024-06-19T06:41:35.236Z"
   },
   {
    "duration": 58,
    "start_time": "2024-06-19T06:41:35.247Z"
   },
   {
    "duration": 1183,
    "start_time": "2024-06-19T06:46:47.639Z"
   },
   {
    "duration": 370,
    "start_time": "2024-06-19T06:46:48.825Z"
   },
   {
    "duration": 23,
    "start_time": "2024-06-19T06:46:49.197Z"
   },
   {
    "duration": 19,
    "start_time": "2024-06-19T06:46:49.224Z"
   },
   {
    "duration": 56,
    "start_time": "2024-06-19T06:46:49.246Z"
   },
   {
    "duration": 17,
    "start_time": "2024-06-19T06:46:49.305Z"
   },
   {
    "duration": 13,
    "start_time": "2024-06-19T06:46:49.324Z"
   },
   {
    "duration": 13,
    "start_time": "2024-06-19T06:46:49.340Z"
   },
   {
    "duration": 53,
    "start_time": "2024-06-19T06:46:49.356Z"
   },
   {
    "duration": 8,
    "start_time": "2024-06-19T06:46:49.415Z"
   },
   {
    "duration": 10,
    "start_time": "2024-06-19T06:46:49.425Z"
   },
   {
    "duration": 107,
    "start_time": "2024-06-19T06:46:49.438Z"
   },
   {
    "duration": 84,
    "start_time": "2024-06-19T06:46:49.548Z"
   },
   {
    "duration": 79,
    "start_time": "2024-06-19T06:46:49.635Z"
   },
   {
    "duration": 57,
    "start_time": "2024-06-19T06:46:49.718Z"
   },
   {
    "duration": 74,
    "start_time": "2024-06-19T06:46:49.778Z"
   },
   {
    "duration": 78,
    "start_time": "2024-06-19T06:46:49.855Z"
   },
   {
    "duration": 8,
    "start_time": "2024-06-19T06:46:49.936Z"
   },
   {
    "duration": 62,
    "start_time": "2024-06-19T06:46:49.947Z"
   },
   {
    "duration": 157,
    "start_time": "2024-06-19T06:46:50.012Z"
   },
   {
    "duration": 117,
    "start_time": "2024-06-19T06:46:50.172Z"
   },
   {
    "duration": 10,
    "start_time": "2024-06-19T06:46:50.292Z"
   },
   {
    "duration": 199,
    "start_time": "2024-06-19T06:46:50.305Z"
   },
   {
    "duration": 4,
    "start_time": "2024-06-19T06:46:50.507Z"
   },
   {
    "duration": 4,
    "start_time": "2024-06-19T06:46:50.514Z"
   },
   {
    "duration": 80,
    "start_time": "2024-06-19T06:46:50.521Z"
   },
   {
    "duration": 16,
    "start_time": "2024-06-19T06:46:50.604Z"
   },
   {
    "duration": 8,
    "start_time": "2024-06-19T06:46:50.701Z"
   },
   {
    "duration": 8,
    "start_time": "2024-06-19T06:46:50.713Z"
   },
   {
    "duration": 4,
    "start_time": "2024-06-19T06:46:50.724Z"
   },
   {
    "duration": 5,
    "start_time": "2024-06-19T06:46:50.731Z"
   },
   {
    "duration": 67,
    "start_time": "2024-06-19T06:46:50.739Z"
   },
   {
    "duration": 5,
    "start_time": "2024-06-19T06:46:50.809Z"
   },
   {
    "duration": 4,
    "start_time": "2024-06-19T06:46:50.818Z"
   },
   {
    "duration": 5,
    "start_time": "2024-06-19T06:46:50.826Z"
   },
   {
    "duration": 2417,
    "start_time": "2024-06-19T06:46:50.834Z"
   },
   {
    "duration": 2388,
    "start_time": "2024-06-19T06:46:53.254Z"
   },
   {
    "duration": 5,
    "start_time": "2024-06-19T06:46:55.645Z"
   },
   {
    "duration": 5,
    "start_time": "2024-06-19T06:46:55.653Z"
   },
   {
    "duration": 5,
    "start_time": "2024-06-19T06:46:55.662Z"
   },
   {
    "duration": 7,
    "start_time": "2024-06-19T06:46:55.701Z"
   },
   {
    "duration": 7,
    "start_time": "2024-06-19T06:46:55.711Z"
   },
   {
    "duration": 8,
    "start_time": "2024-06-19T06:46:55.721Z"
   },
   {
    "duration": 1200,
    "start_time": "2024-06-19T06:54:27.353Z"
   },
   {
    "duration": 470,
    "start_time": "2024-06-19T06:54:28.556Z"
   },
   {
    "duration": 23,
    "start_time": "2024-06-19T06:54:29.029Z"
   },
   {
    "duration": 47,
    "start_time": "2024-06-19T06:54:29.057Z"
   },
   {
    "duration": 18,
    "start_time": "2024-06-19T06:54:29.107Z"
   },
   {
    "duration": 18,
    "start_time": "2024-06-19T06:54:29.129Z"
   },
   {
    "duration": 53,
    "start_time": "2024-06-19T06:54:29.151Z"
   },
   {
    "duration": 14,
    "start_time": "2024-06-19T06:54:29.208Z"
   },
   {
    "duration": 32,
    "start_time": "2024-06-19T06:54:29.226Z"
   },
   {
    "duration": 35,
    "start_time": "2024-06-19T06:54:29.267Z"
   },
   {
    "duration": 10,
    "start_time": "2024-06-19T06:54:29.306Z"
   },
   {
    "duration": 102,
    "start_time": "2024-06-19T06:54:29.320Z"
   },
   {
    "duration": 86,
    "start_time": "2024-06-19T06:54:29.426Z"
   },
   {
    "duration": 95,
    "start_time": "2024-06-19T06:54:29.515Z"
   },
   {
    "duration": 67,
    "start_time": "2024-06-19T06:54:29.613Z"
   },
   {
    "duration": 75,
    "start_time": "2024-06-19T06:54:29.684Z"
   },
   {
    "duration": 81,
    "start_time": "2024-06-19T06:54:29.762Z"
   },
   {
    "duration": 8,
    "start_time": "2024-06-19T06:54:29.846Z"
   },
   {
    "duration": 62,
    "start_time": "2024-06-19T06:54:29.858Z"
   },
   {
    "duration": 155,
    "start_time": "2024-06-19T06:54:29.923Z"
   },
   {
    "duration": 123,
    "start_time": "2024-06-19T06:54:30.081Z"
   },
   {
    "duration": 9,
    "start_time": "2024-06-19T06:54:30.207Z"
   },
   {
    "duration": 195,
    "start_time": "2024-06-19T06:54:30.219Z"
   },
   {
    "duration": 6,
    "start_time": "2024-06-19T06:54:30.417Z"
   },
   {
    "duration": 73,
    "start_time": "2024-06-19T06:54:30.427Z"
   },
   {
    "duration": 7,
    "start_time": "2024-06-19T06:54:30.504Z"
   },
   {
    "duration": 15,
    "start_time": "2024-06-19T06:54:30.515Z"
   },
   {
    "duration": 70,
    "start_time": "2024-06-19T06:54:30.539Z"
   },
   {
    "duration": 39,
    "start_time": "2024-06-19T06:54:30.613Z"
   },
   {
    "duration": 7,
    "start_time": "2024-06-19T06:54:30.656Z"
   },
   {
    "duration": 4,
    "start_time": "2024-06-19T06:54:30.667Z"
   },
   {
    "duration": 32,
    "start_time": "2024-06-19T06:54:30.675Z"
   },
   {
    "duration": 6,
    "start_time": "2024-06-19T06:54:30.710Z"
   },
   {
    "duration": 7,
    "start_time": "2024-06-19T06:54:30.720Z"
   },
   {
    "duration": 8,
    "start_time": "2024-06-19T06:54:30.731Z"
   },
   {
    "duration": 2605,
    "start_time": "2024-06-19T06:54:30.742Z"
   },
   {
    "duration": 2427,
    "start_time": "2024-06-19T06:54:33.350Z"
   },
   {
    "duration": 5,
    "start_time": "2024-06-19T06:54:35.780Z"
   },
   {
    "duration": 6,
    "start_time": "2024-06-19T06:54:35.802Z"
   },
   {
    "duration": 6,
    "start_time": "2024-06-19T06:54:35.811Z"
   },
   {
    "duration": 7,
    "start_time": "2024-06-19T06:54:35.820Z"
   },
   {
    "duration": 8,
    "start_time": "2024-06-19T06:54:35.829Z"
   },
   {
    "duration": 7,
    "start_time": "2024-06-19T06:54:35.839Z"
   },
   {
    "duration": 1163,
    "start_time": "2024-06-19T06:55:21.081Z"
   },
   {
    "duration": 389,
    "start_time": "2024-06-19T06:55:22.248Z"
   },
   {
    "duration": 22,
    "start_time": "2024-06-19T06:55:22.640Z"
   },
   {
    "duration": 37,
    "start_time": "2024-06-19T06:55:22.666Z"
   },
   {
    "duration": 20,
    "start_time": "2024-06-19T06:55:22.706Z"
   },
   {
    "duration": 18,
    "start_time": "2024-06-19T06:55:22.728Z"
   },
   {
    "duration": 13,
    "start_time": "2024-06-19T06:55:22.749Z"
   },
   {
    "duration": 14,
    "start_time": "2024-06-19T06:55:22.801Z"
   },
   {
    "duration": 10,
    "start_time": "2024-06-19T06:55:22.818Z"
   },
   {
    "duration": 7,
    "start_time": "2024-06-19T06:55:22.835Z"
   },
   {
    "duration": 8,
    "start_time": "2024-06-19T06:55:22.846Z"
   },
   {
    "duration": 73,
    "start_time": "2024-06-19T06:55:22.902Z"
   },
   {
    "duration": 83,
    "start_time": "2024-06-19T06:55:22.978Z"
   },
   {
    "duration": 85,
    "start_time": "2024-06-19T06:55:23.064Z"
   },
   {
    "duration": 69,
    "start_time": "2024-06-19T06:55:23.153Z"
   },
   {
    "duration": 55,
    "start_time": "2024-06-19T06:55:23.225Z"
   },
   {
    "duration": 58,
    "start_time": "2024-06-19T06:55:23.302Z"
   },
   {
    "duration": 7,
    "start_time": "2024-06-19T06:55:23.363Z"
   },
   {
    "duration": 63,
    "start_time": "2024-06-19T06:55:23.374Z"
   },
   {
    "duration": 164,
    "start_time": "2024-06-19T06:55:23.439Z"
   },
   {
    "duration": 111,
    "start_time": "2024-06-19T06:55:23.606Z"
   },
   {
    "duration": 7,
    "start_time": "2024-06-19T06:55:23.721Z"
   },
   {
    "duration": 181,
    "start_time": "2024-06-19T06:55:23.732Z"
   },
   {
    "duration": 5,
    "start_time": "2024-06-19T06:55:23.915Z"
   },
   {
    "duration": 79,
    "start_time": "2024-06-19T06:55:23.923Z"
   },
   {
    "duration": 4,
    "start_time": "2024-06-19T06:55:24.005Z"
   },
   {
    "duration": 8,
    "start_time": "2024-06-19T06:55:24.013Z"
   },
   {
    "duration": 10,
    "start_time": "2024-06-19T06:55:24.101Z"
   },
   {
    "duration": 8,
    "start_time": "2024-06-19T06:55:24.114Z"
   },
   {
    "duration": 5,
    "start_time": "2024-06-19T06:55:24.125Z"
   },
   {
    "duration": 4,
    "start_time": "2024-06-19T06:55:24.134Z"
   },
   {
    "duration": 70,
    "start_time": "2024-06-19T06:55:24.141Z"
   },
   {
    "duration": 5,
    "start_time": "2024-06-19T06:55:24.214Z"
   },
   {
    "duration": 5,
    "start_time": "2024-06-19T06:55:24.223Z"
   },
   {
    "duration": 5,
    "start_time": "2024-06-19T06:55:24.231Z"
   },
   {
    "duration": 2847,
    "start_time": "2024-06-19T06:55:24.239Z"
   },
   {
    "duration": 2595,
    "start_time": "2024-06-19T06:55:27.092Z"
   },
   {
    "duration": 11,
    "start_time": "2024-06-19T06:55:29.691Z"
   },
   {
    "duration": 5,
    "start_time": "2024-06-19T06:55:29.706Z"
   },
   {
    "duration": 8,
    "start_time": "2024-06-19T06:55:29.715Z"
   },
   {
    "duration": 9,
    "start_time": "2024-06-19T06:55:29.727Z"
   },
   {
    "duration": 8,
    "start_time": "2024-06-19T06:55:29.739Z"
   },
   {
    "duration": 53,
    "start_time": "2024-06-19T06:55:29.752Z"
   },
   {
    "duration": 1154,
    "start_time": "2024-06-19T07:01:18.070Z"
   },
   {
    "duration": 395,
    "start_time": "2024-06-19T07:01:19.227Z"
   },
   {
    "duration": 22,
    "start_time": "2024-06-19T07:01:19.625Z"
   },
   {
    "duration": 18,
    "start_time": "2024-06-19T07:01:19.651Z"
   },
   {
    "duration": 46,
    "start_time": "2024-06-19T07:01:19.672Z"
   },
   {
    "duration": 17,
    "start_time": "2024-06-19T07:01:19.721Z"
   },
   {
    "duration": 13,
    "start_time": "2024-06-19T07:01:19.741Z"
   },
   {
    "duration": 50,
    "start_time": "2024-06-19T07:01:19.757Z"
   },
   {
    "duration": 10,
    "start_time": "2024-06-19T07:01:19.810Z"
   },
   {
    "duration": 8,
    "start_time": "2024-06-19T07:01:19.828Z"
   },
   {
    "duration": 8,
    "start_time": "2024-06-19T07:01:19.840Z"
   },
   {
    "duration": 116,
    "start_time": "2024-06-19T07:01:19.851Z"
   },
   {
    "duration": 87,
    "start_time": "2024-06-19T07:01:19.970Z"
   },
   {
    "duration": 81,
    "start_time": "2024-06-19T07:01:20.060Z"
   },
   {
    "duration": 75,
    "start_time": "2024-06-19T07:01:20.144Z"
   },
   {
    "duration": 55,
    "start_time": "2024-06-19T07:01:20.222Z"
   },
   {
    "duration": 77,
    "start_time": "2024-06-19T07:01:20.280Z"
   },
   {
    "duration": 8,
    "start_time": "2024-06-19T07:01:20.360Z"
   },
   {
    "duration": 64,
    "start_time": "2024-06-19T07:01:20.372Z"
   },
   {
    "duration": 173,
    "start_time": "2024-06-19T07:01:20.440Z"
   },
   {
    "duration": 108,
    "start_time": "2024-06-19T07:01:20.616Z"
   },
   {
    "duration": 6,
    "start_time": "2024-06-19T07:01:20.727Z"
   },
   {
    "duration": 178,
    "start_time": "2024-06-19T07:01:20.736Z"
   },
   {
    "duration": 4,
    "start_time": "2024-06-19T07:01:20.917Z"
   },
   {
    "duration": 79,
    "start_time": "2024-06-19T07:01:20.924Z"
   },
   {
    "duration": 11,
    "start_time": "2024-06-19T07:01:21.006Z"
   },
   {
    "duration": 83,
    "start_time": "2024-06-19T07:01:21.020Z"
   },
   {
    "duration": 8,
    "start_time": "2024-06-19T07:01:21.110Z"
   },
   {
    "duration": 7,
    "start_time": "2024-06-19T07:01:21.121Z"
   },
   {
    "duration": 5,
    "start_time": "2024-06-19T07:01:21.131Z"
   },
   {
    "duration": 4,
    "start_time": "2024-06-19T07:01:21.140Z"
   },
   {
    "duration": 67,
    "start_time": "2024-06-19T07:01:21.148Z"
   },
   {
    "duration": 5,
    "start_time": "2024-06-19T07:01:21.218Z"
   },
   {
    "duration": 4,
    "start_time": "2024-06-19T07:01:21.226Z"
   },
   {
    "duration": 4,
    "start_time": "2024-06-19T07:01:21.234Z"
   },
   {
    "duration": 2430,
    "start_time": "2024-06-19T07:01:21.241Z"
   },
   {
    "duration": 2733,
    "start_time": "2024-06-19T07:01:23.675Z"
   },
   {
    "duration": 7,
    "start_time": "2024-06-19T07:01:26.411Z"
   },
   {
    "duration": 5,
    "start_time": "2024-06-19T07:01:26.422Z"
   },
   {
    "duration": 12,
    "start_time": "2024-06-19T07:01:26.431Z"
   },
   {
    "duration": 9,
    "start_time": "2024-06-19T07:01:26.449Z"
   },
   {
    "duration": 42,
    "start_time": "2024-06-19T07:01:26.462Z"
   },
   {
    "duration": 14,
    "start_time": "2024-06-19T07:01:26.508Z"
   },
   {
    "duration": 1182,
    "start_time": "2024-06-20T00:56:43.728Z"
   },
   {
    "duration": 503,
    "start_time": "2024-06-20T00:56:44.913Z"
   },
   {
    "duration": 23,
    "start_time": "2024-06-20T00:56:46.338Z"
   },
   {
    "duration": 18,
    "start_time": "2024-06-20T00:56:46.530Z"
   },
   {
    "duration": 21,
    "start_time": "2024-06-20T00:56:46.693Z"
   },
   {
    "duration": 20,
    "start_time": "2024-06-20T00:56:47.177Z"
   },
   {
    "duration": 13,
    "start_time": "2024-06-20T00:56:47.341Z"
   },
   {
    "duration": 15,
    "start_time": "2024-06-20T00:56:47.525Z"
   },
   {
    "duration": 10,
    "start_time": "2024-06-20T00:56:48.023Z"
   },
   {
    "duration": 8,
    "start_time": "2024-06-20T00:56:48.536Z"
   },
   {
    "duration": 8,
    "start_time": "2024-06-20T00:56:48.577Z"
   },
   {
    "duration": 72,
    "start_time": "2024-06-20T00:56:48.663Z"
   },
   {
    "duration": 82,
    "start_time": "2024-06-20T00:56:48.739Z"
   },
   {
    "duration": 83,
    "start_time": "2024-06-20T00:56:48.824Z"
   },
   {
    "duration": 62,
    "start_time": "2024-06-20T00:56:49.815Z"
   },
   {
    "duration": 59,
    "start_time": "2024-06-20T00:56:49.880Z"
   },
   {
    "duration": 77,
    "start_time": "2024-06-20T00:56:49.942Z"
   },
   {
    "duration": 7,
    "start_time": "2024-06-20T00:56:50.023Z"
   },
   {
    "duration": 38,
    "start_time": "2024-06-20T00:56:50.033Z"
   },
   {
    "duration": 148,
    "start_time": "2024-06-20T00:56:50.103Z"
   },
   {
    "duration": 123,
    "start_time": "2024-06-20T00:56:50.254Z"
   },
   {
    "duration": 6,
    "start_time": "2024-06-20T00:56:51.577Z"
   },
   {
    "duration": 111,
    "start_time": "2024-06-20T00:56:53.418Z"
   },
   {
    "duration": 5,
    "start_time": "2024-06-20T00:56:53.870Z"
   },
   {
    "duration": 4,
    "start_time": "2024-06-20T00:56:54.550Z"
   },
   {
    "duration": 3,
    "start_time": "2024-06-20T00:56:54.977Z"
   },
   {
    "duration": 9,
    "start_time": "2024-06-20T00:56:56.383Z"
   },
   {
    "duration": 7,
    "start_time": "2024-06-20T00:56:56.690Z"
   },
   {
    "duration": 7,
    "start_time": "2024-06-20T00:56:57.160Z"
   },
   {
    "duration": 4,
    "start_time": "2024-06-20T00:56:58.652Z"
   },
   {
    "duration": 4,
    "start_time": "2024-06-20T00:56:59.363Z"
   },
   {
    "duration": 18,
    "start_time": "2024-06-20T00:56:59.932Z"
   },
   {
    "duration": 4,
    "start_time": "2024-06-20T00:57:00.586Z"
   },
   {
    "duration": 5,
    "start_time": "2024-06-20T00:57:00.781Z"
   },
   {
    "duration": 4,
    "start_time": "2024-06-20T00:57:00.963Z"
   },
   {
    "duration": 2385,
    "start_time": "2024-06-20T00:57:06.419Z"
   },
   {
    "duration": 2410,
    "start_time": "2024-06-20T00:57:11.978Z"
   },
   {
    "duration": 5,
    "start_time": "2024-06-20T00:57:34.434Z"
   },
   {
    "duration": 4,
    "start_time": "2024-06-20T00:57:34.648Z"
   },
   {
    "duration": 5,
    "start_time": "2024-06-20T00:57:34.853Z"
   },
   {
    "duration": 7,
    "start_time": "2024-06-20T00:57:38.666Z"
   },
   {
    "duration": 6,
    "start_time": "2024-06-20T00:57:38.857Z"
   },
   {
    "duration": 6,
    "start_time": "2024-06-20T00:57:39.028Z"
   },
   {
    "duration": 1225,
    "start_time": "2024-06-20T02:28:24.273Z"
   },
   {
    "duration": 485,
    "start_time": "2024-06-20T02:28:25.501Z"
   },
   {
    "duration": 26,
    "start_time": "2024-06-20T02:28:25.990Z"
   },
   {
    "duration": 23,
    "start_time": "2024-06-20T02:28:26.035Z"
   },
   {
    "duration": 23,
    "start_time": "2024-06-20T02:28:26.061Z"
   },
   {
    "duration": 48,
    "start_time": "2024-06-20T02:28:26.087Z"
   },
   {
    "duration": 14,
    "start_time": "2024-06-20T02:28:26.138Z"
   },
   {
    "duration": 15,
    "start_time": "2024-06-20T02:28:26.154Z"
   },
   {
    "duration": 10,
    "start_time": "2024-06-20T02:28:26.172Z"
   },
   {
    "duration": 8,
    "start_time": "2024-06-20T02:28:26.232Z"
   },
   {
    "duration": 8,
    "start_time": "2024-06-20T02:28:26.242Z"
   },
   {
    "duration": 101,
    "start_time": "2024-06-20T02:28:26.253Z"
   },
   {
    "duration": 79,
    "start_time": "2024-06-20T02:28:26.357Z"
   },
   {
    "duration": 73,
    "start_time": "2024-06-20T02:28:26.439Z"
   },
   {
    "duration": 56,
    "start_time": "2024-06-20T02:28:26.532Z"
   },
   {
    "duration": 77,
    "start_time": "2024-06-20T02:28:26.591Z"
   },
   {
    "duration": 72,
    "start_time": "2024-06-20T02:28:26.670Z"
   },
   {
    "duration": 8,
    "start_time": "2024-06-20T02:28:26.745Z"
   },
   {
    "duration": 37,
    "start_time": "2024-06-20T02:28:26.757Z"
   },
   {
    "duration": 179,
    "start_time": "2024-06-20T02:28:26.798Z"
   },
   {
    "duration": 120,
    "start_time": "2024-06-20T02:28:26.980Z"
   },
   {
    "duration": 8,
    "start_time": "2024-06-20T02:28:27.104Z"
   },
   {
    "duration": 207,
    "start_time": "2024-06-20T02:28:27.133Z"
   },
   {
    "duration": 4,
    "start_time": "2024-06-20T02:28:27.343Z"
   },
   {
    "duration": 4,
    "start_time": "2024-06-20T02:28:27.350Z"
   },
   {
    "duration": 78,
    "start_time": "2024-06-20T02:28:27.356Z"
   },
   {
    "duration": 91,
    "start_time": "2024-06-20T02:28:27.441Z"
   },
   {
    "duration": 7,
    "start_time": "2024-06-20T02:28:27.541Z"
   },
   {
    "duration": 8,
    "start_time": "2024-06-20T02:28:27.551Z"
   },
   {
    "duration": 4,
    "start_time": "2024-06-20T02:28:27.563Z"
   },
   {
    "duration": 5,
    "start_time": "2024-06-20T02:28:27.570Z"
   },
   {
    "duration": 70,
    "start_time": "2024-06-20T02:28:27.578Z"
   },
   {
    "duration": 5,
    "start_time": "2024-06-20T02:28:27.650Z"
   },
   {
    "duration": 4,
    "start_time": "2024-06-20T02:28:27.658Z"
   },
   {
    "duration": 5,
    "start_time": "2024-06-20T02:28:27.666Z"
   },
   {
    "duration": 2496,
    "start_time": "2024-06-20T02:28:27.675Z"
   },
   {
    "duration": 2462,
    "start_time": "2024-06-20T02:28:30.173Z"
   },
   {
    "duration": 6,
    "start_time": "2024-06-20T02:28:32.639Z"
   },
   {
    "duration": 5,
    "start_time": "2024-06-20T02:28:32.648Z"
   },
   {
    "duration": 5,
    "start_time": "2024-06-20T02:28:32.657Z"
   },
   {
    "duration": 7,
    "start_time": "2024-06-20T02:28:32.666Z"
   },
   {
    "duration": 475,
    "start_time": "2024-06-20T02:28:32.677Z"
   },
   {
    "duration": 0,
    "start_time": "2024-06-20T02:28:33.154Z"
   },
   {
    "duration": 1212,
    "start_time": "2024-06-20T02:29:35.961Z"
   },
   {
    "duration": 375,
    "start_time": "2024-06-20T02:29:37.178Z"
   },
   {
    "duration": 20,
    "start_time": "2024-06-20T02:29:37.556Z"
   },
   {
    "duration": 19,
    "start_time": "2024-06-20T02:29:37.582Z"
   },
   {
    "duration": 39,
    "start_time": "2024-06-20T02:29:37.604Z"
   },
   {
    "duration": 16,
    "start_time": "2024-06-20T02:29:37.646Z"
   },
   {
    "duration": 13,
    "start_time": "2024-06-20T02:29:37.665Z"
   },
   {
    "duration": 55,
    "start_time": "2024-06-20T02:29:37.682Z"
   },
   {
    "duration": 11,
    "start_time": "2024-06-20T02:29:37.740Z"
   },
   {
    "duration": 8,
    "start_time": "2024-06-20T02:29:37.757Z"
   },
   {
    "duration": 10,
    "start_time": "2024-06-20T02:29:37.772Z"
   },
   {
    "duration": 115,
    "start_time": "2024-06-20T02:29:37.786Z"
   },
   {
    "duration": 88,
    "start_time": "2024-06-20T02:29:37.904Z"
   },
   {
    "duration": 94,
    "start_time": "2024-06-20T02:29:37.995Z"
   },
   {
    "duration": 74,
    "start_time": "2024-06-20T02:29:38.093Z"
   },
   {
    "duration": 73,
    "start_time": "2024-06-20T02:29:38.170Z"
   },
   {
    "duration": 60,
    "start_time": "2024-06-20T02:29:38.246Z"
   },
   {
    "duration": 24,
    "start_time": "2024-06-20T02:29:38.309Z"
   },
   {
    "duration": 38,
    "start_time": "2024-06-20T02:29:38.336Z"
   },
   {
    "duration": 179,
    "start_time": "2024-06-20T02:29:38.376Z"
   },
   {
    "duration": 113,
    "start_time": "2024-06-20T02:29:38.558Z"
   },
   {
    "duration": 6,
    "start_time": "2024-06-20T02:29:38.674Z"
   },
   {
    "duration": 167,
    "start_time": "2024-06-20T02:29:38.683Z"
   },
   {
    "duration": 4,
    "start_time": "2024-06-20T02:29:38.853Z"
   },
   {
    "duration": 5,
    "start_time": "2024-06-20T02:29:38.935Z"
   },
   {
    "duration": 4,
    "start_time": "2024-06-20T02:29:38.944Z"
   },
   {
    "duration": 8,
    "start_time": "2024-06-20T02:29:38.951Z"
   },
   {
    "duration": 9,
    "start_time": "2024-06-20T02:29:39.043Z"
   },
   {
    "duration": 7,
    "start_time": "2024-06-20T02:29:39.056Z"
   },
   {
    "duration": 4,
    "start_time": "2024-06-20T02:29:39.067Z"
   },
   {
    "duration": 4,
    "start_time": "2024-06-20T02:29:39.075Z"
   },
   {
    "duration": 19,
    "start_time": "2024-06-20T02:29:39.133Z"
   },
   {
    "duration": 5,
    "start_time": "2024-06-20T02:29:39.155Z"
   },
   {
    "duration": 5,
    "start_time": "2024-06-20T02:29:39.162Z"
   },
   {
    "duration": 5,
    "start_time": "2024-06-20T02:29:39.170Z"
   },
   {
    "duration": 2496,
    "start_time": "2024-06-20T02:29:39.178Z"
   },
   {
    "duration": 2405,
    "start_time": "2024-06-20T02:29:41.677Z"
   },
   {
    "duration": 6,
    "start_time": "2024-06-20T02:29:44.085Z"
   },
   {
    "duration": 7,
    "start_time": "2024-06-20T02:29:44.098Z"
   },
   {
    "duration": 23,
    "start_time": "2024-06-20T02:29:44.110Z"
   },
   {
    "duration": 7,
    "start_time": "2024-06-20T02:29:44.137Z"
   },
   {
    "duration": 8,
    "start_time": "2024-06-20T02:29:44.148Z"
   },
   {
    "duration": 8,
    "start_time": "2024-06-20T02:29:44.160Z"
   }
  ],
  "kernelspec": {
   "display_name": "Python 3 (ipykernel)",
   "language": "python",
   "name": "python3"
  },
  "language_info": {
   "codemirror_mode": {
    "name": "ipython",
    "version": 3
   },
   "file_extension": ".py",
   "mimetype": "text/x-python",
   "name": "python",
   "nbconvert_exporter": "python",
   "pygments_lexer": "ipython3",
   "version": "3.9.19"
  },
  "toc": {
   "base_numbering": 1,
   "nav_menu": {
    "height": "63.9931px",
    "width": "471.823px"
   },
   "number_sections": true,
   "sideBar": true,
   "skip_h1_title": true,
   "title_cell": "Table of Contents",
   "title_sidebar": "Contents",
   "toc_cell": false,
   "toc_position": {
    "height": "calc(100% - 180px)",
    "left": "10px",
    "top": "150px",
    "width": "410.66px"
   },
   "toc_section_display": true,
   "toc_window_display": true
  }
 },
 "nbformat": 4,
 "nbformat_minor": 2
}
