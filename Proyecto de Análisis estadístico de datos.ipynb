{
 "cells": [
  {
   "cell_type": "markdown",
   "metadata": {},
   "source": [
    "# ¡Hola, Guillermo!  \n",
    "\n",
    "Mi nombre es Carlos Ortiz, soy code reviewer de TripleTen y voy a revisar el proyecto que acabas de desarrollar.\n",
    "\n",
    "Cuando vea un error la primera vez, lo señalaré. Deberás encontrarlo y arreglarlo. La intención es que te prepares para un espacio real de trabajo. En un trabajo, el líder de tu equipo hará lo mismo. Si no puedes solucionar el error, te daré más información en la próxima ocasión. \n",
    "\n",
    "Encontrarás mis comentarios más abajo - **por favor, no los muevas, no los modifiques ni los borres**.\n",
    "\n",
    "¿Cómo lo voy a hacer? Voy a leer detenidamente cada una de las implementaciones que has llevado a cabo para cumplir con lo solicitado. Verás los comentarios de esta forma:\n",
    "\n",
    "<div class=\"alert alert-block alert-success\">\n",
    "<b>Comentario del revisor</b> <a class=\"tocSkip\"></a>\n",
    "    \n",
    "Si todo está perfecto.\n",
    "</div>\n",
    "\n",
    "\n",
    "<div class=\"alert alert-block alert-warning\">\n",
    "<b>Comentario del revisor</b> <a class=\"tocSkip\"></a>\n",
    "    \n",
    "Si tu código está bien pero se puede mejorar o hay algún detalle que le hace falta.\n",
    "</div>\n",
    "\n",
    "\n",
    "<div class=\"alert alert-block alert-danger\">\n",
    "    \n",
    "<b>Comentario del revisor</b> <a class=\"tocSkip\"></a>\n",
    "    \n",
    "    \n",
    "Si de pronto hace falta algo o existe algún problema con tu código o conclusiones.\n",
    "</div>\n",
    "\n",
    "\n",
    "Puedes responderme de esta forma: \n",
    "\n",
    "\n",
    "<div class=\"alert alert-block alert-info\">\n",
    "<b>Respuesta del estudiante</b> <a class=\"tocSkip\"></a>\n",
    "</div>\n",
    "¡Empecemos!"
   ]
  },
  {
   "cell_type": "markdown",
   "metadata": {
    "id": "3rYiDeEH0q0f"
   },
   "source": [
    "# ¿Cuál es la mejor tarifa?\n",
    "\n",
    "Trabajas como analista para el operador de telecomunicaciones Megaline. La empresa ofrece a sus clientes dos tarifas de prepago, Surf y Ultimate. El departamento comercial quiere saber cuál de las tarifas genera más ingresos para poder ajustar el presupuesto de publicidad.\n",
    "\n",
    "Vas a realizar un análisis preliminar de las tarifas basado en una selección de clientes relativamente pequeña. Tendrás los datos de 500 clientes de Megaline: quiénes son los clientes, de dónde son, qué tarifa usan, así como la cantidad de llamadas que hicieron y los mensajes de texto que enviaron en 2018. Tu trabajo es analizar el comportamiento de los clientes y determinar qué tarifa de prepago genera más ingresos."
   ]
  },
  {
   "cell_type": "markdown",
   "metadata": {
    "id": "MQi4IPy70q0y"
   },
   "source": [
    "## Inicialización"
   ]
  },
  {
   "cell_type": "code",
   "execution_count": null,
   "metadata": {
    "id": "MtYIuBxu0q0z"
   },
   "outputs": [],
   "source": [
    "# Cargar todas las librerías\n",
    "import pandas as pd\n",
    "import numpy as np\n",
    "import matplotlib.pyplot as plt\n",
    "from scipy.stats import ttest_ind\n",
    "import seaborn as sns\n",
    "from scipy import stats as st"
   ]
  },
  {
   "cell_type": "markdown",
   "metadata": {
    "id": "4ysWWC5i0q00"
   },
   "source": [
    "## Cargar datos"
   ]
  },
  {
   "cell_type": "code",
   "execution_count": null,
   "metadata": {
    "id": "CCqPW7rS0q01"
   },
   "outputs": [],
   "source": [
    "# Carga los archivos de datos en diferentes DataFrames\n",
    "plans_tarifas = pd.read_csv('/datasets/megaline_plans.csv')\n",
    "users_usuarios = pd.read_csv ('/datasets/megaline_users.csv')\n",
    "calls_llamadas = pd.read_csv ('/datasets/megaline_calls.csv')\n",
    "messages_msn = pd.read_csv ('/datasets/megaline_messages.csv')\n",
    "internet = pd.read_csv ('/datasets/megaline_internet.csv')"
   ]
  },
  {
   "cell_type": "markdown",
   "metadata": {},
   "source": [
    "<div class=\"alert alert-block alert-success\">\n",
    "<b>Comentario del revisor</b> <a class=\"tocSkip\"></a>\n",
    "    \n",
    "Buen trabajo con la importación de datos y de librerías.\n",
    "</div>"
   ]
  },
  {
   "cell_type": "markdown",
   "metadata": {
    "id": "69qqoJ3r0q01"
   },
   "source": [
    "## Preparar los datos"
   ]
  },
  {
   "cell_type": "markdown",
   "metadata": {
    "id": "ohBhimvH0q01"
   },
   "source": [
    "## Tarifas"
   ]
  },
  {
   "cell_type": "code",
   "execution_count": null,
   "metadata": {
    "id": "GptqP3Q40q02"
   },
   "outputs": [],
   "source": [
    "# Imprime la información general/resumida sobre el DataFrame de las tarifas\n",
    "\n",
    "print(plans_tarifas.info(show_counts = True))"
   ]
  },
  {
   "cell_type": "code",
   "execution_count": null,
   "metadata": {
    "id": "64xzjwL70q02",
    "scrolled": true
   },
   "outputs": [],
   "source": [
    "# Imprime una muestra de los datos para las tarifas\n",
    "\n",
    "display (plans_tarifas.head(5))\n",
    "display (plans_tarifas['mb_per_month_included'])"
   ]
  },
  {
   "cell_type": "markdown",
   "metadata": {},
   "source": [
    "ME MUESTRA LAS DOS TARFIAS QUE SE SEÑALARON AL PRINCIPIO DEL PROYECTO LA TARIFA  surf  Y LA TARIFA ultimate EN GENERAL VEO  DOS PROBLEMAS A FUTURO Y DE ACUERDO A LO QUE NOS PLANTEA EL PROYECTO SON:\n",
    "\n",
    "1.- LA COLUMNA DE mb_per_month_included DEBE ESTAR EN GYGABITE NO EN MEGABITE\n",
    "\n",
    "2.- LA COLUMNA DE plan_name DEBE COINCIDIR CON EL DATAFRAME DE users_usarios QUE ES plan"
   ]
  },
  {
   "cell_type": "markdown",
   "metadata": {
    "id": "R3C05i1l0q03"
   },
   "source": [
    "## Corregir datos"
   ]
  },
  {
   "cell_type": "code",
   "execution_count": null,
   "metadata": {
    "id": "Y7SVmjGn0q03"
   },
   "outputs": [],
   "source": [
    "plans_tarifas['mb_per_month_included'] = plans_tarifas['mb_per_month_included'].astype (int)\n",
    "plans_tarifas = plans_tarifas.rename(columns = {'mb_per_month_included' :'gb_per_month_included'})\n",
    "\n",
    "print(plans_tarifas.info(show_counts = True))\n"
   ]
  },
  {
   "cell_type": "markdown",
   "metadata": {
    "id": "LJir7bml0q03"
   },
   "source": [
    "## Enriquecer los datos"
   ]
  },
  {
   "cell_type": "code",
   "execution_count": null,
   "metadata": {
    "id": "gfcIEuXV0q04"
   },
   "outputs": [],
   "source": [
    "plans_tarifas['gb_per_month_included'] =plans_tarifas['gb_per_month_included']/1024\n",
    "\n",
    "\n",
    "print(plans_tarifas.info(show_counts = True))\n",
    "display(plans_tarifas.head())"
   ]
  },
  {
   "cell_type": "markdown",
   "metadata": {
    "id": "1n2X6WXf0q04"
   },
   "source": [
    "## Usuarios/as"
   ]
  },
  {
   "cell_type": "code",
   "execution_count": null,
   "metadata": {
    "id": "2NgjWFqx0q05"
   },
   "outputs": [],
   "source": [
    "# Imprime la información general/resumida sobre el DataFrame de usuarios\n",
    "\n",
    "print (users_usuarios.info(show_counts = True))"
   ]
  },
  {
   "cell_type": "code",
   "execution_count": null,
   "metadata": {
    "id": "1IN1L9uh0q05"
   },
   "outputs": [],
   "source": [
    "# Imprime una muestra de datos para usuarios\n",
    "\n",
    "display(users_usuarios.head(5))"
   ]
  },
  {
   "cell_type": "markdown",
   "metadata": {},
   "source": [
    "ME MUESTRA NOS MUESTRA LOS DATOS DE LOS USUARIOS Y LOS PRINCIPALES PROBLEMAS SON:\n",
    "\n",
    "1.- LA COLUMNA DE reg_date ES UN Dtype DE object Y LO NECESITO COMO datetime\n",
    "\n",
    "2.- LA COLUMNA DE plan SI MÁS ADELANTE VOY A USAR LA FUNCIÓN DE .merge() NECESITO QUE POR LO MENOS UNA COLUMNA COINCIDA EN ESTE CASO plan Y CAMBIRA SU NOMBRE DE plan_name\n",
    "\n",
    "3.- EN LA COLUMNA DE churn_date tengo 466 VALORES USENTES(NaN) YA QUE AUN ESTOS USUARIOS ESTABAN USANDO SU TARIFA TENGO QUE CAMBIAR ESE VALOR\n",
    "\n",
    "4.- LO MÁS IMPORTANTE CREAR UNA matriz PARA month CON LA CUAL PUEDA REALIZAR LOS OPERACIONES ESTADISTICAS QUE NECESITO"
   ]
  },
  {
   "cell_type": "markdown",
   "metadata": {
    "id": "BX5FQh_I0q06"
   },
   "source": [
    "### Corregir los datos"
   ]
  },
  {
   "cell_type": "code",
   "execution_count": null,
   "metadata": {
    "id": "yUqX-K0C0q07"
   },
   "outputs": [],
   "source": [
    "users_usuarios = users_usuarios.rename(columns = {'plan' :'plan_name'})\n",
    "users_usuarios['reg_date'] = pd.to_datetime(users_usuarios['reg_date'], format = '%Y-%m-%d')\n",
    "users_usuarios.fillna(0,inplace = True)\n"
   ]
  },
  {
   "cell_type": "markdown",
   "metadata": {
    "id": "ycwuARJp0q07"
   },
   "source": [
    "### Enriquecer los datos"
   ]
  },
  {
   "cell_type": "markdown",
   "metadata": {},
   "source": [
    "EN GENERAL CREO QUE YA LO CONCEGUI SOLO ES CUESTION DE CORROBORAR"
   ]
  },
  {
   "cell_type": "code",
   "execution_count": null,
   "metadata": {
    "id": "iq0AaBS90q08"
   },
   "outputs": [],
   "source": [
    "\n",
    "users_usuarios ['month']= users_usuarios['reg_date'].dt.month\n",
    "\n",
    "display(users_usuarios.head(5))\n",
    "print (users_usuarios.info(show_counts = True))"
   ]
  },
  {
   "cell_type": "markdown",
   "metadata": {},
   "source": [
    "ESTOY SEGURO QUE REALICE LOS CAMBIOS NECESARIOS POR ESO VERIFIQUE NUEVAMENTE EL DATAFRAME"
   ]
  },
  {
   "cell_type": "markdown",
   "metadata": {
    "id": "o7MeKCid0q08"
   },
   "source": [
    "## Llamadas"
   ]
  },
  {
   "cell_type": "code",
   "execution_count": null,
   "metadata": {
    "id": "6dDlnoDm0q08"
   },
   "outputs": [],
   "source": [
    "# Imprime la información general/resumida sobre el DataFrame de las llamadas\n",
    "\n",
    "print (calls_llamadas.info(show_counts = True))"
   ]
  },
  {
   "cell_type": "code",
   "execution_count": null,
   "metadata": {
    "id": "kuh1vlNB0q09"
   },
   "outputs": [],
   "source": [
    "# Imprime una muestra de datos para las llamadas\n",
    "\n",
    "display (calls_llamadas.head(5))"
   ]
  },
  {
   "cell_type": "markdown",
   "metadata": {},
   "source": [
    "ME MUESTRA NOS MUESTRA LOS DATOS DE LLAMADAS Y LOS PRINCIPALES PROBLEMAS SON:\n",
    "\n",
    "1.- LA COLUMNA DE call_date ES UN Dtype DE object Y LO NECESITO COMO datetime\n",
    "\n",
    "2.- LA COLUMNA DE duration NECESITO QUE SEA UN NÚMERO REDONDEADO AL SUPERIOR DEINMEDIATO\n",
    "\n",
    "3.- LA COLUMNA DE id NECESITO CAMBIAR SU NOMBRE PARA PODER IDENFICARLA MEJOR A id_call\n",
    "\n",
    "4.- LO MÁS IMPORTANTE CREAR UNA matriz PARA month CON LA CUAL PUEDA REALIZAR LOS OPERACIONES ESTADISTICAS QUE NECESITO"
   ]
  },
  {
   "cell_type": "markdown",
   "metadata": {
    "id": "S7hzxmbX0q0-"
   },
   "source": [
    "### Corregir los datos"
   ]
  },
  {
   "cell_type": "code",
   "execution_count": null,
   "metadata": {
    "id": "S2r8xA4f0q0-"
   },
   "outputs": [],
   "source": [
    "calls_llamadas = calls_llamadas.rename(columns = {'id' :'id_call'})\n",
    "calls_llamadas['call_date'] = pd.to_datetime(calls_llamadas['call_date'], format = '%Y-%m-%d')\n"
   ]
  },
  {
   "cell_type": "markdown",
   "metadata": {
    "id": "KrMgTrlG0q0_"
   },
   "source": [
    "### Enriquecer los datos"
   ]
  },
  {
   "cell_type": "code",
   "execution_count": null,
   "metadata": {
    "id": "iZ1avpA_0q0_"
   },
   "outputs": [],
   "source": [
    "calls_llamadas['round_out_call'] = calls_llamadas['duration'].apply(np.ceil)\n",
    "\n",
    "calls_llamadas ['month']= calls_llamadas['call_date'].dt.month\n",
    "\n",
    "display (calls_llamadas.head(5))\n",
    "print (calls_llamadas.info(show_counts = True))"
   ]
  },
  {
   "cell_type": "markdown",
   "metadata": {},
   "source": [
    "DECIDI CREAR UNA NUEVA COLUMNA round_out PARA TENER UNA MEJOR COMPRENCIÓN DE LA TABLA"
   ]
  },
  {
   "cell_type": "markdown",
   "metadata": {
    "id": "mOUZSi180q0_"
   },
   "source": [
    "## Mensajes"
   ]
  },
  {
   "cell_type": "code",
   "execution_count": null,
   "metadata": {
    "id": "R-bYJpdV0q1A"
   },
   "outputs": [],
   "source": [
    "# Imprime la información general/resumida sobre el DataFrame de los mensajes\n",
    "print(messages_msn.info(show_counts = True))\n"
   ]
  },
  {
   "cell_type": "code",
   "execution_count": null,
   "metadata": {
    "id": "mCEl2iGE0q1A"
   },
   "outputs": [],
   "source": [
    "# Imprime una muestra de datos para los mensajes\n",
    "display(messages_msn.head(5))\n"
   ]
  },
  {
   "cell_type": "markdown",
   "metadata": {},
   "source": [
    "\n",
    "ME MUESTRA NOS MUESTRA LOS DATOS DE message_msn Y LOS PRINCIPALES PROBLEMAS SON:\n",
    "\n",
    "1.- LA COLUMNA DE message_date ES UN Dtype DE object Y LO NECESITO COMO datetime\n",
    "\n",
    "2.- LA COLUMNA DE id NECESITO CAMBIAR SU NOMBRE PARA PODER IDENFICARLA MEJOR A id_msn\n",
    "\n",
    "3.- LO MÁS IMPORTANTE CREAR UNA matriz PARA month CON LA CUAL PUEDA REALIZAR LOS OPERACIONES ESTADISTICAS QUE NECESITO\n"
   ]
  },
  {
   "cell_type": "markdown",
   "metadata": {},
   "source": [
    "\n"
   ]
  },
  {
   "cell_type": "markdown",
   "metadata": {
    "id": "Sprfak900q1B"
   },
   "source": [
    "### Corregir los datos"
   ]
  },
  {
   "cell_type": "code",
   "execution_count": null,
   "metadata": {
    "id": "vsllvkoa0q1B"
   },
   "outputs": [],
   "source": [
    "messages_msn = messages_msn.rename(columns = {'id' :'id_msn'})\n",
    "messages_msn['message_date'] = pd.to_datetime(messages_msn['message_date'], format = '%Y-%m-%d')"
   ]
  },
  {
   "cell_type": "markdown",
   "metadata": {
    "id": "HvLid7iD0q1B"
   },
   "source": [
    "### Enriquecer los datos"
   ]
  },
  {
   "cell_type": "code",
   "execution_count": null,
   "metadata": {
    "id": "zYEXZac10q1C"
   },
   "outputs": [],
   "source": [
    "messages_msn ['month']= messages_msn['message_date'].dt.month\n",
    "\n",
    "display(messages_msn.head(5))\n",
    "print(messages_msn.info(show_counts = True))\n"
   ]
  },
  {
   "cell_type": "markdown",
   "metadata": {},
   "source": [
    "ESTOY SEGURO QUE REALICE LOS CAMBIOS NECESARIOS POR ESO VERIFIQUE NUEVAMENTE EL DATAFRAME"
   ]
  },
  {
   "cell_type": "markdown",
   "metadata": {
    "id": "bStkaxn40q1C"
   },
   "source": [
    "## Internet"
   ]
  },
  {
   "cell_type": "code",
   "execution_count": null,
   "metadata": {
    "id": "e-Uz5qyn0q1C"
   },
   "outputs": [],
   "source": [
    "# Imprime la información general/resumida sobre el DataFrame de internet\n",
    "\n",
    "print (internet.info())"
   ]
  },
  {
   "cell_type": "code",
   "execution_count": null,
   "metadata": {
    "id": "9r3x_XLw0q1C"
   },
   "outputs": [],
   "source": [
    "# Imprime una muestra de datos para el tráfico de internet\n",
    "\n",
    "display(internet.head(5))"
   ]
  },
  {
   "cell_type": "markdown",
   "metadata": {},
   "source": [
    "ME MUESTRA NOS MUESTRA LOS DATOS DE internet Y LOS PRINCIPALES PROBLEMAS SON:\n",
    "\n",
    "1.- LA COLUMNA DE session_date ES UN Dtype DE object Y LO NECESITO COMO datetime\n",
    "\n",
    "2.- LA COLUMNA DE id NECESITO CAMBIAR SU NOMBRE PARA PODER IDENFICARLA MEJOR A id_internet \n",
    "\n",
    "3.- LA COLUMNA DE mb_used NECESITO REDONDEAR A GYGABITE Y CREAR OTRA COLUMNA COMO EN call_llamadas CON EL NOMBRE DE round_out_gb\n",
    "\n",
    "4.- LO MÁS IMPORTANTE CREAR UNA matriz PARA month CON LA CUAL PUEDA REALIZAR LOS OPERACIONES ESTADISTICAS QUE NECESITO\n"
   ]
  },
  {
   "cell_type": "markdown",
   "metadata": {
    "id": "yA0tkPFg0q1D"
   },
   "source": [
    "### Corregir los datos"
   ]
  },
  {
   "cell_type": "code",
   "execution_count": null,
   "metadata": {
    "id": "zVeanzdd0q1E"
   },
   "outputs": [],
   "source": [
    "internet = internet.rename(columns = {'id' :'id_internet'})\n",
    "internet['session_date'] = pd.to_datetime(internet['session_date'], format = '%Y-%m-%d')\n",
    "\n",
    "internet['round_out_gb'] =internet['mb_used']/1024\n"
   ]
  },
  {
   "cell_type": "markdown",
   "metadata": {
    "id": "e8_mLF4a0q1E"
   },
   "source": [
    "### Enriquecer los datos"
   ]
  },
  {
   "cell_type": "code",
   "execution_count": null,
   "metadata": {
    "id": "ESiYPIEK0q1E"
   },
   "outputs": [],
   "source": [
    "\n",
    "internet ['month']= internet['session_date'].dt.month\n",
    "\n",
    "display(internet.head(5))\n",
    "\n",
    "print (internet.info())"
   ]
  },
  {
   "cell_type": "markdown",
   "metadata": {},
   "source": [
    "ESTOY SEGURO QUE REALICE LOS CAMBIOS NECESARIOS POR ESO VERIFIQUE NUEVAMENTE EL DATAFRAME"
   ]
  },
  {
   "cell_type": "markdown",
   "metadata": {
    "id": "3UA2cqIW0q1E"
   },
   "source": [
    "## Estudiar las condiciones de las tarifas"
   ]
  },
  {
   "cell_type": "code",
   "execution_count": null,
   "metadata": {
    "id": "i409op8p0q1F"
   },
   "outputs": [],
   "source": [
    "# Imprime las condiciones de la tarifa y asegúrate de que te quedan claras\n",
    "\n",
    "display(plans_tarifas.head())\n"
   ]
  },
  {
   "cell_type": "markdown",
   "metadata": {},
   "source": [
    "## Agregar datos por usuario"
   ]
  },
  {
   "cell_type": "code",
   "execution_count": null,
   "metadata": {
    "id": "A332cedB0q1G"
   },
   "outputs": [],
   "source": [
    "# Calcula el número de llamadas hechas por cada usuario al mes. Guarda el resultado.\n",
    "\n",
    "calls_user_call = calls_llamadas.groupby(['user_id','month'])['round_out_call'].count().reset_index()\n",
    "calls_user_call"
   ]
  },
  {
   "cell_type": "code",
   "execution_count": null,
   "metadata": {
    "id": "aw2cmuql0q1G"
   },
   "outputs": [],
   "source": [
    "# Calcula la cantidad de minutos usados por cada usuario al mes. Guarda el resultado.\n",
    "\n",
    "min_user_call = calls_llamadas.groupby(['user_id','month'])['duration'].sum().apply(np.ceil).reset_index()\n",
    "min_user_call"
   ]
  },
  {
   "cell_type": "code",
   "execution_count": null,
   "metadata": {
    "id": "CcQvNHn60q1G"
   },
   "outputs": [],
   "source": [
    "# Calcula el número de mensajes enviados por cada usuario al mes. Guarda el resultado.\n",
    "\n",
    "messages_msn_month = messages_msn.groupby(['user_id','month'])['id_msn'].count().reset_index()\n",
    "messages_msn_month\n"
   ]
  },
  {
   "cell_type": "code",
   "execution_count": null,
   "metadata": {
    "id": "H1AqN2eG0q1H"
   },
   "outputs": [],
   "source": [
    "# Calcula el volumen del tráfico de Internet usado por cada usuario al mes. Guarda el resultado.\n",
    "\n",
    "internet_month = internet.groupby(['user_id','month'])['round_out_gb'].sum().apply(np.ceil).reset_index()\n",
    "internet_month"
   ]
  },
  {
   "cell_type": "code",
   "execution_count": null,
   "metadata": {
    "id": "FW99ykyf0q1H"
   },
   "outputs": [],
   "source": [
    "# Fusiona los datos de llamadas, minutos, mensajes e Internet con base en user_id y month\n",
    "\n",
    "month_user_call = calls_user_call.merge(min_user_call, on = ['user_id', 'month'], how ='outer')\n",
    "month_user_call = month_user_call.rename(columns = {'round_out_call' :'total_call_month'})\n",
    "month_user_call = month_user_call.rename(columns = {'duration' :'minutes_per_month'})\n",
    "month_user_msn = month_user_call.merge(messages_msn_month, on = ['user_id', 'month'], how ='outer') \n",
    "month_user_msn = month_user_msn.rename(columns = {'id_msn' :'msn_per_month'})\n",
    "\n",
    "month_user_internet = month_user_msn.merge(internet_month, on = ['user_id', 'month'], how ='outer')\n",
    "month_user_internet= month_user_internet.rename(columns = {'round_out_gb' :'gb_per_month'})\n",
    "\n",
    "month_user_internet_plan= month_user_internet.fillna(0, inplace=True)\n",
    "\n",
    "\n",
    "\n"
   ]
  },
  {
   "cell_type": "code",
   "execution_count": null,
   "metadata": {},
   "outputs": [],
   "source": [
    "display (month_user_internet)"
   ]
  },
  {
   "cell_type": "code",
   "execution_count": null,
   "metadata": {},
   "outputs": [],
   "source": [
    "display(users_usuarios)"
   ]
  },
  {
   "cell_type": "code",
   "execution_count": null,
   "metadata": {},
   "outputs": [],
   "source": [
    "users_city= users_usuarios.groupby(['city','user_id'])['plan_name'].max().reset_index()\n",
    "display(users_city.head(500))"
   ]
  },
  {
   "cell_type": "markdown",
   "metadata": {},
   "source": [
    "si solo redondeaba la columan de gb_per_month solo me mostraba esa columna asi que mejor redonde todo"
   ]
  },
  {
   "cell_type": "code",
   "execution_count": null,
   "metadata": {
    "id": "0dNOXHag0q1H",
    "scrolled": true
   },
   "outputs": [],
   "source": [
    "# Añade la información de la tarifa\n",
    "\n",
    "user_plans = plans_tarifas.merge(users_city ,on = 'plan_name')\n",
    "\n",
    "user_plans_month =month_user_internet.merge(user_plans, on ='user_id')\n",
    "user_plans_month.fillna(0, inplace=True)\n",
    "\n",
    "user_plans_month"
   ]
  },
  {
   "cell_type": "markdown",
   "metadata": {
    "id": "5FGCf_c60q1I"
   },
   "source": [
    "# Calcula el ingreso mensual para cada usuario\n",
    "\n",
    "Ya me he revisado varias veces la teoria y no encuetro un forma para calcular el ingreso ya me quito bastante tiempo\n"
   ]
  },
  {
   "cell_type": "markdown",
   "metadata": {
    "id": "-jtyHzJb0q1I"
   },
   "source": [
    "## Estudia el comportamiento de usuario"
   ]
  },
  {
   "cell_type": "code",
   "execution_count": null,
   "metadata": {},
   "outputs": [],
   "source": [
    "user_plans_month['call_mins_need'] = user_plans_month['minutes_per_month'] - user_plans_month['minutes_included']\n",
    "user_plans_month['call_mins_need'] = np.where( user_plans_month['call_mins_need'] > 0,user_plans_month['call_mins_need'],0) "
   ]
  },
  {
   "cell_type": "code",
   "execution_count": null,
   "metadata": {},
   "outputs": [],
   "source": [
    "user_plans_month['call_mins_pay'] = user_plans_month['minutes_per_month'] - user_plans_month['minutes_included']\n",
    "user_plans_month['call_mins_pay'] = np.where( user_plans_month['call_mins_pay'] > 0,user_plans_month['call_mins_pay'],0)   \n",
    "user_plans_month['call_mins_pay'] = user_plans_month['call_mins_pay'] * user_plans_month['usd_per_minute']   \n",
    "    "
   ]
  },
  {
   "cell_type": "code",
   "execution_count": null,
   "metadata": {},
   "outputs": [],
   "source": [
    "user_plans_month['msn_per_pay'] = user_plans_month['msn_per_month'] - user_plans_month['messages_included']\n",
    "user_plans_month['msn_per_pay'] = np.where( user_plans_month['msn_per_pay'] > 0,user_plans_month['msn_per_pay'],0)   \n",
    "user_plans_month['msn_per_pay'] = user_plans_month['msn_per_pay'] * user_plans_month['usd_per_message'] "
   ]
  },
  {
   "cell_type": "code",
   "execution_count": null,
   "metadata": {},
   "outputs": [],
   "source": [
    "user_plans_month['gb_per_pay'] = user_plans_month['gb_per_month'] - user_plans_month['gb_per_month_included']\n",
    "user_plans_month['gb_per_pay'] = np.where( user_plans_month['gb_per_pay'] > 0,user_plans_month['gb_per_pay'],0)   \n",
    "user_plans_month['gb_per_pay'] = user_plans_month['gb_per_pay'] * user_plans_month['usd_per_gb'] "
   ]
  },
  {
   "cell_type": "code",
   "execution_count": null,
   "metadata": {},
   "outputs": [],
   "source": [
    "user_plans_month['total_pay_per_month'] = user_plans_month['usd_monthly_pay'] + user_plans_month['gb_per_pay'] + user_plans_month['msn_per_pay'] +user_plans_month['call_mins_pay']"
   ]
  },
  {
   "cell_type": "code",
   "execution_count": null,
   "metadata": {},
   "outputs": [],
   "source": [
    "user_plans_month"
   ]
  },
  {
   "cell_type": "markdown",
   "metadata": {},
   "source": [
    "<div class=\"alert alert-block alert-success\">\n",
    "<b>Comentario del revisor</b> <a class=\"tocSkip\"></a>\n",
    "    \n",
    "Esta tabla está perfecta.\n",
    "</div>"
   ]
  },
  {
   "cell_type": "markdown",
   "metadata": {
    "id": "vtW4CJEe0q1J"
   },
   "source": [
    "### Llamadas"
   ]
  },
  {
   "cell_type": "code",
   "execution_count": null,
   "metadata": {
    "id": "Jf5v5--k0q1J"
   },
   "outputs": [],
   "source": [
    "# Compara la duración promedio de llamadas por cada plan y por cada mes. Traza un gráfico de barras para visualizarla.\n",
    "mean_call_month = user_plans_month.groupby(['month','plan_name'])['total_call_month'].mean().apply(np.ceil).reset_index()\n",
    "mean_call_month.fillna(0, inplace=True)\n",
    "graf_mean_call = mean_call_month.pivot(index ='month',columns ='plan_name',values ='total_call_month')\n",
    "                 \n",
    "                 \n",
    "graf_mean_call"
   ]
  },
  {
   "cell_type": "code",
   "execution_count": null,
   "metadata": {},
   "outputs": [],
   "source": [
    "graf_mean_call.plot (kind = 'bar', title = 'Promedio de Llamadas por Mes'\n",
    "                     , xlabel = 'Número del Mes del Año', ylabel = 'Promedio de Llamadas')"
   ]
  },
  {
   "cell_type": "markdown",
   "metadata": {},
   "source": [
    "LA NOTACIÓN DE LOS MESES ES 1 = ENERO, 2 = FEBRERO, 3 = MARZO , 4 = ABRIL, 5 = MAYO, 6 = JUNIO, 7 = JULIO, 8 = AGOSTO,\n",
    "9 = SEPTIEMBRE, 10 = OCTUBRE, 11 = NOVIEMBRE, 12 = DICIEMBRE"
   ]
  },
  {
   "cell_type": "code",
   "execution_count": null,
   "metadata": {
    "id": "QoLqW1S_0q1J"
   },
   "outputs": [],
   "source": [
    "# Compara el número de minutos mensuales que necesitan los usuarios de cada plan. Traza un histograma.\n",
    "\n",
    "graf_mean_call_min = user_plans_month.pivot(index =['user_id','month'], columns ='plan_name', values ='minutes_per_month')\n",
    "graf_mean_call_min\n",
    "\n",
    "graf_mean_call_min.hist()"
   ]
  },
  {
   "cell_type": "markdown",
   "metadata": {},
   "source": [
    "EN EL EJE DE LAS Y SON LOS MINUTOS POR LLAMADA Y EN EL EJE DE LAS X SON LOS USUARIOS"
   ]
  },
  {
   "cell_type": "code",
   "execution_count": null,
   "metadata": {},
   "outputs": [],
   "source": [
    "graf_mean_call_min_na = user_plans_month.pivot(index =['user_id','month'], columns ='plan_name', values ='call_mins_need')\n",
    "graf_mean_call_min_na.fillna(0, inplace=True)\n",
    "graf_mean_call_min_na\n"
   ]
  },
  {
   "cell_type": "code",
   "execution_count": null,
   "metadata": {},
   "outputs": [],
   "source": [
    "graf_mean_call_min_na.hist()"
   ]
  },
  {
   "cell_type": "markdown",
   "metadata": {},
   "source": [
    "EN EL EJE DE LAS Y SON LOS MINUTOS POR LLAMADA Y EN EL EJE DE LAS X SON LOS USUARIOS"
   ]
  },
  {
   "cell_type": "markdown",
   "metadata": {
    "id": "bLS9T8OH0q1K"
   },
   "source": [
    "PRESENTE DOS TIPOS DE HISTOGRAMA PARA LOS MINUTOS POR LLAMADA YA QUE EN LOS PRIMEROS DOS HISTOGRAMAS NO USE LA FUSIÓN .fillna()\n",
    "EN LOS SIGUIENTES DOS HISTOGRAMAS LO UTILICE.\n",
    "MI CONCLUCIÓN ES QUE CON EL .fillna() CUENTA LOS CEROS (0) python LOS CUENTA Y POR LO MISMO LAS MINUTOS POR LLAMADA SE INCREMENTA"
   ]
  },
  {
   "cell_type": "code",
   "execution_count": null,
   "metadata": {
    "id": "oSndbAnt0q1K"
   },
   "outputs": [],
   "source": [
    "# Calcula la media y la varianza de la duración mensual de llamadas.\n",
    "mean_call_duration_month = user_plans_month.groupby(['month','plan_name'])\\\n",
    "                            ['minutes_per_month'].mean().apply(np.ceil).reset_index()\n",
    "mean_call_duration_month.fillna(0, inplace=True)\n",
    "\n",
    "graf_mean_call_duration_month = mean_call_duration_month.pivot\\\n",
    "                                (index ='month',columns ='plan_name',values ='minutes_per_month')\n",
    "                 \n",
    "mean_calls_duration_months = mean_call_duration_month                 \n",
    "\n"
   ]
  },
  {
   "cell_type": "code",
   "execution_count": null,
   "metadata": {},
   "outputs": [],
   "source": [
    "var_call_duration_month = user_plans_month.groupby(['month','plan_name'])\\\n",
    "                            ['minutes_per_month'].var().apply(np.ceil).reset_index()\n",
    "graf_var_call_duration_month = var_call_duration_month.pivot\\\n",
    "                                (index ='month',columns ='plan_name',values ='minutes_per_month')\n"
   ]
  },
  {
   "cell_type": "code",
   "execution_count": null,
   "metadata": {},
   "outputs": [],
   "source": [
    "graf_var_call_duration_month"
   ]
  },
  {
   "cell_type": "code",
   "execution_count": null,
   "metadata": {},
   "outputs": [],
   "source": [
    "graf_var_call_duration_month.plot (kind = 'bar', title = 'Varianza de Duración de Llamadas por Mes'\n",
    "                     , xlabel = 'Número del Mes del Año', ylabel = 'Varianza de Llamadas')"
   ]
  },
  {
   "cell_type": "markdown",
   "metadata": {},
   "source": [
    "NOS PIDEN QUE OBTENGAMOS LA VARIANZA DE LA DURACIÓN DE LLAMADOS POR MES INVESTIGUE Y PUEDO USAR .var() EN .groupby() ASI QUE LO USE.\n",
    "NO SE SI ESTA BIEN O ESTA MAL PERO ESTE ES EL RESULTADO LO GRAFIQUE PARA QUE TUVIERA UNA MEJOR PRESENTACIÓN.\n",
    "Y ESTA RELACIONADA CON LA DISPERCIÓN Y LA CANTIDAD DE DATOS DEL DATAFRAME QUE EN ESTE CASO ES LA DURACIÓN DE LAS LLAMADAS 'minutes_per_month'\n"
   ]
  },
  {
   "cell_type": "code",
   "execution_count": null,
   "metadata": {},
   "outputs": [],
   "source": [
    "graf_mean_call_duration_month"
   ]
  },
  {
   "cell_type": "code",
   "execution_count": null,
   "metadata": {},
   "outputs": [],
   "source": [
    "graf_mean_call_duration_month.plot (kind = 'bar', title = 'Promedio de Duración de Llamadas por Mes'\n",
    "                     , xlabel = 'Número del Mes del Año', ylabel = 'Varianza de Llamadas')"
   ]
  },
  {
   "cell_type": "code",
   "execution_count": null,
   "metadata": {
    "id": "nZzoRUKc0q1K"
   },
   "outputs": [],
   "source": [
    "# Traza un diagrama de caja para visualizar la distribución de la duración mensual de llamadas\n",
    "\n",
    "sns.boxplot(data = mean_calls_duration_months , y ='month' , x ='plan_name')\n",
    "\n"
   ]
  },
  {
   "cell_type": "markdown",
   "metadata": {
    "id": "r627zBO50q1K"
   },
   "source": [
    "[Elabora las conclusiones sobre el comportamiento de los usuarios con respecto a las llamadas. ¿Su comportamiento varía en función del plan?]"
   ]
  },
  {
   "cell_type": "markdown",
   "metadata": {},
   "source": [
    "Como podemos observear en las gráficas de barras entre ULTIMATE y SURF su comportamiento es muy similar durante el año\n",
    "También esta el hecho de que son más usuarios de SURF que de ULTIMATE"
   ]
  },
  {
   "cell_type": "markdown",
   "metadata": {
    "id": "8idKy8Wh0q1L"
   },
   "source": [
    "### Mensajes"
   ]
  },
  {
   "cell_type": "code",
   "execution_count": null,
   "metadata": {
    "id": "NXLxiTit0q1L"
   },
   "outputs": [],
   "source": [
    "# Comprara el número de mensajes que tienden a enviar cada mes los usuarios de cada plan\n",
    "mean_msn_month = user_plans_month.pivot(index =['user_id','month'], columns ='plan_name', values ='msn_per_month')\n",
    "mean_msn_month.sum()"
   ]
  },
  {
   "cell_type": "code",
   "execution_count": null,
   "metadata": {},
   "outputs": [],
   "source": [
    "mean_msn_month_bar = user_plans_month.groupby(['plan_name','month'])['msn_per_month'].mean().apply(np.ceil).reset_index()\n",
    "\n",
    "###"
   ]
  },
  {
   "cell_type": "code",
   "execution_count": null,
   "metadata": {},
   "outputs": [],
   "source": [
    "mean_msn_month_bar\n",
    "###"
   ]
  },
  {
   "cell_type": "code",
   "execution_count": null,
   "metadata": {},
   "outputs": [],
   "source": [
    "mean_msn_month_bar_00 = mean_msn_month_bar.pivot(index ='month', columns ='plan_name', values ='msn_per_month')\n",
    "mean_msn_month_bar_00.plot(kind='hist')\n",
    "###"
   ]
  },
  {
   "cell_type": "code",
   "execution_count": null,
   "metadata": {
    "id": "GRI_R7xF0q1L"
   },
   "outputs": [],
   "source": [
    "mean_msn_month"
   ]
  },
  {
   "cell_type": "code",
   "execution_count": null,
   "metadata": {
    "id": "dtFwCGAp0q1M"
   },
   "outputs": [],
   "source": [
    "mean_msn_month.hist()"
   ]
  },
  {
   "cell_type": "markdown",
   "metadata": {
    "id": "390SSL480q1M"
   },
   "source": [
    "[Elabora las conclusiones sobre el comportamiento de los usuarios con respecto a los mensajes. ¿Su comportamiento varía en función del plan?]"
   ]
  },
  {
   "cell_type": "markdown",
   "metadata": {},
   "source": [
    "Lo que podemos concluir con la los Mensajes es que los usuarios de SURF hacen un mayor uso de ellos que los de ULTIMATE asi como el hecho de que son más usuarios de SURF que de ULTIMATE "
   ]
  },
  {
   "cell_type": "markdown",
   "metadata": {
    "id": "42YSypXz0q1M"
   },
   "source": [
    "### Internet"
   ]
  },
  {
   "cell_type": "code",
   "execution_count": null,
   "metadata": {
    "id": "lSuKPtjh0q1M"
   },
   "outputs": [],
   "source": [
    "# Compara la cantidad de tráfico de Internet consumido por usuarios por plan\n",
    "mean_gb_month = user_plans_month.groupby(['month','plan_name'])['gb_per_month'].mean().apply(np.ceil).reset_index()\n",
    "mean_gb_month\n",
    "###"
   ]
  },
  {
   "cell_type": "code",
   "execution_count": null,
   "metadata": {},
   "outputs": [],
   "source": [
    "graf_mean_gb_month = mean_gb_month.pivot(index ='month',columns ='plan_name',values ='gb_per_month')\n",
    "graf_mean_gb_month.plot (kind = 'bar', title = 'Promedio de Gigabytes por Mes'\n",
    "                     , xlabel = 'Número del Mes del Año', ylabel = 'Promedio de Gigabytes')\n",
    "\n",
    "\n",
    "###"
   ]
  },
  {
   "cell_type": "code",
   "execution_count": null,
   "metadata": {
    "id": "wnh8jYXi0q1N"
   },
   "outputs": [],
   "source": [
    "mean_gb_month_hist = user_plans_month.pivot(index =['user_id','month'], columns ='plan_name', values ='gb_per_month')"
   ]
  },
  {
   "cell_type": "code",
   "execution_count": null,
   "metadata": {},
   "outputs": [],
   "source": [
    "mean_gb_month_hist.sum()"
   ]
  },
  {
   "cell_type": "code",
   "execution_count": null,
   "metadata": {},
   "outputs": [],
   "source": [
    "mean_gb_month_hist.plot.hist()"
   ]
  },
  {
   "cell_type": "code",
   "execution_count": null,
   "metadata": {
    "id": "5VlyJ9ry0q1N"
   },
   "outputs": [],
   "source": [
    "mean_gb_month_hist.hist()"
   ]
  },
  {
   "cell_type": "markdown",
   "metadata": {
    "id": "UN9zwuMP0q1N"
   },
   "source": [
    "[Elabora las conclusiones sobre cómo los usuarios tienden a consumir el tráfico de Internet. ¿Su comportamiento varía en función del plan?]"
   ]
  },
  {
   "cell_type": "markdown",
   "metadata": {},
   "source": [
    "Aqui el comportamiento de los usuario de SURF se dispara con respecto al uso de INTERNET ya que la gran mayoria de los usuarios de SURF apartir de Febrero incrementa uso a más de 10 GB con la con secuencia de que tendra que pagar los Gb adicionales durante el resto del año.\n",
    "Mientras de los usuario de ULTIMATE  no tienen ningun problema en seguir usando menos 30 Gb"
   ]
  },
  {
   "cell_type": "markdown",
   "metadata": {
    "id": "tCijq3260q1N"
   },
   "source": [
    "## Ingreso"
   ]
  },
  {
   "cell_type": "markdown",
   "metadata": {
    "id": "9nq5IAcy0q1O"
   },
   "source": [
    "[Del mismo modo que has estudiado el comportamiento de los usuarios, describe estadísticamente los ingresos de los planes.]"
   ]
  },
  {
   "cell_type": "code",
   "execution_count": null,
   "metadata": {
    "id": "0Y1v8ZUz0q1P"
   },
   "outputs": [],
   "source": [
    "pay_month_user = user_plans_month.groupby(['month','plan_name'])['total_pay_per_month'].mean().apply(np.ceil).reset_index()\n",
    "pay_month_user.fillna(0, inplace=True)\n",
    "graf_pay_month_user = pay_month_user.pivot(index ='month',columns ='plan_name',values ='total_pay_per_month')\n",
    "                 \n",
    "                 \n",
    "graf_pay_month_user"
   ]
  },
  {
   "cell_type": "code",
   "execution_count": null,
   "metadata": {},
   "outputs": [],
   "source": [
    "graf_pay_month_user.mean().apply(np.ceil).reset_index()"
   ]
  },
  {
   "cell_type": "code",
   "execution_count": null,
   "metadata": {
    "id": "bYmwxyVh0q1P"
   },
   "outputs": [],
   "source": [
    "graf_pay_month_user.plot (kind = 'bar', title = 'Promedio de Plan/Ingreso por Mes'\n",
    "                     , xlabel = 'Número del Mes del Año', ylabel = 'Promedio de Plan/Ingreso')"
   ]
  },
  {
   "cell_type": "markdown",
   "metadata": {},
   "source": [
    "Como podemos observar en el gráfico de barras el plan SURF a partir del mes de Febrero tiene un incremento que en promedio se \n",
    "\n",
    "encuentra en ($52) si recordamos el pago mensual del plan SURF es de $20 tuvo in incremento del más del 260%\n",
    "\n",
    "Mientras que el Plan ULTIMATE su incremento promedio es de ($73) tiene un incremento promedio del 4.2%"
   ]
  },
  {
   "cell_type": "markdown",
   "metadata": {
    "id": "ajJ7VKeI0q1Q"
   },
   "source": [
    "## Prueba las hipótesis estadísticas"
   ]
  },
  {
   "cell_type": "markdown",
   "metadata": {
    "id": "IQwa_hsh0q1Q"
   },
   "source": [
    "[Elabora las hipótesis nula y alternativa, escoge la prueba estadística, determina el valor alfa.]"
   ]
  },
  {
   "cell_type": "markdown",
   "metadata": {
    "id": "nFoPNlPq0q1R"
   },
   "source": [
    "Prueba las hipótesis\n",
    "La hipótesis nula determinamos que los ingresos de los usuarios de los planes ULTIMATE y SURF son iguales\n",
    "\n",
    "\n",
    "La hipótesis alterna determinamos que los ingresos de los usuarios de los planes ULTIMATE y SURF son diferetes\n",
    "\n"
   ]
  },
  {
   "cell_type": "markdown",
   "metadata": {},
   "source": [
    "Voy a tomar como valor estadistico critico = 0.05 ya que por lo general es el que se usa\n",
    "\n",
    "alpha = 0.05"
   ]
  },
  {
   "cell_type": "code",
   "execution_count": null,
   "metadata": {},
   "outputs": [],
   "source": [
    "dt_user_ultimate= graf_pay_month_user['ultimate']\n",
    "dt_user_surf= graf_pay_month_user['surf']\n",
    "display(dt_user_ultimate.reset_index())\n",
    "display(dt_user_surf.reset_index())"
   ]
  },
  {
   "cell_type": "code",
   "execution_count": null,
   "metadata": {},
   "outputs": [],
   "source": [
    "\n",
    "results =  st.ttest_ind(dt_user_surf , dt_user_ultimate )\n",
    "\n",
    "alpha = 0.05\n",
    "\n",
    "print('valor p:', results.pvalue)\n",
    "\n",
    "if (results.pvalue < alpha):\n",
    "    print(\"Rechazamos la hipótesis nula\")\n",
    "else:\n",
    "    print(\"No podemos rechazar la hipótesis nula\")\n"
   ]
  },
  {
   "cell_type": "code",
   "execution_count": null,
   "metadata": {},
   "outputs": [],
   "source": [
    "results =  st.ttest_ind(dt_user_ultimate , dt_user_surf )\n",
    "\n",
    "alpha = 0.05\n",
    "\n",
    "print('valor p:', results.pvalue)\n",
    "\n",
    "if (results.pvalue < alpha):\n",
    "    print(\"Rechazamos la hipótesis nula\")\n",
    "else:\n",
    "    print(\"No podemos rechazar la hipótesis nula\")"
   ]
  },
  {
   "cell_type": "markdown",
   "metadata": {},
   "source": [
    "<div class=\"alert alert-block alert-success\">\n",
    "    \n",
    "<b>Comentario del revisor</b> <a class=\"tocSkip\"></a>\n",
    "    \n",
    "Esta prueba de hipótesis es correcta.\n",
    "</div>"
   ]
  },
  {
   "cell_type": "markdown",
   "metadata": {},
   "source": [
    "RECHAZAMOS LA HIPÓTESIS NULA\n",
    "\n",
    "POR LO TANTO\n",
    "\n",
    "La hipótesis alterna determinamos que los ingresos de los usuarios de los planes ULTIMATE y SURF son diferetes"
   ]
  },
  {
   "cell_type": "markdown",
   "metadata": {
    "id": "tCcAruM60q1R"
   },
   "source": [
    "[Prueba la hipótesis de que el ingreso promedio de los usuarios del área NY-NJ es diferente al de los usuarios de otras regiones.]"
   ]
  },
  {
   "cell_type": "markdown",
   "metadata": {
    "id": "LsBgitqj0q1R"
   },
   "source": [
    "[Elabora las hipótesis nula y alternativa, escoge la prueba estadística, determina el valor alfa.]"
   ]
  },
  {
   "cell_type": "markdown",
   "metadata": {
    "id": "Cqcj7wrZ0q1S"
   },
   "source": [
    " Prueba las hipótesis\n",
    "\n",
    "La hipótesis nula determinamos que los usuarios del Área de NY-NJ la compañia tiene un ingreso promedio igual que los usuarios de otras regiones\n",
    "\n",
    "La hipótesis alternativa determinamos que los usuarios del Área de NY-NJ la compañia tiene un ingreso promedio diferente al de los usuarios de otras regiones\n"
   ]
  },
  {
   "cell_type": "markdown",
   "metadata": {},
   "source": [
    "Voy a tomar como valor estadistico critico = 0.05 ya que por lo general es el que se usa \n",
    "\n",
    "alpha = 0.05"
   ]
  },
  {
   "cell_type": "markdown",
   "metadata": {},
   "source": [
    "EL PROYECTO NOS PIDE QUE SEA EL PRECIO PROMEDIO DE LA REGION DE NY-NJ"
   ]
  },
  {
   "cell_type": "code",
   "execution_count": null,
   "metadata": {},
   "outputs": [],
   "source": [
    "dt_NY_NJ = user_plans_month[user_plans_month['city'] == 'New York-Newark-Jersey City, NY-NJ-PA MSA']['total_pay_per_month'] "
   ]
  },
  {
   "cell_type": "code",
   "execution_count": null,
   "metadata": {},
   "outputs": [],
   "source": [
    "not_dt_NY_NJ = user_plans_month[user_plans_month['city'] != 'New York-Newark-Jersey City, NY-NJ-PA MSA'] ['total_pay_per_month']"
   ]
  },
  {
   "cell_type": "code",
   "execution_count": null,
   "metadata": {},
   "outputs": [],
   "source": [
    "dt_NY_NJ = dt_NY_NJ.reset_index()\n",
    "dt_NY_NJ\n"
   ]
  },
  {
   "cell_type": "code",
   "execution_count": null,
   "metadata": {},
   "outputs": [],
   "source": [
    "not_dt_NY_NJ = not_dt_NY_NJ.reset_index()\n",
    "not_dt_NY_NJ\n"
   ]
  },
  {
   "cell_type": "code",
   "execution_count": null,
   "metadata": {},
   "outputs": [],
   "source": [
    "not_dt_NY_NJ"
   ]
  },
  {
   "cell_type": "code",
   "execution_count": null,
   "metadata": {},
   "outputs": [],
   "source": [
    "results_city_m1 =  st.ttest_ind(dt_NY_NJ['total_pay_per_month'] , not_dt_NY_NJ['total_pay_per_month'])\n",
    "\n",
    "alpha = 0.05\n",
    "\n",
    "\n",
    "print('valor p:', results_city_m1.pvalue)\n",
    "\n",
    "if (results_city_m1.pvalue < alpha):\n",
    "    print(\"Rechazamos la hipótesis nula\")\n",
    "else:\n",
    "    print(\"No podemos rechazar la hipótesis nula\")"
   ]
  },
  {
   "cell_type": "code",
   "execution_count": null,
   "metadata": {},
   "outputs": [],
   "source": [
    "results_city_m2 =  st.ttest_ind( not_dt_NY_NJ['total_pay_per_month'] ,dt_NY_NJ['total_pay_per_month'] )\n",
    "\n",
    "alpha = 0.05\n",
    "\n",
    "\n",
    "print('valor p:', results_city_m2.pvalue)\n",
    "\n",
    "if (results_city_m2.pvalue < alpha):\n",
    "    print(\"Rechazamos la hipótesis nula\")\n",
    "else:\n",
    "    print(\"No podemos rechazar la hipótesis nula\")"
   ]
  },
  {
   "cell_type": "markdown",
   "metadata": {},
   "source": [
    "<div class=\"alert alert-block alert-danger\">\n",
    "    \n",
    "<b>Comentario del revisor</b> <a class=\"tocSkip\"></a>\n",
    "\n",
    "Observa que la segunda columna debería ser `not_dt_NY_NJ`.\n",
    "</div>"
   ]
  },
  {
   "cell_type": "markdown",
   "metadata": {},
   "source": [
    "TENEMOS QUE RECHAZAR LA HIPÓTESIS NULA\n",
    "\n",
    "POR LO TANTO \n",
    "\n",
    "LA HIPÓTESIS ALTERNATIVA DETERMINAMOS QUE LOS USUARIOS DEL ÁREA DE NY-NJ  LA COMPAÑIA TIENE UN INGRESO PROMEDIO DIFERENTE AL DE LOS USUARIOS DE OTRAS REGIONES"
   ]
  },
  {
   "cell_type": "markdown",
   "metadata": {
    "id": "bbTR8UQO0q1T"
   },
   "source": [
    "## Conclusión general\n",
    "\n",
    "[En esta sección final, enumera tus conclusiones importantes. Asegúrate de que estas abarquen todas las decisiones (suposiciones) importantes que adoptaste y que determinaron la forma elegida para procesar y analizar los datos.]"
   ]
  },
  {
   "cell_type": "markdown",
   "metadata": {},
   "source": [
    "1.- ESTE PROYECTO EN VERDAD FUE UN RETO PARA MI YA QUE TUVE QUE RETOMAR TODO LO QUE APRENDI EN LOS ANTERIORES PRINCIPALMENTE EN EL CAMBIO DE TIPO DE DATOS (to_datetime) COMO \"LIMPIAR\" LOS NaN Y AGREGAR NUEVAS COLUMNAS, USAR CORRECTAMENTE .merge(), .groupby(). ASI COMO LOS DIFERENTES TIPOS DE GRAFICACIÓN (bar(), hist(),boxplot() ) \n"
   ]
  },
  {
   "cell_type": "markdown",
   "metadata": {},
   "source": [
    "2.- AL ESTUDIAR EL COMPORTAMIENTO DEL USUARIO ME PUDE DAR UNA IDEA DE COMO SE COMPARTABAN LOS DIFERENTES RUBROS (Llamadas, Internet, Mensajes) DE LOS DIFERENTES PLANES surf y ultimate.\n",
    "Y LLEGUE A LA CONCLUSIÓN ANTES DE LA PRUEBA DE HIPÓTESIS QUE CIERTAMENTE AHI UNA GRAN DIFERENCIA EN EL CONSUMO ENTRE LOS DOS PLANES Y EL MAS RELEVANTE ES EL RUBRO DE internet YA QUE EN EL LOS USUARIOS DE surf TIENEN QUE PAGAR APARTIR DEL MES DE FEBRERO MÁS DEL DOBLE (200%) DE LO QUE CUESTA SU PLAN. MIENTRAS QUE LOS DE ultimate NO TIENE UN INCREMENTO SUPERIOR DEL (5%).\n"
   ]
  },
  {
   "cell_type": "markdown",
   "metadata": {},
   "source": [
    "3.- CON LA PRUEBA DE HIPÓTESIS ESTADISTICA:\n",
    "\n",
    "    3.1.- INGRESOS DE LOS USUARIOS POR PLAN: AQUI UTILIZAMOS LA PRUEBA ESTADISTICA st.ttest_ind() QUE NOS AYUDO DE UNA FORMA\n",
    "    VIABLE A DETERMINAR SI SE ACEPTABA O NO LA HIPÓTESIS NULA. RESULTO QUE NO SE ACEPTO YA QUE LA DIFERENCIA CON alpha \n",
    "    es 0.000025 Y PARA QUE NO SE RECHASE TIENE QUE SER MAYOR A alpha\n",
    "\n",
    "    3.2.- COMO EL VALOR DE p ES MENOR QUE 0.05 (alpha), SE CONCLUYE QUE HAY UNA DIFERENCIA SIGNIFICATIVA EN LOS INGRESOS \n",
    "    PROMEDIOS CON EL ÁREA DEL ESTADO DE NY-NJ VS OTRAS ÁREAS DE ESTADO es 0.04076784279879048 , POR LO TANTO NO SE \n",
    "    ACEPTA LA HIPOTESIS NULA EN LA COMPAÑIA MEGALINE."
   ]
  },
  {
   "cell_type": "markdown",
   "metadata": {},
   "source": [
    "4.- COMO CONCLUSIÓN FINAL EL PLAN DE surf ES QUE DA LOS MAYORES INGRESOS AL OPERADOR DE TELECOMUNICACIONES MEGALINE"
   ]
  },
  {
   "cell_type": "markdown",
   "metadata": {},
   "source": [
    "DISCULPA LA DEMORA CARLOS Y MUCHAS GRACIAS POR TU APOYO"
   ]
  }
 ],
 "metadata": {
  "ExecuteTimeLog": [
   {
    "duration": 828,
    "start_time": "2021-11-16T09:21:11.304Z"
   },
   {
    "duration": 893,
    "start_time": "2021-11-16T09:21:17.728Z"
   },
   {
    "duration": 1150,
    "start_time": "2021-11-16T09:21:29.568Z"
   },
   {
    "duration": 3,
    "start_time": "2021-11-16T09:24:14.495Z"
   },
   {
    "duration": 120,
    "start_time": "2021-11-16T09:24:46.630Z"
   },
   {
    "duration": 3,
    "start_time": "2021-11-16T09:28:27.882Z"
   },
   {
    "duration": 4,
    "start_time": "2021-11-16T09:29:54.281Z"
   },
   {
    "duration": 3,
    "start_time": "2021-11-16T09:30:45.936Z"
   },
   {
    "duration": 4,
    "start_time": "2021-11-16T09:31:06.300Z"
   },
   {
    "duration": 113,
    "start_time": "2021-11-16T09:31:37.208Z"
   },
   {
    "duration": 143,
    "start_time": "2021-11-16T09:31:48.656Z"
   },
   {
    "duration": 98,
    "start_time": "2021-11-16T09:31:55.678Z"
   },
   {
    "duration": 3,
    "start_time": "2021-11-16T09:32:08.535Z"
   },
   {
    "duration": 111,
    "start_time": "2021-11-16T09:32:10.120Z"
   },
   {
    "duration": 3,
    "start_time": "2021-11-16T09:32:15.732Z"
   },
   {
    "duration": 4,
    "start_time": "2021-11-16T09:32:29.423Z"
   },
   {
    "duration": 3,
    "start_time": "2021-11-16T10:03:03.074Z"
   },
   {
    "duration": 3,
    "start_time": "2021-11-16T10:10:01.288Z"
   },
   {
    "duration": 3,
    "start_time": "2021-11-16T10:10:46.923Z"
   },
   {
    "duration": 121,
    "start_time": "2021-11-16T10:37:46.494Z"
   },
   {
    "duration": 125,
    "start_time": "2021-11-16T10:38:20.632Z"
   },
   {
    "duration": 112,
    "start_time": "2021-11-16T10:46:53.001Z"
   },
   {
    "duration": 110,
    "start_time": "2021-11-16T10:48:25.775Z"
   },
   {
    "duration": 3,
    "start_time": "2021-11-16T10:50:18.720Z"
   },
   {
    "duration": 4,
    "start_time": "2021-11-16T10:50:37.649Z"
   },
   {
    "duration": 2,
    "start_time": "2021-11-16T10:50:51.884Z"
   },
   {
    "duration": 3,
    "start_time": "2021-11-16T10:51:56.237Z"
   },
   {
    "duration": 101,
    "start_time": "2021-11-16T10:53:13.791Z"
   },
   {
    "duration": 3,
    "start_time": "2021-11-16T10:55:59.186Z"
   },
   {
    "duration": 3,
    "start_time": "2021-11-16T10:56:10.751Z"
   },
   {
    "duration": 3,
    "start_time": "2021-11-16T10:56:49.038Z"
   },
   {
    "duration": 3,
    "start_time": "2021-11-16T10:56:49.174Z"
   },
   {
    "duration": 4,
    "start_time": "2021-11-16T10:56:49.414Z"
   },
   {
    "duration": 3,
    "start_time": "2021-11-16T10:56:49.680Z"
   },
   {
    "duration": 3,
    "start_time": "2021-11-16T10:56:50.370Z"
   },
   {
    "duration": 114,
    "start_time": "2021-11-16T10:59:34.518Z"
   },
   {
    "duration": 3,
    "start_time": "2021-11-16T11:01:41.201Z"
   },
   {
    "duration": 116,
    "start_time": "2021-11-16T11:01:48.754Z"
   },
   {
    "duration": 3,
    "start_time": "2021-11-16T11:02:16.685Z"
   },
   {
    "duration": 3,
    "start_time": "2021-11-16T11:02:19.479Z"
   },
   {
    "duration": 3,
    "start_time": "2021-11-16T11:02:47.067Z"
   },
   {
    "duration": 3,
    "start_time": "2021-11-16T11:02:49.353Z"
   },
   {
    "duration": 3,
    "start_time": "2021-11-16T11:03:07.835Z"
   },
   {
    "duration": 3,
    "start_time": "2021-11-16T11:03:07.953Z"
   },
   {
    "duration": 112,
    "start_time": "2021-11-16T11:07:52.072Z"
   },
   {
    "duration": 187,
    "start_time": "2021-11-16T11:09:23.468Z"
   },
   {
    "duration": 4,
    "start_time": "2021-11-16T11:10:01.455Z"
   },
   {
    "duration": 3,
    "start_time": "2021-11-16T11:10:05.069Z"
   },
   {
    "duration": 4,
    "start_time": "2021-11-16T11:10:13.376Z"
   },
   {
    "duration": 3,
    "start_time": "2021-11-16T11:10:14.434Z"
   },
   {
    "duration": 3,
    "start_time": "2021-11-16T11:10:22.853Z"
   },
   {
    "duration": 4,
    "start_time": "2021-11-16T11:27:29.279Z"
   },
   {
    "duration": 4,
    "start_time": "2021-11-16T11:29:08.919Z"
   },
   {
    "duration": 118,
    "start_time": "2021-11-16T11:29:46.703Z"
   },
   {
    "duration": 437,
    "start_time": "2021-11-16T11:36:02.181Z"
   },
   {
    "duration": 157,
    "start_time": "2021-11-16T11:36:14.388Z"
   },
   {
    "duration": 207,
    "start_time": "2021-11-16T11:47:15.898Z"
   },
   {
    "duration": 3,
    "start_time": "2021-11-16T11:53:52.092Z"
   },
   {
    "duration": 3,
    "start_time": "2021-11-16T11:53:52.236Z"
   },
   {
    "duration": 3,
    "start_time": "2021-11-16T11:59:12.005Z"
   },
   {
    "duration": 112,
    "start_time": "2021-11-16T12:00:33.446Z"
   },
   {
    "duration": 3,
    "start_time": "2021-11-16T12:02:14.453Z"
   },
   {
    "duration": 3,
    "start_time": "2021-11-16T12:02:39.512Z"
   },
   {
    "duration": 106,
    "start_time": "2021-11-16T12:03:03.460Z"
   },
   {
    "duration": 3,
    "start_time": "2021-11-17T20:37:21.139Z"
   },
   {
    "duration": 3,
    "start_time": "2021-11-17T20:37:22.229Z"
   },
   {
    "duration": 3,
    "start_time": "2021-11-17T20:38:38.806Z"
   },
   {
    "duration": 3,
    "start_time": "2021-11-17T20:38:41.958Z"
   },
   {
    "duration": 3,
    "start_time": "2021-11-17T20:43:46.551Z"
   },
   {
    "duration": 4,
    "start_time": "2021-11-17T20:58:21.835Z"
   },
   {
    "duration": 3,
    "start_time": "2021-11-17T20:59:21.872Z"
   },
   {
    "duration": 4,
    "start_time": "2021-11-17T20:59:45.352Z"
   },
   {
    "duration": 4,
    "start_time": "2021-11-17T20:59:49.646Z"
   },
   {
    "duration": 159,
    "start_time": "2021-11-17T21:02:26.949Z"
   },
   {
    "duration": 3,
    "start_time": "2021-11-17T21:03:53.461Z"
   },
   {
    "duration": 3,
    "start_time": "2021-11-17T21:03:53.694Z"
   },
   {
    "duration": 3,
    "start_time": "2021-11-17T21:05:28.145Z"
   },
   {
    "duration": 116,
    "start_time": "2021-11-17T21:05:57.787Z"
   },
   {
    "duration": 3,
    "start_time": "2021-11-17T21:06:37.993Z"
   },
   {
    "duration": 3,
    "start_time": "2021-11-17T21:06:38.261Z"
   },
   {
    "duration": 3,
    "start_time": "2021-11-17T21:11:54.358Z"
   },
   {
    "duration": 3,
    "start_time": "2021-11-17T21:12:43.846Z"
   },
   {
    "duration": 4,
    "start_time": "2021-11-17T21:13:08.773Z"
   },
   {
    "duration": 3,
    "start_time": "2021-11-17T21:14:44.441Z"
   },
   {
    "duration": 3,
    "start_time": "2021-11-17T21:15:42.059Z"
   },
   {
    "duration": 4,
    "start_time": "2021-11-17T21:15:51.995Z"
   },
   {
    "duration": 3,
    "start_time": "2021-11-17T21:15:53.923Z"
   },
   {
    "duration": 3,
    "start_time": "2021-11-17T21:15:55.282Z"
   },
   {
    "duration": 3,
    "start_time": "2021-11-17T21:16:28.492Z"
   },
   {
    "duration": 3,
    "start_time": "2021-11-17T21:16:32.603Z"
   },
   {
    "duration": 3,
    "start_time": "2021-11-17T21:17:06.941Z"
   },
   {
    "duration": 98,
    "start_time": "2021-11-17T21:18:05.733Z"
   },
   {
    "duration": 4,
    "start_time": "2021-11-17T21:21:35.255Z"
   },
   {
    "duration": 3,
    "start_time": "2021-11-17T21:21:37.804Z"
   },
   {
    "duration": 4,
    "start_time": "2021-11-17T21:23:06.071Z"
   },
   {
    "duration": 3,
    "start_time": "2021-11-17T21:23:24.799Z"
   },
   {
    "duration": 3,
    "start_time": "2021-11-17T21:23:32.591Z"
   },
   {
    "duration": 98,
    "start_time": "2021-11-17T21:28:31.559Z"
   },
   {
    "duration": 3,
    "start_time": "2021-11-17T21:28:45.448Z"
   },
   {
    "duration": 3,
    "start_time": "2021-11-17T21:29:17.303Z"
   },
   {
    "duration": 3,
    "start_time": "2021-11-17T21:29:29.617Z"
   },
   {
    "duration": 3,
    "start_time": "2021-11-17T21:29:32.681Z"
   },
   {
    "duration": 3,
    "start_time": "2021-11-17T21:36:11.474Z"
   },
   {
    "duration": 3,
    "start_time": "2021-11-17T21:36:14.791Z"
   },
   {
    "duration": 3,
    "start_time": "2021-11-17T21:36:53.943Z"
   },
   {
    "duration": 3,
    "start_time": "2021-11-17T21:36:56.165Z"
   },
   {
    "duration": 4,
    "start_time": "2021-11-17T21:37:16.590Z"
   },
   {
    "duration": 3,
    "start_time": "2021-11-17T21:37:22.702Z"
   },
   {
    "duration": 4,
    "start_time": "2021-11-17T21:38:03.479Z"
   },
   {
    "duration": 3,
    "start_time": "2021-11-17T21:38:08.601Z"
   },
   {
    "duration": 3,
    "start_time": "2021-11-17T21:38:12.928Z"
   },
   {
    "duration": 3,
    "start_time": "2021-11-17T21:38:48.896Z"
   },
   {
    "duration": 2,
    "start_time": "2021-11-17T21:38:49.171Z"
   },
   {
    "duration": 4,
    "start_time": "2021-11-17T21:39:57.889Z"
   },
   {
    "duration": 3,
    "start_time": "2021-11-17T21:39:58.057Z"
   },
   {
    "duration": 3,
    "start_time": "2021-11-17T21:41:20.108Z"
   },
   {
    "duration": 3,
    "start_time": "2021-11-17T21:41:20.629Z"
   },
   {
    "duration": 3,
    "start_time": "2021-11-17T21:42:49.136Z"
   },
   {
    "duration": 3,
    "start_time": "2021-11-17T21:43:15.137Z"
   },
   {
    "duration": 4,
    "start_time": "2021-11-17T21:43:16.766Z"
   },
   {
    "duration": 4,
    "start_time": "2021-11-17T21:43:31.711Z"
   },
   {
    "duration": 3,
    "start_time": "2021-11-17T21:43:36.312Z"
   },
   {
    "duration": 4,
    "start_time": "2021-11-17T21:45:08.825Z"
   },
   {
    "duration": 4,
    "start_time": "2021-11-17T21:45:10.119Z"
   },
   {
    "duration": 4,
    "start_time": "2021-11-17T21:45:13.748Z"
   },
   {
    "duration": 3,
    "start_time": "2021-11-17T21:45:22.219Z"
   },
   {
    "duration": 3,
    "start_time": "2021-11-17T21:45:33.412Z"
   },
   {
    "duration": 2,
    "start_time": "2021-11-17T21:46:01.885Z"
   },
   {
    "duration": 3,
    "start_time": "2021-11-17T21:46:03.628Z"
   },
   {
    "duration": 107,
    "start_time": "2021-11-17T21:47:32.512Z"
   },
   {
    "duration": 103,
    "start_time": "2021-11-17T21:50:36.243Z"
   },
   {
    "duration": 3,
    "start_time": "2021-11-18T06:28:31.440Z"
   },
   {
    "duration": 3,
    "start_time": "2021-11-18T06:29:00.168Z"
   },
   {
    "duration": 3,
    "start_time": "2021-11-18T06:31:27.008Z"
   },
   {
    "duration": 2,
    "start_time": "2021-11-18T06:35:34.288Z"
   },
   {
    "duration": 2,
    "start_time": "2021-11-18T06:38:04.527Z"
   }
  ],
  "colab": {
   "provenance": []
  },
  "kernelspec": {
   "display_name": "Python 3 (ipykernel)",
   "language": "python",
   "name": "python3"
  },
  "language_info": {
   "codemirror_mode": {
    "name": "ipython",
    "version": 3
   },
   "file_extension": ".py",
   "mimetype": "text/x-python",
   "name": "python",
   "nbconvert_exporter": "python",
   "pygments_lexer": "ipython3",
   "version": "3.9.19"
  },
  "toc": {
   "base_numbering": 1,
   "nav_menu": {},
   "number_sections": true,
   "sideBar": true,
   "skip_h1_title": false,
   "title_cell": "Table of Contents",
   "title_sidebar": "Contents",
   "toc_cell": false,
   "toc_position": {
    "height": "calc(100% - 180px)",
    "left": "10px",
    "top": "150px",
    "width": "368px"
   },
   "toc_section_display": true,
   "toc_window_display": false
  }
 },
 "nbformat": 4,
 "nbformat_minor": 1
}
