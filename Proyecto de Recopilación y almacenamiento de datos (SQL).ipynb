{
 "cells": [
  {
   "cell_type": "markdown",
   "metadata": {},
   "source": [
    "# ¡Hola  Guillermo!\n",
    "\n",
    "Mi nombre es Ezequiel Ferrario, soy code reviewer en Tripleten y tengo el agrado de revisar el proyecto que entregaste.\n",
    "\n",
    "Para simular la dinámica de un ambiente de trabajo, si veo algún error, en primer instancia solo los señalaré, dándote la oportunidad de encontrarlos y corregirlos por tu cuenta. En un trabajo real, el líder de tu equipo hará una dinámica similar. En caso de que no puedas resolver la tarea, te daré una información más precisa en la próxima revisión.\n",
    "\n",
    "Encontrarás mis comentarios más abajo - **por favor, no los muevas, no los modifiques ni los borres**.\n",
    "\n",
    "¿Cómo lo voy a hacer? Voy a leer detenidamente cada una de las implementaciones que has llevado a cabo para cumplir con lo solicitado. Verás los comentarios de esta forma:\n",
    "\n",
    "<div class=\"alert alert-block alert-success\">\n",
    "<b>Comentario del revisor</b> <a class=\"tocSkip\"></a>\n",
    "\n",
    "Si todo está perfecto.\n",
    "</div>\n",
    "\n",
    "\n",
    "<div class=\"alert alert-block alert-warning\">\n",
    "<b>Comentario del revisor</b> <a class=\"tocSkip\"></a>\n",
    "\n",
    "Si tu código está bien pero se puede mejorar o hay algún detalle que le hace falta. Se aceptan uno o dos comentarios de este tipo en el borrador, pero si hay más, deberá hacer las correcciones. Es como una tarea de prueba al solicitar un trabajo: muchos pequeños errores pueden hacer que un candidato sea rechazado.\n",
    "</div>\n",
    "\n",
    "<div class=\"alert alert-block alert-danger\">\n",
    "\n",
    "<b>Comentario del revisor</b> <a class=\"tocSkip\"></a>\n",
    "\n",
    "Si de pronto hace falta algo o existe algún problema con tu código o conclusiones.\n",
    "</div>\n",
    "\n",
    "Puedes responderme de esta forma:\n",
    "\n",
    "<div class=\"alert alert-block alert-info\">\n",
    "<b>Respuesta del estudiante</b> <a class=\"tocSkip\"></a>\n",
    "\n",
    "Hola, muchas gracias por tus comentarios y la revisión.\n",
    "</div>\n",
    "\n",
    "¡Empecemos!"
   ]
  },
  {
   "cell_type": "markdown",
   "metadata": {},
   "source": [
    "---------------\n",
    "\n",
    "\n",
    "\n",
    "<div class=\"alert alert-block alert-danger\">\n",
    "\n",
    "<b>Comentario general #1</b> <a class=\"tocSkip\"></a>\n",
    "\n",
    "Guillermo, el proyecto entregado esta muy bien realizado en todas sus partes y completo ya que abarcaste todas las secciones entendiendo el motivo de lo que se estaba haciendo.\n",
    "\n",
    "\n",
    "Asi, solo restan algunos detalles que te fui marcando para finalizar esta buen proyecto.\n",
    "\n",
    "Quedo a la espera de las correcciones.</div>\n",
    "\n",
    "\n",
    "<div class=\"alert alert-block alert-success\">\n",
    "\n",
    "   \n",
    "<b>Comentario general  #2</b> <a class=\"tocSkip\"></a>\n",
    "    \n",
    "Guillermo, has corregido todos los puntos importantes de este proyecto por lo que el mismo pasa a estar **aprobado**.\n",
    "    \n",
    " Me encanto como quedo el mismo, ya que esta completo y bie nrealizado en todas sus partes.\n",
    "    \n",
    "  Exitos en lo que viene.\n",
    "    \n",
    " Saludos.\n",
    " \n",
    "</div>\n",
    "\n",
    "\n",
    "---------------\n"
   ]
  },
  {
   "cell_type": "markdown",
   "metadata": {},
   "source": [
    "# PROYECTO SPRINT  007"
   ]
  },
  {
   "cell_type": "markdown",
   "metadata": {},
   "source": [
    "<div class=\"alert alert-block alert-danger\">\n",
    "\n",
    "<b>Comentario del revisor</b> <a class=\"tocSkip\"></a>\n",
    "\n",
    "Hace una tabla de contenidos que este  linkeada a las secciones (al clickear debe llevarnos a esa seccion) de esta menera es mas facil desplazarse.\n",
    "\n",
    "Como consejo, si realizas bien todas las secciones (con su respectivo #) podes generarlo automáticamente desde jupyter lab. Para hacerlo, en la pestaña de herramientas de jupyter lab clickeas en el **botón de los puntos y barras**  (Table of contents) te generara automáticamente una tabla de contenidos linkeable y estética. A la **derecha** del botón \"Validate\"\n",
    "</div>\n",
    "                                                    \n",
    "<div class=\"alert alert-block alert-danger\">\n",
    "\n",
    "<b>Comentario del revisor</b> <a class=\"tocSkip\"></a>\n",
    "\n",
    "Guillermo, recorda realizar una introduccion al proyecto, explicando los objetivos y explicando de que se trata. Esto es muy importante de hacer para asentar las bases del proyecto, ademas de dejar en claro que se busca. A partir de una mirada a la introduccion ya entenderemos que buscamos con el proyecto.</div>  \n",
    "\n",
    "\n",
    "\n",
    "<div class=\"alert alert-block alert-success\">\n",
    "\n",
    "   \n",
    "<b>Comentario del revisor #2</b> <a class=\"tocSkip\"></a>\n",
    "    \n",
    "Corregido ambas, excelente.\n",
    "    \n",
    " \n",
    "</div>"
   ]
  },
  {
   "cell_type": "markdown",
   "metadata": {},
   "source": [
    "## Introducción"
   ]
  },
  {
   "cell_type": "markdown",
   "metadata": {},
   "source": [
    "En este proyecto, utilizaremos los DataFrames \"df_taxis\", \"df_neighborhoods\" y \"df_last_consult\" para analizar y responder a varias preguntas relacionadas con los viajes en taxi en la ciudad de Chicago de sus diferentes barrios. Aplicaremos técnicas de manipulación y análisis de datos aprendidas."
   ]
  },
  {
   "cell_type": "code",
   "execution_count": null,
   "metadata": {},
   "outputs": [],
   "source": []
  },
  {
   "cell_type": "markdown",
   "metadata": {},
   "source": [
    "## Sección 001  Importar las Librerias"
   ]
  },
  {
   "cell_type": "code",
   "execution_count": 1,
   "metadata": {},
   "outputs": [],
   "source": [
    "import pandas as pd\n",
    "import matplotlib.pyplot as plt\n",
    "import seaborn as sns\n",
    "import scipy.stats as stats\n",
    "import numpy as np"
   ]
  },
  {
   "cell_type": "markdown",
   "metadata": {},
   "source": [
    "## Subsección 001.01Importar los archivos CSV "
   ]
  },
  {
   "cell_type": "code",
   "execution_count": 2,
   "metadata": {},
   "outputs": [],
   "source": [
    "df_taxis = pd.read_csv('/datasets/project_sql_result_01.csv')\n",
    "df_neighborhoods = pd.read_csv('/datasets/project_sql_result_04.csv')\n",
    "df_last_consult = pd.read_csv('/datasets/project_sql_result_07.csv')\n"
   ]
  },
  {
   "cell_type": "markdown",
   "metadata": {},
   "source": [
    "Se importan los archivos CSV"
   ]
  },
  {
   "cell_type": "markdown",
   "metadata": {},
   "source": [
    "## Subsección 001.02 Revisión del DataFrame"
   ]
  },
  {
   "cell_type": "markdown",
   "metadata": {},
   "source": [
    "### Revisión con la .head()"
   ]
  },
  {
   "cell_type": "code",
   "execution_count": 3,
   "metadata": {},
   "outputs": [
    {
     "data": {
      "text/html": [
       "<div>\n",
       "<style scoped>\n",
       "    .dataframe tbody tr th:only-of-type {\n",
       "        vertical-align: middle;\n",
       "    }\n",
       "\n",
       "    .dataframe tbody tr th {\n",
       "        vertical-align: top;\n",
       "    }\n",
       "\n",
       "    .dataframe thead th {\n",
       "        text-align: right;\n",
       "    }\n",
       "</style>\n",
       "<table border=\"1\" class=\"dataframe\">\n",
       "  <thead>\n",
       "    <tr style=\"text-align: right;\">\n",
       "      <th></th>\n",
       "      <th>company_name</th>\n",
       "      <th>trips_amount</th>\n",
       "    </tr>\n",
       "  </thead>\n",
       "  <tbody>\n",
       "    <tr>\n",
       "      <th>0</th>\n",
       "      <td>Flash Cab</td>\n",
       "      <td>19558</td>\n",
       "    </tr>\n",
       "    <tr>\n",
       "      <th>1</th>\n",
       "      <td>Taxi Affiliation Services</td>\n",
       "      <td>11422</td>\n",
       "    </tr>\n",
       "    <tr>\n",
       "      <th>2</th>\n",
       "      <td>Medallion Leasing</td>\n",
       "      <td>10367</td>\n",
       "    </tr>\n",
       "    <tr>\n",
       "      <th>3</th>\n",
       "      <td>Yellow Cab</td>\n",
       "      <td>9888</td>\n",
       "    </tr>\n",
       "    <tr>\n",
       "      <th>4</th>\n",
       "      <td>Taxi Affiliation Service Yellow</td>\n",
       "      <td>9299</td>\n",
       "    </tr>\n",
       "    <tr>\n",
       "      <th>5</th>\n",
       "      <td>Chicago Carriage Cab Corp</td>\n",
       "      <td>9181</td>\n",
       "    </tr>\n",
       "    <tr>\n",
       "      <th>6</th>\n",
       "      <td>City Service</td>\n",
       "      <td>8448</td>\n",
       "    </tr>\n",
       "    <tr>\n",
       "      <th>7</th>\n",
       "      <td>Sun Taxi</td>\n",
       "      <td>7701</td>\n",
       "    </tr>\n",
       "    <tr>\n",
       "      <th>8</th>\n",
       "      <td>Star North Management LLC</td>\n",
       "      <td>7455</td>\n",
       "    </tr>\n",
       "    <tr>\n",
       "      <th>9</th>\n",
       "      <td>Blue Ribbon Taxi Association Inc.</td>\n",
       "      <td>5953</td>\n",
       "    </tr>\n",
       "  </tbody>\n",
       "</table>\n",
       "</div>"
      ],
      "text/plain": [
       "                        company_name  trips_amount\n",
       "0                          Flash Cab         19558\n",
       "1          Taxi Affiliation Services         11422\n",
       "2                  Medallion Leasing         10367\n",
       "3                         Yellow Cab          9888\n",
       "4    Taxi Affiliation Service Yellow          9299\n",
       "5          Chicago Carriage Cab Corp          9181\n",
       "6                       City Service          8448\n",
       "7                           Sun Taxi          7701\n",
       "8          Star North Management LLC          7455\n",
       "9  Blue Ribbon Taxi Association Inc.          5953"
      ]
     },
     "execution_count": 3,
     "metadata": {},
     "output_type": "execute_result"
    }
   ],
   "source": [
    "df_taxis.head(10)"
   ]
  },
  {
   "cell_type": "code",
   "execution_count": 4,
   "metadata": {},
   "outputs": [
    {
     "data": {
      "text/html": [
       "<div>\n",
       "<style scoped>\n",
       "    .dataframe tbody tr th:only-of-type {\n",
       "        vertical-align: middle;\n",
       "    }\n",
       "\n",
       "    .dataframe tbody tr th {\n",
       "        vertical-align: top;\n",
       "    }\n",
       "\n",
       "    .dataframe thead th {\n",
       "        text-align: right;\n",
       "    }\n",
       "</style>\n",
       "<table border=\"1\" class=\"dataframe\">\n",
       "  <thead>\n",
       "    <tr style=\"text-align: right;\">\n",
       "      <th></th>\n",
       "      <th>dropoff_location_name</th>\n",
       "      <th>average_trips</th>\n",
       "    </tr>\n",
       "  </thead>\n",
       "  <tbody>\n",
       "    <tr>\n",
       "      <th>0</th>\n",
       "      <td>Loop</td>\n",
       "      <td>10727.466667</td>\n",
       "    </tr>\n",
       "    <tr>\n",
       "      <th>1</th>\n",
       "      <td>River North</td>\n",
       "      <td>9523.666667</td>\n",
       "    </tr>\n",
       "    <tr>\n",
       "      <th>2</th>\n",
       "      <td>Streeterville</td>\n",
       "      <td>6664.666667</td>\n",
       "    </tr>\n",
       "    <tr>\n",
       "      <th>3</th>\n",
       "      <td>West Loop</td>\n",
       "      <td>5163.666667</td>\n",
       "    </tr>\n",
       "    <tr>\n",
       "      <th>4</th>\n",
       "      <td>O'Hare</td>\n",
       "      <td>2546.900000</td>\n",
       "    </tr>\n",
       "    <tr>\n",
       "      <th>5</th>\n",
       "      <td>Lake View</td>\n",
       "      <td>2420.966667</td>\n",
       "    </tr>\n",
       "    <tr>\n",
       "      <th>6</th>\n",
       "      <td>Grant Park</td>\n",
       "      <td>2068.533333</td>\n",
       "    </tr>\n",
       "    <tr>\n",
       "      <th>7</th>\n",
       "      <td>Museum Campus</td>\n",
       "      <td>1510.000000</td>\n",
       "    </tr>\n",
       "    <tr>\n",
       "      <th>8</th>\n",
       "      <td>Gold Coast</td>\n",
       "      <td>1364.233333</td>\n",
       "    </tr>\n",
       "    <tr>\n",
       "      <th>9</th>\n",
       "      <td>Sheffield &amp; DePaul</td>\n",
       "      <td>1259.766667</td>\n",
       "    </tr>\n",
       "  </tbody>\n",
       "</table>\n",
       "</div>"
      ],
      "text/plain": [
       "  dropoff_location_name  average_trips\n",
       "0                  Loop   10727.466667\n",
       "1           River North    9523.666667\n",
       "2         Streeterville    6664.666667\n",
       "3             West Loop    5163.666667\n",
       "4                O'Hare    2546.900000\n",
       "5             Lake View    2420.966667\n",
       "6            Grant Park    2068.533333\n",
       "7         Museum Campus    1510.000000\n",
       "8            Gold Coast    1364.233333\n",
       "9    Sheffield & DePaul    1259.766667"
      ]
     },
     "execution_count": 4,
     "metadata": {},
     "output_type": "execute_result"
    }
   ],
   "source": [
    "df_neighborhoods.head(10)"
   ]
  },
  {
   "cell_type": "code",
   "execution_count": 5,
   "metadata": {},
   "outputs": [
    {
     "data": {
      "text/html": [
       "<div>\n",
       "<style scoped>\n",
       "    .dataframe tbody tr th:only-of-type {\n",
       "        vertical-align: middle;\n",
       "    }\n",
       "\n",
       "    .dataframe tbody tr th {\n",
       "        vertical-align: top;\n",
       "    }\n",
       "\n",
       "    .dataframe thead th {\n",
       "        text-align: right;\n",
       "    }\n",
       "</style>\n",
       "<table border=\"1\" class=\"dataframe\">\n",
       "  <thead>\n",
       "    <tr style=\"text-align: right;\">\n",
       "      <th></th>\n",
       "      <th>start_ts</th>\n",
       "      <th>weather_conditions</th>\n",
       "      <th>duration_seconds</th>\n",
       "    </tr>\n",
       "  </thead>\n",
       "  <tbody>\n",
       "    <tr>\n",
       "      <th>0</th>\n",
       "      <td>2017-11-25 16:00:00</td>\n",
       "      <td>Good</td>\n",
       "      <td>2410.0</td>\n",
       "    </tr>\n",
       "    <tr>\n",
       "      <th>1</th>\n",
       "      <td>2017-11-25 14:00:00</td>\n",
       "      <td>Good</td>\n",
       "      <td>1920.0</td>\n",
       "    </tr>\n",
       "    <tr>\n",
       "      <th>2</th>\n",
       "      <td>2017-11-25 12:00:00</td>\n",
       "      <td>Good</td>\n",
       "      <td>1543.0</td>\n",
       "    </tr>\n",
       "    <tr>\n",
       "      <th>3</th>\n",
       "      <td>2017-11-04 10:00:00</td>\n",
       "      <td>Good</td>\n",
       "      <td>2512.0</td>\n",
       "    </tr>\n",
       "    <tr>\n",
       "      <th>4</th>\n",
       "      <td>2017-11-11 07:00:00</td>\n",
       "      <td>Good</td>\n",
       "      <td>1440.0</td>\n",
       "    </tr>\n",
       "    <tr>\n",
       "      <th>5</th>\n",
       "      <td>2017-11-11 04:00:00</td>\n",
       "      <td>Good</td>\n",
       "      <td>1320.0</td>\n",
       "    </tr>\n",
       "    <tr>\n",
       "      <th>6</th>\n",
       "      <td>2017-11-04 16:00:00</td>\n",
       "      <td>Bad</td>\n",
       "      <td>2969.0</td>\n",
       "    </tr>\n",
       "    <tr>\n",
       "      <th>7</th>\n",
       "      <td>2017-11-18 11:00:00</td>\n",
       "      <td>Good</td>\n",
       "      <td>2280.0</td>\n",
       "    </tr>\n",
       "    <tr>\n",
       "      <th>8</th>\n",
       "      <td>2017-11-11 14:00:00</td>\n",
       "      <td>Good</td>\n",
       "      <td>2460.0</td>\n",
       "    </tr>\n",
       "    <tr>\n",
       "      <th>9</th>\n",
       "      <td>2017-11-11 12:00:00</td>\n",
       "      <td>Good</td>\n",
       "      <td>2040.0</td>\n",
       "    </tr>\n",
       "  </tbody>\n",
       "</table>\n",
       "</div>"
      ],
      "text/plain": [
       "              start_ts weather_conditions  duration_seconds\n",
       "0  2017-11-25 16:00:00               Good            2410.0\n",
       "1  2017-11-25 14:00:00               Good            1920.0\n",
       "2  2017-11-25 12:00:00               Good            1543.0\n",
       "3  2017-11-04 10:00:00               Good            2512.0\n",
       "4  2017-11-11 07:00:00               Good            1440.0\n",
       "5  2017-11-11 04:00:00               Good            1320.0\n",
       "6  2017-11-04 16:00:00                Bad            2969.0\n",
       "7  2017-11-18 11:00:00               Good            2280.0\n",
       "8  2017-11-11 14:00:00               Good            2460.0\n",
       "9  2017-11-11 12:00:00               Good            2040.0"
      ]
     },
     "execution_count": 5,
     "metadata": {},
     "output_type": "execute_result"
    }
   ],
   "source": [
    "df_last_consult.head(10)"
   ]
  },
  {
   "cell_type": "markdown",
   "metadata": {},
   "source": [
    "Revisamos los valores de cada columna y despues de revisar los dataframe y las columnas de neighborhoods['average_trips'] y last_consult['start_ts'] se tiene que usar numpy (np.ceil y np.floor) y cambiar el tipo de objeto a pd.to_datetime.\n",
    "\n",
    "Más adelante observaremos con más detalle en donde se aplicaran."
   ]
  },
  {
   "cell_type": "markdown",
   "metadata": {},
   "source": [
    "### Revisión con la .info()"
   ]
  },
  {
   "cell_type": "code",
   "execution_count": 6,
   "metadata": {},
   "outputs": [
    {
     "name": "stdout",
     "output_type": "stream",
     "text": [
      "<class 'pandas.core.frame.DataFrame'>\n",
      "RangeIndex: 64 entries, 0 to 63\n",
      "Data columns (total 2 columns):\n",
      " #   Column        Non-Null Count  Dtype \n",
      "---  ------        --------------  ----- \n",
      " 0   company_name  64 non-null     object\n",
      " 1   trips_amount  64 non-null     int64 \n",
      "dtypes: int64(1), object(1)\n",
      "memory usage: 1.1+ KB\n"
     ]
    }
   ],
   "source": [
    "df_taxis.info()"
   ]
  },
  {
   "cell_type": "code",
   "execution_count": 7,
   "metadata": {},
   "outputs": [
    {
     "name": "stdout",
     "output_type": "stream",
     "text": [
      "<class 'pandas.core.frame.DataFrame'>\n",
      "RangeIndex: 94 entries, 0 to 93\n",
      "Data columns (total 2 columns):\n",
      " #   Column                 Non-Null Count  Dtype  \n",
      "---  ------                 --------------  -----  \n",
      " 0   dropoff_location_name  94 non-null     object \n",
      " 1   average_trips          94 non-null     float64\n",
      "dtypes: float64(1), object(1)\n",
      "memory usage: 1.6+ KB\n"
     ]
    }
   ],
   "source": [
    "df_neighborhoods.info()"
   ]
  },
  {
   "cell_type": "code",
   "execution_count": 8,
   "metadata": {},
   "outputs": [
    {
     "name": "stdout",
     "output_type": "stream",
     "text": [
      "<class 'pandas.core.frame.DataFrame'>\n",
      "RangeIndex: 1068 entries, 0 to 1067\n",
      "Data columns (total 3 columns):\n",
      " #   Column              Non-Null Count  Dtype  \n",
      "---  ------              --------------  -----  \n",
      " 0   start_ts            1068 non-null   object \n",
      " 1   weather_conditions  1068 non-null   object \n",
      " 2   duration_seconds    1068 non-null   float64\n",
      "dtypes: float64(1), object(2)\n",
      "memory usage: 25.2+ KB\n"
     ]
    }
   ],
   "source": [
    "df_last_consult.info()"
   ]
  },
  {
   "cell_type": "markdown",
   "metadata": {},
   "source": [
    "Revisamos los valores nulos"
   ]
  },
  {
   "cell_type": "markdown",
   "metadata": {},
   "source": [
    "### Revisión con la .describe()"
   ]
  },
  {
   "cell_type": "code",
   "execution_count": 9,
   "metadata": {},
   "outputs": [
    {
     "data": {
      "text/html": [
       "<div>\n",
       "<style scoped>\n",
       "    .dataframe tbody tr th:only-of-type {\n",
       "        vertical-align: middle;\n",
       "    }\n",
       "\n",
       "    .dataframe tbody tr th {\n",
       "        vertical-align: top;\n",
       "    }\n",
       "\n",
       "    .dataframe thead th {\n",
       "        text-align: right;\n",
       "    }\n",
       "</style>\n",
       "<table border=\"1\" class=\"dataframe\">\n",
       "  <thead>\n",
       "    <tr style=\"text-align: right;\">\n",
       "      <th></th>\n",
       "      <th>trips_amount</th>\n",
       "    </tr>\n",
       "  </thead>\n",
       "  <tbody>\n",
       "    <tr>\n",
       "      <th>count</th>\n",
       "      <td>64.000000</td>\n",
       "    </tr>\n",
       "    <tr>\n",
       "      <th>mean</th>\n",
       "      <td>2145.484375</td>\n",
       "    </tr>\n",
       "    <tr>\n",
       "      <th>std</th>\n",
       "      <td>3812.310186</td>\n",
       "    </tr>\n",
       "    <tr>\n",
       "      <th>min</th>\n",
       "      <td>2.000000</td>\n",
       "    </tr>\n",
       "    <tr>\n",
       "      <th>25%</th>\n",
       "      <td>20.750000</td>\n",
       "    </tr>\n",
       "    <tr>\n",
       "      <th>50%</th>\n",
       "      <td>178.500000</td>\n",
       "    </tr>\n",
       "    <tr>\n",
       "      <th>75%</th>\n",
       "      <td>2106.500000</td>\n",
       "    </tr>\n",
       "    <tr>\n",
       "      <th>max</th>\n",
       "      <td>19558.000000</td>\n",
       "    </tr>\n",
       "  </tbody>\n",
       "</table>\n",
       "</div>"
      ],
      "text/plain": [
       "       trips_amount\n",
       "count     64.000000\n",
       "mean    2145.484375\n",
       "std     3812.310186\n",
       "min        2.000000\n",
       "25%       20.750000\n",
       "50%      178.500000\n",
       "75%     2106.500000\n",
       "max    19558.000000"
      ]
     },
     "execution_count": 9,
     "metadata": {},
     "output_type": "execute_result"
    }
   ],
   "source": [
    "df_taxis.describe()"
   ]
  },
  {
   "cell_type": "code",
   "execution_count": 10,
   "metadata": {},
   "outputs": [
    {
     "data": {
      "text/html": [
       "<div>\n",
       "<style scoped>\n",
       "    .dataframe tbody tr th:only-of-type {\n",
       "        vertical-align: middle;\n",
       "    }\n",
       "\n",
       "    .dataframe tbody tr th {\n",
       "        vertical-align: top;\n",
       "    }\n",
       "\n",
       "    .dataframe thead th {\n",
       "        text-align: right;\n",
       "    }\n",
       "</style>\n",
       "<table border=\"1\" class=\"dataframe\">\n",
       "  <thead>\n",
       "    <tr style=\"text-align: right;\">\n",
       "      <th></th>\n",
       "      <th>average_trips</th>\n",
       "    </tr>\n",
       "  </thead>\n",
       "  <tbody>\n",
       "    <tr>\n",
       "      <th>count</th>\n",
       "      <td>94.000000</td>\n",
       "    </tr>\n",
       "    <tr>\n",
       "      <th>mean</th>\n",
       "      <td>599.953728</td>\n",
       "    </tr>\n",
       "    <tr>\n",
       "      <th>std</th>\n",
       "      <td>1714.591098</td>\n",
       "    </tr>\n",
       "    <tr>\n",
       "      <th>min</th>\n",
       "      <td>1.800000</td>\n",
       "    </tr>\n",
       "    <tr>\n",
       "      <th>25%</th>\n",
       "      <td>14.266667</td>\n",
       "    </tr>\n",
       "    <tr>\n",
       "      <th>50%</th>\n",
       "      <td>52.016667</td>\n",
       "    </tr>\n",
       "    <tr>\n",
       "      <th>75%</th>\n",
       "      <td>298.858333</td>\n",
       "    </tr>\n",
       "    <tr>\n",
       "      <th>max</th>\n",
       "      <td>10727.466667</td>\n",
       "    </tr>\n",
       "  </tbody>\n",
       "</table>\n",
       "</div>"
      ],
      "text/plain": [
       "       average_trips\n",
       "count      94.000000\n",
       "mean      599.953728\n",
       "std      1714.591098\n",
       "min         1.800000\n",
       "25%        14.266667\n",
       "50%        52.016667\n",
       "75%       298.858333\n",
       "max     10727.466667"
      ]
     },
     "execution_count": 10,
     "metadata": {},
     "output_type": "execute_result"
    }
   ],
   "source": [
    "df_neighborhoods.describe()"
   ]
  },
  {
   "cell_type": "code",
   "execution_count": 11,
   "metadata": {},
   "outputs": [
    {
     "data": {
      "text/html": [
       "<div>\n",
       "<style scoped>\n",
       "    .dataframe tbody tr th:only-of-type {\n",
       "        vertical-align: middle;\n",
       "    }\n",
       "\n",
       "    .dataframe tbody tr th {\n",
       "        vertical-align: top;\n",
       "    }\n",
       "\n",
       "    .dataframe thead th {\n",
       "        text-align: right;\n",
       "    }\n",
       "</style>\n",
       "<table border=\"1\" class=\"dataframe\">\n",
       "  <thead>\n",
       "    <tr style=\"text-align: right;\">\n",
       "      <th></th>\n",
       "      <th>duration_seconds</th>\n",
       "    </tr>\n",
       "  </thead>\n",
       "  <tbody>\n",
       "    <tr>\n",
       "      <th>count</th>\n",
       "      <td>1068.000000</td>\n",
       "    </tr>\n",
       "    <tr>\n",
       "      <th>mean</th>\n",
       "      <td>2071.731273</td>\n",
       "    </tr>\n",
       "    <tr>\n",
       "      <th>std</th>\n",
       "      <td>769.461125</td>\n",
       "    </tr>\n",
       "    <tr>\n",
       "      <th>min</th>\n",
       "      <td>0.000000</td>\n",
       "    </tr>\n",
       "    <tr>\n",
       "      <th>25%</th>\n",
       "      <td>1438.250000</td>\n",
       "    </tr>\n",
       "    <tr>\n",
       "      <th>50%</th>\n",
       "      <td>1980.000000</td>\n",
       "    </tr>\n",
       "    <tr>\n",
       "      <th>75%</th>\n",
       "      <td>2580.000000</td>\n",
       "    </tr>\n",
       "    <tr>\n",
       "      <th>max</th>\n",
       "      <td>7440.000000</td>\n",
       "    </tr>\n",
       "  </tbody>\n",
       "</table>\n",
       "</div>"
      ],
      "text/plain": [
       "       duration_seconds\n",
       "count       1068.000000\n",
       "mean        2071.731273\n",
       "std          769.461125\n",
       "min            0.000000\n",
       "25%         1438.250000\n",
       "50%         1980.000000\n",
       "75%         2580.000000\n",
       "max         7440.000000"
      ]
     },
     "execution_count": 11,
     "metadata": {},
     "output_type": "execute_result"
    }
   ],
   "source": [
    "df_last_consult.describe()"
   ]
  },
  {
   "cell_type": "markdown",
   "metadata": {},
   "source": [
    "Para no hacer el comentario de todos los dataframe solo vamos a hacer el comentario de df_last_consult:\n",
    "\n",
    "count: El número total de valores no nulos en la columna, que es 1068.\n",
    "\n",
    "mean: El valor medio (promedio) de los valores en la columna, que es \n",
    "2071.731273 segundos.\n",
    "\n",
    "std: La desviación estándar de los valores, que es 769.461125 segundos.\n",
    "\n",
    "min: El valor mínimo en la columna, que es 0 segundos.\n",
    "\n",
    "25%: El valor del percentil 25%, que significa que el 25% de los valores son menores o iguales a 1438.25 segundos.\n",
    "\n",
    "50%: El valor del percentil 50%, también conocido como la mediana, que es 1980 segundos.\n",
    "\n",
    "75%: El valor del percentil 75%, que significa que el 75% de los valores son menores o iguales a 2580 segundos.\n",
    "\n",
    "max: El valor máximo en la columna, que es 7440 segundos.\n"
   ]
  },
  {
   "cell_type": "code",
   "execution_count": null,
   "metadata": {},
   "outputs": [],
   "source": []
  },
  {
   "cell_type": "markdown",
   "metadata": {},
   "source": [
    "### Revisión con la .duplicated() con sus diferentes formas de obtener algún resultado"
   ]
  },
  {
   "cell_type": "code",
   "execution_count": 12,
   "metadata": {},
   "outputs": [
    {
     "data": {
      "text/plain": [
       "array([False])"
      ]
     },
     "execution_count": 12,
     "metadata": {},
     "output_type": "execute_result"
    }
   ],
   "source": [
    "df_taxis.duplicated().unique()"
   ]
  },
  {
   "cell_type": "code",
   "execution_count": 13,
   "metadata": {},
   "outputs": [
    {
     "data": {
      "text/plain": [
       "array([False])"
      ]
     },
     "execution_count": 13,
     "metadata": {},
     "output_type": "execute_result"
    }
   ],
   "source": [
    "df_neighborhoods.duplicated().unique()"
   ]
  },
  {
   "cell_type": "code",
   "execution_count": 14,
   "metadata": {},
   "outputs": [
    {
     "data": {
      "text/plain": [
       "array([False,  True])"
      ]
     },
     "execution_count": 14,
     "metadata": {},
     "output_type": "execute_result"
    }
   ],
   "source": [
    "df_last_consult.duplicated().unique()"
   ]
  },
  {
   "cell_type": "markdown",
   "metadata": {},
   "source": [
    "Como podemos observar los dos primeros dataframe (df_taxis y df_neighborhoods) no tenemos duplicados ya que al obtener [False] nos indica que no tenemos duplicados por otro lado tenemos que eliminar las filas duplicadas de df_last_consult"
   ]
  },
  {
   "cell_type": "code",
   "execution_count": null,
   "metadata": {},
   "outputs": [],
   "source": []
  },
  {
   "cell_type": "markdown",
   "metadata": {},
   "source": [
    "### Revisión de la duplicidad del Dataframe df_last_consult"
   ]
  },
  {
   "cell_type": "code",
   "execution_count": 15,
   "metadata": {},
   "outputs": [
    {
     "name": "stdout",
     "output_type": "stream",
     "text": [
      "Número de filas duplicadas: 197\n"
     ]
    }
   ],
   "source": [
    "num_duplicados = df_last_consult.duplicated().sum()\n",
    "\n",
    "print(f\"Número de filas duplicadas: {num_duplicados}\")"
   ]
  },
  {
   "cell_type": "markdown",
   "metadata": {},
   "source": [
    "Como podemos observar tenemos 197 filas duplilcadas"
   ]
  },
  {
   "cell_type": "code",
   "execution_count": null,
   "metadata": {},
   "outputs": [],
   "source": []
  },
  {
   "cell_type": "markdown",
   "metadata": {},
   "source": [
    "### Eliminación de las filas duplicadas con .drop_duplicates()"
   ]
  },
  {
   "cell_type": "code",
   "execution_count": 16,
   "metadata": {},
   "outputs": [],
   "source": [
    "df_sin_duplicados = df_last_consult.drop_duplicates()"
   ]
  },
  {
   "cell_type": "code",
   "execution_count": 17,
   "metadata": {},
   "outputs": [],
   "source": [
    "df_last_consult = df_sin_duplicados"
   ]
  },
  {
   "cell_type": "code",
   "execution_count": 18,
   "metadata": {},
   "outputs": [
    {
     "data": {
      "text/plain": [
       "array([False])"
      ]
     },
     "execution_count": 18,
     "metadata": {},
     "output_type": "execute_result"
    }
   ],
   "source": [
    "df_last_consult.duplicated().unique()"
   ]
  },
  {
   "cell_type": "markdown",
   "metadata": {},
   "source": [
    "Como podemos observar ya no tenemos filas duplicadas"
   ]
  },
  {
   "cell_type": "code",
   "execution_count": null,
   "metadata": {},
   "outputs": [],
   "source": []
  },
  {
   "cell_type": "markdown",
   "metadata": {},
   "source": [
    "### Revisión con la .dtypes"
   ]
  },
  {
   "cell_type": "code",
   "execution_count": 19,
   "metadata": {},
   "outputs": [
    {
     "name": "stdout",
     "output_type": "stream",
     "text": [
      "company_name    object\n",
      "trips_amount     int64\n",
      "dtype: object\n"
     ]
    }
   ],
   "source": [
    "print(df_taxis.dtypes)"
   ]
  },
  {
   "cell_type": "code",
   "execution_count": 20,
   "metadata": {},
   "outputs": [
    {
     "name": "stdout",
     "output_type": "stream",
     "text": [
      "dropoff_location_name     object\n",
      "average_trips            float64\n",
      "dtype: object\n"
     ]
    }
   ],
   "source": [
    "print(df_neighborhoods.dtypes)\n"
   ]
  },
  {
   "cell_type": "code",
   "execution_count": 21,
   "metadata": {},
   "outputs": [
    {
     "name": "stdout",
     "output_type": "stream",
     "text": [
      "start_ts               object\n",
      "weather_conditions     object\n",
      "duration_seconds      float64\n",
      "dtype: object\n"
     ]
    }
   ],
   "source": [
    "print(df_last_consult.dtypes)"
   ]
  },
  {
   "cell_type": "markdown",
   "metadata": {},
   "source": [
    "Revisamos los tipos de datos"
   ]
  },
  {
   "cell_type": "markdown",
   "metadata": {},
   "source": [
    "<div class=\"alert alert-block alert-danger\">\n",
    "\n",
    "<b>Comentario del revisor</b> <a class=\"tocSkip\"></a>\n",
    "\n",
    "Para los 3 datasets:\n",
    "\n",
    "\n",
    "<div class=\"alert alert-block alert-danger\">\n",
    "\n",
    "<b>Comentario del revisor</b> <a class=\"tocSkip\"></a>\n",
    "\n",
    "Recorda utilizar el metodo describe() para una exploracion rapida inicial de aquellas variables numéricas. Siempre es necesario realizarlo ya que de forma rápida tenemos un panorama muy bueno de que nos espera e incluso encontraremos inconsistencias si estas existiencen.\n",
    "Describí al respecto lo que ves. </div>\n",
    "    \n",
    "    \n",
    "    \n",
    "\n",
    "<div class=\"alert alert-block alert-danger\">\n",
    "\n",
    "<b>Comentario del revisor</b> <a class=\"tocSkip\"></a>\n",
    "\n",
    "Verifica si existen duplicados </div>\n",
    "\n",
    "\n",
    "</div>\n",
    "\n",
    "\n",
    "<div class=\"alert alert-block alert-success\">\n",
    "\n",
    "   \n",
    "<b>Comentario del revisor #2</b> <a class=\"tocSkip\"></a>\n",
    "    \n",
    "Corregido, muy bien.\n",
    "    \n",
    " \n",
    "</div>"
   ]
  },
  {
   "cell_type": "markdown",
   "metadata": {},
   "source": [
    "## Subsección 001.03 Se modifican los Datatype y su revisión con .head() y .describe()"
   ]
  },
  {
   "cell_type": "markdown",
   "metadata": {},
   "source": [
    "###  Se modifican los Datatype "
   ]
  },
  {
   "cell_type": "code",
   "execution_count": 22,
   "metadata": {},
   "outputs": [],
   "source": [
    "df_last_consult['start_ts'] = pd.to_datetime(df_last_consult['start_ts'])"
   ]
  },
  {
   "cell_type": "markdown",
   "metadata": {},
   "source": [
    "Convertir la columna last_consult['start_ts'] de objet a datetime para que podamos ejecutar la hipótesis."
   ]
  },
  {
   "cell_type": "code",
   "execution_count": 23,
   "metadata": {},
   "outputs": [],
   "source": [
    "\n",
    "def round_average_trips(value):\n",
    "    if value > 0.51:\n",
    "        return np.ceil(value)\n",
    "    else:\n",
    "        return np.floor(value)\n",
    "\n",
    "df_neighborhoods['average_trips'] = df_neighborhoods['average_trips'].apply(round_average_trips)\n"
   ]
  },
  {
   "cell_type": "markdown",
   "metadata": {},
   "source": [
    "Usamos np.ceil y np.floor en neighborhoods['average_trips'] para tener un mejor comprensión de los valores de la misma ya que tiene mas de 5 decimales."
   ]
  },
  {
   "cell_type": "code",
   "execution_count": 24,
   "metadata": {},
   "outputs": [
    {
     "name": "stdout",
     "output_type": "stream",
     "text": [
      "<class 'pandas.core.frame.DataFrame'>\n",
      "Int64Index: 871 entries, 0 to 1067\n",
      "Data columns (total 3 columns):\n",
      " #   Column              Non-Null Count  Dtype         \n",
      "---  ------              --------------  -----         \n",
      " 0   start_ts            871 non-null    datetime64[ns]\n",
      " 1   weather_conditions  871 non-null    object        \n",
      " 2   duration_seconds    871 non-null    float64       \n",
      "dtypes: datetime64[ns](1), float64(1), object(1)\n",
      "memory usage: 27.2+ KB\n"
     ]
    }
   ],
   "source": [
    "df_last_consult.info()"
   ]
  },
  {
   "cell_type": "markdown",
   "metadata": {},
   "source": [
    "Se revisa el valor de la columna 'start_ts'"
   ]
  },
  {
   "cell_type": "code",
   "execution_count": null,
   "metadata": {},
   "outputs": [],
   "source": []
  },
  {
   "cell_type": "markdown",
   "metadata": {},
   "source": [
    "### Se revisa con .head()"
   ]
  },
  {
   "cell_type": "code",
   "execution_count": 25,
   "metadata": {},
   "outputs": [
    {
     "data": {
      "text/html": [
       "<div>\n",
       "<style scoped>\n",
       "    .dataframe tbody tr th:only-of-type {\n",
       "        vertical-align: middle;\n",
       "    }\n",
       "\n",
       "    .dataframe tbody tr th {\n",
       "        vertical-align: top;\n",
       "    }\n",
       "\n",
       "    .dataframe thead th {\n",
       "        text-align: right;\n",
       "    }\n",
       "</style>\n",
       "<table border=\"1\" class=\"dataframe\">\n",
       "  <thead>\n",
       "    <tr style=\"text-align: right;\">\n",
       "      <th></th>\n",
       "      <th>company_name</th>\n",
       "      <th>trips_amount</th>\n",
       "    </tr>\n",
       "  </thead>\n",
       "  <tbody>\n",
       "    <tr>\n",
       "      <th>0</th>\n",
       "      <td>Flash Cab</td>\n",
       "      <td>19558</td>\n",
       "    </tr>\n",
       "    <tr>\n",
       "      <th>1</th>\n",
       "      <td>Taxi Affiliation Services</td>\n",
       "      <td>11422</td>\n",
       "    </tr>\n",
       "    <tr>\n",
       "      <th>2</th>\n",
       "      <td>Medallion Leasing</td>\n",
       "      <td>10367</td>\n",
       "    </tr>\n",
       "    <tr>\n",
       "      <th>3</th>\n",
       "      <td>Yellow Cab</td>\n",
       "      <td>9888</td>\n",
       "    </tr>\n",
       "    <tr>\n",
       "      <th>4</th>\n",
       "      <td>Taxi Affiliation Service Yellow</td>\n",
       "      <td>9299</td>\n",
       "    </tr>\n",
       "    <tr>\n",
       "      <th>5</th>\n",
       "      <td>Chicago Carriage Cab Corp</td>\n",
       "      <td>9181</td>\n",
       "    </tr>\n",
       "    <tr>\n",
       "      <th>6</th>\n",
       "      <td>City Service</td>\n",
       "      <td>8448</td>\n",
       "    </tr>\n",
       "    <tr>\n",
       "      <th>7</th>\n",
       "      <td>Sun Taxi</td>\n",
       "      <td>7701</td>\n",
       "    </tr>\n",
       "    <tr>\n",
       "      <th>8</th>\n",
       "      <td>Star North Management LLC</td>\n",
       "      <td>7455</td>\n",
       "    </tr>\n",
       "    <tr>\n",
       "      <th>9</th>\n",
       "      <td>Blue Ribbon Taxi Association Inc.</td>\n",
       "      <td>5953</td>\n",
       "    </tr>\n",
       "  </tbody>\n",
       "</table>\n",
       "</div>"
      ],
      "text/plain": [
       "                        company_name  trips_amount\n",
       "0                          Flash Cab         19558\n",
       "1          Taxi Affiliation Services         11422\n",
       "2                  Medallion Leasing         10367\n",
       "3                         Yellow Cab          9888\n",
       "4    Taxi Affiliation Service Yellow          9299\n",
       "5          Chicago Carriage Cab Corp          9181\n",
       "6                       City Service          8448\n",
       "7                           Sun Taxi          7701\n",
       "8          Star North Management LLC          7455\n",
       "9  Blue Ribbon Taxi Association Inc.          5953"
      ]
     },
     "execution_count": 25,
     "metadata": {},
     "output_type": "execute_result"
    }
   ],
   "source": [
    "df_taxis.head(10)"
   ]
  },
  {
   "cell_type": "code",
   "execution_count": 26,
   "metadata": {},
   "outputs": [
    {
     "data": {
      "text/html": [
       "<div>\n",
       "<style scoped>\n",
       "    .dataframe tbody tr th:only-of-type {\n",
       "        vertical-align: middle;\n",
       "    }\n",
       "\n",
       "    .dataframe tbody tr th {\n",
       "        vertical-align: top;\n",
       "    }\n",
       "\n",
       "    .dataframe thead th {\n",
       "        text-align: right;\n",
       "    }\n",
       "</style>\n",
       "<table border=\"1\" class=\"dataframe\">\n",
       "  <thead>\n",
       "    <tr style=\"text-align: right;\">\n",
       "      <th></th>\n",
       "      <th>dropoff_location_name</th>\n",
       "      <th>average_trips</th>\n",
       "    </tr>\n",
       "  </thead>\n",
       "  <tbody>\n",
       "    <tr>\n",
       "      <th>0</th>\n",
       "      <td>Loop</td>\n",
       "      <td>10728.0</td>\n",
       "    </tr>\n",
       "    <tr>\n",
       "      <th>1</th>\n",
       "      <td>River North</td>\n",
       "      <td>9524.0</td>\n",
       "    </tr>\n",
       "    <tr>\n",
       "      <th>2</th>\n",
       "      <td>Streeterville</td>\n",
       "      <td>6665.0</td>\n",
       "    </tr>\n",
       "    <tr>\n",
       "      <th>3</th>\n",
       "      <td>West Loop</td>\n",
       "      <td>5164.0</td>\n",
       "    </tr>\n",
       "    <tr>\n",
       "      <th>4</th>\n",
       "      <td>O'Hare</td>\n",
       "      <td>2547.0</td>\n",
       "    </tr>\n",
       "    <tr>\n",
       "      <th>5</th>\n",
       "      <td>Lake View</td>\n",
       "      <td>2421.0</td>\n",
       "    </tr>\n",
       "    <tr>\n",
       "      <th>6</th>\n",
       "      <td>Grant Park</td>\n",
       "      <td>2069.0</td>\n",
       "    </tr>\n",
       "    <tr>\n",
       "      <th>7</th>\n",
       "      <td>Museum Campus</td>\n",
       "      <td>1510.0</td>\n",
       "    </tr>\n",
       "    <tr>\n",
       "      <th>8</th>\n",
       "      <td>Gold Coast</td>\n",
       "      <td>1365.0</td>\n",
       "    </tr>\n",
       "    <tr>\n",
       "      <th>9</th>\n",
       "      <td>Sheffield &amp; DePaul</td>\n",
       "      <td>1260.0</td>\n",
       "    </tr>\n",
       "  </tbody>\n",
       "</table>\n",
       "</div>"
      ],
      "text/plain": [
       "  dropoff_location_name  average_trips\n",
       "0                  Loop        10728.0\n",
       "1           River North         9524.0\n",
       "2         Streeterville         6665.0\n",
       "3             West Loop         5164.0\n",
       "4                O'Hare         2547.0\n",
       "5             Lake View         2421.0\n",
       "6            Grant Park         2069.0\n",
       "7         Museum Campus         1510.0\n",
       "8            Gold Coast         1365.0\n",
       "9    Sheffield & DePaul         1260.0"
      ]
     },
     "execution_count": 26,
     "metadata": {},
     "output_type": "execute_result"
    }
   ],
   "source": [
    "df_neighborhoods.head(10)"
   ]
  },
  {
   "cell_type": "code",
   "execution_count": 27,
   "metadata": {},
   "outputs": [
    {
     "data": {
      "text/html": [
       "<div>\n",
       "<style scoped>\n",
       "    .dataframe tbody tr th:only-of-type {\n",
       "        vertical-align: middle;\n",
       "    }\n",
       "\n",
       "    .dataframe tbody tr th {\n",
       "        vertical-align: top;\n",
       "    }\n",
       "\n",
       "    .dataframe thead th {\n",
       "        text-align: right;\n",
       "    }\n",
       "</style>\n",
       "<table border=\"1\" class=\"dataframe\">\n",
       "  <thead>\n",
       "    <tr style=\"text-align: right;\">\n",
       "      <th></th>\n",
       "      <th>start_ts</th>\n",
       "      <th>weather_conditions</th>\n",
       "      <th>duration_seconds</th>\n",
       "    </tr>\n",
       "  </thead>\n",
       "  <tbody>\n",
       "    <tr>\n",
       "      <th>0</th>\n",
       "      <td>2017-11-25 16:00:00</td>\n",
       "      <td>Good</td>\n",
       "      <td>2410.0</td>\n",
       "    </tr>\n",
       "    <tr>\n",
       "      <th>1</th>\n",
       "      <td>2017-11-25 14:00:00</td>\n",
       "      <td>Good</td>\n",
       "      <td>1920.0</td>\n",
       "    </tr>\n",
       "    <tr>\n",
       "      <th>2</th>\n",
       "      <td>2017-11-25 12:00:00</td>\n",
       "      <td>Good</td>\n",
       "      <td>1543.0</td>\n",
       "    </tr>\n",
       "    <tr>\n",
       "      <th>3</th>\n",
       "      <td>2017-11-04 10:00:00</td>\n",
       "      <td>Good</td>\n",
       "      <td>2512.0</td>\n",
       "    </tr>\n",
       "    <tr>\n",
       "      <th>4</th>\n",
       "      <td>2017-11-11 07:00:00</td>\n",
       "      <td>Good</td>\n",
       "      <td>1440.0</td>\n",
       "    </tr>\n",
       "    <tr>\n",
       "      <th>5</th>\n",
       "      <td>2017-11-11 04:00:00</td>\n",
       "      <td>Good</td>\n",
       "      <td>1320.0</td>\n",
       "    </tr>\n",
       "    <tr>\n",
       "      <th>6</th>\n",
       "      <td>2017-11-04 16:00:00</td>\n",
       "      <td>Bad</td>\n",
       "      <td>2969.0</td>\n",
       "    </tr>\n",
       "    <tr>\n",
       "      <th>7</th>\n",
       "      <td>2017-11-18 11:00:00</td>\n",
       "      <td>Good</td>\n",
       "      <td>2280.0</td>\n",
       "    </tr>\n",
       "    <tr>\n",
       "      <th>8</th>\n",
       "      <td>2017-11-11 14:00:00</td>\n",
       "      <td>Good</td>\n",
       "      <td>2460.0</td>\n",
       "    </tr>\n",
       "    <tr>\n",
       "      <th>9</th>\n",
       "      <td>2017-11-11 12:00:00</td>\n",
       "      <td>Good</td>\n",
       "      <td>2040.0</td>\n",
       "    </tr>\n",
       "  </tbody>\n",
       "</table>\n",
       "</div>"
      ],
      "text/plain": [
       "             start_ts weather_conditions  duration_seconds\n",
       "0 2017-11-25 16:00:00               Good            2410.0\n",
       "1 2017-11-25 14:00:00               Good            1920.0\n",
       "2 2017-11-25 12:00:00               Good            1543.0\n",
       "3 2017-11-04 10:00:00               Good            2512.0\n",
       "4 2017-11-11 07:00:00               Good            1440.0\n",
       "5 2017-11-11 04:00:00               Good            1320.0\n",
       "6 2017-11-04 16:00:00                Bad            2969.0\n",
       "7 2017-11-18 11:00:00               Good            2280.0\n",
       "8 2017-11-11 14:00:00               Good            2460.0\n",
       "9 2017-11-11 12:00:00               Good            2040.0"
      ]
     },
     "execution_count": 27,
     "metadata": {},
     "output_type": "execute_result"
    }
   ],
   "source": [
    "df_last_consult.head(10)"
   ]
  },
  {
   "cell_type": "markdown",
   "metadata": {},
   "source": [
    "Revisamos los primeros 10 valores de cada dataframe."
   ]
  },
  {
   "cell_type": "code",
   "execution_count": null,
   "metadata": {},
   "outputs": [],
   "source": []
  },
  {
   "cell_type": "markdown",
   "metadata": {},
   "source": [
    "### Se revisa con .describe()"
   ]
  },
  {
   "cell_type": "code",
   "execution_count": 28,
   "metadata": {},
   "outputs": [
    {
     "data": {
      "text/html": [
       "<div>\n",
       "<style scoped>\n",
       "    .dataframe tbody tr th:only-of-type {\n",
       "        vertical-align: middle;\n",
       "    }\n",
       "\n",
       "    .dataframe tbody tr th {\n",
       "        vertical-align: top;\n",
       "    }\n",
       "\n",
       "    .dataframe thead th {\n",
       "        text-align: right;\n",
       "    }\n",
       "</style>\n",
       "<table border=\"1\" class=\"dataframe\">\n",
       "  <thead>\n",
       "    <tr style=\"text-align: right;\">\n",
       "      <th></th>\n",
       "      <th>trips_amount</th>\n",
       "    </tr>\n",
       "  </thead>\n",
       "  <tbody>\n",
       "    <tr>\n",
       "      <th>count</th>\n",
       "      <td>64.000000</td>\n",
       "    </tr>\n",
       "    <tr>\n",
       "      <th>mean</th>\n",
       "      <td>2145.484375</td>\n",
       "    </tr>\n",
       "    <tr>\n",
       "      <th>std</th>\n",
       "      <td>3812.310186</td>\n",
       "    </tr>\n",
       "    <tr>\n",
       "      <th>min</th>\n",
       "      <td>2.000000</td>\n",
       "    </tr>\n",
       "    <tr>\n",
       "      <th>25%</th>\n",
       "      <td>20.750000</td>\n",
       "    </tr>\n",
       "    <tr>\n",
       "      <th>50%</th>\n",
       "      <td>178.500000</td>\n",
       "    </tr>\n",
       "    <tr>\n",
       "      <th>75%</th>\n",
       "      <td>2106.500000</td>\n",
       "    </tr>\n",
       "    <tr>\n",
       "      <th>max</th>\n",
       "      <td>19558.000000</td>\n",
       "    </tr>\n",
       "  </tbody>\n",
       "</table>\n",
       "</div>"
      ],
      "text/plain": [
       "       trips_amount\n",
       "count     64.000000\n",
       "mean    2145.484375\n",
       "std     3812.310186\n",
       "min        2.000000\n",
       "25%       20.750000\n",
       "50%      178.500000\n",
       "75%     2106.500000\n",
       "max    19558.000000"
      ]
     },
     "execution_count": 28,
     "metadata": {},
     "output_type": "execute_result"
    }
   ],
   "source": [
    "df_taxis.describe()"
   ]
  },
  {
   "cell_type": "code",
   "execution_count": 29,
   "metadata": {},
   "outputs": [
    {
     "data": {
      "text/html": [
       "<div>\n",
       "<style scoped>\n",
       "    .dataframe tbody tr th:only-of-type {\n",
       "        vertical-align: middle;\n",
       "    }\n",
       "\n",
       "    .dataframe tbody tr th {\n",
       "        vertical-align: top;\n",
       "    }\n",
       "\n",
       "    .dataframe thead th {\n",
       "        text-align: right;\n",
       "    }\n",
       "</style>\n",
       "<table border=\"1\" class=\"dataframe\">\n",
       "  <thead>\n",
       "    <tr style=\"text-align: right;\">\n",
       "      <th></th>\n",
       "      <th>average_trips</th>\n",
       "    </tr>\n",
       "  </thead>\n",
       "  <tbody>\n",
       "    <tr>\n",
       "      <th>count</th>\n",
       "      <td>94.000000</td>\n",
       "    </tr>\n",
       "    <tr>\n",
       "      <th>mean</th>\n",
       "      <td>600.457447</td>\n",
       "    </tr>\n",
       "    <tr>\n",
       "      <th>std</th>\n",
       "      <td>1714.553948</td>\n",
       "    </tr>\n",
       "    <tr>\n",
       "      <th>min</th>\n",
       "      <td>2.000000</td>\n",
       "    </tr>\n",
       "    <tr>\n",
       "      <th>25%</th>\n",
       "      <td>15.000000</td>\n",
       "    </tr>\n",
       "    <tr>\n",
       "      <th>50%</th>\n",
       "      <td>52.500000</td>\n",
       "    </tr>\n",
       "    <tr>\n",
       "      <th>75%</th>\n",
       "      <td>299.750000</td>\n",
       "    </tr>\n",
       "    <tr>\n",
       "      <th>max</th>\n",
       "      <td>10728.000000</td>\n",
       "    </tr>\n",
       "  </tbody>\n",
       "</table>\n",
       "</div>"
      ],
      "text/plain": [
       "       average_trips\n",
       "count      94.000000\n",
       "mean      600.457447\n",
       "std      1714.553948\n",
       "min         2.000000\n",
       "25%        15.000000\n",
       "50%        52.500000\n",
       "75%       299.750000\n",
       "max     10728.000000"
      ]
     },
     "execution_count": 29,
     "metadata": {},
     "output_type": "execute_result"
    }
   ],
   "source": [
    "df_neighborhoods.describe()"
   ]
  },
  {
   "cell_type": "code",
   "execution_count": 30,
   "metadata": {},
   "outputs": [
    {
     "data": {
      "text/html": [
       "<div>\n",
       "<style scoped>\n",
       "    .dataframe tbody tr th:only-of-type {\n",
       "        vertical-align: middle;\n",
       "    }\n",
       "\n",
       "    .dataframe tbody tr th {\n",
       "        vertical-align: top;\n",
       "    }\n",
       "\n",
       "    .dataframe thead th {\n",
       "        text-align: right;\n",
       "    }\n",
       "</style>\n",
       "<table border=\"1\" class=\"dataframe\">\n",
       "  <thead>\n",
       "    <tr style=\"text-align: right;\">\n",
       "      <th></th>\n",
       "      <th>duration_seconds</th>\n",
       "    </tr>\n",
       "  </thead>\n",
       "  <tbody>\n",
       "    <tr>\n",
       "      <th>count</th>\n",
       "      <td>871.000000</td>\n",
       "    </tr>\n",
       "    <tr>\n",
       "      <th>mean</th>\n",
       "      <td>2096.308840</td>\n",
       "    </tr>\n",
       "    <tr>\n",
       "      <th>std</th>\n",
       "      <td>782.274717</td>\n",
       "    </tr>\n",
       "    <tr>\n",
       "      <th>min</th>\n",
       "      <td>0.000000</td>\n",
       "    </tr>\n",
       "    <tr>\n",
       "      <th>25%</th>\n",
       "      <td>1440.000000</td>\n",
       "    </tr>\n",
       "    <tr>\n",
       "      <th>50%</th>\n",
       "      <td>2015.000000</td>\n",
       "    </tr>\n",
       "    <tr>\n",
       "      <th>75%</th>\n",
       "      <td>2584.000000</td>\n",
       "    </tr>\n",
       "    <tr>\n",
       "      <th>max</th>\n",
       "      <td>7440.000000</td>\n",
       "    </tr>\n",
       "  </tbody>\n",
       "</table>\n",
       "</div>"
      ],
      "text/plain": [
       "       duration_seconds\n",
       "count        871.000000\n",
       "mean        2096.308840\n",
       "std          782.274717\n",
       "min            0.000000\n",
       "25%         1440.000000\n",
       "50%         2015.000000\n",
       "75%         2584.000000\n",
       "max         7440.000000"
      ]
     },
     "execution_count": 30,
     "metadata": {},
     "output_type": "execute_result"
    }
   ],
   "source": [
    "df_last_consult.describe()"
   ]
  },
  {
   "cell_type": "markdown",
   "metadata": {},
   "source": [
    "Como podemos observar en la sección de la revisión del dataframe de df_last_consult tenia 1068 filas pero con la eliminación de las 197 filas duplicadas en total nos quedan 871 y por consiguinete tenemos modificaciones con la fución .describe()"
   ]
  },
  {
   "cell_type": "code",
   "execution_count": null,
   "metadata": {},
   "outputs": [],
   "source": []
  },
  {
   "cell_type": "markdown",
   "metadata": {},
   "source": [
    "## Sección 002 Identificar los 10 principales barrios por número de finalizaciones"
   ]
  },
  {
   "cell_type": "code",
   "execution_count": 31,
   "metadata": {},
   "outputs": [
    {
     "data": {
      "text/html": [
       "<div>\n",
       "<style scoped>\n",
       "    .dataframe tbody tr th:only-of-type {\n",
       "        vertical-align: middle;\n",
       "    }\n",
       "\n",
       "    .dataframe tbody tr th {\n",
       "        vertical-align: top;\n",
       "    }\n",
       "\n",
       "    .dataframe thead th {\n",
       "        text-align: right;\n",
       "    }\n",
       "</style>\n",
       "<table border=\"1\" class=\"dataframe\">\n",
       "  <thead>\n",
       "    <tr style=\"text-align: right;\">\n",
       "      <th></th>\n",
       "      <th>dropoff_location_name</th>\n",
       "      <th>average_trips</th>\n",
       "    </tr>\n",
       "  </thead>\n",
       "  <tbody>\n",
       "    <tr>\n",
       "      <th>0</th>\n",
       "      <td>Loop</td>\n",
       "      <td>10728.0</td>\n",
       "    </tr>\n",
       "    <tr>\n",
       "      <th>1</th>\n",
       "      <td>River North</td>\n",
       "      <td>9524.0</td>\n",
       "    </tr>\n",
       "    <tr>\n",
       "      <th>2</th>\n",
       "      <td>Streeterville</td>\n",
       "      <td>6665.0</td>\n",
       "    </tr>\n",
       "    <tr>\n",
       "      <th>3</th>\n",
       "      <td>West Loop</td>\n",
       "      <td>5164.0</td>\n",
       "    </tr>\n",
       "    <tr>\n",
       "      <th>4</th>\n",
       "      <td>O'Hare</td>\n",
       "      <td>2547.0</td>\n",
       "    </tr>\n",
       "    <tr>\n",
       "      <th>5</th>\n",
       "      <td>Lake View</td>\n",
       "      <td>2421.0</td>\n",
       "    </tr>\n",
       "    <tr>\n",
       "      <th>6</th>\n",
       "      <td>Grant Park</td>\n",
       "      <td>2069.0</td>\n",
       "    </tr>\n",
       "    <tr>\n",
       "      <th>7</th>\n",
       "      <td>Museum Campus</td>\n",
       "      <td>1510.0</td>\n",
       "    </tr>\n",
       "    <tr>\n",
       "      <th>8</th>\n",
       "      <td>Gold Coast</td>\n",
       "      <td>1365.0</td>\n",
       "    </tr>\n",
       "    <tr>\n",
       "      <th>9</th>\n",
       "      <td>Sheffield &amp; DePaul</td>\n",
       "      <td>1260.0</td>\n",
       "    </tr>\n",
       "  </tbody>\n",
       "</table>\n",
       "</div>"
      ],
      "text/plain": [
       "  dropoff_location_name  average_trips\n",
       "0                  Loop        10728.0\n",
       "1           River North         9524.0\n",
       "2         Streeterville         6665.0\n",
       "3             West Loop         5164.0\n",
       "4                O'Hare         2547.0\n",
       "5             Lake View         2421.0\n",
       "6            Grant Park         2069.0\n",
       "7         Museum Campus         1510.0\n",
       "8            Gold Coast         1365.0\n",
       "9    Sheffield & DePaul         1260.0"
      ]
     },
     "metadata": {},
     "output_type": "display_data"
    }
   ],
   "source": [
    "df_neighborhoods = df_neighborhoods.sort_values(by='average_trips', ascending=False)\n",
    "top_10_neighborhoods = df_neighborhoods.head(10)\n",
    "display(top_10_neighborhoods)\n"
   ]
  },
  {
   "cell_type": "markdown",
   "metadata": {},
   "source": [
    "Para dar un valor a un variable "
   ]
  },
  {
   "cell_type": "code",
   "execution_count": null,
   "metadata": {},
   "outputs": [],
   "source": []
  },
  {
   "cell_type": "markdown",
   "metadata": {},
   "source": [
    "# Sección 003 Gráficos:"
   ]
  },
  {
   "cell_type": "markdown",
   "metadata": {},
   "source": [
    "## Subsección 003.01 De las 10 Empresas de taxis y número de viajes"
   ]
  },
  {
   "cell_type": "code",
   "execution_count": 32,
   "metadata": {},
   "outputs": [
    {
     "data": {
      "image/png": "[encoded data removed]",
      "text/plain": [
       "<Figure size 1800x1200 with 1 Axes>"
      ]
     },
     "metadata": {},
     "output_type": "display_data"
    }
   ],
   "source": [
    "plt.figure(figsize=(18, 12))\n",
    "sns.barplot(x='company_name', y='trips_amount', data=df_taxis.head(10))\n",
    "plt.xticks(rotation=90)\n",
    "plt.title('Las 10 Empresas con más número de viajes ')\n",
    "plt.xlabel('Empresa de taxis')\n",
    "plt.ylabel('Número de viajes')\n",
    "plt.show()\n"
   ]
  },
  {
   "cell_type": "markdown",
   "metadata": {},
   "source": [
    "Ya que son más de 60 empresas selecione a las 10 primeras empresas con el mayor número de viajes."
   ]
  },
  {
   "cell_type": "code",
   "execution_count": null,
   "metadata": {},
   "outputs": [],
   "source": []
  },
  {
   "cell_type": "markdown",
   "metadata": {},
   "source": [
    "## Subsección 003.02 Los 10 principales barrios por número de finalizaciones"
   ]
  },
  {
   "cell_type": "code",
   "execution_count": 33,
   "metadata": {},
   "outputs": [
    {
     "data": {
      "image/png": "[encoded data removed]",
      "text/plain": [
       "<Figure size 1200x600 with 1 Axes>"
      ]
     },
     "metadata": {},
     "output_type": "display_data"
    }
   ],
   "source": [
    "plt.figure(figsize=(12, 6))\n",
    "sns.barplot(x='dropoff_location_name', y='average_trips', data=top_10_neighborhoods)\n",
    "plt.xticks(rotation=45)\n",
    "plt.title('Los 10 principales barrios por número de finalizaciones')\n",
    "plt.xlabel('Barrio')\n",
    "plt.ylabel('Promedio de viajes')\n",
    "plt.show()\n"
   ]
  },
  {
   "cell_type": "markdown",
   "metadata": {},
   "source": [
    "Como podemos observar al principio del proyecto en con la fución de .info() de neighborhoods tenemos más de 90 Barrios en el dataframe y se hizo los analisis requeridos."
   ]
  },
  {
   "cell_type": "markdown",
   "metadata": {},
   "source": [
    "<div class=\"alert alert-block alert-success\">\n",
    "\n",
    "<b>Comentario del revisor</b> <a class=\"tocSkip\"></a>\n",
    "\n",
    "Muy buena seccion de graficos. </div>"
   ]
  },
  {
   "cell_type": "markdown",
   "metadata": {},
   "source": [
    "## Sección 004 Prueba de Hipótesis"
   ]
  },
  {
   "cell_type": "markdown",
   "metadata": {},
   "source": [
    "Prueba la hipótesis:\n",
    "\n",
    "\"La duración promedio de los viajes desde el Loop hasta el Aeropuerto Internacional O'Hare cambia los sábados lluviosos\"."
   ]
  },
  {
   "cell_type": "markdown",
   "metadata": {},
   "source": [
    "Establecer el nivel de significación (alfa).\n",
    "\n",
    "En la mayoria de las pruebas se toma como alfa de 0.01 a 0.05.\n",
    "0.01 se usa para dataframe que es más estricto"
   ]
  },
  {
   "cell_type": "code",
   "execution_count": null,
   "metadata": {},
   "outputs": [],
   "source": []
  },
  {
   "cell_type": "markdown",
   "metadata": {},
   "source": [
    "### Revisión de la Hipotesis con la fución stats.ttest.ind()"
   ]
  },
  {
   "cell_type": "code",
   "execution_count": 34,
   "metadata": {},
   "outputs": [
    {
     "name": "stdout",
     "output_type": "stream",
     "text": [
      "Se rechaza la hipótesis nula. La duración promedio de los viajes desde el Loop hasta el Aeropuerto Internacional O'Hare cambia los sábados lluviosos.\n"
     ]
    }
   ],
   "source": [
    "saturday_rainy = df_last_consult[(df_last_consult['start_ts'].dt.day_name() == 'Saturday') & (df_last_consult['weather_conditions'].str.contains('Good'))]\n",
    "saturday_not_rainy = df_last_consult[(df_last_consult['start_ts'].dt.day_name() == 'Saturday') & (~df_last_consult['weather_conditions'].str.contains('Good'))]\n",
    "\n",
    "\n",
    "t_stat, p_value = stats.ttest_ind(saturday_rainy['duration_seconds'], saturday_not_rainy['duration_seconds'])\n",
    "\n",
    "\n",
    "if p_value < 0.01:\n",
    "    print(\"Se rechaza la hipótesis nula. La duración promedio de los viajes desde el Loop hasta el Aeropuerto Internacional O'Hare cambia los sábados lluviosos.\")\n",
    "else:\n",
    "    print ()\n",
    "    print ()\n",
    "    print(\"No se puede rechazar la hipótesis nula. La duración promedio de los viajes desde el Loop hasta el Aeropuerto Internacional O'Hare no cambia los sábados lluviosos.\")\n",
    "    print ()\n",
    "    \n",
    "   "
   ]
  },
  {
   "cell_type": "markdown",
   "metadata": {},
   "source": [
    "<div class=\"alert alert-block alert-danger\">\n",
    "<b>Comentario del revisor</b> <a class=\"tocSkip\"></a>\n",
    "\n",
    "El parametro equal_var es muy importante para este tipo de pruebas y en este caso no lo utilizas.\n",
    "\n",
    "Observamos dos opciones, una, si las varianzas para cada conjunto son diferentes (False). Si fueran iguales (True), puede que el resultado cambie, ya que se calcula de forma diferente. Mas que nada cuando la distribucion de las muestras son desiguales (como en este caso).\n",
    "\n",
    "Por esto es importante, cuando realizamos esta prueba (t student). Confirmar si las varianzas son iguales o no para ambos conjuntos. Para esto se realizan **pruebas estadisticas** (Por ejemplo, **Levene**) para identificar si son iguales o no las varianzas.\n",
    "\n",
    "Al realizarla ajusta el parametro si fuera necesario y si cambian los resultados modifica la conclusion.</div>\n",
    "\n",
    "\n",
    "<div class=\"alert alert-block alert-success\">\n",
    "\n",
    "   \n",
    "<b>Comentario del revisor #2</b> <a class=\"tocSkip\"></a>\n",
    "    \n",
    "Corregido debajo, muy bien.\n",
    "    \n",
    " \n",
    "</div>"
   ]
  },
  {
   "cell_type": "code",
   "execution_count": 35,
   "metadata": {},
   "outputs": [
    {
     "data": {
      "text/plain": [
       "'El valor de p_value es:7.397770692813658e-08 que es menor que alfa'"
      ]
     },
     "metadata": {},
     "output_type": "display_data"
    }
   ],
   "source": [
    "display (f'El valor de p_value es:{p_value} que es menor que alfa')"
   ]
  },
  {
   "cell_type": "code",
   "execution_count": null,
   "metadata": {},
   "outputs": [],
   "source": []
  },
  {
   "cell_type": "markdown",
   "metadata": {},
   "source": [
    "### Revisión de la Hipotesis con la fución stats.ttest.ind(equal_var)"
   ]
  },
  {
   "cell_type": "code",
   "execution_count": 36,
   "metadata": {},
   "outputs": [],
   "source": [
    "t_stat, p_value_x = stats.ttest_ind(saturday_rainy['duration_seconds'], \n",
    "                                 saturday_not_rainy['duration_seconds'],\n",
    "                                 equal_var=True)"
   ]
  },
  {
   "cell_type": "code",
   "execution_count": 37,
   "metadata": {},
   "outputs": [
    {
     "name": "stdout",
     "output_type": "stream",
     "text": [
      "Las varianzas de los grupos son iguales.\n"
     ]
    }
   ],
   "source": [
    "from scipy.stats import levene\n",
    "\n",
    "_, p_value_x_levene = levene(saturday_rainy['duration_seconds'], \n",
    "                          saturday_not_rainy['duration_seconds'])\n",
    "\n",
    "if p_value_x_levene < 0.05:\n",
    "    print(\"Las varianzas de los grupos son significativamente diferentes.\")\n",
    "    equal_var = False\n",
    "else:\n",
    "    print(\"Las varianzas de los grupos son iguales.\")\n",
    "    equal_var = True"
   ]
  },
  {
   "cell_type": "markdown",
   "metadata": {},
   "source": [
    "El primer paso para usar la fución stats.ttest.ind(equal_var) es revisar si las varianzas de las variables saturday_rainy y saturday_not_rainy deben ser grupos iguales"
   ]
  },
  {
   "cell_type": "code",
   "execution_count": 38,
   "metadata": {},
   "outputs": [],
   "source": [
    "t_stat, p_value_x = stats.ttest_ind(saturday_rainy['duration_seconds'], \n",
    "                                 saturday_not_rainy['duration_seconds'],\n",
    "                                 equal_var=equal_var)"
   ]
  },
  {
   "cell_type": "code",
   "execution_count": 39,
   "metadata": {},
   "outputs": [
    {
     "name": "stdout",
     "output_type": "stream",
     "text": [
      "Se rechaza la hipótesis nula. La duración promedio de los viajes desde el Loop hasta el Aeropuerto Internacional O'Hare cambia los sábados lluviosos.\n"
     ]
    }
   ],
   "source": [
    "if p_value_x < 0.05:\n",
    "    print(\"Se rechaza la hipótesis nula. La duración promedio de los viajes desde el Loop hasta el Aeropuerto Internacional O'Hare cambia los sábados lluviosos.\")\n",
    "else:\n",
    "    print(\"No se puede rechazar la hipótesis nula. La duración promedio de los viajes desde el Loop hasta el Aeropuerto Internacional O'Hare no cambia los sábados lluviosos.\")"
   ]
  },
  {
   "cell_type": "code",
   "execution_count": 40,
   "metadata": {},
   "outputs": [
    {
     "data": {
      "text/plain": [
       "'El valor de p_value es:7.397770692813658e-08 que es menor que alfa'"
      ]
     },
     "metadata": {},
     "output_type": "display_data"
    }
   ],
   "source": [
    "display (f'El valor de p_value es:{p_value_x} que es menor que alfa')"
   ]
  },
  {
   "cell_type": "markdown",
   "metadata": {},
   "source": [
    "Como podemos observar tanto con la fución stats.ttest.ind() y la fución stats.ttest.ind(equal_var) tenenmos el mismo resultado."
   ]
  },
  {
   "cell_type": "code",
   "execution_count": null,
   "metadata": {},
   "outputs": [],
   "source": []
  },
  {
   "cell_type": "markdown",
   "metadata": {},
   "source": [
    "## Cómo planteaste las hipótesis nula y alternativa"
   ]
  },
  {
   "cell_type": "markdown",
   "metadata": {},
   "source": [
    "Hipótesis Nula: la duración de promedio de los viajes de Loop hasta el Aeropuerto Internacional O' Hare dura lo mismo los\n",
    "sábados lluviosos que sin lluvia."
   ]
  },
  {
   "cell_type": "markdown",
   "metadata": {},
   "source": [
    "Hipótesis Alternativa: la duración de promedio de los viajes de Loop hasta el Aeropuerto Internacional O' Hare tienen una duranción difenrente los sábados lluviosos."
   ]
  },
  {
   "cell_type": "markdown",
   "metadata": {},
   "source": [
    "## Qué criterio usaste para probar las hipótesis y por qué"
   ]
  },
  {
   "cell_type": "markdown",
   "metadata": {},
   "source": [
    "Se utilizó la prueba t de Student para muestras independientes (stats.ttest_ind). Esta prueba se eligió porque se están comparando las duraciones medias de dos grupos independientes: los viajes del sábado con condiciones climáticas lluviosas ['Bad'] y los viajes del sábado sin lluvia['Good'].\n",
    "\n",
    "A diferencia de stats.ttest.ind(equal_var) que se necesita revizar la varianza de las dos variables (prueba Levene) que tenemos que revisar si son iguales o no"
   ]
  },
  {
   "cell_type": "code",
   "execution_count": null,
   "metadata": {},
   "outputs": [],
   "source": []
  },
  {
   "cell_type": "markdown",
   "metadata": {},
   "source": [
    "## Comentario General"
   ]
  },
  {
   "cell_type": "markdown",
   "metadata": {},
   "source": [
    "Ciertamente en general el desarrollo de este proyecto es rápido dada la cantidad de información con la que se trabaja pero lo que se tiene que revisar con sumo cuidad son los duplicados (.duplicated()), el datatype así como en su caso la fución .describe().\n",
    "\n",
    "Si como usar de una forma más  efectiva la biblioteca de 'scipy.stats'. Ya que al final se necesita revisar si las variables del saturday_rainy / saturday_not_rainy para saber si tenemos la misma varianzas en los grupos.\n",
    "\n",
    "Lo principal es saber que el objetivo es demostrar nuestra capacidad para recuperar datos, procesar y combinar información de diferentes fuentes, formular preguntas relevantes y probar hipótesis utilizando métodos estadísticos apropiados. "
   ]
  },
  {
   "cell_type": "markdown",
   "metadata": {},
   "source": [
    "<div class=\"alert alert-block alert-danger\">\n",
    "\n",
    "<b>Comentario del revisor</b> <a class=\"tocSkip\"></a>\n",
    "\n",
    "Recorda realizar una conclusion general. Esta debe contener todo lo que se hizo en el proyecto de forma enumerada o items.\n",
    "\n",
    "Desde la carga e importacion, pasando por los cambios realizado (Y el porque de esas decisiones). Agregando lo que se hizo en cada seccion a modo resumen y las conclusiones del  trabajo.\n",
    "\n",
    "El mismo, sirve como resumen de lo realizado en cada proyecto.</div>\n",
    "\n",
    "\n",
    "<div class=\"alert alert-block alert-success\">\n",
    "\n",
    "   \n",
    "<b>Comentario del revisor #2</b> <a class=\"tocSkip\"></a>\n",
    "    \n",
    "Corregido.\n",
    "    \n",
    " \n",
    "</div>"
   ]
  },
  {
   "cell_type": "code",
   "execution_count": null,
   "metadata": {},
   "outputs": [],
   "source": []
  }
 ],
 "metadata": {
  "ExecuteTimeLog": [
   {
    "duration": 315,
    "start_time": "2024-05-18T03:32:35.244Z"
   },
   {
    "duration": 4937,
    "start_time": "2024-05-18T03:32:58.758Z"
   },
   {
    "duration": 29,
    "start_time": "2024-05-18T03:33:03.699Z"
   },
   {
    "duration": 14,
    "start_time": "2024-05-18T03:33:03.730Z"
   },
   {
    "duration": 12,
    "start_time": "2024-05-18T03:33:03.749Z"
   },
   {
    "duration": 13,
    "start_time": "2024-05-18T03:33:03.765Z"
   },
   {
    "duration": 17,
    "start_time": "2024-05-18T03:33:03.810Z"
   },
   {
    "duration": 14,
    "start_time": "2024-05-18T03:33:03.830Z"
   },
   {
    "duration": 15,
    "start_time": "2024-05-18T03:33:03.847Z"
   },
   {
    "duration": 261,
    "start_time": "2024-05-18T03:33:03.866Z"
   },
   {
    "duration": 0,
    "start_time": "2024-05-18T03:33:04.132Z"
   },
   {
    "duration": 0,
    "start_time": "2024-05-18T03:33:04.134Z"
   },
   {
    "duration": 0,
    "start_time": "2024-05-18T03:33:04.136Z"
   },
   {
    "duration": 0,
    "start_time": "2024-05-18T03:33:04.138Z"
   },
   {
    "duration": 0,
    "start_time": "2024-05-18T03:33:04.140Z"
   },
   {
    "duration": 0,
    "start_time": "2024-05-18T03:33:04.141Z"
   },
   {
    "duration": 0,
    "start_time": "2024-05-18T03:33:04.143Z"
   },
   {
    "duration": 0,
    "start_time": "2024-05-18T03:33:04.145Z"
   },
   {
    "duration": 0,
    "start_time": "2024-05-18T03:33:04.147Z"
   },
   {
    "duration": 0,
    "start_time": "2024-05-18T03:33:04.150Z"
   },
   {
    "duration": 0,
    "start_time": "2024-05-18T03:33:04.152Z"
   },
   {
    "duration": 0,
    "start_time": "2024-05-18T03:33:04.155Z"
   },
   {
    "duration": 0,
    "start_time": "2024-05-18T03:33:04.157Z"
   },
   {
    "duration": 0,
    "start_time": "2024-05-18T03:33:04.161Z"
   },
   {
    "duration": 15,
    "start_time": "2024-05-18T03:33:24.123Z"
   },
   {
    "duration": 1269,
    "start_time": "2024-05-18T03:34:55.691Z"
   },
   {
    "duration": 19,
    "start_time": "2024-05-18T03:34:56.963Z"
   },
   {
    "duration": 31,
    "start_time": "2024-05-18T03:34:56.985Z"
   },
   {
    "duration": 11,
    "start_time": "2024-05-18T03:34:57.022Z"
   },
   {
    "duration": 12,
    "start_time": "2024-05-18T03:34:57.036Z"
   },
   {
    "duration": 14,
    "start_time": "2024-05-18T03:34:57.052Z"
   },
   {
    "duration": 13,
    "start_time": "2024-05-18T03:34:57.108Z"
   },
   {
    "duration": 15,
    "start_time": "2024-05-18T03:34:57.124Z"
   },
   {
    "duration": 17,
    "start_time": "2024-05-18T03:34:57.142Z"
   },
   {
    "duration": 15,
    "start_time": "2024-05-18T03:34:57.209Z"
   },
   {
    "duration": 15,
    "start_time": "2024-05-18T03:34:57.227Z"
   },
   {
    "duration": 6,
    "start_time": "2024-05-18T03:34:57.244Z"
   },
   {
    "duration": 6,
    "start_time": "2024-05-18T03:34:57.253Z"
   },
   {
    "duration": 48,
    "start_time": "2024-05-18T03:34:57.262Z"
   },
   {
    "duration": 13,
    "start_time": "2024-05-18T03:34:57.312Z"
   },
   {
    "duration": 5,
    "start_time": "2024-05-18T03:34:57.328Z"
   },
   {
    "duration": 19,
    "start_time": "2024-05-18T03:34:57.337Z"
   },
   {
    "duration": 13,
    "start_time": "2024-05-18T03:34:57.360Z"
   },
   {
    "duration": 12,
    "start_time": "2024-05-18T03:34:57.410Z"
   },
   {
    "duration": 12,
    "start_time": "2024-05-18T03:34:57.425Z"
   },
   {
    "duration": 12,
    "start_time": "2024-05-18T03:34:57.440Z"
   },
   {
    "duration": 672,
    "start_time": "2024-05-18T03:34:57.454Z"
   },
   {
    "duration": 341,
    "start_time": "2024-05-18T03:34:58.129Z"
   },
   {
    "duration": 15,
    "start_time": "2024-05-18T03:34:58.474Z"
   },
   {
    "duration": 5,
    "start_time": "2024-05-18T03:34:58.509Z"
   },
   {
    "duration": 12,
    "start_time": "2024-05-18T03:40:08.780Z"
   },
   {
    "duration": 9,
    "start_time": "2024-05-18T03:40:10.690Z"
   },
   {
    "duration": 11,
    "start_time": "2024-05-18T03:40:13.702Z"
   },
   {
    "duration": 240,
    "start_time": "2024-05-18T03:40:28.650Z"
   },
   {
    "duration": 74,
    "start_time": "2024-05-18T03:40:56.041Z"
   },
   {
    "duration": 267,
    "start_time": "2024-05-18T03:41:14.646Z"
   },
   {
    "duration": 9,
    "start_time": "2024-05-18T03:42:38.308Z"
   },
   {
    "duration": 10,
    "start_time": "2024-05-18T03:47:16.588Z"
   },
   {
    "duration": 9,
    "start_time": "2024-05-18T03:47:36.089Z"
   },
   {
    "duration": 7,
    "start_time": "2024-05-18T03:47:44.282Z"
   },
   {
    "duration": 7,
    "start_time": "2024-05-18T03:47:52.535Z"
   },
   {
    "duration": 45,
    "start_time": "2024-05-18T03:56:03.424Z"
   },
   {
    "duration": 6,
    "start_time": "2024-05-18T03:58:40.654Z"
   },
   {
    "duration": 7,
    "start_time": "2024-05-18T03:59:20.459Z"
   },
   {
    "duration": 7,
    "start_time": "2024-05-18T04:00:46.353Z"
   },
   {
    "duration": 1257,
    "start_time": "2024-05-18T04:00:53.764Z"
   },
   {
    "duration": 22,
    "start_time": "2024-05-18T04:00:55.027Z"
   },
   {
    "duration": 14,
    "start_time": "2024-05-18T04:00:55.052Z"
   },
   {
    "duration": 10,
    "start_time": "2024-05-18T04:00:55.071Z"
   },
   {
    "duration": 13,
    "start_time": "2024-05-18T04:00:55.109Z"
   },
   {
    "duration": 15,
    "start_time": "2024-05-18T04:00:55.125Z"
   },
   {
    "duration": 13,
    "start_time": "2024-05-18T04:00:55.143Z"
   },
   {
    "duration": 59,
    "start_time": "2024-05-18T04:00:55.159Z"
   },
   {
    "duration": 17,
    "start_time": "2024-05-18T04:00:55.221Z"
   },
   {
    "duration": 14,
    "start_time": "2024-05-18T04:00:55.245Z"
   },
   {
    "duration": 54,
    "start_time": "2024-05-18T04:00:55.262Z"
   },
   {
    "duration": 8,
    "start_time": "2024-05-18T04:00:55.319Z"
   },
   {
    "duration": 7,
    "start_time": "2024-05-18T04:00:55.330Z"
   },
   {
    "duration": 9,
    "start_time": "2024-05-18T04:00:55.339Z"
   },
   {
    "duration": 7,
    "start_time": "2024-05-18T04:00:55.353Z"
   },
   {
    "duration": 8,
    "start_time": "2024-05-18T04:00:55.410Z"
   },
   {
    "duration": 5,
    "start_time": "2024-05-18T04:00:55.422Z"
   },
   {
    "duration": 6,
    "start_time": "2024-05-18T04:00:55.430Z"
   },
   {
    "duration": 5,
    "start_time": "2024-05-18T04:00:55.439Z"
   },
   {
    "duration": 8,
    "start_time": "2024-05-18T04:00:55.447Z"
   },
   {
    "duration": 54,
    "start_time": "2024-05-18T04:00:55.458Z"
   },
   {
    "duration": 16,
    "start_time": "2024-05-18T04:00:55.516Z"
   },
   {
    "duration": 10,
    "start_time": "2024-05-18T04:00:55.535Z"
   },
   {
    "duration": 10,
    "start_time": "2024-05-18T04:00:55.548Z"
   },
   {
    "duration": 56,
    "start_time": "2024-05-18T04:00:55.562Z"
   },
   {
    "duration": 14,
    "start_time": "2024-05-18T04:00:55.620Z"
   },
   {
    "duration": 580,
    "start_time": "2024-05-18T04:00:55.637Z"
   },
   {
    "duration": 306,
    "start_time": "2024-05-18T04:00:56.223Z"
   },
   {
    "duration": 16,
    "start_time": "2024-05-18T04:00:56.532Z"
   },
   {
    "duration": 6,
    "start_time": "2024-05-18T04:00:56.551Z"
   },
   {
    "duration": 32,
    "start_time": "2024-05-18T04:01:27.357Z"
   },
   {
    "duration": 4,
    "start_time": "2024-05-18T04:02:19.972Z"
   },
   {
    "duration": 8,
    "start_time": "2024-05-18T04:02:21.025Z"
   },
   {
    "duration": 1304,
    "start_time": "2024-05-18T04:02:30.963Z"
   },
   {
    "duration": 22,
    "start_time": "2024-05-18T04:02:32.271Z"
   },
   {
    "duration": 24,
    "start_time": "2024-05-18T04:02:32.297Z"
   },
   {
    "duration": 13,
    "start_time": "2024-05-18T04:02:32.325Z"
   },
   {
    "duration": 14,
    "start_time": "2024-05-18T04:02:32.341Z"
   },
   {
    "duration": 17,
    "start_time": "2024-05-18T04:02:32.358Z"
   },
   {
    "duration": 17,
    "start_time": "2024-05-18T04:02:32.411Z"
   },
   {
    "duration": 15,
    "start_time": "2024-05-18T04:02:32.431Z"
   },
   {
    "duration": 18,
    "start_time": "2024-05-18T04:02:32.449Z"
   },
   {
    "duration": 26,
    "start_time": "2024-05-18T04:02:32.517Z"
   },
   {
    "duration": 18,
    "start_time": "2024-05-18T04:02:32.547Z"
   },
   {
    "duration": 40,
    "start_time": "2024-05-18T04:02:32.568Z"
   },
   {
    "duration": 7,
    "start_time": "2024-05-18T04:02:32.612Z"
   },
   {
    "duration": 8,
    "start_time": "2024-05-18T04:02:32.622Z"
   },
   {
    "duration": 6,
    "start_time": "2024-05-18T04:02:32.633Z"
   },
   {
    "duration": 7,
    "start_time": "2024-05-18T04:02:32.642Z"
   },
   {
    "duration": 3,
    "start_time": "2024-05-18T04:02:32.654Z"
   },
   {
    "duration": 53,
    "start_time": "2024-05-18T04:02:32.661Z"
   },
   {
    "duration": 5,
    "start_time": "2024-05-18T04:02:32.717Z"
   },
   {
    "duration": 6,
    "start_time": "2024-05-18T04:02:32.726Z"
   },
   {
    "duration": 6,
    "start_time": "2024-05-18T04:02:32.735Z"
   },
   {
    "duration": 7,
    "start_time": "2024-05-18T04:02:32.745Z"
   },
   {
    "duration": 58,
    "start_time": "2024-05-18T04:02:32.755Z"
   },
   {
    "duration": 15,
    "start_time": "2024-05-18T04:02:32.816Z"
   },
   {
    "duration": 10,
    "start_time": "2024-05-18T04:02:32.834Z"
   },
   {
    "duration": 11,
    "start_time": "2024-05-18T04:02:32.848Z"
   },
   {
    "duration": 58,
    "start_time": "2024-05-18T04:02:32.862Z"
   },
   {
    "duration": 16,
    "start_time": "2024-05-18T04:02:32.928Z"
   },
   {
    "duration": 580,
    "start_time": "2024-05-18T04:02:32.948Z"
   },
   {
    "duration": 312,
    "start_time": "2024-05-18T04:02:33.530Z"
   },
   {
    "duration": 15,
    "start_time": "2024-05-18T04:02:33.844Z"
   },
   {
    "duration": 6,
    "start_time": "2024-05-18T04:02:33.862Z"
   },
   {
    "duration": 1333,
    "start_time": "2024-05-18T04:11:58.518Z"
   },
   {
    "duration": 17,
    "start_time": "2024-05-18T04:11:59.855Z"
   },
   {
    "duration": 14,
    "start_time": "2024-05-18T04:11:59.875Z"
   },
   {
    "duration": 10,
    "start_time": "2024-05-18T04:11:59.908Z"
   },
   {
    "duration": 13,
    "start_time": "2024-05-18T04:11:59.922Z"
   },
   {
    "duration": 14,
    "start_time": "2024-05-18T04:11:59.938Z"
   },
   {
    "duration": 54,
    "start_time": "2024-05-18T04:11:59.955Z"
   },
   {
    "duration": 15,
    "start_time": "2024-05-18T04:12:00.012Z"
   },
   {
    "duration": 17,
    "start_time": "2024-05-18T04:12:00.029Z"
   },
   {
    "duration": 58,
    "start_time": "2024-05-18T04:12:00.051Z"
   },
   {
    "duration": 19,
    "start_time": "2024-05-18T04:12:00.112Z"
   },
   {
    "duration": 8,
    "start_time": "2024-05-18T04:12:00.134Z"
   },
   {
    "duration": 8,
    "start_time": "2024-05-18T04:12:00.146Z"
   },
   {
    "duration": 53,
    "start_time": "2024-05-18T04:12:00.158Z"
   },
   {
    "duration": 7,
    "start_time": "2024-05-18T04:12:00.214Z"
   },
   {
    "duration": 7,
    "start_time": "2024-05-18T04:12:00.224Z"
   },
   {
    "duration": 3,
    "start_time": "2024-05-18T04:12:00.234Z"
   },
   {
    "duration": 8,
    "start_time": "2024-05-18T04:12:00.241Z"
   },
   {
    "duration": 5,
    "start_time": "2024-05-18T04:12:00.252Z"
   },
   {
    "duration": 6,
    "start_time": "2024-05-18T04:12:00.308Z"
   },
   {
    "duration": 5,
    "start_time": "2024-05-18T04:12:00.318Z"
   },
   {
    "duration": 7,
    "start_time": "2024-05-18T04:12:00.326Z"
   },
   {
    "duration": 6,
    "start_time": "2024-05-18T04:12:00.337Z"
   },
   {
    "duration": 66,
    "start_time": "2024-05-18T04:12:00.347Z"
   },
   {
    "duration": 10,
    "start_time": "2024-05-18T04:12:00.416Z"
   },
   {
    "duration": 13,
    "start_time": "2024-05-18T04:12:00.429Z"
   },
   {
    "duration": 12,
    "start_time": "2024-05-18T04:12:00.444Z"
   },
   {
    "duration": 15,
    "start_time": "2024-05-18T04:12:00.508Z"
   },
   {
    "duration": 15,
    "start_time": "2024-05-18T04:12:00.525Z"
   },
   {
    "duration": 15,
    "start_time": "2024-05-18T04:12:00.543Z"
   },
   {
    "duration": 48,
    "start_time": "2024-05-18T04:12:00.562Z"
   },
   {
    "duration": 544,
    "start_time": "2024-05-18T04:12:00.613Z"
   },
   {
    "duration": 329,
    "start_time": "2024-05-18T04:12:01.161Z"
   },
   {
    "duration": 24,
    "start_time": "2024-05-18T04:12:01.493Z"
   },
   {
    "duration": 6,
    "start_time": "2024-05-18T04:12:01.520Z"
   },
   {
    "duration": 6,
    "start_time": "2024-05-18T04:33:29.032Z"
   },
   {
    "duration": 5,
    "start_time": "2024-05-18T04:35:13.193Z"
   },
   {
    "duration": 7,
    "start_time": "2024-05-18T04:35:14.169Z"
   },
   {
    "duration": 5,
    "start_time": "2024-05-18T04:35:17.457Z"
   },
   {
    "duration": 5,
    "start_time": "2024-05-18T04:35:18.569Z"
   },
   {
    "duration": 4,
    "start_time": "2024-05-18T04:36:51.529Z"
   },
   {
    "duration": 4,
    "start_time": "2024-05-18T04:36:52.647Z"
   },
   {
    "duration": 7,
    "start_time": "2024-05-18T04:36:53.972Z"
   },
   {
    "duration": 1383,
    "start_time": "2024-05-18T04:40:26.938Z"
   },
   {
    "duration": 21,
    "start_time": "2024-05-18T04:40:28.325Z"
   },
   {
    "duration": 18,
    "start_time": "2024-05-18T04:40:28.353Z"
   },
   {
    "duration": 35,
    "start_time": "2024-05-18T04:40:28.374Z"
   },
   {
    "duration": 12,
    "start_time": "2024-05-18T04:40:28.415Z"
   },
   {
    "duration": 17,
    "start_time": "2024-05-18T04:40:28.431Z"
   },
   {
    "duration": 58,
    "start_time": "2024-05-18T04:40:28.451Z"
   },
   {
    "duration": 19,
    "start_time": "2024-05-18T04:40:28.513Z"
   },
   {
    "duration": 19,
    "start_time": "2024-05-18T04:40:28.535Z"
   },
   {
    "duration": 52,
    "start_time": "2024-05-18T04:40:28.557Z"
   },
   {
    "duration": 15,
    "start_time": "2024-05-18T04:40:28.612Z"
   },
   {
    "duration": 7,
    "start_time": "2024-05-18T04:40:28.631Z"
   },
   {
    "duration": 10,
    "start_time": "2024-05-18T04:40:28.641Z"
   },
   {
    "duration": 52,
    "start_time": "2024-05-18T04:40:28.658Z"
   },
   {
    "duration": 7,
    "start_time": "2024-05-18T04:40:28.713Z"
   },
   {
    "duration": 7,
    "start_time": "2024-05-18T04:40:28.723Z"
   },
   {
    "duration": 4,
    "start_time": "2024-05-18T04:40:28.733Z"
   },
   {
    "duration": 8,
    "start_time": "2024-05-18T04:40:28.741Z"
   },
   {
    "duration": 58,
    "start_time": "2024-05-18T04:40:28.751Z"
   },
   {
    "duration": 7,
    "start_time": "2024-05-18T04:40:28.814Z"
   },
   {
    "duration": 7,
    "start_time": "2024-05-18T04:40:28.824Z"
   },
   {
    "duration": 7,
    "start_time": "2024-05-18T04:40:28.834Z"
   },
   {
    "duration": 7,
    "start_time": "2024-05-18T04:40:28.845Z"
   },
   {
    "duration": 65,
    "start_time": "2024-05-18T04:40:28.857Z"
   },
   {
    "duration": 14,
    "start_time": "2024-05-18T04:40:28.926Z"
   },
   {
    "duration": 11,
    "start_time": "2024-05-18T04:40:28.943Z"
   },
   {
    "duration": 52,
    "start_time": "2024-05-18T04:40:28.959Z"
   },
   {
    "duration": 15,
    "start_time": "2024-05-18T04:40:29.014Z"
   },
   {
    "duration": 15,
    "start_time": "2024-05-18T04:40:29.033Z"
   },
   {
    "duration": 19,
    "start_time": "2024-05-18T04:40:29.052Z"
   },
   {
    "duration": 24,
    "start_time": "2024-05-18T04:40:29.110Z"
   },
   {
    "duration": 581,
    "start_time": "2024-05-18T04:40:29.137Z"
   },
   {
    "duration": 336,
    "start_time": "2024-05-18T04:40:29.729Z"
   },
   {
    "duration": 16,
    "start_time": "2024-05-18T04:40:30.069Z"
   },
   {
    "duration": 26,
    "start_time": "2024-05-18T04:40:30.087Z"
   },
   {
    "duration": 5,
    "start_time": "2024-05-18T04:40:30.117Z"
   },
   {
    "duration": 9,
    "start_time": "2024-05-18T04:40:30.126Z"
   },
   {
    "duration": 6,
    "start_time": "2024-05-18T04:40:30.139Z"
   },
   {
    "duration": 6,
    "start_time": "2024-05-18T04:40:30.149Z"
   },
   {
    "duration": 52,
    "start_time": "2024-05-18T04:40:30.158Z"
   },
   {
    "duration": 1430,
    "start_time": "2024-05-18T04:52:56.644Z"
   },
   {
    "duration": 17,
    "start_time": "2024-05-18T04:52:58.078Z"
   },
   {
    "duration": 22,
    "start_time": "2024-05-18T04:52:58.098Z"
   },
   {
    "duration": 10,
    "start_time": "2024-05-18T04:52:58.124Z"
   },
   {
    "duration": 12,
    "start_time": "2024-05-18T04:52:58.137Z"
   },
   {
    "duration": 57,
    "start_time": "2024-05-18T04:52:58.153Z"
   },
   {
    "duration": 13,
    "start_time": "2024-05-18T04:52:58.213Z"
   },
   {
    "duration": 15,
    "start_time": "2024-05-18T04:52:58.228Z"
   },
   {
    "duration": 15,
    "start_time": "2024-05-18T04:52:58.246Z"
   },
   {
    "duration": 14,
    "start_time": "2024-05-18T04:52:58.308Z"
   },
   {
    "duration": 15,
    "start_time": "2024-05-18T04:52:58.325Z"
   },
   {
    "duration": 8,
    "start_time": "2024-05-18T04:52:58.344Z"
   },
   {
    "duration": 7,
    "start_time": "2024-05-18T04:52:58.355Z"
   },
   {
    "duration": 9,
    "start_time": "2024-05-18T04:52:58.408Z"
   },
   {
    "duration": 8,
    "start_time": "2024-05-18T04:52:58.420Z"
   },
   {
    "duration": 7,
    "start_time": "2024-05-18T04:52:58.431Z"
   },
   {
    "duration": 4,
    "start_time": "2024-05-18T04:52:58.440Z"
   },
   {
    "duration": 9,
    "start_time": "2024-05-18T04:52:58.447Z"
   },
   {
    "duration": 53,
    "start_time": "2024-05-18T04:52:58.459Z"
   },
   {
    "duration": 9,
    "start_time": "2024-05-18T04:52:58.516Z"
   },
   {
    "duration": 11,
    "start_time": "2024-05-18T04:52:58.528Z"
   },
   {
    "duration": 7,
    "start_time": "2024-05-18T04:52:58.542Z"
   },
   {
    "duration": 24,
    "start_time": "2024-05-18T04:52:58.552Z"
   },
   {
    "duration": 15,
    "start_time": "2024-05-18T04:52:58.608Z"
   },
   {
    "duration": 11,
    "start_time": "2024-05-18T04:52:58.626Z"
   },
   {
    "duration": 10,
    "start_time": "2024-05-18T04:52:58.640Z"
   },
   {
    "duration": 55,
    "start_time": "2024-05-18T04:52:58.653Z"
   },
   {
    "duration": 15,
    "start_time": "2024-05-18T04:52:58.715Z"
   },
   {
    "duration": 14,
    "start_time": "2024-05-18T04:52:58.733Z"
   },
   {
    "duration": 16,
    "start_time": "2024-05-18T04:52:58.750Z"
   },
   {
    "duration": 47,
    "start_time": "2024-05-18T04:52:58.769Z"
   },
   {
    "duration": 574,
    "start_time": "2024-05-18T04:52:58.819Z"
   },
   {
    "duration": 312,
    "start_time": "2024-05-18T04:52:59.396Z"
   },
   {
    "duration": 16,
    "start_time": "2024-05-18T04:52:59.712Z"
   },
   {
    "duration": 6,
    "start_time": "2024-05-18T04:52:59.731Z"
   },
   {
    "duration": 6,
    "start_time": "2024-05-18T04:52:59.740Z"
   },
   {
    "duration": 9,
    "start_time": "2024-05-18T04:52:59.749Z"
   },
   {
    "duration": 5,
    "start_time": "2024-05-18T04:52:59.808Z"
   },
   {
    "duration": 6,
    "start_time": "2024-05-18T04:52:59.816Z"
   },
   {
    "duration": 6,
    "start_time": "2024-05-18T04:52:59.825Z"
   },
   {
    "duration": 14,
    "start_time": "2024-05-18T04:59:03.258Z"
   },
   {
    "duration": 6,
    "start_time": "2024-05-18T04:59:09.668Z"
   },
   {
    "duration": 1299,
    "start_time": "2024-05-18T05:23:39.047Z"
   },
   {
    "duration": 17,
    "start_time": "2024-05-18T05:23:40.350Z"
   },
   {
    "duration": 15,
    "start_time": "2024-05-18T05:23:40.369Z"
   },
   {
    "duration": 10,
    "start_time": "2024-05-18T05:23:40.409Z"
   },
   {
    "duration": 12,
    "start_time": "2024-05-18T05:23:40.423Z"
   },
   {
    "duration": 15,
    "start_time": "2024-05-18T05:23:40.439Z"
   },
   {
    "duration": 51,
    "start_time": "2024-05-18T05:23:40.457Z"
   },
   {
    "duration": 15,
    "start_time": "2024-05-18T05:23:40.511Z"
   },
   {
    "duration": 14,
    "start_time": "2024-05-18T05:23:40.529Z"
   },
   {
    "duration": 17,
    "start_time": "2024-05-18T05:23:40.547Z"
   },
   {
    "duration": 54,
    "start_time": "2024-05-18T05:23:40.567Z"
   },
   {
    "duration": 8,
    "start_time": "2024-05-18T05:23:40.624Z"
   },
   {
    "duration": 8,
    "start_time": "2024-05-18T05:23:40.635Z"
   },
   {
    "duration": 9,
    "start_time": "2024-05-18T05:23:40.651Z"
   },
   {
    "duration": 8,
    "start_time": "2024-05-18T05:23:40.709Z"
   },
   {
    "duration": 8,
    "start_time": "2024-05-18T05:23:40.720Z"
   },
   {
    "duration": 7,
    "start_time": "2024-05-18T05:23:40.731Z"
   },
   {
    "duration": 9,
    "start_time": "2024-05-18T05:23:40.743Z"
   },
   {
    "duration": 52,
    "start_time": "2024-05-18T05:23:40.757Z"
   },
   {
    "duration": 6,
    "start_time": "2024-05-18T05:23:40.812Z"
   },
   {
    "duration": 6,
    "start_time": "2024-05-18T05:23:40.821Z"
   },
   {
    "duration": 8,
    "start_time": "2024-05-18T05:23:40.830Z"
   },
   {
    "duration": 5,
    "start_time": "2024-05-18T05:23:40.843Z"
   },
   {
    "duration": 59,
    "start_time": "2024-05-18T05:23:40.852Z"
   },
   {
    "duration": 9,
    "start_time": "2024-05-18T05:23:40.914Z"
   },
   {
    "duration": 13,
    "start_time": "2024-05-18T05:23:40.926Z"
   },
   {
    "duration": 13,
    "start_time": "2024-05-18T05:23:40.942Z"
   },
   {
    "duration": 61,
    "start_time": "2024-05-18T05:23:40.958Z"
   },
   {
    "duration": 15,
    "start_time": "2024-05-18T05:23:41.022Z"
   },
   {
    "duration": 15,
    "start_time": "2024-05-18T05:23:41.041Z"
   },
   {
    "duration": 51,
    "start_time": "2024-05-18T05:23:41.059Z"
   },
   {
    "duration": 540,
    "start_time": "2024-05-18T05:23:41.113Z"
   },
   {
    "duration": 323,
    "start_time": "2024-05-18T05:23:41.656Z"
   },
   {
    "duration": 14,
    "start_time": "2024-05-18T05:23:41.982Z"
   },
   {
    "duration": 6,
    "start_time": "2024-05-18T05:23:42.010Z"
   },
   {
    "duration": 5,
    "start_time": "2024-05-18T05:23:42.019Z"
   },
   {
    "duration": 8,
    "start_time": "2024-05-18T05:23:42.028Z"
   },
   {
    "duration": 6,
    "start_time": "2024-05-18T05:23:42.038Z"
   },
   {
    "duration": 5,
    "start_time": "2024-05-18T05:23:42.048Z"
   },
   {
    "duration": 57,
    "start_time": "2024-05-18T05:23:42.056Z"
   },
   {
    "duration": 1276,
    "start_time": "2024-05-18T05:26:27.177Z"
   },
   {
    "duration": 16,
    "start_time": "2024-05-18T05:26:28.457Z"
   },
   {
    "duration": 13,
    "start_time": "2024-05-18T05:26:28.477Z"
   },
   {
    "duration": 10,
    "start_time": "2024-05-18T05:26:28.508Z"
   },
   {
    "duration": 13,
    "start_time": "2024-05-18T05:26:28.521Z"
   },
   {
    "duration": 16,
    "start_time": "2024-05-18T05:26:28.537Z"
   },
   {
    "duration": 56,
    "start_time": "2024-05-18T05:26:28.556Z"
   },
   {
    "duration": 14,
    "start_time": "2024-05-18T05:26:28.616Z"
   },
   {
    "duration": 15,
    "start_time": "2024-05-18T05:26:28.633Z"
   },
   {
    "duration": 56,
    "start_time": "2024-05-18T05:26:28.654Z"
   },
   {
    "duration": 15,
    "start_time": "2024-05-18T05:26:28.713Z"
   },
   {
    "duration": 7,
    "start_time": "2024-05-18T05:26:28.731Z"
   },
   {
    "duration": 23,
    "start_time": "2024-05-18T05:26:28.741Z"
   },
   {
    "duration": 18,
    "start_time": "2024-05-18T05:26:28.767Z"
   },
   {
    "duration": 7,
    "start_time": "2024-05-18T05:26:28.808Z"
   },
   {
    "duration": 6,
    "start_time": "2024-05-18T05:26:28.818Z"
   },
   {
    "duration": 4,
    "start_time": "2024-05-18T05:26:28.827Z"
   },
   {
    "duration": 8,
    "start_time": "2024-05-18T05:26:28.834Z"
   },
   {
    "duration": 6,
    "start_time": "2024-05-18T05:26:28.845Z"
   },
   {
    "duration": 57,
    "start_time": "2024-05-18T05:26:28.854Z"
   },
   {
    "duration": 5,
    "start_time": "2024-05-18T05:26:28.914Z"
   },
   {
    "duration": 8,
    "start_time": "2024-05-18T05:26:28.922Z"
   },
   {
    "duration": 5,
    "start_time": "2024-05-18T05:26:28.934Z"
   },
   {
    "duration": 15,
    "start_time": "2024-05-18T05:26:28.942Z"
   },
   {
    "duration": 9,
    "start_time": "2024-05-18T05:26:29.008Z"
   },
   {
    "duration": 12,
    "start_time": "2024-05-18T05:26:29.020Z"
   },
   {
    "duration": 12,
    "start_time": "2024-05-18T05:26:29.036Z"
   },
   {
    "duration": 54,
    "start_time": "2024-05-18T05:26:29.056Z"
   },
   {
    "duration": 18,
    "start_time": "2024-05-18T05:26:29.113Z"
   },
   {
    "duration": 17,
    "start_time": "2024-05-18T05:26:29.134Z"
   },
   {
    "duration": 54,
    "start_time": "2024-05-18T05:26:29.154Z"
   },
   {
    "duration": 537,
    "start_time": "2024-05-18T05:26:29.212Z"
   },
   {
    "duration": 300,
    "start_time": "2024-05-18T05:26:29.753Z"
   },
   {
    "duration": 16,
    "start_time": "2024-05-18T05:26:30.056Z"
   },
   {
    "duration": 5,
    "start_time": "2024-05-18T05:26:30.075Z"
   },
   {
    "duration": 5,
    "start_time": "2024-05-18T05:26:30.109Z"
   },
   {
    "duration": 7,
    "start_time": "2024-05-18T05:26:30.118Z"
   },
   {
    "duration": 5,
    "start_time": "2024-05-18T05:26:30.128Z"
   },
   {
    "duration": 5,
    "start_time": "2024-05-18T05:26:30.136Z"
   },
   {
    "duration": 6,
    "start_time": "2024-05-18T05:26:30.145Z"
   },
   {
    "duration": 1321,
    "start_time": "2024-05-18T05:28:19.608Z"
   },
   {
    "duration": 17,
    "start_time": "2024-05-18T05:28:20.934Z"
   },
   {
    "duration": 15,
    "start_time": "2024-05-18T05:28:20.954Z"
   },
   {
    "duration": 36,
    "start_time": "2024-05-18T05:28:20.972Z"
   },
   {
    "duration": 12,
    "start_time": "2024-05-18T05:28:21.011Z"
   },
   {
    "duration": 14,
    "start_time": "2024-05-18T05:28:21.026Z"
   },
   {
    "duration": 15,
    "start_time": "2024-05-18T05:28:21.044Z"
   },
   {
    "duration": 56,
    "start_time": "2024-05-18T05:28:21.062Z"
   },
   {
    "duration": 15,
    "start_time": "2024-05-18T05:28:21.121Z"
   },
   {
    "duration": 14,
    "start_time": "2024-05-18T05:28:21.142Z"
   },
   {
    "duration": 55,
    "start_time": "2024-05-18T05:28:21.160Z"
   },
   {
    "duration": 7,
    "start_time": "2024-05-18T05:28:21.218Z"
   },
   {
    "duration": 8,
    "start_time": "2024-05-18T05:28:21.228Z"
   },
   {
    "duration": 9,
    "start_time": "2024-05-18T05:28:21.239Z"
   },
   {
    "duration": 7,
    "start_time": "2024-05-18T05:28:21.250Z"
   },
   {
    "duration": 7,
    "start_time": "2024-05-18T05:28:21.309Z"
   },
   {
    "duration": 3,
    "start_time": "2024-05-18T05:28:21.320Z"
   },
   {
    "duration": 9,
    "start_time": "2024-05-18T05:28:21.327Z"
   },
   {
    "duration": 6,
    "start_time": "2024-05-18T05:28:21.338Z"
   },
   {
    "duration": 6,
    "start_time": "2024-05-18T05:28:21.346Z"
   },
   {
    "duration": 54,
    "start_time": "2024-05-18T05:28:21.356Z"
   },
   {
    "duration": 8,
    "start_time": "2024-05-18T05:28:21.413Z"
   },
   {
    "duration": 6,
    "start_time": "2024-05-18T05:28:21.424Z"
   },
   {
    "duration": 17,
    "start_time": "2024-05-18T05:28:21.434Z"
   },
   {
    "duration": 11,
    "start_time": "2024-05-18T05:28:21.454Z"
   },
   {
    "duration": 48,
    "start_time": "2024-05-18T05:28:21.468Z"
   },
   {
    "duration": 13,
    "start_time": "2024-05-18T05:28:21.520Z"
   },
   {
    "duration": 15,
    "start_time": "2024-05-18T05:28:21.541Z"
   },
   {
    "duration": 61,
    "start_time": "2024-05-18T05:28:21.559Z"
   },
   {
    "duration": 15,
    "start_time": "2024-05-18T05:28:21.623Z"
   },
   {
    "duration": 12,
    "start_time": "2024-05-18T05:28:21.641Z"
   },
   {
    "duration": 577,
    "start_time": "2024-05-18T05:28:21.656Z"
   },
   {
    "duration": 325,
    "start_time": "2024-05-18T05:28:22.236Z"
   },
   {
    "duration": 16,
    "start_time": "2024-05-18T05:28:22.564Z"
   },
   {
    "duration": 6,
    "start_time": "2024-05-18T05:28:22.584Z"
   },
   {
    "duration": 18,
    "start_time": "2024-05-18T05:28:22.593Z"
   },
   {
    "duration": 8,
    "start_time": "2024-05-18T05:28:22.615Z"
   },
   {
    "duration": 6,
    "start_time": "2024-05-18T05:28:22.626Z"
   },
   {
    "duration": 5,
    "start_time": "2024-05-18T05:28:22.635Z"
   },
   {
    "duration": 6,
    "start_time": "2024-05-18T05:28:22.643Z"
   },
   {
    "duration": 1308,
    "start_time": "2024-05-18T05:29:25.500Z"
   },
   {
    "duration": 17,
    "start_time": "2024-05-18T05:29:26.812Z"
   },
   {
    "duration": 14,
    "start_time": "2024-05-18T05:29:26.832Z"
   },
   {
    "duration": 11,
    "start_time": "2024-05-18T05:29:26.850Z"
   },
   {
    "duration": 45,
    "start_time": "2024-05-18T05:29:26.863Z"
   },
   {
    "duration": 14,
    "start_time": "2024-05-18T05:29:26.911Z"
   },
   {
    "duration": 15,
    "start_time": "2024-05-18T05:29:26.928Z"
   },
   {
    "duration": 15,
    "start_time": "2024-05-18T05:29:26.947Z"
   },
   {
    "duration": 51,
    "start_time": "2024-05-18T05:29:26.965Z"
   },
   {
    "duration": 15,
    "start_time": "2024-05-18T05:29:27.023Z"
   },
   {
    "duration": 15,
    "start_time": "2024-05-18T05:29:27.041Z"
   },
   {
    "duration": 49,
    "start_time": "2024-05-18T05:29:27.059Z"
   },
   {
    "duration": 8,
    "start_time": "2024-05-18T05:29:27.111Z"
   },
   {
    "duration": 8,
    "start_time": "2024-05-18T05:29:27.122Z"
   },
   {
    "duration": 7,
    "start_time": "2024-05-18T05:29:27.133Z"
   },
   {
    "duration": 6,
    "start_time": "2024-05-18T05:29:27.144Z"
   },
   {
    "duration": 4,
    "start_time": "2024-05-18T05:29:27.153Z"
   },
   {
    "duration": 8,
    "start_time": "2024-05-18T05:29:27.211Z"
   },
   {
    "duration": 6,
    "start_time": "2024-05-18T05:29:27.222Z"
   },
   {
    "duration": 5,
    "start_time": "2024-05-18T05:29:27.231Z"
   },
   {
    "duration": 5,
    "start_time": "2024-05-18T05:29:27.240Z"
   },
   {
    "duration": 7,
    "start_time": "2024-05-18T05:29:27.248Z"
   },
   {
    "duration": 6,
    "start_time": "2024-05-18T05:29:27.311Z"
   },
   {
    "duration": 15,
    "start_time": "2024-05-18T05:29:27.321Z"
   },
   {
    "duration": 19,
    "start_time": "2024-05-18T05:29:27.340Z"
   },
   {
    "duration": 43,
    "start_time": "2024-05-18T05:29:27.365Z"
   },
   {
    "duration": 14,
    "start_time": "2024-05-18T05:29:27.412Z"
   },
   {
    "duration": 18,
    "start_time": "2024-05-18T05:29:27.445Z"
   },
   {
    "duration": 44,
    "start_time": "2024-05-18T05:29:27.466Z"
   },
   {
    "duration": 18,
    "start_time": "2024-05-18T05:29:27.514Z"
   },
   {
    "duration": 14,
    "start_time": "2024-05-18T05:29:27.535Z"
   },
   {
    "duration": 568,
    "start_time": "2024-05-18T05:29:27.553Z"
   },
   {
    "duration": 316,
    "start_time": "2024-05-18T05:29:28.124Z"
   },
   {
    "duration": 16,
    "start_time": "2024-05-18T05:29:28.443Z"
   },
   {
    "duration": 6,
    "start_time": "2024-05-18T05:29:28.463Z"
   },
   {
    "duration": 37,
    "start_time": "2024-05-18T05:29:28.472Z"
   },
   {
    "duration": 7,
    "start_time": "2024-05-18T05:29:28.513Z"
   },
   {
    "duration": 6,
    "start_time": "2024-05-18T05:29:28.524Z"
   },
   {
    "duration": 5,
    "start_time": "2024-05-18T05:29:28.534Z"
   },
   {
    "duration": 6,
    "start_time": "2024-05-18T05:29:28.543Z"
   },
   {
    "duration": 4984,
    "start_time": "2024-05-18T20:48:50.638Z"
   },
   {
    "duration": 24,
    "start_time": "2024-05-18T20:48:55.625Z"
   },
   {
    "duration": 14,
    "start_time": "2024-05-18T20:48:55.651Z"
   },
   {
    "duration": 12,
    "start_time": "2024-05-18T20:48:55.670Z"
   },
   {
    "duration": 36,
    "start_time": "2024-05-18T20:48:55.685Z"
   },
   {
    "duration": 14,
    "start_time": "2024-05-18T20:48:55.725Z"
   },
   {
    "duration": 14,
    "start_time": "2024-05-18T20:48:55.743Z"
   },
   {
    "duration": 58,
    "start_time": "2024-05-18T20:48:55.760Z"
   },
   {
    "duration": 14,
    "start_time": "2024-05-18T20:48:55.822Z"
   },
   {
    "duration": 15,
    "start_time": "2024-05-18T20:48:55.844Z"
   },
   {
    "duration": 51,
    "start_time": "2024-05-18T20:48:55.862Z"
   },
   {
    "duration": 7,
    "start_time": "2024-05-18T20:48:55.916Z"
   },
   {
    "duration": 7,
    "start_time": "2024-05-18T20:48:55.926Z"
   },
   {
    "duration": 8,
    "start_time": "2024-05-18T20:48:55.937Z"
   },
   {
    "duration": 7,
    "start_time": "2024-05-18T20:48:55.948Z"
   },
   {
    "duration": 55,
    "start_time": "2024-05-18T20:48:55.961Z"
   },
   {
    "duration": 4,
    "start_time": "2024-05-18T20:48:56.019Z"
   },
   {
    "duration": 8,
    "start_time": "2024-05-18T20:48:56.026Z"
   },
   {
    "duration": 6,
    "start_time": "2024-05-18T20:48:56.037Z"
   },
   {
    "duration": 6,
    "start_time": "2024-05-18T20:48:56.046Z"
   },
   {
    "duration": 58,
    "start_time": "2024-05-18T20:48:56.055Z"
   },
   {
    "duration": 6,
    "start_time": "2024-05-18T20:48:56.117Z"
   },
   {
    "duration": 5,
    "start_time": "2024-05-18T20:48:56.126Z"
   },
   {
    "duration": 14,
    "start_time": "2024-05-18T20:48:56.134Z"
   },
   {
    "duration": 11,
    "start_time": "2024-05-18T20:48:56.151Z"
   },
   {
    "duration": 56,
    "start_time": "2024-05-18T20:48:56.165Z"
   },
   {
    "duration": 12,
    "start_time": "2024-05-18T20:48:56.224Z"
   },
   {
    "duration": 16,
    "start_time": "2024-05-18T20:48:56.243Z"
   },
   {
    "duration": 56,
    "start_time": "2024-05-18T20:48:56.262Z"
   },
   {
    "duration": 15,
    "start_time": "2024-05-18T20:48:56.322Z"
   },
   {
    "duration": 11,
    "start_time": "2024-05-18T20:48:56.341Z"
   },
   {
    "duration": 580,
    "start_time": "2024-05-18T20:48:56.357Z"
   },
   {
    "duration": 309,
    "start_time": "2024-05-18T20:48:56.940Z"
   },
   {
    "duration": 15,
    "start_time": "2024-05-18T20:48:57.252Z"
   },
   {
    "duration": 6,
    "start_time": "2024-05-18T20:48:57.270Z"
   },
   {
    "duration": 34,
    "start_time": "2024-05-18T20:48:57.279Z"
   },
   {
    "duration": 7,
    "start_time": "2024-05-18T20:48:57.316Z"
   },
   {
    "duration": 5,
    "start_time": "2024-05-18T20:48:57.326Z"
   },
   {
    "duration": 6,
    "start_time": "2024-05-18T20:48:57.334Z"
   },
   {
    "duration": 6,
    "start_time": "2024-05-18T20:48:57.343Z"
   },
   {
    "duration": 5052,
    "start_time": "2024-05-20T06:50:29.064Z"
   },
   {
    "duration": 25,
    "start_time": "2024-05-20T06:50:34.120Z"
   },
   {
    "duration": 15,
    "start_time": "2024-05-20T06:50:34.147Z"
   },
   {
    "duration": 12,
    "start_time": "2024-05-20T06:50:34.169Z"
   },
   {
    "duration": 34,
    "start_time": "2024-05-20T06:50:34.184Z"
   },
   {
    "duration": 16,
    "start_time": "2024-05-20T06:50:34.221Z"
   },
   {
    "duration": 14,
    "start_time": "2024-05-20T06:50:34.240Z"
   },
   {
    "duration": 54,
    "start_time": "2024-05-20T06:50:34.257Z"
   },
   {
    "duration": 15,
    "start_time": "2024-05-20T06:50:34.314Z"
   },
   {
    "duration": 15,
    "start_time": "2024-05-20T06:50:34.334Z"
   },
   {
    "duration": 58,
    "start_time": "2024-05-20T06:50:34.352Z"
   },
   {
    "duration": 8,
    "start_time": "2024-05-20T06:50:34.413Z"
   },
   {
    "duration": 7,
    "start_time": "2024-05-20T06:50:34.425Z"
   },
   {
    "duration": 8,
    "start_time": "2024-05-20T06:50:34.435Z"
   },
   {
    "duration": 6,
    "start_time": "2024-05-20T06:50:34.447Z"
   },
   {
    "duration": 55,
    "start_time": "2024-05-20T06:50:34.456Z"
   },
   {
    "duration": 3,
    "start_time": "2024-05-20T06:50:34.515Z"
   },
   {
    "duration": 11,
    "start_time": "2024-05-20T06:50:34.522Z"
   },
   {
    "duration": 11,
    "start_time": "2024-05-20T06:50:34.536Z"
   },
   {
    "duration": 6,
    "start_time": "2024-05-20T06:50:34.553Z"
   },
   {
    "duration": 48,
    "start_time": "2024-05-20T06:50:34.562Z"
   },
   {
    "duration": 7,
    "start_time": "2024-05-20T06:50:34.614Z"
   },
   {
    "duration": 8,
    "start_time": "2024-05-20T06:50:34.624Z"
   },
   {
    "duration": 17,
    "start_time": "2024-05-20T06:50:34.635Z"
   },
   {
    "duration": 59,
    "start_time": "2024-05-20T06:50:34.655Z"
   },
   {
    "duration": 12,
    "start_time": "2024-05-20T06:50:34.719Z"
   },
   {
    "duration": 12,
    "start_time": "2024-05-20T06:50:34.735Z"
   },
   {
    "duration": 56,
    "start_time": "2024-05-20T06:50:34.754Z"
   },
   {
    "duration": 18,
    "start_time": "2024-05-20T06:50:34.814Z"
   },
   {
    "duration": 16,
    "start_time": "2024-05-20T06:50:34.834Z"
   },
   {
    "duration": 13,
    "start_time": "2024-05-20T06:50:34.853Z"
   },
   {
    "duration": 572,
    "start_time": "2024-05-20T06:50:34.869Z"
   },
   {
    "duration": 317,
    "start_time": "2024-05-20T06:50:35.444Z"
   },
   {
    "duration": 14,
    "start_time": "2024-05-20T06:50:35.765Z"
   },
   {
    "duration": 5,
    "start_time": "2024-05-20T06:50:35.782Z"
   },
   {
    "duration": 6,
    "start_time": "2024-05-20T06:50:35.808Z"
   },
   {
    "duration": 8,
    "start_time": "2024-05-20T06:50:35.817Z"
   },
   {
    "duration": 4,
    "start_time": "2024-05-20T06:50:35.828Z"
   },
   {
    "duration": 5,
    "start_time": "2024-05-20T06:50:35.835Z"
   },
   {
    "duration": 6,
    "start_time": "2024-05-20T06:50:35.843Z"
   },
   {
    "duration": 2952,
    "start_time": "2024-09-04T02:49:13.551Z"
   },
   {
    "duration": 18,
    "start_time": "2024-09-04T02:49:16.505Z"
   },
   {
    "duration": 11,
    "start_time": "2024-09-04T02:49:16.525Z"
   },
   {
    "duration": 7,
    "start_time": "2024-09-04T02:49:16.539Z"
   },
   {
    "duration": 8,
    "start_time": "2024-09-04T02:49:16.549Z"
   },
   {
    "duration": 11,
    "start_time": "2024-09-04T02:49:16.559Z"
   },
   {
    "duration": 7,
    "start_time": "2024-09-04T02:49:16.572Z"
   },
   {
    "duration": 7,
    "start_time": "2024-09-04T02:49:16.581Z"
   },
   {
    "duration": 39,
    "start_time": "2024-09-04T02:49:16.589Z"
   },
   {
    "duration": 14,
    "start_time": "2024-09-04T02:49:16.634Z"
   },
   {
    "duration": 11,
    "start_time": "2024-09-04T02:49:16.655Z"
   },
   {
    "duration": 5,
    "start_time": "2024-09-04T02:49:16.668Z"
   },
   {
    "duration": 4,
    "start_time": "2024-09-04T02:49:16.674Z"
   },
   {
    "duration": 4,
    "start_time": "2024-09-04T02:49:16.680Z"
   },
   {
    "duration": 3,
    "start_time": "2024-09-04T02:49:16.686Z"
   },
   {
    "duration": 33,
    "start_time": "2024-09-04T02:49:16.691Z"
   },
   {
    "duration": 2,
    "start_time": "2024-09-04T02:49:16.727Z"
   },
   {
    "duration": 9,
    "start_time": "2024-09-04T02:49:16.731Z"
   },
   {
    "duration": 4,
    "start_time": "2024-09-04T02:49:16.742Z"
   },
   {
    "duration": 4,
    "start_time": "2024-09-04T02:49:16.749Z"
   },
   {
    "duration": 4,
    "start_time": "2024-09-04T02:49:16.755Z"
   },
   {
    "duration": 4,
    "start_time": "2024-09-04T02:49:16.762Z"
   },
   {
    "duration": 4,
    "start_time": "2024-09-04T02:49:16.767Z"
   },
   {
    "duration": 9,
    "start_time": "2024-09-04T02:49:16.772Z"
   },
   {
    "duration": 45,
    "start_time": "2024-09-04T02:49:16.782Z"
   },
   {
    "duration": 9,
    "start_time": "2024-09-04T02:49:16.830Z"
   },
   {
    "duration": 13,
    "start_time": "2024-09-04T02:49:16.842Z"
   },
   {
    "duration": 9,
    "start_time": "2024-09-04T02:49:16.860Z"
   },
   {
    "duration": 7,
    "start_time": "2024-09-04T02:49:16.871Z"
   },
   {
    "duration": 8,
    "start_time": "2024-09-04T02:49:16.880Z"
   },
   {
    "duration": 35,
    "start_time": "2024-09-04T02:49:16.889Z"
   },
   {
    "duration": 330,
    "start_time": "2024-09-04T02:49:16.926Z"
   },
   {
    "duration": 199,
    "start_time": "2024-09-04T02:49:17.258Z"
   },
   {
    "duration": 10,
    "start_time": "2024-09-04T02:49:17.460Z"
   },
   {
    "duration": 4,
    "start_time": "2024-09-04T02:49:17.472Z"
   },
   {
    "duration": 3,
    "start_time": "2024-09-04T02:49:17.478Z"
   },
   {
    "duration": 5,
    "start_time": "2024-09-04T02:49:17.483Z"
   },
   {
    "duration": 39,
    "start_time": "2024-09-04T02:49:17.489Z"
   },
   {
    "duration": 5,
    "start_time": "2024-09-04T02:49:17.531Z"
   },
   {
    "duration": 5,
    "start_time": "2024-09-04T02:49:17.538Z"
   }
  ],
  "kernelspec": {
   "display_name": "Python 3 (ipykernel)",
   "language": "python",
   "name": "python3"
  },
  "language_info": {
   "codemirror_mode": {
    "name": "ipython",
    "version": 3
   },
   "file_extension": ".py",
   "mimetype": "text/x-python",
   "name": "python",
   "nbconvert_exporter": "python",
   "pygments_lexer": "ipython3",
   "version": "3.9.19"
  },
  "toc": {
   "base_numbering": 1,
   "nav_menu": {
    "height": "19.9826px",
    "width": "160px"
   },
   "number_sections": true,
   "sideBar": true,
   "skip_h1_title": true,
   "title_cell": "Table of Contents",
   "title_sidebar": "Contents",
   "toc_cell": false,
   "toc_position": {
    "height": "calc(100% - 180px)",
    "left": "10px",
    "top": "150px",
    "width": "344.167px"
   },
   "toc_section_display": true,
   "toc_window_display": false
  }
 },
 "nbformat": 4,
 "nbformat_minor": 2
}
